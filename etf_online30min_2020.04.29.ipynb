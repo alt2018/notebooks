{
 "cells": [
  {
   "cell_type": "markdown",
   "metadata": {},
   "source": [
    "# Online learning technical model for ETFs\n",
    "\n",
    "### Based of etf_online30min_2020.04.13.ipynb\n",
    "#### Removed all `log_open` and `log_dollar_volume` features since they might have a lookhead problem\n",
    "\n"
   ]
  },
  {
   "cell_type": "code",
   "execution_count": 8,
   "metadata": {},
   "outputs": [
    {
     "data": {
      "text/html": [
       "<div>\n",
       "<style scoped>\n",
       "    .dataframe tbody tr th:only-of-type {\n",
       "        vertical-align: middle;\n",
       "    }\n",
       "\n",
       "    .dataframe tbody tr th {\n",
       "        vertical-align: top;\n",
       "    }\n",
       "\n",
       "    .dataframe thead th {\n",
       "        text-align: right;\n",
       "    }\n",
       "</style>\n",
       "<table border=\"1\" class=\"dataframe\">\n",
       "  <thead>\n",
       "    <tr style=\"text-align: right;\">\n",
       "      <th></th>\n",
       "      <th>strike</th>\n",
       "      <th>option_type</th>\n",
       "      <th>num_contracts</th>\n",
       "      <th>cost</th>\n",
       "      <th>limit_price</th>\n",
       "      <th>quote_datetime</th>\n",
       "      <th>symbol</th>\n",
       "      <th>expiry</th>\n",
       "    </tr>\n",
       "  </thead>\n",
       "  <tbody>\n",
       "    <tr>\n",
       "      <td>11</td>\n",
       "      <td>2020.0</td>\n",
       "      <td>P</td>\n",
       "      <td>-69</td>\n",
       "      <td>-75.90</td>\n",
       "      <td>1.10</td>\n",
       "      <td>2020-04-23 10:00:00</td>\n",
       "      <td>SPX</td>\n",
       "      <td>2020-05-08</td>\n",
       "    </tr>\n",
       "    <tr>\n",
       "      <td>12</td>\n",
       "      <td>3025.0</td>\n",
       "      <td>C</td>\n",
       "      <td>2</td>\n",
       "      <td>14.00</td>\n",
       "      <td>7.00</td>\n",
       "      <td>2020-04-23 10:00:00</td>\n",
       "      <td>SPX</td>\n",
       "      <td>2020-05-08</td>\n",
       "    </tr>\n",
       "    <tr>\n",
       "      <td>47</td>\n",
       "      <td>2815.0</td>\n",
       "      <td>P</td>\n",
       "      <td>-2</td>\n",
       "      <td>-158.20</td>\n",
       "      <td>79.10</td>\n",
       "      <td>2020-04-23 10:00:00</td>\n",
       "      <td>SPX</td>\n",
       "      <td>2020-05-08</td>\n",
       "    </tr>\n",
       "    <tr>\n",
       "      <td>117</td>\n",
       "      <td>2030.0</td>\n",
       "      <td>P</td>\n",
       "      <td>-68</td>\n",
       "      <td>-78.20</td>\n",
       "      <td>1.15</td>\n",
       "      <td>2020-04-23 10:00:00</td>\n",
       "      <td>SPX</td>\n",
       "      <td>2020-05-08</td>\n",
       "    </tr>\n",
       "    <tr>\n",
       "      <td>118</td>\n",
       "      <td>2025.0</td>\n",
       "      <td>P</td>\n",
       "      <td>-86</td>\n",
       "      <td>-94.60</td>\n",
       "      <td>1.10</td>\n",
       "      <td>2020-04-23 10:00:00</td>\n",
       "      <td>SPX</td>\n",
       "      <td>2020-05-08</td>\n",
       "    </tr>\n",
       "    <tr>\n",
       "      <td>174</td>\n",
       "      <td>3020.0</td>\n",
       "      <td>C</td>\n",
       "      <td>1</td>\n",
       "      <td>7.60</td>\n",
       "      <td>7.60</td>\n",
       "      <td>2020-04-23 10:00:00</td>\n",
       "      <td>SPX</td>\n",
       "      <td>2020-05-08</td>\n",
       "    </tr>\n",
       "    <tr>\n",
       "      <td>203</td>\n",
       "      <td>2040.0</td>\n",
       "      <td>P</td>\n",
       "      <td>-22</td>\n",
       "      <td>-26.40</td>\n",
       "      <td>1.20</td>\n",
       "      <td>2020-04-23 10:00:00</td>\n",
       "      <td>SPX</td>\n",
       "      <td>2020-05-08</td>\n",
       "    </tr>\n",
       "    <tr>\n",
       "      <td>216</td>\n",
       "      <td>2180.0</td>\n",
       "      <td>P</td>\n",
       "      <td>89</td>\n",
       "      <td>222.50</td>\n",
       "      <td>2.50</td>\n",
       "      <td>2020-04-23 10:00:00</td>\n",
       "      <td>SPX</td>\n",
       "      <td>2020-05-08</td>\n",
       "    </tr>\n",
       "    <tr>\n",
       "      <td>268</td>\n",
       "      <td>2575.0</td>\n",
       "      <td>P</td>\n",
       "      <td>2</td>\n",
       "      <td>45.80</td>\n",
       "      <td>22.90</td>\n",
       "      <td>2020-04-23 10:00:00</td>\n",
       "      <td>SPX</td>\n",
       "      <td>2020-05-08</td>\n",
       "    </tr>\n",
       "    <tr>\n",
       "      <td>296</td>\n",
       "      <td>2010.0</td>\n",
       "      <td>P</td>\n",
       "      <td>-67</td>\n",
       "      <td>-70.35</td>\n",
       "      <td>1.05</td>\n",
       "      <td>2020-04-23 10:00:00</td>\n",
       "      <td>SPX</td>\n",
       "      <td>2020-05-08</td>\n",
       "    </tr>\n",
       "    <tr>\n",
       "      <td>325</td>\n",
       "      <td>2840.0</td>\n",
       "      <td>C</td>\n",
       "      <td>-3</td>\n",
       "      <td>-203.10</td>\n",
       "      <td>67.70</td>\n",
       "      <td>2020-04-23 10:00:00</td>\n",
       "      <td>SPX</td>\n",
       "      <td>2020-05-08</td>\n",
       "    </tr>\n",
       "  </tbody>\n",
       "</table>\n",
       "</div>"
      ],
      "text/plain": [
       "     strike option_type  num_contracts    cost  limit_price  \\\n",
       "11   2020.0           P            -69  -75.90         1.10   \n",
       "12   3025.0           C              2   14.00         7.00   \n",
       "47   2815.0           P             -2 -158.20        79.10   \n",
       "117  2030.0           P            -68  -78.20         1.15   \n",
       "118  2025.0           P            -86  -94.60         1.10   \n",
       "174  3020.0           C              1    7.60         7.60   \n",
       "203  2040.0           P            -22  -26.40         1.20   \n",
       "216  2180.0           P             89  222.50         2.50   \n",
       "268  2575.0           P              2   45.80        22.90   \n",
       "296  2010.0           P            -67  -70.35         1.05   \n",
       "325  2840.0           C             -3 -203.10        67.70   \n",
       "\n",
       "         quote_datetime symbol     expiry  \n",
       "11  2020-04-23 10:00:00    SPX 2020-05-08  \n",
       "12  2020-04-23 10:00:00    SPX 2020-05-08  \n",
       "47  2020-04-23 10:00:00    SPX 2020-05-08  \n",
       "117 2020-04-23 10:00:00    SPX 2020-05-08  \n",
       "118 2020-04-23 10:00:00    SPX 2020-05-08  \n",
       "174 2020-04-23 10:00:00    SPX 2020-05-08  \n",
       "203 2020-04-23 10:00:00    SPX 2020-05-08  \n",
       "216 2020-04-23 10:00:00    SPX 2020-05-08  \n",
       "268 2020-04-23 10:00:00    SPX 2020-05-08  \n",
       "296 2020-04-23 10:00:00    SPX 2020-05-08  \n",
       "325 2020-04-23 10:00:00    SPX 2020-05-08  "
      ]
     },
     "execution_count": 8,
     "metadata": {},
     "output_type": "execute_result"
    }
   ],
   "source": [
    "import pandas as pd\n",
    "\n",
    "df = pd.read_pickle( '/home/fj/experiments/spx-options/spock_strategy/2020.05.03_backtest_all_strikes/none/results_from_run/SPX_20200508_orders.bz2')\n",
    "df[df.num_contracts !=0 ]"
   ]
  },
  {
   "cell_type": "code",
   "execution_count": 9,
   "metadata": {},
   "outputs": [
    {
     "ename": "NameError",
     "evalue": "name 'da' is not defined",
     "output_type": "error",
     "traceback": [
      "\u001b[0;31m---------------------------------------------------------------------------\u001b[0m",
      "\u001b[0;31mNameError\u001b[0m                                 Traceback (most recent call last)",
      "\u001b[0;32m<ipython-input-9-74c07f1076cb>\u001b[0m in \u001b[0;36m<module>\u001b[0;34m\u001b[0m\n\u001b[0;32m----> 1\u001b[0;31m \u001b[0mda\u001b[0m\u001b[0;34m.\u001b[0m\u001b[0mloc\u001b[0m\u001b[0;34m[\u001b[0m\u001b[0;34m:\u001b[0m\u001b[0;34m,\u001b[0m\u001b[0;34m:\u001b[0m\u001b[0;34m,\u001b[0m\u001b[0;34m'lagrtn_adj_30min'\u001b[0m\u001b[0;34m]\u001b[0m\u001b[0;34m.\u001b[0m\u001b[0mstd\u001b[0m\u001b[0;34m(\u001b[0m\u001b[0mdim\u001b[0m\u001b[0;34m=\u001b[0m\u001b[0;34m'time'\u001b[0m\u001b[0;34m)\u001b[0m\u001b[0;34m\u001b[0m\u001b[0;34m\u001b[0m\u001b[0m\n\u001b[0m",
      "\u001b[0;31mNameError\u001b[0m: name 'da' is not defined"
     ]
    }
   ],
   "source": []
  },
  {
   "cell_type": "code",
   "execution_count": 1,
   "metadata": {
    "code_folding": [],
    "run_control": {
     "marked": true
    },
    "scrolled": true
   },
   "outputs": [
    {
     "name": "stdout",
     "output_type": "stream",
     "text": [
      "Created `%nbagg` as an alias for `%matplotlib nbagg`.\n",
      "Created `%inline` as an alias for `%matplotlib inline`.\n"
     ]
    },
    {
     "data": {
      "application/javascript": [
       "require.config({\n",
       "    paths: {\n",
       "        datatables: 'https://cdn.datatables.net/1.10.19/js/jquery.dataTables.min',\n",
       "    }\n",
       "});\n",
       "\n",
       "$('head').append('<link rel=\"stylesheet\" type=\"text/css\" \\\n",
       "                href = \"https://cdn.datatables.net/1.10.19/css/jquery.dataTables.min.css\" > ');\n",
       "\n",
       "$('head').append('<style> table td { text-overflow: ellipsis; overflow: hidden; } </style>');\n",
       "\n",
       "$('head').append(`<script>\n",
       "function eval_functions(map_or_text) {\n",
       "    if (typeof map_or_text === \"string\") {\n",
       "        if (map_or_text.startsWith(\"function\")) {\n",
       "            try {\n",
       "                // Note: parenthesis are required around the whole expression for eval to return a value!\n",
       "                // See https://stackoverflow.com/a/7399078/911298.\n",
       "                //\n",
       "                // eval(\"local_fun = \" + map_or_text) would fail because local_fun is not declared\n",
       "                // (using var, let or const would work, but it would only be declared in the local scope\n",
       "                // and therefore the value could not be retrieved).\n",
       "                const func = eval(\"(\" + map_or_text + \")\");\n",
       "                if (typeof func !== \"function\") {\n",
       "                    // Note: backquotes are super convenient!\n",
       "                    // https://developer.mozilla.org/en-US/docs/Web/JavaScript/Reference/Template_literals\n",
       "                    console.error(\"Evaluated expression \" + map_or_text + \" is not a function (type is \" + typeof func + \")\");\n",
       "                    return map_or_text;\n",
       "                }\n",
       "                // Return the function\n",
       "                return func;\n",
       "            } catch (e) {\n",
       "                // Make sure to print the error with a second argument to console.error().\n",
       "                console.error(\"itables was not able to parse \" + map_or_text, e);\n",
       "            }\n",
       "        }\n",
       "    } else if (typeof map_or_text === \"object\") {\n",
       "        if (map_or_text instanceof Array) {\n",
       "            // Note: \"var\" is now superseded by \"let\" and \"const\".\n",
       "            // https://medium.com/javascript-scene/javascript-es6-var-let-or-const-ba58b8dcde75\n",
       "            const result = [];\n",
       "            // Note: \"for of\" is the best way to iterate through an iterable.\n",
       "            // https://developer.mozilla.org/en-US/docs/Web/JavaScript/Reference/Statements/for...of\n",
       "            for (const item of map_or_text) {\n",
       "                result.push(eval_functions(item));\n",
       "            }\n",
       "            return result;\n",
       "\n",
       "            // Alternatively, more functional approach in one line:\n",
       "            // return map_or_text.map(eval_functions);\n",
       "        } else {\n",
       "            const result = {};\n",
       "            // Object.keys() is safer than \"for in\" because otherwise you might have keys\n",
       "            // that aren't defined in the object itself.\n",
       "            //\n",
       "            // See https://stackoverflow.com/a/684692/911298.\n",
       "            for (const item of Object.keys(map_or_text)) {\n",
       "                result[item] = eval_functions(map_or_text[item]);\n",
       "            }\n",
       "            return result;\n",
       "        }\n",
       "    }\n",
       "\n",
       "    return map_or_text;\n",
       "}\n",
       "</` + 'script>');"
      ],
      "text/plain": [
       "<IPython.core.display.Javascript object>"
      ]
     },
     "metadata": {},
     "output_type": "display_data"
    },
    {
     "data": {
      "text/html": [
       "<font face=\"Courier New\"><h1>&nbspConfig&nbspetf_technical/online/2020.04.29&nbsp</h1><br><b>&nbsphash</b>:&nbspnone&nbsp</h4><br><b>&nbspmode&nbsp</b>:&nbspNone<br><b>&nbspfrozen&nbsp</b>:&nbspFalse<br><b>&nbspuri&nbsp</b>:&nbsp/home/fj/experiments/etf_technical/online/2020.04.29/none<br><h3>&nbspHyperparameters&nbsp</h3><br>HPSet(<br>&nbsp;&nbsp;&nbsp;&nbsp&nbsp;&nbsp;&nbsp;&nbspmarket_hours=True,<br>&nbsp;&nbsp;&nbsp;&nbsp&nbsp;&nbsp;&nbsp;&nbsppost_market=False,<br>&nbsp;&nbsp;&nbsp;&nbsp&nbsp;&nbsp;&nbsp;&nbsppre_market=False,<br>&nbsp;&nbsp;&nbsp;&nbsp)<h3>&nbspCode&nbsp</h3><br><b>&nbspformat&nbsp</b>:&nbspNone<br><b>&nbspcode&nbsp</b>&nbsp:&nbspNone<br><br></font>"
      ],
      "text/plain": [
       "<IPython.core.display.HTML object>"
      ]
     },
     "metadata": {},
     "output_type": "display_data"
    }
   ],
   "source": [
    "# preamble\n",
    "%alias_magic  nbagg matplotlib -p nbagg\n",
    "%alias_magic  inline matplotlib -p inline\n",
    "%load_ext memory_profiler\n",
    "\n",
    "from io import BytesIO\n",
    "from IPython.display import display, Image, HTML\n",
    "from pylab import *\n",
    "plt.style.use( 'seaborn-whitegrid' )\n",
    "from madmax.api import *\n",
    "mx = mx.reload()\n",
    "mxtr = mxtr.reload()\n",
    "\n",
    "from research import yahoo; reload( yahoo)\n",
    "\n",
    "# create a configuration\n",
    "mx.Config.name = 'etf_technical/online/2020.04.29'\n",
    "mx.Config.start()\n",
    "mx.Config.hps = mx.HPSet(\n",
    "    # trade during market hours     \n",
    "    market_hours=True,\n",
    "    # trade after market hours\n",
    "    pre_market=False,\n",
    "    # trade pre market hours \n",
    "    post_market=False,\n",
    ")\n",
    "hps = mx.Config.hps\n",
    "\n",
    "dh( mx.Config )\n"
   ]
  },
  {
   "cell_type": "markdown",
   "metadata": {},
   "source": [
    "# Online linear model with 30min data\n",
    "------\n",
    "* 200 instruments\n",
    "* Both global and single instrument models\n",
    "* large numbers of features\n",
    "\n",
    "\n",
    "\n"
   ]
  },
  {
   "cell_type": "code",
   "execution_count": 2,
   "metadata": {
    "code_folding": [
     0
    ],
    "run_control": {
     "marked": true
    },
    "scrolled": true
   },
   "outputs": [
    {
     "name": "stderr",
     "output_type": "stream",
     "text": [
      "/home/fj/cloud/code/madmax/experiment/logging.py:104: UserWarning: Logger.log_uri not set. Try running Config.start() ? Will not write to disk \n",
      "  warnings.warn( 'Logger.log_uri not set. Try running Config.start() ? Will not write to disk ' )\n"
     ]
    },
    {
     "data": {
      "application/javascript": [
       "/* Put everything inside the global mpl namespace */\n",
       "window.mpl = {};\n",
       "\n",
       "\n",
       "mpl.get_websocket_type = function() {\n",
       "    if (typeof(WebSocket) !== 'undefined') {\n",
       "        return WebSocket;\n",
       "    } else if (typeof(MozWebSocket) !== 'undefined') {\n",
       "        return MozWebSocket;\n",
       "    } else {\n",
       "        alert('Your browser does not have WebSocket support. ' +\n",
       "              'Please try Chrome, Safari or Firefox ≥ 6. ' +\n",
       "              'Firefox 4 and 5 are also supported but you ' +\n",
       "              'have to enable WebSockets in about:config.');\n",
       "    };\n",
       "}\n",
       "\n",
       "mpl.figure = function(figure_id, websocket, ondownload, parent_element) {\n",
       "    this.id = figure_id;\n",
       "\n",
       "    this.ws = websocket;\n",
       "\n",
       "    this.supports_binary = (this.ws.binaryType != undefined);\n",
       "\n",
       "    if (!this.supports_binary) {\n",
       "        var warnings = document.getElementById(\"mpl-warnings\");\n",
       "        if (warnings) {\n",
       "            warnings.style.display = 'block';\n",
       "            warnings.textContent = (\n",
       "                \"This browser does not support binary websocket messages. \" +\n",
       "                    \"Performance may be slow.\");\n",
       "        }\n",
       "    }\n",
       "\n",
       "    this.imageObj = new Image();\n",
       "\n",
       "    this.context = undefined;\n",
       "    this.message = undefined;\n",
       "    this.canvas = undefined;\n",
       "    this.rubberband_canvas = undefined;\n",
       "    this.rubberband_context = undefined;\n",
       "    this.format_dropdown = undefined;\n",
       "\n",
       "    this.image_mode = 'full';\n",
       "\n",
       "    this.root = $('<div/>');\n",
       "    this._root_extra_style(this.root)\n",
       "    this.root.attr('style', 'display: inline-block');\n",
       "\n",
       "    $(parent_element).append(this.root);\n",
       "\n",
       "    this._init_header(this);\n",
       "    this._init_canvas(this);\n",
       "    this._init_toolbar(this);\n",
       "\n",
       "    var fig = this;\n",
       "\n",
       "    this.waiting = false;\n",
       "\n",
       "    this.ws.onopen =  function () {\n",
       "            fig.send_message(\"supports_binary\", {value: fig.supports_binary});\n",
       "            fig.send_message(\"send_image_mode\", {});\n",
       "            if (mpl.ratio != 1) {\n",
       "                fig.send_message(\"set_dpi_ratio\", {'dpi_ratio': mpl.ratio});\n",
       "            }\n",
       "            fig.send_message(\"refresh\", {});\n",
       "        }\n",
       "\n",
       "    this.imageObj.onload = function() {\n",
       "            if (fig.image_mode == 'full') {\n",
       "                // Full images could contain transparency (where diff images\n",
       "                // almost always do), so we need to clear the canvas so that\n",
       "                // there is no ghosting.\n",
       "                fig.context.clearRect(0, 0, fig.canvas.width, fig.canvas.height);\n",
       "            }\n",
       "            fig.context.drawImage(fig.imageObj, 0, 0);\n",
       "        };\n",
       "\n",
       "    this.imageObj.onunload = function() {\n",
       "        fig.ws.close();\n",
       "    }\n",
       "\n",
       "    this.ws.onmessage = this._make_on_message_function(this);\n",
       "\n",
       "    this.ondownload = ondownload;\n",
       "}\n",
       "\n",
       "mpl.figure.prototype._init_header = function() {\n",
       "    var titlebar = $(\n",
       "        '<div class=\"ui-dialog-titlebar ui-widget-header ui-corner-all ' +\n",
       "        'ui-helper-clearfix\"/>');\n",
       "    var titletext = $(\n",
       "        '<div class=\"ui-dialog-title\" style=\"width: 100%; ' +\n",
       "        'text-align: center; padding: 3px;\"/>');\n",
       "    titlebar.append(titletext)\n",
       "    this.root.append(titlebar);\n",
       "    this.header = titletext[0];\n",
       "}\n",
       "\n",
       "\n",
       "\n",
       "mpl.figure.prototype._canvas_extra_style = function(canvas_div) {\n",
       "\n",
       "}\n",
       "\n",
       "\n",
       "mpl.figure.prototype._root_extra_style = function(canvas_div) {\n",
       "\n",
       "}\n",
       "\n",
       "mpl.figure.prototype._init_canvas = function() {\n",
       "    var fig = this;\n",
       "\n",
       "    var canvas_div = $('<div/>');\n",
       "\n",
       "    canvas_div.attr('style', 'position: relative; clear: both; outline: 0');\n",
       "\n",
       "    function canvas_keyboard_event(event) {\n",
       "        return fig.key_event(event, event['data']);\n",
       "    }\n",
       "\n",
       "    canvas_div.keydown('key_press', canvas_keyboard_event);\n",
       "    canvas_div.keyup('key_release', canvas_keyboard_event);\n",
       "    this.canvas_div = canvas_div\n",
       "    this._canvas_extra_style(canvas_div)\n",
       "    this.root.append(canvas_div);\n",
       "\n",
       "    var canvas = $('<canvas/>');\n",
       "    canvas.addClass('mpl-canvas');\n",
       "    canvas.attr('style', \"left: 0; top: 0; z-index: 0; outline: 0\")\n",
       "\n",
       "    this.canvas = canvas[0];\n",
       "    this.context = canvas[0].getContext(\"2d\");\n",
       "\n",
       "    var backingStore = this.context.backingStorePixelRatio ||\n",
       "\tthis.context.webkitBackingStorePixelRatio ||\n",
       "\tthis.context.mozBackingStorePixelRatio ||\n",
       "\tthis.context.msBackingStorePixelRatio ||\n",
       "\tthis.context.oBackingStorePixelRatio ||\n",
       "\tthis.context.backingStorePixelRatio || 1;\n",
       "\n",
       "    mpl.ratio = (window.devicePixelRatio || 1) / backingStore;\n",
       "\n",
       "    var rubberband = $('<canvas/>');\n",
       "    rubberband.attr('style', \"position: absolute; left: 0; top: 0; z-index: 1;\")\n",
       "\n",
       "    var pass_mouse_events = true;\n",
       "\n",
       "    canvas_div.resizable({\n",
       "        start: function(event, ui) {\n",
       "            pass_mouse_events = false;\n",
       "        },\n",
       "        resize: function(event, ui) {\n",
       "            fig.request_resize(ui.size.width, ui.size.height);\n",
       "        },\n",
       "        stop: function(event, ui) {\n",
       "            pass_mouse_events = true;\n",
       "            fig.request_resize(ui.size.width, ui.size.height);\n",
       "        },\n",
       "    });\n",
       "\n",
       "    function mouse_event_fn(event) {\n",
       "        if (pass_mouse_events)\n",
       "            return fig.mouse_event(event, event['data']);\n",
       "    }\n",
       "\n",
       "    rubberband.mousedown('button_press', mouse_event_fn);\n",
       "    rubberband.mouseup('button_release', mouse_event_fn);\n",
       "    // Throttle sequential mouse events to 1 every 20ms.\n",
       "    rubberband.mousemove('motion_notify', mouse_event_fn);\n",
       "\n",
       "    rubberband.mouseenter('figure_enter', mouse_event_fn);\n",
       "    rubberband.mouseleave('figure_leave', mouse_event_fn);\n",
       "\n",
       "    canvas_div.on(\"wheel\", function (event) {\n",
       "        event = event.originalEvent;\n",
       "        event['data'] = 'scroll'\n",
       "        if (event.deltaY < 0) {\n",
       "            event.step = 1;\n",
       "        } else {\n",
       "            event.step = -1;\n",
       "        }\n",
       "        mouse_event_fn(event);\n",
       "    });\n",
       "\n",
       "    canvas_div.append(canvas);\n",
       "    canvas_div.append(rubberband);\n",
       "\n",
       "    this.rubberband = rubberband;\n",
       "    this.rubberband_canvas = rubberband[0];\n",
       "    this.rubberband_context = rubberband[0].getContext(\"2d\");\n",
       "    this.rubberband_context.strokeStyle = \"#000000\";\n",
       "\n",
       "    this._resize_canvas = function(width, height) {\n",
       "        // Keep the size of the canvas, canvas container, and rubber band\n",
       "        // canvas in synch.\n",
       "        canvas_div.css('width', width)\n",
       "        canvas_div.css('height', height)\n",
       "\n",
       "        canvas.attr('width', width * mpl.ratio);\n",
       "        canvas.attr('height', height * mpl.ratio);\n",
       "        canvas.attr('style', 'width: ' + width + 'px; height: ' + height + 'px;');\n",
       "\n",
       "        rubberband.attr('width', width);\n",
       "        rubberband.attr('height', height);\n",
       "    }\n",
       "\n",
       "    // Set the figure to an initial 600x600px, this will subsequently be updated\n",
       "    // upon first draw.\n",
       "    this._resize_canvas(600, 600);\n",
       "\n",
       "    // Disable right mouse context menu.\n",
       "    $(this.rubberband_canvas).bind(\"contextmenu\",function(e){\n",
       "        return false;\n",
       "    });\n",
       "\n",
       "    function set_focus () {\n",
       "        canvas.focus();\n",
       "        canvas_div.focus();\n",
       "    }\n",
       "\n",
       "    window.setTimeout(set_focus, 100);\n",
       "}\n",
       "\n",
       "mpl.figure.prototype._init_toolbar = function() {\n",
       "    var fig = this;\n",
       "\n",
       "    var nav_element = $('<div/>');\n",
       "    nav_element.attr('style', 'width: 100%');\n",
       "    this.root.append(nav_element);\n",
       "\n",
       "    // Define a callback function for later on.\n",
       "    function toolbar_event(event) {\n",
       "        return fig.toolbar_button_onclick(event['data']);\n",
       "    }\n",
       "    function toolbar_mouse_event(event) {\n",
       "        return fig.toolbar_button_onmouseover(event['data']);\n",
       "    }\n",
       "\n",
       "    for(var toolbar_ind in mpl.toolbar_items) {\n",
       "        var name = mpl.toolbar_items[toolbar_ind][0];\n",
       "        var tooltip = mpl.toolbar_items[toolbar_ind][1];\n",
       "        var image = mpl.toolbar_items[toolbar_ind][2];\n",
       "        var method_name = mpl.toolbar_items[toolbar_ind][3];\n",
       "\n",
       "        if (!name) {\n",
       "            // put a spacer in here.\n",
       "            continue;\n",
       "        }\n",
       "        var button = $('<button/>');\n",
       "        button.addClass('ui-button ui-widget ui-state-default ui-corner-all ' +\n",
       "                        'ui-button-icon-only');\n",
       "        button.attr('role', 'button');\n",
       "        button.attr('aria-disabled', 'false');\n",
       "        button.click(method_name, toolbar_event);\n",
       "        button.mouseover(tooltip, toolbar_mouse_event);\n",
       "\n",
       "        var icon_img = $('<span/>');\n",
       "        icon_img.addClass('ui-button-icon-primary ui-icon');\n",
       "        icon_img.addClass(image);\n",
       "        icon_img.addClass('ui-corner-all');\n",
       "\n",
       "        var tooltip_span = $('<span/>');\n",
       "        tooltip_span.addClass('ui-button-text');\n",
       "        tooltip_span.html(tooltip);\n",
       "\n",
       "        button.append(icon_img);\n",
       "        button.append(tooltip_span);\n",
       "\n",
       "        nav_element.append(button);\n",
       "    }\n",
       "\n",
       "    var fmt_picker_span = $('<span/>');\n",
       "\n",
       "    var fmt_picker = $('<select/>');\n",
       "    fmt_picker.addClass('mpl-toolbar-option ui-widget ui-widget-content');\n",
       "    fmt_picker_span.append(fmt_picker);\n",
       "    nav_element.append(fmt_picker_span);\n",
       "    this.format_dropdown = fmt_picker[0];\n",
       "\n",
       "    for (var ind in mpl.extensions) {\n",
       "        var fmt = mpl.extensions[ind];\n",
       "        var option = $(\n",
       "            '<option/>', {selected: fmt === mpl.default_extension}).html(fmt);\n",
       "        fmt_picker.append(option);\n",
       "    }\n",
       "\n",
       "    // Add hover states to the ui-buttons\n",
       "    $( \".ui-button\" ).hover(\n",
       "        function() { $(this).addClass(\"ui-state-hover\");},\n",
       "        function() { $(this).removeClass(\"ui-state-hover\");}\n",
       "    );\n",
       "\n",
       "    var status_bar = $('<span class=\"mpl-message\"/>');\n",
       "    nav_element.append(status_bar);\n",
       "    this.message = status_bar[0];\n",
       "}\n",
       "\n",
       "mpl.figure.prototype.request_resize = function(x_pixels, y_pixels) {\n",
       "    // Request matplotlib to resize the figure. Matplotlib will then trigger a resize in the client,\n",
       "    // which will in turn request a refresh of the image.\n",
       "    this.send_message('resize', {'width': x_pixels, 'height': y_pixels});\n",
       "}\n",
       "\n",
       "mpl.figure.prototype.send_message = function(type, properties) {\n",
       "    properties['type'] = type;\n",
       "    properties['figure_id'] = this.id;\n",
       "    this.ws.send(JSON.stringify(properties));\n",
       "}\n",
       "\n",
       "mpl.figure.prototype.send_draw_message = function() {\n",
       "    if (!this.waiting) {\n",
       "        this.waiting = true;\n",
       "        this.ws.send(JSON.stringify({type: \"draw\", figure_id: this.id}));\n",
       "    }\n",
       "}\n",
       "\n",
       "\n",
       "mpl.figure.prototype.handle_save = function(fig, msg) {\n",
       "    var format_dropdown = fig.format_dropdown;\n",
       "    var format = format_dropdown.options[format_dropdown.selectedIndex].value;\n",
       "    fig.ondownload(fig, format);\n",
       "}\n",
       "\n",
       "\n",
       "mpl.figure.prototype.handle_resize = function(fig, msg) {\n",
       "    var size = msg['size'];\n",
       "    if (size[0] != fig.canvas.width || size[1] != fig.canvas.height) {\n",
       "        fig._resize_canvas(size[0], size[1]);\n",
       "        fig.send_message(\"refresh\", {});\n",
       "    };\n",
       "}\n",
       "\n",
       "mpl.figure.prototype.handle_rubberband = function(fig, msg) {\n",
       "    var x0 = msg['x0'] / mpl.ratio;\n",
       "    var y0 = (fig.canvas.height - msg['y0']) / mpl.ratio;\n",
       "    var x1 = msg['x1'] / mpl.ratio;\n",
       "    var y1 = (fig.canvas.height - msg['y1']) / mpl.ratio;\n",
       "    x0 = Math.floor(x0) + 0.5;\n",
       "    y0 = Math.floor(y0) + 0.5;\n",
       "    x1 = Math.floor(x1) + 0.5;\n",
       "    y1 = Math.floor(y1) + 0.5;\n",
       "    var min_x = Math.min(x0, x1);\n",
       "    var min_y = Math.min(y0, y1);\n",
       "    var width = Math.abs(x1 - x0);\n",
       "    var height = Math.abs(y1 - y0);\n",
       "\n",
       "    fig.rubberband_context.clearRect(\n",
       "        0, 0, fig.canvas.width / mpl.ratio, fig.canvas.height / mpl.ratio);\n",
       "\n",
       "    fig.rubberband_context.strokeRect(min_x, min_y, width, height);\n",
       "}\n",
       "\n",
       "mpl.figure.prototype.handle_figure_label = function(fig, msg) {\n",
       "    // Updates the figure title.\n",
       "    fig.header.textContent = msg['label'];\n",
       "}\n",
       "\n",
       "mpl.figure.prototype.handle_cursor = function(fig, msg) {\n",
       "    var cursor = msg['cursor'];\n",
       "    switch(cursor)\n",
       "    {\n",
       "    case 0:\n",
       "        cursor = 'pointer';\n",
       "        break;\n",
       "    case 1:\n",
       "        cursor = 'default';\n",
       "        break;\n",
       "    case 2:\n",
       "        cursor = 'crosshair';\n",
       "        break;\n",
       "    case 3:\n",
       "        cursor = 'move';\n",
       "        break;\n",
       "    }\n",
       "    fig.rubberband_canvas.style.cursor = cursor;\n",
       "}\n",
       "\n",
       "mpl.figure.prototype.handle_message = function(fig, msg) {\n",
       "    fig.message.textContent = msg['message'];\n",
       "}\n",
       "\n",
       "mpl.figure.prototype.handle_draw = function(fig, msg) {\n",
       "    // Request the server to send over a new figure.\n",
       "    fig.send_draw_message();\n",
       "}\n",
       "\n",
       "mpl.figure.prototype.handle_image_mode = function(fig, msg) {\n",
       "    fig.image_mode = msg['mode'];\n",
       "}\n",
       "\n",
       "mpl.figure.prototype.updated_canvas_event = function() {\n",
       "    // Called whenever the canvas gets updated.\n",
       "    this.send_message(\"ack\", {});\n",
       "}\n",
       "\n",
       "// A function to construct a web socket function for onmessage handling.\n",
       "// Called in the figure constructor.\n",
       "mpl.figure.prototype._make_on_message_function = function(fig) {\n",
       "    return function socket_on_message(evt) {\n",
       "        if (evt.data instanceof Blob) {\n",
       "            /* FIXME: We get \"Resource interpreted as Image but\n",
       "             * transferred with MIME type text/plain:\" errors on\n",
       "             * Chrome.  But how to set the MIME type?  It doesn't seem\n",
       "             * to be part of the websocket stream */\n",
       "            evt.data.type = \"image/png\";\n",
       "\n",
       "            /* Free the memory for the previous frames */\n",
       "            if (fig.imageObj.src) {\n",
       "                (window.URL || window.webkitURL).revokeObjectURL(\n",
       "                    fig.imageObj.src);\n",
       "            }\n",
       "\n",
       "            fig.imageObj.src = (window.URL || window.webkitURL).createObjectURL(\n",
       "                evt.data);\n",
       "            fig.updated_canvas_event();\n",
       "            fig.waiting = false;\n",
       "            return;\n",
       "        }\n",
       "        else if (typeof evt.data === 'string' && evt.data.slice(0, 21) == \"data:image/png;base64\") {\n",
       "            fig.imageObj.src = evt.data;\n",
       "            fig.updated_canvas_event();\n",
       "            fig.waiting = false;\n",
       "            return;\n",
       "        }\n",
       "\n",
       "        var msg = JSON.parse(evt.data);\n",
       "        var msg_type = msg['type'];\n",
       "\n",
       "        // Call the  \"handle_{type}\" callback, which takes\n",
       "        // the figure and JSON message as its only arguments.\n",
       "        try {\n",
       "            var callback = fig[\"handle_\" + msg_type];\n",
       "        } catch (e) {\n",
       "            console.log(\"No handler for the '\" + msg_type + \"' message type: \", msg);\n",
       "            return;\n",
       "        }\n",
       "\n",
       "        if (callback) {\n",
       "            try {\n",
       "                // console.log(\"Handling '\" + msg_type + \"' message: \", msg);\n",
       "                callback(fig, msg);\n",
       "            } catch (e) {\n",
       "                console.log(\"Exception inside the 'handler_\" + msg_type + \"' callback:\", e, e.stack, msg);\n",
       "            }\n",
       "        }\n",
       "    };\n",
       "}\n",
       "\n",
       "// from http://stackoverflow.com/questions/1114465/getting-mouse-location-in-canvas\n",
       "mpl.findpos = function(e) {\n",
       "    //this section is from http://www.quirksmode.org/js/events_properties.html\n",
       "    var targ;\n",
       "    if (!e)\n",
       "        e = window.event;\n",
       "    if (e.target)\n",
       "        targ = e.target;\n",
       "    else if (e.srcElement)\n",
       "        targ = e.srcElement;\n",
       "    if (targ.nodeType == 3) // defeat Safari bug\n",
       "        targ = targ.parentNode;\n",
       "\n",
       "    // jQuery normalizes the pageX and pageY\n",
       "    // pageX,Y are the mouse positions relative to the document\n",
       "    // offset() returns the position of the element relative to the document\n",
       "    var x = e.pageX - $(targ).offset().left;\n",
       "    var y = e.pageY - $(targ).offset().top;\n",
       "\n",
       "    return {\"x\": x, \"y\": y};\n",
       "};\n",
       "\n",
       "/*\n",
       " * return a copy of an object with only non-object keys\n",
       " * we need this to avoid circular references\n",
       " * http://stackoverflow.com/a/24161582/3208463\n",
       " */\n",
       "function simpleKeys (original) {\n",
       "  return Object.keys(original).reduce(function (obj, key) {\n",
       "    if (typeof original[key] !== 'object')\n",
       "        obj[key] = original[key]\n",
       "    return obj;\n",
       "  }, {});\n",
       "}\n",
       "\n",
       "mpl.figure.prototype.mouse_event = function(event, name) {\n",
       "    var canvas_pos = mpl.findpos(event)\n",
       "\n",
       "    if (name === 'button_press')\n",
       "    {\n",
       "        this.canvas.focus();\n",
       "        this.canvas_div.focus();\n",
       "    }\n",
       "\n",
       "    var x = canvas_pos.x * mpl.ratio;\n",
       "    var y = canvas_pos.y * mpl.ratio;\n",
       "\n",
       "    this.send_message(name, {x: x, y: y, button: event.button,\n",
       "                             step: event.step,\n",
       "                             guiEvent: simpleKeys(event)});\n",
       "\n",
       "    /* This prevents the web browser from automatically changing to\n",
       "     * the text insertion cursor when the button is pressed.  We want\n",
       "     * to control all of the cursor setting manually through the\n",
       "     * 'cursor' event from matplotlib */\n",
       "    event.preventDefault();\n",
       "    return false;\n",
       "}\n",
       "\n",
       "mpl.figure.prototype._key_event_extra = function(event, name) {\n",
       "    // Handle any extra behaviour associated with a key event\n",
       "}\n",
       "\n",
       "mpl.figure.prototype.key_event = function(event, name) {\n",
       "\n",
       "    // Prevent repeat events\n",
       "    if (name == 'key_press')\n",
       "    {\n",
       "        if (event.which === this._key)\n",
       "            return;\n",
       "        else\n",
       "            this._key = event.which;\n",
       "    }\n",
       "    if (name == 'key_release')\n",
       "        this._key = null;\n",
       "\n",
       "    var value = '';\n",
       "    if (event.ctrlKey && event.which != 17)\n",
       "        value += \"ctrl+\";\n",
       "    if (event.altKey && event.which != 18)\n",
       "        value += \"alt+\";\n",
       "    if (event.shiftKey && event.which != 16)\n",
       "        value += \"shift+\";\n",
       "\n",
       "    value += 'k';\n",
       "    value += event.which.toString();\n",
       "\n",
       "    this._key_event_extra(event, name);\n",
       "\n",
       "    this.send_message(name, {key: value,\n",
       "                             guiEvent: simpleKeys(event)});\n",
       "    return false;\n",
       "}\n",
       "\n",
       "mpl.figure.prototype.toolbar_button_onclick = function(name) {\n",
       "    if (name == 'download') {\n",
       "        this.handle_save(this, null);\n",
       "    } else {\n",
       "        this.send_message(\"toolbar_button\", {name: name});\n",
       "    }\n",
       "};\n",
       "\n",
       "mpl.figure.prototype.toolbar_button_onmouseover = function(tooltip) {\n",
       "    this.message.textContent = tooltip;\n",
       "};\n",
       "mpl.toolbar_items = [[\"Home\", \"Reset original view\", \"fa fa-home icon-home\", \"home\"], [\"Back\", \"Back to previous view\", \"fa fa-arrow-left icon-arrow-left\", \"back\"], [\"Forward\", \"Forward to next view\", \"fa fa-arrow-right icon-arrow-right\", \"forward\"], [\"\", \"\", \"\", \"\"], [\"Pan\", \"Pan axes with left mouse, zoom with right\", \"fa fa-arrows icon-move\", \"pan\"], [\"Zoom\", \"Zoom to rectangle\", \"fa fa-square-o icon-check-empty\", \"zoom\"], [\"\", \"\", \"\", \"\"], [\"Download\", \"Download plot\", \"fa fa-floppy-o icon-save\", \"download\"]];\n",
       "\n",
       "mpl.extensions = [\"eps\", \"jpeg\", \"pdf\", \"png\", \"ps\", \"raw\", \"svg\", \"tif\"];\n",
       "\n",
       "mpl.default_extension = \"png\";var comm_websocket_adapter = function(comm) {\n",
       "    // Create a \"websocket\"-like object which calls the given IPython comm\n",
       "    // object with the appropriate methods. Currently this is a non binary\n",
       "    // socket, so there is still some room for performance tuning.\n",
       "    var ws = {};\n",
       "\n",
       "    ws.close = function() {\n",
       "        comm.close()\n",
       "    };\n",
       "    ws.send = function(m) {\n",
       "        //console.log('sending', m);\n",
       "        comm.send(m);\n",
       "    };\n",
       "    // Register the callback with on_msg.\n",
       "    comm.on_msg(function(msg) {\n",
       "        //console.log('receiving', msg['content']['data'], msg);\n",
       "        // Pass the mpl event to the overridden (by mpl) onmessage function.\n",
       "        ws.onmessage(msg['content']['data'])\n",
       "    });\n",
       "    return ws;\n",
       "}\n",
       "\n",
       "mpl.mpl_figure_comm = function(comm, msg) {\n",
       "    // This is the function which gets called when the mpl process\n",
       "    // starts-up an IPython Comm through the \"matplotlib\" channel.\n",
       "\n",
       "    var id = msg.content.data.id;\n",
       "    // Get hold of the div created by the display call when the Comm\n",
       "    // socket was opened in Python.\n",
       "    var element = $(\"#\" + id);\n",
       "    var ws_proxy = comm_websocket_adapter(comm)\n",
       "\n",
       "    function ondownload(figure, format) {\n",
       "        window.open(figure.imageObj.src);\n",
       "    }\n",
       "\n",
       "    var fig = new mpl.figure(id, ws_proxy,\n",
       "                           ondownload,\n",
       "                           element.get(0));\n",
       "\n",
       "    // Call onopen now - mpl needs it, as it is assuming we've passed it a real\n",
       "    // web socket which is closed, not our websocket->open comm proxy.\n",
       "    ws_proxy.onopen();\n",
       "\n",
       "    fig.parent_element = element.get(0);\n",
       "    fig.cell_info = mpl.find_output_cell(\"<div id='\" + id + \"'></div>\");\n",
       "    if (!fig.cell_info) {\n",
       "        console.error(\"Failed to find cell for figure\", id, fig);\n",
       "        return;\n",
       "    }\n",
       "\n",
       "    var output_index = fig.cell_info[2]\n",
       "    var cell = fig.cell_info[0];\n",
       "\n",
       "};\n",
       "\n",
       "mpl.figure.prototype.handle_close = function(fig, msg) {\n",
       "    var width = fig.canvas.width/mpl.ratio\n",
       "    fig.root.unbind('remove')\n",
       "\n",
       "    // Update the output cell to use the data from the current canvas.\n",
       "    fig.push_to_output();\n",
       "    var dataURL = fig.canvas.toDataURL();\n",
       "    // Re-enable the keyboard manager in IPython - without this line, in FF,\n",
       "    // the notebook keyboard shortcuts fail.\n",
       "    IPython.keyboard_manager.enable()\n",
       "    $(fig.parent_element).html('<img src=\"' + dataURL + '\" width=\"' + width + '\">');\n",
       "    fig.close_ws(fig, msg);\n",
       "}\n",
       "\n",
       "mpl.figure.prototype.close_ws = function(fig, msg){\n",
       "    fig.send_message('closing', msg);\n",
       "    // fig.ws.close()\n",
       "}\n",
       "\n",
       "mpl.figure.prototype.push_to_output = function(remove_interactive) {\n",
       "    // Turn the data on the canvas into data in the output cell.\n",
       "    var width = this.canvas.width/mpl.ratio\n",
       "    var dataURL = this.canvas.toDataURL();\n",
       "    this.cell_info[1]['text/html'] = '<img src=\"' + dataURL + '\" width=\"' + width + '\">';\n",
       "}\n",
       "\n",
       "mpl.figure.prototype.updated_canvas_event = function() {\n",
       "    // Tell IPython that the notebook contents must change.\n",
       "    IPython.notebook.set_dirty(true);\n",
       "    this.send_message(\"ack\", {});\n",
       "    var fig = this;\n",
       "    // Wait a second, then push the new image to the DOM so\n",
       "    // that it is saved nicely (might be nice to debounce this).\n",
       "    setTimeout(function () { fig.push_to_output() }, 1000);\n",
       "}\n",
       "\n",
       "mpl.figure.prototype._init_toolbar = function() {\n",
       "    var fig = this;\n",
       "\n",
       "    var nav_element = $('<div/>');\n",
       "    nav_element.attr('style', 'width: 100%');\n",
       "    this.root.append(nav_element);\n",
       "\n",
       "    // Define a callback function for later on.\n",
       "    function toolbar_event(event) {\n",
       "        return fig.toolbar_button_onclick(event['data']);\n",
       "    }\n",
       "    function toolbar_mouse_event(event) {\n",
       "        return fig.toolbar_button_onmouseover(event['data']);\n",
       "    }\n",
       "\n",
       "    for(var toolbar_ind in mpl.toolbar_items){\n",
       "        var name = mpl.toolbar_items[toolbar_ind][0];\n",
       "        var tooltip = mpl.toolbar_items[toolbar_ind][1];\n",
       "        var image = mpl.toolbar_items[toolbar_ind][2];\n",
       "        var method_name = mpl.toolbar_items[toolbar_ind][3];\n",
       "\n",
       "        if (!name) { continue; };\n",
       "\n",
       "        var button = $('<button class=\"btn btn-default\" href=\"#\" title=\"' + name + '\"><i class=\"fa ' + image + ' fa-lg\"></i></button>');\n",
       "        button.click(method_name, toolbar_event);\n",
       "        button.mouseover(tooltip, toolbar_mouse_event);\n",
       "        nav_element.append(button);\n",
       "    }\n",
       "\n",
       "    // Add the status bar.\n",
       "    var status_bar = $('<span class=\"mpl-message\" style=\"text-align:right; float: right;\"/>');\n",
       "    nav_element.append(status_bar);\n",
       "    this.message = status_bar[0];\n",
       "\n",
       "    // Add the close button to the window.\n",
       "    var buttongrp = $('<div class=\"btn-group inline pull-right\"></div>');\n",
       "    var button = $('<button class=\"btn btn-mini btn-primary\" href=\"#\" title=\"Stop Interaction\"><i class=\"fa fa-power-off icon-remove icon-large\"></i></button>');\n",
       "    button.click(function (evt) { fig.handle_close(fig, {}); } );\n",
       "    button.mouseover('Stop Interaction', toolbar_mouse_event);\n",
       "    buttongrp.append(button);\n",
       "    var titlebar = this.root.find($('.ui-dialog-titlebar'));\n",
       "    titlebar.prepend(buttongrp);\n",
       "}\n",
       "\n",
       "mpl.figure.prototype._root_extra_style = function(el){\n",
       "    var fig = this\n",
       "    el.on(\"remove\", function(){\n",
       "\tfig.close_ws(fig, {});\n",
       "    });\n",
       "}\n",
       "\n",
       "mpl.figure.prototype._canvas_extra_style = function(el){\n",
       "    // this is important to make the div 'focusable\n",
       "    el.attr('tabindex', 0)\n",
       "    // reach out to IPython and tell the keyboard manager to turn it's self\n",
       "    // off when our div gets focus\n",
       "\n",
       "    // location in version 3\n",
       "    if (IPython.notebook.keyboard_manager) {\n",
       "        IPython.notebook.keyboard_manager.register_events(el);\n",
       "    }\n",
       "    else {\n",
       "        // location in version 2\n",
       "        IPython.keyboard_manager.register_events(el);\n",
       "    }\n",
       "\n",
       "}\n",
       "\n",
       "mpl.figure.prototype._key_event_extra = function(event, name) {\n",
       "    var manager = IPython.notebook.keyboard_manager;\n",
       "    if (!manager)\n",
       "        manager = IPython.keyboard_manager;\n",
       "\n",
       "    // Check for shift+enter\n",
       "    if (event.shiftKey && event.which == 13) {\n",
       "        this.canvas_div.blur();\n",
       "        event.shiftKey = false;\n",
       "        // Send a \"J\" for go to next cell\n",
       "        event.which = 74;\n",
       "        event.keyCode = 74;\n",
       "        manager.command_mode();\n",
       "        manager.handle_keydown(event);\n",
       "    }\n",
       "}\n",
       "\n",
       "mpl.figure.prototype.handle_save = function(fig, msg) {\n",
       "    fig.ondownload(fig, null);\n",
       "}\n",
       "\n",
       "\n",
       "mpl.find_output_cell = function(html_output) {\n",
       "    // Return the cell and output element which can be found *uniquely* in the notebook.\n",
       "    // Note - this is a bit hacky, but it is done because the \"notebook_saving.Notebook\"\n",
       "    // IPython event is triggered only after the cells have been serialised, which for\n",
       "    // our purposes (turning an active figure into a static one), is too late.\n",
       "    var cells = IPython.notebook.get_cells();\n",
       "    var ncells = cells.length;\n",
       "    for (var i=0; i<ncells; i++) {\n",
       "        var cell = cells[i];\n",
       "        if (cell.cell_type === 'code'){\n",
       "            for (var j=0; j<cell.output_area.outputs.length; j++) {\n",
       "                var data = cell.output_area.outputs[j];\n",
       "                if (data.data) {\n",
       "                    // IPython >= 3 moved mimebundle to data attribute of output\n",
       "                    data = data.data;\n",
       "                }\n",
       "                if (data['text/html'] == html_output) {\n",
       "                    return [cell, data, j];\n",
       "                }\n",
       "            }\n",
       "        }\n",
       "    }\n",
       "}\n",
       "\n",
       "// Register the function which deals with the matplotlib target/channel.\n",
       "// The kernel may be null if the page has been refreshed.\n",
       "if (IPython.notebook.kernel != null) {\n",
       "    IPython.notebook.kernel.comm_manager.register_target('matplotlib', mpl.mpl_figure_comm);\n",
       "}\n"
      ],
      "text/plain": [
       "<IPython.core.display.Javascript object>"
      ]
     },
     "metadata": {},
     "output_type": "display_data"
    },
    {
     "data": {
      "text/html": [
       "<img src=\"data:image/png;base64,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\" width=\"1999.999970197678\">"
      ],
      "text/plain": [
       "<IPython.core.display.HTML object>"
      ]
     },
     "metadata": {},
     "output_type": "display_data"
    },
    {
     "name": "stderr",
     "output_type": "stream",
     "text": [
      "/home/fj/anaconda3/lib/python3.7/site-packages/pandas/plotting/_matplotlib/converter.py:103: FutureWarning: Using an implicitly registered datetime converter for a matplotlib plotting method. The converter was registered by pandas on import. Future versions of pandas will require you to explicitly register matplotlib converters.\n",
      "\n",
      "To register the converters:\n",
      "\t>>> from pandas.plotting import register_matplotlib_converters\n",
      "\t>>> register_matplotlib_converters()\n",
      "  warnings.warn(msg, FutureWarning)\n"
     ]
    },
    {
     "data": {
      "text/plain": [
       "<matplotlib.legend.Legend at 0x7f5cd0228a10>"
      ]
     },
     "execution_count": 2,
     "metadata": {},
     "output_type": "execute_result"
    }
   ],
   "source": [
    "# Build up the 30min dataset and construct a bunch of features\n",
    "####################################################################\n",
    "%nbagg\n",
    "\n",
    "from research.etf_technical import load_data as eld; reload( eld )\n",
    "\n",
    "price_features = ['open_30min', 'high_30min', 'low_30min', 'close_30min', \n",
    "                      'open_day', 'high_day', 'low_day', 'close_day', 'close_prev_day', \n",
    "                      'open_week', 'high_week', 'low_week', 'close_week', 'close_prev_week', \n",
    "                      'open_month', 'high_month', 'low_month', 'close_month', ]\n",
    "                      \n",
    "volume_features = ['volume_30min', 'volume_intraday', 'volume_intraweek', 'volume_1hr', 'volume_1day', \n",
    "                       'dollar_volume_30min', 'dollar_volume_intraday',\n",
    "                       'dollar_volume_intraweek', 'dollar_volume_1hr', 'dollar_volume_1day',]\n",
    "                       \n",
    "calendar_features = [ 'week', 'month', 'timeofday', 'dayofweek', 'dayofmonth', \n",
    "                          'weekofyear', 'cos_timeofday', 'sin_timeofday', \n",
    "                          'cos_dayofweek', 'sin_dayofweek', 'cos_dayofmonth',\n",
    "                          'sin_dayofmonth', 'cos_weekofyear', 'sin_weekofyear',]\n",
    "\n",
    "returns_features = ['logrtn_lag_intraday', 'logrtn_lag_overnight', 'logrtn_lag_intraweek',\n",
    "                    'logrtn_lag_weekend', 'logrtn_lag_intramonth', 'logrtn_lag_30min',\n",
    "                    'logrtn_lag_1hr','logrtn_lag_1day', ]\n",
    "\n",
    "responses = ['logrtn_lead_30min',  'logrtn_lead_1hr', 'logrtn_lead_1day'] #'logrtn_lead_intraday', \n",
    "\n",
    "\n",
    "\n",
    "@mx.operatorize( memoize='md', consumes_features=False, produces_meta=True )\n",
    "def FeatureBuilder( data, responses=responses,  emv=True, ema=True, equalize_lagging_returns=False,\n",
    "                    haar=False, dilation=2, levels=5, winsorize=0.05, smz=False,   \n",
    "                   volume_features=volume_features, returns_features=returns_features, \n",
    "                   verbose=False ):\n",
    "    '''\n",
    "    build up the 30 min dataset for learning\n",
    "    \n",
    "    equalize_lagging_returns:\n",
    "        divide out annual vol from all lagging returns features\n",
    "        Leading returns features are equalized anyways\n",
    "    '''\n",
    "    INTS_PER_DAY = 13    \n",
    "    logger = mx.Logger( 'build_features', verbose=verbose )        \n",
    "    das = []\n",
    "    with logger.timer( 'loading the data'):\n",
    "        for symbol in logger.pbar( eld.kibot_day_files.keys() ):\n",
    "            if symbol.startswith( 'INCOMPLETE' ):\n",
    "                logger.warn( f'No data for {symbol} - SKIPPING' )\n",
    "                continue\n",
    "            logger.info( 'loading data for ', symbol )\n",
    "            da, meta = eld.build_30min_data( symbol=symbol )\n",
    "            das.append( da )    \n",
    "        da = xa.concat( das, dim='symbol' )\n",
    "    features = volume_features + returns_features\n",
    "    with logger.timer( ' compute log features' ):\n",
    "        for ft in ['dollar_volume_30min', 'open_30min', 'dollar_volume_intraday',  'dollar_volume_intraweek',] :\n",
    "            da = da.assign_features( **{ f'log_{ft}': da.loc[:,:, ft].log() } )        \n",
    "            features.append( f'log_{ft}' )\n",
    "    with logger.timer(' compute an annual returns volatility'):\n",
    "        avc = mx.transforms.rolling( windows='252D', sid='symbol', min_periods=INTS_PER_DAY*60 ).sd()\n",
    "        da = avc( da, features='logrtn_lag_30min' )\n",
    "        annual_vol = avc.output_features[0]\n",
    "        # equalize the response variable\n",
    "        equalized_responses = []\n",
    "        for response in responses:\n",
    "            equalized_response = f'{response}_equalized'\n",
    "            da = da.assign_features( **{equalized_response: da.loc[:,:,response] / ( da.loc[:,:,annual_vol] + 1e-12 ) } )\n",
    "            equalized_responses.append( equalized_response )        \n",
    "    if equalize_lagging_returns:\n",
    "        # equalize all the laggign returns columns inplace ....\n",
    "        with logger.timer( 'compute \"normalized\" leading and lagging returns' ):            \n",
    "            da.loc[:,:,returns_features] =  da.loc[:,:,returns_features] / ( da.loc[:,:,annual_vol] + 1e-12 )            \n",
    "    # volume, price and returns vol\n",
    "    if emv:\n",
    "        with logger.timer( 'compute volatility' ):\n",
    "            emv = mx.transforms.exponential( halflifes=np.array( [2, 10, 30] ) * INTS_PER_DAY, sid='symbol' ).sd()\n",
    "            da = emv( da, features=['log_open_30min', 'log_dollar_volume_30min', 'logrtn_lag_30min', 'logrtn_lag_1day'] )\n",
    "            features += emv.output_features\n",
    "    # volume, price and returns sma\n",
    "    if ema:\n",
    "        with logger.timer( 'compute ema' ):\n",
    "            ema = mx.transforms.exponential( halflifes=np.array( [2, 10, 30] ) * INTS_PER_DAY, sid='symbol' ).mean()            \n",
    "            da = ema( da, features=['log_open_30min', 'log_dollar_volume_30min', 'logrtn_lag_30min', 'logrtn_lag_1day'] )\n",
    "            features += ema.output_features        \n",
    "    # compute haar transform\n",
    "    if haar:\n",
    "        with logger.timer( 'compute haar' ):\n",
    "            haar = mx.transforms.haar( levels=levels, dilation=dilation, sid='symbol' )\n",
    "            haar.features = ['log_open_30min', 'log_dollar_volume_30min', 'logrtn_lag_30min', 'logrtn_lag_1day'] \n",
    "            da = haar( da )\n",
    "            features += haar.output_features\n",
    "    # winsorize the features we've constructed and other good stuff\n",
    "    if winsorize:\n",
    "        with logger.timer( 'winsorizing' ):\n",
    "            wins = mx.transforms.batch( sid='symbol' ).winsorize( quantiles=winsorize )\n",
    "            wins.features = sorted( set(features + [annual_vol] + equalized_responses  ) )\n",
    "            da = wins( da )\n",
    "            # drop the original features and rename the winsorized one\n",
    "            da = (da.drop_coords( features=wins.features )\n",
    "                  .rename_coords( features=dict( zip( wins.output_features, wins.features ) ) ))\n",
    "    # zscore the features\n",
    "    if smz:\n",
    "        with logger.timer( 'zscoring' ):\n",
    "            zscore = mx.transforms.rolling( windows=smz, sid='symbol' ).zscore()\n",
    "            da = zscore( da, features=features )\n",
    "            # drop the original features and rename the zscored one\n",
    "            # da = da.drop_coords( features=zscore.features ).rename_coords( features=dict( zip( zscore.output_features, zscore.features ) ) )\n",
    "    # add a dummy weight column\n",
    "    da = da.assign_features( one=1 )\n",
    "    return da, features, dict( equalized_responses=equalized_responses, annual_vol=annual_vol )        \n",
    "\n",
    "builder = FeatureBuilder()\n",
    "da = builder( data=None )  \n",
    "\n",
    "fig  = figure( figsize=(20, 15 ) )\n",
    "sdf = da.loc[:,'SDY',:].to_dataframe_mx()\n",
    "plt.style.use( 'seaborn-whitegrid')\n",
    "\n",
    "ax = subplot( 2, 3, 1 )\n",
    "ax.plot( sdf['open_day'], sdf['logrtn_lag_30min'].cumsum().exp(), '.r', alpha=0.5 )\n",
    "ax.set_xlabel('open_day')\n",
    "ax.set_ylabel('cum log lag 30min returns ')\n",
    "ax = subplot( 2, 3, 2 )\n",
    "ax.plot( sdf['logrtn_lead_30min'], sdf['logrtn_lag_30min'], '.r', alpha=0.5 )\n",
    "ax.set_xlabel('logrtn_lead_30min')\n",
    "ax.set_ylabel('logrtn_lag_30min ')\n",
    "ax = subplot( 2, 3, 3 )\n",
    "ax.plot( sdf['logrtn_lag_30min'].cumsum().exp(), '-b', label='30min lag')\n",
    "ax.set_ylabel( '30min returns', color='blue')\n",
    "ax.twinx().plot( sdf['logrtn_lag_1day'].cumsum().exp(), '--r', label='1 day lag')\n",
    "ax.twinx().set_ylabel( '1 day returns', color='red')\n",
    "\n",
    "ax = subplot( 2, 3, 4 )\n",
    "ax.plot( sdf.tail(4000)['log_dollar_volume_30min'], '-k', alpha=0.3, label='log dv30')\n",
    "ax.plot( sdf.tail(4000)['log_dollar_volume_30min_26.ew_mean'], '--r', label='log dv30 26ew')\n",
    "ax.plot( sdf.tail(4000)['log_dollar_volume_30min_130.ew_mean'], '--b', label='log dv30 130ew')\n",
    "ax.legend()\n",
    "\n",
    "ax = subplot( 2, 3, 5 )\n",
    "# ax.plot( da.loc[:,:,'logrtn_lead_30min_equalized'].to_series(), da.loc[:,:,'logrtn_lead_30min'].to_series(), '.r', alpha=0.5 )\n",
    "ax.plot( sdf['logrtn_lag_30min_252D.rw_sd'], '--k' )\n",
    "ax.set_ylabel('annual vol', color='black' )\n",
    "# ax.twinx().plot( sdf['logrtn_lead_30min_equalized'], '-r', alpha=0.5 )\n",
    "# ax.twinx().set_ylabel('equalized returns', color='red' )\n",
    "ax.set_title('annual vol and equalized returns')\n",
    "ax = subplot( 2, 3, 6 )\n",
    "ax.plot( sdf['logrtn_lead_30min_equalized'].cumsum()/sdf['logrtn_lead_30min_equalized'].sum(), '-k', alpha=0.8, linewidth=3 , label='equalized' )\n",
    "ax.plot( sdf['logrtn_lead_30min'].cumsum()/sdf['logrtn_lead_30min'].sum(), '--r', alpha=0.5, label='original' )\n",
    "ax.legend()\n",
    "# ax.plot( sdf['logrtn_lead_30min_equalized'] , sdf['logrtn_lead_30min'], '.', alpha=0.5 )\n",
    "# ax.set_ylabel('original')\n",
    "# ax.set_xlabel('equalized')"
   ]
  },
  {
   "cell_type": "code",
   "execution_count": 3,
   "metadata": {
    "code_folding": [
     0
    ],
    "run_control": {
     "marked": false
    },
    "scrolled": true
   },
   "outputs": [
    {
     "name": "stderr",
     "output_type": "stream",
     "text": [
      "/home/fj/cloud/code/madmax/experiment/logging.py:104: UserWarning: Logger.log_uri not set. Try running Config.start() ? Will not write to disk \n",
      "  warnings.warn( 'Logger.log_uri not set. Try running Config.start() ? Will not write to disk ' )\n"
     ]
    },
    {
     "data": {
      "text/html": [
       "<h2><font face=\"Courier New\">Permabet&nbsp</font></h2>"
      ],
      "text/plain": [
       "<IPython.core.display.HTML object>"
      ]
     },
     "metadata": {},
     "output_type": "display_data"
    },
    {
     "data": {
      "text/html": [
       "<font face=\"Courier New\"><div>\n",
       "<style scoped>\n",
       "    .dataframe tbody tr th:only-of-type {\n",
       "        vertical-align: middle;\n",
       "    }\n",
       "\n",
       "    .dataframe tbody tr th {\n",
       "        vertical-align: top;\n",
       "    }\n",
       "\n",
       "    .dataframe thead th {\n",
       "        text-align: right;\n",
       "    }\n",
       "</style>\n",
       "<table border=\"1\" class=\"dataframe\">\n",
       "  <thead>\n",
       "    <tr style=\"text-align: right;\">\n",
       "      <th></th>\n",
       "      <th></th>\n",
       "      <th>n</th>\n",
       "      <th>finite_frac</th>\n",
       "      <th>tilt</th>\n",
       "      <th>pmSR</th>\n",
       "      <th>ic</th>\n",
       "      <th>r2</th>\n",
       "      <th>tstat</th>\n",
       "      <th>DK_10</th>\n",
       "      <th>DK_30</th>\n",
       "      <th>ac_1</th>\n",
       "      <th>ac_13</th>\n",
       "      <th>ac_65</th>\n",
       "      <th>strategy</th>\n",
       "    </tr>\n",
       "    <tr>\n",
       "      <th>start</th>\n",
       "      <th>end</th>\n",
       "      <th></th>\n",
       "      <th></th>\n",
       "      <th></th>\n",
       "      <th></th>\n",
       "      <th></th>\n",
       "      <th></th>\n",
       "      <th></th>\n",
       "      <th></th>\n",
       "      <th></th>\n",
       "      <th></th>\n",
       "      <th></th>\n",
       "      <th></th>\n",
       "      <th></th>\n",
       "    </tr>\n",
       "  </thead>\n",
       "  <tbody>\n",
       "    <tr>\n",
       "      <td>1998-01-02 09:30:00</td>\n",
       "      <td>1998-12-31 15:30:00</td>\n",
       "      <td>643402</td>\n",
       "      <td>1.0</td>\n",
       "      <td>-0.033531</td>\n",
       "      <td>1.747414</td>\n",
       "      <td>0.007466</td>\n",
       "      <td>0.000056</td>\n",
       "      <td>5.988938</td>\n",
       "      <td>1.811341</td>\n",
       "      <td>1.952456</td>\n",
       "      <td>1.0</td>\n",
       "      <td>1.0</td>\n",
       "      <td>1.0</td>\n",
       "      <td>permabet</td>\n",
       "    </tr>\n",
       "    <tr>\n",
       "      <td>1999-01-04 09:30:00</td>\n",
       "      <td>1999-12-31 13:00:00</td>\n",
       "      <td>643402</td>\n",
       "      <td>1.0</td>\n",
       "      <td>0.112593</td>\n",
       "      <td>2.965444</td>\n",
       "      <td>0.015175</td>\n",
       "      <td>0.000230</td>\n",
       "      <td>12.173740</td>\n",
       "      <td>2.904177</td>\n",
       "      <td>2.974648</td>\n",
       "      <td>1.0</td>\n",
       "      <td>1.0</td>\n",
       "      <td>1.0</td>\n",
       "      <td>permabet</td>\n",
       "    </tr>\n",
       "    <tr>\n",
       "      <td>2000-01-03 09:30:00</td>\n",
       "      <td>2000-12-29 15:30:00</td>\n",
       "      <td>643599</td>\n",
       "      <td>1.0</td>\n",
       "      <td>-0.156490</td>\n",
       "      <td>2.473903</td>\n",
       "      <td>0.008095</td>\n",
       "      <td>0.000066</td>\n",
       "      <td>6.494055</td>\n",
       "      <td>2.571786</td>\n",
       "      <td>2.536270</td>\n",
       "      <td>1.0</td>\n",
       "      <td>1.0</td>\n",
       "      <td>1.0</td>\n",
       "      <td>permabet</td>\n",
       "    </tr>\n",
       "    <tr>\n",
       "      <td>2001-01-02 09:30:00</td>\n",
       "      <td>2001-12-31 15:30:00</td>\n",
       "      <td>631976</td>\n",
       "      <td>1.0</td>\n",
       "      <td>-0.049160</td>\n",
       "      <td>2.206872</td>\n",
       "      <td>0.010279</td>\n",
       "      <td>0.000106</td>\n",
       "      <td>8.171670</td>\n",
       "      <td>2.274199</td>\n",
       "      <td>2.265500</td>\n",
       "      <td>1.0</td>\n",
       "      <td>1.0</td>\n",
       "      <td>1.0</td>\n",
       "      <td>permabet</td>\n",
       "    </tr>\n",
       "    <tr>\n",
       "      <td>2002-01-02 09:30:00</td>\n",
       "      <td>2002-12-31 15:30:00</td>\n",
       "      <td>642811</td>\n",
       "      <td>1.0</td>\n",
       "      <td>-0.216952</td>\n",
       "      <td>2.009832</td>\n",
       "      <td>0.022186</td>\n",
       "      <td>0.000492</td>\n",
       "      <td>17.792337</td>\n",
       "      <td>2.077433</td>\n",
       "      <td>2.044199</td>\n",
       "      <td>1.0</td>\n",
       "      <td>1.0</td>\n",
       "      <td>1.0</td>\n",
       "      <td>permabet</td>\n",
       "    </tr>\n",
       "    <tr>\n",
       "      <td>2003-01-02 09:30:00</td>\n",
       "      <td>2003-12-31 15:30:00</td>\n",
       "      <td>642220</td>\n",
       "      <td>1.0</td>\n",
       "      <td>0.449858</td>\n",
       "      <td>3.274624</td>\n",
       "      <td>0.025836</td>\n",
       "      <td>0.000668</td>\n",
       "      <td>20.711840</td>\n",
       "      <td>3.257368</td>\n",
       "      <td>3.131457</td>\n",
       "      <td>1.0</td>\n",
       "      <td>1.0</td>\n",
       "      <td>1.0</td>\n",
       "      <td>permabet</td>\n",
       "    </tr>\n",
       "    <tr>\n",
       "      <td>2004-01-02 09:30:00</td>\n",
       "      <td>2004-12-31 15:30:00</td>\n",
       "      <td>644584</td>\n",
       "      <td>1.0</td>\n",
       "      <td>0.446495</td>\n",
       "      <td>2.976062</td>\n",
       "      <td>0.020680</td>\n",
       "      <td>0.000428</td>\n",
       "      <td>16.606889</td>\n",
       "      <td>2.997402</td>\n",
       "      <td>2.768190</td>\n",
       "      <td>1.0</td>\n",
       "      <td>1.0</td>\n",
       "      <td>1.0</td>\n",
       "      <td>permabet</td>\n",
       "    </tr>\n",
       "    <tr>\n",
       "      <td>2005-01-03 09:30:00</td>\n",
       "      <td>2005-12-30 15:30:00</td>\n",
       "      <td>644387</td>\n",
       "      <td>1.0</td>\n",
       "      <td>0.401870</td>\n",
       "      <td>2.742825</td>\n",
       "      <td>0.018318</td>\n",
       "      <td>0.000336</td>\n",
       "      <td>14.707322</td>\n",
       "      <td>2.812820</td>\n",
       "      <td>2.569062</td>\n",
       "      <td>1.0</td>\n",
       "      <td>1.0</td>\n",
       "      <td>1.0</td>\n",
       "      <td>permabet</td>\n",
       "    </tr>\n",
       "    <tr>\n",
       "      <td>2006-01-03 09:30:00</td>\n",
       "      <td>2006-12-29 15:30:00</td>\n",
       "      <td>640841</td>\n",
       "      <td>1.0</td>\n",
       "      <td>0.595141</td>\n",
       "      <td>2.435356</td>\n",
       "      <td>0.022610</td>\n",
       "      <td>0.000511</td>\n",
       "      <td>18.104871</td>\n",
       "      <td>2.429594</td>\n",
       "      <td>2.416481</td>\n",
       "      <td>1.0</td>\n",
       "      <td>1.0</td>\n",
       "      <td>1.0</td>\n",
       "      <td>permabet</td>\n",
       "    </tr>\n",
       "    <tr>\n",
       "      <td>2007-01-03 09:30:00</td>\n",
       "      <td>2007-12-31 15:30:00</td>\n",
       "      <td>642811</td>\n",
       "      <td>1.0</td>\n",
       "      <td>0.429463</td>\n",
       "      <td>5.071920</td>\n",
       "      <td>0.019575</td>\n",
       "      <td>0.000383</td>\n",
       "      <td>15.697399</td>\n",
       "      <td>5.027457</td>\n",
       "      <td>5.204330</td>\n",
       "      <td>1.0</td>\n",
       "      <td>1.0</td>\n",
       "      <td>1.0</td>\n",
       "      <td>permabet</td>\n",
       "    </tr>\n",
       "    <tr>\n",
       "      <td>2008-01-02 09:30:00</td>\n",
       "      <td>2008-12-31 15:30:00</td>\n",
       "      <td>647933</td>\n",
       "      <td>1.0</td>\n",
       "      <td>-0.585106</td>\n",
       "      <td>2.278585</td>\n",
       "      <td>0.029151</td>\n",
       "      <td>0.000850</td>\n",
       "      <td>23.474830</td>\n",
       "      <td>2.335744</td>\n",
       "      <td>2.361737</td>\n",
       "      <td>1.0</td>\n",
       "      <td>1.0</td>\n",
       "      <td>1.0</td>\n",
       "      <td>permabet</td>\n",
       "    </tr>\n",
       "    <tr>\n",
       "      <td>2009-01-02 09:30:00</td>\n",
       "      <td>2009-12-31 15:30:00</td>\n",
       "      <td>645372</td>\n",
       "      <td>1.0</td>\n",
       "      <td>0.774188</td>\n",
       "      <td>2.420410</td>\n",
       "      <td>0.027113</td>\n",
       "      <td>0.000735</td>\n",
       "      <td>21.789147</td>\n",
       "      <td>2.420896</td>\n",
       "      <td>2.472426</td>\n",
       "      <td>1.0</td>\n",
       "      <td>1.0</td>\n",
       "      <td>1.0</td>\n",
       "      <td>permabet</td>\n",
       "    </tr>\n",
       "    <tr>\n",
       "      <td>2010-01-04 09:30:00</td>\n",
       "      <td>2010-12-31 15:30:00</td>\n",
       "      <td>645372</td>\n",
       "      <td>1.0</td>\n",
       "      <td>0.823955</td>\n",
       "      <td>2.568068</td>\n",
       "      <td>0.026144</td>\n",
       "      <td>0.000684</td>\n",
       "      <td>21.010288</td>\n",
       "      <td>2.626947</td>\n",
       "      <td>2.624924</td>\n",
       "      <td>1.0</td>\n",
       "      <td>1.0</td>\n",
       "      <td>1.0</td>\n",
       "      <td>permabet</td>\n",
       "    </tr>\n",
       "    <tr>\n",
       "      <td>2011-01-03 09:30:00</td>\n",
       "      <td>2011-12-30 15:30:00</td>\n",
       "      <td>645372</td>\n",
       "      <td>1.0</td>\n",
       "      <td>0.228216</td>\n",
       "      <td>6.708512</td>\n",
       "      <td>0.018667</td>\n",
       "      <td>0.000348</td>\n",
       "      <td>14.998661</td>\n",
       "      <td>6.793746</td>\n",
       "      <td>6.097404</td>\n",
       "      <td>1.0</td>\n",
       "      <td>1.0</td>\n",
       "      <td>1.0</td>\n",
       "      <td>permabet</td>\n",
       "    </tr>\n",
       "    <tr>\n",
       "      <td>2012-01-03 09:30:00</td>\n",
       "      <td>2012-12-31 15:30:00</td>\n",
       "      <td>640250</td>\n",
       "      <td>1.0</td>\n",
       "      <td>0.731969</td>\n",
       "      <td>2.626954</td>\n",
       "      <td>0.025749</td>\n",
       "      <td>0.000663</td>\n",
       "      <td>20.609950</td>\n",
       "      <td>2.692666</td>\n",
       "      <td>2.634047</td>\n",
       "      <td>1.0</td>\n",
       "      <td>1.0</td>\n",
       "      <td>1.0</td>\n",
       "      <td>permabet</td>\n",
       "    </tr>\n",
       "    <tr>\n",
       "      <td>2013-01-02 09:30:00</td>\n",
       "      <td>2013-12-31 15:30:00</td>\n",
       "      <td>645372</td>\n",
       "      <td>1.0</td>\n",
       "      <td>0.512787</td>\n",
       "      <td>3.483960</td>\n",
       "      <td>0.037775</td>\n",
       "      <td>0.001427</td>\n",
       "      <td>30.368571</td>\n",
       "      <td>3.450553</td>\n",
       "      <td>3.533973</td>\n",
       "      <td>1.0</td>\n",
       "      <td>1.0</td>\n",
       "      <td>1.0</td>\n",
       "      <td>permabet</td>\n",
       "    </tr>\n",
       "    <tr>\n",
       "      <td>2014-01-02 09:30:00</td>\n",
       "      <td>2014-12-31 15:30:00</td>\n",
       "      <td>645372</td>\n",
       "      <td>1.0</td>\n",
       "      <td>0.282907</td>\n",
       "      <td>3.349409</td>\n",
       "      <td>0.022583</td>\n",
       "      <td>0.000510</td>\n",
       "      <td>18.146678</td>\n",
       "      <td>3.456112</td>\n",
       "      <td>3.334800</td>\n",
       "      <td>1.0</td>\n",
       "      <td>1.0</td>\n",
       "      <td>1.0</td>\n",
       "      <td>permabet</td>\n",
       "    </tr>\n",
       "    <tr>\n",
       "      <td>2015-01-02 09:30:00</td>\n",
       "      <td>2015-12-31 15:30:00</td>\n",
       "      <td>645372</td>\n",
       "      <td>1.0</td>\n",
       "      <td>-0.345021</td>\n",
       "      <td>4.182984</td>\n",
       "      <td>0.014229</td>\n",
       "      <td>0.000202</td>\n",
       "      <td>11.431931</td>\n",
       "      <td>4.064086</td>\n",
       "      <td>3.947763</td>\n",
       "      <td>1.0</td>\n",
       "      <td>1.0</td>\n",
       "      <td>1.0</td>\n",
       "      <td>permabet</td>\n",
       "    </tr>\n",
       "    <tr>\n",
       "      <td>2016-01-04 09:30:00</td>\n",
       "      <td>2016-12-30 15:30:00</td>\n",
       "      <td>645372</td>\n",
       "      <td>1.0</td>\n",
       "      <td>0.687868</td>\n",
       "      <td>2.446161</td>\n",
       "      <td>0.022472</td>\n",
       "      <td>0.000505</td>\n",
       "      <td>18.057310</td>\n",
       "      <td>2.436134</td>\n",
       "      <td>2.392454</td>\n",
       "      <td>1.0</td>\n",
       "      <td>1.0</td>\n",
       "      <td>1.0</td>\n",
       "      <td>permabet</td>\n",
       "    </tr>\n",
       "    <tr>\n",
       "      <td>2017-01-03 09:30:00</td>\n",
       "      <td>2017-12-29 15:30:00</td>\n",
       "      <td>642811</td>\n",
       "      <td>1.0</td>\n",
       "      <td>0.688022</td>\n",
       "      <td>4.796975</td>\n",
       "      <td>0.043522</td>\n",
       "      <td>0.001894</td>\n",
       "      <td>34.926826</td>\n",
       "      <td>4.988845</td>\n",
       "      <td>5.210496</td>\n",
       "      <td>1.0</td>\n",
       "      <td>1.0</td>\n",
       "      <td>1.0</td>\n",
       "      <td>permabet</td>\n",
       "    </tr>\n",
       "    <tr>\n",
       "      <td>2018-01-02 09:30:00</td>\n",
       "      <td>2018-12-31 15:30:00</td>\n",
       "      <td>642811</td>\n",
       "      <td>1.0</td>\n",
       "      <td>-0.262320</td>\n",
       "      <td>4.355778</td>\n",
       "      <td>0.015648</td>\n",
       "      <td>0.000245</td>\n",
       "      <td>12.547376</td>\n",
       "      <td>4.359504</td>\n",
       "      <td>4.276033</td>\n",
       "      <td>1.0</td>\n",
       "      <td>1.0</td>\n",
       "      <td>1.0</td>\n",
       "      <td>permabet</td>\n",
       "    </tr>\n",
       "    <tr>\n",
       "      <td>2019-01-02 09:30:00</td>\n",
       "      <td>2019-12-31 15:30:00</td>\n",
       "      <td>645372</td>\n",
       "      <td>1.0</td>\n",
       "      <td>0.848330</td>\n",
       "      <td>5.011108</td>\n",
       "      <td>0.043380</td>\n",
       "      <td>0.001882</td>\n",
       "      <td>34.882015</td>\n",
       "      <td>4.901708</td>\n",
       "      <td>5.010182</td>\n",
       "      <td>1.0</td>\n",
       "      <td>1.0</td>\n",
       "      <td>1.0</td>\n",
       "      <td>permabet</td>\n",
       "    </tr>\n",
       "    <tr>\n",
       "      <td>2020-01-02 09:30:00</td>\n",
       "      <td>2020-02-05 15:30:00</td>\n",
       "      <td>61464</td>\n",
       "      <td>1.0</td>\n",
       "      <td>0.168726</td>\n",
       "      <td>18.402692</td>\n",
       "      <td>0.058736</td>\n",
       "      <td>0.003450</td>\n",
       "      <td>14.586970</td>\n",
       "      <td>5.221330</td>\n",
       "      <td>6.207306</td>\n",
       "      <td>1.0</td>\n",
       "      <td>1.0</td>\n",
       "      <td>1.0</td>\n",
       "      <td>permabet</td>\n",
       "    </tr>\n",
       "  </tbody>\n",
       "</table>\n",
       "</div></font>"
      ],
      "text/plain": [
       "<IPython.core.display.HTML object>"
      ]
     },
     "metadata": {},
     "output_type": "display_data"
    },
    {
     "data": {
      "image/jpeg": "[encoded data removed]",
      "text/plain": [
       "<IPython.core.display.Image object>"
      ]
     },
     "metadata": {},
     "output_type": "display_data"
    }
   ],
   "source": [
    "# Permabet computation\n",
    "#####################################################################\n",
    "%inline\n",
    "@mx.memoize\n",
    "def permabet_computation( response='logrtn_lead_30min_equalized', weight='one', verbose=True ):\n",
    "    ''' \n",
    "    compute the returns of aa permabet strategy with lookhead that rebalances yearly\n",
    "    '''\n",
    "    logger = mx.Logger('permabet_computation', verbose=verbose)\n",
    "    builder = FeatureBuilder()\n",
    "    da = builder( data=None )    \n",
    "    reg = mx.Regression( response=response, weight=weight, dk_lags=[10, 30], autocorr=[1, 13, 13*5] )\n",
    "    with logger.timer( 'year on year permabet computation and regression'):\n",
    "        permabet_regressions = []\n",
    "        permabet_pnl = []\n",
    "        ix = 0  \n",
    "        # run a bunch of permabet regressions\n",
    "        permabet_betas = []\n",
    "        for split in mx.Freq.timesplits( da.time.to_series().min(), da.time.to_series().max(), mx.Freq.year ):\n",
    "            sda = da.loc[split[0]:split[1]] \n",
    "            # compute the permabet with lookahead\n",
    "            permabet_beta = (\n",
    "                ( sda.loc[:,:,'one'] * sda.loc[:,:,response] ).mean(axis=0) \n",
    "                / ( sda.loc[:,:,'one'] * sda.loc[:,:,'one'].notnull() ).mean(axis=0)\n",
    "            )\n",
    "            sda = sda.assign_features( permabet=sda.loc[:,:,'one'] * permabet_beta )\n",
    "            pr = reg.apply_series(\n",
    "                sda.loc[:, :, 'permabet'].squeeze().to_series().fillna(0),\n",
    "                sda.loc[:,:,response].squeeze().to_series().fillna(0)\n",
    "            )\n",
    "            permabet_betas.append( permabet_beta )\n",
    "            permabet_pnl.append( pr.pop('pnl') )        \n",
    "            pr.pop( 'hitRate' )\n",
    "            pr['start'] = pd.to_datetime(sda.time.min().values)\n",
    "            pr['end'] = pd.to_datetime(sda.time.max().values)\n",
    "            pr['strategy'] = 'permabet'\n",
    "            permabet_regressions.append( pr )             \n",
    "        permabet_regressions = pd.DataFrame( permabet_regressions ).set_index( ['start', 'end'] )\n",
    "        permabet_pnl = pd.concat( permabet_pnl )        \n",
    "    return permabet_pnl, permabet_regressions, permabet_betas\n",
    "\n",
    "permabet_pnl, permabet_regressions, permabet_betas = permabet_computation()\n",
    "dh( 'Permabet ', h=2 )\n",
    "dh( permabet_regressions )\n",
    "fig = figure()\n",
    "plot( permabet_pnl.cumsum() )\n",
    "fig.suptitle( 'permabet', fontsize=15 )\n",
    "disp( fig )\n",
    "       "
   ]
  },
  {
   "cell_type": "markdown",
   "metadata": {},
   "source": [
    "### Online learning model"
   ]
  },
  {
   "cell_type": "code",
   "execution_count": 4,
   "metadata": {
    "code_folding": [
     0
    ],
    "run_control": {
     "marked": false
    },
    "scrolled": false
   },
   "outputs": [
    {
     "data": {
      "text/html": [
       "<font face=\"Courier New\" size=2 color=\"green\">20200429.113813|root|(contextlib.py::112)|INFO&nbsp&nbsp;&nbsp;&nbsp;&nbspcompute_feature_sd_and_mean&nbsp&nbsp...&nbsp(starting)</font>"
      ],
      "text/plain": [
       "<IPython.core.display.HTML object>"
      ]
     },
     "metadata": {},
     "output_type": "display_data"
    },
    {
     "data": {
      "text/html": [
       "<font face=\"Courier New\" size=2 color=\"green\">20200429.113813|root|(contextlib.py::119)|INFO&nbsp&nbsp;&nbsp;&nbsp;&nbspcompute_feature_sd_and_mean&nbsp&nbsp...&nbsp(done&nbsp-&nbsptook&nbsp0.02s)</font>"
      ],
      "text/plain": [
       "<IPython.core.display.HTML object>"
      ]
     },
     "metadata": {},
     "output_type": "display_data"
    },
    {
     "data": {
      "text/html": [
       "<h3><font face=\"Courier New\">Feature&nbspbatch&nbspmeans&nbsp(mean&nbspand&nbspstd&nbspacross&nbspsymbols)</font></h3>"
      ],
      "text/plain": [
       "<IPython.core.display.HTML object>"
      ]
     },
     "metadata": {},
     "output_type": "display_data"
    },
    {
     "data": {
      "text/html": [
       "<font face=\"Courier New\"><div>\n",
       "<style scoped>\n",
       "    .dataframe tbody tr th:only-of-type {\n",
       "        vertical-align: middle;\n",
       "    }\n",
       "\n",
       "    .dataframe tbody tr th {\n",
       "        vertical-align: top;\n",
       "    }\n",
       "\n",
       "    .dataframe thead th {\n",
       "        text-align: right;\n",
       "    }\n",
       "</style>\n",
       "<table border=\"1\" class=\"dataframe\">\n",
       "  <thead>\n",
       "    <tr style=\"text-align: right;\">\n",
       "      <th></th>\n",
       "      <th>mean</th>\n",
       "      <th>std</th>\n",
       "    </tr>\n",
       "    <tr>\n",
       "      <th>features</th>\n",
       "      <th></th>\n",
       "      <th></th>\n",
       "    </tr>\n",
       "  </thead>\n",
       "  <tbody>\n",
       "    <tr>\n",
       "      <td>cos_dayofmonth</td>\n",
       "      <td>-2.592226e-02</td>\n",
       "      <td>0.000955</td>\n",
       "    </tr>\n",
       "    <tr>\n",
       "      <td>cos_dayofweek</td>\n",
       "      <td>1.825136e-01</td>\n",
       "      <td>0.000894</td>\n",
       "    </tr>\n",
       "    <tr>\n",
       "      <td>cos_timeofday</td>\n",
       "      <td>7.130840e-02</td>\n",
       "      <td>0.007088</td>\n",
       "    </tr>\n",
       "    <tr>\n",
       "      <td>cos_weekofyear</td>\n",
       "      <td>-1.853680e-02</td>\n",
       "      <td>0.007110</td>\n",
       "    </tr>\n",
       "    <tr>\n",
       "      <td>logrtn_lag_1day</td>\n",
       "      <td>2.711025e-05</td>\n",
       "      <td>0.001116</td>\n",
       "    </tr>\n",
       "    <tr>\n",
       "      <td>logrtn_lag_1day_130.ew_mean</td>\n",
       "      <td>2.536962e-05</td>\n",
       "      <td>0.001101</td>\n",
       "    </tr>\n",
       "    <tr>\n",
       "      <td>logrtn_lag_1day_130.ew_sd</td>\n",
       "      <td>1.413549e-02</td>\n",
       "      <td>0.010483</td>\n",
       "    </tr>\n",
       "    <tr>\n",
       "      <td>logrtn_lag_1day_26.ew_mean</td>\n",
       "      <td>4.626549e-05</td>\n",
       "      <td>0.001117</td>\n",
       "    </tr>\n",
       "    <tr>\n",
       "      <td>logrtn_lag_1day_26.ew_sd</td>\n",
       "      <td>1.254195e-02</td>\n",
       "      <td>0.009228</td>\n",
       "    </tr>\n",
       "    <tr>\n",
       "      <td>logrtn_lag_1day_390.ew_mean</td>\n",
       "      <td>2.873741e-06</td>\n",
       "      <td>0.001078</td>\n",
       "    </tr>\n",
       "    <tr>\n",
       "      <td>logrtn_lag_1day_390.ew_sd</td>\n",
       "      <td>1.490584e-02</td>\n",
       "      <td>0.011111</td>\n",
       "    </tr>\n",
       "    <tr>\n",
       "      <td>logrtn_lag_1hr</td>\n",
       "      <td>1.080936e-05</td>\n",
       "      <td>0.000170</td>\n",
       "    </tr>\n",
       "    <tr>\n",
       "      <td>logrtn_lag_30min</td>\n",
       "      <td>4.863977e-06</td>\n",
       "      <td>0.000080</td>\n",
       "    </tr>\n",
       "    <tr>\n",
       "      <td>logrtn_lag_30min_130.ew_mean</td>\n",
       "      <td>1.875280e-06</td>\n",
       "      <td>0.000085</td>\n",
       "    </tr>\n",
       "    <tr>\n",
       "      <td>logrtn_lag_30min_130.ew_sd</td>\n",
       "      <td>4.029100e-03</td>\n",
       "      <td>0.002886</td>\n",
       "    </tr>\n",
       "    <tr>\n",
       "      <td>logrtn_lag_30min_26.ew_mean</td>\n",
       "      <td>3.843506e-06</td>\n",
       "      <td>0.000086</td>\n",
       "    </tr>\n",
       "    <tr>\n",
       "      <td>logrtn_lag_30min_26.ew_sd</td>\n",
       "      <td>3.830168e-03</td>\n",
       "      <td>0.002731</td>\n",
       "    </tr>\n",
       "    <tr>\n",
       "      <td>logrtn_lag_30min_390.ew_mean</td>\n",
       "      <td>4.149896e-08</td>\n",
       "      <td>0.000083</td>\n",
       "    </tr>\n",
       "    <tr>\n",
       "      <td>logrtn_lag_30min_390.ew_sd</td>\n",
       "      <td>4.221859e-03</td>\n",
       "      <td>0.003027</td>\n",
       "    </tr>\n",
       "    <tr>\n",
       "      <td>logrtn_lag_overnight</td>\n",
       "      <td>2.837497e-04</td>\n",
       "      <td>0.000632</td>\n",
       "    </tr>\n",
       "    <tr>\n",
       "      <td>logrtn_lag_weekend</td>\n",
       "      <td>2.008911e-04</td>\n",
       "      <td>0.000813</td>\n",
       "    </tr>\n",
       "    <tr>\n",
       "      <td>sin_dayofmonth</td>\n",
       "      <td>1.511817e-02</td>\n",
       "      <td>0.001115</td>\n",
       "    </tr>\n",
       "    <tr>\n",
       "      <td>sin_dayofweek</td>\n",
       "      <td>3.602563e-03</td>\n",
       "      <td>0.000600</td>\n",
       "    </tr>\n",
       "    <tr>\n",
       "      <td>sin_timeofday</td>\n",
       "      <td>8.683012e-03</td>\n",
       "      <td>0.012215</td>\n",
       "    </tr>\n",
       "    <tr>\n",
       "      <td>sin_weekofyear</td>\n",
       "      <td>-6.833448e-03</td>\n",
       "      <td>0.008269</td>\n",
       "    </tr>\n",
       "  </tbody>\n",
       "</table>\n",
       "</div></font>"
      ],
      "text/plain": [
       "<IPython.core.display.HTML object>"
      ]
     },
     "metadata": {},
     "output_type": "display_data"
    },
    {
     "data": {
      "text/html": [
       "<h3><font face=\"Courier New\">Feature&nbspbatch&nbspSD&nbsp(mean&nbspand&nbspstd&nbspacross&nbspsymbols)</font></h3>"
      ],
      "text/plain": [
       "<IPython.core.display.HTML object>"
      ]
     },
     "metadata": {},
     "output_type": "display_data"
    },
    {
     "data": {
      "text/html": [
       "<font face=\"Courier New\"><div>\n",
       "<style scoped>\n",
       "    .dataframe tbody tr th:only-of-type {\n",
       "        vertical-align: middle;\n",
       "    }\n",
       "\n",
       "    .dataframe tbody tr th {\n",
       "        vertical-align: top;\n",
       "    }\n",
       "\n",
       "    .dataframe thead th {\n",
       "        text-align: right;\n",
       "    }\n",
       "</style>\n",
       "<table border=\"1\" class=\"dataframe\">\n",
       "  <thead>\n",
       "    <tr style=\"text-align: right;\">\n",
       "      <th></th>\n",
       "      <th>mean</th>\n",
       "      <th>std</th>\n",
       "    </tr>\n",
       "    <tr>\n",
       "      <th>features</th>\n",
       "      <th></th>\n",
       "      <th></th>\n",
       "    </tr>\n",
       "  </thead>\n",
       "  <tbody>\n",
       "    <tr>\n",
       "      <td>cos_dayofmonth</td>\n",
       "      <td>0.699875</td>\n",
       "      <td>0.000356</td>\n",
       "    </tr>\n",
       "    <tr>\n",
       "      <td>cos_dayofweek</td>\n",
       "      <td>0.748315</td>\n",
       "      <td>0.000282</td>\n",
       "    </tr>\n",
       "    <tr>\n",
       "      <td>cos_timeofday</td>\n",
       "      <td>0.729424</td>\n",
       "      <td>0.000738</td>\n",
       "    </tr>\n",
       "    <tr>\n",
       "      <td>cos_weekofyear</td>\n",
       "      <td>0.699163</td>\n",
       "      <td>0.001482</td>\n",
       "    </tr>\n",
       "    <tr>\n",
       "      <td>logrtn_lag_1day</td>\n",
       "      <td>0.012612</td>\n",
       "      <td>0.009283</td>\n",
       "    </tr>\n",
       "    <tr>\n",
       "      <td>logrtn_lag_1day_130.ew_mean</td>\n",
       "      <td>0.002338</td>\n",
       "      <td>0.001705</td>\n",
       "    </tr>\n",
       "    <tr>\n",
       "      <td>logrtn_lag_1day_130.ew_sd</td>\n",
       "      <td>0.005903</td>\n",
       "      <td>0.003797</td>\n",
       "    </tr>\n",
       "    <tr>\n",
       "      <td>logrtn_lag_1day_26.ew_mean</td>\n",
       "      <td>0.005094</td>\n",
       "      <td>0.003692</td>\n",
       "    </tr>\n",
       "    <tr>\n",
       "      <td>logrtn_lag_1day_26.ew_sd</td>\n",
       "      <td>0.005976</td>\n",
       "      <td>0.003972</td>\n",
       "    </tr>\n",
       "    <tr>\n",
       "      <td>logrtn_lag_1day_390.ew_mean</td>\n",
       "      <td>0.001394</td>\n",
       "      <td>0.001036</td>\n",
       "    </tr>\n",
       "    <tr>\n",
       "      <td>logrtn_lag_1day_390.ew_sd</td>\n",
       "      <td>0.005854</td>\n",
       "      <td>0.004112</td>\n",
       "    </tr>\n",
       "    <tr>\n",
       "      <td>logrtn_lag_1hr</td>\n",
       "      <td>0.004217</td>\n",
       "      <td>0.003088</td>\n",
       "    </tr>\n",
       "    <tr>\n",
       "      <td>logrtn_lag_30min</td>\n",
       "      <td>0.002806</td>\n",
       "      <td>0.002060</td>\n",
       "    </tr>\n",
       "    <tr>\n",
       "      <td>logrtn_lag_30min_130.ew_mean</td>\n",
       "      <td>0.000182</td>\n",
       "      <td>0.000133</td>\n",
       "    </tr>\n",
       "    <tr>\n",
       "      <td>logrtn_lag_30min_130.ew_sd</td>\n",
       "      <td>0.001706</td>\n",
       "      <td>0.001036</td>\n",
       "    </tr>\n",
       "    <tr>\n",
       "      <td>logrtn_lag_30min_26.ew_mean</td>\n",
       "      <td>0.000414</td>\n",
       "      <td>0.000299</td>\n",
       "    </tr>\n",
       "    <tr>\n",
       "      <td>logrtn_lag_30min_26.ew_sd</td>\n",
       "      <td>0.001769</td>\n",
       "      <td>0.001101</td>\n",
       "    </tr>\n",
       "    <tr>\n",
       "      <td>logrtn_lag_30min_390.ew_mean</td>\n",
       "      <td>0.000108</td>\n",
       "      <td>0.000080</td>\n",
       "    </tr>\n",
       "    <tr>\n",
       "      <td>logrtn_lag_30min_390.ew_sd</td>\n",
       "      <td>0.001744</td>\n",
       "      <td>0.001193</td>\n",
       "    </tr>\n",
       "    <tr>\n",
       "      <td>logrtn_lag_overnight</td>\n",
       "      <td>0.007721</td>\n",
       "      <td>0.005583</td>\n",
       "    </tr>\n",
       "    <tr>\n",
       "      <td>logrtn_lag_weekend</td>\n",
       "      <td>0.008850</td>\n",
       "      <td>0.006628</td>\n",
       "    </tr>\n",
       "    <tr>\n",
       "      <td>sin_dayofmonth</td>\n",
       "      <td>0.713632</td>\n",
       "      <td>0.000356</td>\n",
       "    </tr>\n",
       "    <tr>\n",
       "      <td>sin_dayofweek</td>\n",
       "      <td>0.637712</td>\n",
       "      <td>0.000358</td>\n",
       "    </tr>\n",
       "    <tr>\n",
       "      <td>sin_timeofday</td>\n",
       "      <td>0.680133</td>\n",
       "      <td>0.001276</td>\n",
       "    </tr>\n",
       "    <tr>\n",
       "      <td>sin_weekofyear</td>\n",
       "      <td>0.714604</td>\n",
       "      <td>0.001393</td>\n",
       "    </tr>\n",
       "  </tbody>\n",
       "</table>\n",
       "</div></font>"
      ],
      "text/plain": [
       "<IPython.core.display.HTML object>"
      ]
     },
     "metadata": {},
     "output_type": "display_data"
    },
    {
     "name": "stderr",
     "output_type": "stream",
     "text": [
      "/home/fj/cloud/code/madmax/experiment/logging.py:104: UserWarning: Logger.log_uri not set. Try running Config.start() ? Will not write to disk \n",
      "  warnings.warn( 'Logger.log_uri not set. Try running Config.start() ? Will not write to disk ' )\n"
     ]
    },
    {
     "data": {
      "application/vnd.jupyter.widget-view+json": {
       "model_id": "60c99b02ba1d412ba617bc067fb44ebc",
       "version_major": 2,
       "version_minor": 0
      },
      "text/plain": [
       "HBox(children=(IntProgress(value=0, max=72173), HTML(value='')))"
      ]
     },
     "metadata": {},
     "output_type": "display_data"
    },
    {
     "name": "stdout",
     "output_type": "stream",
     "text": [
      "\n"
     ]
    },
    {
     "data": {
      "text/html": [
       "<font face=\"Courier New\" size=2 color=\"green\">20200429.114943|root|(contextlib.py::112)|INFO&nbsp&nbsp;&nbsp;&nbsp;&nbsprunning&nbspregressions&nbsp...&nbsp(starting)</font>"
      ],
      "text/plain": [
       "<IPython.core.display.HTML object>"
      ]
     },
     "metadata": {},
     "output_type": "display_data"
    },
    {
     "name": "stderr",
     "output_type": "stream",
     "text": [
      "/home/fj/cloud/code/madmax/experiment/logging.py:104: UserWarning: Logger.log_uri not set. Try running Config.start() ? Will not write to disk \n",
      "  warnings.warn( 'Logger.log_uri not set. Try running Config.start() ? Will not write to disk ' )\n",
      "/home/fj/cloud/code/madmax/experiment/logging.py:104: UserWarning: Logger.log_uri not set. Try running Config.start() ? Will not write to disk \n",
      "  warnings.warn( 'Logger.log_uri not set. Try running Config.start() ? Will not write to disk ' )\n"
     ]
    },
    {
     "data": {
      "text/html": [
       "<font face=\"Courier New\" size=2 color=\"green\">20200429.114949|root|(contextlib.py::119)|INFO&nbsp&nbsp;&nbsp;&nbsp;&nbsprunning&nbspregressions&nbsp...&nbsp(done&nbsp-&nbsptook&nbsp5.39s)</font>"
      ],
      "text/plain": [
       "<IPython.core.display.HTML object>"
      ]
     },
     "metadata": {},
     "output_type": "display_data"
    },
    {
     "data": {
      "text/html": [
       "<h2><font face=\"Courier New\">symbol=None&nbsplr=1000,&nbsphl_1=5000,&nbsphl_2=10000&nbspridge=1e-06</font></h2>"
      ],
      "text/plain": [
       "<IPython.core.display.HTML object>"
      ]
     },
     "metadata": {},
     "output_type": "display_data"
    },
    {
     "data": {
      "text/html": [
       "<font face=\"Courier New\">HPSet(<br>&nbsp;&nbsp;&nbsp;&nbspalgo='mbprox',<br>&nbsp;&nbsp;&nbsp;&nbspfeatures=('logrtn_lag_overnight',&nbsp'logrtn_lag_weekend',&nbsp'logrtn_lag_30min',&nbsp'logrtn_lag_1hr',&nbsp'logrtn_lag_1day',&nbsp'logrtn_lag_30min_26.ew_sd',&nbsp'logrtn_lag_1day_26.ew_sd',&nbsp'logrtn_lag_30min_130.ew_sd',&nbsp'logrtn_lag_1day_130.ew_sd',&nbsp'logrtn_lag_30min_390.ew_sd',&nbsp'logrtn_lag_1day_390.ew_sd',&nbsp'logrtn_lag_30min_26.ew_mean',&nbsp'logrtn_lag_1day_26.ew_mean',&nbsp'logrtn_lag_30min_130.ew_mean',&nbsp'logrtn_lag_1day_130.ew_mean',&nbsp'logrtn_lag_30min_390.ew_mean',&nbsp'logrtn_lag_1day_390.ew_mean',&nbsp'cos_timeofday',&nbsp'sin_timeofday',&nbsp'cos_dayofweek',&nbsp'sin_dayofweek',&nbsp'cos_dayofmonth',&nbsp'sin_dayofmonth',&nbsp'cos_weekofyear',&nbsp'sin_weekofyear'),<br>&nbsp;&nbsp;&nbsp;&nbsphl_1=5000,<br>&nbsp;&nbsp;&nbsp;&nbsphl_2=10000,<br>&nbsp;&nbsp;&nbsp;&nbsplookhead=12,<br>&nbsp;&nbsp;&nbsp;&nbsploss='psr',<br>&nbsp;&nbsp;&nbsp;&nbsplr=1000,<br>&nbsp;&nbsp;&nbsp;&nbspresponse='logrtn_lead_30min_equalized',<br>&nbsp;&nbsp;&nbsp;&nbspridge=1e-06,<br>&nbsp;&nbsp;&nbsp;&nbspsymbol=None,<br>&nbsp;&nbsp;&nbsp;&nbsptransformer='quadratic_transformer',<br>&nbsp;&nbsp;&nbsp;&nbspweight='one',<br>)</font>"
      ],
      "text/plain": [
       "<IPython.core.display.HTML object>"
      ]
     },
     "metadata": {},
     "output_type": "display_data"
    },
    {
     "data": {
      "text/html": [
       "<font face=\"Courier New\"><div>\n",
       "<style scoped>\n",
       "    .dataframe tbody tr th:only-of-type {\n",
       "        vertical-align: middle;\n",
       "    }\n",
       "\n",
       "    .dataframe tbody tr th {\n",
       "        vertical-align: top;\n",
       "    }\n",
       "\n",
       "    .dataframe thead th {\n",
       "        text-align: right;\n",
       "    }\n",
       "</style>\n",
       "<table border=\"1\" class=\"dataframe\">\n",
       "  <thead>\n",
       "    <tr style=\"text-align: right;\">\n",
       "      <th></th>\n",
       "      <th>n</th>\n",
       "      <th>finite_frac</th>\n",
       "      <th>tilt</th>\n",
       "      <th>pmSR</th>\n",
       "      <th>ic</th>\n",
       "      <th>r2</th>\n",
       "      <th>tstat</th>\n",
       "      <th>DK_10</th>\n",
       "      <th>DK_30</th>\n",
       "      <th>ac_1</th>\n",
       "      <th>ac_12</th>\n",
       "      <th>ac_72</th>\n",
       "      <th>ac_100</th>\n",
       "      <th>start</th>\n",
       "      <th>end</th>\n",
       "    </tr>\n",
       "  </thead>\n",
       "  <tbody>\n",
       "    <tr>\n",
       "      <td>NaN</td>\n",
       "      <td>14218081</td>\n",
       "      <td>0.997229</td>\n",
       "      <td>-0.140307</td>\n",
       "      <td>0.497361</td>\n",
       "      <td>0.004299</td>\n",
       "      <td>0.000018</td>\n",
       "      <td>21.84203</td>\n",
       "      <td>8.319294</td>\n",
       "      <td>8.396001</td>\n",
       "      <td>0.970629</td>\n",
       "      <td>0.915622</td>\n",
       "      <td>0.86774</td>\n",
       "      <td>0.864989</td>\n",
       "      <td>883733400000000000</td>\n",
       "      <td>1580914800000000000</td>\n",
       "    </tr>\n",
       "  </tbody>\n",
       "</table>\n",
       "</div></font>"
      ],
      "text/plain": [
       "<IPython.core.display.HTML object>"
      ]
     },
     "metadata": {},
     "output_type": "display_data"
    },
    {
     "data": {
      "image/jpeg": "[encoded data removed]",
      "text/plain": [
       "<IPython.core.display.Image object>"
      ]
     },
     "metadata": {},
     "output_type": "display_data"
    },
    {
     "name": "stderr",
     "output_type": "stream",
     "text": [
      "/home/fj/cloud/code/madmax/experiment/logging.py:104: UserWarning: Logger.log_uri not set. Try running Config.start() ? Will not write to disk \n",
      "  warnings.warn( 'Logger.log_uri not set. Try running Config.start() ? Will not write to disk ' )\n"
     ]
    },
    {
     "data": {
      "application/vnd.jupyter.widget-view+json": {
       "model_id": "5db13b0997b84bdd85a94b23165e2a2e",
       "version_major": 2,
       "version_minor": 0
      },
      "text/plain": [
       "HBox(children=(IntProgress(value=0, max=72173), HTML(value='')))"
      ]
     },
     "metadata": {},
     "output_type": "display_data"
    },
    {
     "name": "stdout",
     "output_type": "stream",
     "text": [
      "\n"
     ]
    },
    {
     "data": {
      "text/html": [
       "<font face=\"Courier New\" size=2 color=\"green\">20200429.120118|root|(contextlib.py::112)|INFO&nbsp&nbsp;&nbsp;&nbsp;&nbsprunning&nbspregressions&nbsp...&nbsp(starting)</font>"
      ],
      "text/plain": [
       "<IPython.core.display.HTML object>"
      ]
     },
     "metadata": {},
     "output_type": "display_data"
    },
    {
     "name": "stderr",
     "output_type": "stream",
     "text": [
      "/home/fj/cloud/code/madmax/experiment/logging.py:104: UserWarning: Logger.log_uri not set. Try running Config.start() ? Will not write to disk \n",
      "  warnings.warn( 'Logger.log_uri not set. Try running Config.start() ? Will not write to disk ' )\n",
      "/home/fj/cloud/code/madmax/experiment/logging.py:104: UserWarning: Logger.log_uri not set. Try running Config.start() ? Will not write to disk \n",
      "  warnings.warn( 'Logger.log_uri not set. Try running Config.start() ? Will not write to disk ' )\n"
     ]
    },
    {
     "data": {
      "text/html": [
       "<font face=\"Courier New\" size=2 color=\"green\">20200429.120123|root|(contextlib.py::119)|INFO&nbsp&nbsp;&nbsp;&nbsp;&nbsprunning&nbspregressions&nbsp...&nbsp(done&nbsp-&nbsptook&nbsp5.40s)</font>"
      ],
      "text/plain": [
       "<IPython.core.display.HTML object>"
      ]
     },
     "metadata": {},
     "output_type": "display_data"
    },
    {
     "data": {
      "text/html": [
       "<h2><font face=\"Courier New\">symbol=None&nbsplr=2000,&nbsphl_1=5000,&nbsphl_2=10000&nbspridge=1e-06</font></h2>"
      ],
      "text/plain": [
       "<IPython.core.display.HTML object>"
      ]
     },
     "metadata": {},
     "output_type": "display_data"
    },
    {
     "data": {
      "text/html": [
       "<font face=\"Courier New\">HPSet(<br>&nbsp;&nbsp;&nbsp;&nbspalgo='mbprox',<br>&nbsp;&nbsp;&nbsp;&nbspfeatures=('logrtn_lag_overnight',&nbsp'logrtn_lag_weekend',&nbsp'logrtn_lag_30min',&nbsp'logrtn_lag_1hr',&nbsp'logrtn_lag_1day',&nbsp'logrtn_lag_30min_26.ew_sd',&nbsp'logrtn_lag_1day_26.ew_sd',&nbsp'logrtn_lag_30min_130.ew_sd',&nbsp'logrtn_lag_1day_130.ew_sd',&nbsp'logrtn_lag_30min_390.ew_sd',&nbsp'logrtn_lag_1day_390.ew_sd',&nbsp'logrtn_lag_30min_26.ew_mean',&nbsp'logrtn_lag_1day_26.ew_mean',&nbsp'logrtn_lag_30min_130.ew_mean',&nbsp'logrtn_lag_1day_130.ew_mean',&nbsp'logrtn_lag_30min_390.ew_mean',&nbsp'logrtn_lag_1day_390.ew_mean',&nbsp'cos_timeofday',&nbsp'sin_timeofday',&nbsp'cos_dayofweek',&nbsp'sin_dayofweek',&nbsp'cos_dayofmonth',&nbsp'sin_dayofmonth',&nbsp'cos_weekofyear',&nbsp'sin_weekofyear'),<br>&nbsp;&nbsp;&nbsp;&nbsphl_1=5000,<br>&nbsp;&nbsp;&nbsp;&nbsphl_2=10000,<br>&nbsp;&nbsp;&nbsp;&nbsplookhead=12,<br>&nbsp;&nbsp;&nbsp;&nbsploss='psr',<br>&nbsp;&nbsp;&nbsp;&nbsplr=2000,<br>&nbsp;&nbsp;&nbsp;&nbspresponse='logrtn_lead_30min_equalized',<br>&nbsp;&nbsp;&nbsp;&nbspridge=1e-06,<br>&nbsp;&nbsp;&nbsp;&nbspsymbol=None,<br>&nbsp;&nbsp;&nbsp;&nbsptransformer='quadratic_transformer',<br>&nbsp;&nbsp;&nbsp;&nbspweight='one',<br>)</font>"
      ],
      "text/plain": [
       "<IPython.core.display.HTML object>"
      ]
     },
     "metadata": {},
     "output_type": "display_data"
    },
    {
     "data": {
      "text/html": [
       "<font face=\"Courier New\"><div>\n",
       "<style scoped>\n",
       "    .dataframe tbody tr th:only-of-type {\n",
       "        vertical-align: middle;\n",
       "    }\n",
       "\n",
       "    .dataframe tbody tr th {\n",
       "        vertical-align: top;\n",
       "    }\n",
       "\n",
       "    .dataframe thead th {\n",
       "        text-align: right;\n",
       "    }\n",
       "</style>\n",
       "<table border=\"1\" class=\"dataframe\">\n",
       "  <thead>\n",
       "    <tr style=\"text-align: right;\">\n",
       "      <th></th>\n",
       "      <th>n</th>\n",
       "      <th>finite_frac</th>\n",
       "      <th>tilt</th>\n",
       "      <th>pmSR</th>\n",
       "      <th>ic</th>\n",
       "      <th>r2</th>\n",
       "      <th>tstat</th>\n",
       "      <th>DK_10</th>\n",
       "      <th>DK_30</th>\n",
       "      <th>ac_1</th>\n",
       "      <th>ac_12</th>\n",
       "      <th>ac_72</th>\n",
       "      <th>ac_100</th>\n",
       "      <th>start</th>\n",
       "      <th>end</th>\n",
       "    </tr>\n",
       "  </thead>\n",
       "  <tbody>\n",
       "    <tr>\n",
       "      <td>NaN</td>\n",
       "      <td>14218081</td>\n",
       "      <td>0.997229</td>\n",
       "      <td>-0.154651</td>\n",
       "      <td>0.453582</td>\n",
       "      <td>0.004753</td>\n",
       "      <td>0.000023</td>\n",
       "      <td>23.179184</td>\n",
       "      <td>7.579864</td>\n",
       "      <td>7.650453</td>\n",
       "      <td>0.962637</td>\n",
       "      <td>0.889998</td>\n",
       "      <td>0.824412</td>\n",
       "      <td>0.820724</td>\n",
       "      <td>883733400000000000</td>\n",
       "      <td>1580914800000000000</td>\n",
       "    </tr>\n",
       "  </tbody>\n",
       "</table>\n",
       "</div></font>"
      ],
      "text/plain": [
       "<IPython.core.display.HTML object>"
      ]
     },
     "metadata": {},
     "output_type": "display_data"
    },
    {
     "data": {
      "image/jpeg": "[encoded data removed]",
      "text/plain": [
       "<IPython.core.display.Image object>"
      ]
     },
     "metadata": {},
     "output_type": "display_data"
    },
    {
     "name": "stderr",
     "output_type": "stream",
     "text": [
      "/home/fj/cloud/code/madmax/experiment/logging.py:104: UserWarning: Logger.log_uri not set. Try running Config.start() ? Will not write to disk \n",
      "  warnings.warn( 'Logger.log_uri not set. Try running Config.start() ? Will not write to disk ' )\n"
     ]
    },
    {
     "data": {
      "application/vnd.jupyter.widget-view+json": {
       "model_id": "8098ecf5d10e4403bfa96801cfa6ab5d",
       "version_major": 2,
       "version_minor": 0
      },
      "text/plain": [
       "HBox(children=(IntProgress(value=0, max=72173), HTML(value='')))"
      ]
     },
     "metadata": {},
     "output_type": "display_data"
    },
    {
     "name": "stdout",
     "output_type": "stream",
     "text": [
      "\n"
     ]
    },
    {
     "data": {
      "text/html": [
       "<font face=\"Courier New\" size=2 color=\"green\">20200429.121254|root|(contextlib.py::112)|INFO&nbsp&nbsp;&nbsp;&nbsp;&nbsprunning&nbspregressions&nbsp...&nbsp(starting)</font>"
      ],
      "text/plain": [
       "<IPython.core.display.HTML object>"
      ]
     },
     "metadata": {},
     "output_type": "display_data"
    },
    {
     "name": "stderr",
     "output_type": "stream",
     "text": [
      "/home/fj/cloud/code/madmax/experiment/logging.py:104: UserWarning: Logger.log_uri not set. Try running Config.start() ? Will not write to disk \n",
      "  warnings.warn( 'Logger.log_uri not set. Try running Config.start() ? Will not write to disk ' )\n",
      "/home/fj/cloud/code/madmax/experiment/logging.py:104: UserWarning: Logger.log_uri not set. Try running Config.start() ? Will not write to disk \n",
      "  warnings.warn( 'Logger.log_uri not set. Try running Config.start() ? Will not write to disk ' )\n"
     ]
    },
    {
     "data": {
      "text/html": [
       "<font face=\"Courier New\" size=2 color=\"green\">20200429.121300|root|(contextlib.py::119)|INFO&nbsp&nbsp;&nbsp;&nbsp;&nbsprunning&nbspregressions&nbsp...&nbsp(done&nbsp-&nbsptook&nbsp5.43s)</font>"
      ],
      "text/plain": [
       "<IPython.core.display.HTML object>"
      ]
     },
     "metadata": {},
     "output_type": "display_data"
    },
    {
     "data": {
      "text/html": [
       "<h2><font face=\"Courier New\">symbol=None&nbsplr=500,&nbsphl_1=5000,&nbsphl_2=10000&nbspridge=1e-06</font></h2>"
      ],
      "text/plain": [
       "<IPython.core.display.HTML object>"
      ]
     },
     "metadata": {},
     "output_type": "display_data"
    },
    {
     "data": {
      "text/html": [
       "<font face=\"Courier New\">HPSet(<br>&nbsp;&nbsp;&nbsp;&nbspalgo='mbprox',<br>&nbsp;&nbsp;&nbsp;&nbspfeatures=('logrtn_lag_overnight',&nbsp'logrtn_lag_weekend',&nbsp'logrtn_lag_30min',&nbsp'logrtn_lag_1hr',&nbsp'logrtn_lag_1day',&nbsp'logrtn_lag_30min_26.ew_sd',&nbsp'logrtn_lag_1day_26.ew_sd',&nbsp'logrtn_lag_30min_130.ew_sd',&nbsp'logrtn_lag_1day_130.ew_sd',&nbsp'logrtn_lag_30min_390.ew_sd',&nbsp'logrtn_lag_1day_390.ew_sd',&nbsp'logrtn_lag_30min_26.ew_mean',&nbsp'logrtn_lag_1day_26.ew_mean',&nbsp'logrtn_lag_30min_130.ew_mean',&nbsp'logrtn_lag_1day_130.ew_mean',&nbsp'logrtn_lag_30min_390.ew_mean',&nbsp'logrtn_lag_1day_390.ew_mean',&nbsp'cos_timeofday',&nbsp'sin_timeofday',&nbsp'cos_dayofweek',&nbsp'sin_dayofweek',&nbsp'cos_dayofmonth',&nbsp'sin_dayofmonth',&nbsp'cos_weekofyear',&nbsp'sin_weekofyear'),<br>&nbsp;&nbsp;&nbsp;&nbsphl_1=5000,<br>&nbsp;&nbsp;&nbsp;&nbsphl_2=10000,<br>&nbsp;&nbsp;&nbsp;&nbsplookhead=12,<br>&nbsp;&nbsp;&nbsp;&nbsploss='psr',<br>&nbsp;&nbsp;&nbsp;&nbsplr=500,<br>&nbsp;&nbsp;&nbsp;&nbspresponse='logrtn_lead_30min_equalized',<br>&nbsp;&nbsp;&nbsp;&nbspridge=1e-06,<br>&nbsp;&nbsp;&nbsp;&nbspsymbol=None,<br>&nbsp;&nbsp;&nbsp;&nbsptransformer='quadratic_transformer',<br>&nbsp;&nbsp;&nbsp;&nbspweight='one',<br>)</font>"
      ],
      "text/plain": [
       "<IPython.core.display.HTML object>"
      ]
     },
     "metadata": {},
     "output_type": "display_data"
    },
    {
     "data": {
      "text/html": [
       "<font face=\"Courier New\"><div>\n",
       "<style scoped>\n",
       "    .dataframe tbody tr th:only-of-type {\n",
       "        vertical-align: middle;\n",
       "    }\n",
       "\n",
       "    .dataframe tbody tr th {\n",
       "        vertical-align: top;\n",
       "    }\n",
       "\n",
       "    .dataframe thead th {\n",
       "        text-align: right;\n",
       "    }\n",
       "</style>\n",
       "<table border=\"1\" class=\"dataframe\">\n",
       "  <thead>\n",
       "    <tr style=\"text-align: right;\">\n",
       "      <th></th>\n",
       "      <th>n</th>\n",
       "      <th>finite_frac</th>\n",
       "      <th>tilt</th>\n",
       "      <th>pmSR</th>\n",
       "      <th>ic</th>\n",
       "      <th>r2</th>\n",
       "      <th>tstat</th>\n",
       "      <th>DK_10</th>\n",
       "      <th>DK_30</th>\n",
       "      <th>ac_1</th>\n",
       "      <th>ac_12</th>\n",
       "      <th>ac_72</th>\n",
       "      <th>ac_100</th>\n",
       "      <th>start</th>\n",
       "      <th>end</th>\n",
       "    </tr>\n",
       "  </thead>\n",
       "  <tbody>\n",
       "    <tr>\n",
       "      <td>NaN</td>\n",
       "      <td>14218081</td>\n",
       "      <td>0.997229</td>\n",
       "      <td>-0.125748</td>\n",
       "      <td>0.542157</td>\n",
       "      <td>0.004019</td>\n",
       "      <td>0.000016</td>\n",
       "      <td>21.099665</td>\n",
       "      <td>9.095236</td>\n",
       "      <td>9.169578</td>\n",
       "      <td>0.976007</td>\n",
       "      <td>0.932161</td>\n",
       "      <td>0.894795</td>\n",
       "      <td>0.892675</td>\n",
       "      <td>883733400000000000</td>\n",
       "      <td>1580914800000000000</td>\n",
       "    </tr>\n",
       "  </tbody>\n",
       "</table>\n",
       "</div></font>"
      ],
      "text/plain": [
       "<IPython.core.display.HTML object>"
      ]
     },
     "metadata": {},
     "output_type": "display_data"
    },
    {
     "data": {
      "image/jpeg": "[encoded data removed]",
      "text/plain": [
       "<IPython.core.display.Image object>"
      ]
     },
     "metadata": {},
     "output_type": "display_data"
    },
    {
     "name": "stderr",
     "output_type": "stream",
     "text": [
      "/home/fj/cloud/code/madmax/experiment/logging.py:104: UserWarning: Logger.log_uri not set. Try running Config.start() ? Will not write to disk \n",
      "  warnings.warn( 'Logger.log_uri not set. Try running Config.start() ? Will not write to disk ' )\n"
     ]
    },
    {
     "data": {
      "application/vnd.jupyter.widget-view+json": {
       "model_id": "726ff2e2d5d44175b235ec477a96a371",
       "version_major": 2,
       "version_minor": 0
      },
      "text/plain": [
       "HBox(children=(IntProgress(value=0, max=72173), HTML(value='')))"
      ]
     },
     "metadata": {},
     "output_type": "display_data"
    },
    {
     "name": "stdout",
     "output_type": "stream",
     "text": [
      "\n"
     ]
    },
    {
     "data": {
      "text/html": [
       "<font face=\"Courier New\" size=2 color=\"green\">20200429.122430|root|(contextlib.py::112)|INFO&nbsp&nbsp;&nbsp;&nbsp;&nbsprunning&nbspregressions&nbsp...&nbsp(starting)</font>"
      ],
      "text/plain": [
       "<IPython.core.display.HTML object>"
      ]
     },
     "metadata": {},
     "output_type": "display_data"
    },
    {
     "name": "stderr",
     "output_type": "stream",
     "text": [
      "/home/fj/cloud/code/madmax/experiment/logging.py:104: UserWarning: Logger.log_uri not set. Try running Config.start() ? Will not write to disk \n",
      "  warnings.warn( 'Logger.log_uri not set. Try running Config.start() ? Will not write to disk ' )\n",
      "/home/fj/cloud/code/madmax/experiment/logging.py:104: UserWarning: Logger.log_uri not set. Try running Config.start() ? Will not write to disk \n",
      "  warnings.warn( 'Logger.log_uri not set. Try running Config.start() ? Will not write to disk ' )\n"
     ]
    },
    {
     "data": {
      "text/html": [
       "<font face=\"Courier New\" size=2 color=\"green\">20200429.122435|root|(contextlib.py::119)|INFO&nbsp&nbsp;&nbsp;&nbsp;&nbsprunning&nbspregressions&nbsp...&nbsp(done&nbsp-&nbsptook&nbsp5.38s)</font>"
      ],
      "text/plain": [
       "<IPython.core.display.HTML object>"
      ]
     },
     "metadata": {},
     "output_type": "display_data"
    },
    {
     "data": {
      "text/html": [
       "<h2><font face=\"Courier New\">symbol=None&nbsplr=1000,&nbsphl_1=1000,&nbsphl_2=10000&nbspridge=1e-06</font></h2>"
      ],
      "text/plain": [
       "<IPython.core.display.HTML object>"
      ]
     },
     "metadata": {},
     "output_type": "display_data"
    },
    {
     "data": {
      "text/html": [
       "<font face=\"Courier New\">HPSet(<br>&nbsp;&nbsp;&nbsp;&nbspalgo='mbprox',<br>&nbsp;&nbsp;&nbsp;&nbspfeatures=('logrtn_lag_overnight',&nbsp'logrtn_lag_weekend',&nbsp'logrtn_lag_30min',&nbsp'logrtn_lag_1hr',&nbsp'logrtn_lag_1day',&nbsp'logrtn_lag_30min_26.ew_sd',&nbsp'logrtn_lag_1day_26.ew_sd',&nbsp'logrtn_lag_30min_130.ew_sd',&nbsp'logrtn_lag_1day_130.ew_sd',&nbsp'logrtn_lag_30min_390.ew_sd',&nbsp'logrtn_lag_1day_390.ew_sd',&nbsp'logrtn_lag_30min_26.ew_mean',&nbsp'logrtn_lag_1day_26.ew_mean',&nbsp'logrtn_lag_30min_130.ew_mean',&nbsp'logrtn_lag_1day_130.ew_mean',&nbsp'logrtn_lag_30min_390.ew_mean',&nbsp'logrtn_lag_1day_390.ew_mean',&nbsp'cos_timeofday',&nbsp'sin_timeofday',&nbsp'cos_dayofweek',&nbsp'sin_dayofweek',&nbsp'cos_dayofmonth',&nbsp'sin_dayofmonth',&nbsp'cos_weekofyear',&nbsp'sin_weekofyear'),<br>&nbsp;&nbsp;&nbsp;&nbsphl_1=1000,<br>&nbsp;&nbsp;&nbsp;&nbsphl_2=10000,<br>&nbsp;&nbsp;&nbsp;&nbsplookhead=12,<br>&nbsp;&nbsp;&nbsp;&nbsploss='psr',<br>&nbsp;&nbsp;&nbsp;&nbsplr=1000,<br>&nbsp;&nbsp;&nbsp;&nbspresponse='logrtn_lead_30min_equalized',<br>&nbsp;&nbsp;&nbsp;&nbspridge=1e-06,<br>&nbsp;&nbsp;&nbsp;&nbspsymbol=None,<br>&nbsp;&nbsp;&nbsp;&nbsptransformer='quadratic_transformer',<br>&nbsp;&nbsp;&nbsp;&nbspweight='one',<br>)</font>"
      ],
      "text/plain": [
       "<IPython.core.display.HTML object>"
      ]
     },
     "metadata": {},
     "output_type": "display_data"
    },
    {
     "data": {
      "text/html": [
       "<font face=\"Courier New\"><div>\n",
       "<style scoped>\n",
       "    .dataframe tbody tr th:only-of-type {\n",
       "        vertical-align: middle;\n",
       "    }\n",
       "\n",
       "    .dataframe tbody tr th {\n",
       "        vertical-align: top;\n",
       "    }\n",
       "\n",
       "    .dataframe thead th {\n",
       "        text-align: right;\n",
       "    }\n",
       "</style>\n",
       "<table border=\"1\" class=\"dataframe\">\n",
       "  <thead>\n",
       "    <tr style=\"text-align: right;\">\n",
       "      <th></th>\n",
       "      <th>n</th>\n",
       "      <th>finite_frac</th>\n",
       "      <th>tilt</th>\n",
       "      <th>pmSR</th>\n",
       "      <th>ic</th>\n",
       "      <th>r2</th>\n",
       "      <th>tstat</th>\n",
       "      <th>DK_10</th>\n",
       "      <th>DK_30</th>\n",
       "      <th>ac_1</th>\n",
       "      <th>ac_12</th>\n",
       "      <th>ac_72</th>\n",
       "      <th>ac_100</th>\n",
       "      <th>start</th>\n",
       "      <th>end</th>\n",
       "    </tr>\n",
       "  </thead>\n",
       "  <tbody>\n",
       "    <tr>\n",
       "      <td>NaN</td>\n",
       "      <td>14218081</td>\n",
       "      <td>0.997229</td>\n",
       "      <td>-0.164291</td>\n",
       "      <td>0.287229</td>\n",
       "      <td>0.001619</td>\n",
       "      <td>0.000003</td>\n",
       "      <td>16.279852</td>\n",
       "      <td>4.739922</td>\n",
       "      <td>4.810483</td>\n",
       "      <td>0.955299</td>\n",
       "      <td>0.873975</td>\n",
       "      <td>0.802311</td>\n",
       "      <td>0.796703</td>\n",
       "      <td>883733400000000000</td>\n",
       "      <td>1580914800000000000</td>\n",
       "    </tr>\n",
       "  </tbody>\n",
       "</table>\n",
       "</div></font>"
      ],
      "text/plain": [
       "<IPython.core.display.HTML object>"
      ]
     },
     "metadata": {},
     "output_type": "display_data"
    },
    {
     "data": {
      "image/jpeg": "[encoded data removed]",
      "text/plain": [
       "<IPython.core.display.Image object>"
      ]
     },
     "metadata": {},
     "output_type": "display_data"
    },
    {
     "name": "stderr",
     "output_type": "stream",
     "text": [
      "/home/fj/cloud/code/madmax/experiment/logging.py:104: UserWarning: Logger.log_uri not set. Try running Config.start() ? Will not write to disk \n",
      "  warnings.warn( 'Logger.log_uri not set. Try running Config.start() ? Will not write to disk ' )\n"
     ]
    },
    {
     "data": {
      "application/vnd.jupyter.widget-view+json": {
       "model_id": "61fb3361e2034f33aa15ed836f9a25f5",
       "version_major": 2,
       "version_minor": 0
      },
      "text/plain": [
       "HBox(children=(IntProgress(value=0, max=72173), HTML(value='')))"
      ]
     },
     "metadata": {},
     "output_type": "display_data"
    },
    {
     "name": "stdout",
     "output_type": "stream",
     "text": [
      "\n"
     ]
    },
    {
     "data": {
      "text/html": [
       "<font face=\"Courier New\" size=2 color=\"green\">20200429.123605|root|(contextlib.py::112)|INFO&nbsp&nbsp;&nbsp;&nbsp;&nbsprunning&nbspregressions&nbsp...&nbsp(starting)</font>"
      ],
      "text/plain": [
       "<IPython.core.display.HTML object>"
      ]
     },
     "metadata": {},
     "output_type": "display_data"
    },
    {
     "name": "stderr",
     "output_type": "stream",
     "text": [
      "/home/fj/cloud/code/madmax/experiment/logging.py:104: UserWarning: Logger.log_uri not set. Try running Config.start() ? Will not write to disk \n",
      "  warnings.warn( 'Logger.log_uri not set. Try running Config.start() ? Will not write to disk ' )\n",
      "/home/fj/cloud/code/madmax/experiment/logging.py:104: UserWarning: Logger.log_uri not set. Try running Config.start() ? Will not write to disk \n",
      "  warnings.warn( 'Logger.log_uri not set. Try running Config.start() ? Will not write to disk ' )\n"
     ]
    },
    {
     "data": {
      "text/html": [
       "<font face=\"Courier New\" size=2 color=\"green\">20200429.123611|root|(contextlib.py::119)|INFO&nbsp&nbsp;&nbsp;&nbsp;&nbsprunning&nbspregressions&nbsp...&nbsp(done&nbsp-&nbsptook&nbsp5.46s)</font>"
      ],
      "text/plain": [
       "<IPython.core.display.HTML object>"
      ]
     },
     "metadata": {},
     "output_type": "display_data"
    },
    {
     "data": {
      "text/html": [
       "<h2><font face=\"Courier New\">symbol=None&nbsplr=2000,&nbsphl_1=1000,&nbsphl_2=10000&nbspridge=1e-06</font></h2>"
      ],
      "text/plain": [
       "<IPython.core.display.HTML object>"
      ]
     },
     "metadata": {},
     "output_type": "display_data"
    },
    {
     "data": {
      "text/html": [
       "<font face=\"Courier New\">HPSet(<br>&nbsp;&nbsp;&nbsp;&nbspalgo='mbprox',<br>&nbsp;&nbsp;&nbsp;&nbspfeatures=('logrtn_lag_overnight',&nbsp'logrtn_lag_weekend',&nbsp'logrtn_lag_30min',&nbsp'logrtn_lag_1hr',&nbsp'logrtn_lag_1day',&nbsp'logrtn_lag_30min_26.ew_sd',&nbsp'logrtn_lag_1day_26.ew_sd',&nbsp'logrtn_lag_30min_130.ew_sd',&nbsp'logrtn_lag_1day_130.ew_sd',&nbsp'logrtn_lag_30min_390.ew_sd',&nbsp'logrtn_lag_1day_390.ew_sd',&nbsp'logrtn_lag_30min_26.ew_mean',&nbsp'logrtn_lag_1day_26.ew_mean',&nbsp'logrtn_lag_30min_130.ew_mean',&nbsp'logrtn_lag_1day_130.ew_mean',&nbsp'logrtn_lag_30min_390.ew_mean',&nbsp'logrtn_lag_1day_390.ew_mean',&nbsp'cos_timeofday',&nbsp'sin_timeofday',&nbsp'cos_dayofweek',&nbsp'sin_dayofweek',&nbsp'cos_dayofmonth',&nbsp'sin_dayofmonth',&nbsp'cos_weekofyear',&nbsp'sin_weekofyear'),<br>&nbsp;&nbsp;&nbsp;&nbsphl_1=1000,<br>&nbsp;&nbsp;&nbsp;&nbsphl_2=10000,<br>&nbsp;&nbsp;&nbsp;&nbsplookhead=12,<br>&nbsp;&nbsp;&nbsp;&nbsploss='psr',<br>&nbsp;&nbsp;&nbsp;&nbsplr=2000,<br>&nbsp;&nbsp;&nbsp;&nbspresponse='logrtn_lead_30min_equalized',<br>&nbsp;&nbsp;&nbsp;&nbspridge=1e-06,<br>&nbsp;&nbsp;&nbsp;&nbspsymbol=None,<br>&nbsp;&nbsp;&nbsp;&nbsptransformer='quadratic_transformer',<br>&nbsp;&nbsp;&nbsp;&nbspweight='one',<br>)</font>"
      ],
      "text/plain": [
       "<IPython.core.display.HTML object>"
      ]
     },
     "metadata": {},
     "output_type": "display_data"
    },
    {
     "data": {
      "text/html": [
       "<font face=\"Courier New\"><div>\n",
       "<style scoped>\n",
       "    .dataframe tbody tr th:only-of-type {\n",
       "        vertical-align: middle;\n",
       "    }\n",
       "\n",
       "    .dataframe tbody tr th {\n",
       "        vertical-align: top;\n",
       "    }\n",
       "\n",
       "    .dataframe thead th {\n",
       "        text-align: right;\n",
       "    }\n",
       "</style>\n",
       "<table border=\"1\" class=\"dataframe\">\n",
       "  <thead>\n",
       "    <tr style=\"text-align: right;\">\n",
       "      <th></th>\n",
       "      <th>n</th>\n",
       "      <th>finite_frac</th>\n",
       "      <th>tilt</th>\n",
       "      <th>pmSR</th>\n",
       "      <th>ic</th>\n",
       "      <th>r2</th>\n",
       "      <th>tstat</th>\n",
       "      <th>DK_10</th>\n",
       "      <th>DK_30</th>\n",
       "      <th>ac_1</th>\n",
       "      <th>ac_12</th>\n",
       "      <th>ac_72</th>\n",
       "      <th>ac_100</th>\n",
       "      <th>start</th>\n",
       "      <th>end</th>\n",
       "    </tr>\n",
       "  </thead>\n",
       "  <tbody>\n",
       "    <tr>\n",
       "      <td>NaN</td>\n",
       "      <td>14218081</td>\n",
       "      <td>0.997229</td>\n",
       "      <td>-0.181661</td>\n",
       "      <td>0.261754</td>\n",
       "      <td>0.002224</td>\n",
       "      <td>0.000005</td>\n",
       "      <td>17.26869</td>\n",
       "      <td>4.332981</td>\n",
       "      <td>4.413126</td>\n",
       "      <td>0.940299</td>\n",
       "      <td>0.828866</td>\n",
       "      <td>0.735392</td>\n",
       "      <td>0.728813</td>\n",
       "      <td>883733400000000000</td>\n",
       "      <td>1580914800000000000</td>\n",
       "    </tr>\n",
       "  </tbody>\n",
       "</table>\n",
       "</div></font>"
      ],
      "text/plain": [
       "<IPython.core.display.HTML object>"
      ]
     },
     "metadata": {},
     "output_type": "display_data"
    },
    {
     "data": {
      "image/jpeg": "[encoded data removed]",
      "text/plain": [
       "<IPython.core.display.Image object>"
      ]
     },
     "metadata": {},
     "output_type": "display_data"
    },
    {
     "name": "stderr",
     "output_type": "stream",
     "text": [
      "/home/fj/cloud/code/madmax/experiment/logging.py:104: UserWarning: Logger.log_uri not set. Try running Config.start() ? Will not write to disk \n",
      "  warnings.warn( 'Logger.log_uri not set. Try running Config.start() ? Will not write to disk ' )\n"
     ]
    },
    {
     "data": {
      "application/vnd.jupyter.widget-view+json": {
       "model_id": "930d752db8014b8c9426cd511993281f",
       "version_major": 2,
       "version_minor": 0
      },
      "text/plain": [
       "HBox(children=(IntProgress(value=0, max=72173), HTML(value='')))"
      ]
     },
     "metadata": {},
     "output_type": "display_data"
    },
    {
     "name": "stdout",
     "output_type": "stream",
     "text": [
      "\n"
     ]
    },
    {
     "data": {
      "text/html": [
       "<font face=\"Courier New\" size=2 color=\"green\">20200429.124743|root|(contextlib.py::112)|INFO&nbsp&nbsp;&nbsp;&nbsp;&nbsprunning&nbspregressions&nbsp...&nbsp(starting)</font>"
      ],
      "text/plain": [
       "<IPython.core.display.HTML object>"
      ]
     },
     "metadata": {},
     "output_type": "display_data"
    },
    {
     "name": "stderr",
     "output_type": "stream",
     "text": [
      "/home/fj/cloud/code/madmax/experiment/logging.py:104: UserWarning: Logger.log_uri not set. Try running Config.start() ? Will not write to disk \n",
      "  warnings.warn( 'Logger.log_uri not set. Try running Config.start() ? Will not write to disk ' )\n",
      "/home/fj/cloud/code/madmax/experiment/logging.py:104: UserWarning: Logger.log_uri not set. Try running Config.start() ? Will not write to disk \n",
      "  warnings.warn( 'Logger.log_uri not set. Try running Config.start() ? Will not write to disk ' )\n"
     ]
    },
    {
     "data": {
      "text/html": [
       "<font face=\"Courier New\" size=2 color=\"green\">20200429.124748|root|(contextlib.py::119)|INFO&nbsp&nbsp;&nbsp;&nbsp;&nbsprunning&nbspregressions&nbsp...&nbsp(done&nbsp-&nbsptook&nbsp5.46s)</font>"
      ],
      "text/plain": [
       "<IPython.core.display.HTML object>"
      ]
     },
     "metadata": {},
     "output_type": "display_data"
    },
    {
     "data": {
      "text/html": [
       "<h2><font face=\"Courier New\">symbol=None&nbsplr=500,&nbsphl_1=1000,&nbsphl_2=10000&nbspridge=1e-06</font></h2>"
      ],
      "text/plain": [
       "<IPython.core.display.HTML object>"
      ]
     },
     "metadata": {},
     "output_type": "display_data"
    },
    {
     "data": {
      "text/html": [
       "<font face=\"Courier New\">HPSet(<br>&nbsp;&nbsp;&nbsp;&nbspalgo='mbprox',<br>&nbsp;&nbsp;&nbsp;&nbspfeatures=('logrtn_lag_overnight',&nbsp'logrtn_lag_weekend',&nbsp'logrtn_lag_30min',&nbsp'logrtn_lag_1hr',&nbsp'logrtn_lag_1day',&nbsp'logrtn_lag_30min_26.ew_sd',&nbsp'logrtn_lag_1day_26.ew_sd',&nbsp'logrtn_lag_30min_130.ew_sd',&nbsp'logrtn_lag_1day_130.ew_sd',&nbsp'logrtn_lag_30min_390.ew_sd',&nbsp'logrtn_lag_1day_390.ew_sd',&nbsp'logrtn_lag_30min_26.ew_mean',&nbsp'logrtn_lag_1day_26.ew_mean',&nbsp'logrtn_lag_30min_130.ew_mean',&nbsp'logrtn_lag_1day_130.ew_mean',&nbsp'logrtn_lag_30min_390.ew_mean',&nbsp'logrtn_lag_1day_390.ew_mean',&nbsp'cos_timeofday',&nbsp'sin_timeofday',&nbsp'cos_dayofweek',&nbsp'sin_dayofweek',&nbsp'cos_dayofmonth',&nbsp'sin_dayofmonth',&nbsp'cos_weekofyear',&nbsp'sin_weekofyear'),<br>&nbsp;&nbsp;&nbsp;&nbsphl_1=1000,<br>&nbsp;&nbsp;&nbsp;&nbsphl_2=10000,<br>&nbsp;&nbsp;&nbsp;&nbsplookhead=12,<br>&nbsp;&nbsp;&nbsp;&nbsploss='psr',<br>&nbsp;&nbsp;&nbsp;&nbsplr=500,<br>&nbsp;&nbsp;&nbsp;&nbspresponse='logrtn_lead_30min_equalized',<br>&nbsp;&nbsp;&nbsp;&nbspridge=1e-06,<br>&nbsp;&nbsp;&nbsp;&nbspsymbol=None,<br>&nbsp;&nbsp;&nbsp;&nbsptransformer='quadratic_transformer',<br>&nbsp;&nbsp;&nbsp;&nbspweight='one',<br>)</font>"
      ],
      "text/plain": [
       "<IPython.core.display.HTML object>"
      ]
     },
     "metadata": {},
     "output_type": "display_data"
    },
    {
     "data": {
      "text/html": [
       "<font face=\"Courier New\"><div>\n",
       "<style scoped>\n",
       "    .dataframe tbody tr th:only-of-type {\n",
       "        vertical-align: middle;\n",
       "    }\n",
       "\n",
       "    .dataframe tbody tr th {\n",
       "        vertical-align: top;\n",
       "    }\n",
       "\n",
       "    .dataframe thead th {\n",
       "        text-align: right;\n",
       "    }\n",
       "</style>\n",
       "<table border=\"1\" class=\"dataframe\">\n",
       "  <thead>\n",
       "    <tr style=\"text-align: right;\">\n",
       "      <th></th>\n",
       "      <th>n</th>\n",
       "      <th>finite_frac</th>\n",
       "      <th>tilt</th>\n",
       "      <th>pmSR</th>\n",
       "      <th>ic</th>\n",
       "      <th>r2</th>\n",
       "      <th>tstat</th>\n",
       "      <th>DK_10</th>\n",
       "      <th>DK_30</th>\n",
       "      <th>ac_1</th>\n",
       "      <th>ac_12</th>\n",
       "      <th>ac_72</th>\n",
       "      <th>ac_100</th>\n",
       "      <th>start</th>\n",
       "      <th>end</th>\n",
       "    </tr>\n",
       "  </thead>\n",
       "  <tbody>\n",
       "    <tr>\n",
       "      <td>NaN</td>\n",
       "      <td>14218081</td>\n",
       "      <td>0.997229</td>\n",
       "      <td>-0.141665</td>\n",
       "      <td>0.320813</td>\n",
       "      <td>0.001525</td>\n",
       "      <td>0.000002</td>\n",
       "      <td>15.82492</td>\n",
       "      <td>5.291089</td>\n",
       "      <td>5.377757</td>\n",
       "      <td>0.965926</td>\n",
       "      <td>0.905436</td>\n",
       "      <td>0.849753</td>\n",
       "      <td>0.844944</td>\n",
       "      <td>883733400000000000</td>\n",
       "      <td>1580914800000000000</td>\n",
       "    </tr>\n",
       "  </tbody>\n",
       "</table>\n",
       "</div></font>"
      ],
      "text/plain": [
       "<IPython.core.display.HTML object>"
      ]
     },
     "metadata": {},
     "output_type": "display_data"
    },
    {
     "data": {
      "image/jpeg": "[encoded data removed]",
      "text/plain": [
       "<IPython.core.display.Image object>"
      ]
     },
     "metadata": {},
     "output_type": "display_data"
    },
    {
     "name": "stderr",
     "output_type": "stream",
     "text": [
      "/home/fj/cloud/code/madmax/experiment/logging.py:104: UserWarning: Logger.log_uri not set. Try running Config.start() ? Will not write to disk \n",
      "  warnings.warn( 'Logger.log_uri not set. Try running Config.start() ? Will not write to disk ' )\n"
     ]
    },
    {
     "data": {
      "application/vnd.jupyter.widget-view+json": {
       "model_id": "82cb12f2f8984e2e8c906a34816f7968",
       "version_major": 2,
       "version_minor": 0
      },
      "text/plain": [
       "HBox(children=(IntProgress(value=0, max=72173), HTML(value='')))"
      ]
     },
     "metadata": {},
     "output_type": "display_data"
    },
    {
     "name": "stdout",
     "output_type": "stream",
     "text": [
      "\n"
     ]
    },
    {
     "data": {
      "text/html": [
       "<font face=\"Courier New\" size=2 color=\"green\">20200429.125920|root|(contextlib.py::112)|INFO&nbsp&nbsp;&nbsp;&nbsp;&nbsprunning&nbspregressions&nbsp...&nbsp(starting)</font>"
      ],
      "text/plain": [
       "<IPython.core.display.HTML object>"
      ]
     },
     "metadata": {},
     "output_type": "display_data"
    },
    {
     "name": "stderr",
     "output_type": "stream",
     "text": [
      "/home/fj/cloud/code/madmax/experiment/logging.py:104: UserWarning: Logger.log_uri not set. Try running Config.start() ? Will not write to disk \n",
      "  warnings.warn( 'Logger.log_uri not set. Try running Config.start() ? Will not write to disk ' )\n",
      "/home/fj/cloud/code/madmax/experiment/logging.py:104: UserWarning: Logger.log_uri not set. Try running Config.start() ? Will not write to disk \n",
      "  warnings.warn( 'Logger.log_uri not set. Try running Config.start() ? Will not write to disk ' )\n"
     ]
    },
    {
     "data": {
      "text/html": [
       "<font face=\"Courier New\" size=2 color=\"green\">20200429.125926|root|(contextlib.py::119)|INFO&nbsp&nbsp;&nbsp;&nbsp;&nbsprunning&nbspregressions&nbsp...&nbsp(done&nbsp-&nbsptook&nbsp5.51s)</font>"
      ],
      "text/plain": [
       "<IPython.core.display.HTML object>"
      ]
     },
     "metadata": {},
     "output_type": "display_data"
    },
    {
     "data": {
      "text/html": [
       "<h2><font face=\"Courier New\">symbol=None&nbsplr=1000,&nbsphl_1=5000,&nbsphl_2=5000&nbspridge=1e-06</font></h2>"
      ],
      "text/plain": [
       "<IPython.core.display.HTML object>"
      ]
     },
     "metadata": {},
     "output_type": "display_data"
    },
    {
     "data": {
      "text/html": [
       "<font face=\"Courier New\">HPSet(<br>&nbsp;&nbsp;&nbsp;&nbspalgo='mbprox',<br>&nbsp;&nbsp;&nbsp;&nbspfeatures=('logrtn_lag_overnight',&nbsp'logrtn_lag_weekend',&nbsp'logrtn_lag_30min',&nbsp'logrtn_lag_1hr',&nbsp'logrtn_lag_1day',&nbsp'logrtn_lag_30min_26.ew_sd',&nbsp'logrtn_lag_1day_26.ew_sd',&nbsp'logrtn_lag_30min_130.ew_sd',&nbsp'logrtn_lag_1day_130.ew_sd',&nbsp'logrtn_lag_30min_390.ew_sd',&nbsp'logrtn_lag_1day_390.ew_sd',&nbsp'logrtn_lag_30min_26.ew_mean',&nbsp'logrtn_lag_1day_26.ew_mean',&nbsp'logrtn_lag_30min_130.ew_mean',&nbsp'logrtn_lag_1day_130.ew_mean',&nbsp'logrtn_lag_30min_390.ew_mean',&nbsp'logrtn_lag_1day_390.ew_mean',&nbsp'cos_timeofday',&nbsp'sin_timeofday',&nbsp'cos_dayofweek',&nbsp'sin_dayofweek',&nbsp'cos_dayofmonth',&nbsp'sin_dayofmonth',&nbsp'cos_weekofyear',&nbsp'sin_weekofyear'),<br>&nbsp;&nbsp;&nbsp;&nbsphl_1=5000,<br>&nbsp;&nbsp;&nbsp;&nbsphl_2=5000,<br>&nbsp;&nbsp;&nbsp;&nbsplookhead=12,<br>&nbsp;&nbsp;&nbsp;&nbsploss='psr',<br>&nbsp;&nbsp;&nbsp;&nbsplr=1000,<br>&nbsp;&nbsp;&nbsp;&nbspresponse='logrtn_lead_30min_equalized',<br>&nbsp;&nbsp;&nbsp;&nbspridge=1e-06,<br>&nbsp;&nbsp;&nbsp;&nbspsymbol=None,<br>&nbsp;&nbsp;&nbsp;&nbsptransformer='quadratic_transformer',<br>&nbsp;&nbsp;&nbsp;&nbspweight='one',<br>)</font>"
      ],
      "text/plain": [
       "<IPython.core.display.HTML object>"
      ]
     },
     "metadata": {},
     "output_type": "display_data"
    },
    {
     "data": {
      "text/html": [
       "<font face=\"Courier New\"><div>\n",
       "<style scoped>\n",
       "    .dataframe tbody tr th:only-of-type {\n",
       "        vertical-align: middle;\n",
       "    }\n",
       "\n",
       "    .dataframe tbody tr th {\n",
       "        vertical-align: top;\n",
       "    }\n",
       "\n",
       "    .dataframe thead th {\n",
       "        text-align: right;\n",
       "    }\n",
       "</style>\n",
       "<table border=\"1\" class=\"dataframe\">\n",
       "  <thead>\n",
       "    <tr style=\"text-align: right;\">\n",
       "      <th></th>\n",
       "      <th>n</th>\n",
       "      <th>finite_frac</th>\n",
       "      <th>tilt</th>\n",
       "      <th>pmSR</th>\n",
       "      <th>ic</th>\n",
       "      <th>r2</th>\n",
       "      <th>tstat</th>\n",
       "      <th>DK_10</th>\n",
       "      <th>DK_30</th>\n",
       "      <th>ac_1</th>\n",
       "      <th>ac_12</th>\n",
       "      <th>ac_72</th>\n",
       "      <th>ac_100</th>\n",
       "      <th>start</th>\n",
       "      <th>end</th>\n",
       "    </tr>\n",
       "  </thead>\n",
       "  <tbody>\n",
       "    <tr>\n",
       "      <td>NaN</td>\n",
       "      <td>14218081</td>\n",
       "      <td>0.997395</td>\n",
       "      <td>-0.136292</td>\n",
       "      <td>0.518734</td>\n",
       "      <td>0.004292</td>\n",
       "      <td>0.000018</td>\n",
       "      <td>21.717505</td>\n",
       "      <td>8.670817</td>\n",
       "      <td>8.744632</td>\n",
       "      <td>0.973894</td>\n",
       "      <td>0.925013</td>\n",
       "      <td>0.879527</td>\n",
       "      <td>0.877426</td>\n",
       "      <td>883733400000000000</td>\n",
       "      <td>1580914800000000000</td>\n",
       "    </tr>\n",
       "  </tbody>\n",
       "</table>\n",
       "</div></font>"
      ],
      "text/plain": [
       "<IPython.core.display.HTML object>"
      ]
     },
     "metadata": {},
     "output_type": "display_data"
    },
    {
     "data": {
      "image/jpeg": "[encoded data removed]",
      "text/plain": [
       "<IPython.core.display.Image object>"
      ]
     },
     "metadata": {},
     "output_type": "display_data"
    },
    {
     "name": "stderr",
     "output_type": "stream",
     "text": [
      "/home/fj/cloud/code/madmax/experiment/logging.py:104: UserWarning: Logger.log_uri not set. Try running Config.start() ? Will not write to disk \n",
      "  warnings.warn( 'Logger.log_uri not set. Try running Config.start() ? Will not write to disk ' )\n"
     ]
    },
    {
     "data": {
      "application/vnd.jupyter.widget-view+json": {
       "model_id": "46987f014d5f4195b2c52151dcf89fd4",
       "version_major": 2,
       "version_minor": 0
      },
      "text/plain": [
       "HBox(children=(IntProgress(value=0, max=72173), HTML(value='')))"
      ]
     },
     "metadata": {},
     "output_type": "display_data"
    },
    {
     "name": "stdout",
     "output_type": "stream",
     "text": [
      "\n"
     ]
    },
    {
     "data": {
      "text/html": [
       "<font face=\"Courier New\" size=2 color=\"green\">20200429.131104|root|(contextlib.py::112)|INFO&nbsp&nbsp;&nbsp;&nbsp;&nbsprunning&nbspregressions&nbsp...&nbsp(starting)</font>"
      ],
      "text/plain": [
       "<IPython.core.display.HTML object>"
      ]
     },
     "metadata": {},
     "output_type": "display_data"
    },
    {
     "name": "stderr",
     "output_type": "stream",
     "text": [
      "/home/fj/cloud/code/madmax/experiment/logging.py:104: UserWarning: Logger.log_uri not set. Try running Config.start() ? Will not write to disk \n",
      "  warnings.warn( 'Logger.log_uri not set. Try running Config.start() ? Will not write to disk ' )\n",
      "/home/fj/cloud/code/madmax/experiment/logging.py:104: UserWarning: Logger.log_uri not set. Try running Config.start() ? Will not write to disk \n",
      "  warnings.warn( 'Logger.log_uri not set. Try running Config.start() ? Will not write to disk ' )\n"
     ]
    },
    {
     "data": {
      "text/html": [
       "<font face=\"Courier New\" size=2 color=\"green\">20200429.131110|root|(contextlib.py::119)|INFO&nbsp&nbsp;&nbsp;&nbsp;&nbsprunning&nbspregressions&nbsp...&nbsp(done&nbsp-&nbsptook&nbsp5.56s)</font>"
      ],
      "text/plain": [
       "<IPython.core.display.HTML object>"
      ]
     },
     "metadata": {},
     "output_type": "display_data"
    },
    {
     "data": {
      "text/html": [
       "<h2><font face=\"Courier New\">symbol=None&nbsplr=2000,&nbsphl_1=5000,&nbsphl_2=5000&nbspridge=1e-06</font></h2>"
      ],
      "text/plain": [
       "<IPython.core.display.HTML object>"
      ]
     },
     "metadata": {},
     "output_type": "display_data"
    },
    {
     "data": {
      "text/html": [
       "<font face=\"Courier New\">HPSet(<br>&nbsp;&nbsp;&nbsp;&nbspalgo='mbprox',<br>&nbsp;&nbsp;&nbsp;&nbspfeatures=('logrtn_lag_overnight',&nbsp'logrtn_lag_weekend',&nbsp'logrtn_lag_30min',&nbsp'logrtn_lag_1hr',&nbsp'logrtn_lag_1day',&nbsp'logrtn_lag_30min_26.ew_sd',&nbsp'logrtn_lag_1day_26.ew_sd',&nbsp'logrtn_lag_30min_130.ew_sd',&nbsp'logrtn_lag_1day_130.ew_sd',&nbsp'logrtn_lag_30min_390.ew_sd',&nbsp'logrtn_lag_1day_390.ew_sd',&nbsp'logrtn_lag_30min_26.ew_mean',&nbsp'logrtn_lag_1day_26.ew_mean',&nbsp'logrtn_lag_30min_130.ew_mean',&nbsp'logrtn_lag_1day_130.ew_mean',&nbsp'logrtn_lag_30min_390.ew_mean',&nbsp'logrtn_lag_1day_390.ew_mean',&nbsp'cos_timeofday',&nbsp'sin_timeofday',&nbsp'cos_dayofweek',&nbsp'sin_dayofweek',&nbsp'cos_dayofmonth',&nbsp'sin_dayofmonth',&nbsp'cos_weekofyear',&nbsp'sin_weekofyear'),<br>&nbsp;&nbsp;&nbsp;&nbsphl_1=5000,<br>&nbsp;&nbsp;&nbsp;&nbsphl_2=5000,<br>&nbsp;&nbsp;&nbsp;&nbsplookhead=12,<br>&nbsp;&nbsp;&nbsp;&nbsploss='psr',<br>&nbsp;&nbsp;&nbsp;&nbsplr=2000,<br>&nbsp;&nbsp;&nbsp;&nbspresponse='logrtn_lead_30min_equalized',<br>&nbsp;&nbsp;&nbsp;&nbspridge=1e-06,<br>&nbsp;&nbsp;&nbsp;&nbspsymbol=None,<br>&nbsp;&nbsp;&nbsp;&nbsptransformer='quadratic_transformer',<br>&nbsp;&nbsp;&nbsp;&nbspweight='one',<br>)</font>"
      ],
      "text/plain": [
       "<IPython.core.display.HTML object>"
      ]
     },
     "metadata": {},
     "output_type": "display_data"
    },
    {
     "data": {
      "text/html": [
       "<font face=\"Courier New\"><div>\n",
       "<style scoped>\n",
       "    .dataframe tbody tr th:only-of-type {\n",
       "        vertical-align: middle;\n",
       "    }\n",
       "\n",
       "    .dataframe tbody tr th {\n",
       "        vertical-align: top;\n",
       "    }\n",
       "\n",
       "    .dataframe thead th {\n",
       "        text-align: right;\n",
       "    }\n",
       "</style>\n",
       "<table border=\"1\" class=\"dataframe\">\n",
       "  <thead>\n",
       "    <tr style=\"text-align: right;\">\n",
       "      <th></th>\n",
       "      <th>n</th>\n",
       "      <th>finite_frac</th>\n",
       "      <th>tilt</th>\n",
       "      <th>pmSR</th>\n",
       "      <th>ic</th>\n",
       "      <th>r2</th>\n",
       "      <th>tstat</th>\n",
       "      <th>DK_10</th>\n",
       "      <th>DK_30</th>\n",
       "      <th>ac_1</th>\n",
       "      <th>ac_12</th>\n",
       "      <th>ac_72</th>\n",
       "      <th>ac_100</th>\n",
       "      <th>start</th>\n",
       "      <th>end</th>\n",
       "    </tr>\n",
       "  </thead>\n",
       "  <tbody>\n",
       "    <tr>\n",
       "      <td>NaN</td>\n",
       "      <td>14218081</td>\n",
       "      <td>0.997395</td>\n",
       "      <td>-0.150155</td>\n",
       "      <td>0.466924</td>\n",
       "      <td>0.004677</td>\n",
       "      <td>0.000022</td>\n",
       "      <td>22.702354</td>\n",
       "      <td>7.793825</td>\n",
       "      <td>7.853931</td>\n",
       "      <td>0.967105</td>\n",
       "      <td>0.903331</td>\n",
       "      <td>0.84245</td>\n",
       "      <td>0.839528</td>\n",
       "      <td>883733400000000000</td>\n",
       "      <td>1580914800000000000</td>\n",
       "    </tr>\n",
       "  </tbody>\n",
       "</table>\n",
       "</div></font>"
      ],
      "text/plain": [
       "<IPython.core.display.HTML object>"
      ]
     },
     "metadata": {},
     "output_type": "display_data"
    },
    {
     "data": {
      "image/jpeg": "[encoded data removed]",
      "text/plain": [
       "<IPython.core.display.Image object>"
      ]
     },
     "metadata": {},
     "output_type": "display_data"
    },
    {
     "name": "stderr",
     "output_type": "stream",
     "text": [
      "/home/fj/cloud/code/madmax/experiment/logging.py:104: UserWarning: Logger.log_uri not set. Try running Config.start() ? Will not write to disk \n",
      "  warnings.warn( 'Logger.log_uri not set. Try running Config.start() ? Will not write to disk ' )\n"
     ]
    },
    {
     "data": {
      "application/vnd.jupyter.widget-view+json": {
       "model_id": "d996a451939e405ea0a52d67132f514e",
       "version_major": 2,
       "version_minor": 0
      },
      "text/plain": [
       "HBox(children=(IntProgress(value=0, max=72173), HTML(value='')))"
      ]
     },
     "metadata": {},
     "output_type": "display_data"
    },
    {
     "name": "stdout",
     "output_type": "stream",
     "text": [
      "\n"
     ]
    },
    {
     "data": {
      "text/html": [
       "<font face=\"Courier New\" size=2 color=\"green\">20200429.132247|root|(contextlib.py::112)|INFO&nbsp&nbsp;&nbsp;&nbsp;&nbsprunning&nbspregressions&nbsp...&nbsp(starting)</font>"
      ],
      "text/plain": [
       "<IPython.core.display.HTML object>"
      ]
     },
     "metadata": {},
     "output_type": "display_data"
    },
    {
     "name": "stderr",
     "output_type": "stream",
     "text": [
      "/home/fj/cloud/code/madmax/experiment/logging.py:104: UserWarning: Logger.log_uri not set. Try running Config.start() ? Will not write to disk \n",
      "  warnings.warn( 'Logger.log_uri not set. Try running Config.start() ? Will not write to disk ' )\n",
      "/home/fj/cloud/code/madmax/experiment/logging.py:104: UserWarning: Logger.log_uri not set. Try running Config.start() ? Will not write to disk \n",
      "  warnings.warn( 'Logger.log_uri not set. Try running Config.start() ? Will not write to disk ' )\n"
     ]
    },
    {
     "data": {
      "text/html": [
       "<font face=\"Courier New\" size=2 color=\"green\">20200429.132252|root|(contextlib.py::119)|INFO&nbsp&nbsp;&nbsp;&nbsp;&nbsprunning&nbspregressions&nbsp...&nbsp(done&nbsp-&nbsptook&nbsp5.40s)</font>"
      ],
      "text/plain": [
       "<IPython.core.display.HTML object>"
      ]
     },
     "metadata": {},
     "output_type": "display_data"
    },
    {
     "data": {
      "text/html": [
       "<h2><font face=\"Courier New\">symbol=None&nbsplr=500,&nbsphl_1=5000,&nbsphl_2=5000&nbspridge=1e-06</font></h2>"
      ],
      "text/plain": [
       "<IPython.core.display.HTML object>"
      ]
     },
     "metadata": {},
     "output_type": "display_data"
    },
    {
     "data": {
      "text/html": [
       "<font face=\"Courier New\">HPSet(<br>&nbsp;&nbsp;&nbsp;&nbspalgo='mbprox',<br>&nbsp;&nbsp;&nbsp;&nbspfeatures=('logrtn_lag_overnight',&nbsp'logrtn_lag_weekend',&nbsp'logrtn_lag_30min',&nbsp'logrtn_lag_1hr',&nbsp'logrtn_lag_1day',&nbsp'logrtn_lag_30min_26.ew_sd',&nbsp'logrtn_lag_1day_26.ew_sd',&nbsp'logrtn_lag_30min_130.ew_sd',&nbsp'logrtn_lag_1day_130.ew_sd',&nbsp'logrtn_lag_30min_390.ew_sd',&nbsp'logrtn_lag_1day_390.ew_sd',&nbsp'logrtn_lag_30min_26.ew_mean',&nbsp'logrtn_lag_1day_26.ew_mean',&nbsp'logrtn_lag_30min_130.ew_mean',&nbsp'logrtn_lag_1day_130.ew_mean',&nbsp'logrtn_lag_30min_390.ew_mean',&nbsp'logrtn_lag_1day_390.ew_mean',&nbsp'cos_timeofday',&nbsp'sin_timeofday',&nbsp'cos_dayofweek',&nbsp'sin_dayofweek',&nbsp'cos_dayofmonth',&nbsp'sin_dayofmonth',&nbsp'cos_weekofyear',&nbsp'sin_weekofyear'),<br>&nbsp;&nbsp;&nbsp;&nbsphl_1=5000,<br>&nbsp;&nbsp;&nbsp;&nbsphl_2=5000,<br>&nbsp;&nbsp;&nbsp;&nbsplookhead=12,<br>&nbsp;&nbsp;&nbsp;&nbsploss='psr',<br>&nbsp;&nbsp;&nbsp;&nbsplr=500,<br>&nbsp;&nbsp;&nbsp;&nbspresponse='logrtn_lead_30min_equalized',<br>&nbsp;&nbsp;&nbsp;&nbspridge=1e-06,<br>&nbsp;&nbsp;&nbsp;&nbspsymbol=None,<br>&nbsp;&nbsp;&nbsp;&nbsptransformer='quadratic_transformer',<br>&nbsp;&nbsp;&nbsp;&nbspweight='one',<br>)</font>"
      ],
      "text/plain": [
       "<IPython.core.display.HTML object>"
      ]
     },
     "metadata": {},
     "output_type": "display_data"
    },
    {
     "data": {
      "text/html": [
       "<font face=\"Courier New\"><div>\n",
       "<style scoped>\n",
       "    .dataframe tbody tr th:only-of-type {\n",
       "        vertical-align: middle;\n",
       "    }\n",
       "\n",
       "    .dataframe tbody tr th {\n",
       "        vertical-align: top;\n",
       "    }\n",
       "\n",
       "    .dataframe thead th {\n",
       "        text-align: right;\n",
       "    }\n",
       "</style>\n",
       "<table border=\"1\" class=\"dataframe\">\n",
       "  <thead>\n",
       "    <tr style=\"text-align: right;\">\n",
       "      <th></th>\n",
       "      <th>n</th>\n",
       "      <th>finite_frac</th>\n",
       "      <th>tilt</th>\n",
       "      <th>pmSR</th>\n",
       "      <th>ic</th>\n",
       "      <th>r2</th>\n",
       "      <th>tstat</th>\n",
       "      <th>DK_10</th>\n",
       "      <th>DK_30</th>\n",
       "      <th>ac_1</th>\n",
       "      <th>ac_12</th>\n",
       "      <th>ac_72</th>\n",
       "      <th>ac_100</th>\n",
       "      <th>start</th>\n",
       "      <th>end</th>\n",
       "    </tr>\n",
       "  </thead>\n",
       "  <tbody>\n",
       "    <tr>\n",
       "      <td>NaN</td>\n",
       "      <td>14218081</td>\n",
       "      <td>0.997395</td>\n",
       "      <td>-0.122506</td>\n",
       "      <td>0.572605</td>\n",
       "      <td>0.0041</td>\n",
       "      <td>0.000017</td>\n",
       "      <td>21.21204</td>\n",
       "      <td>9.601728</td>\n",
       "      <td>9.675125</td>\n",
       "      <td>0.978272</td>\n",
       "      <td>0.938725</td>\n",
       "      <td>0.90239</td>\n",
       "      <td>0.900692</td>\n",
       "      <td>883733400000000000</td>\n",
       "      <td>1580914800000000000</td>\n",
       "    </tr>\n",
       "  </tbody>\n",
       "</table>\n",
       "</div></font>"
      ],
      "text/plain": [
       "<IPython.core.display.HTML object>"
      ]
     },
     "metadata": {},
     "output_type": "display_data"
    },
    {
     "data": {
      "image/jpeg": "[encoded data removed]",
      "text/plain": [
       "<IPython.core.display.Image object>"
      ]
     },
     "metadata": {},
     "output_type": "display_data"
    },
    {
     "name": "stderr",
     "output_type": "stream",
     "text": [
      "/home/fj/cloud/code/madmax/experiment/logging.py:104: UserWarning: Logger.log_uri not set. Try running Config.start() ? Will not write to disk \n",
      "  warnings.warn( 'Logger.log_uri not set. Try running Config.start() ? Will not write to disk ' )\n"
     ]
    },
    {
     "data": {
      "application/vnd.jupyter.widget-view+json": {
       "model_id": "be8b9ae6200b4366bc0823cc39900844",
       "version_major": 2,
       "version_minor": 0
      },
      "text/plain": [
       "HBox(children=(IntProgress(value=0, max=72173), HTML(value='')))"
      ]
     },
     "metadata": {},
     "output_type": "display_data"
    },
    {
     "ename": "KeyboardInterrupt",
     "evalue": "",
     "output_type": "error",
     "traceback": [
      "\u001b[0;31m---------------------------------------------------------------------------\u001b[0m",
      "\u001b[0;31mKeyboardInterrupt\u001b[0m                         Traceback (most recent call last)",
      "\u001b[0;32m<ipython-input-4-4367aa9a5b08>\u001b[0m in \u001b[0;36m<module>\u001b[0;34m\u001b[0m\n\u001b[1;32m    120\u001b[0m                 \u001b[0;32mfor\u001b[0m \u001b[0mridge\u001b[0m \u001b[0;32min\u001b[0m \u001b[0mridges\u001b[0m\u001b[0;34m:\u001b[0m             \u001b[0;31m#1e-1, 1e-3, , 1e-9\u001b[0m\u001b[0;34m\u001b[0m\u001b[0;34m\u001b[0m\u001b[0m\n\u001b[1;32m    121\u001b[0m                     \u001b[0mhpsc\u001b[0m \u001b[0;34m=\u001b[0m \u001b[0mhps\u001b[0m\u001b[0;34m.\u001b[0m\u001b[0mclone\u001b[0m\u001b[0;34m(\u001b[0m \u001b[0msymbol\u001b[0m\u001b[0;34m=\u001b[0m\u001b[0msymbol\u001b[0m\u001b[0;34m,\u001b[0m \u001b[0mridge\u001b[0m\u001b[0;34m=\u001b[0m\u001b[0mridge\u001b[0m\u001b[0;34m,\u001b[0m \u001b[0mlr\u001b[0m\u001b[0;34m=\u001b[0m\u001b[0mlr\u001b[0m\u001b[0;34m,\u001b[0m \u001b[0mhl_1\u001b[0m\u001b[0;34m=\u001b[0m\u001b[0mhl_1\u001b[0m\u001b[0;34m,\u001b[0m \u001b[0mhl_2\u001b[0m\u001b[0;34m=\u001b[0m\u001b[0mhl_2\u001b[0m\u001b[0;34m)\u001b[0m\u001b[0;34m\u001b[0m\u001b[0;34m\u001b[0m\u001b[0m\n\u001b[0;32m--> 122\u001b[0;31m                     \u001b[0mout\u001b[0m \u001b[0;34m=\u001b[0m \u001b[0mrun_one_configuration\u001b[0m\u001b[0;34m(\u001b[0m \u001b[0mhpsc\u001b[0m \u001b[0;34m)\u001b[0m\u001b[0;34m\u001b[0m\u001b[0;34m\u001b[0m\u001b[0m\n\u001b[0m\u001b[1;32m    123\u001b[0m                     \u001b[0mdisp\u001b[0m\u001b[0;34m(\u001b[0m \u001b[0;34mf'symbol={hpsc.symbol} lr={hpsc.lr}, hl_1={hpsc.hl_1}, hl_2={hpsc.hl_2} ridge={hpsc.ridge}'\u001b[0m\u001b[0;34m,\u001b[0m \u001b[0mh\u001b[0m\u001b[0;34m=\u001b[0m\u001b[0;36m2\u001b[0m \u001b[0;34m)\u001b[0m\u001b[0;34m\u001b[0m\u001b[0;34m\u001b[0m\u001b[0m\n\u001b[1;32m    124\u001b[0m                     \u001b[0mdisp\u001b[0m\u001b[0;34m(\u001b[0m \u001b[0mhpsc\u001b[0m\u001b[0;34m,\u001b[0m \u001b[0mout\u001b[0m\u001b[0;34m[\u001b[0m\u001b[0;36m2\u001b[0m\u001b[0;34m]\u001b[0m\u001b[0;34m[\u001b[0m\u001b[0;34m'rm'\u001b[0m\u001b[0;34m]\u001b[0m \u001b[0;34m)\u001b[0m\u001b[0;34m\u001b[0m\u001b[0;34m\u001b[0m\u001b[0m\n",
      "\u001b[0;32m~/cloud/code/madmax/base/memoize.py\u001b[0m in \u001b[0;36m_wrapped_fnc\u001b[0;34m(_memo_force_run, _memo_verbose, _memo_fnc, *args, **kwargs)\u001b[0m\n\u001b[1;32m    151\u001b[0m             \u001b[0;32mwith\u001b[0m \u001b[0mobj\u001b[0m\u001b[0;34m.\u001b[0m\u001b[0mdebug_timer\u001b[0m\u001b[0;34m(\u001b[0m \u001b[0;34m'deleting checkpoings'\u001b[0m \u001b[0;34m)\u001b[0m\u001b[0;34m:\u001b[0m\u001b[0;34m\u001b[0m\u001b[0;34m\u001b[0m\u001b[0m\n\u001b[1;32m    152\u001b[0m                 \u001b[0mobj\u001b[0m\u001b[0;34m.\u001b[0m\u001b[0mcheckpointer\u001b[0m\u001b[0;34m.\u001b[0m\u001b[0mdelete\u001b[0m\u001b[0;34m(\u001b[0m\u001b[0;34m)\u001b[0m\u001b[0;34m\u001b[0m\u001b[0;34m\u001b[0m\u001b[0m\n\u001b[0;32m--> 153\u001b[0;31m         \u001b[0;32mreturn\u001b[0m \u001b[0mobj\u001b[0m\u001b[0;34m(\u001b[0m \u001b[0mforce_run\u001b[0m\u001b[0;34m=\u001b[0m\u001b[0m_memo_force_run\u001b[0m \u001b[0;34m)\u001b[0m\u001b[0;34m\u001b[0m\u001b[0;34m\u001b[0m\u001b[0m\n\u001b[0m\u001b[1;32m    154\u001b[0m \u001b[0;34m\u001b[0m\u001b[0m\n\u001b[1;32m    155\u001b[0m     \u001b[0m_wrapped_fnc\u001b[0m\u001b[0;34m.\u001b[0m\u001b[0m__source__\u001b[0m \u001b[0;34m=\u001b[0m \u001b[0mfnc\u001b[0m\u001b[0;34m.\u001b[0m\u001b[0m__source__\u001b[0m\u001b[0;34m\u001b[0m\u001b[0;34m\u001b[0m\u001b[0m\n",
      "\u001b[0;32m~/cloud/code/madmax/base/memoize.py\u001b[0m in \u001b[0;36m__call__\u001b[0;34m(self, force_run)\u001b[0m\n\u001b[1;32m     51\u001b[0m             \u001b[0margs\u001b[0m\u001b[0;34m,\u001b[0m \u001b[0mkwargs\u001b[0m \u001b[0;34m=\u001b[0m \u001b[0mself\u001b[0m\u001b[0;34m.\u001b[0m\u001b[0m_get_args_kwargs\u001b[0m\u001b[0;34m(\u001b[0m\u001b[0;34m)\u001b[0m\u001b[0;34m\u001b[0m\u001b[0;34m\u001b[0m\u001b[0m\n\u001b[1;32m     52\u001b[0m             \u001b[0;32mwith\u001b[0m \u001b[0mself\u001b[0m\u001b[0;34m.\u001b[0m\u001b[0mdebug_timer\u001b[0m\u001b[0;34m(\u001b[0m \u001b[0;34mf'running {self.fnc.__name__}( *{args}, **{kwargs})'\u001b[0m \u001b[0;34m)\u001b[0m\u001b[0;34m:\u001b[0m\u001b[0;34m\u001b[0m\u001b[0;34m\u001b[0m\u001b[0m\n\u001b[0;32m---> 53\u001b[0;31m                 \u001b[0moutput\u001b[0m \u001b[0;34m=\u001b[0m \u001b[0mself\u001b[0m\u001b[0;34m.\u001b[0m\u001b[0mfnc\u001b[0m\u001b[0;34m(\u001b[0m \u001b[0;34m*\u001b[0m\u001b[0margs\u001b[0m\u001b[0;34m,\u001b[0m \u001b[0;34m**\u001b[0m\u001b[0mkwargs\u001b[0m \u001b[0;34m)\u001b[0m\u001b[0;34m\u001b[0m\u001b[0;34m\u001b[0m\u001b[0m\n\u001b[0m\u001b[1;32m     54\u001b[0m             \u001b[0mself\u001b[0m\u001b[0;34m.\u001b[0m\u001b[0m_save\u001b[0m\u001b[0;34m(\u001b[0m \u001b[0moutput\u001b[0m \u001b[0;34m)\u001b[0m\u001b[0;34m\u001b[0m\u001b[0;34m\u001b[0m\u001b[0m\n\u001b[1;32m     55\u001b[0m         \u001b[0;32mreturn\u001b[0m \u001b[0moutput\u001b[0m\u001b[0;34m\u001b[0m\u001b[0;34m\u001b[0m\u001b[0m\n",
      "\u001b[0;32m<ipython-input-4-4367aa9a5b08>\u001b[0m in \u001b[0;36mrun_one_configuration\u001b[0;34m(hps, begin, end, verbose)\u001b[0m\n\u001b[1;32m     95\u001b[0m     \u001b[0mYt\u001b[0m \u001b[0;34m=\u001b[0m \u001b[0mtr\u001b[0m\u001b[0;34m.\u001b[0m\u001b[0mas_tensor\u001b[0m\u001b[0;34m(\u001b[0m \u001b[0mY\u001b[0m\u001b[0;34m.\u001b[0m\u001b[0mvalues\u001b[0m\u001b[0;34m,\u001b[0m \u001b[0mdtype\u001b[0m\u001b[0;34m=\u001b[0m\u001b[0mdtype\u001b[0m\u001b[0;34m,\u001b[0m \u001b[0mdevice\u001b[0m\u001b[0;34m=\u001b[0m\u001b[0mdevice\u001b[0m \u001b[0;34m)\u001b[0m\u001b[0;34m\u001b[0m\u001b[0;34m\u001b[0m\u001b[0m\n\u001b[1;32m     96\u001b[0m     \u001b[0mWt\u001b[0m \u001b[0;34m=\u001b[0m \u001b[0mtr\u001b[0m\u001b[0;34m.\u001b[0m\u001b[0mas_tensor\u001b[0m\u001b[0;34m(\u001b[0m \u001b[0mW\u001b[0m\u001b[0;34m.\u001b[0m\u001b[0mvalues\u001b[0m\u001b[0;34m,\u001b[0m \u001b[0mdtype\u001b[0m\u001b[0;34m=\u001b[0m\u001b[0mdtype\u001b[0m\u001b[0;34m,\u001b[0m \u001b[0mdevice\u001b[0m\u001b[0;34m=\u001b[0m\u001b[0mdevice\u001b[0m \u001b[0;34m)\u001b[0m\u001b[0;34m\u001b[0m\u001b[0;34m\u001b[0m\u001b[0m\n\u001b[0;32m---> 97\u001b[0;31m     \u001b[0mYht\u001b[0m\u001b[0;34m,\u001b[0m \u001b[0mmeta\u001b[0m\u001b[0;34m,\u001b[0m \u001b[0mstate\u001b[0m \u001b[0;34m=\u001b[0m \u001b[0mlinear_rnn\u001b[0m\u001b[0;34m(\u001b[0m \u001b[0mXt\u001b[0m\u001b[0;34m,\u001b[0m \u001b[0mYt\u001b[0m\u001b[0;34m,\u001b[0m \u001b[0mWt\u001b[0m \u001b[0;34m)\u001b[0m\u001b[0;34m\u001b[0m\u001b[0;34m\u001b[0m\u001b[0m\n\u001b[0m\u001b[1;32m     98\u001b[0m     \u001b[0mYh\u001b[0m \u001b[0;34m=\u001b[0m \u001b[0mYht\u001b[0m\u001b[0;34m.\u001b[0m\u001b[0mto_dataarray\u001b[0m\u001b[0;34m(\u001b[0m \u001b[0mY\u001b[0m \u001b[0;34m)\u001b[0m\u001b[0;34m\u001b[0m\u001b[0;34m\u001b[0m\u001b[0m\n\u001b[1;32m     99\u001b[0m     \u001b[0mwins\u001b[0m \u001b[0;34m=\u001b[0m \u001b[0mmx\u001b[0m\u001b[0;34m.\u001b[0m\u001b[0mtransforms\u001b[0m\u001b[0;34m.\u001b[0m\u001b[0mbatch\u001b[0m\u001b[0;34m(\u001b[0m \u001b[0msid\u001b[0m\u001b[0;34m=\u001b[0m\u001b[0;34m'symbol'\u001b[0m \u001b[0;34m)\u001b[0m\u001b[0;34m.\u001b[0m\u001b[0mwinsorize\u001b[0m\u001b[0;34m(\u001b[0m \u001b[0mquantiles\u001b[0m\u001b[0;34m=\u001b[0m\u001b[0;36m0.05\u001b[0m \u001b[0;34m)\u001b[0m\u001b[0;34m\u001b[0m\u001b[0;34m\u001b[0m\u001b[0m\n",
      "\u001b[0;32m~/anaconda3/lib/python3.7/site-packages/torch/nn/modules/module.py\u001b[0m in \u001b[0;36m__call__\u001b[0;34m(self, *input, **kwargs)\u001b[0m\n\u001b[1;32m    548\u001b[0m             \u001b[0mresult\u001b[0m \u001b[0;34m=\u001b[0m \u001b[0mself\u001b[0m\u001b[0;34m.\u001b[0m\u001b[0m_slow_forward\u001b[0m\u001b[0;34m(\u001b[0m\u001b[0;34m*\u001b[0m\u001b[0minput\u001b[0m\u001b[0;34m,\u001b[0m \u001b[0;34m**\u001b[0m\u001b[0mkwargs\u001b[0m\u001b[0;34m)\u001b[0m\u001b[0;34m\u001b[0m\u001b[0;34m\u001b[0m\u001b[0m\n\u001b[1;32m    549\u001b[0m         \u001b[0;32melse\u001b[0m\u001b[0;34m:\u001b[0m\u001b[0;34m\u001b[0m\u001b[0;34m\u001b[0m\u001b[0m\n\u001b[0;32m--> 550\u001b[0;31m             \u001b[0mresult\u001b[0m \u001b[0;34m=\u001b[0m \u001b[0mself\u001b[0m\u001b[0;34m.\u001b[0m\u001b[0mforward\u001b[0m\u001b[0;34m(\u001b[0m\u001b[0;34m*\u001b[0m\u001b[0minput\u001b[0m\u001b[0;34m,\u001b[0m \u001b[0;34m**\u001b[0m\u001b[0mkwargs\u001b[0m\u001b[0;34m)\u001b[0m\u001b[0;34m\u001b[0m\u001b[0;34m\u001b[0m\u001b[0m\n\u001b[0m\u001b[1;32m    551\u001b[0m         \u001b[0;32mfor\u001b[0m \u001b[0mhook\u001b[0m \u001b[0;32min\u001b[0m \u001b[0mself\u001b[0m\u001b[0;34m.\u001b[0m\u001b[0m_forward_hooks\u001b[0m\u001b[0;34m.\u001b[0m\u001b[0mvalues\u001b[0m\u001b[0;34m(\u001b[0m\u001b[0;34m)\u001b[0m\u001b[0;34m:\u001b[0m\u001b[0;34m\u001b[0m\u001b[0;34m\u001b[0m\u001b[0m\n\u001b[1;32m    552\u001b[0m             \u001b[0mhook_result\u001b[0m \u001b[0;34m=\u001b[0m \u001b[0mhook\u001b[0m\u001b[0;34m(\u001b[0m\u001b[0mself\u001b[0m\u001b[0;34m,\u001b[0m \u001b[0minput\u001b[0m\u001b[0;34m,\u001b[0m \u001b[0mresult\u001b[0m\u001b[0;34m)\u001b[0m\u001b[0;34m\u001b[0m\u001b[0;34m\u001b[0m\u001b[0m\n",
      "\u001b[0;32m~/cloud/code/madmax/pytorch/modules/linear_rnn.py\u001b[0m in \u001b[0;36mforward\u001b[0;34m(self, X, Y, W, times, state)\u001b[0m\n\u001b[1;32m    155\u001b[0m             \u001b[0mWt\u001b[0m \u001b[0;34m=\u001b[0m \u001b[0mW\u001b[0m\u001b[0;34m[\u001b[0m\u001b[0mt\u001b[0m\u001b[0;34m]\u001b[0m\u001b[0;34m\u001b[0m\u001b[0;34m\u001b[0m\u001b[0m\n\u001b[1;32m    156\u001b[0m             \u001b[0;31m# take on online step\u001b[0m\u001b[0;34m\u001b[0m\u001b[0;34m\u001b[0m\u001b[0;34m\u001b[0m\u001b[0m\n\u001b[0;32m--> 157\u001b[0;31m             \u001b[0mout\u001b[0m \u001b[0;34m=\u001b[0m \u001b[0mself\u001b[0m\u001b[0;34m.\u001b[0m\u001b[0m_one_step\u001b[0m\u001b[0;34m(\u001b[0m \u001b[0mXt\u001b[0m\u001b[0;34m=\u001b[0m\u001b[0mXt\u001b[0m\u001b[0;34m,\u001b[0m \u001b[0mYt\u001b[0m\u001b[0;34m=\u001b[0m\u001b[0mYt\u001b[0m\u001b[0;34m,\u001b[0m \u001b[0mWt\u001b[0m\u001b[0;34m=\u001b[0m\u001b[0mWt\u001b[0m\u001b[0;34m,\u001b[0m \u001b[0mstate\u001b[0m\u001b[0;34m=\u001b[0m\u001b[0mstate\u001b[0m \u001b[0;34m)\u001b[0m\u001b[0;34m\u001b[0m\u001b[0;34m\u001b[0m\u001b[0m\n\u001b[0m\u001b[1;32m    158\u001b[0m             \u001b[0mouts\u001b[0m\u001b[0;34m.\u001b[0m\u001b[0mappend\u001b[0m\u001b[0;34m(\u001b[0m \u001b[0mout\u001b[0m \u001b[0;34m)\u001b[0m\u001b[0;34m\u001b[0m\u001b[0;34m\u001b[0m\u001b[0m\n\u001b[1;32m    159\u001b[0m             \u001b[0;31m# -- predicition step --\u001b[0m\u001b[0;34m\u001b[0m\u001b[0;34m\u001b[0m\u001b[0;34m\u001b[0m\u001b[0m\n",
      "\u001b[0;32m~/cloud/code/madmax/pytorch/modules/linear_rnn.py\u001b[0m in \u001b[0;36m_one_step\u001b[0;34m(self, Xt, Yt, Wt, state)\u001b[0m\n\u001b[1;32m    232\u001b[0m         \u001b[0;31m# -- updates for different algo ---\u001b[0m\u001b[0;34m\u001b[0m\u001b[0;34m\u001b[0m\u001b[0;34m\u001b[0m\u001b[0m\n\u001b[1;32m    233\u001b[0m         \u001b[0;32massert\u001b[0m \u001b[0mG_t\u001b[0m\u001b[0;34m.\u001b[0m\u001b[0mshape\u001b[0m \u001b[0;34m==\u001b[0m \u001b[0;34m(\u001b[0m\u001b[0mP\u001b[0m\u001b[0;34m,\u001b[0m \u001b[0mQ\u001b[0m\u001b[0;34m)\u001b[0m \u001b[0;32mand\u001b[0m \u001b[0mH_t\u001b[0m\u001b[0;34m.\u001b[0m\u001b[0mshape\u001b[0m \u001b[0;34m==\u001b[0m \u001b[0;34m(\u001b[0m\u001b[0mP\u001b[0m\u001b[0;34m,\u001b[0m \u001b[0mP\u001b[0m\u001b[0;34m)\u001b[0m\u001b[0;34m,\u001b[0m \u001b[0;34m'incorrect shapes for G_t and H_t'\u001b[0m\u001b[0;34m\u001b[0m\u001b[0;34m\u001b[0m\u001b[0m\n\u001b[0;32m--> 234\u001b[0;31m         \u001b[0mridge\u001b[0m \u001b[0;34m=\u001b[0m \u001b[0mself\u001b[0m\u001b[0;34m.\u001b[0m\u001b[0mridge\u001b[0m \u001b[0;34m*\u001b[0m \u001b[0mtr\u001b[0m\u001b[0;34m.\u001b[0m\u001b[0meye\u001b[0m\u001b[0;34m(\u001b[0m \u001b[0mP\u001b[0m\u001b[0;34m,\u001b[0m \u001b[0mdevice\u001b[0m\u001b[0;34m=\u001b[0m\u001b[0mH_t\u001b[0m\u001b[0;34m.\u001b[0m\u001b[0mdevice\u001b[0m\u001b[0;34m,\u001b[0m \u001b[0mdtype\u001b[0m\u001b[0;34m=\u001b[0m\u001b[0mH_t\u001b[0m\u001b[0;34m.\u001b[0m\u001b[0mdtype\u001b[0m \u001b[0;34m)\u001b[0m\u001b[0;34m\u001b[0m\u001b[0;34m\u001b[0m\u001b[0m\n\u001b[0m\u001b[1;32m    235\u001b[0m         \u001b[0;32mif\u001b[0m \u001b[0mself\u001b[0m\u001b[0;34m.\u001b[0m\u001b[0malgo\u001b[0m \u001b[0;34m==\u001b[0m \u001b[0;34m'direct'\u001b[0m\u001b[0;34m:\u001b[0m\u001b[0;34m\u001b[0m\u001b[0;34m\u001b[0m\u001b[0m\n\u001b[1;32m    236\u001b[0m             \u001b[0;31m# the unconstrained solve\u001b[0m\u001b[0;34m\u001b[0m\u001b[0;34m\u001b[0m\u001b[0;34m\u001b[0m\u001b[0m\n",
      "\u001b[0;31mKeyboardInterrupt\u001b[0m: "
     ]
    }
   ],
   "source": [
    "# --- 30 min online model (INSAMPLE)----\n",
    "#####################################################################\n",
    "%inline\n",
    "hps = mx.HPSet()    \n",
    "hps.symbol = 'SPY'\n",
    "hps.features = (\n",
    "    [ 'logrtn_lag_overnight', 'logrtn_lag_weekend',\n",
    "      'logrtn_lag_30min', 'logrtn_lag_1hr', 'logrtn_lag_1day',\n",
    "      'logrtn_lag_30min_26.ew_sd',  'logrtn_lag_1day_26.ew_sd',\n",
    "     'logrtn_lag_30min_130.ew_sd', 'logrtn_lag_1day_130.ew_sd',\n",
    "     'logrtn_lag_30min_390.ew_sd', 'logrtn_lag_1day_390.ew_sd',\n",
    "     'logrtn_lag_30min_26.ew_mean', 'logrtn_lag_1day_26.ew_mean',\n",
    "     'logrtn_lag_30min_130.ew_mean', 'logrtn_lag_1day_130.ew_mean',\n",
    "     'logrtn_lag_30min_390.ew_mean', 'logrtn_lag_1day_390.ew_mean',\n",
    "     # 'logrtn_lag_intraday', 'logrtn_lag_intraweek',    'logrtn_lag_intramonth', \n",
    "     #'log_dollar_volume_30min', 'log_open_30min', 'log_dollar_volume_intraday', 'log_dollar_volume_intraweek',\n",
    "#      'log_open_30min_26.ew_sd',  'log_dollar_volume_30min_26.ew_sd', \n",
    "#      'log_open_30min_130.ew_sd', 'log_dollar_volume_30min_130.ew_sd', \n",
    "#      'log_open_30min_390.ew_sd', 'log_dollar_volume_30min_390.ew_sd', \n",
    "#      'log_open_30min_26.ew_mean', 'log_dollar_volume_30min_26.ew_mean', \n",
    "#      'log_open_30min_130.ew_mean', 'log_dollar_volume_30min_130.ew_mean', \n",
    "#      'log_open_30min_390.ew_mean', 'log_dollar_volume_30min_390.ew_mean', \n",
    "    ]\n",
    "    + ['cos_timeofday', 'sin_timeofday', 'cos_dayofweek', 'sin_dayofweek', \n",
    "       'cos_dayofmonth','sin_dayofmonth', 'cos_weekofyear', 'sin_weekofyear']\n",
    ")\n",
    "hps.response = 'logrtn_lead_30min_equalized'\n",
    "hps.weight = 'one'\n",
    "hps.lookhead = 12\n",
    "hps.hl_1 = 100\n",
    "hps.hl_2 = 10000      \n",
    "hps.lr = 100\n",
    "hps.algo = 'mbprox'\n",
    "hps.loss = 'psr'\n",
    "hps.ridge = 1e-3\n",
    "hps.transformer = 'quadratic_transformer'\n",
    "\n",
    "\n",
    "@mx.memoize\n",
    "def compute_feature_sd_and_mean( features=hps.features ):\n",
    "    builder = FeatureBuilder()\n",
    "    da = builder( data=None )\n",
    "    fsd = da.loc[:,:,features].std( dim='time' ).to_dataframe_mx()\n",
    "    fmu = da.loc[:,:,features].mean( dim='time' ).to_dataframe_mx()\n",
    "    return fsd, fmu\n",
    "\n",
    "with mx.timer( 'compute_feature_sd_and_mean '):\n",
    "    fsd, fmu = compute_feature_sd_and_mean()\n",
    "disp( 'Feature batch means (mean and std across symbols)',  pd.concat( [fmu.mean(axis=0), fmu.std(axis=0)], axis=1  ).rename(columns={0:'mean', 1:'std'}), h=3 )\n",
    "disp( 'Feature batch SD (mean and std across symbols)',  pd.concat( [fsd.mean(axis=0), fsd.std(axis=0)], axis=1  ).rename(columns={0:'mean', 1:'std'}), h=3 )\n",
    "\n",
    "@mx.memoize\n",
    "def run_one_configuration( hps, begin=0, end=-1, verbose=True ):\n",
    "    ''' run one configuration end to end'''\n",
    "    \n",
    "    def quadratic_transformer( Xt ):\n",
    "        '''    compute quadratic features transforms for online learning    '''\n",
    "        Xo =  tr.einsum( 'tna,tnb->tnab', Xt, Xt )\n",
    "        assert Xo.shape == (Xt.shape[0], Xt.shape[1], Xt.shape[2], Xt.shape[2] )\n",
    "        Xo = Xo.reshape( Xt.shape[0], Xt.shape[1], -1 )\n",
    "        return tr.cat( [Xt, Xo], dim=-1 )\n",
    "    \n",
    "    builder = FeatureBuilder()\n",
    "    da = builder( data=None )    \n",
    "    da_use = da.loc[:, :, list(hps.features) + [hps.response, hps.weight]].fillna( 0 )[begin:end]\n",
    "    # make sure you don't squeeze out this dimension !\n",
    "    if hps.symbol is not None:\n",
    "        da_use = da_use.sel( symbol=[hps.symbol] )\n",
    "    X = da_use.loc[:, :, list(hps.features)]\n",
    "    Y = da_use.loc[:, :, [hps.response]]\n",
    "    W = da_use.loc[:, :, [hps.weight]]    \n",
    "    \n",
    "    # normalize X and Y before fitting ... just for shits and giggles\n",
    "    X = (X - X.mean( dim=['time','symbol']) )/ X.std( dim=['time','symbol'] )\n",
    "    Y = (Y - Y.mean( dim=['time','symbol']) )/ Y.std( dim=['time','symbol'] )\n",
    "    \n",
    "    decay_1 = mx.Resolve.halflife( hps.hl_1 )['decay']\n",
    "    hl_1 = mx.Resolve.halflife( hps.hl_1 )['halflife']\n",
    "    decay_2 = mx.Resolve.halflife( hps.hl_2 )['decay']\n",
    "    hl_2 = mx.Resolve.halflife( hps.hl_2 )['halflife']\n",
    "    \n",
    "    tr.cuda.empty_cache()    \n",
    "    device = 'cuda'\n",
    "    dtype = tr.float32\n",
    "\n",
    "    # the linear rnn learner\n",
    "    linear_rnn = mxtr.LinearRNN(\n",
    "        lookahead=hps.lookhead, ridge=hps.ridge, loss=hps.loss, algo=hps.algo,\n",
    "        decay_1=decay_1, decay_2=decay_2, lr=hps.lr,\n",
    "        transformer=quadratic_transformer if hps.transformer == 'quadratic_transformer' else None, \n",
    "        verbose=verbose, \n",
    "    )        \n",
    "    tr.cuda.empty_cache()\n",
    "    Xt = tr.as_tensor( X.values, dtype=dtype, device=device )\n",
    "    Yt = tr.as_tensor( Y.values, dtype=dtype, device=device )\n",
    "    Wt = tr.as_tensor( W.values, dtype=dtype, device=device )\n",
    "    Yht, meta, state = linear_rnn( Xt, Yt, Wt )\n",
    "    Yh = Yht.to_dataarray( Y )\n",
    "    wins = mx.transforms.batch( sid='symbol' ).winsorize( quantiles=0.05 )\n",
    "    #Yh = wins( Yh, features=Yh.features.values )\n",
    "    \n",
    "    reg = mx.Regression( dk_lags=[10, 30], autocorr=[1, 12, 72, 100],  )\n",
    "    fig = figure( figsize=(15, 5 ) )            \n",
    "    with timer( 'running regressions' ):\n",
    "        rm = reg.regress( Yh, Y )\n",
    "        ax = subplot( 121 )\n",
    "        model_pnl = rm.pop( 'pnl' )\n",
    "        rm['start'] = da_use.time.min().item()\n",
    "        rm['end'] = da_use.time.max().item()\n",
    "        rm.pop( 'hitRate' )\n",
    "        ax.plot( model_pnl.cumsum(), '-r' )\n",
    "        fig.suptitle( f'symbol={hps.symbol} lr={hps.lr}, hl_1={hps.hl_1}, hl_2={hps.hl_2} ridge={hps.ridge}', fontsize=20 )                    \n",
    "    return Yh, Y, dict(hps=hps, fig=fig2format( fig ), rm=pd.DataFrame( rm, index=[hps.symbol]) )\n",
    " \n",
    "for symbol in [None]: #+  ['SPY' , 'XLF', 'GDX', 'EEM', 'HYG', 'AGG', 'BND', 'VXX']:\n",
    "    for hl_2 in [ 10000, 5000,]:\n",
    "        for hl_1 in [5000, 1000 ]: \n",
    "            for lr in [1000, 2000, 500]:\n",
    "                ridges = [1e-6] if symbol is None else [1e-6, 1e-10]\n",
    "                for ridge in ridges:             #1e-1, 1e-3, , 1e-9\n",
    "                    hpsc = hps.clone( symbol=symbol, ridge=ridge, lr=lr, hl_1=hl_1, hl_2=hl_2)\n",
    "                    out = run_one_configuration( hpsc )   \n",
    "                    disp( f'symbol={hpsc.symbol} lr={hpsc.lr}, hl_1={hpsc.hl_1}, hl_2={hpsc.hl_2} ridge={hpsc.ridge}', h=2 )\n",
    "                    disp( hpsc, out[2]['rm'] )\n",
    "                    display( out[2]['fig'] )\n"
   ]
  },
  {
   "cell_type": "markdown",
   "metadata": {},
   "source": [
    "# fullsample results\n",
    "* different HP grid (including `hl_2`\n",
    "* float32 dtype"
   ]
  }
 ],
 "metadata": {
  "kernelspec": {
   "display_name": "Python 3",
   "language": "python",
   "name": "python3"
  },
  "language_info": {
   "codemirror_mode": {
    "name": "ipython",
    "version": 3
   },
   "file_extension": ".py",
   "mimetype": "text/x-python",
   "name": "python",
   "nbconvert_exporter": "python",
   "pygments_lexer": "ipython3",
   "version": "3.7.4"
  }
 },
 "nbformat": 4,
 "nbformat_minor": 2
}
