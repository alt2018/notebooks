{
 "cells": [
  {
   "cell_type": "markdown",
   "metadata": {},
   "source": [
    "# Deep learning technical model for ETFs\n",
    "\n",
    "* Kibot etf data \n",
    "* Based of `etf_deep_learning_2020.04.27`\n",
    "* In the old notebook, I was having a lot of trouble gettign good minibatch training (because the effective sample size varies a lot from minibatch to minibatch)\n",
    "* Modified this to use a Hankelized dataset containing only valid data (no nulls)\n",
    "\n",
    "#### NOTE : This will require rethinking the \"timing\" component of the factor model to use a look up tensor (like in cadre/avm work)"
   ]
  },
  {
   "cell_type": "code",
   "execution_count": 1,
   "metadata": {
    "code_folding": [
     0
    ],
    "run_control": {
     "marked": true
    },
    "scrolled": false
   },
   "outputs": [
    {
     "name": "stdout",
     "output_type": "stream",
     "text": [
      "Created `%nbagg` as an alias for `%matplotlib nbagg`.\n",
      "Created `%inline` as an alias for `%matplotlib inline`.\n"
     ]
    },
    {
     "data": {
      "application/javascript": [
       "require.config({\n",
       "    paths: {\n",
       "        datatables: 'https://cdn.datatables.net/1.10.19/js/jquery.dataTables.min',\n",
       "    }\n",
       "});\n",
       "\n",
       "$('head').append('<link rel=\"stylesheet\" type=\"text/css\" \\\n",
       "                href = \"https://cdn.datatables.net/1.10.19/css/jquery.dataTables.min.css\" > ');\n",
       "\n",
       "$('head').append('<style> table td { text-overflow: ellipsis; overflow: hidden; } </style>');\n",
       "\n",
       "$('head').append(`<script>\n",
       "function eval_functions(map_or_text) {\n",
       "    if (typeof map_or_text === \"string\") {\n",
       "        if (map_or_text.startsWith(\"function\")) {\n",
       "            try {\n",
       "                // Note: parenthesis are required around the whole expression for eval to return a value!\n",
       "                // See https://stackoverflow.com/a/7399078/911298.\n",
       "                //\n",
       "                // eval(\"local_fun = \" + map_or_text) would fail because local_fun is not declared\n",
       "                // (using var, let or const would work, but it would only be declared in the local scope\n",
       "                // and therefore the value could not be retrieved).\n",
       "                const func = eval(\"(\" + map_or_text + \")\");\n",
       "                if (typeof func !== \"function\") {\n",
       "                    // Note: backquotes are super convenient!\n",
       "                    // https://developer.mozilla.org/en-US/docs/Web/JavaScript/Reference/Template_literals\n",
       "                    console.error(\"Evaluated expression \" + map_or_text + \" is not a function (type is \" + typeof func + \")\");\n",
       "                    return map_or_text;\n",
       "                }\n",
       "                // Return the function\n",
       "                return func;\n",
       "            } catch (e) {\n",
       "                // Make sure to print the error with a second argument to console.error().\n",
       "                console.error(\"itables was not able to parse \" + map_or_text, e);\n",
       "            }\n",
       "        }\n",
       "    } else if (typeof map_or_text === \"object\") {\n",
       "        if (map_or_text instanceof Array) {\n",
       "            // Note: \"var\" is now superseded by \"let\" and \"const\".\n",
       "            // https://medium.com/javascript-scene/javascript-es6-var-let-or-const-ba58b8dcde75\n",
       "            const result = [];\n",
       "            // Note: \"for of\" is the best way to iterate through an iterable.\n",
       "            // https://developer.mozilla.org/en-US/docs/Web/JavaScript/Reference/Statements/for...of\n",
       "            for (const item of map_or_text) {\n",
       "                result.push(eval_functions(item));\n",
       "            }\n",
       "            return result;\n",
       "\n",
       "            // Alternatively, more functional approach in one line:\n",
       "            // return map_or_text.map(eval_functions);\n",
       "        } else {\n",
       "            const result = {};\n",
       "            // Object.keys() is safer than \"for in\" because otherwise you might have keys\n",
       "            // that aren't defined in the object itself.\n",
       "            //\n",
       "            // See https://stackoverflow.com/a/684692/911298.\n",
       "            for (const item of Object.keys(map_or_text)) {\n",
       "                result[item] = eval_functions(map_or_text[item]);\n",
       "            }\n",
       "            return result;\n",
       "        }\n",
       "    }\n",
       "\n",
       "    return map_or_text;\n",
       "}\n",
       "</` + 'script>');"
      ],
      "text/plain": [
       "<IPython.core.display.Javascript object>"
      ]
     },
     "metadata": {},
     "output_type": "display_data"
    },
    {
     "data": {
      "text/html": [
       "<h2><font face=\"Courier New\">Running&nbsptemplate&nbspconfiguration&nbsp</font></h2>"
      ],
      "text/plain": [
       "<IPython.core.display.HTML object>"
      ]
     },
     "metadata": {},
     "output_type": "display_data"
    },
    {
     "data": {
      "text/html": [
       "<font face=\"Courier New\"><h1> Config etf_technical/deep_learning/2020.04.30 </h1><br><b> hash</b>: none </h4><br><b> mode </b>: interactive<br><b> frozen </b>: False<br><b> uri </b>: /home/fj/experiments/etf_technical/deep_learning/2020.04.30/none<br><h3> Hyperparameters </h3><br>HPSet(<br>&nbsp;&nbsp;&nbsp;&nbsp;)<h3> Code </h3><br><b> format </b>: .ipynb<br><b> code </b> : /local/cloud/code/research/etf_technical/etf_deep_learning_2020.04.30  (hankelized training).ipynb<br><br></font>"
      ],
      "text/plain": [
       "<h1> Config etf_technical/deep_learning/2020.04.30 </h1>\n",
       "<b> hash</b>: none </h4>\n",
       "<b> mode </b>: interactive\n",
       "<b> frozen </b>: False\n",
       "<b> uri </b>: /home/fj/experiments/etf_technical/deep_learning/2020.04.30/none\n",
       "<h3> Hyperparameters </h3>\n",
       "HPSet(\n",
       "\t)<h3> Code </h3>\n",
       "<b> format </b>: .ipynb\n",
       "<b> code </b> : /local/cloud/code/research/etf_technical/etf_deep_learning_2020.04.30  (hankelized training).ipynb\n"
      ]
     },
     "execution_count": 1,
     "metadata": {},
     "output_type": "execute_result"
    }
   ],
   "source": [
    "# preamble\n",
    "%alias_magic  nbagg matplotlib -p nbagg\n",
    "%alias_magic  inline matplotlib -p inline\n",
    "%load_ext memory_profiler\n",
    "\n",
    "from io import BytesIO\n",
    "from IPython.display import display, Image, HTML\n",
    "from pylab import *\n",
    "plt.style.use( 'seaborn-whitegrid' )\n",
    "\n",
    "from madmax.api import *\n",
    "mx = mx.reload()\n",
    "mxtr = mxtr.reload()\n",
    "\n",
    "from research import yahoo; reload( yahoo)\n",
    "\n",
    "###################################################################\n",
    "# Interactive configuration \n",
    "# When running a config grid this will throw a FrozenException \n",
    "# and the grid Config will be used\n",
    "###################################################################\n",
    "try:\n",
    "    mx.Config.name = 'etf_technical/deep_learning/2020.04.30'\n",
    "    mx.Config.mode = 'interactive'\n",
    "    mx.Config.hps = mx.HPSet()\n",
    "    mx.Config.code = 'etf_deep_learning_2020.04.30  (hankelized training).ipynb'\n",
    "    disp( 'Running template configuration ', h=2 )        \n",
    "except mx.Config.FrozenException:\n",
    "    if mx.Config.mode != 'grid':\n",
    "        raise RuntimeError( 'An unexpected configruation encountered' )\n",
    "    disp( 'Running a grid configuration ', h=2 )\n",
    "\n",
    "\n",
    "hps = mx.Config.hps\n",
    "\n",
    "device = 'cuda'\n",
    "dtype = tr.float32\n",
    "\n",
    "mx.Config.start()\n"
   ]
  },
  {
   "cell_type": "code",
   "execution_count": 2,
   "metadata": {
    "code_folding": [
     0
    ],
    "run_control": {
     "marked": true
    }
   },
   "outputs": [
    {
     "name": "stderr",
     "output_type": "stream",
     "text": [
      "/home/fj/cloud/code/madmax/experiment/logging.py:104: UserWarning: Logger.log_uri not set. Try running Config.start() ? Will not write to disk \n",
      "  warnings.warn( 'Logger.log_uri not set. Try running Config.start() ? Will not write to disk ' )\n"
     ]
    },
    {
     "data": {
      "text/html": [
       "<font face=\"Courier New\">expected&nbspFeatureBuilder_8f67a6e37&nbspgot&nbsp;&nbsp;&nbsp;&nbspFeatureBuilder_8f67a6e37</font>"
      ],
      "text/plain": [
       "<IPython.core.display.HTML object>"
      ]
     },
     "metadata": {},
     "output_type": "display_data"
    }
   ],
   "source": [
    "# --- build data ---\n",
    "######################################################################################################\n",
    "from research.etf_technical import load_data as eld; reload( eld )\n",
    "\n",
    "\n",
    "price_features = ['open_30min', 'high_30min', 'low_30min', 'close_30min', \n",
    "                  'open_day', 'high_day', 'low_day', 'close_day', 'close_prev_day', \n",
    "                  'open_week', 'high_week', 'low_week', 'close_week', 'close_prev_week', \n",
    "                  'open_month', 'high_month', 'low_month', 'close_month', ]\n",
    "                      \n",
    "volume_features = ['volume_30min', 'volume_intraday', 'volume_intraweek', 'volume_1hr', 'volume_1day', \n",
    "                       'dollar_volume_30min', 'dollar_volume_intraday',\n",
    "                       'dollar_volume_intraweek', 'dollar_volume_1hr', 'dollar_volume_1day',]\n",
    "                       \n",
    "calendar_features = [ 'week', 'month', 'timeofday', 'dayofweek', 'dayofmonth', \n",
    "                          'weekofyear', 'cos_timeofday', 'sin_timeofday', \n",
    "                          'cos_dayofweek', 'sin_dayofweek', 'cos_dayofmonth',\n",
    "                          'sin_dayofmonth', 'cos_weekofyear', 'sin_weekofyear',]\n",
    "\n",
    "returns_features = ['logrtn_lag_intraday', 'logrtn_lag_overnight', 'logrtn_lag_intraweek',\n",
    "                    'logrtn_lag_weekend', 'logrtn_lag_intramonth', 'logrtn_lag_30min',\n",
    "                    'logrtn_lag_1hr','logrtn_lag_1day', ]\n",
    "\n",
    "responses = ['logrtn_lead_30min',  'logrtn_lead_1hr', 'logrtn_lead_1day'] #'logrtn_lead_intraday', \n",
    "\n",
    "\n",
    "################################################################################################\n",
    "# build features for the deep learning (same as teh code for the 30-min online model)\n",
    "################################################################################################\n",
    "@mx.operatorize( memoize='md', consumes_features=False, produces_meta=True )\n",
    "def FeatureBuilder( data, responses=responses,  emv=True, ema=True, equalize_lagging_returns=False,\n",
    "                    haar=False, dilation=2, levels=5, winsorize=0.05, smz=False,\n",
    "                    volume_features=volume_features, returns_features=returns_features,\n",
    "                    verbose=False ):\n",
    "    '''\n",
    "    build up the 30 min dataset for learning\n",
    "    \n",
    "    equalize_lagging_returns:\n",
    "        divide out annual vol from all lagging returns features\n",
    "        Leading returns features are equalized anyways\n",
    "    '''\n",
    "    INTS_PER_DAY = 13\n",
    "    logger = mx.Logger( 'build_features', verbose=verbose )\n",
    "    das = []\n",
    "    with logger.timer( 'loading the data'):\n",
    "        for symbol in logger.pbar( eld.kibot_day_files.keys() ):\n",
    "            if symbol.startswith( 'INCOMPLETE' ):\n",
    "                logger.warn( f'No data for {symbol} - SKIPPING' )\n",
    "                continue\n",
    "            logger.info( 'loading data for ', symbol )\n",
    "            da, meta = eld.get_saved_30min_data( symbol=symbol )\n",
    "            # add a mask to indicate when this feature was valid\n",
    "            da = da.assign_features( valid=da.loc[:,:,'open_30min'].isfinite() )\n",
    "            das.append( da )\n",
    "        da = xa.concat( das, dim='symbol' )\n",
    "    features = volume_features + returns_features\n",
    "    with logger.timer( ' compute log features' ):\n",
    "        for ft in ['dollar_volume_30min', 'open_30min', 'dollar_volume_intraday',  'dollar_volume_intraweek',] :\n",
    "            da = da.assign_features( **{ f'log_{ft}': da.loc[:,:, ft].log() } )\n",
    "            features.append( f'log_{ft}' )\n",
    "    with logger.timer(' compute an annual returns volatility'):\n",
    "        avc = mx.transforms.rolling( windows='252D', sid='symbol', min_periods=INTS_PER_DAY*60 ).sd()\n",
    "        da = avc( da, features='logrtn_lag_30min' )\n",
    "        annual_vol = avc.output_features[0]\n",
    "        # equalize the response variable\n",
    "        equalized_responses = []\n",
    "        for response in responses:\n",
    "            equalized_response = f'{response}_equalized'\n",
    "            da = da.assign_features( **{equalized_response: da.loc[:,:,response] / ( da.loc[:,:,annual_vol] + 1e-12 ) } )\n",
    "            equalized_responses.append( equalized_response )\n",
    "    if equalize_lagging_returns:\n",
    "        # equalize all the laggign returns columns inplace ....\n",
    "        with logger.timer( 'compute \"normalized\" leading and lagging returns' ):\n",
    "            da.loc[:,:,returns_features] =  da.loc[:,:,returns_features] / ( da.loc[:,:,annual_vol] + 1e-12 )\n",
    "            # volume, price and returns vol\n",
    "    if emv:\n",
    "        with logger.timer( 'compute volatility' ):\n",
    "            emv = mx.transforms.exponential( halflifes=np.array( [2, 10, 30] ) * INTS_PER_DAY, sid='symbol' ).sd()\n",
    "            da = emv( da, features=['log_open_30min', 'log_dollar_volume_30min', 'logrtn_lag_30min', 'logrtn_lag_1day'] )\n",
    "            features += emv.output_features\n",
    "    # volume, price and returns sma\n",
    "    if ema:\n",
    "        with logger.timer( 'compute ema' ):\n",
    "            ema = mx.transforms.exponential( halflifes=np.array( [2, 10, 30] ) * INTS_PER_DAY, sid='symbol' ).mean()\n",
    "            da = ema( da, features=['log_open_30min', 'log_dollar_volume_30min', 'logrtn_lag_30min', 'logrtn_lag_1day'] )\n",
    "            features += ema.output_features\n",
    "            # compute haar transform\n",
    "    if haar:\n",
    "        with logger.timer( 'compute haar' ):\n",
    "            haar = mx.transforms.haar( levels=levels, dilation=dilation, sid='symbol' )\n",
    "            haar.features = ['log_open_30min', 'log_dollar_volume_30min', 'logrtn_lag_30min', 'logrtn_lag_1day']\n",
    "            da = haar( da )\n",
    "            features += haar.output_features\n",
    "    # winsorize the features we've constructed and other good stuff\n",
    "    if winsorize:\n",
    "        with logger.timer( 'winsorizing' ):\n",
    "            wins = mx.transforms.batch( sid='symbol' ).winsorize( quantiles=winsorize )\n",
    "            wins.features = sorted( set(features + [annual_vol] + equalized_responses  ) )\n",
    "            da = wins( da )\n",
    "            # drop the original features and rename the winsorized one\n",
    "            da = (da.drop_coords( features=wins.features )\n",
    "                  .rename_coords( features=dict( zip( wins.output_features, wins.features ) ) ))\n",
    "    # zscore the features\n",
    "    if smz:\n",
    "        with logger.timer( 'zscoring' ):\n",
    "            zscore = mx.transforms.rolling( windows=smz, sid='symbol' ).zscore()\n",
    "            da = zscore( da, features=features )\n",
    "            # drop the original features and rename the zscored one\n",
    "            da = da.drop_coords( features=zscore.features ).rename_coords( features=dict( zip( zscore.output_features, zscore.features ) ) )\n",
    "    # add a dummy weight column\n",
    "    da = da.assign_features( one=1 )\n",
    "    return da, features, dict( equalized_responses=equalized_responses, annual_vol=annual_vol )\n",
    "\n",
    "\n",
    "builder = FeatureBuilder( responses=responses, volume_features=volume_features, returns_features=returns_features, smz=False  )\n",
    "builder.data = None\n",
    "\n",
    "da = builder()\n",
    "disp( 'expected FeatureBuilder_8f67a6e37 got', builder.hash() )\n",
    "\n",
    "# obtain the metadata for each symbol\n",
    "metas = []\n",
    "for symbol in da.symbol.values:\n",
    "    for etf_list in [eld.bond_etfs, eld.equity_etfs, eld.vol_etfs]:\n",
    "        if symbol in etf_list.Symbol.values:\n",
    "            metas.append( etf_list[etf_list.Symbol == symbol].iloc[0].to_dict() )\n",
    "            break\n",
    "\n",
    "da = da.loc['20050101':]            \n",
    "meta_df =pd.DataFrame(metas)     \n",
    "hps = mx.HPSet()"
   ]
  },
  {
   "cell_type": "markdown",
   "metadata": {},
   "source": [
    "## Setup the training, validation and testing datasets\n"
   ]
  },
  {
   "cell_type": "code",
   "execution_count": 3,
   "metadata": {
    "code_folding": [
     0
    ],
    "run_control": {
     "marked": true
    }
   },
   "outputs": [
    {
     "name": "stdout",
     "output_type": "stream",
     "text": [
      "trg_fraction= 0.5 val_fraction= 0.25002025439520376 tst_fraction= 0.25002025439520376\n"
     ]
    },
    {
     "data": {
      "text/html": [
       "<font face=\"Courier New\">X&nbspmean&nbsp;&nbsp;&nbsp;&nbsp<xarray.DataArray&nbsp'open_30min'&nbsp(features:&nbsp44)><br>array([-1.37581993e-02,&nbsp-2.40150727e-02,&nbsp-7.42823526e-04,&nbsp-1.68314285e-03,<br>&nbsp&nbsp&nbsp&nbsp&nbsp&nbsp&nbsp-4.19016360e-05,&nbsp&nbsp2.29971372e-02,&nbsp-3.68282711e-03,&nbsp&nbsp1.11187287e-02,<br>&nbsp&nbsp&nbsp&nbsp&nbsp&nbsp&nbsp-1.79692045e-01,&nbsp-1.60993665e-01,&nbsp-1.82556883e-01,&nbsp-1.62849352e-01,<br>&nbsp&nbsp&nbsp&nbsp&nbsp&nbsp&nbsp-1.88210905e-01,&nbsp-1.68994144e-01,&nbsp-4.60222270e-03,&nbsp-4.71791113e-03,<br>&nbsp&nbsp&nbsp&nbsp&nbsp&nbsp&nbsp-5.49520506e-03,&nbsp-6.02231966e-03,&nbsp-5.69878332e-03,&nbsp-7.04912143e-03,<br>&nbsp&nbsp&nbsp&nbsp&nbsp&nbsp&nbsp&nbsp1.20152220e-01,&nbsp&nbsp1.16922736e-01,&nbsp&nbsp1.22088462e-01,&nbsp-7.72517994e-02,<br>&nbsp&nbsp&nbsp&nbsp&nbsp&nbsp&nbsp-8.51506442e-02,&nbsp-1.25093803e-01,&nbsp&nbsp1.53942704e-01,&nbsp&nbsp1.62677675e-01,<br>&nbsp&nbsp&nbsp&nbsp&nbsp&nbsp&nbsp&nbsp1.76872835e-01,&nbsp&nbsp1.06805347e-01,&nbsp-1.41376480e-01,&nbsp-1.28772259e-01,<br>&nbsp&nbsp&nbsp&nbsp&nbsp&nbsp&nbsp-1.29785821e-01,&nbsp&nbsp1.07780382e-01,&nbsp&nbsp1.07647754e-01,&nbsp&nbsp1.05914958e-01,<br>&nbsp&nbsp&nbsp&nbsp&nbsp&nbsp&nbsp&nbsp2.34438060e-03,&nbsp-3.59130278e-03,&nbsp&nbsp4.93615586e-03,&nbsp-5.04880853e-04,<br>&nbsp&nbsp&nbsp&nbsp&nbsp&nbsp&nbsp&nbsp9.52805683e-04,&nbsp-1.68736512e-03,&nbsp&nbsp1.29810413e-02,&nbsp-6.28939047e-02],<br>&nbsp&nbsp&nbsp&nbsp&nbsp&nbspdtype=float32)<br>Coordinates:<br>&nbsp&nbsp*&nbspfeatures&nbsp&nbsp(features)&nbspobject&nbsp'logrtn_lag_overnight'&nbsp...&nbsp'sin_weekofyear'&nbsp;&nbsp;&nbsp;&nbspstd&nbsp;&nbsp;&nbsp;&nbsp<xarray.DataArray&nbsp'open_30min'&nbsp(features:&nbsp44)><br>array([0.960318&nbsp&nbsp,&nbsp0.95185065,&nbsp0.9741025&nbsp,&nbsp0.9729919&nbsp,&nbsp0.96757466,<br>&nbsp&nbsp&nbsp&nbsp&nbsp&nbsp&nbsp0.96393496,&nbsp0.97403526,&nbsp0.9843721&nbsp,&nbsp0.9952648&nbsp,&nbsp1.00411&nbsp&nbsp&nbsp,<br>&nbsp&nbsp&nbsp&nbsp&nbsp&nbsp&nbsp0.99916595,&nbsp0.99883664,&nbsp0.9830972&nbsp,&nbsp0.9941595&nbsp,&nbsp0.96644783,<br>&nbsp&nbsp&nbsp&nbsp&nbsp&nbsp&nbsp0.9674288&nbsp,&nbsp0.97484595,&nbsp0.9759281&nbsp,&nbsp0.9584577&nbsp,&nbsp0.96024483,<br>&nbsp&nbsp&nbsp&nbsp&nbsp&nbsp&nbsp0.9234032&nbsp,&nbsp0.92687076,&nbsp0.93263084,&nbsp0.92619175,&nbsp0.90643007,<br>&nbsp&nbsp&nbsp&nbsp&nbsp&nbsp&nbsp0.8937306&nbsp,&nbsp0.9064257&nbsp,&nbsp0.9039048&nbsp,&nbsp0.90082055,&nbsp0.88327485,<br>&nbsp&nbsp&nbsp&nbsp&nbsp&nbsp&nbsp1.0135299&nbsp,&nbsp1.0429009&nbsp,&nbsp1.0845908&nbsp,&nbsp0.8844097&nbsp,&nbsp0.88470805,<br>&nbsp&nbsp&nbsp&nbsp&nbsp&nbsp&nbsp0.88555044,&nbsp1.0031807&nbsp,&nbsp0.99938977,&nbsp1.0119661&nbsp,&nbsp0.99857444,<br>&nbsp&nbsp&nbsp&nbsp&nbsp&nbsp&nbsp1.0064648&nbsp,&nbsp1.0012395&nbsp,&nbsp0.99811226,&nbsp1.0034971&nbsp],&nbspdtype=float32)<br>Coordinates:<br>&nbsp&nbsp*&nbspfeatures&nbsp&nbsp(features)&nbspobject&nbsp'logrtn_lag_overnight'&nbsp...&nbsp'sin_weekofyear'</font>"
      ],
      "text/plain": [
       "<IPython.core.display.HTML object>"
      ]
     },
     "metadata": {},
     "output_type": "display_data"
    },
    {
     "data": {
      "text/html": [
       "<font face=\"Courier New\">Y&nbspmean&nbsp;&nbsp;&nbsp;&nbsp<xarray.DataArray&nbsp'open_30min'&nbsp(features:&nbsp1)><br>array([0.00856043],&nbspdtype=float32)<br>Coordinates:<br>&nbsp&nbsp*&nbspfeatures&nbsp&nbsp(features)&nbspobject&nbsp'logrtn_lead_1day_equalized'&nbsp;&nbsp;&nbsp;&nbspstd&nbsp;&nbsp;&nbsp;&nbsp<xarray.DataArray&nbsp'open_30min'&nbsp(features:&nbsp1)><br>array([0.99614775],&nbspdtype=float32)<br>Coordinates:<br>&nbsp&nbsp*&nbspfeatures&nbsp&nbsp(features)&nbspobject&nbsp'logrtn_lead_1day_equalized'</font>"
      ],
      "text/plain": [
       "<IPython.core.display.HTML object>"
      ]
     },
     "metadata": {},
     "output_type": "display_data"
    },
    {
     "data": {
      "text/html": [
       "<font face=\"Courier New\" size=2 color=\"green\">20200504.092201|root|(contextlib.py::112)|INFO&nbsp&nbsp;&nbsp;&nbsp;&nbsphankeling&nbsptrg&nbsp...&nbsp(starting)</font>"
      ],
      "text/plain": [
       "<IPython.core.display.HTML object>"
      ]
     },
     "metadata": {},
     "output_type": "display_data"
    },
    {
     "data": {
      "text/html": [
       "<font face=\"Courier New\" size=2 color=\"green\">20200504.092208|root|(contextlib.py::119)|INFO&nbsp&nbsp;&nbsp;&nbsp;&nbsphankeling&nbsptrg&nbsp...&nbsp(done&nbsp-&nbsptook&nbsp6.55s)</font>"
      ],
      "text/plain": [
       "<IPython.core.display.HTML object>"
      ]
     },
     "metadata": {},
     "output_type": "display_data"
    },
    {
     "data": {
      "text/html": [
       "<font face=\"Courier New\" size=2 color=\"green\">20200504.092208|root|(contextlib.py::112)|INFO&nbsp&nbsp;&nbsp;&nbsp;&nbsphankeling&nbspval&nbsp...&nbsp(starting)</font>"
      ],
      "text/plain": [
       "<IPython.core.display.HTML object>"
      ]
     },
     "metadata": {},
     "output_type": "display_data"
    },
    {
     "data": {
      "text/html": [
       "<font face=\"Courier New\" size=2 color=\"green\">20200504.092211|root|(contextlib.py::119)|INFO&nbsp&nbsp;&nbsp;&nbsp;&nbsphankeling&nbspval&nbsp...&nbsp(done&nbsp-&nbsptook&nbsp3.30s)</font>"
      ],
      "text/plain": [
       "<IPython.core.display.HTML object>"
      ]
     },
     "metadata": {},
     "output_type": "display_data"
    },
    {
     "name": "stderr",
     "output_type": "stream",
     "text": [
      "/opt/conda/conda-bld/pytorch_1587428398394/work/torch/csrc/utils/tensor_numpy.cpp:141: UserWarning: The given NumPy array is not writeable, and PyTorch does not support non-writeable tensors. This means you can write to the underlying (supposedly non-writeable) NumPy array using the tensor. You may want to copy the array to protect its data or make it writeable before converting it to a tensor. This type of warning will be suppressed for the rest of this program.\n"
     ]
    }
   ],
   "source": [
    "#setup the datasets\n",
    "#--------------------------------\n",
    "%nbagg\n",
    "mxtr = mxtr.reload() \n",
    "\n",
    "hps.winlen = 13 * 3 * (2 ** 5) + 512  # window lenght for haneklization (atleast more than 4 dilation levels)\n",
    "hps.standardize_features = True\n",
    "hps.responses = [ 'logrtn_lead_1day_equalized'] #['logrtn_lead_30min_equalized', 'logrtn_lead_1hr_equalized', 'logrtn_lead_1day_equalized'] #\n",
    "hps.features =([ \n",
    "    'logrtn_lag_overnight', 'logrtn_lag_weekend', 'logrtn_lag_30min', 'logrtn_lag_1hr', 'logrtn_lag_1day',\n",
    "    'logrtn_lag_intraday', 'logrtn_lag_intraweek',    'logrtn_lag_intramonth',\n",
    "    'logrtn_lag_30min_26.ew_sd',  'logrtn_lag_1day_26.ew_sd',  'logrtn_lag_30min_130.ew_sd', 'logrtn_lag_1day_130.ew_sd',\n",
    "    'logrtn_lag_30min_390.ew_sd', 'logrtn_lag_1day_390.ew_sd','logrtn_lag_30min_26.ew_mean', 'logrtn_lag_1day_26.ew_mean',\n",
    "    'logrtn_lag_30min_130.ew_mean', 'logrtn_lag_1day_130.ew_mean','logrtn_lag_30min_390.ew_mean', 'logrtn_lag_1day_390.ew_mean',\n",
    "    'log_dollar_volume_30min', 'log_dollar_volume_intraday', 'log_dollar_volume_intraweek',\n",
    "    'log_dollar_volume_30min_26.ew_sd',  'log_dollar_volume_30min_130.ew_sd', 'log_dollar_volume_30min_390.ew_sd', \n",
    "    'log_dollar_volume_30min_26.ew_mean',  'log_dollar_volume_30min_130.ew_mean', 'log_dollar_volume_30min_390.ew_mean', \n",
    "    'log_open_30min', 'log_open_30min_26.ew_sd',  'log_open_30min_130.ew_sd',  'log_open_30min_390.ew_sd', 'log_open_30min_26.ew_mean', \n",
    "    'log_open_30min_130.ew_mean', 'log_open_30min_390.ew_mean', \n",
    "]) \n",
    "hps.calendar_features = ['cos_timeofday', 'sin_timeofday', 'cos_dayofweek', 'sin_dayofweek', 'cos_dayofmonth','sin_dayofmonth', 'cos_weekofyear', 'sin_weekofyear']\n",
    "\n",
    "# convert time and sid to integers for use in pytorch\n",
    "class coord_maps:\n",
    "    int_to_time = pd.Series( da.time.values, index=np.arange( len( da.time ) ) )\n",
    "    time_to_int = pd.Series( np.arange( len( da.time ) ),  index=da.time.values )\n",
    "    int_to_sid = pd.Series( da.symbol.values, index=np.arange( len( da.symbol ) ) )\n",
    "    sid_to_int = pd.Series( np.arange( len( da.symbol ) ),  index=da.symbol.values )\n",
    "    \n",
    "da_int = da.rename_coords( time=coord_maps.time_to_int, symbol=coord_maps.sid_to_int )\n",
    "X_da = da_int.loc[:,:,hps.features + hps.calendar_features]\n",
    "Y_da = da_int.loc[:,:,hps.responses]\n",
    "# compute the valid-data-mask - and account for per-instrument priming in it\n",
    "V_da = (da_int.loc[:,:,'valid']\n",
    "        # fill small gaps\n",
    "        .ffill( dim='time', limit=13*10 ) \n",
    "        # keep only the valid data for each symbol\n",
    "        .notnull() ) \n",
    "V_da = ( V_da * da_int.loc[:,:,'valid'].fillna(0) )\n",
    "# the weight matrix --- to do.\n",
    "W_da = da_int.loc[:,:,'valid'].broadcast_like( Y_da ) \n",
    "\n",
    "# split the data into trg, val and testing \n",
    "hps.trg_mask = arange( 0, len( da ) // 2 )\n",
    "# note adjustment for model priming\n",
    "hps.val_mask = arange( hps.trg_mask.max(), int( len( da ) * 0.75 ) )\n",
    "hps.tst_mask = arange( hps.val_mask.max(), len( da ) )\n",
    "hps.trg_dates = pd.to_datetime( (da[hps.trg_mask].time.min().values, da[hps.trg_mask].time.max().values) )\n",
    "hps.val_dates = pd.to_datetime( (da[hps.val_mask].time.min().values, da[hps.val_mask].time.max().values) )\n",
    "hps.tst_dates = pd.to_datetime( (da[hps.tst_mask].time.min().values, da[hps.tst_mask].time.max().values) )\n",
    "\n",
    "\n",
    "print( f'trg_fraction=', len(hps.trg_mask)/len(da), f'val_fraction=', len(hps.val_mask)/len(da), f'tst_fraction=', len(hps.tst_mask)/len(da) )\n",
    "\n",
    "# standardize the features using the training data (non-nulls only)\n",
    "if hps.standardize_features:\n",
    "    X_da = (X_da - X_da[hps.trg_mask].mean( dim=['time', 'symbol'] ))  / ( X_da[hps.trg_mask].std( dim=['time', 'symbol'] ) + 1e-12)\n",
    "    Y_da = (Y_da - Y_da[hps.trg_mask].mean( dim=['time', 'symbol'] ))  / ( Y_da[hps.trg_mask].std( dim=['time', 'symbol'] ) + 1e-12)\n",
    "    \n",
    "disp( 'X mean', X_da.mean( dim=['time', 'symbol'] ), 'std', X_da.std( dim=['time', 'symbol'] ) )\n",
    "disp( 'Y mean', Y_da.mean( dim=['time', 'symbol'] ), 'std', Y_da.std( dim=['time', 'symbol'] ) )\n",
    "    \n",
    "# nan-fill for later processing\n",
    "X_da = X_da.fillna(0)\n",
    "Y_da = Y_da.fillna(0)\n",
    "W_da = W_da.fillna(0)\n",
    "\n",
    "    \n",
    "# -- build the dataset objects -----\n",
    "with mx.timer( 'hankeling trg'):\n",
    "    trg_hankel_dataset = mxtr.HankelDataset(  \n",
    "        X_da[hps.trg_mask].fillna(0), Y_da[hps.trg_mask].fillna(0), W_da[hps.trg_mask].fillna(0), \n",
    "        valid_da=V_da[hps.trg_mask], winlen=hps.winlen, min_periods=hps.winlen,\n",
    "        dtype=dtype,\n",
    "    )\n",
    "with mx.timer( 'hankeling val'):\n",
    "    val_hankel_dataset = mxtr.HankelDataset(  \n",
    "        X_da[hps.val_mask].fillna(0), Y_da[hps.val_mask].fillna(0), W_da[hps.val_mask].fillna(0), \n",
    "        valid_da=V_da[hps.val_mask], winlen=hps.winlen, min_periods=hps.winlen,\n",
    "        dtype=dtype,\n",
    "    )    \n",
    "if False:\n",
    "    with mx.timer(' test the hankelization ----'):\n",
    "        for self, mask in ( (trg_hankel_dataset, hps.trg_mask), (val_hankel_dataset, hps.val_mask) ):\n",
    "            self.test_hankelization( X_da[mask].fillna(0), da_ix=0 )\n",
    "            self.test_hankelization( Y_da[mask].fillna(0), da_ix=1 )\n",
    "\n",
    "full_panel_dataset = mxtr.TensorDataset(\n",
    "    V_da.time.broadcast_like(V_da).to_tensor( dtype=tr.int32 ),\n",
    "    V_da.symbol.broadcast_like(V_da).to_tensor( dtype=tr.int32 ),\n",
    "    X_da.fillna(0).to_tensor( dtype=dtype ),     \n",
    "    Y_da.fillna(0).to_tensor( dtype=dtype ),  \n",
    "    W_da.fillna(0).to_tensor( dtype=dtype ),  \n",
    ")\n",
    "\n",
    "tst_panel_dataset  = mxtr.TensorDataset( *full_panel_dataset[hps.tst_mask] )"
   ]
  },
  {
   "cell_type": "markdown",
   "metadata": {},
   "source": [
    "## The model "
   ]
  },
  {
   "cell_type": "code",
   "execution_count": 25,
   "metadata": {
    "code_folding": [],
    "run_control": {
     "marked": true
    },
    "scrolled": true
   },
   "outputs": [
    {
     "data": {
      "text/html": [
       "<font face=\"Courier New\">Created&nbsptensorboard&nbsplogger</font>"
      ],
      "text/plain": [
       "<IPython.core.display.HTML object>"
      ]
     },
     "metadata": {},
     "output_type": "display_data"
    },
    {
     "data": {
      "text/html": [
       "<font face=\"Courier New\" color=\"teal\">Could&nbspnot&nbspkill&nbsptensorboard&nbspserver&nbsp-&nbspnone&nbsprunning</font>"
      ],
      "text/plain": [
       "<IPython.core.display.HTML object>"
      ]
     },
     "metadata": {},
     "output_type": "display_data"
    },
    {
     "data": {
      "text/html": [
       "<font face=\"Courier New\">started&nbsptensorboard&nbspserver&nbspin&nbsp/home/fj/experiments/etf_technical/deep_learning/2020.04.30/none/tensorboard</font>"
      ],
      "text/plain": [
       "<IPython.core.display.HTML object>"
      ]
     },
     "metadata": {},
     "output_type": "display_data"
    },
    {
     "data": {
      "text/html": [
       "<p style=\"background-color:hsl(20,70%,80%) \"><font face=\"Courier New\" size=4 color=\"green\">20200504.101358|FactorResnet|(model_v1.py::155)|WARN&nbsp&nbsp;&nbsp;&nbsp;&nbspProvided&nbsppriming&nbsp1248&nbsp&nbsprequired&nbsppriming&nbsp390</font></p>"
      ],
      "text/plain": [
       "<IPython.core.display.HTML object>"
      ]
     },
     "metadata": {},
     "output_type": "display_data"
    },
    {
     "data": {
      "text/html": [
       "<font face=\"Courier New\" size=5><div>\n",
       "<style scoped>\n",
       "    .dataframe tbody tr th:only-of-type {\n",
       "        vertical-align: middle;\n",
       "    }\n",
       "\n",
       "    .dataframe tbody tr th {\n",
       "        vertical-align: top;\n",
       "    }\n",
       "\n",
       "    .dataframe thead th {\n",
       "        text-align: right;\n",
       "    }\n",
       "</style>\n",
       "<table border=\"1\" class=\"dataframe\">\n",
       "  <thead>\n",
       "    <tr style=\"text-align: right;\">\n",
       "      <th></th>\n",
       "      <th>name</th>\n",
       "      <th>type</th>\n",
       "      <th>shape</th>\n",
       "      <th>numel</th>\n",
       "      <th>norm</th>\n",
       "      <th>dtype</th>\n",
       "      <th>device</th>\n",
       "      <th>arguments</th>\n",
       "    </tr>\n",
       "  </thead>\n",
       "  <tbody>\n",
       "    <tr>\n",
       "      <td>0</td>\n",
       "      <td></td>\n",
       "      <td>FactorResnet</td>\n",
       "      <td></td>\n",
       "      <td>20011</td>\n",
       "      <td>13.636254</td>\n",
       "      <td></td>\n",
       "      <td></td>\n",
       "      <td>{'num_features': 44, 'num_responses': 1, 'acti...</td>\n",
       "    </tr>\n",
       "    <tr>\n",
       "      <td>1</td>\n",
       "      <td>first_layer/</td>\n",
       "      <td>OneLayer</td>\n",
       "      <td></td>\n",
       "      <td>470</td>\n",
       "      <td>6.324555</td>\n",
       "      <td></td>\n",
       "      <td></td>\n",
       "      <td>{'name': 'first', 'L': None, 'Pin': 44, 'Pout'...</td>\n",
       "    </tr>\n",
       "    <tr>\n",
       "      <td>2</td>\n",
       "      <td>first_layer/convolution/</td>\n",
       "      <td>Linear</td>\n",
       "      <td></td>\n",
       "      <td>450</td>\n",
       "      <td>3.162278</td>\n",
       "      <td></td>\n",
       "      <td></td>\n",
       "      <td>{'in_features': 44, 'out_features': 10, 'bias'...</td>\n",
       "    </tr>\n",
       "    <tr>\n",
       "      <td>3</td>\n",
       "      <td>first_layer/convolution/weight</td>\n",
       "      <td>Parameter</td>\n",
       "      <td>(10, 44)</td>\n",
       "      <td>440</td>\n",
       "      <td>3.162278</td>\n",
       "      <td>torch.float32</td>\n",
       "      <td>cuda:0</td>\n",
       "      <td></td>\n",
       "    </tr>\n",
       "    <tr>\n",
       "      <td>4</td>\n",
       "      <td>first_layer/convolution/bias</td>\n",
       "      <td>Parameter</td>\n",
       "      <td>(10,)</td>\n",
       "      <td>10</td>\n",
       "      <td>0.000000</td>\n",
       "      <td>torch.float32</td>\n",
       "      <td>cuda:0</td>\n",
       "      <td></td>\n",
       "    </tr>\n",
       "    <tr>\n",
       "      <td>5</td>\n",
       "      <td>first_layer/batch_norm/</td>\n",
       "      <td>BatchNormPanel</td>\n",
       "      <td></td>\n",
       "      <td>20</td>\n",
       "      <td>3.162278</td>\n",
       "      <td></td>\n",
       "      <td></td>\n",
       "      <td>{'num_features': 10, 'eps': 1e-05, 'momentum':...</td>\n",
       "    </tr>\n",
       "    <tr>\n",
       "      <td>6</td>\n",
       "      <td>first_layer/batch_norm/weight</td>\n",
       "      <td>Parameter</td>\n",
       "      <td>(10,)</td>\n",
       "      <td>10</td>\n",
       "      <td>3.162278</td>\n",
       "      <td>torch.float32</td>\n",
       "      <td>cuda:0</td>\n",
       "      <td></td>\n",
       "    </tr>\n",
       "    <tr>\n",
       "      <td>7</td>\n",
       "      <td>first_layer/batch_norm/bias</td>\n",
       "      <td>Parameter</td>\n",
       "      <td>(10,)</td>\n",
       "      <td>10</td>\n",
       "      <td>0.000000</td>\n",
       "      <td>torch.float32</td>\n",
       "      <td>cuda:0</td>\n",
       "      <td></td>\n",
       "    </tr>\n",
       "    <tr>\n",
       "      <td>8</td>\n",
       "      <td>first_layer/activation/</td>\n",
       "      <td>LeakyReLU</td>\n",
       "      <td></td>\n",
       "      <td>0</td>\n",
       "      <td>0.000000</td>\n",
       "      <td></td>\n",
       "      <td></td>\n",
       "      <td>{'negative_slope': 0.1, 'inplace': False}</td>\n",
       "    </tr>\n",
       "    <tr>\n",
       "      <td>9</td>\n",
       "      <td>first_layer/monitor/</td>\n",
       "      <td>FlowMonitor</td>\n",
       "      <td></td>\n",
       "      <td>0</td>\n",
       "      <td>0.000000</td>\n",
       "      <td></td>\n",
       "      <td></td>\n",
       "      <td>{'name': 'FlowMonitor/first', 'patience': 15}</td>\n",
       "    </tr>\n",
       "    <tr>\n",
       "      <td>10</td>\n",
       "      <td>resnet/</td>\n",
       "      <td>ResNet</td>\n",
       "      <td></td>\n",
       "      <td>19530</td>\n",
       "      <td>6.311699</td>\n",
       "      <td></td>\n",
       "      <td></td>\n",
       "      <td>{'layers': [OneLayer(\n",
       "  \t name='resnet_0',    ...</td>\n",
       "    </tr>\n",
       "    <tr>\n",
       "      <td>11</td>\n",
       "      <td>resnet/layers/</td>\n",
       "      <td>ModuleList</td>\n",
       "      <td></td>\n",
       "      <td>19530</td>\n",
       "      <td>6.311699</td>\n",
       "      <td></td>\n",
       "      <td></td>\n",
       "      <td>{'modules': &lt;bound method Module.modules of Mo...</td>\n",
       "    </tr>\n",
       "    <tr>\n",
       "      <td>12</td>\n",
       "      <td>resnet/layers/0/</td>\n",
       "      <td>OneLayer</td>\n",
       "      <td></td>\n",
       "      <td>19530</td>\n",
       "      <td>6.311699</td>\n",
       "      <td></td>\n",
       "      <td></td>\n",
       "      <td>{'name': 'resnet_0', 'L': 195, 'Pin': 10, 'Pou...</td>\n",
       "    </tr>\n",
       "    <tr>\n",
       "      <td>13</td>\n",
       "      <td>resnet/layers/0/convolution/</td>\n",
       "      <td>CausalConv1D</td>\n",
       "      <td></td>\n",
       "      <td>19510</td>\n",
       "      <td>3.149421</td>\n",
       "      <td></td>\n",
       "      <td></td>\n",
       "      <td>{'L': 195, 'Pin': 10, 'Pout': 10, 'stride': 1,...</td>\n",
       "    </tr>\n",
       "    <tr>\n",
       "      <td>14</td>\n",
       "      <td>resnet/layers/0/convolution/kernel</td>\n",
       "      <td>Parameter</td>\n",
       "      <td>(195, 10, 10)</td>\n",
       "      <td>19500</td>\n",
       "      <td>3.149421</td>\n",
       "      <td>torch.float32</td>\n",
       "      <td>cuda:0</td>\n",
       "      <td></td>\n",
       "    </tr>\n",
       "    <tr>\n",
       "      <td>15</td>\n",
       "      <td>resnet/layers/0/convolution/bias</td>\n",
       "      <td>Parameter</td>\n",
       "      <td>(10,)</td>\n",
       "      <td>10</td>\n",
       "      <td>0.000000</td>\n",
       "      <td>torch.float32</td>\n",
       "      <td>cuda:0</td>\n",
       "      <td></td>\n",
       "    </tr>\n",
       "    <tr>\n",
       "      <td>17</td>\n",
       "      <td>resnet/layers/0/batch_norm/</td>\n",
       "      <td>BatchNormPanel</td>\n",
       "      <td></td>\n",
       "      <td>20</td>\n",
       "      <td>3.162278</td>\n",
       "      <td></td>\n",
       "      <td></td>\n",
       "      <td>{'num_features': 10, 'eps': 1e-05, 'momentum':...</td>\n",
       "    </tr>\n",
       "    <tr>\n",
       "      <td>18</td>\n",
       "      <td>resnet/layers/0/batch_norm/weight</td>\n",
       "      <td>Parameter</td>\n",
       "      <td>(10,)</td>\n",
       "      <td>10</td>\n",
       "      <td>3.162278</td>\n",
       "      <td>torch.float32</td>\n",
       "      <td>cuda:0</td>\n",
       "      <td></td>\n",
       "    </tr>\n",
       "    <tr>\n",
       "      <td>19</td>\n",
       "      <td>resnet/layers/0/batch_norm/bias</td>\n",
       "      <td>Parameter</td>\n",
       "      <td>(10,)</td>\n",
       "      <td>10</td>\n",
       "      <td>0.000000</td>\n",
       "      <td>torch.float32</td>\n",
       "      <td>cuda:0</td>\n",
       "      <td></td>\n",
       "    </tr>\n",
       "    <tr>\n",
       "      <td>20</td>\n",
       "      <td>resnet/layers/0/activation/</td>\n",
       "      <td>LeakyReLU</td>\n",
       "      <td></td>\n",
       "      <td>0</td>\n",
       "      <td>0.000000</td>\n",
       "      <td></td>\n",
       "      <td></td>\n",
       "      <td>{'negative_slope': 0.1, 'inplace': False}</td>\n",
       "    </tr>\n",
       "    <tr>\n",
       "      <td>21</td>\n",
       "      <td>resnet/layers/0/monitor/</td>\n",
       "      <td>FlowMonitor</td>\n",
       "      <td></td>\n",
       "      <td>0</td>\n",
       "      <td>0.000000</td>\n",
       "      <td></td>\n",
       "      <td></td>\n",
       "      <td>{'name': 'FlowMonitor/resnet_0', 'patience': 15}</td>\n",
       "    </tr>\n",
       "    <tr>\n",
       "      <td>22</td>\n",
       "      <td>final_layer/</td>\n",
       "      <td>Sequential</td>\n",
       "      <td></td>\n",
       "      <td>11</td>\n",
       "      <td>1.000000</td>\n",
       "      <td></td>\n",
       "      <td></td>\n",
       "      <td>{'args': &lt;class 'inspect._empty'&gt;}</td>\n",
       "    </tr>\n",
       "    <tr>\n",
       "      <td>23</td>\n",
       "      <td>final_layer/0/</td>\n",
       "      <td>Linear</td>\n",
       "      <td></td>\n",
       "      <td>11</td>\n",
       "      <td>1.000000</td>\n",
       "      <td></td>\n",
       "      <td></td>\n",
       "      <td>{'in_features': 10, 'out_features': 1, 'bias':...</td>\n",
       "    </tr>\n",
       "    <tr>\n",
       "      <td>24</td>\n",
       "      <td>final_layer/0/weight</td>\n",
       "      <td>Parameter</td>\n",
       "      <td>(1, 10)</td>\n",
       "      <td>10</td>\n",
       "      <td>1.000000</td>\n",
       "      <td>torch.float32</td>\n",
       "      <td>cuda:0</td>\n",
       "      <td></td>\n",
       "    </tr>\n",
       "    <tr>\n",
       "      <td>25</td>\n",
       "      <td>final_layer/0/bias</td>\n",
       "      <td>Parameter</td>\n",
       "      <td>(1,)</td>\n",
       "      <td>1</td>\n",
       "      <td>0.000000</td>\n",
       "      <td>torch.float32</td>\n",
       "      <td>cuda:0</td>\n",
       "      <td></td>\n",
       "    </tr>\n",
       "    <tr>\n",
       "      <td>26</td>\n",
       "      <td>final_layer/1/</td>\n",
       "      <td>FlowMonitor</td>\n",
       "      <td></td>\n",
       "      <td>0</td>\n",
       "      <td>0.000000</td>\n",
       "      <td></td>\n",
       "      <td></td>\n",
       "      <td>{'name': 'FlowMonitor/final', 'patience': 15}</td>\n",
       "    </tr>\n",
       "    <tr>\n",
       "      <td>27</td>\n",
       "      <td>_mse/</td>\n",
       "      <td>Error</td>\n",
       "      <td></td>\n",
       "      <td>0</td>\n",
       "      <td>0.000000</td>\n",
       "      <td></td>\n",
       "      <td></td>\n",
       "      <td>{'metric': 'mse', 'tensorboard': False, 'kappa...</td>\n",
       "    </tr>\n",
       "    <tr>\n",
       "      <td>28</td>\n",
       "      <td>_util/</td>\n",
       "      <td>Error</td>\n",
       "      <td></td>\n",
       "      <td>0</td>\n",
       "      <td>0.000000</td>\n",
       "      <td></td>\n",
       "      <td></td>\n",
       "      <td>{'metric': 'util', 'tensorboard': False, 'kapp...</td>\n",
       "    </tr>\n",
       "    <tr>\n",
       "      <td>29</td>\n",
       "      <td>_psr/</td>\n",
       "      <td>Error</td>\n",
       "      <td></td>\n",
       "      <td>0</td>\n",
       "      <td>0.000000</td>\n",
       "      <td></td>\n",
       "      <td></td>\n",
       "      <td>{'metric': 'pos-sr', 'tensorboard': False, 'ka...</td>\n",
       "    </tr>\n",
       "  </tbody>\n",
       "</table>\n",
       "</div></font>"
      ],
      "text/plain": [
       "<IPython.core.display.HTML object>"
      ]
     },
     "metadata": {},
     "output_type": "display_data"
    }
   ],
   "source": [
    "# -- setup the model --\n",
    "mxtr = mxtr.reload()\n",
    "from research.etf_technical import model_v1 as mdl; reload(mdl)\n",
    "mx.Config.start()\n",
    "\n",
    "disp( mx.tensorboard.start( clear=True ) )\n",
    "disp( mx.tensorboard.start_server() )\n",
    "\n",
    "hps.loss_hps = mx.HPSet(\n",
    "    kapow = 1e-8,\n",
    "    curvature = None,\n",
    "    dirichlet = None,\n",
    "    lasso = None,\n",
    "    lipschitz = 1e-1,\n",
    "    logdet = None,\n",
    "    neumann = None,\n",
    "    ridge = 1e-3,\n",
    "    smooth_lasso = None,\n",
    "    tv = 1e-6,\n",
    "    priming=13 * 3 * (2 ** 5),\n",
    "    patience=1, # for logging\n",
    "    error='mse',\n",
    ")\n",
    "mx.seed( 17 )\n",
    "model = mdl.FactorResnet(     \n",
    "    num_features = len( hps.features + hps.calendar_features ),\n",
    "    num_responses = len( hps.responses ),\n",
    "    hydra=False,\n",
    "    activation = 'leaky_relu',\n",
    "    batch_norm=True,\n",
    "    L = 13 * 15,  # 3 day convolution kernel\n",
    "    resnet_layers = 1,\n",
    "    resnet_gating = False,\n",
    "    resnet_channels = 10,\n",
    "    dilation=2,\n",
    "    monitor=True,\n",
    "    loss_hps=hps.loss_hps,\n",
    ").initialize( 'normal' ).to( dtype ).to( device )\n",
    "\n",
    "desc = model.describe()\n",
    "desc = desc[desc['type'] != 'Identity']\n",
    "disp( desc , size=5 )"
   ]
  },
  {
   "cell_type": "code",
   "execution_count": 18,
   "metadata": {
    "code_folding": [
     0
    ],
    "run_control": {
     "marked": true
    },
    "scrolled": true
   },
   "outputs": [
    {
     "data": {
      "text/html": [
       "<font face=\"Courier New\" size=2 color=\"green\">20200504.100230|root|(contextlib.py::112)|INFO&nbsp&nbsp;&nbsp;&nbsp;&nbsppredicting&nbsp&nbsp...&nbsp(starting)</font>"
      ],
      "text/plain": [
       "<IPython.core.display.HTML object>"
      ]
     },
     "metadata": {},
     "output_type": "display_data"
    },
    {
     "data": {
      "text/html": [
       "<font face=\"Courier New\" size=2 color=\"green\">20200504.100239|root|(contextlib.py::119)|INFO&nbsp&nbsp;&nbsp;&nbsp;&nbsppredicting&nbsp&nbsp...&nbsp(done&nbsp-&nbsptook&nbsp8.79s)</font>"
      ],
      "text/plain": [
       "<IPython.core.display.HTML object>"
      ]
     },
     "metadata": {},
     "output_type": "display_data"
    },
    {
     "data": {
      "text/html": [
       "<font face=\"Courier New\" size=2 color=\"green\">20200504.100239|root|(contextlib.py::112)|INFO&nbsp&nbsp;&nbsp;&nbsp;&nbspregressing&nbsp...&nbsp(starting)</font>"
      ],
      "text/plain": [
       "<IPython.core.display.HTML object>"
      ]
     },
     "metadata": {},
     "output_type": "display_data"
    },
    {
     "data": {
      "application/vnd.jupyter.widget-view+json": {
       "model_id": "1e92976c7da844cfa3d3e809791678ff",
       "version_major": 2,
       "version_minor": 0
      },
      "text/plain": [
       "HBox(children=(IntProgress(value=1, bar_style='info', max=1), HTML(value='')))"
      ]
     },
     "metadata": {},
     "output_type": "display_data"
    },
    {
     "name": "stderr",
     "output_type": "stream",
     "text": [
      "/home/fj/cloud/code/madmax/experiment/logging.py:104: UserWarning: Logger.log_uri not set. Try running Config.start() ? Will not write to disk \n",
      "  warnings.warn( 'Logger.log_uri not set. Try running Config.start() ? Will not write to disk ' )\n",
      "/home/fj/cloud/code/madmax/experiment/logging.py:104: UserWarning: Logger.log_uri not set. Try running Config.start() ? Will not write to disk \n",
      "  warnings.warn( 'Logger.log_uri not set. Try running Config.start() ? Will not write to disk ' )\n",
      "/home/fj/cloud/code/madmax/experiment/logging.py:104: UserWarning: Logger.log_uri not set. Try running Config.start() ? Will not write to disk \n",
      "  warnings.warn( 'Logger.log_uri not set. Try running Config.start() ? Will not write to disk ' )\n",
      "/home/fj/cloud/code/madmax/experiment/logging.py:104: UserWarning: Logger.log_uri not set. Try running Config.start() ? Will not write to disk \n",
      "  warnings.warn( 'Logger.log_uri not set. Try running Config.start() ? Will not write to disk ' )\n"
     ]
    },
    {
     "name": "stdout",
     "output_type": "stream",
     "text": [
      "\n"
     ]
    },
    {
     "data": {
      "text/html": [
       "<font face=\"Courier New\" size=2 color=\"green\">20200504.100248|root|(contextlib.py::119)|INFO&nbsp&nbsp;&nbsp;&nbsp;&nbspregressing&nbsp...&nbsp(done&nbsp-&nbsptook&nbsp9.44s)</font>"
      ],
      "text/plain": [
       "<IPython.core.display.HTML object>"
      ]
     },
     "metadata": {},
     "output_type": "display_data"
    },
    {
     "data": {
      "text/html": [
       "<h1><font face=\"Courier New\">Untrained&nbspmodel&nbsp</font></h1>"
      ],
      "text/plain": [
       "<IPython.core.display.HTML object>"
      ]
     },
     "metadata": {},
     "output_type": "display_data"
    },
    {
     "data": {
      "text/html": [
       "<font face=\"Courier New\"><div>\n",
       "<style scoped>\n",
       "    .dataframe tbody tr th:only-of-type {\n",
       "        vertical-align: middle;\n",
       "    }\n",
       "\n",
       "    .dataframe tbody tr th {\n",
       "        vertical-align: top;\n",
       "    }\n",
       "\n",
       "    .dataframe thead th {\n",
       "        text-align: right;\n",
       "    }\n",
       "</style>\n",
       "<table border=\"1\" class=\"dataframe\">\n",
       "  <thead>\n",
       "    <tr style=\"text-align: right;\">\n",
       "      <th></th>\n",
       "      <th>n</th>\n",
       "      <th>finite_frac</th>\n",
       "      <th>tilt</th>\n",
       "      <th>pmSR</th>\n",
       "      <th>ic</th>\n",
       "      <th>r2</th>\n",
       "      <th>tstat</th>\n",
       "      <th>DK_10</th>\n",
       "      <th>DK_20</th>\n",
       "      <th>DK_30</th>\n",
       "      <th>DK_40</th>\n",
       "      <th>DK_50</th>\n",
       "      <th>DK_60</th>\n",
       "      <th>DK_70</th>\n",
       "      <th>DK_80</th>\n",
       "      <th>DK_90</th>\n",
       "      <th>ac_1</th>\n",
       "      <th>ac_13</th>\n",
       "      <th>ac_26</th>\n",
       "    </tr>\n",
       "    <tr>\n",
       "      <th>sample</th>\n",
       "      <th></th>\n",
       "      <th></th>\n",
       "      <th></th>\n",
       "      <th></th>\n",
       "      <th></th>\n",
       "      <th></th>\n",
       "      <th></th>\n",
       "      <th></th>\n",
       "      <th></th>\n",
       "      <th></th>\n",
       "      <th></th>\n",
       "      <th></th>\n",
       "      <th></th>\n",
       "      <th></th>\n",
       "      <th></th>\n",
       "      <th></th>\n",
       "      <th></th>\n",
       "      <th></th>\n",
       "      <th></th>\n",
       "    </tr>\n",
       "  </thead>\n",
       "  <tbody>\n",
       "    <tr>\n",
       "      <td>trg</td>\n",
       "      <td>4863142</td>\n",
       "      <td>0.717897</td>\n",
       "      <td>-0.097662</td>\n",
       "      <td>0.449702</td>\n",
       "      <td>0.014505</td>\n",
       "      <td>0.000210</td>\n",
       "      <td>25.530121</td>\n",
       "      <td>1.685968</td>\n",
       "      <td>1.471353</td>\n",
       "      <td>1.412265</td>\n",
       "      <td>1.396373</td>\n",
       "      <td>1.398647</td>\n",
       "      <td>1.409768</td>\n",
       "      <td>1.421653</td>\n",
       "      <td>1.433330</td>\n",
       "      <td>1.443940</td>\n",
       "      <td>0.929993</td>\n",
       "      <td>0.811009</td>\n",
       "      <td>0.721406</td>\n",
       "    </tr>\n",
       "    <tr>\n",
       "      <td>val</td>\n",
       "      <td>2431768</td>\n",
       "      <td>0.994822</td>\n",
       "      <td>0.506319</td>\n",
       "      <td>1.036297</td>\n",
       "      <td>0.025729</td>\n",
       "      <td>0.000662</td>\n",
       "      <td>39.544456</td>\n",
       "      <td>2.697012</td>\n",
       "      <td>2.328868</td>\n",
       "      <td>2.231904</td>\n",
       "      <td>2.193594</td>\n",
       "      <td>2.172843</td>\n",
       "      <td>2.169856</td>\n",
       "      <td>2.175019</td>\n",
       "      <td>2.183868</td>\n",
       "      <td>2.192436</td>\n",
       "      <td>0.940834</td>\n",
       "      <td>0.830302</td>\n",
       "      <td>0.743140</td>\n",
       "    </tr>\n",
       "    <tr>\n",
       "      <td>tst</td>\n",
       "      <td>2431768</td>\n",
       "      <td>0.989608</td>\n",
       "      <td>0.587510</td>\n",
       "      <td>1.337120</td>\n",
       "      <td>0.033293</td>\n",
       "      <td>0.001108</td>\n",
       "      <td>51.350399</td>\n",
       "      <td>3.561671</td>\n",
       "      <td>3.165843</td>\n",
       "      <td>3.086512</td>\n",
       "      <td>3.070293</td>\n",
       "      <td>3.066246</td>\n",
       "      <td>3.064093</td>\n",
       "      <td>3.059992</td>\n",
       "      <td>3.048344</td>\n",
       "      <td>3.031586</td>\n",
       "      <td>0.942523</td>\n",
       "      <td>0.838544</td>\n",
       "      <td>0.753802</td>\n",
       "    </tr>\n",
       "    <tr>\n",
       "      <td>full</td>\n",
       "      <td>9726284</td>\n",
       "      <td>0.855056</td>\n",
       "      <td>0.263818</td>\n",
       "      <td>0.843986</td>\n",
       "      <td>0.023040</td>\n",
       "      <td>0.000531</td>\n",
       "      <td>65.902145</td>\n",
       "      <td>4.454963</td>\n",
       "      <td>3.893487</td>\n",
       "      <td>3.749759</td>\n",
       "      <td>3.705323</td>\n",
       "      <td>3.694172</td>\n",
       "      <td>3.702679</td>\n",
       "      <td>3.715330</td>\n",
       "      <td>3.726523</td>\n",
       "      <td>3.734108</td>\n",
       "      <td>0.938169</td>\n",
       "      <td>0.828743</td>\n",
       "      <td>0.743563</td>\n",
       "    </tr>\n",
       "  </tbody>\n",
       "</table>\n",
       "</div></font>"
      ],
      "text/plain": [
       "<IPython.core.display.HTML object>"
      ]
     },
     "metadata": {},
     "output_type": "display_data"
    },
    {
     "data": {
      "image/jpeg": "[encoded data removed]",
      "text/plain": [
       "<IPython.core.display.Image object>"
      ]
     },
     "metadata": {},
     "output_type": "display_data"
    }
   ],
   "source": [
    "# --- evaluate the untrained model ----\n",
    "%inline\n",
    "with mx.timer( 'predicting '):\n",
    "    Yh = model.to('cpu')( X_da.to_tensor( dtype=dtype, device='cpu' ) )\n",
    "    model.to( device )\n",
    "Yh_da = Yh.to_dataarray( da.loc[:,:,hps.responses] )\n",
    "\n",
    "fig = figure( figsize=(10, 10 ) )\n",
    "with mx.timer( 'regressing' ):    \n",
    "    reg = mx.Regression( autocorr=[1, 13, 26] )\n",
    "    rms = []\n",
    "    for i, (smp, mask) in pbar( enumerate( [('trg', hps.trg_mask), ('val', hps.val_mask), ('tst',hps.tst_mask), ('full', np.arange( len( Y_da ) ) ) ] ) ):\n",
    "        # cut out the stuff I added to the datasets for priming\n",
    "        rm = reg.regress( Yh_da[mask], da.loc[:,:,hps.responses][mask] )    \n",
    "        ax = subplot( 2,2, i+1 )\n",
    "        ax.plot( rm.pop('pnl').cumsum() )\n",
    "        ax.set_title( smp, fontsize=15 )\n",
    "        hr = rm.pop('hitRate')\n",
    "        rm['sample'] = smp\n",
    "        rms.append( rm )\n",
    "disp( 'Untrained model ', h= 1)\n",
    "disp( pd.DataFrame( rms ).set_index('sample') )\n",
    "disp( fig )"
   ]
  },
  {
   "cell_type": "code",
   "execution_count": 26,
   "metadata": {
    "code_folding": [],
    "run_control": {
     "marked": true
    },
    "scrolled": true
   },
   "outputs": [
    {
     "data": {
      "text/html": [
       "<font face=\"Courier New\">Created&nbsptensorboard&nbsplogger</font>"
      ],
      "text/plain": [
       "<IPython.core.display.HTML object>"
      ]
     },
     "metadata": {},
     "output_type": "display_data"
    },
    {
     "data": {
      "text/html": [
       "<font face=\"Courier New\">started&nbsptensorboard&nbspserver&nbspin&nbsp/home/fj/experiments/etf_technical/deep_learning/2020.04.30/none/tensorboard</font>"
      ],
      "text/plain": [
       "<IPython.core.display.HTML object>"
      ]
     },
     "metadata": {},
     "output_type": "display_data"
    },
    {
     "data": {
      "text/html": [
       "<h4><font face=\"Courier New\">learner&nbsphash&nbsp&nbsp;&nbsp;&nbsp;&nbspLearner_a17cbeeaa</font></h4>"
      ],
      "text/plain": [
       "<IPython.core.display.HTML object>"
      ]
     },
     "metadata": {},
     "output_type": "display_data"
    },
    {
     "data": {
      "text/html": [
       "<font face=\"Courier New\">HPSet(<br>&nbsp;&nbsp;&nbsp;&nbspbatch_size=512,<br>&nbsp;&nbsp;&nbsp;&nbspcalendar_features=['cos_timeofday',&nbsp'sin_timeofday',&nbsp'cos_dayofweek',&nbsp'sin_dayofweek',&nbsp'cos_dayofmonth',&nbsp'sin_dayofmonth',&nbsp'cos_weekofyear',&nbsp'sin_weekofyear'],<br>&nbsp;&nbsp;&nbsp;&nbspfeatures=['logrtn_lag_overnight',&nbsp'logrtn_lag_weekend',&nbsp'logrtn_lag_30min',&nbsp'logrtn_lag_1hr',&nbsp'logrtn_lag_1day',&nbsp'logrtn_lag_intraday',&nbsp'logrtn_lag_intraweek',&nbsp'logrtn_lag_intramonth',&nbsp'logrtn_lag_30min_26.ew_sd',&nbsp'logrtn_lag_1day_26.ew_sd',&nbsp'logrtn_lag_30min_130.ew_sd',&nbsp'logrtn_lag_1day_130.ew_sd',&nbsp'logrtn_lag_30min_390.ew_sd',&nbsp'logrtn_lag_1day_390.ew_sd',&nbsp'logrtn_lag_30min_26.ew_mean',&nbsp'logrtn_lag_1day_26.ew_mean',&nbsp'logrtn_lag_30min_130.ew_mean',&nbsp'logrtn_lag_1day_130.ew_mean',&nbsp'logrtn_lag_30min_390.ew_mean',&nbsp'logrtn_lag_1day_390.ew_mean',&nbsp'log_dollar_volume_30min',&nbsp'log_dollar_volume_intraday',&nbsp'log_dollar_volume_intraweek',&nbsp'log_dollar_volume_30min_26.ew_sd',&nbsp'log_dollar_volume_30min_130.ew_sd',&nbsp'log_dollar_volume_30min_390.ew_sd',&nbsp'log_dollar_volume_30min_26.ew_mean',&nbsp'log_dollar_volume_30min_130.ew_mean',&nbsp'log_dollar_volume_30min_390.ew_mean',&nbsp'log_open_30min',&nbsp'log_open_30min_26.ew_sd',&nbsp'log_open_30min_130.ew_sd',&nbsp'log_open_30min_390.ew_sd',&nbsp'log_open_30min_26.ew_mean',&nbsp'log_open_30min_130.ew_mean',&nbsp'log_open_30min_390.ew_mean'],<br>&nbsp;&nbsp;&nbsp;&nbsploss_hps=HPSet(<br>&nbsp;&nbsp;&nbsp;&nbsp&nbsp;&nbsp;&nbsp;&nbspcurvature=None,<br>&nbsp;&nbsp;&nbsp;&nbsp&nbsp;&nbsp;&nbsp;&nbspdirichlet=None,<br>&nbsp;&nbsp;&nbsp;&nbsp&nbsp;&nbsp;&nbsp;&nbsperror='mse',<br>&nbsp;&nbsp;&nbsp;&nbsp&nbsp;&nbsp;&nbsp;&nbspkapow=1e-08,<br>&nbsp;&nbsp;&nbsp;&nbsp&nbsp;&nbsp;&nbsp;&nbsplasso=None,<br>&nbsp;&nbsp;&nbsp;&nbsp&nbsp;&nbsp;&nbsp;&nbsplipschitz=0.1,<br>&nbsp;&nbsp;&nbsp;&nbsp&nbsp;&nbsp;&nbsp;&nbsplogdet=None,<br>&nbsp;&nbsp;&nbsp;&nbsp&nbsp;&nbsp;&nbsp;&nbspneumann=None,<br>&nbsp;&nbsp;&nbsp;&nbsp&nbsp;&nbsp;&nbsp;&nbsppatience=1,<br>&nbsp;&nbsp;&nbsp;&nbsp&nbsp;&nbsp;&nbsp;&nbsppriming=1248,<br>&nbsp;&nbsp;&nbsp;&nbsp&nbsp;&nbsp;&nbsp;&nbspridge=0.001,<br>&nbsp;&nbsp;&nbsp;&nbsp&nbsp;&nbsp;&nbsp;&nbspsmooth_lasso=None,<br>&nbsp;&nbsp;&nbsp;&nbsp&nbsp;&nbsp;&nbsp;&nbsptv=1e-06,<br>&nbsp;&nbsp;&nbsp;&nbsp),<br>&nbsp;&nbsp;&nbsp;&nbspresponses=['logrtn_lead_1day_equalized'],<br>&nbsp;&nbsp;&nbsp;&nbspstandardize_features=True,<br>&nbsp;&nbsp;&nbsp;&nbsptrg_dates=DatetimeIndex(['2005-01-03&nbsp09:30:00',&nbsp'2012-07-19&nbsp09:30:00'],&nbspdtype='datetime64[ns]',&nbspfreq=None),<br>&nbsp;&nbsp;&nbsp;&nbsptrg_mask=array([&nbsp&nbsp&nbsp&nbsp0,&nbsp&nbsp&nbsp&nbsp&nbsp1,&nbsp&nbsp&nbsp&nbsp&nbsp2,&nbsp...,&nbsp24683,&nbsp24684,&nbsp24685]),<br>&nbsp;&nbsp;&nbsp;&nbsptst_dates=DatetimeIndex(['2016-04-28&nbsp12:30:00',&nbsp'2020-02-05&nbsp15:30:00'],&nbspdtype='datetime64[ns]',&nbspfreq=None),<br>&nbsp;&nbsp;&nbsp;&nbsptst_mask=array([37028,&nbsp37029,&nbsp37030,&nbsp...,&nbsp49369,&nbsp49370,&nbsp49371]),<br>&nbsp;&nbsp;&nbsp;&nbspval_dates=DatetimeIndex(['2012-07-19&nbsp09:30:00',&nbsp'2016-04-28&nbsp12:30:00'],&nbspdtype='datetime64[ns]',&nbspfreq=None),<br>&nbsp;&nbsp;&nbsp;&nbspval_mask=array([24685,&nbsp24686,&nbsp24687,&nbsp...,&nbsp37026,&nbsp37027,&nbsp37028]),<br>&nbsp;&nbsp;&nbsp;&nbspwinlen=1760,<br>)</font>"
      ],
      "text/plain": [
       "<IPython.core.display.HTML object>"
      ]
     },
     "metadata": {},
     "output_type": "display_data"
    }
   ],
   "source": [
    "# -setup the learner ---\n",
    "############################\n",
    "mxtr = mxtr.reload()\n",
    "mx.Config.start()\n",
    "\n",
    "disp( mx.tensorboard.start( clear=True ) )\n",
    "disp( mx.tensorboard.start_server() )\n",
    "\n",
    "opt_1 = mxtr.FAdam( params=model.parameters(), lr=1e-3, betas=( 0.9, 0.99 ) ) #, tensorboard=False ) # mx.Resolve.halflife( 10)['decay'], mx.Resolve.halflife( 20 )['decay'] ) )\n",
    "warmup_scheduler = mxtr.callbacks.LRSchedule(\n",
    "    mxtr.WarmupAdamLR( optimizer=opt_1, min_lr=1e-4, max_lr=1e-3 ) # min_betas=(0.9,0.9), max_betas=(0.9, 0.99), T_max=500 )\n",
    ")\n",
    "\n",
    "opt_2 = mxtr.SGD( params=model.parameters(), lr=1e-5, momentum=0.9 )\n",
    "cycle_scheduler = mxtr.callbacks.LRSchedule(\n",
    "    mxtr.CycleAdamLR( optimizer=opt_2, min_lr=1e-5, max_lr=1e-3, T_max=200 ) #, min_betas=(0.6,0.8), max_betas=(0.9, 0.9)\n",
    ")\n",
    "\n",
    "learner = mxtr.Learner(\n",
    "    optimizers=opt_1,\n",
    "    trg_loss=model.trg_loss,\n",
    "    val_loss=model.val_loss,    \n",
    "    max_its=5000,\n",
    "    device=device,\n",
    "    callbacks=[\n",
    "        #mxtr.callbacks.LossLogger( patience=1 ),\n",
    "        mxtr.callbacks.ParameterLogger( named_params=model.named_parameters(), patience=10, grad_autocorr=False ),\n",
    "        #mxtr.callbacks.ParameterEma( halflife=10, patience=5 ),\n",
    "        mxtr.callbacks.ParameterMacd( hl_fast=10, hl_slow=100, patience=5, rewind_factor=None  ),\n",
    "        #mxtr.callbacks.ModelSnapshots( model=model, period=100, on_minimum=True, val_halflife=10 )\n",
    "        #mxtr.calllbacks.ClipGradients( dropout=0.5, signize=False, clip=None, quantile=None, winlen=100 ),\n",
    "        warmup_scheduler,\n",
    "        #mxtr.callbacks.SanityChecker( )\n",
    "    ]    \n",
    ")\n",
    "disp( 'learner hash ', learner.hash(), h=4)\n",
    "disp( hps )"
   ]
  },
  {
   "cell_type": "code",
   "execution_count": 27,
   "metadata": {
    "run_control": {
     "marked": true
    },
    "scrolled": true
   },
   "outputs": [
    {
     "data": {
      "application/vnd.jupyter.widget-view+json": {
       "model_id": "565d7a55604a404d8125ea80e2c0ef4a",
       "version_major": 2,
       "version_minor": 0
      },
      "text/plain": [
       "HBox(children=(IntProgress(value=1, bar_style='info', max=1), HTML(value='')))"
      ]
     },
     "metadata": {},
     "output_type": "display_data"
    },
    {
     "data": {
      "text/html": [
       "<font face=\"Courier New\" size=2 color=\"green\">20200504.101616|ParameterMacd|(callbacks.py::694)|INFO&nbsp&nbsp;&nbsp;&nbsp;&nbspEntered&nbspMACD&nbspinversion&nbspat&nbspit=&nbsp340&nbspval_loss_fast=&nbsp1.0704146100624607&nbspval_loss_slow&nbsp=&nbsp1.0684458253719538</font>"
      ],
      "text/plain": [
       "<IPython.core.display.HTML object>"
      ]
     },
     "metadata": {},
     "output_type": "display_data"
    },
    {
     "data": {
      "text/html": [
       "<font face=\"Courier New\" size=2 color=\"green\">20200504.101617|ParameterMacd|(callbacks.py::707)|INFO&nbsp&nbsp;&nbsp;&nbsp;&nbspExited&nbspMACD&nbspinversion&nbspat&nbspit=&nbsp345&nbspval_loss_fast=&nbsp1.06332184560883&nbspval_loss_slow&nbsp=&nbsp1.0676998163475075</font>"
      ],
      "text/plain": [
       "<IPython.core.display.HTML object>"
      ]
     },
     "metadata": {},
     "output_type": "display_data"
    },
    {
     "data": {
      "text/html": [
       "<font face=\"Courier New\" size=2 color=\"green\">20200504.101622|ParameterMacd|(callbacks.py::694)|INFO&nbsp&nbsp;&nbsp;&nbsp;&nbspEntered&nbspMACD&nbspinversion&nbspat&nbspit=&nbsp360&nbspval_loss_fast=&nbsp1.0684063371089656&nbspval_loss_slow&nbsp=&nbsp1.0679350442655935</font>"
      ],
      "text/plain": [
       "<IPython.core.display.HTML object>"
      ]
     },
     "metadata": {},
     "output_type": "display_data"
    },
    {
     "data": {
      "text/html": [
       "<font face=\"Courier New\" size=2 color=\"green\">20200504.101623|ParameterMacd|(callbacks.py::707)|INFO&nbsp&nbsp;&nbsp;&nbsp;&nbspExited&nbspMACD&nbspinversion&nbspat&nbspit=&nbsp365&nbspval_loss_fast=&nbsp1.0629401259548268&nbspval_loss_slow&nbsp=&nbsp1.0674323454883197</font>"
      ],
      "text/plain": [
       "<IPython.core.display.HTML object>"
      ]
     },
     "metadata": {},
     "output_type": "display_data"
    },
    {
     "data": {
      "text/html": [
       "<font face=\"Courier New\" size=2 color=\"green\">20200504.101627|ParameterMacd|(callbacks.py::694)|INFO&nbsp&nbsp;&nbsp;&nbsp;&nbspEntered&nbspMACD&nbspinversion&nbspat&nbspit=&nbsp380&nbspval_loss_fast=&nbsp1.0709390523819071&nbspval_loss_slow&nbsp=&nbsp1.0679069610110785</font>"
      ],
      "text/plain": [
       "<IPython.core.display.HTML object>"
      ]
     },
     "metadata": {},
     "output_type": "display_data"
    },
    {
     "data": {
      "text/html": [
       "<font face=\"Courier New\" size=2 color=\"green\">20200504.101629|ParameterMacd|(callbacks.py::707)|INFO&nbsp&nbsp;&nbsp;&nbsp;&nbspExited&nbspMACD&nbspinversion&nbspat&nbspit=&nbsp385&nbspval_loss_fast=&nbsp1.066183259325546&nbspval_loss_slow&nbsp=&nbsp1.0674991140692789</font>"
      ],
      "text/plain": [
       "<IPython.core.display.HTML object>"
      ]
     },
     "metadata": {},
     "output_type": "display_data"
    },
    {
     "data": {
      "text/html": [
       "<font face=\"Courier New\" size=2 color=\"green\">20200504.101633|ParameterMacd|(callbacks.py::694)|INFO&nbsp&nbsp;&nbsp;&nbsp;&nbspEntered&nbspMACD&nbspinversion&nbspat&nbspit=&nbsp400&nbspval_loss_fast=&nbsp1.0718627066026936&nbspval_loss_slow&nbsp=&nbsp1.0679614881090849</font>"
      ],
      "text/plain": [
       "<IPython.core.display.HTML object>"
      ]
     },
     "metadata": {},
     "output_type": "display_data"
    },
    {
     "data": {
      "text/html": [
       "<font face=\"Courier New\" size=2 color=\"green\">20200504.101634|ParameterMacd|(callbacks.py::707)|INFO&nbsp&nbsp;&nbsp;&nbsp;&nbspExited&nbspMACD&nbspinversion&nbspat&nbspit=&nbsp405&nbspval_loss_fast=&nbsp1.0628991602081022&nbspval_loss_slow&nbsp=&nbsp1.0669893029446158</font>"
      ],
      "text/plain": [
       "<IPython.core.display.HTML object>"
      ]
     },
     "metadata": {},
     "output_type": "display_data"
    },
    {
     "data": {
      "text/html": [
       "<font face=\"Courier New\" size=2 color=\"green\">20200504.101636|ParameterMacd|(callbacks.py::694)|INFO&nbsp&nbsp;&nbsp;&nbsp;&nbspEntered&nbspMACD&nbspinversion&nbspat&nbspit=&nbsp410&nbspval_loss_fast=&nbsp1.070782284883165&nbspval_loss_slow&nbsp=&nbsp1.0677289706802124</font>"
      ],
      "text/plain": [
       "<IPython.core.display.HTML object>"
      ]
     },
     "metadata": {},
     "output_type": "display_data"
    },
    {
     "data": {
      "text/html": [
       "<font face=\"Courier New\" size=2 color=\"green\">20200504.101643|ParameterMacd|(callbacks.py::707)|INFO&nbsp&nbsp;&nbsp;&nbsp;&nbspExited&nbspMACD&nbspinversion&nbspat&nbspit=&nbsp435&nbspval_loss_fast=&nbsp1.067735301709136&nbspval_loss_slow&nbsp=&nbsp1.06820365676948</font>"
      ],
      "text/plain": [
       "<IPython.core.display.HTML object>"
      ]
     },
     "metadata": {},
     "output_type": "display_data"
    },
    {
     "data": {
      "text/html": [
       "<font face=\"Courier New\" size=2 color=\"green\">20200504.101646|ParameterMacd|(callbacks.py::694)|INFO&nbsp&nbsp;&nbsp;&nbsp;&nbspEntered&nbspMACD&nbspinversion&nbspat&nbspit=&nbsp445&nbspval_loss_fast=&nbsp1.076059990195806&nbspval_loss_slow&nbsp=&nbsp1.0690981166045295</font>"
      ],
      "text/plain": [
       "<IPython.core.display.HTML object>"
      ]
     },
     "metadata": {},
     "output_type": "display_data"
    },
    {
     "data": {
      "text/html": [
       "<font face=\"Courier New\" size=2 color=\"green\">20200504.101652|ParameterMacd|(callbacks.py::707)|INFO&nbsp&nbsp;&nbsp;&nbsp;&nbspExited&nbspMACD&nbspinversion&nbspat&nbspit=&nbsp465&nbspval_loss_fast=&nbsp1.0676788683272875&nbspval_loss_slow&nbsp=&nbsp1.0690154381494663</font>"
      ],
      "text/plain": [
       "<IPython.core.display.HTML object>"
      ]
     },
     "metadata": {},
     "output_type": "display_data"
    },
    {
     "data": {
      "text/html": [
       "<font face=\"Courier New\" size=2 color=\"green\">20200504.101655|ParameterMacd|(callbacks.py::694)|INFO&nbsp&nbsp;&nbsp;&nbsp;&nbspEntered&nbspMACD&nbspinversion&nbspat&nbspit=&nbsp475&nbspval_loss_fast=&nbsp1.0706805758352045&nbspval_loss_slow&nbsp=&nbsp1.0693256322846658</font>"
      ],
      "text/plain": [
       "<IPython.core.display.HTML object>"
      ]
     },
     "metadata": {},
     "output_type": "display_data"
    },
    {
     "data": {
      "text/html": [
       "<font face=\"Courier New\" size=2 color=\"green\">20200504.101658|ParameterMacd|(callbacks.py::707)|INFO&nbsp&nbsp;&nbsp;&nbsp;&nbspExited&nbspMACD&nbspinversion&nbspat&nbspit=&nbsp485&nbspval_loss_fast=&nbsp1.0671903377832095&nbspval_loss_slow&nbsp=&nbsp1.06900756076852</font>"
      ],
      "text/plain": [
       "<IPython.core.display.HTML object>"
      ]
     },
     "metadata": {},
     "output_type": "display_data"
    },
    {
     "data": {
      "text/html": [
       "<font face=\"Courier New\" size=2 color=\"green\">20200504.101712|ParameterMacd|(callbacks.py::694)|INFO&nbsp&nbsp;&nbsp;&nbsp;&nbspEntered&nbspMACD&nbspinversion&nbspat&nbspit=&nbsp535&nbspval_loss_fast=&nbsp1.071855120527175&nbspval_loss_slow&nbsp=&nbsp1.0679164145697613</font>"
      ],
      "text/plain": [
       "<IPython.core.display.HTML object>"
      ]
     },
     "metadata": {},
     "output_type": "display_data"
    },
    {
     "data": {
      "text/html": [
       "<font face=\"Courier New\" size=2 color=\"green\">20200504.101715|ParameterMacd|(callbacks.py::707)|INFO&nbsp&nbsp;&nbsp;&nbsp;&nbspExited&nbspMACD&nbspinversion&nbspat&nbspit=&nbsp545&nbspval_loss_fast=&nbsp1.0655434959805927&nbspval_loss_slow&nbsp=&nbsp1.0676022394420321</font>"
      ],
      "text/plain": [
       "<IPython.core.display.HTML object>"
      ]
     },
     "metadata": {},
     "output_type": "display_data"
    },
    {
     "data": {
      "text/html": [
       "<font face=\"Courier New\" size=2 color=\"green\">20200504.101718|ParameterMacd|(callbacks.py::694)|INFO&nbsp&nbsp;&nbsp;&nbsp;&nbspEntered&nbspMACD&nbspinversion&nbspat&nbspit=&nbsp555&nbspval_loss_fast=&nbsp1.0677741625168922&nbspval_loss_slow&nbsp=&nbsp1.0676644114691813</font>"
      ],
      "text/plain": [
       "<IPython.core.display.HTML object>"
      ]
     },
     "metadata": {},
     "output_type": "display_data"
    },
    {
     "data": {
      "text/html": [
       "<font face=\"Courier New\" size=2 color=\"green\">20200504.101719|ParameterMacd|(callbacks.py::707)|INFO&nbsp&nbsp;&nbsp;&nbsp;&nbspExited&nbspMACD&nbspinversion&nbspat&nbspit=&nbsp560&nbspval_loss_fast=&nbsp1.0664835240640351&nbspval_loss_slow&nbsp=&nbsp1.0675237636885966</font>"
      ],
      "text/plain": [
       "<IPython.core.display.HTML object>"
      ]
     },
     "metadata": {},
     "output_type": "display_data"
    },
    {
     "data": {
      "text/html": [
       "<font face=\"Courier New\" size=2 color=\"green\">20200504.101721|ParameterMacd|(callbacks.py::694)|INFO&nbsp&nbsp;&nbsp;&nbsp;&nbspEntered&nbspMACD&nbspinversion&nbspat&nbspit=&nbsp565&nbspval_loss_fast=&nbsp1.0715248063380989&nbspval_loss_slow&nbsp=&nbsp1.06807209359765</font>"
      ],
      "text/plain": [
       "<IPython.core.display.HTML object>"
      ]
     },
     "metadata": {},
     "output_type": "display_data"
    },
    {
     "data": {
      "text/html": [
       "<font face=\"Courier New\" size=2 color=\"green\">20200504.101734|ParameterMacd|(callbacks.py::707)|INFO&nbsp&nbsp;&nbsp;&nbsp;&nbspExited&nbspMACD&nbspinversion&nbspat&nbspit=&nbsp610&nbspval_loss_fast=&nbsp1.0681011661028117&nbspval_loss_slow&nbsp=&nbsp1.0686170295772657</font>"
      ],
      "text/plain": [
       "<IPython.core.display.HTML object>"
      ]
     },
     "metadata": {},
     "output_type": "display_data"
    },
    {
     "data": {
      "text/html": [
       "<font face=\"Courier New\" size=2 color=\"green\">20200504.101735|ParameterMacd|(callbacks.py::694)|INFO&nbsp&nbsp;&nbsp;&nbsp;&nbspEntered&nbspMACD&nbspinversion&nbspat&nbspit=&nbsp615&nbspval_loss_fast=&nbsp1.0718636214809676&nbspval_loss_slow&nbsp=&nbsp1.0690106909429795</font>"
      ],
      "text/plain": [
       "<IPython.core.display.HTML object>"
      ]
     },
     "metadata": {},
     "output_type": "display_data"
    },
    {
     "data": {
      "text/html": [
       "<font face=\"Courier New\" size=2 color=\"green\">20200504.101738|ParameterMacd|(callbacks.py::707)|INFO&nbsp&nbsp;&nbsp;&nbsp;&nbspExited&nbspMACD&nbspinversion&nbspat&nbspit=&nbsp625&nbspval_loss_fast=&nbsp1.0632152372149113&nbspval_loss_slow&nbsp=&nbsp1.0681534260445535</font>"
      ],
      "text/plain": [
       "<IPython.core.display.HTML object>"
      ]
     },
     "metadata": {},
     "output_type": "display_data"
    },
    {
     "data": {
      "text/html": [
       "<font face=\"Courier New\" size=2 color=\"green\">20200504.101749|ParameterMacd|(callbacks.py::694)|INFO&nbsp&nbsp;&nbsp;&nbsp;&nbspEntered&nbspMACD&nbspinversion&nbspat&nbspit=&nbsp665&nbspval_loss_fast=&nbsp1.068727925528794&nbspval_loss_slow&nbsp=&nbsp1.068134965112649</font>"
      ],
      "text/plain": [
       "<IPython.core.display.HTML object>"
      ]
     },
     "metadata": {},
     "output_type": "display_data"
    },
    {
     "data": {
      "text/html": [
       "<font face=\"Courier New\" size=2 color=\"green\">20200504.101751|ParameterMacd|(callbacks.py::707)|INFO&nbsp&nbsp;&nbsp;&nbsp;&nbspExited&nbspMACD&nbspinversion&nbspat&nbspit=&nbsp670&nbspval_loss_fast=&nbsp1.0630286730130913&nbspval_loss_slow&nbsp=&nbsp1.0674951026981012</font>"
      ],
      "text/plain": [
       "<IPython.core.display.HTML object>"
      ]
     },
     "metadata": {},
     "output_type": "display_data"
    },
    {
     "data": {
      "text/html": [
       "<font face=\"Courier New\" size=2 color=\"green\">20200504.101755|ParameterMacd|(callbacks.py::694)|INFO&nbsp&nbsp;&nbsp;&nbsp;&nbspEntered&nbspMACD&nbspinversion&nbspat&nbspit=&nbsp685&nbspval_loss_fast=&nbsp1.0746895167383266&nbspval_loss_slow&nbsp=&nbsp1.068378290101617</font>"
      ],
      "text/plain": [
       "<IPython.core.display.HTML object>"
      ]
     },
     "metadata": {},
     "output_type": "display_data"
    },
    {
     "data": {
      "text/html": [
       "<font face=\"Courier New\" size=2 color=\"green\">20200504.101827|ParameterMacd|(callbacks.py::707)|INFO&nbsp&nbsp;&nbsp;&nbsp;&nbspExited&nbspMACD&nbspinversion&nbspat&nbspit=&nbsp795&nbspval_loss_fast=&nbsp1.0713555399502979&nbspval_loss_slow&nbsp=&nbsp1.0724642362215486</font>"
      ],
      "text/plain": [
       "<IPython.core.display.HTML object>"
      ]
     },
     "metadata": {},
     "output_type": "display_data"
    },
    {
     "data": {
      "text/html": [
       "<font face=\"Courier New\" size=2 color=\"green\">20200504.101828|ParameterMacd|(callbacks.py::694)|INFO&nbsp&nbsp;&nbsp;&nbsp;&nbspEntered&nbspMACD&nbspinversion&nbspat&nbspit=&nbsp800&nbspval_loss_fast=&nbsp1.0768173545030024&nbspval_loss_slow&nbsp=&nbsp1.0730254623595292</font>"
      ],
      "text/plain": [
       "<IPython.core.display.HTML object>"
      ]
     },
     "metadata": {},
     "output_type": "display_data"
    },
    {
     "data": {
      "text/html": [
       "<font face=\"Courier New\" size=2 color=\"green\">20200504.101831|ParameterMacd|(callbacks.py::707)|INFO&nbsp&nbsp;&nbsp;&nbsp;&nbspExited&nbspMACD&nbspinversion&nbspat&nbspit=&nbsp810&nbspval_loss_fast=&nbsp1.0655627704663222&nbspval_loss_slow&nbsp=&nbsp1.0719361320042184</font>"
      ],
      "text/plain": [
       "<IPython.core.display.HTML object>"
      ]
     },
     "metadata": {},
     "output_type": "display_data"
    },
    {
     "data": {
      "text/html": [
       "<font face=\"Courier New\" size=2 color=\"green\">20200504.101832|ParameterMacd|(callbacks.py::694)|INFO&nbsp&nbsp;&nbsp;&nbsp;&nbspEntered&nbspMACD&nbspinversion&nbspat&nbspit=&nbsp815&nbspval_loss_fast=&nbsp1.0736938037764132&nbspval_loss_slow&nbsp=&nbsp1.0725904610946966</font>"
      ],
      "text/plain": [
       "<IPython.core.display.HTML object>"
      ]
     },
     "metadata": {},
     "output_type": "display_data"
    },
    {
     "data": {
      "text/html": [
       "<font face=\"Courier New\" size=2 color=\"green\">20200504.101845|ParameterMacd|(callbacks.py::707)|INFO&nbsp&nbsp;&nbsp;&nbsp;&nbspExited&nbspMACD&nbspinversion&nbspat&nbspit=&nbsp860&nbspval_loss_fast=&nbsp1.0726641573120144&nbspval_loss_slow&nbsp=&nbsp1.0742381749271714</font>"
      ],
      "text/plain": [
       "<IPython.core.display.HTML object>"
      ]
     },
     "metadata": {},
     "output_type": "display_data"
    },
    {
     "data": {
      "text/html": [
       "<font face=\"Courier New\" size=2 color=\"green\">20200504.101847|ParameterMacd|(callbacks.py::694)|INFO&nbsp&nbsp;&nbsp;&nbsp;&nbspEntered&nbspMACD&nbspinversion&nbspat&nbspit=&nbsp865&nbspval_loss_fast=&nbsp1.083393506697185&nbspval_loss_slow&nbsp=&nbsp1.0753485127093545</font>"
      ],
      "text/plain": [
       "<IPython.core.display.HTML object>"
      ]
     },
     "metadata": {},
     "output_type": "display_data"
    },
    {
     "data": {
      "text/html": [
       "<font face=\"Courier New\" size=2 color=\"green\">20200504.101901|ParameterMacd|(callbacks.py::707)|INFO&nbsp&nbsp;&nbsp;&nbsp;&nbspExited&nbspMACD&nbspinversion&nbspat&nbspit=&nbsp915&nbspval_loss_fast=&nbsp1.0700404019064234&nbspval_loss_slow&nbsp=&nbsp1.075202535881459</font>"
      ],
      "text/plain": [
       "<IPython.core.display.HTML object>"
      ]
     },
     "metadata": {},
     "output_type": "display_data"
    },
    {
     "data": {
      "text/html": [
       "<font face=\"Courier New\" size=2 color=\"green\">20200504.101905|ParameterMacd|(callbacks.py::694)|INFO&nbsp&nbsp;&nbsp;&nbsp;&nbspEntered&nbspMACD&nbspinversion&nbspat&nbspit=&nbsp930&nbspval_loss_fast=&nbsp1.0786196567802078&nbspval_loss_slow&nbsp=&nbsp1.0759304444951405</font>"
      ],
      "text/plain": [
       "<IPython.core.display.HTML object>"
      ]
     },
     "metadata": {},
     "output_type": "display_data"
    },
    {
     "data": {
      "text/html": [
       "<font face=\"Courier New\" size=2 color=\"green\">20200504.101914|ParameterMacd|(callbacks.py::707)|INFO&nbsp&nbsp;&nbsp;&nbsp;&nbspExited&nbspMACD&nbspinversion&nbspat&nbspit=&nbsp960&nbspval_loss_fast=&nbsp1.0708903180188456&nbspval_loss_slow&nbsp=&nbsp1.0760100105840678</font>"
      ],
      "text/plain": [
       "<IPython.core.display.HTML object>"
      ]
     },
     "metadata": {},
     "output_type": "display_data"
    },
    {
     "data": {
      "text/html": [
       "<font face=\"Courier New\" size=2 color=\"green\">20200504.101917|ParameterMacd|(callbacks.py::694)|INFO&nbsp&nbsp;&nbsp;&nbsp;&nbspEntered&nbspMACD&nbspinversion&nbspat&nbspit=&nbsp970&nbspval_loss_fast=&nbsp1.078386272313762&nbspval_loss_slow&nbsp=&nbsp1.0764259384591024</font>"
      ],
      "text/plain": [
       "<IPython.core.display.HTML object>"
      ]
     },
     "metadata": {},
     "output_type": "display_data"
    },
    {
     "data": {
      "text/html": [
       "<font face=\"Courier New\" size=2 color=\"green\">20200504.101918|ParameterMacd|(callbacks.py::707)|INFO&nbsp&nbsp;&nbsp;&nbsp;&nbspExited&nbspMACD&nbspinversion&nbspat&nbspit=&nbsp975&nbspval_loss_fast=&nbsp1.0759341933146815&nbspval_loss_slow&nbsp=&nbsp1.0762030013335033</font>"
      ],
      "text/plain": [
       "<IPython.core.display.HTML object>"
      ]
     },
     "metadata": {},
     "output_type": "display_data"
    },
    {
     "data": {
      "text/html": [
       "<font face=\"Courier New\" size=2 color=\"green\">20200504.101920|ParameterMacd|(callbacks.py::694)|INFO&nbsp&nbsp;&nbsp;&nbsp;&nbspEntered&nbspMACD&nbspinversion&nbspat&nbspit=&nbsp980&nbspval_loss_fast=&nbsp1.081900506171899&nbspval_loss_slow&nbsp=&nbsp1.0768862865270576</font>"
      ],
      "text/plain": [
       "<IPython.core.display.HTML object>"
      ]
     },
     "metadata": {},
     "output_type": "display_data"
    },
    {
     "data": {
      "text/html": [
       "<font face=\"Courier New\" size=2 color=\"green\">20200504.102000|ParameterMacd|(callbacks.py::707)|INFO&nbsp&nbsp;&nbsp;&nbsp;&nbspExited&nbspMACD&nbspinversion&nbspat&nbspit=&nbsp1120&nbspval_loss_fast=&nbsp1.0775501626915585&nbspval_loss_slow&nbsp=&nbsp1.0822410868272232</font>"
      ],
      "text/plain": [
       "<IPython.core.display.HTML object>"
      ]
     },
     "metadata": {},
     "output_type": "display_data"
    },
    {
     "data": {
      "text/html": [
       "<font face=\"Courier New\" size=2 color=\"green\">20200504.102001|ParameterMacd|(callbacks.py::694)|INFO&nbsp&nbsp;&nbsp;&nbsp;&nbspEntered&nbspMACD&nbspinversion&nbspat&nbspit=&nbsp1125&nbspval_loss_fast=&nbsp1.0850360541520603&nbspval_loss_slow&nbsp=&nbsp1.0829870364227774</font>"
      ],
      "text/plain": [
       "<IPython.core.display.HTML object>"
      ]
     },
     "metadata": {},
     "output_type": "display_data"
    },
    {
     "data": {
      "text/html": [
       "<font face=\"Courier New\" size=2 color=\"green\">20200504.102003|ParameterMacd|(callbacks.py::707)|INFO&nbsp&nbsp;&nbsp;&nbsp;&nbspExited&nbspMACD&nbspinversion&nbspat&nbspit=&nbsp1130&nbspval_loss_fast=&nbsp1.0744172723498364&nbspval_loss_slow&nbsp=&nbsp1.0818124354990892</font>"
      ],
      "text/plain": [
       "<IPython.core.display.HTML object>"
      ]
     },
     "metadata": {},
     "output_type": "display_data"
    },
    {
     "data": {
      "text/html": [
       "<font face=\"Courier New\" size=2 color=\"green\">20200504.102006|ParameterMacd|(callbacks.py::694)|INFO&nbsp&nbsp;&nbsp;&nbsp;&nbspEntered&nbspMACD&nbspinversion&nbspat&nbspit=&nbsp1140&nbspval_loss_fast=&nbsp1.083616181738243&nbspval_loss_slow&nbsp=&nbsp1.0825174831966702</font>"
      ],
      "text/plain": [
       "<IPython.core.display.HTML object>"
      ]
     },
     "metadata": {},
     "output_type": "display_data"
    },
    {
     "data": {
      "text/html": [
       "<font face=\"Courier New\" size=2 color=\"green\">20200504.102009|ParameterMacd|(callbacks.py::707)|INFO&nbsp&nbsp;&nbsp;&nbsp;&nbspExited&nbspMACD&nbspinversion&nbspat&nbspit=&nbsp1150&nbspval_loss_fast=&nbsp1.0815510281757073&nbspval_loss_slow&nbsp=&nbsp1.0824585617650788</font>"
      ],
      "text/plain": [
       "<IPython.core.display.HTML object>"
      ]
     },
     "metadata": {},
     "output_type": "display_data"
    },
    {
     "data": {
      "text/html": [
       "<font face=\"Courier New\" size=2 color=\"green\">20200504.102010|ParameterMacd|(callbacks.py::694)|INFO&nbsp&nbsp;&nbsp;&nbsp;&nbspEntered&nbspMACD&nbspinversion&nbspat&nbspit=&nbsp1155&nbspval_loss_fast=&nbsp1.0868743782205288&nbspval_loss_slow&nbsp=&nbsp1.083050510742165</font>"
      ],
      "text/plain": [
       "<IPython.core.display.HTML object>"
      ]
     },
     "metadata": {},
     "output_type": "display_data"
    },
    {
     "data": {
      "text/html": [
       "<font face=\"Courier New\" size=2 color=\"green\">20200504.102120|ParameterMacd|(callbacks.py::707)|INFO&nbsp&nbsp;&nbsp;&nbsp;&nbspExited&nbspMACD&nbspinversion&nbspat&nbspit=&nbsp1400&nbspval_loss_fast=&nbsp1.1050248316820008&nbspval_loss_slow&nbsp=&nbsp1.1058122458700732</font>"
      ],
      "text/plain": [
       "<IPython.core.display.HTML object>"
      ]
     },
     "metadata": {},
     "output_type": "display_data"
    },
    {
     "data": {
      "text/html": [
       "<font face=\"Courier New\" size=2 color=\"green\">20200504.102122|ParameterMacd|(callbacks.py::694)|INFO&nbsp&nbsp;&nbsp;&nbsp;&nbspEntered&nbspMACD&nbspinversion&nbspat&nbspit=&nbsp1405&nbspval_loss_fast=&nbsp1.1146762160092984&nbspval_loss_slow&nbsp=&nbsp1.1068668731434113</font>"
      ],
      "text/plain": [
       "<IPython.core.display.HTML object>"
      ]
     },
     "metadata": {},
     "output_type": "display_data"
    },
    {
     "data": {
      "text/html": [
       "<font face=\"Courier New\" size=2 color=\"green\">20200504.102151|ParameterMacd|(callbacks.py::707)|INFO&nbsp&nbsp;&nbsp;&nbsp;&nbspExited&nbspMACD&nbspinversion&nbspat&nbspit=&nbsp1505&nbspval_loss_fast=&nbsp1.1132927850321808&nbspval_loss_slow&nbsp=&nbsp1.1143422078190186</font>"
      ],
      "text/plain": [
       "<IPython.core.display.HTML object>"
      ]
     },
     "metadata": {},
     "output_type": "display_data"
    },
    {
     "data": {
      "text/html": [
       "<font face=\"Courier New\" size=2 color=\"green\">20200504.102152|ParameterMacd|(callbacks.py::694)|INFO&nbsp&nbsp;&nbsp;&nbsp;&nbspEntered&nbspMACD&nbspinversion&nbspat&nbspit=&nbsp1510&nbspval_loss_fast=&nbsp1.1194592523336595&nbspval_loss_slow&nbsp=&nbsp1.1150451301957762</font>"
      ],
      "text/plain": [
       "<IPython.core.display.HTML object>"
      ]
     },
     "metadata": {},
     "output_type": "display_data"
    },
    {
     "data": {
      "text/html": [
       "<font face=\"Courier New\" size=2 color=\"green\">20200504.102234|ParameterMacd|(callbacks.py::707)|INFO&nbsp&nbsp;&nbsp;&nbsp;&nbspExited&nbspMACD&nbspinversion&nbspat&nbspit=&nbsp1655&nbspval_loss_fast=&nbsp1.1268013029916255&nbspval_loss_slow&nbsp=&nbsp1.1268985457333807</font>"
      ],
      "text/plain": [
       "<IPython.core.display.HTML object>"
      ]
     },
     "metadata": {},
     "output_type": "display_data"
    },
    {
     "data": {
      "text/html": [
       "<font face=\"Courier New\" size=2 color=\"green\">20200504.102240|ParameterMacd|(callbacks.py::694)|INFO&nbsp&nbsp;&nbsp;&nbsp;&nbspEntered&nbspMACD&nbspinversion&nbspat&nbspit=&nbsp1675&nbspval_loss_fast=&nbsp1.1271193910122015&nbspval_loss_slow&nbsp=&nbsp1.126602866718882</font>"
      ],
      "text/plain": [
       "<IPython.core.display.HTML object>"
      ]
     },
     "metadata": {},
     "output_type": "display_data"
    },
    {
     "data": {
      "text/html": [
       "<font face=\"Courier New\" size=2 color=\"green\">20200504.102246|ParameterMacd|(callbacks.py::707)|INFO&nbsp&nbsp;&nbsp;&nbsp;&nbspExited&nbspMACD&nbspinversion&nbspat&nbspit=&nbsp1695&nbspval_loss_fast=&nbsp1.125972329177954&nbspval_loss_slow&nbsp=&nbsp1.1268192991931372</font>"
      ],
      "text/plain": [
       "<IPython.core.display.HTML object>"
      ]
     },
     "metadata": {},
     "output_type": "display_data"
    },
    {
     "data": {
      "text/html": [
       "<font face=\"Courier New\" size=2 color=\"green\">20200504.102247|ParameterMacd|(callbacks.py::694)|INFO&nbsp&nbsp;&nbsp;&nbsp;&nbspEntered&nbspMACD&nbspinversion&nbspat&nbspit=&nbsp1700&nbspval_loss_fast=&nbsp1.1290110626646597&nbspval_loss_slow&nbsp=&nbsp1.1271321319181178</font>"
      ],
      "text/plain": [
       "<IPython.core.display.HTML object>"
      ]
     },
     "metadata": {},
     "output_type": "display_data"
    },
    {
     "data": {
      "text/html": [
       "<font face=\"Courier New\" size=2 color=\"green\">20200504.102326|ParameterMacd|(callbacks.py::707)|INFO&nbsp&nbsp;&nbsp;&nbsp;&nbspExited&nbspMACD&nbspinversion&nbspat&nbspit=&nbsp1835&nbspval_loss_fast=&nbsp1.1327517509855927&nbspval_loss_slow&nbsp=&nbsp1.1366511738027487</font>"
      ],
      "text/plain": [
       "<IPython.core.display.HTML object>"
      ]
     },
     "metadata": {},
     "output_type": "display_data"
    },
    {
     "data": {
      "text/html": [
       "<font face=\"Courier New\" size=2 color=\"green\">20200504.102327|ParameterMacd|(callbacks.py::694)|INFO&nbsp&nbsp;&nbsp;&nbsp;&nbspEntered&nbspMACD&nbspinversion&nbspat&nbspit=&nbsp1840&nbspval_loss_fast=&nbsp1.143607032717958&nbspval_loss_slow&nbsp=&nbsp1.1377902661213066</font>"
      ],
      "text/plain": [
       "<IPython.core.display.HTML object>"
      ]
     },
     "metadata": {},
     "output_type": "display_data"
    },
    {
     "data": {
      "text/html": [
       "<font face=\"Courier New\" size=2 color=\"green\">20200504.102355|ParameterMacd|(callbacks.py::707)|INFO&nbsp&nbsp;&nbsp;&nbsp;&nbspExited&nbspMACD&nbspinversion&nbspat&nbspit=&nbsp1935&nbspval_loss_fast=&nbsp1.1432393111425556&nbspval_loss_slow&nbsp=&nbsp1.1439967206269506</font>"
      ],
      "text/plain": [
       "<IPython.core.display.HTML object>"
      ]
     },
     "metadata": {},
     "output_type": "display_data"
    },
    {
     "data": {
      "text/html": [
       "<font face=\"Courier New\" size=2 color=\"green\">20200504.102356|ParameterMacd|(callbacks.py::694)|INFO&nbsp&nbsp;&nbsp;&nbsp;&nbspEntered&nbspMACD&nbspinversion&nbspat&nbspit=&nbsp1940&nbspval_loss_fast=&nbsp1.1511005720271692&nbspval_loss_slow&nbsp=&nbsp1.1449391813895295</font>"
      ],
      "text/plain": [
       "<IPython.core.display.HTML object>"
      ]
     },
     "metadata": {},
     "output_type": "display_data"
    },
    {
     "data": {
      "text/html": [
       "<font face=\"Courier New\" size=2 color=\"green\">20200504.102424|ParameterMacd|(callbacks.py::707)|INFO&nbsp&nbsp;&nbsp;&nbsp;&nbspExited&nbspMACD&nbspinversion&nbspat&nbspit=&nbsp2035&nbspval_loss_fast=&nbsp1.150610560342169&nbspval_loss_slow&nbsp=&nbsp1.1524999241822897</font>"
      ],
      "text/plain": [
       "<IPython.core.display.HTML object>"
      ]
     },
     "metadata": {},
     "output_type": "display_data"
    },
    {
     "data": {
      "text/html": [
       "<font face=\"Courier New\" size=2 color=\"green\">20200504.102425|ParameterMacd|(callbacks.py::694)|INFO&nbsp&nbsp;&nbsp;&nbsp;&nbspEntered&nbspMACD&nbspinversion&nbspat&nbspit=&nbsp2040&nbspval_loss_fast=&nbsp1.1527508239613984&nbspval_loss_slow&nbsp=&nbsp1.1527324608645304</font>"
      ],
      "text/plain": [
       "<IPython.core.display.HTML object>"
      ]
     },
     "metadata": {},
     "output_type": "display_data"
    },
    {
     "data": {
      "text/html": [
       "<font face=\"Courier New\" size=2 color=\"green\">20200504.102431|ParameterMacd|(callbacks.py::707)|INFO&nbsp&nbsp;&nbsp;&nbsp;&nbspExited&nbspMACD&nbspinversion&nbspat&nbspit=&nbsp2060&nbspval_loss_fast=&nbsp1.1496592354473725&nbspval_loss_slow&nbsp=&nbsp1.1525319596276002</font>"
      ],
      "text/plain": [
       "<IPython.core.display.HTML object>"
      ]
     },
     "metadata": {},
     "output_type": "display_data"
    },
    {
     "data": {
      "text/html": [
       "<font face=\"Courier New\" size=2 color=\"green\">20200504.102432|ParameterMacd|(callbacks.py::694)|INFO&nbsp&nbsp;&nbsp;&nbsp;&nbspEntered&nbspMACD&nbspinversion&nbspat&nbspit=&nbsp2065&nbspval_loss_fast=&nbsp1.1531254258943244&nbspval_loss_slow&nbsp=&nbsp1.1527873435301033</font>"
      ],
      "text/plain": [
       "<IPython.core.display.HTML object>"
      ]
     },
     "metadata": {},
     "output_type": "display_data"
    },
    {
     "data": {
      "text/html": [
       "<font face=\"Courier New\" size=2 color=\"green\">20200504.102434|ParameterMacd|(callbacks.py::707)|INFO&nbsp&nbsp;&nbsp;&nbsp;&nbspExited&nbspMACD&nbspinversion&nbspat&nbspit=&nbsp2070&nbspval_loss_fast=&nbsp1.1510087025785725&nbspval_loss_slow&nbsp=&nbsp1.1525822170288886</font>"
      ],
      "text/plain": [
       "<IPython.core.display.HTML object>"
      ]
     },
     "metadata": {},
     "output_type": "display_data"
    },
    {
     "data": {
      "text/html": [
       "<font face=\"Courier New\" size=2 color=\"green\">20200504.102442|ParameterMacd|(callbacks.py::694)|INFO&nbsp&nbsp;&nbsp;&nbsp;&nbspEntered&nbspMACD&nbspinversion&nbspat&nbspit=&nbsp2100&nbspval_loss_fast=&nbsp1.1595036240186505&nbspval_loss_slow&nbsp=&nbsp1.1524628856462957</font>"
      ],
      "text/plain": [
       "<IPython.core.display.HTML object>"
      ]
     },
     "metadata": {},
     "output_type": "display_data"
    },
    {
     "data": {
      "text/html": [
       "<font face=\"Courier New\" size=2 color=\"green\">20200504.102514|ParameterMacd|(callbacks.py::707)|INFO&nbsp&nbsp;&nbsp;&nbsp;&nbspExited&nbspMACD&nbspinversion&nbspat&nbspit=&nbsp2210&nbspval_loss_fast=&nbsp1.1556625663394278&nbspval_loss_slow&nbsp=&nbsp1.1575801871291658</font>"
      ],
      "text/plain": [
       "<IPython.core.display.HTML object>"
      ]
     },
     "metadata": {},
     "output_type": "display_data"
    },
    {
     "data": {
      "text/html": [
       "<font face=\"Courier New\" size=2 color=\"green\">20200504.102516|ParameterMacd|(callbacks.py::694)|INFO&nbsp&nbsp;&nbsp;&nbsp;&nbspEntered&nbspMACD&nbspinversion&nbspat&nbspit=&nbsp2215&nbspval_loss_fast=&nbsp1.1592289365124238&nbspval_loss_slow&nbsp=&nbsp1.1578779152388963</font>"
      ],
      "text/plain": [
       "<IPython.core.display.HTML object>"
      ]
     },
     "metadata": {},
     "output_type": "display_data"
    },
    {
     "data": {
      "text/html": [
       "<font face=\"Courier New\" size=2 color=\"green\">20200504.102519|ParameterMacd|(callbacks.py::707)|INFO&nbsp&nbsp;&nbsp;&nbsp;&nbspExited&nbspMACD&nbspinversion&nbspat&nbspit=&nbsp2225&nbspval_loss_fast=&nbsp1.1560652095430826&nbspval_loss_slow&nbsp=&nbsp1.1575694502358707</font>"
      ],
      "text/plain": [
       "<IPython.core.display.HTML object>"
      ]
     },
     "metadata": {},
     "output_type": "display_data"
    },
    {
     "data": {
      "text/html": [
       "<font face=\"Courier New\" size=2 color=\"green\">20200504.102520|ParameterMacd|(callbacks.py::694)|INFO&nbsp&nbsp;&nbsp;&nbsp;&nbspEntered&nbspMACD&nbspinversion&nbspat&nbspit=&nbsp2230&nbspval_loss_fast=&nbsp1.1610365280770396&nbspval_loss_slow&nbsp=&nbsp1.1580284608941278</font>"
      ],
      "text/plain": [
       "<IPython.core.display.HTML object>"
      ]
     },
     "metadata": {},
     "output_type": "display_data"
    },
    {
     "data": {
      "text/html": [
       "<font face=\"Courier New\" size=2 color=\"green\">20200504.102523|ParameterMacd|(callbacks.py::707)|INFO&nbsp&nbsp;&nbsp;&nbsp;&nbspExited&nbspMACD&nbspinversion&nbspat&nbspit=&nbsp2240&nbspval_loss_fast=&nbsp1.1568381480294627&nbspval_loss_slow&nbsp=&nbsp1.1578864045722934</font>"
      ],
      "text/plain": [
       "<IPython.core.display.HTML object>"
      ]
     },
     "metadata": {},
     "output_type": "display_data"
    },
    {
     "data": {
      "text/html": [
       "<font face=\"Courier New\" size=2 color=\"green\">20200504.102529|ParameterMacd|(callbacks.py::694)|INFO&nbsp&nbsp;&nbsp;&nbsp;&nbspEntered&nbspMACD&nbspinversion&nbspat&nbspit=&nbsp2260&nbspval_loss_fast=&nbsp1.1625972535900388&nbspval_loss_slow&nbsp=&nbsp1.1579116119794448</font>"
      ],
      "text/plain": [
       "<IPython.core.display.HTML object>"
      ]
     },
     "metadata": {},
     "output_type": "display_data"
    },
    {
     "data": {
      "text/html": [
       "<font face=\"Courier New\" size=2 color=\"green\">20200504.102535|ParameterMacd|(callbacks.py::707)|INFO&nbsp&nbsp;&nbsp;&nbsp;&nbspExited&nbspMACD&nbspinversion&nbspat&nbspit=&nbsp2280&nbspval_loss_fast=&nbsp1.1575732553723&nbspval_loss_slow&nbsp=&nbsp1.157652859563766</font>"
      ],
      "text/plain": [
       "<IPython.core.display.HTML object>"
      ]
     },
     "metadata": {},
     "output_type": "display_data"
    },
    {
     "data": {
      "text/html": [
       "<font face=\"Courier New\" size=2 color=\"green\">20200504.102536|ParameterMacd|(callbacks.py::694)|INFO&nbsp&nbsp;&nbsp;&nbsp;&nbspEntered&nbspMACD&nbspinversion&nbspat&nbspit=&nbsp2285&nbspval_loss_fast=&nbsp1.1576960670896148&nbspval_loss_slow&nbsp=&nbsp1.1576916098953007</font>"
      ],
      "text/plain": [
       "<IPython.core.display.HTML object>"
      ]
     },
     "metadata": {},
     "output_type": "display_data"
    },
    {
     "data": {
      "text/html": [
       "<font face=\"Courier New\" size=2 color=\"green\">20200504.102538|ParameterMacd|(callbacks.py::707)|INFO&nbsp&nbsp;&nbsp;&nbsp;&nbspExited&nbspMACD&nbspinversion&nbspat&nbspit=&nbsp2290&nbspval_loss_fast=&nbsp1.1525475299307857&nbspval_loss_slow&nbsp=&nbsp1.1571217963390996</font>"
      ],
      "text/plain": [
       "<IPython.core.display.HTML object>"
      ]
     },
     "metadata": {},
     "output_type": "display_data"
    },
    {
     "data": {
      "text/html": [
       "<font face=\"Courier New\" size=2 color=\"green\">20200504.102539|ParameterMacd|(callbacks.py::694)|INFO&nbsp&nbsp;&nbsp;&nbsp;&nbspEntered&nbspMACD&nbspinversion&nbspat&nbspit=&nbsp2295&nbspval_loss_fast=&nbsp1.1610214149517106&nbspval_loss_slow&nbsp=&nbsp1.1580678313121384</font>"
      ],
      "text/plain": [
       "<IPython.core.display.HTML object>"
      ]
     },
     "metadata": {},
     "output_type": "display_data"
    },
    {
     "data": {
      "text/html": [
       "<font face=\"Courier New\" size=2 color=\"green\">20200504.102540|ParameterMacd|(callbacks.py::707)|INFO&nbsp&nbsp;&nbsp;&nbsp;&nbspExited&nbspMACD&nbspinversion&nbspat&nbspit=&nbsp2300&nbspval_loss_fast=&nbsp1.155346875932407&nbspval_loss_slow&nbsp=&nbsp1.1574115665556928</font>"
      ],
      "text/plain": [
       "<IPython.core.display.HTML object>"
      ]
     },
     "metadata": {},
     "output_type": "display_data"
    },
    {
     "data": {
      "text/html": [
       "<font face=\"Courier New\" size=2 color=\"green\">20200504.102542|ParameterMacd|(callbacks.py::694)|INFO&nbsp&nbsp;&nbsp;&nbsp;&nbspEntered&nbspMACD&nbspinversion&nbspat&nbspit=&nbsp2305&nbspval_loss_fast=&nbsp1.1635572675980337&nbspval_loss_slow&nbsp=&nbsp1.1583569061958574</font>"
      ],
      "text/plain": [
       "<IPython.core.display.HTML object>"
      ]
     },
     "metadata": {},
     "output_type": "display_data"
    },
    {
     "data": {
      "text/html": [
       "<font face=\"Courier New\" size=2 color=\"green\">20200504.102558|ParameterMacd|(callbacks.py::707)|INFO&nbsp&nbsp;&nbsp;&nbsp;&nbspExited&nbspMACD&nbspinversion&nbspat&nbspit=&nbsp2360&nbspval_loss_fast=&nbsp1.1566832242856198&nbspval_loss_slow&nbsp=&nbsp1.1599937334520785</font>"
      ],
      "text/plain": [
       "<IPython.core.display.HTML object>"
      ]
     },
     "metadata": {},
     "output_type": "display_data"
    },
    {
     "data": {
      "text/html": [
       "<font face=\"Courier New\" size=2 color=\"green\">20200504.102602|ParameterMacd|(callbacks.py::694)|INFO&nbsp&nbsp;&nbsp;&nbsp;&nbspEntered&nbspMACD&nbspinversion&nbspat&nbspit=&nbsp2375&nbspval_loss_fast=&nbsp1.1633126991876621&nbspval_loss_slow&nbsp=&nbsp1.160586098063208</font>"
      ],
      "text/plain": [
       "<IPython.core.display.HTML object>"
      ]
     },
     "metadata": {},
     "output_type": "display_data"
    },
    {
     "data": {
      "text/html": [
       "<font face=\"Courier New\" size=2 color=\"green\">20200504.102612|ParameterMacd|(callbacks.py::707)|INFO&nbsp&nbsp;&nbsp;&nbsp;&nbspExited&nbspMACD&nbspinversion&nbspat&nbspit=&nbsp2410&nbspval_loss_fast=&nbsp1.1576645531250422&nbspval_loss_slow&nbsp=&nbsp1.1612578371875688</font>"
      ],
      "text/plain": [
       "<IPython.core.display.HTML object>"
      ]
     },
     "metadata": {},
     "output_type": "display_data"
    },
    {
     "data": {
      "text/html": [
       "<font face=\"Courier New\" size=2 color=\"green\">20200504.102613|ParameterMacd|(callbacks.py::694)|INFO&nbsp&nbsp;&nbsp;&nbsp;&nbspEntered&nbspMACD&nbspinversion&nbspat&nbspit=&nbsp2415&nbspval_loss_fast=&nbsp1.1673868984202656&nbspval_loss_slow&nbsp=&nbsp1.162298929207577</font>"
      ],
      "text/plain": [
       "<IPython.core.display.HTML object>"
      ]
     },
     "metadata": {},
     "output_type": "display_data"
    },
    {
     "data": {
      "text/html": [
       "<font face=\"Courier New\" size=2 color=\"green\">20200504.102618|ParameterMacd|(callbacks.py::707)|INFO&nbsp&nbsp;&nbsp;&nbsp;&nbspExited&nbspMACD&nbspinversion&nbspat&nbspit=&nbsp2430&nbspval_loss_fast=&nbsp1.1613945380688973&nbspval_loss_slow&nbsp=&nbsp1.1622547354194859</font>"
      ],
      "text/plain": [
       "<IPython.core.display.HTML object>"
      ]
     },
     "metadata": {},
     "output_type": "display_data"
    },
    {
     "data": {
      "text/html": [
       "<font face=\"Courier New\" size=2 color=\"green\">20200504.102619|ParameterMacd|(callbacks.py::694)|INFO&nbsp&nbsp;&nbsp;&nbsp;&nbspEntered&nbspMACD&nbspinversion&nbspat&nbspit=&nbsp2435&nbspval_loss_fast=&nbsp1.1644508244627385&nbspval_loss_slow&nbsp=&nbsp1.1625621168348583</font>"
      ],
      "text/plain": [
       "<IPython.core.display.HTML object>"
      ]
     },
     "metadata": {},
     "output_type": "display_data"
    },
    {
     "data": {
      "text/html": [
       "<font face=\"Courier New\" size=2 color=\"green\">20200504.102634|ParameterMacd|(callbacks.py::707)|INFO&nbsp&nbsp;&nbsp;&nbsp;&nbspExited&nbspMACD&nbspinversion&nbspat&nbspit=&nbsp2485&nbspval_loss_fast=&nbsp1.1627818474544116&nbspval_loss_slow&nbsp=&nbsp1.164921443350946</font>"
      ],
      "text/plain": [
       "<IPython.core.display.HTML object>"
      ]
     },
     "metadata": {},
     "output_type": "display_data"
    },
    {
     "data": {
      "text/html": [
       "<font face=\"Courier New\" size=2 color=\"green\">20200504.102644|ParameterMacd|(callbacks.py::694)|INFO&nbsp&nbsp;&nbsp;&nbsp;&nbspEntered&nbspMACD&nbspinversion&nbspat&nbspit=&nbsp2520&nbspval_loss_fast=&nbsp1.1667880628637897&nbspval_loss_slow&nbsp=&nbsp1.1644185861804437</font>"
      ],
      "text/plain": [
       "<IPython.core.display.HTML object>"
      ]
     },
     "metadata": {},
     "output_type": "display_data"
    },
    {
     "data": {
      "text/html": [
       "<font face=\"Courier New\" size=2 color=\"green\">20200504.102647|ParameterMacd|(callbacks.py::707)|INFO&nbsp&nbsp;&nbsp;&nbsp;&nbspExited&nbspMACD&nbspinversion&nbspat&nbspit=&nbsp2530&nbspval_loss_fast=&nbsp1.1598622080758467&nbspval_loss_slow&nbsp=&nbsp1.163708475850307</font>"
      ],
      "text/plain": [
       "<IPython.core.display.HTML object>"
      ]
     },
     "metadata": {},
     "output_type": "display_data"
    },
    {
     "data": {
      "text/html": [
       "<font face=\"Courier New\" size=2 color=\"green\">20200504.102650|ParameterMacd|(callbacks.py::694)|INFO&nbsp&nbsp;&nbsp;&nbsp;&nbspEntered&nbspMACD&nbspinversion&nbspat&nbspit=&nbsp2540&nbspval_loss_fast=&nbsp1.1704682740163213&nbspval_loss_slow&nbsp=&nbsp1.1645988444111712</font>"
      ],
      "text/plain": [
       "<IPython.core.display.HTML object>"
      ]
     },
     "metadata": {},
     "output_type": "display_data"
    },
    {
     "data": {
      "text/html": [
       "<font face=\"Courier New\" size=2 color=\"green\">20200504.102700|ParameterMacd|(callbacks.py::707)|INFO&nbsp&nbsp;&nbsp;&nbsp;&nbspExited&nbspMACD&nbspinversion&nbspat&nbspit=&nbsp2575&nbspval_loss_fast=&nbsp1.1643052630641386&nbspval_loss_slow&nbsp=&nbsp1.1655870655326332</font>"
      ],
      "text/plain": [
       "<IPython.core.display.HTML object>"
      ]
     },
     "metadata": {},
     "output_type": "display_data"
    },
    {
     "data": {
      "text/html": [
       "<font face=\"Courier New\" size=2 color=\"green\">20200504.102703|ParameterMacd|(callbacks.py::694)|INFO&nbsp&nbsp;&nbsp;&nbsp;&nbspEntered&nbspMACD&nbspinversion&nbspat&nbspit=&nbsp2585&nbspval_loss_fast=&nbsp1.1689539545233212&nbspval_loss_slow&nbsp=&nbsp1.1661017136868568</font>"
      ],
      "text/plain": [
       "<IPython.core.display.HTML object>"
      ]
     },
     "metadata": {},
     "output_type": "display_data"
    },
    {
     "data": {
      "text/html": [
       "<font face=\"Courier New\" size=2 color=\"green\">20200504.102704|ParameterMacd|(callbacks.py::707)|INFO&nbsp&nbsp;&nbsp;&nbsp;&nbspExited&nbspMACD&nbspinversion&nbspat&nbspit=&nbsp2590&nbspval_loss_fast=&nbsp1.1658102996342772&nbspval_loss_slow&nbsp=&nbsp1.1658846362079132</font>"
      ],
      "text/plain": [
       "<IPython.core.display.HTML object>"
      ]
     },
     "metadata": {},
     "output_type": "display_data"
    },
    {
     "data": {
      "text/html": [
       "<font face=\"Courier New\" size=2 color=\"green\">20200504.102706|ParameterMacd|(callbacks.py::694)|INFO&nbsp&nbsp;&nbsp;&nbsp;&nbspEntered&nbspMACD&nbspinversion&nbspat&nbspit=&nbsp2595&nbspval_loss_fast=&nbsp1.1737181208548921&nbspval_loss_slow&nbsp=&nbsp1.166746146922899</font>"
      ],
      "text/plain": [
       "<IPython.core.display.HTML object>"
      ]
     },
     "metadata": {},
     "output_type": "display_data"
    },
    {
     "data": {
      "text/html": [
       "<font face=\"Courier New\" size=2 color=\"green\">20200504.102708|ParameterMacd|(callbacks.py::707)|INFO&nbsp&nbsp;&nbsp;&nbsp;&nbspExited&nbspMACD&nbspinversion&nbspat&nbspit=&nbsp2605&nbspval_loss_fast=&nbsp1.1661240843099177&nbspval_loss_slow&nbsp=&nbsp1.1664025468020227</font>"
      ],
      "text/plain": [
       "<IPython.core.display.HTML object>"
      ]
     },
     "metadata": {},
     "output_type": "display_data"
    },
    {
     "data": {
      "text/html": [
       "<font face=\"Courier New\" size=2 color=\"green\">20200504.102710|ParameterMacd|(callbacks.py::694)|INFO&nbsp&nbsp;&nbsp;&nbsp;&nbspEntered&nbspMACD&nbspinversion&nbspat&nbspit=&nbsp2610&nbspval_loss_fast=&nbsp1.171821565480235&nbspval_loss_slow&nbsp=&nbsp1.1671594716274734</font>"
      ],
      "text/plain": [
       "<IPython.core.display.HTML object>"
      ]
     },
     "metadata": {},
     "output_type": "display_data"
    },
    {
     "data": {
      "text/html": [
       "<font face=\"Courier New\" size=2 color=\"green\">20200504.102713|ParameterMacd|(callbacks.py::707)|INFO&nbsp&nbsp;&nbsp;&nbsp;&nbspExited&nbspMACD&nbspinversion&nbspat&nbspit=&nbsp2620&nbspval_loss_fast=&nbsp1.16192985004297&nbspval_loss_slow&nbsp=&nbsp1.166392636932118</font>"
      ],
      "text/plain": [
       "<IPython.core.display.HTML object>"
      ]
     },
     "metadata": {},
     "output_type": "display_data"
    },
    {
     "data": {
      "text/html": [
       "<font face=\"Courier New\" size=2 color=\"green\">20200504.102716|ParameterMacd|(callbacks.py::694)|INFO&nbsp&nbsp;&nbsp;&nbsp;&nbspEntered&nbspMACD&nbspinversion&nbspat&nbspit=&nbsp2630&nbspval_loss_fast=&nbsp1.1702695412338548&nbspval_loss_slow&nbsp=&nbsp1.167234658485851</font>"
      ],
      "text/plain": [
       "<IPython.core.display.HTML object>"
      ]
     },
     "metadata": {},
     "output_type": "display_data"
    },
    {
     "data": {
      "text/html": [
       "<font face=\"Courier New\" size=2 color=\"green\">20200504.102726|ParameterMacd|(callbacks.py::707)|INFO&nbsp&nbsp;&nbsp;&nbsp;&nbspExited&nbspMACD&nbspinversion&nbspat&nbspit=&nbsp2665&nbspval_loss_fast=&nbsp1.1687511503085841&nbspval_loss_slow&nbsp=&nbsp1.1688212084060605</font>"
      ],
      "text/plain": [
       "<IPython.core.display.HTML object>"
      ]
     },
     "metadata": {},
     "output_type": "display_data"
    },
    {
     "data": {
      "text/html": [
       "<font face=\"Courier New\" size=2 color=\"green\">20200504.102733|ParameterMacd|(callbacks.py::694)|INFO&nbsp&nbsp;&nbsp;&nbsp;&nbspEntered&nbspMACD&nbspinversion&nbspat&nbspit=&nbsp2690&nbspval_loss_fast=&nbsp1.171634414807928&nbspval_loss_slow&nbsp=&nbsp1.1688297463330022</font>"
      ],
      "text/plain": [
       "<IPython.core.display.HTML object>"
      ]
     },
     "metadata": {},
     "output_type": "display_data"
    },
    {
     "data": {
      "text/html": [
       "<font face=\"Courier New\" size=2 color=\"green\">20200504.102749|ParameterMacd|(callbacks.py::707)|INFO&nbsp&nbsp;&nbsp;&nbsp;&nbspExited&nbspMACD&nbspinversion&nbspat&nbspit=&nbsp2745&nbspval_loss_fast=&nbsp1.1689316000353656&nbspval_loss_slow&nbsp=&nbsp1.1720674545266891</font>"
      ],
      "text/plain": [
       "<IPython.core.display.HTML object>"
      ]
     },
     "metadata": {},
     "output_type": "display_data"
    },
    {
     "data": {
      "text/html": [
       "<font face=\"Courier New\" size=2 color=\"green\">20200504.102751|ParameterMacd|(callbacks.py::694)|INFO&nbsp&nbsp;&nbsp;&nbsp;&nbspEntered&nbspMACD&nbspinversion&nbspat&nbspit=&nbsp2750&nbspval_loss_fast=&nbsp1.1725789409026717&nbspval_loss_slow&nbsp=&nbsp1.172345125164572</font>"
      ],
      "text/plain": [
       "<IPython.core.display.HTML object>"
      ]
     },
     "metadata": {},
     "output_type": "display_data"
    },
    {
     "data": {
      "text/html": [
       "<font face=\"Courier New\" size=2 color=\"green\">20200504.102752|ParameterMacd|(callbacks.py::707)|INFO&nbsp&nbsp;&nbsp;&nbsp;&nbspExited&nbspMACD&nbspinversion&nbspat&nbspit=&nbsp2755&nbspval_loss_fast=&nbsp1.1666202372092414&nbspval_loss_slow&nbsp=&nbsp1.1716424284097462</font>"
      ],
      "text/plain": [
       "<IPython.core.display.HTML object>"
      ]
     },
     "metadata": {},
     "output_type": "display_data"
    },
    {
     "data": {
      "text/html": [
       "<font face=\"Courier New\" size=2 color=\"green\">20200504.102758|ParameterMacd|(callbacks.py::694)|INFO&nbsp&nbsp;&nbsp;&nbsp;&nbspEntered&nbspMACD&nbspinversion&nbspat&nbspit=&nbsp2775&nbspval_loss_fast=&nbsp1.1724557743626174&nbspval_loss_slow&nbsp=&nbsp1.1712592830638435</font>"
      ],
      "text/plain": [
       "<IPython.core.display.HTML object>"
      ]
     },
     "metadata": {},
     "output_type": "display_data"
    },
    {
     "data": {
      "text/html": [
       "<font face=\"Courier New\" size=2 color=\"green\">20200504.102800|ParameterMacd|(callbacks.py::707)|INFO&nbsp&nbsp;&nbsp;&nbsp;&nbspExited&nbspMACD&nbspinversion&nbspat&nbspit=&nbsp2785&nbspval_loss_fast=&nbsp1.1684003646238021&nbspval_loss_slow&nbsp=&nbsp1.1709499297851202</font>"
      ],
      "text/plain": [
       "<IPython.core.display.HTML object>"
      ]
     },
     "metadata": {},
     "output_type": "display_data"
    },
    {
     "data": {
      "text/html": [
       "<font face=\"Courier New\" size=2 color=\"green\">20200504.102802|ParameterMacd|(callbacks.py::694)|INFO&nbsp&nbsp;&nbsp;&nbsp;&nbspEntered&nbspMACD&nbspinversion&nbspat&nbspit=&nbsp2790&nbspval_loss_fast=&nbsp1.1724480474859176&nbspval_loss_slow&nbsp=&nbsp1.1712975527115157</font>"
      ],
      "text/plain": [
       "<IPython.core.display.HTML object>"
      ]
     },
     "metadata": {},
     "output_type": "display_data"
    },
    {
     "data": {
      "text/html": [
       "<font face=\"Courier New\" size=2 color=\"green\">20200504.102822|ParameterMacd|(callbacks.py::707)|INFO&nbsp&nbsp;&nbsp;&nbsp;&nbspExited&nbspMACD&nbspinversion&nbspat&nbspit=&nbsp2860&nbspval_loss_fast=&nbsp1.1730166209715276&nbspval_loss_slow&nbsp=&nbsp1.173492164853758</font>"
      ],
      "text/plain": [
       "<IPython.core.display.HTML object>"
      ]
     },
     "metadata": {},
     "output_type": "display_data"
    },
    {
     "data": {
      "text/html": [
       "<font face=\"Courier New\" size=2 color=\"green\">20200504.102831|ParameterMacd|(callbacks.py::694)|INFO&nbsp&nbsp;&nbsp;&nbsp;&nbspEntered&nbspMACD&nbspinversion&nbspat&nbspit=&nbsp2890&nbspval_loss_fast=&nbsp1.1766972934486424&nbspval_loss_slow&nbsp=&nbsp1.173269491642477</font>"
      ],
      "text/plain": [
       "<IPython.core.display.HTML object>"
      ]
     },
     "metadata": {},
     "output_type": "display_data"
    },
    {
     "data": {
      "text/html": [
       "<font face=\"Courier New\" size=2 color=\"green\">20200504.102832|ParameterMacd|(callbacks.py::707)|INFO&nbsp&nbsp;&nbsp;&nbsp;&nbspExited&nbspMACD&nbspinversion&nbspat&nbspit=&nbsp2895&nbspval_loss_fast=&nbsp1.171863432067522&nbspval_loss_slow&nbsp=&nbsp1.1727664624508716</font>"
      ],
      "text/plain": [
       "<IPython.core.display.HTML object>"
      ]
     },
     "metadata": {},
     "output_type": "display_data"
    },
    {
     "data": {
      "text/html": [
       "<font face=\"Courier New\" size=2 color=\"green\">20200504.102834|ParameterMacd|(callbacks.py::694)|INFO&nbsp&nbsp;&nbsp;&nbsp;&nbspEntered&nbspMACD&nbspinversion&nbspat&nbspit=&nbsp2900&nbspval_loss_fast=&nbsp1.1758325238928262&nbspval_loss_slow&nbsp=&nbsp1.1731552318231506</font>"
      ],
      "text/plain": [
       "<IPython.core.display.HTML object>"
      ]
     },
     "metadata": {},
     "output_type": "display_data"
    },
    {
     "data": {
      "text/html": [
       "<font face=\"Courier New\" size=2 color=\"green\">20200504.102842|ParameterMacd|(callbacks.py::707)|INFO&nbsp&nbsp;&nbsp;&nbsp;&nbspExited&nbspMACD&nbspinversion&nbspat&nbspit=&nbsp2930&nbspval_loss_fast=&nbsp1.171318567789764&nbspval_loss_slow&nbsp=&nbsp1.1735948998528059</font>"
      ],
      "text/plain": [
       "<IPython.core.display.HTML object>"
      ]
     },
     "metadata": {},
     "output_type": "display_data"
    },
    {
     "data": {
      "text/html": [
       "<font face=\"Courier New\" size=2 color=\"green\">20200504.102845|ParameterMacd|(callbacks.py::694)|INFO&nbsp&nbsp;&nbsp;&nbsp;&nbspEntered&nbspMACD&nbspinversion&nbspat&nbspit=&nbsp2940&nbspval_loss_fast=&nbsp1.178819395607319&nbspval_loss_slow&nbsp=&nbsp1.1743281484841708</font>"
      ],
      "text/plain": [
       "<IPython.core.display.HTML object>"
      ]
     },
     "metadata": {},
     "output_type": "display_data"
    },
    {
     "data": {
      "text/html": [
       "<font face=\"Courier New\" size=2 color=\"green\">20200504.102847|ParameterMacd|(callbacks.py::707)|INFO&nbsp&nbsp;&nbsp;&nbsp;&nbspExited&nbspMACD&nbspinversion&nbspat&nbspit=&nbsp2945&nbspval_loss_fast=&nbsp1.17175967042777&nbspval_loss_slow&nbsp=&nbsp1.1736523277930946</font>"
      ],
      "text/plain": [
       "<IPython.core.display.HTML object>"
      ]
     },
     "metadata": {},
     "output_type": "display_data"
    },
    {
     "data": {
      "text/html": [
       "<font face=\"Courier New\" size=2 color=\"green\">20200504.102850|ParameterMacd|(callbacks.py::694)|INFO&nbsp&nbsp;&nbsp;&nbsp;&nbspEntered&nbspMACD&nbspinversion&nbspat&nbspit=&nbsp2955&nbspval_loss_fast=&nbsp1.1774229336019744&nbspval_loss_slow&nbsp=&nbsp1.1742767871237159</font>"
      ],
      "text/plain": [
       "<IPython.core.display.HTML object>"
      ]
     },
     "metadata": {},
     "output_type": "display_data"
    },
    {
     "data": {
      "text/html": [
       "<font face=\"Courier New\" size=2 color=\"green\">20200504.102853|ParameterMacd|(callbacks.py::707)|INFO&nbsp&nbsp;&nbsp;&nbsp;&nbspExited&nbspMACD&nbspinversion&nbspat&nbspit=&nbsp2965&nbspval_loss_fast=&nbsp1.1733634417341299&nbspval_loss_slow&nbsp=&nbsp1.1743259305623737</font>"
      ],
      "text/plain": [
       "<IPython.core.display.HTML object>"
      ]
     },
     "metadata": {},
     "output_type": "display_data"
    },
    {
     "data": {
      "text/html": [
       "<font face=\"Courier New\" size=2 color=\"green\">20200504.102911|ParameterMacd|(callbacks.py::694)|INFO&nbsp&nbsp;&nbsp;&nbsp;&nbspEntered&nbspMACD&nbspinversion&nbspat&nbspit=&nbsp3030&nbspval_loss_fast=&nbsp1.172427979495501&nbspval_loss_slow&nbsp=&nbsp1.1710678308692335</font>"
      ],
      "text/plain": [
       "<IPython.core.display.HTML object>"
      ]
     },
     "metadata": {},
     "output_type": "display_data"
    },
    {
     "data": {
      "text/html": [
       "<font face=\"Courier New\" size=2 color=\"green\">20200504.102919|ParameterMacd|(callbacks.py::707)|INFO&nbsp&nbsp;&nbsp;&nbsp;&nbspExited&nbspMACD&nbspinversion&nbspat&nbspit=&nbsp3055&nbspval_loss_fast=&nbsp1.1670827661013776&nbspval_loss_slow&nbsp=&nbsp1.1708009812972067</font>"
      ],
      "text/plain": [
       "<IPython.core.display.HTML object>"
      ]
     },
     "metadata": {},
     "output_type": "display_data"
    },
    {
     "ename": "KeyboardInterrupt",
     "evalue": "",
     "output_type": "error",
     "traceback": [
      "\u001b[0;31m---------------------------------------------------------------------------\u001b[0m",
      "\u001b[0;31mKeyboardInterrupt\u001b[0m                         Traceback (most recent call last)",
      "\u001b[0;32m<ipython-input-27-57f83639ced7>\u001b[0m in \u001b[0;36m<module>\u001b[0;34m\u001b[0m\n\u001b[1;32m     11\u001b[0m \u001b[0;34m\u001b[0m\u001b[0m\n\u001b[1;32m     12\u001b[0m )\n\u001b[0;32m---> 13\u001b[0;31m \u001b[0;32mfor\u001b[0m \u001b[0mit\u001b[0m \u001b[0;32min\u001b[0m \u001b[0mpbar\u001b[0m\u001b[0;34m(\u001b[0m \u001b[0mlearner\u001b[0m\u001b[0;34m.\u001b[0m\u001b[0mfit_iterator\u001b[0m\u001b[0;34m(\u001b[0m \u001b[0mdata\u001b[0m\u001b[0;34m=\u001b[0m\u001b[0mtrg_dataloader\u001b[0m\u001b[0;34m,\u001b[0m \u001b[0mval_data\u001b[0m\u001b[0;34m=\u001b[0m\u001b[0mval_dataloader\u001b[0m \u001b[0;34m)\u001b[0m \u001b[0;34m)\u001b[0m \u001b[0;34m:\u001b[0m\u001b[0;34m\u001b[0m\u001b[0;34m\u001b[0m\u001b[0m\n\u001b[0m\u001b[1;32m     14\u001b[0m     \u001b[0;32mcontinue\u001b[0m\u001b[0;34m\u001b[0m\u001b[0;34m\u001b[0m\u001b[0m\n\u001b[1;32m     15\u001b[0m \u001b[0;31m#     if it == 100:\u001b[0m\u001b[0;34m\u001b[0m\u001b[0;34m\u001b[0m\u001b[0;34m\u001b[0m\u001b[0m\n",
      "\u001b[0;32m~/anaconda3/lib/python3.7/site-packages/tqdm/notebook.py\u001b[0m in \u001b[0;36m__iter__\u001b[0;34m(self, *args, **kwargs)\u001b[0m\n\u001b[1;32m    220\u001b[0m     \u001b[0;32mdef\u001b[0m \u001b[0m__iter__\u001b[0m\u001b[0;34m(\u001b[0m\u001b[0mself\u001b[0m\u001b[0;34m,\u001b[0m \u001b[0;34m*\u001b[0m\u001b[0margs\u001b[0m\u001b[0;34m,\u001b[0m \u001b[0;34m**\u001b[0m\u001b[0mkwargs\u001b[0m\u001b[0;34m)\u001b[0m\u001b[0;34m:\u001b[0m\u001b[0;34m\u001b[0m\u001b[0;34m\u001b[0m\u001b[0m\n\u001b[1;32m    221\u001b[0m         \u001b[0;32mtry\u001b[0m\u001b[0;34m:\u001b[0m\u001b[0;34m\u001b[0m\u001b[0;34m\u001b[0m\u001b[0m\n\u001b[0;32m--> 222\u001b[0;31m             \u001b[0;32mfor\u001b[0m \u001b[0mobj\u001b[0m \u001b[0;32min\u001b[0m \u001b[0msuper\u001b[0m\u001b[0;34m(\u001b[0m\u001b[0mtqdm_notebook\u001b[0m\u001b[0;34m,\u001b[0m \u001b[0mself\u001b[0m\u001b[0;34m)\u001b[0m\u001b[0;34m.\u001b[0m\u001b[0m__iter__\u001b[0m\u001b[0;34m(\u001b[0m\u001b[0;34m*\u001b[0m\u001b[0margs\u001b[0m\u001b[0;34m,\u001b[0m \u001b[0;34m**\u001b[0m\u001b[0mkwargs\u001b[0m\u001b[0;34m)\u001b[0m\u001b[0;34m:\u001b[0m\u001b[0;34m\u001b[0m\u001b[0;34m\u001b[0m\u001b[0m\n\u001b[0m\u001b[1;32m    223\u001b[0m                 \u001b[0;31m# return super(tqdm...) will not catch exception\u001b[0m\u001b[0;34m\u001b[0m\u001b[0;34m\u001b[0m\u001b[0;34m\u001b[0m\u001b[0m\n\u001b[1;32m    224\u001b[0m                 \u001b[0;32myield\u001b[0m \u001b[0mobj\u001b[0m\u001b[0;34m\u001b[0m\u001b[0;34m\u001b[0m\u001b[0m\n",
      "\u001b[0;32m~/anaconda3/lib/python3.7/site-packages/tqdm/std.py\u001b[0m in \u001b[0;36m__iter__\u001b[0;34m(self)\u001b[0m\n\u001b[1;32m   1079\u001b[0m             \"\"\"), fp_write=getattr(self.fp, 'write', sys.stderr.write))\n\u001b[1;32m   1080\u001b[0m \u001b[0;34m\u001b[0m\u001b[0m\n\u001b[0;32m-> 1081\u001b[0;31m         \u001b[0;32mfor\u001b[0m \u001b[0mobj\u001b[0m \u001b[0;32min\u001b[0m \u001b[0miterable\u001b[0m\u001b[0;34m:\u001b[0m\u001b[0;34m\u001b[0m\u001b[0;34m\u001b[0m\u001b[0m\n\u001b[0m\u001b[1;32m   1082\u001b[0m             \u001b[0;32myield\u001b[0m \u001b[0mobj\u001b[0m\u001b[0;34m\u001b[0m\u001b[0;34m\u001b[0m\u001b[0m\n\u001b[1;32m   1083\u001b[0m             \u001b[0;31m# Update and possibly print the progressbar.\u001b[0m\u001b[0;34m\u001b[0m\u001b[0;34m\u001b[0m\u001b[0;34m\u001b[0m\u001b[0m\n",
      "\u001b[0;32m~/cloud/code/madmax/pytorch/optim/learner.py\u001b[0m in \u001b[0;36mfit_iterator\u001b[0;34m(self, data, masker, val_data, val_masker)\u001b[0m\n\u001b[1;32m    144\u001b[0m                 \u001b[0;31m# pre-conditioning, and return training losses\u001b[0m\u001b[0;34m\u001b[0m\u001b[0;34m\u001b[0m\u001b[0;34m\u001b[0m\u001b[0m\n\u001b[1;32m    145\u001b[0m                 \u001b[0;32mwith\u001b[0m \u001b[0mself\u001b[0m\u001b[0;34m.\u001b[0m\u001b[0mprofiler\u001b[0m\u001b[0;34m(\u001b[0m \u001b[0;34m'next( trg_iterator )'\u001b[0m \u001b[0;34m)\u001b[0m\u001b[0;34m:\u001b[0m\u001b[0;34m\u001b[0m\u001b[0;34m\u001b[0m\u001b[0m\n\u001b[0;32m--> 146\u001b[0;31m                     \u001b[0mtrg_loss\u001b[0m \u001b[0;34m=\u001b[0m \u001b[0mnext\u001b[0m\u001b[0;34m(\u001b[0m \u001b[0mtrg_iterator\u001b[0m \u001b[0;34m)\u001b[0m\u001b[0;34m\u001b[0m\u001b[0;34m\u001b[0m\u001b[0m\n\u001b[0m\u001b[1;32m    147\u001b[0m                 \u001b[0;31m# Whatever the callbacks want to do.\u001b[0m\u001b[0;34m\u001b[0m\u001b[0;34m\u001b[0m\u001b[0;34m\u001b[0m\u001b[0m\n\u001b[1;32m    148\u001b[0m                 \u001b[0;32mfor\u001b[0m \u001b[0mcb\u001b[0m \u001b[0;32min\u001b[0m \u001b[0mself\u001b[0m\u001b[0;34m.\u001b[0m\u001b[0mcallbacks\u001b[0m\u001b[0;34m:\u001b[0m\u001b[0;34m\u001b[0m\u001b[0;34m\u001b[0m\u001b[0m\n",
      "\u001b[0;32m~/cloud/code/madmax/pytorch/optim/learner.py\u001b[0m in \u001b[0;36m_build_trg_iterator\u001b[0;34m(self, data, masker)\u001b[0m\n\u001b[1;32m    248\u001b[0m                 \u001b[0;32mwith\u001b[0m \u001b[0mself\u001b[0m\u001b[0;34m.\u001b[0m\u001b[0mprofiler\u001b[0m\u001b[0;34m(\u001b[0m \u001b[0;34mf'_build_trg_iterator::loss.backward()'\u001b[0m \u001b[0;34m)\u001b[0m\u001b[0;34m:\u001b[0m\u001b[0;34m\u001b[0m\u001b[0;34m\u001b[0m\u001b[0m\n\u001b[1;32m    249\u001b[0m                     \u001b[0mloss\u001b[0m\u001b[0;34m.\u001b[0m\u001b[0mbackward\u001b[0m\u001b[0;34m(\u001b[0m\u001b[0;34m)\u001b[0m\u001b[0;34m\u001b[0m\u001b[0;34m\u001b[0m\u001b[0m\n\u001b[0;32m--> 250\u001b[0;31m                 \u001b[0;32myield\u001b[0m \u001b[0;34m[\u001b[0m\u001b[0mloss\u001b[0m\u001b[0;34m.\u001b[0m\u001b[0mitem\u001b[0m\u001b[0;34m(\u001b[0m\u001b[0;34m)\u001b[0m\u001b[0;34m]\u001b[0m\u001b[0;34m\u001b[0m\u001b[0;34m\u001b[0m\u001b[0m\n\u001b[0m\u001b[1;32m    251\u001b[0m         \u001b[0;31m# --- iterators that compute gradients which need multiple inner iterations (ie folds) ---\u001b[0m\u001b[0;34m\u001b[0m\u001b[0;34m\u001b[0m\u001b[0;34m\u001b[0m\u001b[0m\n\u001b[1;32m    252\u001b[0m         \u001b[0;32melse\u001b[0m\u001b[0;34m:\u001b[0m\u001b[0;34m\u001b[0m\u001b[0;34m\u001b[0m\u001b[0m\n",
      "\u001b[0;31mKeyboardInterrupt\u001b[0m: "
     ]
    }
   ],
   "source": [
    "# --- do the fitting ---\n",
    "#build up the trianing and validation dataloaders\n",
    "hps.batch_size = 128\n",
    "trg_dataloader = mxtr.DataLoader( \n",
    "    trg_hankel_dataset, batch_size=None, pin_memory=True, num_workers=12, \n",
    "    sampler=mxtr.BatchSampler( sampler=mxtr.RandomSampler( trg_hankel_dataset ), batch_size=hps.batch_size, drop_last=True )\n",
    ")\n",
    "val_dataloader = mxtr.DataLoader( \n",
    "    val_hankel_dataset, batch_size=None, pin_memory=True , num_workers=12,\n",
    "    sampler=mxtr.BatchSampler( sampler=mxtr.RandomSampler( val_hankel_dataset ), batch_size=hps.batch_size, drop_last=True  )\n",
    "    \n",
    ")\n",
    "for it in pbar( learner.fit_iterator( data=trg_dataloader, val_data=val_dataloader ) ) :\n",
    "    continue\n",
    "#     if it == 100:\n",
    "#         # switch to sgd\n",
    "#         learner.optimizers = [opt_2]\n",
    "#         learner.callbacks.pop(-1)\n",
    "#         learner.callbacks.append( cycle_scheduler.start() )\n",
    "\n",
    "#     if it % 100 == 0:\n",
    "#         tloss = model.val_loss( *[m.to(device) for m in tst_panel_dataset[:]]  )\n",
    "#         disp( 'testing  loss', tloss, h=4 )\n",
    "#         disp( learner.profiles.sort_values( 'duration_total', ascending=False ) )\n",
    "\n",
    "# # run a explicit traning loop\n",
    "# opt = mxtr.FAdam( params=model.parameters(), lr=1e-3, betas=( 0.9, 0.99 ), tensorboard=False ) # mx.Resolve.halflife( 10)['decay'], mx.Resolve.halflife( 20 )['decay'] ) )\n",
    "# it  = 0\n",
    "# for tmb, vmb in pbar( zip( trg_dataloader, val_dataloader ) ):\n",
    "#     it += 1\n",
    "#     tmb = [m.to(device) for m in tmb]\n",
    "#     vmb = [m.to(device) for m in vmb]\n",
    "#     trg_masker.restrict( tmb[0] )\n",
    "#     val_masker.restrict( vmb[0] )\n",
    "#     trg_mask_iterator = trg_masker.mask_iterator('trg')\n",
    "#     val_mask_iterator = val_masker.mask_iterator('val')\n",
    "#     opt.zero_grad()\n",
    "#     trg_mask = next( trg_mask_iterator )\n",
    "#     val_mask = next( val_mask_iterator )\n",
    "#     tloss = trg_loss( *tmb, mask=trg_mask )\n",
    "#     tloss.backward()\n",
    "#     opt.step()\n",
    "#     vloss = val_loss( *vmb, mask=val_mask )\n",
    "#     if it % 10 == 0:\n",
    "#         tloss = val_loss( *[m.to(device) for m in tst_dataset[:]]  )\n",
    "#         print( 'testing  loss', tloss )\n"
   ]
  },
  {
   "cell_type": "code",
   "execution_count": 30,
   "metadata": {},
   "outputs": [
    {
     "name": "stderr",
     "output_type": "stream",
     "text": [
      "/home/fj/cloud/code/madmax/experiment/logging.py:104: UserWarning: Logger.log_uri not set. Try running Config.start() ? Will not write to disk \n",
      "  warnings.warn( 'Logger.log_uri not set. Try running Config.start() ? Will not write to disk ' )\n"
     ]
    },
    {
     "data": {
      "text/html": [
       "<font face=\"Courier New\" size=2 color=\"green\">20200504.103040|ParameterMacd|(callbacks.py::814)|INFO&nbsp&nbsp;&nbsp;&nbsp;&nbspRewound&nbspto&nbsp&nbsp{'it':&nbsp265,&nbsp'val_loss_fast':&nbsp1.0515831939826608}</font>"
      ],
      "text/plain": [
       "<IPython.core.display.HTML object>"
      ]
     },
     "metadata": {},
     "output_type": "display_data"
    },
    {
     "data": {
      "text/plain": [
       "{'it': 265, 'val_loss_fast': 1.0515831939826608}"
      ]
     },
     "execution_count": 30,
     "metadata": {},
     "output_type": "execute_result"
    }
   ],
   "source": [
    "learner.callbacks[1].rewind_to_minimum()"
   ]
  },
  {
   "cell_type": "code",
   "execution_count": 31,
   "metadata": {
    "code_folding": [],
    "run_control": {
     "marked": false
    },
    "scrolled": false
   },
   "outputs": [
    {
     "data": {
      "text/html": [
       "<font face=\"Courier New\" size=2 color=\"green\">20200504.103045|root|(contextlib.py::112)|INFO&nbsp&nbsp;&nbsp;&nbsp;&nbsppredicting&nbsp&nbsp...&nbsp(starting)</font>"
      ],
      "text/plain": [
       "<IPython.core.display.HTML object>"
      ]
     },
     "metadata": {},
     "output_type": "display_data"
    },
    {
     "data": {
      "text/html": [
       "<font face=\"Courier New\" size=2 color=\"green\">20200504.103054|root|(contextlib.py::119)|INFO&nbsp&nbsp;&nbsp;&nbsp;&nbsppredicting&nbsp&nbsp...&nbsp(done&nbsp-&nbsptook&nbsp8.66s)</font>"
      ],
      "text/plain": [
       "<IPython.core.display.HTML object>"
      ]
     },
     "metadata": {},
     "output_type": "display_data"
    },
    {
     "data": {
      "text/html": [
       "<font face=\"Courier New\" size=2 color=\"green\">20200504.103054|root|(contextlib.py::112)|INFO&nbsp&nbsp;&nbsp;&nbsp;&nbspregressing&nbsp...&nbsp(starting)</font>"
      ],
      "text/plain": [
       "<IPython.core.display.HTML object>"
      ]
     },
     "metadata": {},
     "output_type": "display_data"
    },
    {
     "data": {
      "application/vnd.jupyter.widget-view+json": {
       "model_id": "5b9e580f51664ab49666de5dbdd4cd5c",
       "version_major": 2,
       "version_minor": 0
      },
      "text/plain": [
       "HBox(children=(IntProgress(value=1, bar_style='info', max=1), HTML(value='')))"
      ]
     },
     "metadata": {},
     "output_type": "display_data"
    },
    {
     "name": "stderr",
     "output_type": "stream",
     "text": [
      "/home/fj/cloud/code/madmax/experiment/logging.py:104: UserWarning: Logger.log_uri not set. Try running Config.start() ? Will not write to disk \n",
      "  warnings.warn( 'Logger.log_uri not set. Try running Config.start() ? Will not write to disk ' )\n",
      "/home/fj/cloud/code/madmax/experiment/logging.py:104: UserWarning: Logger.log_uri not set. Try running Config.start() ? Will not write to disk \n",
      "  warnings.warn( 'Logger.log_uri not set. Try running Config.start() ? Will not write to disk ' )\n",
      "/home/fj/cloud/code/madmax/experiment/logging.py:104: UserWarning: Logger.log_uri not set. Try running Config.start() ? Will not write to disk \n",
      "  warnings.warn( 'Logger.log_uri not set. Try running Config.start() ? Will not write to disk ' )\n",
      "/home/fj/cloud/code/madmax/experiment/logging.py:104: UserWarning: Logger.log_uri not set. Try running Config.start() ? Will not write to disk \n",
      "  warnings.warn( 'Logger.log_uri not set. Try running Config.start() ? Will not write to disk ' )\n"
     ]
    },
    {
     "name": "stdout",
     "output_type": "stream",
     "text": [
      "\n"
     ]
    },
    {
     "data": {
      "text/html": [
       "<font face=\"Courier New\" size=2 color=\"green\">20200504.103103|root|(contextlib.py::119)|INFO&nbsp&nbsp;&nbsp;&nbsp;&nbspregressing&nbsp...&nbsp(done&nbsp-&nbsptook&nbsp9.56s)</font>"
      ],
      "text/plain": [
       "<IPython.core.display.HTML object>"
      ]
     },
     "metadata": {},
     "output_type": "display_data"
    },
    {
     "data": {
      "text/html": [
       "<h1><font face=\"Courier New\">Trained&nbspmodel&nbsp</font></h1>"
      ],
      "text/plain": [
       "<IPython.core.display.HTML object>"
      ]
     },
     "metadata": {},
     "output_type": "display_data"
    },
    {
     "data": {
      "text/html": [
       "<font face=\"Courier New\"><div>\n",
       "<style scoped>\n",
       "    .dataframe tbody tr th:only-of-type {\n",
       "        vertical-align: middle;\n",
       "    }\n",
       "\n",
       "    .dataframe tbody tr th {\n",
       "        vertical-align: top;\n",
       "    }\n",
       "\n",
       "    .dataframe thead th {\n",
       "        text-align: right;\n",
       "    }\n",
       "</style>\n",
       "<table border=\"1\" class=\"dataframe\">\n",
       "  <thead>\n",
       "    <tr style=\"text-align: right;\">\n",
       "      <th></th>\n",
       "      <th>n</th>\n",
       "      <th>finite_frac</th>\n",
       "      <th>tilt</th>\n",
       "      <th>pmSR</th>\n",
       "      <th>ic</th>\n",
       "      <th>r2</th>\n",
       "      <th>tstat</th>\n",
       "      <th>DK_10</th>\n",
       "      <th>DK_20</th>\n",
       "      <th>DK_30</th>\n",
       "      <th>DK_40</th>\n",
       "      <th>DK_50</th>\n",
       "      <th>DK_60</th>\n",
       "      <th>DK_70</th>\n",
       "      <th>DK_80</th>\n",
       "      <th>DK_90</th>\n",
       "      <th>ac_1</th>\n",
       "      <th>ac_13</th>\n",
       "      <th>ac_26</th>\n",
       "    </tr>\n",
       "    <tr>\n",
       "      <th>sample</th>\n",
       "      <th></th>\n",
       "      <th></th>\n",
       "      <th></th>\n",
       "      <th></th>\n",
       "      <th></th>\n",
       "      <th></th>\n",
       "      <th></th>\n",
       "      <th></th>\n",
       "      <th></th>\n",
       "      <th></th>\n",
       "      <th></th>\n",
       "      <th></th>\n",
       "      <th></th>\n",
       "      <th></th>\n",
       "      <th></th>\n",
       "      <th></th>\n",
       "      <th></th>\n",
       "      <th></th>\n",
       "      <th></th>\n",
       "    </tr>\n",
       "  </thead>\n",
       "  <tbody>\n",
       "    <tr>\n",
       "      <td>trg</td>\n",
       "      <td>4863142</td>\n",
       "      <td>0.717897</td>\n",
       "      <td>-0.400941</td>\n",
       "      <td>8.553997</td>\n",
       "      <td>0.488313</td>\n",
       "      <td>0.238450</td>\n",
       "      <td>1045.522827</td>\n",
       "      <td>74.739243</td>\n",
       "      <td>68.233634</td>\n",
       "      <td>64.679828</td>\n",
       "      <td>62.140216</td>\n",
       "      <td>60.028849</td>\n",
       "      <td>57.994852</td>\n",
       "      <td>56.073136</td>\n",
       "      <td>54.304631</td>\n",
       "      <td>52.660935</td>\n",
       "      <td>0.976497</td>\n",
       "      <td>0.207103</td>\n",
       "      <td>0.079983</td>\n",
       "    </tr>\n",
       "    <tr>\n",
       "      <td>val</td>\n",
       "      <td>2431768</td>\n",
       "      <td>0.994822</td>\n",
       "      <td>0.023221</td>\n",
       "      <td>0.296888</td>\n",
       "      <td>0.009248</td>\n",
       "      <td>0.000086</td>\n",
       "      <td>13.362904</td>\n",
       "      <td>0.788221</td>\n",
       "      <td>0.719364</td>\n",
       "      <td>0.712403</td>\n",
       "      <td>0.710623</td>\n",
       "      <td>0.706464</td>\n",
       "      <td>0.698584</td>\n",
       "      <td>0.693281</td>\n",
       "      <td>0.690646</td>\n",
       "      <td>0.689115</td>\n",
       "      <td>0.972396</td>\n",
       "      <td>0.144649</td>\n",
       "      <td>0.062343</td>\n",
       "    </tr>\n",
       "    <tr>\n",
       "      <td>tst</td>\n",
       "      <td>2431768</td>\n",
       "      <td>0.989608</td>\n",
       "      <td>0.057154</td>\n",
       "      <td>-0.015887</td>\n",
       "      <td>-0.001922</td>\n",
       "      <td>0.000004</td>\n",
       "      <td>-0.770151</td>\n",
       "      <td>-0.041385</td>\n",
       "      <td>-0.036805</td>\n",
       "      <td>-0.035242</td>\n",
       "      <td>-0.034426</td>\n",
       "      <td>-0.033904</td>\n",
       "      <td>-0.033660</td>\n",
       "      <td>-0.033560</td>\n",
       "      <td>-0.033622</td>\n",
       "      <td>-0.033756</td>\n",
       "      <td>0.973128</td>\n",
       "      <td>0.143841</td>\n",
       "      <td>0.056018</td>\n",
       "    </tr>\n",
       "    <tr>\n",
       "      <td>full</td>\n",
       "      <td>9726284</td>\n",
       "      <td>0.855056</td>\n",
       "      <td>-0.191096</td>\n",
       "      <td>4.958169</td>\n",
       "      <td>0.227216</td>\n",
       "      <td>0.051627</td>\n",
       "      <td>673.066223</td>\n",
       "      <td>30.326161</td>\n",
       "      <td>25.389421</td>\n",
       "      <td>22.750565</td>\n",
       "      <td>20.886794</td>\n",
       "      <td>19.447666</td>\n",
       "      <td>18.268614</td>\n",
       "      <td>17.293267</td>\n",
       "      <td>16.467327</td>\n",
       "      <td>15.752419</td>\n",
       "      <td>0.974946</td>\n",
       "      <td>0.184335</td>\n",
       "      <td>0.078092</td>\n",
       "    </tr>\n",
       "  </tbody>\n",
       "</table>\n",
       "</div></font>"
      ],
      "text/plain": [
       "<IPython.core.display.HTML object>"
      ]
     },
     "metadata": {},
     "output_type": "display_data"
    },
    {
     "data": {
      "image/jpeg": "[encoded data removed]",
      "text/plain": [
       "<IPython.core.display.Image object>"
      ]
     },
     "metadata": {},
     "output_type": "display_data"
    }
   ],
   "source": [
    "# --- evaluate the Trained model ----\n",
    "%inline\n",
    "with mx.timer( 'predicting '):\n",
    "    Yh = model.to('cpu')( X_da.to_tensor( dtype=dtype, device='cpu' ) )\n",
    "    model.to( device )\n",
    "Yh_da = Yh.to_dataarray( da.loc[:,:,hps.responses] )\n",
    "\n",
    "fig = figure( figsize=(10, 10 ) )\n",
    "with mx.timer( 'regressing' ):    \n",
    "    reg = mx.Regression( autocorr=[1, 13, 26] )\n",
    "    rms = []\n",
    "    for i, (smp, mask) in pbar( enumerate( [('trg', hps.trg_mask), ('val', hps.val_mask), ('tst',hps.tst_mask), ('full', np.arange( len( Y_da ) ) ) ] ) ):\n",
    "        # cut out the stuff I added to the datasets for priming\n",
    "        rm = reg.regress( Yh_da[mask], da.loc[:,:,hps.responses][mask] )    \n",
    "        ax = subplot( 2,2, i+1 )\n",
    "        ax.plot( rm.pop('pnl').cumsum() )\n",
    "        ax.set_title( smp, fontsize=15 )\n",
    "        hr = rm.pop('hitRate')\n",
    "        rm['sample'] = smp\n",
    "        rms.append( rm )\n",
    "disp( 'Trained model ', h= 1)\n",
    "disp( pd.DataFrame( rms ).set_index('sample') )\n",
    "disp( fig )"
   ]
  },
  {
   "cell_type": "code",
   "execution_count": null,
   "metadata": {},
   "outputs": [],
   "source": [
    "X_da.shape"
   ]
  },
  {
   "cell_type": "code",
   "execution_count": null,
   "metadata": {
    "scrolled": false
   },
   "outputs": [],
   "source": [
    "# plot partial dependency\n",
    "##############################################\n",
    "%inline\n",
    "fig = figure( figsize=(20, 20 ) )\n",
    "for i in range(X_da.shape[-1]):\n",
    "    subplot( 4, 4, i+1 )\n",
    "    plot( X_da[:,:,i].to_series(), Yh_da.to_series() , '.', alpha=0.3 )"
   ]
  },
  {
   "cell_type": "code",
   "execution_count": null,
   "metadata": {
    "code_folding": [
     0
    ]
   },
   "outputs": [],
   "source": [
    "# run a grid of hyperparameters ...\n",
    "####################################\n",
    "\n",
    "# hyperparameters\n",
    "mx.Config.hps = fr.HPSet( \n",
    "  \n",
    ")\n",
    "mx.Config.code = ''\n",
    "\n",
    "# configs = []\n",
    "# for obs_weight in ['no_weight', 'dollar_weight', 'log_weight']:\n",
    "#     cfg = fr.Config.clone()\n",
    "#     cfg.hps = cfg.hps.clone( obs_weight=obs_weight )\n",
    "#     cfg.freeze()\n",
    "#     display_html( cfg )\n",
    "#     configs.append( cfg )\n",
    "# notebook = fr.Config.run_grid( configs, outfile=fr.Config.uri+'/../cadre_price_index.20200302 - weight_grid_results.ipynb', n_jobs=None )\n",
    "\n",
    "configs = []\n",
    "fr.Config.hps.obs_weight = 'log_weight'\n",
    "for cbsa_factors in [5, 8, 10]:\n",
    "    cfg = fr.Config.clone()\n",
    "    cfg.hps = cfg.hps.clone( cbsa_factors=cbsa_factors )\n",
    "    cfg.freeze()\n",
    "    #display_html( cfg )\n",
    "    configs.append( cfg )\n",
    "notebook = fr.Config.run_grid( configs, outfile=fr.Config.uri+'/../grid_results.ipynb', n_jobs=None )\n",
    "\n",
    "\n",
    "# fr.Config.hps.obs_weight = 'log_weight'\n",
    "# fr.Config.hps.cbsa_factors = 8\n",
    "# configs = []\n",
    "# for tv in [1, 1e-1, 1e-2, 1e-3]:\n",
    "#     cfg = fr.Config.clone()\n",
    "#     cfg.hps = cfg.hps.clone( obs_weight=obs_weight )\n",
    "#     cfg.freeze()\n",
    "#     #display_html( cfg )\n",
    "#     configs.append( cfg )\n",
    "# notebook = fr.Config.run_grid( configs, outfile=fr.Config.uri+'/../cadre_price_index.20200302 - tv_grid_results.ipynb', n_jobs=None )\n",
    "\n",
    "\n"
   ]
  }
 ],
 "metadata": {
  "kernelspec": {
   "display_name": "Python 3",
   "language": "python",
   "name": "python3"
  },
  "language_info": {
   "codemirror_mode": {
    "name": "ipython",
    "version": 3
   },
   "file_extension": ".py",
   "mimetype": "text/x-python",
   "name": "python",
   "nbconvert_exporter": "python",
   "pygments_lexer": "ipython3",
   "version": "3.7.4"
  }
 },
 "nbformat": 4,
 "nbformat_minor": 2
}
