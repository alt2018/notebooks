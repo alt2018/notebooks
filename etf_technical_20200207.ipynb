{
 "cells": [
  {
   "cell_type": "markdown",
   "metadata": {},
   "source": [
    "# Clean up the data from kibot \n",
    "* matched with polygon and pidata where possible\n"
   ]
  },
  {
   "cell_type": "code",
   "execution_count": 1,
   "metadata": {
    "code_folding": [],
    "run_control": {
     "marked": true
    }
   },
   "outputs": [
    {
     "name": "stdout",
     "output_type": "stream",
     "text": [
      "Created `%nbagg` as an alias for `%matplotlib nbagg`.\n",
      "Created `%inline` as an alias for `%matplotlib inline`.\n"
     ]
    },
    {
     "data": {
      "text/plain": [
       "<IPython.core.display.Javascript object>"
      ]
     },
     "metadata": {},
     "output_type": "display_data"
    },
    {
     "data": {
      "text/html": [
       "<font face=\"Courier New\" color=\"teal\"> &nbsp;&nbsp Stopped tensorboard logger in <strong> /home/fj/experiments/etf_technical_20200207/none/tensorboard </strong></font>"
      ],
      "text/plain": [
       "<IPython.core.display.HTML object>"
      ]
     },
     "metadata": {},
     "output_type": "execute_result"
    },
    {
     "data": {
      "text/html": [
       "<font face=\"Courier New\" color=\"teal\"> &nbsp;&nbsp Started tensorboard logger in <strong> /home/fj/experiments/etf_technical_20200207/none/tensorboard </strong></font>"
      ],
      "text/plain": [
       "<IPython.core.display.HTML object>"
      ]
     },
     "metadata": {},
     "output_type": "execute_result"
    },
    {
     "data": {
      "text/html": [
       "<p style=\"background-color:hsl(20,70%,80%) \"><font face=\"Courier New\" size=2 color=\"green\"> &nbsp;&nbsp none:: could not start mlflow</font></p>"
      ],
      "text/plain": [
       "<IPython.core.display.HTML object>"
      ]
     },
     "metadata": {},
     "output_type": "execute_result"
    },
    {
     "data": {
      "text/html": [
       "<p style=\"background-color:hsl(20,70%,80%) \"><font face=\"Courier New\" size=2 color=\"green\"> &nbsp;&nbsp none:: could not start Checkpoint callbac</font></p>"
      ],
      "text/plain": [
       "<IPython.core.display.HTML object>"
      ]
     },
     "metadata": {},
     "output_type": "execute_result"
    },
    {
     "data": {
      "text/html": [
       "<font face=\"Courier New\"><h1> Config etf_technical_20200207 </h1><br><b> hash</b>: none </h4><br><b> uri </b>: /home/fj/experiments/etf_technical_20200207/none<br><b> frozen </b>: False<br><h3> Hyperparameters </h3><br>None<h3> Code </h3><br><b> format </b>: None<br><b> code </b> : None<br><br></font>"
      ],
      "text/plain": [
       "<h1> Config etf_technical_20200207 </h1>\n",
       "<b> hash</b>: none </h4>\n",
       "<b> uri </b>: /home/fj/experiments/etf_technical_20200207/none\n",
       "<b> frozen </b>: False\n",
       "<h3> Hyperparameters </h3>\n",
       "None<h3> Code </h3>\n",
       "<b> format </b>: None\n",
       "<b> code </b> : None\n"
      ]
     },
     "execution_count": 1,
     "metadata": {},
     "output_type": "execute_result"
    }
   ],
   "source": [
    "# preamble\n",
    "%alias_magic  nbagg matplotlib -p nbagg\n",
    "%alias_magic  inline matplotlib -p inline\n",
    "%load_ext memory_profiler\n",
    "\n",
    "from madmax.api import *\n",
    "from pylab import *\n",
    "mx = mx.reload()\n",
    "mxtr = mxtr.reload()\n",
    "\n",
    "# create a configuration\n",
    "mx.Config.name = 'etf_technical_20200207'\n",
    "mx.Config.start()\n",
    "mx.Config\n"
   ]
  },
  {
   "cell_type": "code",
   "execution_count": 2,
   "metadata": {
    "run_control": {
     "marked": true
    },
    "scrolled": false
   },
   "outputs": [
    {
     "data": {
      "text/html": [
       "<p style=\"background-color:hsl(20,70%,80%) \"><font face=\"Courier New\" size=2 color=\"green\"> &nbsp;&nbsp Chain (chain)|(chain.py::87) &nbsp;&nbsp;&nbsp;&nbspWARNING features=None or data=(not set) attached to Fix will be ignored. If you want to pass features, set via Chain.append( op, features=...)</font></p>"
      ],
      "text/plain": [
       "<IPython.core.display.HTML object>"
      ]
     },
     "metadata": {},
     "output_type": "execute_result"
    },
    {
     "name": "stdout",
     "output_type": "stream",
     "text": [
      "expected LaggingReturnsComputer_332dda773 got LaggingReturnsComputer_332dda773\n"
     ]
    },
    {
     "data": {
      "text/html": [
       "<font face=\"Courier New\"> &nbsp;&nbsp  <font face=\"Courier New\" size=2>'\n",
       "        <h3> Chain (chain) </h3>\n",
       "        <h5>Data </h5>\n",
       "        <font face=\"Courier New\">DataSource ( ### ) <br><br>        Arguments<br>        ---------<br>        <br>&nbsp;&nbsp;&nbsp;&nbsp;datatype=dataframe<br>&nbsp;&nbsp;&nbsp;&nbsp;source_args=OrderedDict([('source', '/home/fj/data/polygon/US/price_data_correct_tz.parquet'), ('format', 'parquet'), ('additional_args', OrderedDict())])<br><br>        Inputs<br>        ------<br>        self.data = (Not displayed)<br>        self.features =  (Not Used) None<br>        <br><br>        Configuration<br>        -------------<br>        consumes_features = False<br>        produces_features = True<br>        produces_meta = True<br>        verbose = False<br>        memoize = False<br>        compactify = True<br>        </font>\n",
       "        <h5>Features</h5>\n",
       "        []\n",
       "        <br><br>\n",
       "        <div>\n",
       "<style scoped>\n",
       "    .dataframe tbody tr th:only-of-type {\n",
       "        vertical-align: middle;\n",
       "    }\n",
       "\n",
       "    .dataframe tbody tr th {\n",
       "        vertical-align: top;\n",
       "    }\n",
       "\n",
       "    .dataframe thead th {\n",
       "        text-align: right;\n",
       "    }\n",
       "</style>\n",
       "<table border=\"1\" class=\"dataframe\">\n",
       "  <thead>\n",
       "    <tr style=\"text-align: right;\">\n",
       "      <th></th>\n",
       "      <th>name</th>\n",
       "      <th>operator</th>\n",
       "      <th>run_hash</th>\n",
       "      <th>features</th>\n",
       "      <th>consumed_features</th>\n",
       "      <th>produced_features</th>\n",
       "      <th>verbose</th>\n",
       "      <th>memoize</th>\n",
       "      <th>compactify</th>\n",
       "      <th>priming</th>\n",
       "    </tr>\n",
       "  </thead>\n",
       "  <tbody>\n",
       "    <tr>\n",
       "      <td>0</td>\n",
       "      <td>Fix</td>\n",
       "      <td>\\n        Fix ( Fix_9bb9670f6 )\\n        Argum...</td>\n",
       "      <td>Fix_9bb9670f6</td>\n",
       "      <td>NaN</td>\n",
       "      <td>[]</td>\n",
       "      <td>[high, low, open, close]</td>\n",
       "      <td>False</td>\n",
       "      <td>md</td>\n",
       "      <td>False</td>\n",
       "      <td>None</td>\n",
       "    </tr>\n",
       "    <tr>\n",
       "      <td>1</td>\n",
       "      <td>LeadingReturnsComputer</td>\n",
       "      <td>LeadingReturnsComputer ( LeadingReturnsCompute...</td>\n",
       "      <td>LeadingReturnsComputer_e10f7ccb8</td>\n",
       "      <td>[high, low, open, close]</td>\n",
       "      <td>[high, low, open, close]</td>\n",
       "      <td>[high_leading.1_rtn, low_leading.1_rtn, open_l...</td>\n",
       "      <td>1</td>\n",
       "      <td>d</td>\n",
       "      <td>True</td>\n",
       "      <td>Priming ( ### ) \\n\\n        Arguments\\n       ...</td>\n",
       "    </tr>\n",
       "    <tr>\n",
       "      <td>2</td>\n",
       "      <td>LaggingReturnsComputer</td>\n",
       "      <td>LaggingReturnsComputer ( LaggingReturnsCompute...</td>\n",
       "      <td>LaggingReturnsComputer_332dda773</td>\n",
       "      <td>[high, low, open, close]</td>\n",
       "      <td>[high, low, open, close]</td>\n",
       "      <td>[high_lagging.1_rtn, low_lagging.1_rtn, open_l...</td>\n",
       "      <td>1</td>\n",
       "      <td>d</td>\n",
       "      <td>True</td>\n",
       "      <td>Priming ( ### ) \\n\\n        Arguments\\n       ...</td>\n",
       "    </tr>\n",
       "  </tbody>\n",
       "</table>\n",
       "</div>\n",
       "        </font>\n",
       "        </font>"
      ],
      "text/plain": [
       "<IPython.core.display.HTML object>"
      ]
     },
     "metadata": {},
     "output_type": "execute_result"
    },
    {
     "name": "stdout",
     "output_type": "stream",
     "text": [
      "expected dataset_to_dataarray_433ddb86d  got  dataset_to_dataarray_433ddb86d\n"
     ]
    }
   ],
   "source": [
    "# load the polygon data\n",
    "@mx.operatorize( consumes_features=False, produces_features=True )\n",
    "def Fix( df ):\n",
    "    df = df[['adv', 'bad_adj_data', 'close', 'close_unadj', 'figi', \n",
    "             'high', 'high_unadj', 'low', 'low_unadj', 'name',\n",
    "             'open', 'open_unadj', 'symbol', 'volume', 'volume_unadj']]\n",
    "    df.index = df.index.tz_localize(None)\n",
    "    df = df.set_index( 'symbol', append=True )\n",
    "    return df, ['high', 'low', 'open', 'close']    \n",
    "    \n",
    "\n",
    "features = ['high', 'low', 'open', 'close']    \n",
    "if True:\n",
    "    chain = mx.Chain().set(\n",
    "        data=mx.DataSource.dataframe( os.environ['HOME'] + '/data/polygon/US/price_data_correct_tz.parquet' ),  \n",
    "        features=None, verbose=False,\n",
    "    )\n",
    "    chain += Fix().set( memoize='md' )    \n",
    "    chain.append( mx.Transforms.returns( sid=1 ).leading( max_gap='5D' ).set(verbose=True, memoize='d' ), features=features )\n",
    "    chain.append( mx.Transforms.returns( sid=1 ).lagging( max_gap='5D' ).set(verbose=True, memoize='d' ), features=features )\n",
    "    poly_df = chain()\n",
    "    \n",
    "    print( 'expected LaggingReturnsComputer_332dda773 got', chain[-1].hash() )\n",
    "    disp( chain )\n",
    "    df2da = mx.DataFrameToDataArrayChained( float ).set(\n",
    "       compactify=True, memoize='md', verbose=False,\n",
    "    )   \n",
    "    poly_da = df2da( data=chain[-1] )\n",
    "    print( 'expected dataset_to_dataarray_433ddb86d  got ', df2da[1].hash() )\n",
    "    \n",
    "# display( df2da )\n",
    "# # mx.MEMORY_CACHE.clean_all()"
   ]
  },
  {
   "cell_type": "code",
   "execution_count": 3,
   "metadata": {
    "run_control": {
     "marked": true
    },
    "scrolled": true
   },
   "outputs": [
    {
     "data": {
      "text/plain": [
       "HBox(children=(IntProgress(value=0, max=200), HTML(value='')))"
      ]
     },
     "metadata": {},
     "output_type": "display_data"
    },
    {
     "name": "stdout",
     "output_type": "stream",
     "text": [
      "\n"
     ]
    },
    {
     "data": {
      "text/plain": [
       "HBox(children=(IntProgress(value=0, max=200), HTML(value='')))"
      ]
     },
     "metadata": {},
     "output_type": "display_data"
    },
    {
     "data": {
      "text/html": [
       "<font face=\"Courier New\" size=2 color=\"green\"> &nbsp;&nbsp etf_data_8fcf94118|(<ipython-input-3-fa54dc64d297>::39) &nbsp;&nbsp;&nbsp;&nbspReading kibot eod data ---- (starting) </font>"
      ],
      "text/plain": [
       "<IPython.core.display.HTML object>"
      ]
     },
     "metadata": {},
     "output_type": "execute_result"
    },
    {
     "data": {
      "text/html": [
       "<font face=\"Courier New\" size=2 color=\"green\"> &nbsp;&nbsp  etf_data_8fcf94118|(<ipython-input-3-fa54dc64d297>::39) &nbsp;&nbsp;&nbsp;&nbspReading kibot eod data took 0.02s ---- (done)</font>"
      ],
      "text/plain": [
       "<IPython.core.display.HTML object>"
      ]
     },
     "metadata": {},
     "output_type": "execute_result"
    },
    {
     "data": {
      "text/html": [
       "<font face=\"Courier New\" size=2 color=\"green\"> &nbsp;&nbsp etf_data_8fcf94118|(<ipython-input-3-fa54dc64d297>::46) &nbsp;&nbsp;&nbsp;&nbspReading kibot 5min data ---- (starting) </font>"
      ],
      "text/plain": [
       "<IPython.core.display.HTML object>"
      ]
     },
     "metadata": {},
     "output_type": "execute_result"
    },
    {
     "data": {
      "text/html": [
       "<font face=\"Courier New\" size=2 color=\"green\"> &nbsp;&nbsp  etf_data_8fcf94118|(<ipython-input-3-fa54dc64d297>::46) &nbsp;&nbsp;&nbsp;&nbspReading kibot 5min data took 0.48s ---- (done)</font>"
      ],
      "text/plain": [
       "<IPython.core.display.HTML object>"
      ]
     },
     "metadata": {},
     "output_type": "execute_result"
    },
    {
     "data": {
      "text/html": [
       "<font face=\"Courier New\" size=2 color=\"green\"> &nbsp;&nbsp etf_data_8fcf94118|(<ipython-input-3-fa54dc64d297>::53) &nbsp;&nbsp;&nbsp;&nbspReading polygon data ---- (starting) </font>"
      ],
      "text/plain": [
       "<IPython.core.display.HTML object>"
      ]
     },
     "metadata": {},
     "output_type": "execute_result"
    },
    {
     "name": "stderr",
     "output_type": "stream",
     "text": [
      "/home/fj/anaconda3/lib/python3.7/site-packages/ipykernel_launcher.py:57: SettingWithCopyWarning: \n",
      "A value is trying to be set on a copy of a slice from a DataFrame.\n",
      "Try using .loc[row_indexer,col_indexer] = value instead\n",
      "\n",
      "See the caveats in the documentation: http://pandas.pydata.org/pandas-docs/stable/user_guide/indexing.html#returning-a-view-versus-a-copy\n",
      "/home/fj/anaconda3/lib/python3.7/site-packages/ipykernel_launcher.py:58: SettingWithCopyWarning: \n",
      "A value is trying to be set on a copy of a slice from a DataFrame.\n",
      "Try using .loc[row_indexer,col_indexer] = value instead\n",
      "\n",
      "See the caveats in the documentation: http://pandas.pydata.org/pandas-docs/stable/user_guide/indexing.html#returning-a-view-versus-a-copy\n"
     ]
    },
    {
     "data": {
      "text/html": [
       "<font face=\"Courier New\" size=2 color=\"green\"> &nbsp;&nbsp  etf_data_8fcf94118|(<ipython-input-3-fa54dc64d297>::53) &nbsp;&nbsp;&nbsp;&nbspReading polygon data took 0.08s ---- (done)</font>"
      ],
      "text/plain": [
       "<IPython.core.display.HTML object>"
      ]
     },
     "metadata": {},
     "output_type": "execute_result"
    },
    {
     "data": {
      "text/html": [
       "<font face=\"Courier New\" size=2 color=\"green\"> &nbsp;&nbsp etf_data_8fcf94118|(<ipython-input-3-fa54dc64d297>::73) &nbsp;&nbsp;&nbsp;&nbspmatching against polygon ---- (starting) </font>"
      ],
      "text/plain": [
       "<IPython.core.display.HTML object>"
      ]
     },
     "metadata": {},
     "output_type": "execute_result"
    },
    {
     "data": {
      "text/html": [
       "<font face=\"Courier New\" size=2 color=\"green\"> &nbsp;&nbsp  etf_data_8fcf94118|(<ipython-input-3-fa54dc64d297>::73) &nbsp;&nbsp;&nbsp;&nbspmatching against polygon took 0.02s ---- (done)</font>"
      ],
      "text/plain": [
       "<IPython.core.display.HTML object>"
      ]
     },
     "metadata": {},
     "output_type": "execute_result"
    },
    {
     "data": {
      "text/html": [
       "<font face=\"Courier New\" size=2 color=\"green\"> &nbsp;&nbsp etf_data_9f8d0e537|(<ipython-input-3-fa54dc64d297>::39) &nbsp;&nbsp;&nbsp;&nbspReading kibot eod data ---- (starting) </font>"
      ],
      "text/plain": [
       "<IPython.core.display.HTML object>"
      ]
     },
     "metadata": {},
     "output_type": "execute_result"
    },
    {
     "data": {
      "text/html": [
       "<font face=\"Courier New\" size=2 color=\"green\"> &nbsp;&nbsp  etf_data_9f8d0e537|(<ipython-input-3-fa54dc64d297>::39) &nbsp;&nbsp;&nbsp;&nbspReading kibot eod data took 0.02s ---- (done)</font>"
      ],
      "text/plain": [
       "<IPython.core.display.HTML object>"
      ]
     },
     "metadata": {},
     "output_type": "execute_result"
    },
    {
     "data": {
      "text/html": [
       "<font face=\"Courier New\" size=2 color=\"green\"> &nbsp;&nbsp etf_data_9f8d0e537|(<ipython-input-3-fa54dc64d297>::46) &nbsp;&nbsp;&nbsp;&nbspReading kibot 5min data ---- (starting) </font>"
      ],
      "text/plain": [
       "<IPython.core.display.HTML object>"
      ]
     },
     "metadata": {},
     "output_type": "execute_result"
    },
    {
     "data": {
      "text/html": [
       "<font face=\"Courier New\" size=2 color=\"green\"> &nbsp;&nbsp  etf_data_9f8d0e537|(<ipython-input-3-fa54dc64d297>::46) &nbsp;&nbsp;&nbsp;&nbspReading kibot 5min data took 0.48s ---- (done)</font>"
      ],
      "text/plain": [
       "<IPython.core.display.HTML object>"
      ]
     },
     "metadata": {},
     "output_type": "execute_result"
    },
    {
     "data": {
      "text/html": [
       "<font face=\"Courier New\" size=2 color=\"green\"> &nbsp;&nbsp etf_data_9f8d0e537|(<ipython-input-3-fa54dc64d297>::53) &nbsp;&nbsp;&nbsp;&nbspReading polygon data ---- (starting) </font>"
      ],
      "text/plain": [
       "<IPython.core.display.HTML object>"
      ]
     },
     "metadata": {},
     "output_type": "execute_result"
    },
    {
     "data": {
      "text/html": [
       "<font face=\"Courier New\" size=2 color=\"green\"> &nbsp;&nbsp  etf_data_9f8d0e537|(<ipython-input-3-fa54dc64d297>::53) &nbsp;&nbsp;&nbsp;&nbspReading polygon data took 0.08s ---- (done)</font>"
      ],
      "text/plain": [
       "<IPython.core.display.HTML object>"
      ]
     },
     "metadata": {},
     "output_type": "execute_result"
    },
    {
     "data": {
      "text/html": [
       "<font face=\"Courier New\" size=2 color=\"green\"> &nbsp;&nbsp etf_data_9f8d0e537|(<ipython-input-3-fa54dc64d297>::73) &nbsp;&nbsp;&nbsp;&nbspmatching against polygon ---- (starting) </font>"
      ],
      "text/plain": [
       "<IPython.core.display.HTML object>"
      ]
     },
     "metadata": {},
     "output_type": "execute_result"
    },
    {
     "data": {
      "text/html": [
       "<font face=\"Courier New\" size=2 color=\"green\"> &nbsp;&nbsp  etf_data_9f8d0e537|(<ipython-input-3-fa54dc64d297>::73) &nbsp;&nbsp;&nbsp;&nbspmatching against polygon took 0.02s ---- (done)</font>"
      ],
      "text/plain": [
       "<IPython.core.display.HTML object>"
      ]
     },
     "metadata": {},
     "output_type": "execute_result"
    },
    {
     "data": {
      "text/html": [
       "<font face=\"Courier New\" size=2 color=\"green\"> &nbsp;&nbsp etf_data_aed21f01e|(<ipython-input-3-fa54dc64d297>::39) &nbsp;&nbsp;&nbsp;&nbspReading kibot eod data ---- (starting) </font>"
      ],
      "text/plain": [
       "<IPython.core.display.HTML object>"
      ]
     },
     "metadata": {},
     "output_type": "execute_result"
    },
    {
     "data": {
      "text/html": [
       "<font face=\"Courier New\" size=2 color=\"green\"> &nbsp;&nbsp  etf_data_aed21f01e|(<ipython-input-3-fa54dc64d297>::39) &nbsp;&nbsp;&nbsp;&nbspReading kibot eod data took 0.03s ---- (done)</font>"
      ],
      "text/plain": [
       "<IPython.core.display.HTML object>"
      ]
     },
     "metadata": {},
     "output_type": "execute_result"
    },
    {
     "data": {
      "text/html": [
       "<font face=\"Courier New\" size=2 color=\"green\"> &nbsp;&nbsp etf_data_aed21f01e|(<ipython-input-3-fa54dc64d297>::46) &nbsp;&nbsp;&nbsp;&nbspReading kibot 5min data ---- (starting) </font>"
      ],
      "text/plain": [
       "<IPython.core.display.HTML object>"
      ]
     },
     "metadata": {},
     "output_type": "execute_result"
    },
    {
     "data": {
      "text/html": [
       "<font face=\"Courier New\" size=2 color=\"green\"> &nbsp;&nbsp  etf_data_aed21f01e|(<ipython-input-3-fa54dc64d297>::46) &nbsp;&nbsp;&nbsp;&nbspReading kibot 5min data took 0.58s ---- (done)</font>"
      ],
      "text/plain": [
       "<IPython.core.display.HTML object>"
      ]
     },
     "metadata": {},
     "output_type": "execute_result"
    },
    {
     "data": {
      "text/html": [
       "<font face=\"Courier New\" size=2 color=\"green\"> &nbsp;&nbsp etf_data_aed21f01e|(<ipython-input-3-fa54dc64d297>::53) &nbsp;&nbsp;&nbsp;&nbspReading polygon data ---- (starting) </font>"
      ],
      "text/plain": [
       "<IPython.core.display.HTML object>"
      ]
     },
     "metadata": {},
     "output_type": "execute_result"
    },
    {
     "data": {
      "text/html": [
       "<font face=\"Courier New\" size=2 color=\"green\"> &nbsp;&nbsp  etf_data_aed21f01e|(<ipython-input-3-fa54dc64d297>::53) &nbsp;&nbsp;&nbsp;&nbspReading polygon data took 0.08s ---- (done)</font>"
      ],
      "text/plain": [
       "<IPython.core.display.HTML object>"
      ]
     },
     "metadata": {},
     "output_type": "execute_result"
    },
    {
     "data": {
      "text/html": [
       "<font face=\"Courier New\" size=2 color=\"green\"> &nbsp;&nbsp etf_data_aed21f01e|(<ipython-input-3-fa54dc64d297>::73) &nbsp;&nbsp;&nbsp;&nbspmatching against polygon ---- (starting) </font>"
      ],
      "text/plain": [
       "<IPython.core.display.HTML object>"
      ]
     },
     "metadata": {},
     "output_type": "execute_result"
    },
    {
     "data": {
      "text/html": [
       "<font face=\"Courier New\" size=2 color=\"green\"> &nbsp;&nbsp  etf_data_aed21f01e|(<ipython-input-3-fa54dc64d297>::73) &nbsp;&nbsp;&nbsp;&nbspmatching against polygon took 0.02s ---- (done)</font>"
      ],
      "text/plain": [
       "<IPython.core.display.HTML object>"
      ]
     },
     "metadata": {},
     "output_type": "execute_result"
    },
    {
     "data": {
      "text/html": [
       "<font face=\"Courier New\" size=2 color=\"green\"> &nbsp;&nbsp etf_data_15215b677|(<ipython-input-3-fa54dc64d297>::39) &nbsp;&nbsp;&nbsp;&nbspReading kibot eod data ---- (starting) </font>"
      ],
      "text/plain": [
       "<IPython.core.display.HTML object>"
      ]
     },
     "metadata": {},
     "output_type": "execute_result"
    },
    {
     "data": {
      "text/html": [
       "<font face=\"Courier New\" size=2 color=\"green\"> &nbsp;&nbsp  etf_data_15215b677|(<ipython-input-3-fa54dc64d297>::39) &nbsp;&nbsp;&nbsp;&nbspReading kibot eod data took 0.02s ---- (done)</font>"
      ],
      "text/plain": [
       "<IPython.core.display.HTML object>"
      ]
     },
     "metadata": {},
     "output_type": "execute_result"
    },
    {
     "data": {
      "text/html": [
       "<font face=\"Courier New\" size=2 color=\"green\"> &nbsp;&nbsp etf_data_15215b677|(<ipython-input-3-fa54dc64d297>::46) &nbsp;&nbsp;&nbsp;&nbspReading kibot 5min data ---- (starting) </font>"
      ],
      "text/plain": [
       "<IPython.core.display.HTML object>"
      ]
     },
     "metadata": {},
     "output_type": "execute_result"
    },
    {
     "data": {
      "text/html": [
       "<font face=\"Courier New\" size=2 color=\"green\"> &nbsp;&nbsp  etf_data_15215b677|(<ipython-input-3-fa54dc64d297>::46) &nbsp;&nbsp;&nbsp;&nbspReading kibot 5min data took 0.51s ---- (done)</font>"
      ],
      "text/plain": [
       "<IPython.core.display.HTML object>"
      ]
     },
     "metadata": {},
     "output_type": "execute_result"
    },
    {
     "data": {
      "text/html": [
       "<font face=\"Courier New\" size=2 color=\"green\"> &nbsp;&nbsp etf_data_15215b677|(<ipython-input-3-fa54dc64d297>::53) &nbsp;&nbsp;&nbsp;&nbspReading polygon data ---- (starting) </font>"
      ],
      "text/plain": [
       "<IPython.core.display.HTML object>"
      ]
     },
     "metadata": {},
     "output_type": "execute_result"
    },
    {
     "data": {
      "text/html": [
       "<font face=\"Courier New\" size=2 color=\"green\"> &nbsp;&nbsp  etf_data_15215b677|(<ipython-input-3-fa54dc64d297>::53) &nbsp;&nbsp;&nbsp;&nbspReading polygon data took 0.08s ---- (done)</font>"
      ],
      "text/plain": [
       "<IPython.core.display.HTML object>"
      ]
     },
     "metadata": {},
     "output_type": "execute_result"
    },
    {
     "data": {
      "text/html": [
       "<font face=\"Courier New\" size=2 color=\"green\"> &nbsp;&nbsp etf_data_15215b677|(<ipython-input-3-fa54dc64d297>::73) &nbsp;&nbsp;&nbsp;&nbspmatching against polygon ---- (starting) </font>"
      ],
      "text/plain": [
       "<IPython.core.display.HTML object>"
      ]
     },
     "metadata": {},
     "output_type": "execute_result"
    },
    {
     "data": {
      "text/html": [
       "<font face=\"Courier New\" size=2 color=\"green\"> &nbsp;&nbsp  etf_data_15215b677|(<ipython-input-3-fa54dc64d297>::73) &nbsp;&nbsp;&nbsp;&nbspmatching against polygon took 0.02s ---- (done)</font>"
      ],
      "text/plain": [
       "<IPython.core.display.HTML object>"
      ]
     },
     "metadata": {},
     "output_type": "execute_result"
    },
    {
     "data": {
      "text/html": [
       "<font face=\"Courier New\" size=2 color=\"green\"> &nbsp;&nbsp etf_data_8fa8206ed|(<ipython-input-3-fa54dc64d297>::39) &nbsp;&nbsp;&nbsp;&nbspReading kibot eod data ---- (starting) </font>"
      ],
      "text/plain": [
       "<IPython.core.display.HTML object>"
      ]
     },
     "metadata": {},
     "output_type": "execute_result"
    },
    {
     "data": {
      "text/html": [
       "<font face=\"Courier New\" size=2 color=\"green\"> &nbsp;&nbsp  etf_data_8fa8206ed|(<ipython-input-3-fa54dc64d297>::39) &nbsp;&nbsp;&nbsp;&nbspReading kibot eod data took 0.02s ---- (done)</font>"
      ],
      "text/plain": [
       "<IPython.core.display.HTML object>"
      ]
     },
     "metadata": {},
     "output_type": "execute_result"
    },
    {
     "data": {
      "text/html": [
       "<font face=\"Courier New\" size=2 color=\"green\"> &nbsp;&nbsp etf_data_8fa8206ed|(<ipython-input-3-fa54dc64d297>::46) &nbsp;&nbsp;&nbsp;&nbspReading kibot 5min data ---- (starting) </font>"
      ],
      "text/plain": [
       "<IPython.core.display.HTML object>"
      ]
     },
     "metadata": {},
     "output_type": "execute_result"
    },
    {
     "data": {
      "text/html": [
       "<font face=\"Courier New\" size=2 color=\"green\"> &nbsp;&nbsp  etf_data_8fa8206ed|(<ipython-input-3-fa54dc64d297>::46) &nbsp;&nbsp;&nbsp;&nbspReading kibot 5min data took 0.57s ---- (done)</font>"
      ],
      "text/plain": [
       "<IPython.core.display.HTML object>"
      ]
     },
     "metadata": {},
     "output_type": "execute_result"
    },
    {
     "data": {
      "text/html": [
       "<font face=\"Courier New\" size=2 color=\"green\"> &nbsp;&nbsp etf_data_8fa8206ed|(<ipython-input-3-fa54dc64d297>::53) &nbsp;&nbsp;&nbsp;&nbspReading polygon data ---- (starting) </font>"
      ],
      "text/plain": [
       "<IPython.core.display.HTML object>"
      ]
     },
     "metadata": {},
     "output_type": "execute_result"
    },
    {
     "data": {
      "text/html": [
       "<font face=\"Courier New\" size=2 color=\"green\"> &nbsp;&nbsp  etf_data_8fa8206ed|(<ipython-input-3-fa54dc64d297>::53) &nbsp;&nbsp;&nbsp;&nbspReading polygon data took 0.08s ---- (done)</font>"
      ],
      "text/plain": [
       "<IPython.core.display.HTML object>"
      ]
     },
     "metadata": {},
     "output_type": "execute_result"
    },
    {
     "data": {
      "text/html": [
       "<font face=\"Courier New\" size=2 color=\"green\"> &nbsp;&nbsp etf_data_8fa8206ed|(<ipython-input-3-fa54dc64d297>::73) &nbsp;&nbsp;&nbsp;&nbspmatching against polygon ---- (starting) </font>"
      ],
      "text/plain": [
       "<IPython.core.display.HTML object>"
      ]
     },
     "metadata": {},
     "output_type": "execute_result"
    },
    {
     "data": {
      "text/html": [
       "<font face=\"Courier New\" size=2 color=\"green\"> &nbsp;&nbsp  etf_data_8fa8206ed|(<ipython-input-3-fa54dc64d297>::73) &nbsp;&nbsp;&nbsp;&nbspmatching against polygon took 0.02s ---- (done)</font>"
      ],
      "text/plain": [
       "<IPython.core.display.HTML object>"
      ]
     },
     "metadata": {},
     "output_type": "execute_result"
    },
    {
     "data": {
      "text/html": [
       "<font face=\"Courier New\" size=2 color=\"green\"> &nbsp;&nbsp etf_data_df715bd80|(<ipython-input-3-fa54dc64d297>::39) &nbsp;&nbsp;&nbsp;&nbspReading kibot eod data ---- (starting) </font>"
      ],
      "text/plain": [
       "<IPython.core.display.HTML object>"
      ]
     },
     "metadata": {},
     "output_type": "execute_result"
    },
    {
     "data": {
      "text/html": [
       "<font face=\"Courier New\" size=2 color=\"green\"> &nbsp;&nbsp  etf_data_df715bd80|(<ipython-input-3-fa54dc64d297>::39) &nbsp;&nbsp;&nbsp;&nbspReading kibot eod data took 0.02s ---- (done)</font>"
      ],
      "text/plain": [
       "<IPython.core.display.HTML object>"
      ]
     },
     "metadata": {},
     "output_type": "execute_result"
    },
    {
     "data": {
      "text/html": [
       "<font face=\"Courier New\" size=2 color=\"green\"> &nbsp;&nbsp etf_data_df715bd80|(<ipython-input-3-fa54dc64d297>::46) &nbsp;&nbsp;&nbsp;&nbspReading kibot 5min data ---- (starting) </font>"
      ],
      "text/plain": [
       "<IPython.core.display.HTML object>"
      ]
     },
     "metadata": {},
     "output_type": "execute_result"
    },
    {
     "data": {
      "text/html": [
       "<font face=\"Courier New\" size=2 color=\"green\"> &nbsp;&nbsp  etf_data_df715bd80|(<ipython-input-3-fa54dc64d297>::46) &nbsp;&nbsp;&nbsp;&nbspReading kibot 5min data took 0.61s ---- (done)</font>"
      ],
      "text/plain": [
       "<IPython.core.display.HTML object>"
      ]
     },
     "metadata": {},
     "output_type": "execute_result"
    },
    {
     "data": {
      "text/html": [
       "<font face=\"Courier New\" size=2 color=\"green\"> &nbsp;&nbsp etf_data_df715bd80|(<ipython-input-3-fa54dc64d297>::53) &nbsp;&nbsp;&nbsp;&nbspReading polygon data ---- (starting) </font>"
      ],
      "text/plain": [
       "<IPython.core.display.HTML object>"
      ]
     },
     "metadata": {},
     "output_type": "execute_result"
    },
    {
     "data": {
      "text/html": [
       "<font face=\"Courier New\" size=2 color=\"green\"> &nbsp;&nbsp  etf_data_df715bd80|(<ipython-input-3-fa54dc64d297>::53) &nbsp;&nbsp;&nbsp;&nbspReading polygon data took 0.08s ---- (done)</font>"
      ],
      "text/plain": [
       "<IPython.core.display.HTML object>"
      ]
     },
     "metadata": {},
     "output_type": "execute_result"
    },
    {
     "data": {
      "text/html": [
       "<font face=\"Courier New\" size=2 color=\"green\"> &nbsp;&nbsp etf_data_df715bd80|(<ipython-input-3-fa54dc64d297>::73) &nbsp;&nbsp;&nbsp;&nbspmatching against polygon ---- (starting) </font>"
      ],
      "text/plain": [
       "<IPython.core.display.HTML object>"
      ]
     },
     "metadata": {},
     "output_type": "execute_result"
    },
    {
     "data": {
      "text/html": [
       "<font face=\"Courier New\" size=2 color=\"green\"> &nbsp;&nbsp  etf_data_df715bd80|(<ipython-input-3-fa54dc64d297>::73) &nbsp;&nbsp;&nbsp;&nbspmatching against polygon took 0.02s ---- (done)</font>"
      ],
      "text/plain": [
       "<IPython.core.display.HTML object>"
      ]
     },
     "metadata": {},
     "output_type": "execute_result"
    },
    {
     "data": {
      "text/html": [
       "<font face=\"Courier New\" size=2 color=\"green\"> &nbsp;&nbsp etf_data_d4e0ec77b|(<ipython-input-3-fa54dc64d297>::39) &nbsp;&nbsp;&nbsp;&nbspReading kibot eod data ---- (starting) </font>"
      ],
      "text/plain": [
       "<IPython.core.display.HTML object>"
      ]
     },
     "metadata": {},
     "output_type": "execute_result"
    },
    {
     "data": {
      "text/html": [
       "<font face=\"Courier New\" size=2 color=\"green\"> &nbsp;&nbsp  etf_data_d4e0ec77b|(<ipython-input-3-fa54dc64d297>::39) &nbsp;&nbsp;&nbsp;&nbspReading kibot eod data took 0.02s ---- (done)</font>"
      ],
      "text/plain": [
       "<IPython.core.display.HTML object>"
      ]
     },
     "metadata": {},
     "output_type": "execute_result"
    },
    {
     "data": {
      "text/html": [
       "<font face=\"Courier New\" size=2 color=\"green\"> &nbsp;&nbsp etf_data_d4e0ec77b|(<ipython-input-3-fa54dc64d297>::46) &nbsp;&nbsp;&nbsp;&nbspReading kibot 5min data ---- (starting) </font>"
      ],
      "text/plain": [
       "<IPython.core.display.HTML object>"
      ]
     },
     "metadata": {},
     "output_type": "execute_result"
    },
    {
     "data": {
      "text/html": [
       "<font face=\"Courier New\" size=2 color=\"green\"> &nbsp;&nbsp  etf_data_d4e0ec77b|(<ipython-input-3-fa54dc64d297>::46) &nbsp;&nbsp;&nbsp;&nbspReading kibot 5min data took 0.61s ---- (done)</font>"
      ],
      "text/plain": [
       "<IPython.core.display.HTML object>"
      ]
     },
     "metadata": {},
     "output_type": "execute_result"
    },
    {
     "data": {
      "text/html": [
       "<font face=\"Courier New\" size=2 color=\"green\"> &nbsp;&nbsp etf_data_d4e0ec77b|(<ipython-input-3-fa54dc64d297>::53) &nbsp;&nbsp;&nbsp;&nbspReading polygon data ---- (starting) </font>"
      ],
      "text/plain": [
       "<IPython.core.display.HTML object>"
      ]
     },
     "metadata": {},
     "output_type": "execute_result"
    },
    {
     "data": {
      "text/html": [
       "<font face=\"Courier New\" size=2 color=\"green\"> &nbsp;&nbsp  etf_data_d4e0ec77b|(<ipython-input-3-fa54dc64d297>::53) &nbsp;&nbsp;&nbsp;&nbspReading polygon data took 0.08s ---- (done)</font>"
      ],
      "text/plain": [
       "<IPython.core.display.HTML object>"
      ]
     },
     "metadata": {},
     "output_type": "execute_result"
    },
    {
     "data": {
      "text/html": [
       "<font face=\"Courier New\" size=2 color=\"green\"> &nbsp;&nbsp etf_data_d4e0ec77b|(<ipython-input-3-fa54dc64d297>::73) &nbsp;&nbsp;&nbsp;&nbspmatching against polygon ---- (starting) </font>"
      ],
      "text/plain": [
       "<IPython.core.display.HTML object>"
      ]
     },
     "metadata": {},
     "output_type": "execute_result"
    },
    {
     "data": {
      "text/html": [
       "<font face=\"Courier New\" size=2 color=\"green\"> &nbsp;&nbsp  etf_data_d4e0ec77b|(<ipython-input-3-fa54dc64d297>::73) &nbsp;&nbsp;&nbsp;&nbspmatching against polygon took 0.02s ---- (done)</font>"
      ],
      "text/plain": [
       "<IPython.core.display.HTML object>"
      ]
     },
     "metadata": {},
     "output_type": "execute_result"
    },
    {
     "data": {
      "text/html": [
       "<font face=\"Courier New\" size=2 color=\"green\"> &nbsp;&nbsp etf_data_cd89c69df|(<ipython-input-3-fa54dc64d297>::39) &nbsp;&nbsp;&nbsp;&nbspReading kibot eod data ---- (starting) </font>"
      ],
      "text/plain": [
       "<IPython.core.display.HTML object>"
      ]
     },
     "metadata": {},
     "output_type": "execute_result"
    },
    {
     "data": {
      "text/html": [
       "<font face=\"Courier New\" size=2 color=\"green\"> &nbsp;&nbsp  etf_data_cd89c69df|(<ipython-input-3-fa54dc64d297>::39) &nbsp;&nbsp;&nbsp;&nbspReading kibot eod data took 0.02s ---- (done)</font>"
      ],
      "text/plain": [
       "<IPython.core.display.HTML object>"
      ]
     },
     "metadata": {},
     "output_type": "execute_result"
    },
    {
     "data": {
      "text/html": [
       "<font face=\"Courier New\" size=2 color=\"green\"> &nbsp;&nbsp etf_data_cd89c69df|(<ipython-input-3-fa54dc64d297>::46) &nbsp;&nbsp;&nbsp;&nbspReading kibot 5min data ---- (starting) </font>"
      ],
      "text/plain": [
       "<IPython.core.display.HTML object>"
      ]
     },
     "metadata": {},
     "output_type": "execute_result"
    },
    {
     "data": {
      "text/html": [
       "<font face=\"Courier New\" size=2 color=\"green\"> &nbsp;&nbsp  etf_data_cd89c69df|(<ipython-input-3-fa54dc64d297>::46) &nbsp;&nbsp;&nbsp;&nbspReading kibot 5min data took 0.98s ---- (done)</font>"
      ],
      "text/plain": [
       "<IPython.core.display.HTML object>"
      ]
     },
     "metadata": {},
     "output_type": "execute_result"
    },
    {
     "data": {
      "text/html": [
       "<font face=\"Courier New\" size=2 color=\"green\"> &nbsp;&nbsp etf_data_cd89c69df|(<ipython-input-3-fa54dc64d297>::53) &nbsp;&nbsp;&nbsp;&nbspReading polygon data ---- (starting) </font>"
      ],
      "text/plain": [
       "<IPython.core.display.HTML object>"
      ]
     },
     "metadata": {},
     "output_type": "execute_result"
    },
    {
     "data": {
      "text/html": [
       "<font face=\"Courier New\" size=2 color=\"green\"> &nbsp;&nbsp  etf_data_cd89c69df|(<ipython-input-3-fa54dc64d297>::53) &nbsp;&nbsp;&nbsp;&nbspReading polygon data took 0.08s ---- (done)</font>"
      ],
      "text/plain": [
       "<IPython.core.display.HTML object>"
      ]
     },
     "metadata": {},
     "output_type": "execute_result"
    },
    {
     "data": {
      "text/html": [
       "<font face=\"Courier New\" size=2 color=\"green\"> &nbsp;&nbsp etf_data_cd89c69df|(<ipython-input-3-fa54dc64d297>::63) &nbsp;&nbsp;&nbsp;&nbspReading pi data ---- (starting) </font>"
      ],
      "text/plain": [
       "<IPython.core.display.HTML object>"
      ]
     },
     "metadata": {},
     "output_type": "execute_result"
    },
    {
     "data": {
      "text/html": [
       "<font face=\"Courier New\" size=2 color=\"green\"> &nbsp;&nbsp  etf_data_cd89c69df|(<ipython-input-3-fa54dc64d297>::63) &nbsp;&nbsp;&nbsp;&nbspReading pi data took 4.33s ---- (done)</font>"
      ],
      "text/plain": [
       "<IPython.core.display.HTML object>"
      ]
     },
     "metadata": {},
     "output_type": "execute_result"
    },
    {
     "data": {
      "text/html": [
       "<font face=\"Courier New\" size=2 color=\"green\"> &nbsp;&nbsp etf_data_cd89c69df|(<ipython-input-3-fa54dc64d297>::73) &nbsp;&nbsp;&nbsp;&nbspmatching against polygon ---- (starting) </font>"
      ],
      "text/plain": [
       "<IPython.core.display.HTML object>"
      ]
     },
     "metadata": {},
     "output_type": "execute_result"
    },
    {
     "data": {
      "text/html": [
       "<font face=\"Courier New\" size=2 color=\"green\"> &nbsp;&nbsp  etf_data_cd89c69df|(<ipython-input-3-fa54dc64d297>::73) &nbsp;&nbsp;&nbsp;&nbspmatching against polygon took 0.02s ---- (done)</font>"
      ],
      "text/plain": [
       "<IPython.core.display.HTML object>"
      ]
     },
     "metadata": {},
     "output_type": "execute_result"
    },
    {
     "data": {
      "text/html": [
       "<font face=\"Courier New\" size=2 color=\"green\"> &nbsp;&nbsp etf_data_cd89c69df|(<ipython-input-3-fa54dc64d297>::78) &nbsp;&nbsp;&nbsp;&nbspmatching against pitrading ---- (starting) </font>"
      ],
      "text/plain": [
       "<IPython.core.display.HTML object>"
      ]
     },
     "metadata": {},
     "output_type": "execute_result"
    },
    {
     "data": {
      "text/html": [
       "<font face=\"Courier New\" size=2 color=\"green\"> &nbsp;&nbsp  etf_data_cd89c69df|(<ipython-input-3-fa54dc64d297>::78) &nbsp;&nbsp;&nbsp;&nbspmatching against pitrading took 2.07s ---- (done)</font>"
      ],
      "text/plain": [
       "<IPython.core.display.HTML object>"
      ]
     },
     "metadata": {},
     "output_type": "execute_result"
    },
    {
     "data": {
      "text/html": [
       "<font face=\"Courier New\" size=2 color=\"green\"> &nbsp;&nbsp etf_data_e9a8d091b|(<ipython-input-3-fa54dc64d297>::39) &nbsp;&nbsp;&nbsp;&nbspReading kibot eod data ---- (starting) </font>"
      ],
      "text/plain": [
       "<IPython.core.display.HTML object>"
      ]
     },
     "metadata": {},
     "output_type": "execute_result"
    },
    {
     "data": {
      "text/html": [
       "<font face=\"Courier New\" size=2 color=\"green\"> &nbsp;&nbsp  etf_data_e9a8d091b|(<ipython-input-3-fa54dc64d297>::39) &nbsp;&nbsp;&nbsp;&nbspReading kibot eod data took 0.02s ---- (done)</font>"
      ],
      "text/plain": [
       "<IPython.core.display.HTML object>"
      ]
     },
     "metadata": {},
     "output_type": "execute_result"
    },
    {
     "data": {
      "text/html": [
       "<font face=\"Courier New\" size=2 color=\"green\"> &nbsp;&nbsp etf_data_e9a8d091b|(<ipython-input-3-fa54dc64d297>::46) &nbsp;&nbsp;&nbsp;&nbspReading kibot 5min data ---- (starting) </font>"
      ],
      "text/plain": [
       "<IPython.core.display.HTML object>"
      ]
     },
     "metadata": {},
     "output_type": "execute_result"
    },
    {
     "data": {
      "text/html": [
       "<font face=\"Courier New\" size=2 color=\"green\"> &nbsp;&nbsp  etf_data_e9a8d091b|(<ipython-input-3-fa54dc64d297>::46) &nbsp;&nbsp;&nbsp;&nbspReading kibot 5min data took 0.60s ---- (done)</font>"
      ],
      "text/plain": [
       "<IPython.core.display.HTML object>"
      ]
     },
     "metadata": {},
     "output_type": "execute_result"
    },
    {
     "data": {
      "text/html": [
       "<font face=\"Courier New\" size=2 color=\"green\"> &nbsp;&nbsp etf_data_e9a8d091b|(<ipython-input-3-fa54dc64d297>::53) &nbsp;&nbsp;&nbsp;&nbspReading polygon data ---- (starting) </font>"
      ],
      "text/plain": [
       "<IPython.core.display.HTML object>"
      ]
     },
     "metadata": {},
     "output_type": "execute_result"
    },
    {
     "data": {
      "text/html": [
       "<font face=\"Courier New\" size=2 color=\"green\"> &nbsp;&nbsp  etf_data_e9a8d091b|(<ipython-input-3-fa54dc64d297>::53) &nbsp;&nbsp;&nbsp;&nbspReading polygon data took 0.08s ---- (done)</font>"
      ],
      "text/plain": [
       "<IPython.core.display.HTML object>"
      ]
     },
     "metadata": {},
     "output_type": "execute_result"
    },
    {
     "data": {
      "text/html": [
       "<font face=\"Courier New\" size=2 color=\"green\"> &nbsp;&nbsp etf_data_e9a8d091b|(<ipython-input-3-fa54dc64d297>::73) &nbsp;&nbsp;&nbsp;&nbspmatching against polygon ---- (starting) </font>"
      ],
      "text/plain": [
       "<IPython.core.display.HTML object>"
      ]
     },
     "metadata": {},
     "output_type": "execute_result"
    },
    {
     "data": {
      "text/html": [
       "<font face=\"Courier New\" size=2 color=\"green\"> &nbsp;&nbsp  etf_data_e9a8d091b|(<ipython-input-3-fa54dc64d297>::73) &nbsp;&nbsp;&nbsp;&nbspmatching against polygon took 0.02s ---- (done)</font>"
      ],
      "text/plain": [
       "<IPython.core.display.HTML object>"
      ]
     },
     "metadata": {},
     "output_type": "execute_result"
    },
    {
     "data": {
      "text/html": [
       "<font face=\"Courier New\" size=2 color=\"green\"> &nbsp;&nbsp etf_data_e8b8813f5|(<ipython-input-3-fa54dc64d297>::39) &nbsp;&nbsp;&nbsp;&nbspReading kibot eod data ---- (starting) </font>"
      ],
      "text/plain": [
       "<IPython.core.display.HTML object>"
      ]
     },
     "metadata": {},
     "output_type": "execute_result"
    },
    {
     "data": {
      "text/html": [
       "<font face=\"Courier New\" size=2 color=\"green\"> &nbsp;&nbsp  etf_data_e8b8813f5|(<ipython-input-3-fa54dc64d297>::39) &nbsp;&nbsp;&nbsp;&nbspReading kibot eod data took 0.02s ---- (done)</font>"
      ],
      "text/plain": [
       "<IPython.core.display.HTML object>"
      ]
     },
     "metadata": {},
     "output_type": "execute_result"
    },
    {
     "data": {
      "text/html": [
       "<font face=\"Courier New\" size=2 color=\"green\"> &nbsp;&nbsp etf_data_e8b8813f5|(<ipython-input-3-fa54dc64d297>::46) &nbsp;&nbsp;&nbsp;&nbspReading kibot 5min data ---- (starting) </font>"
      ],
      "text/plain": [
       "<IPython.core.display.HTML object>"
      ]
     },
     "metadata": {},
     "output_type": "execute_result"
    },
    {
     "data": {
      "text/html": [
       "<font face=\"Courier New\" size=2 color=\"green\"> &nbsp;&nbsp  etf_data_e8b8813f5|(<ipython-input-3-fa54dc64d297>::46) &nbsp;&nbsp;&nbsp;&nbspReading kibot 5min data took 0.61s ---- (done)</font>"
      ],
      "text/plain": [
       "<IPython.core.display.HTML object>"
      ]
     },
     "metadata": {},
     "output_type": "execute_result"
    },
    {
     "data": {
      "text/html": [
       "<font face=\"Courier New\" size=2 color=\"green\"> &nbsp;&nbsp etf_data_e8b8813f5|(<ipython-input-3-fa54dc64d297>::53) &nbsp;&nbsp;&nbsp;&nbspReading polygon data ---- (starting) </font>"
      ],
      "text/plain": [
       "<IPython.core.display.HTML object>"
      ]
     },
     "metadata": {},
     "output_type": "execute_result"
    },
    {
     "data": {
      "text/html": [
       "<font face=\"Courier New\" size=2 color=\"green\"> &nbsp;&nbsp  etf_data_e8b8813f5|(<ipython-input-3-fa54dc64d297>::53) &nbsp;&nbsp;&nbsp;&nbspReading polygon data took 0.08s ---- (done)</font>"
      ],
      "text/plain": [
       "<IPython.core.display.HTML object>"
      ]
     },
     "metadata": {},
     "output_type": "execute_result"
    },
    {
     "data": {
      "text/html": [
       "<font face=\"Courier New\" size=2 color=\"green\"> &nbsp;&nbsp etf_data_e8b8813f5|(<ipython-input-3-fa54dc64d297>::73) &nbsp;&nbsp;&nbsp;&nbspmatching against polygon ---- (starting) </font>"
      ],
      "text/plain": [
       "<IPython.core.display.HTML object>"
      ]
     },
     "metadata": {},
     "output_type": "execute_result"
    },
    {
     "data": {
      "text/html": [
       "<font face=\"Courier New\" size=2 color=\"green\"> &nbsp;&nbsp  etf_data_e8b8813f5|(<ipython-input-3-fa54dc64d297>::73) &nbsp;&nbsp;&nbsp;&nbspmatching against polygon took 0.02s ---- (done)</font>"
      ],
      "text/plain": [
       "<IPython.core.display.HTML object>"
      ]
     },
     "metadata": {},
     "output_type": "execute_result"
    },
    {
     "data": {
      "text/html": [
       "<font face=\"Courier New\" size=2 color=\"green\"> &nbsp;&nbsp etf_data_2abc5f054|(<ipython-input-3-fa54dc64d297>::39) &nbsp;&nbsp;&nbsp;&nbspReading kibot eod data ---- (starting) </font>"
      ],
      "text/plain": [
       "<IPython.core.display.HTML object>"
      ]
     },
     "metadata": {},
     "output_type": "execute_result"
    },
    {
     "data": {
      "text/html": [
       "<font face=\"Courier New\" size=2 color=\"green\"> &nbsp;&nbsp  etf_data_2abc5f054|(<ipython-input-3-fa54dc64d297>::39) &nbsp;&nbsp;&nbsp;&nbspReading kibot eod data took 0.02s ---- (done)</font>"
      ],
      "text/plain": [
       "<IPython.core.display.HTML object>"
      ]
     },
     "metadata": {},
     "output_type": "execute_result"
    },
    {
     "data": {
      "text/html": [
       "<font face=\"Courier New\" size=2 color=\"green\"> &nbsp;&nbsp etf_data_2abc5f054|(<ipython-input-3-fa54dc64d297>::46) &nbsp;&nbsp;&nbsp;&nbspReading kibot 5min data ---- (starting) </font>"
      ],
      "text/plain": [
       "<IPython.core.display.HTML object>"
      ]
     },
     "metadata": {},
     "output_type": "execute_result"
    },
    {
     "data": {
      "text/html": [
       "<font face=\"Courier New\" size=2 color=\"green\"> &nbsp;&nbsp  etf_data_2abc5f054|(<ipython-input-3-fa54dc64d297>::46) &nbsp;&nbsp;&nbsp;&nbspReading kibot 5min data took 0.56s ---- (done)</font>"
      ],
      "text/plain": [
       "<IPython.core.display.HTML object>"
      ]
     },
     "metadata": {},
     "output_type": "execute_result"
    },
    {
     "data": {
      "text/html": [
       "<font face=\"Courier New\" size=2 color=\"green\"> &nbsp;&nbsp etf_data_2abc5f054|(<ipython-input-3-fa54dc64d297>::53) &nbsp;&nbsp;&nbsp;&nbspReading polygon data ---- (starting) </font>"
      ],
      "text/plain": [
       "<IPython.core.display.HTML object>"
      ]
     },
     "metadata": {},
     "output_type": "execute_result"
    },
    {
     "data": {
      "text/html": [
       "<font face=\"Courier New\" size=2 color=\"green\"> &nbsp;&nbsp  etf_data_2abc5f054|(<ipython-input-3-fa54dc64d297>::53) &nbsp;&nbsp;&nbsp;&nbspReading polygon data took 0.08s ---- (done)</font>"
      ],
      "text/plain": [
       "<IPython.core.display.HTML object>"
      ]
     },
     "metadata": {},
     "output_type": "execute_result"
    },
    {
     "data": {
      "text/html": [
       "<font face=\"Courier New\" size=2 color=\"green\"> &nbsp;&nbsp etf_data_2abc5f054|(<ipython-input-3-fa54dc64d297>::73) &nbsp;&nbsp;&nbsp;&nbspmatching against polygon ---- (starting) </font>"
      ],
      "text/plain": [
       "<IPython.core.display.HTML object>"
      ]
     },
     "metadata": {},
     "output_type": "execute_result"
    },
    {
     "data": {
      "text/html": [
       "<font face=\"Courier New\" size=2 color=\"green\"> &nbsp;&nbsp  etf_data_2abc5f054|(<ipython-input-3-fa54dc64d297>::73) &nbsp;&nbsp;&nbsp;&nbspmatching against polygon took 0.02s ---- (done)</font>"
      ],
      "text/plain": [
       "<IPython.core.display.HTML object>"
      ]
     },
     "metadata": {},
     "output_type": "execute_result"
    },
    {
     "data": {
      "text/html": [
       "<font face=\"Courier New\" size=2 color=\"green\"> &nbsp;&nbsp etf_data_83ea48339|(<ipython-input-3-fa54dc64d297>::39) &nbsp;&nbsp;&nbsp;&nbspReading kibot eod data ---- (starting) </font>"
      ],
      "text/plain": [
       "<IPython.core.display.HTML object>"
      ]
     },
     "metadata": {},
     "output_type": "execute_result"
    },
    {
     "data": {
      "text/html": [
       "<font face=\"Courier New\" size=2 color=\"green\"> &nbsp;&nbsp  etf_data_83ea48339|(<ipython-input-3-fa54dc64d297>::39) &nbsp;&nbsp;&nbsp;&nbspReading kibot eod data took 0.02s ---- (done)</font>"
      ],
      "text/plain": [
       "<IPython.core.display.HTML object>"
      ]
     },
     "metadata": {},
     "output_type": "execute_result"
    },
    {
     "data": {
      "text/html": [
       "<font face=\"Courier New\" size=2 color=\"green\"> &nbsp;&nbsp etf_data_83ea48339|(<ipython-input-3-fa54dc64d297>::46) &nbsp;&nbsp;&nbsp;&nbspReading kibot 5min data ---- (starting) </font>"
      ],
      "text/plain": [
       "<IPython.core.display.HTML object>"
      ]
     },
     "metadata": {},
     "output_type": "execute_result"
    },
    {
     "data": {
      "text/html": [
       "<font face=\"Courier New\" size=2 color=\"green\"> &nbsp;&nbsp  etf_data_83ea48339|(<ipython-input-3-fa54dc64d297>::46) &nbsp;&nbsp;&nbsp;&nbspReading kibot 5min data took 0.54s ---- (done)</font>"
      ],
      "text/plain": [
       "<IPython.core.display.HTML object>"
      ]
     },
     "metadata": {},
     "output_type": "execute_result"
    },
    {
     "data": {
      "text/html": [
       "<font face=\"Courier New\" size=2 color=\"green\"> &nbsp;&nbsp etf_data_83ea48339|(<ipython-input-3-fa54dc64d297>::53) &nbsp;&nbsp;&nbsp;&nbspReading polygon data ---- (starting) </font>"
      ],
      "text/plain": [
       "<IPython.core.display.HTML object>"
      ]
     },
     "metadata": {},
     "output_type": "execute_result"
    },
    {
     "data": {
      "text/html": [
       "<font face=\"Courier New\" size=2 color=\"green\"> &nbsp;&nbsp  etf_data_83ea48339|(<ipython-input-3-fa54dc64d297>::53) &nbsp;&nbsp;&nbsp;&nbspReading polygon data took 0.08s ---- (done)</font>"
      ],
      "text/plain": [
       "<IPython.core.display.HTML object>"
      ]
     },
     "metadata": {},
     "output_type": "execute_result"
    },
    {
     "data": {
      "text/html": [
       "<font face=\"Courier New\" size=2 color=\"green\"> &nbsp;&nbsp etf_data_83ea48339|(<ipython-input-3-fa54dc64d297>::73) &nbsp;&nbsp;&nbsp;&nbspmatching against polygon ---- (starting) </font>"
      ],
      "text/plain": [
       "<IPython.core.display.HTML object>"
      ]
     },
     "metadata": {},
     "output_type": "execute_result"
    },
    {
     "data": {
      "text/html": [
       "<font face=\"Courier New\" size=2 color=\"green\"> &nbsp;&nbsp  etf_data_83ea48339|(<ipython-input-3-fa54dc64d297>::73) &nbsp;&nbsp;&nbsp;&nbspmatching against polygon took 0.02s ---- (done)</font>"
      ],
      "text/plain": [
       "<IPython.core.display.HTML object>"
      ]
     },
     "metadata": {},
     "output_type": "execute_result"
    },
    {
     "data": {
      "text/html": [
       "<font face=\"Courier New\" size=2 color=\"green\"> &nbsp;&nbsp etf_data_9e0c94c84|(<ipython-input-3-fa54dc64d297>::39) &nbsp;&nbsp;&nbsp;&nbspReading kibot eod data ---- (starting) </font>"
      ],
      "text/plain": [
       "<IPython.core.display.HTML object>"
      ]
     },
     "metadata": {},
     "output_type": "execute_result"
    },
    {
     "data": {
      "text/html": [
       "<font face=\"Courier New\" size=2 color=\"green\"> &nbsp;&nbsp  etf_data_9e0c94c84|(<ipython-input-3-fa54dc64d297>::39) &nbsp;&nbsp;&nbsp;&nbspReading kibot eod data took 0.02s ---- (done)</font>"
      ],
      "text/plain": [
       "<IPython.core.display.HTML object>"
      ]
     },
     "metadata": {},
     "output_type": "execute_result"
    },
    {
     "data": {
      "text/html": [
       "<font face=\"Courier New\" size=2 color=\"green\"> &nbsp;&nbsp etf_data_9e0c94c84|(<ipython-input-3-fa54dc64d297>::46) &nbsp;&nbsp;&nbsp;&nbspReading kibot 5min data ---- (starting) </font>"
      ],
      "text/plain": [
       "<IPython.core.display.HTML object>"
      ]
     },
     "metadata": {},
     "output_type": "execute_result"
    },
    {
     "data": {
      "text/html": [
       "<font face=\"Courier New\" size=2 color=\"green\"> &nbsp;&nbsp  etf_data_9e0c94c84|(<ipython-input-3-fa54dc64d297>::46) &nbsp;&nbsp;&nbsp;&nbspReading kibot 5min data took 0.52s ---- (done)</font>"
      ],
      "text/plain": [
       "<IPython.core.display.HTML object>"
      ]
     },
     "metadata": {},
     "output_type": "execute_result"
    },
    {
     "data": {
      "text/html": [
       "<font face=\"Courier New\" size=2 color=\"green\"> &nbsp;&nbsp etf_data_9e0c94c84|(<ipython-input-3-fa54dc64d297>::53) &nbsp;&nbsp;&nbsp;&nbspReading polygon data ---- (starting) </font>"
      ],
      "text/plain": [
       "<IPython.core.display.HTML object>"
      ]
     },
     "metadata": {},
     "output_type": "execute_result"
    },
    {
     "data": {
      "text/html": [
       "<font face=\"Courier New\" size=2 color=\"green\"> &nbsp;&nbsp  etf_data_9e0c94c84|(<ipython-input-3-fa54dc64d297>::53) &nbsp;&nbsp;&nbsp;&nbspReading polygon data took 0.08s ---- (done)</font>"
      ],
      "text/plain": [
       "<IPython.core.display.HTML object>"
      ]
     },
     "metadata": {},
     "output_type": "execute_result"
    },
    {
     "data": {
      "text/html": [
       "<font face=\"Courier New\" size=2 color=\"green\"> &nbsp;&nbsp etf_data_9e0c94c84|(<ipython-input-3-fa54dc64d297>::73) &nbsp;&nbsp;&nbsp;&nbspmatching against polygon ---- (starting) </font>"
      ],
      "text/plain": [
       "<IPython.core.display.HTML object>"
      ]
     },
     "metadata": {},
     "output_type": "execute_result"
    },
    {
     "data": {
      "text/html": [
       "<font face=\"Courier New\" size=2 color=\"green\"> &nbsp;&nbsp  etf_data_9e0c94c84|(<ipython-input-3-fa54dc64d297>::73) &nbsp;&nbsp;&nbsp;&nbspmatching against polygon took 0.02s ---- (done)</font>"
      ],
      "text/plain": [
       "<IPython.core.display.HTML object>"
      ]
     },
     "metadata": {},
     "output_type": "execute_result"
    },
    {
     "data": {
      "text/html": [
       "<font face=\"Courier New\" size=2 color=\"green\"> &nbsp;&nbsp etf_data_cf181e43a|(<ipython-input-3-fa54dc64d297>::39) &nbsp;&nbsp;&nbsp;&nbspReading kibot eod data ---- (starting) </font>"
      ],
      "text/plain": [
       "<IPython.core.display.HTML object>"
      ]
     },
     "metadata": {},
     "output_type": "execute_result"
    },
    {
     "data": {
      "text/html": [
       "<font face=\"Courier New\" size=2 color=\"green\"> &nbsp;&nbsp  etf_data_cf181e43a|(<ipython-input-3-fa54dc64d297>::39) &nbsp;&nbsp;&nbsp;&nbspReading kibot eod data took 0.02s ---- (done)</font>"
      ],
      "text/plain": [
       "<IPython.core.display.HTML object>"
      ]
     },
     "metadata": {},
     "output_type": "execute_result"
    },
    {
     "data": {
      "text/html": [
       "<font face=\"Courier New\" size=2 color=\"green\"> &nbsp;&nbsp etf_data_cf181e43a|(<ipython-input-3-fa54dc64d297>::46) &nbsp;&nbsp;&nbsp;&nbspReading kibot 5min data ---- (starting) </font>"
      ],
      "text/plain": [
       "<IPython.core.display.HTML object>"
      ]
     },
     "metadata": {},
     "output_type": "execute_result"
    },
    {
     "data": {
      "text/html": [
       "<font face=\"Courier New\" size=2 color=\"green\"> &nbsp;&nbsp  etf_data_cf181e43a|(<ipython-input-3-fa54dc64d297>::46) &nbsp;&nbsp;&nbsp;&nbspReading kibot 5min data took 0.53s ---- (done)</font>"
      ],
      "text/plain": [
       "<IPython.core.display.HTML object>"
      ]
     },
     "metadata": {},
     "output_type": "execute_result"
    },
    {
     "data": {
      "text/html": [
       "<font face=\"Courier New\" size=2 color=\"green\"> &nbsp;&nbsp etf_data_cf181e43a|(<ipython-input-3-fa54dc64d297>::53) &nbsp;&nbsp;&nbsp;&nbspReading polygon data ---- (starting) </font>"
      ],
      "text/plain": [
       "<IPython.core.display.HTML object>"
      ]
     },
     "metadata": {},
     "output_type": "execute_result"
    },
    {
     "data": {
      "text/html": [
       "<font face=\"Courier New\" size=2 color=\"green\"> &nbsp;&nbsp  etf_data_cf181e43a|(<ipython-input-3-fa54dc64d297>::53) &nbsp;&nbsp;&nbsp;&nbspReading polygon data took 0.08s ---- (done)</font>"
      ],
      "text/plain": [
       "<IPython.core.display.HTML object>"
      ]
     },
     "metadata": {},
     "output_type": "execute_result"
    },
    {
     "data": {
      "text/html": [
       "<font face=\"Courier New\" size=2 color=\"green\"> &nbsp;&nbsp etf_data_cf181e43a|(<ipython-input-3-fa54dc64d297>::73) &nbsp;&nbsp;&nbsp;&nbspmatching against polygon ---- (starting) </font>"
      ],
      "text/plain": [
       "<IPython.core.display.HTML object>"
      ]
     },
     "metadata": {},
     "output_type": "execute_result"
    },
    {
     "data": {
      "text/html": [
       "<font face=\"Courier New\" size=2 color=\"green\"> &nbsp;&nbsp  etf_data_cf181e43a|(<ipython-input-3-fa54dc64d297>::73) &nbsp;&nbsp;&nbsp;&nbspmatching against polygon took 0.02s ---- (done)</font>"
      ],
      "text/plain": [
       "<IPython.core.display.HTML object>"
      ]
     },
     "metadata": {},
     "output_type": "execute_result"
    },
    {
     "data": {
      "text/html": [
       "<font face=\"Courier New\" size=2 color=\"green\"> &nbsp;&nbsp etf_data_531380ca3|(<ipython-input-3-fa54dc64d297>::39) &nbsp;&nbsp;&nbsp;&nbspReading kibot eod data ---- (starting) </font>"
      ],
      "text/plain": [
       "<IPython.core.display.HTML object>"
      ]
     },
     "metadata": {},
     "output_type": "execute_result"
    },
    {
     "data": {
      "text/html": [
       "<font face=\"Courier New\" size=2 color=\"green\"> &nbsp;&nbsp  etf_data_531380ca3|(<ipython-input-3-fa54dc64d297>::39) &nbsp;&nbsp;&nbsp;&nbspReading kibot eod data took 0.02s ---- (done)</font>"
      ],
      "text/plain": [
       "<IPython.core.display.HTML object>"
      ]
     },
     "metadata": {},
     "output_type": "execute_result"
    },
    {
     "data": {
      "text/html": [
       "<font face=\"Courier New\" size=2 color=\"green\"> &nbsp;&nbsp etf_data_531380ca3|(<ipython-input-3-fa54dc64d297>::46) &nbsp;&nbsp;&nbsp;&nbspReading kibot 5min data ---- (starting) </font>"
      ],
      "text/plain": [
       "<IPython.core.display.HTML object>"
      ]
     },
     "metadata": {},
     "output_type": "execute_result"
    },
    {
     "data": {
      "text/html": [
       "<font face=\"Courier New\" size=2 color=\"green\"> &nbsp;&nbsp  etf_data_531380ca3|(<ipython-input-3-fa54dc64d297>::46) &nbsp;&nbsp;&nbsp;&nbspReading kibot 5min data took 0.49s ---- (done)</font>"
      ],
      "text/plain": [
       "<IPython.core.display.HTML object>"
      ]
     },
     "metadata": {},
     "output_type": "execute_result"
    },
    {
     "data": {
      "text/html": [
       "<font face=\"Courier New\" size=2 color=\"green\"> &nbsp;&nbsp etf_data_531380ca3|(<ipython-input-3-fa54dc64d297>::53) &nbsp;&nbsp;&nbsp;&nbspReading polygon data ---- (starting) </font>"
      ],
      "text/plain": [
       "<IPython.core.display.HTML object>"
      ]
     },
     "metadata": {},
     "output_type": "execute_result"
    },
    {
     "data": {
      "text/html": [
       "<font face=\"Courier New\" size=2 color=\"green\"> &nbsp;&nbsp  etf_data_531380ca3|(<ipython-input-3-fa54dc64d297>::53) &nbsp;&nbsp;&nbsp;&nbspReading polygon data took 0.11s ---- (done)</font>"
      ],
      "text/plain": [
       "<IPython.core.display.HTML object>"
      ]
     },
     "metadata": {},
     "output_type": "execute_result"
    },
    {
     "data": {
      "text/html": [
       "<font face=\"Courier New\" size=2 color=\"green\"> &nbsp;&nbsp etf_data_531380ca3|(<ipython-input-3-fa54dc64d297>::73) &nbsp;&nbsp;&nbsp;&nbspmatching against polygon ---- (starting) </font>"
      ],
      "text/plain": [
       "<IPython.core.display.HTML object>"
      ]
     },
     "metadata": {},
     "output_type": "execute_result"
    },
    {
     "data": {
      "text/html": [
       "<font face=\"Courier New\" size=2 color=\"green\"> &nbsp;&nbsp  etf_data_531380ca3|(<ipython-input-3-fa54dc64d297>::73) &nbsp;&nbsp;&nbsp;&nbspmatching against polygon took 0.02s ---- (done)</font>"
      ],
      "text/plain": [
       "<IPython.core.display.HTML object>"
      ]
     },
     "metadata": {},
     "output_type": "execute_result"
    },
    {
     "data": {
      "text/html": [
       "<font face=\"Courier New\" size=2 color=\"green\"> &nbsp;&nbsp etf_data_da582db29|(<ipython-input-3-fa54dc64d297>::39) &nbsp;&nbsp;&nbsp;&nbspReading kibot eod data ---- (starting) </font>"
      ],
      "text/plain": [
       "<IPython.core.display.HTML object>"
      ]
     },
     "metadata": {},
     "output_type": "execute_result"
    },
    {
     "data": {
      "text/html": [
       "<font face=\"Courier New\" size=2 color=\"green\"> &nbsp;&nbsp  etf_data_da582db29|(<ipython-input-3-fa54dc64d297>::39) &nbsp;&nbsp;&nbsp;&nbspReading kibot eod data took 0.02s ---- (done)</font>"
      ],
      "text/plain": [
       "<IPython.core.display.HTML object>"
      ]
     },
     "metadata": {},
     "output_type": "execute_result"
    },
    {
     "data": {
      "text/html": [
       "<font face=\"Courier New\" size=2 color=\"green\"> &nbsp;&nbsp etf_data_da582db29|(<ipython-input-3-fa54dc64d297>::46) &nbsp;&nbsp;&nbsp;&nbspReading kibot 5min data ---- (starting) </font>"
      ],
      "text/plain": [
       "<IPython.core.display.HTML object>"
      ]
     },
     "metadata": {},
     "output_type": "execute_result"
    },
    {
     "data": {
      "text/html": [
       "<font face=\"Courier New\" size=2 color=\"green\"> &nbsp;&nbsp  etf_data_da582db29|(<ipython-input-3-fa54dc64d297>::46) &nbsp;&nbsp;&nbsp;&nbspReading kibot 5min data took 0.45s ---- (done)</font>"
      ],
      "text/plain": [
       "<IPython.core.display.HTML object>"
      ]
     },
     "metadata": {},
     "output_type": "execute_result"
    },
    {
     "data": {
      "text/html": [
       "<font face=\"Courier New\" size=2 color=\"green\"> &nbsp;&nbsp etf_data_da582db29|(<ipython-input-3-fa54dc64d297>::53) &nbsp;&nbsp;&nbsp;&nbspReading polygon data ---- (starting) </font>"
      ],
      "text/plain": [
       "<IPython.core.display.HTML object>"
      ]
     },
     "metadata": {},
     "output_type": "execute_result"
    },
    {
     "data": {
      "text/html": [
       "<font face=\"Courier New\" size=2 color=\"green\"> &nbsp;&nbsp  etf_data_da582db29|(<ipython-input-3-fa54dc64d297>::53) &nbsp;&nbsp;&nbsp;&nbspReading polygon data took 0.08s ---- (done)</font>"
      ],
      "text/plain": [
       "<IPython.core.display.HTML object>"
      ]
     },
     "metadata": {},
     "output_type": "execute_result"
    },
    {
     "data": {
      "text/html": [
       "<font face=\"Courier New\" size=2 color=\"green\"> &nbsp;&nbsp etf_data_da582db29|(<ipython-input-3-fa54dc64d297>::73) &nbsp;&nbsp;&nbsp;&nbspmatching against polygon ---- (starting) </font>"
      ],
      "text/plain": [
       "<IPython.core.display.HTML object>"
      ]
     },
     "metadata": {},
     "output_type": "execute_result"
    },
    {
     "data": {
      "text/html": [
       "<font face=\"Courier New\" size=2 color=\"green\"> &nbsp;&nbsp  etf_data_da582db29|(<ipython-input-3-fa54dc64d297>::73) &nbsp;&nbsp;&nbsp;&nbspmatching against polygon took 0.02s ---- (done)</font>"
      ],
      "text/plain": [
       "<IPython.core.display.HTML object>"
      ]
     },
     "metadata": {},
     "output_type": "execute_result"
    },
    {
     "data": {
      "text/html": [
       "<font face=\"Courier New\" size=2 color=\"green\"> &nbsp;&nbsp etf_data_b6674fa6f|(<ipython-input-3-fa54dc64d297>::39) &nbsp;&nbsp;&nbsp;&nbspReading kibot eod data ---- (starting) </font>"
      ],
      "text/plain": [
       "<IPython.core.display.HTML object>"
      ]
     },
     "metadata": {},
     "output_type": "execute_result"
    },
    {
     "data": {
      "text/html": [
       "<font face=\"Courier New\" size=2 color=\"green\"> &nbsp;&nbsp  etf_data_b6674fa6f|(<ipython-input-3-fa54dc64d297>::39) &nbsp;&nbsp;&nbsp;&nbspReading kibot eod data took 0.02s ---- (done)</font>"
      ],
      "text/plain": [
       "<IPython.core.display.HTML object>"
      ]
     },
     "metadata": {},
     "output_type": "execute_result"
    },
    {
     "data": {
      "text/html": [
       "<font face=\"Courier New\" size=2 color=\"green\"> &nbsp;&nbsp etf_data_b6674fa6f|(<ipython-input-3-fa54dc64d297>::46) &nbsp;&nbsp;&nbsp;&nbspReading kibot 5min data ---- (starting) </font>"
      ],
      "text/plain": [
       "<IPython.core.display.HTML object>"
      ]
     },
     "metadata": {},
     "output_type": "execute_result"
    },
    {
     "data": {
      "text/html": [
       "<font face=\"Courier New\" size=2 color=\"green\"> &nbsp;&nbsp  etf_data_b6674fa6f|(<ipython-input-3-fa54dc64d297>::46) &nbsp;&nbsp;&nbsp;&nbspReading kibot 5min data took 0.34s ---- (done)</font>"
      ],
      "text/plain": [
       "<IPython.core.display.HTML object>"
      ]
     },
     "metadata": {},
     "output_type": "execute_result"
    },
    {
     "data": {
      "text/html": [
       "<font face=\"Courier New\" size=2 color=\"green\"> &nbsp;&nbsp etf_data_b6674fa6f|(<ipython-input-3-fa54dc64d297>::53) &nbsp;&nbsp;&nbsp;&nbspReading polygon data ---- (starting) </font>"
      ],
      "text/plain": [
       "<IPython.core.display.HTML object>"
      ]
     },
     "metadata": {},
     "output_type": "execute_result"
    },
    {
     "data": {
      "text/html": [
       "<font face=\"Courier New\" size=2 color=\"green\"> &nbsp;&nbsp  etf_data_b6674fa6f|(<ipython-input-3-fa54dc64d297>::53) &nbsp;&nbsp;&nbsp;&nbspReading polygon data took 0.08s ---- (done)</font>"
      ],
      "text/plain": [
       "<IPython.core.display.HTML object>"
      ]
     },
     "metadata": {},
     "output_type": "execute_result"
    },
    {
     "data": {
      "text/html": [
       "<font face=\"Courier New\" size=2 color=\"green\"> &nbsp;&nbsp etf_data_b6674fa6f|(<ipython-input-3-fa54dc64d297>::73) &nbsp;&nbsp;&nbsp;&nbspmatching against polygon ---- (starting) </font>"
      ],
      "text/plain": [
       "<IPython.core.display.HTML object>"
      ]
     },
     "metadata": {},
     "output_type": "execute_result"
    },
    {
     "data": {
      "text/html": [
       "<font face=\"Courier New\" size=2 color=\"green\"> &nbsp;&nbsp  etf_data_b6674fa6f|(<ipython-input-3-fa54dc64d297>::73) &nbsp;&nbsp;&nbsp;&nbspmatching against polygon took 0.02s ---- (done)</font>"
      ],
      "text/plain": [
       "<IPython.core.display.HTML object>"
      ]
     },
     "metadata": {},
     "output_type": "execute_result"
    },
    {
     "data": {
      "text/html": [
       "<font face=\"Courier New\" size=2 color=\"green\"> &nbsp;&nbsp etf_data_9e8bf743c|(<ipython-input-3-fa54dc64d297>::39) &nbsp;&nbsp;&nbsp;&nbspReading kibot eod data ---- (starting) </font>"
      ],
      "text/plain": [
       "<IPython.core.display.HTML object>"
      ]
     },
     "metadata": {},
     "output_type": "execute_result"
    },
    {
     "data": {
      "text/html": [
       "<font face=\"Courier New\" size=2 color=\"green\"> &nbsp;&nbsp  etf_data_9e8bf743c|(<ipython-input-3-fa54dc64d297>::39) &nbsp;&nbsp;&nbsp;&nbspReading kibot eod data took 0.02s ---- (done)</font>"
      ],
      "text/plain": [
       "<IPython.core.display.HTML object>"
      ]
     },
     "metadata": {},
     "output_type": "execute_result"
    },
    {
     "data": {
      "text/html": [
       "<font face=\"Courier New\" size=2 color=\"green\"> &nbsp;&nbsp etf_data_9e8bf743c|(<ipython-input-3-fa54dc64d297>::46) &nbsp;&nbsp;&nbsp;&nbspReading kibot 5min data ---- (starting) </font>"
      ],
      "text/plain": [
       "<IPython.core.display.HTML object>"
      ]
     },
     "metadata": {},
     "output_type": "execute_result"
    },
    {
     "data": {
      "text/html": [
       "<font face=\"Courier New\" size=2 color=\"green\"> &nbsp;&nbsp  etf_data_9e8bf743c|(<ipython-input-3-fa54dc64d297>::46) &nbsp;&nbsp;&nbsp;&nbspReading kibot 5min data took 0.53s ---- (done)</font>"
      ],
      "text/plain": [
       "<IPython.core.display.HTML object>"
      ]
     },
     "metadata": {},
     "output_type": "execute_result"
    },
    {
     "data": {
      "text/html": [
       "<font face=\"Courier New\" size=2 color=\"green\"> &nbsp;&nbsp etf_data_9e8bf743c|(<ipython-input-3-fa54dc64d297>::53) &nbsp;&nbsp;&nbsp;&nbspReading polygon data ---- (starting) </font>"
      ],
      "text/plain": [
       "<IPython.core.display.HTML object>"
      ]
     },
     "metadata": {},
     "output_type": "execute_result"
    },
    {
     "data": {
      "text/html": [
       "<font face=\"Courier New\" size=2 color=\"green\"> &nbsp;&nbsp  etf_data_9e8bf743c|(<ipython-input-3-fa54dc64d297>::53) &nbsp;&nbsp;&nbsp;&nbspReading polygon data took 0.08s ---- (done)</font>"
      ],
      "text/plain": [
       "<IPython.core.display.HTML object>"
      ]
     },
     "metadata": {},
     "output_type": "execute_result"
    },
    {
     "data": {
      "text/html": [
       "<font face=\"Courier New\" size=2 color=\"green\"> &nbsp;&nbsp etf_data_9e8bf743c|(<ipython-input-3-fa54dc64d297>::63) &nbsp;&nbsp;&nbsp;&nbspReading pi data ---- (starting) </font>"
      ],
      "text/plain": [
       "<IPython.core.display.HTML object>"
      ]
     },
     "metadata": {},
     "output_type": "execute_result"
    },
    {
     "data": {
      "text/html": [
       "<font face=\"Courier New\" size=2 color=\"green\"> &nbsp;&nbsp  etf_data_9e8bf743c|(<ipython-input-3-fa54dc64d297>::63) &nbsp;&nbsp;&nbsp;&nbspReading pi data took 3.64s ---- (done)</font>"
      ],
      "text/plain": [
       "<IPython.core.display.HTML object>"
      ]
     },
     "metadata": {},
     "output_type": "execute_result"
    },
    {
     "data": {
      "text/html": [
       "<font face=\"Courier New\" size=2 color=\"green\"> &nbsp;&nbsp etf_data_9e8bf743c|(<ipython-input-3-fa54dc64d297>::73) &nbsp;&nbsp;&nbsp;&nbspmatching against polygon ---- (starting) </font>"
      ],
      "text/plain": [
       "<IPython.core.display.HTML object>"
      ]
     },
     "metadata": {},
     "output_type": "execute_result"
    },
    {
     "data": {
      "text/html": [
       "<font face=\"Courier New\" size=2 color=\"green\"> &nbsp;&nbsp  etf_data_9e8bf743c|(<ipython-input-3-fa54dc64d297>::73) &nbsp;&nbsp;&nbsp;&nbspmatching against polygon took 0.02s ---- (done)</font>"
      ],
      "text/plain": [
       "<IPython.core.display.HTML object>"
      ]
     },
     "metadata": {},
     "output_type": "execute_result"
    },
    {
     "data": {
      "text/html": [
       "<font face=\"Courier New\" size=2 color=\"green\"> &nbsp;&nbsp etf_data_9e8bf743c|(<ipython-input-3-fa54dc64d297>::78) &nbsp;&nbsp;&nbsp;&nbspmatching against pitrading ---- (starting) </font>"
      ],
      "text/plain": [
       "<IPython.core.display.HTML object>"
      ]
     },
     "metadata": {},
     "output_type": "execute_result"
    },
    {
     "data": {
      "text/html": [
       "<font face=\"Courier New\" size=2 color=\"green\"> &nbsp;&nbsp  etf_data_9e8bf743c|(<ipython-input-3-fa54dc64d297>::78) &nbsp;&nbsp;&nbsp;&nbspmatching against pitrading took 1.26s ---- (done)</font>"
      ],
      "text/plain": [
       "<IPython.core.display.HTML object>"
      ]
     },
     "metadata": {},
     "output_type": "execute_result"
    },
    {
     "data": {
      "text/html": [
       "<font face=\"Courier New\" size=2 color=\"green\"> &nbsp;&nbsp etf_data_209071a57|(<ipython-input-3-fa54dc64d297>::39) &nbsp;&nbsp;&nbsp;&nbspReading kibot eod data ---- (starting) </font>"
      ],
      "text/plain": [
       "<IPython.core.display.HTML object>"
      ]
     },
     "metadata": {},
     "output_type": "execute_result"
    },
    {
     "data": {
      "text/html": [
       "<font face=\"Courier New\" size=2 color=\"green\"> &nbsp;&nbsp  etf_data_209071a57|(<ipython-input-3-fa54dc64d297>::39) &nbsp;&nbsp;&nbsp;&nbspReading kibot eod data took 0.02s ---- (done)</font>"
      ],
      "text/plain": [
       "<IPython.core.display.HTML object>"
      ]
     },
     "metadata": {},
     "output_type": "execute_result"
    },
    {
     "data": {
      "text/html": [
       "<font face=\"Courier New\" size=2 color=\"green\"> &nbsp;&nbsp etf_data_209071a57|(<ipython-input-3-fa54dc64d297>::46) &nbsp;&nbsp;&nbsp;&nbspReading kibot 5min data ---- (starting) </font>"
      ],
      "text/plain": [
       "<IPython.core.display.HTML object>"
      ]
     },
     "metadata": {},
     "output_type": "execute_result"
    },
    {
     "data": {
      "text/html": [
       "<font face=\"Courier New\" size=2 color=\"green\"> &nbsp;&nbsp  etf_data_209071a57|(<ipython-input-3-fa54dc64d297>::46) &nbsp;&nbsp;&nbsp;&nbspReading kibot 5min data took 0.47s ---- (done)</font>"
      ],
      "text/plain": [
       "<IPython.core.display.HTML object>"
      ]
     },
     "metadata": {},
     "output_type": "execute_result"
    },
    {
     "data": {
      "text/html": [
       "<font face=\"Courier New\" size=2 color=\"green\"> &nbsp;&nbsp etf_data_209071a57|(<ipython-input-3-fa54dc64d297>::53) &nbsp;&nbsp;&nbsp;&nbspReading polygon data ---- (starting) </font>"
      ],
      "text/plain": [
       "<IPython.core.display.HTML object>"
      ]
     },
     "metadata": {},
     "output_type": "execute_result"
    },
    {
     "data": {
      "text/html": [
       "<font face=\"Courier New\" size=2 color=\"green\"> &nbsp;&nbsp  etf_data_209071a57|(<ipython-input-3-fa54dc64d297>::53) &nbsp;&nbsp;&nbsp;&nbspReading polygon data took 0.07s ---- (done)</font>"
      ],
      "text/plain": [
       "<IPython.core.display.HTML object>"
      ]
     },
     "metadata": {},
     "output_type": "execute_result"
    },
    {
     "data": {
      "text/html": [
       "<font face=\"Courier New\" size=2 color=\"green\"> &nbsp;&nbsp etf_data_209071a57|(<ipython-input-3-fa54dc64d297>::73) &nbsp;&nbsp;&nbsp;&nbspmatching against polygon ---- (starting) </font>"
      ],
      "text/plain": [
       "<IPython.core.display.HTML object>"
      ]
     },
     "metadata": {},
     "output_type": "execute_result"
    },
    {
     "data": {
      "text/html": [
       "<font face=\"Courier New\" size=2 color=\"green\"> &nbsp;&nbsp  etf_data_209071a57|(<ipython-input-3-fa54dc64d297>::73) &nbsp;&nbsp;&nbsp;&nbspmatching against polygon took 0.02s ---- (done)</font>"
      ],
      "text/plain": [
       "<IPython.core.display.HTML object>"
      ]
     },
     "metadata": {},
     "output_type": "execute_result"
    },
    {
     "data": {
      "text/html": [
       "<font face=\"Courier New\" size=2 color=\"green\"> &nbsp;&nbsp etf_data_8db3de998|(<ipython-input-3-fa54dc64d297>::39) &nbsp;&nbsp;&nbsp;&nbspReading kibot eod data ---- (starting) </font>"
      ],
      "text/plain": [
       "<IPython.core.display.HTML object>"
      ]
     },
     "metadata": {},
     "output_type": "execute_result"
    },
    {
     "data": {
      "text/html": [
       "<font face=\"Courier New\" size=2 color=\"green\"> &nbsp;&nbsp  etf_data_8db3de998|(<ipython-input-3-fa54dc64d297>::39) &nbsp;&nbsp;&nbsp;&nbspReading kibot eod data took 0.02s ---- (done)</font>"
      ],
      "text/plain": [
       "<IPython.core.display.HTML object>"
      ]
     },
     "metadata": {},
     "output_type": "execute_result"
    },
    {
     "data": {
      "text/html": [
       "<font face=\"Courier New\" size=2 color=\"green\"> &nbsp;&nbsp etf_data_8db3de998|(<ipython-input-3-fa54dc64d297>::46) &nbsp;&nbsp;&nbsp;&nbspReading kibot 5min data ---- (starting) </font>"
      ],
      "text/plain": [
       "<IPython.core.display.HTML object>"
      ]
     },
     "metadata": {},
     "output_type": "execute_result"
    },
    {
     "data": {
      "text/html": [
       "<font face=\"Courier New\" size=2 color=\"green\"> &nbsp;&nbsp  etf_data_8db3de998|(<ipython-input-3-fa54dc64d297>::46) &nbsp;&nbsp;&nbsp;&nbspReading kibot 5min data took 0.45s ---- (done)</font>"
      ],
      "text/plain": [
       "<IPython.core.display.HTML object>"
      ]
     },
     "metadata": {},
     "output_type": "execute_result"
    },
    {
     "data": {
      "text/html": [
       "<font face=\"Courier New\" size=2 color=\"green\"> &nbsp;&nbsp etf_data_8db3de998|(<ipython-input-3-fa54dc64d297>::53) &nbsp;&nbsp;&nbsp;&nbspReading polygon data ---- (starting) </font>"
      ],
      "text/plain": [
       "<IPython.core.display.HTML object>"
      ]
     },
     "metadata": {},
     "output_type": "execute_result"
    },
    {
     "data": {
      "text/html": [
       "<font face=\"Courier New\" size=2 color=\"green\"> &nbsp;&nbsp  etf_data_8db3de998|(<ipython-input-3-fa54dc64d297>::53) &nbsp;&nbsp;&nbsp;&nbspReading polygon data took 0.07s ---- (done)</font>"
      ],
      "text/plain": [
       "<IPython.core.display.HTML object>"
      ]
     },
     "metadata": {},
     "output_type": "execute_result"
    },
    {
     "data": {
      "text/html": [
       "<font face=\"Courier New\" size=2 color=\"green\"> &nbsp;&nbsp etf_data_8db3de998|(<ipython-input-3-fa54dc64d297>::73) &nbsp;&nbsp;&nbsp;&nbspmatching against polygon ---- (starting) </font>"
      ],
      "text/plain": [
       "<IPython.core.display.HTML object>"
      ]
     },
     "metadata": {},
     "output_type": "execute_result"
    },
    {
     "data": {
      "text/html": [
       "<font face=\"Courier New\" size=2 color=\"green\"> &nbsp;&nbsp  etf_data_8db3de998|(<ipython-input-3-fa54dc64d297>::73) &nbsp;&nbsp;&nbsp;&nbspmatching against polygon took 0.02s ---- (done)</font>"
      ],
      "text/plain": [
       "<IPython.core.display.HTML object>"
      ]
     },
     "metadata": {},
     "output_type": "execute_result"
    },
    {
     "data": {
      "text/html": [
       "<font face=\"Courier New\" size=2 color=\"green\"> &nbsp;&nbsp etf_data_5d270a8a1|(<ipython-input-3-fa54dc64d297>::39) &nbsp;&nbsp;&nbsp;&nbspReading kibot eod data ---- (starting) </font>"
      ],
      "text/plain": [
       "<IPython.core.display.HTML object>"
      ]
     },
     "metadata": {},
     "output_type": "execute_result"
    },
    {
     "data": {
      "text/html": [
       "<font face=\"Courier New\" size=2 color=\"green\"> &nbsp;&nbsp  etf_data_5d270a8a1|(<ipython-input-3-fa54dc64d297>::39) &nbsp;&nbsp;&nbsp;&nbspReading kibot eod data took 0.02s ---- (done)</font>"
      ],
      "text/plain": [
       "<IPython.core.display.HTML object>"
      ]
     },
     "metadata": {},
     "output_type": "execute_result"
    },
    {
     "data": {
      "text/html": [
       "<font face=\"Courier New\" size=2 color=\"green\"> &nbsp;&nbsp etf_data_5d270a8a1|(<ipython-input-3-fa54dc64d297>::46) &nbsp;&nbsp;&nbsp;&nbspReading kibot 5min data ---- (starting) </font>"
      ],
      "text/plain": [
       "<IPython.core.display.HTML object>"
      ]
     },
     "metadata": {},
     "output_type": "execute_result"
    },
    {
     "data": {
      "text/html": [
       "<font face=\"Courier New\" size=2 color=\"green\"> &nbsp;&nbsp  etf_data_5d270a8a1|(<ipython-input-3-fa54dc64d297>::46) &nbsp;&nbsp;&nbsp;&nbspReading kibot 5min data took 0.42s ---- (done)</font>"
      ],
      "text/plain": [
       "<IPython.core.display.HTML object>"
      ]
     },
     "metadata": {},
     "output_type": "execute_result"
    },
    {
     "data": {
      "text/html": [
       "<font face=\"Courier New\" size=2 color=\"green\"> &nbsp;&nbsp etf_data_5d270a8a1|(<ipython-input-3-fa54dc64d297>::53) &nbsp;&nbsp;&nbsp;&nbspReading polygon data ---- (starting) </font>"
      ],
      "text/plain": [
       "<IPython.core.display.HTML object>"
      ]
     },
     "metadata": {},
     "output_type": "execute_result"
    },
    {
     "data": {
      "text/html": [
       "<font face=\"Courier New\" size=2 color=\"green\"> &nbsp;&nbsp  etf_data_5d270a8a1|(<ipython-input-3-fa54dc64d297>::53) &nbsp;&nbsp;&nbsp;&nbspReading polygon data took 0.07s ---- (done)</font>"
      ],
      "text/plain": [
       "<IPython.core.display.HTML object>"
      ]
     },
     "metadata": {},
     "output_type": "execute_result"
    },
    {
     "data": {
      "text/html": [
       "<font face=\"Courier New\" size=2 color=\"green\"> &nbsp;&nbsp etf_data_5d270a8a1|(<ipython-input-3-fa54dc64d297>::73) &nbsp;&nbsp;&nbsp;&nbspmatching against polygon ---- (starting) </font>"
      ],
      "text/plain": [
       "<IPython.core.display.HTML object>"
      ]
     },
     "metadata": {},
     "output_type": "execute_result"
    },
    {
     "data": {
      "text/html": [
       "<font face=\"Courier New\" size=2 color=\"green\"> &nbsp;&nbsp  etf_data_5d270a8a1|(<ipython-input-3-fa54dc64d297>::73) &nbsp;&nbsp;&nbsp;&nbspmatching against polygon took 0.02s ---- (done)</font>"
      ],
      "text/plain": [
       "<IPython.core.display.HTML object>"
      ]
     },
     "metadata": {},
     "output_type": "execute_result"
    },
    {
     "data": {
      "text/html": [
       "<font face=\"Courier New\" size=2 color=\"green\"> &nbsp;&nbsp etf_data_b0072d525|(<ipython-input-3-fa54dc64d297>::39) &nbsp;&nbsp;&nbsp;&nbspReading kibot eod data ---- (starting) </font>"
      ],
      "text/plain": [
       "<IPython.core.display.HTML object>"
      ]
     },
     "metadata": {},
     "output_type": "execute_result"
    },
    {
     "data": {
      "text/html": [
       "<font face=\"Courier New\" size=2 color=\"green\"> &nbsp;&nbsp  etf_data_b0072d525|(<ipython-input-3-fa54dc64d297>::39) &nbsp;&nbsp;&nbsp;&nbspReading kibot eod data took 0.02s ---- (done)</font>"
      ],
      "text/plain": [
       "<IPython.core.display.HTML object>"
      ]
     },
     "metadata": {},
     "output_type": "execute_result"
    },
    {
     "data": {
      "text/html": [
       "<font face=\"Courier New\" size=2 color=\"green\"> &nbsp;&nbsp etf_data_b0072d525|(<ipython-input-3-fa54dc64d297>::46) &nbsp;&nbsp;&nbsp;&nbspReading kibot 5min data ---- (starting) </font>"
      ],
      "text/plain": [
       "<IPython.core.display.HTML object>"
      ]
     },
     "metadata": {},
     "output_type": "execute_result"
    },
    {
     "data": {
      "text/html": [
       "<font face=\"Courier New\" size=2 color=\"green\"> &nbsp;&nbsp  etf_data_b0072d525|(<ipython-input-3-fa54dc64d297>::46) &nbsp;&nbsp;&nbsp;&nbspReading kibot 5min data took 0.47s ---- (done)</font>"
      ],
      "text/plain": [
       "<IPython.core.display.HTML object>"
      ]
     },
     "metadata": {},
     "output_type": "execute_result"
    },
    {
     "data": {
      "text/html": [
       "<font face=\"Courier New\" size=2 color=\"green\"> &nbsp;&nbsp etf_data_b0072d525|(<ipython-input-3-fa54dc64d297>::53) &nbsp;&nbsp;&nbsp;&nbspReading polygon data ---- (starting) </font>"
      ],
      "text/plain": [
       "<IPython.core.display.HTML object>"
      ]
     },
     "metadata": {},
     "output_type": "execute_result"
    },
    {
     "data": {
      "text/html": [
       "<font face=\"Courier New\" size=2 color=\"green\"> &nbsp;&nbsp  etf_data_b0072d525|(<ipython-input-3-fa54dc64d297>::53) &nbsp;&nbsp;&nbsp;&nbspReading polygon data took 0.00s ---- (done)</font>"
      ],
      "text/plain": [
       "<IPython.core.display.HTML object>"
      ]
     },
     "metadata": {},
     "output_type": "execute_result"
    },
    {
     "data": {
      "text/html": [
       "<font face=\"Courier New\" size=2 color=\"green\"> &nbsp;&nbsp etf_data_dd4a01934|(<ipython-input-3-fa54dc64d297>::39) &nbsp;&nbsp;&nbsp;&nbspReading kibot eod data ---- (starting) </font>"
      ],
      "text/plain": [
       "<IPython.core.display.HTML object>"
      ]
     },
     "metadata": {},
     "output_type": "execute_result"
    },
    {
     "data": {
      "text/html": [
       "<font face=\"Courier New\" size=2 color=\"green\"> &nbsp;&nbsp  etf_data_dd4a01934|(<ipython-input-3-fa54dc64d297>::39) &nbsp;&nbsp;&nbsp;&nbspReading kibot eod data took 0.02s ---- (done)</font>"
      ],
      "text/plain": [
       "<IPython.core.display.HTML object>"
      ]
     },
     "metadata": {},
     "output_type": "execute_result"
    },
    {
     "data": {
      "text/html": [
       "<font face=\"Courier New\" size=2 color=\"green\"> &nbsp;&nbsp etf_data_dd4a01934|(<ipython-input-3-fa54dc64d297>::46) &nbsp;&nbsp;&nbsp;&nbspReading kibot 5min data ---- (starting) </font>"
      ],
      "text/plain": [
       "<IPython.core.display.HTML object>"
      ]
     },
     "metadata": {},
     "output_type": "execute_result"
    },
    {
     "data": {
      "text/html": [
       "<font face=\"Courier New\" size=2 color=\"green\"> &nbsp;&nbsp  etf_data_dd4a01934|(<ipython-input-3-fa54dc64d297>::46) &nbsp;&nbsp;&nbsp;&nbspReading kibot 5min data took 0.44s ---- (done)</font>"
      ],
      "text/plain": [
       "<IPython.core.display.HTML object>"
      ]
     },
     "metadata": {},
     "output_type": "execute_result"
    },
    {
     "data": {
      "text/html": [
       "<font face=\"Courier New\" size=2 color=\"green\"> &nbsp;&nbsp etf_data_dd4a01934|(<ipython-input-3-fa54dc64d297>::53) &nbsp;&nbsp;&nbsp;&nbspReading polygon data ---- (starting) </font>"
      ],
      "text/plain": [
       "<IPython.core.display.HTML object>"
      ]
     },
     "metadata": {},
     "output_type": "execute_result"
    },
    {
     "data": {
      "text/html": [
       "<font face=\"Courier New\" size=2 color=\"green\"> &nbsp;&nbsp  etf_data_dd4a01934|(<ipython-input-3-fa54dc64d297>::53) &nbsp;&nbsp;&nbsp;&nbspReading polygon data took 0.10s ---- (done)</font>"
      ],
      "text/plain": [
       "<IPython.core.display.HTML object>"
      ]
     },
     "metadata": {},
     "output_type": "execute_result"
    },
    {
     "data": {
      "text/html": [
       "<font face=\"Courier New\" size=2 color=\"green\"> &nbsp;&nbsp etf_data_dd4a01934|(<ipython-input-3-fa54dc64d297>::73) &nbsp;&nbsp;&nbsp;&nbspmatching against polygon ---- (starting) </font>"
      ],
      "text/plain": [
       "<IPython.core.display.HTML object>"
      ]
     },
     "metadata": {},
     "output_type": "execute_result"
    },
    {
     "data": {
      "text/html": [
       "<font face=\"Courier New\" size=2 color=\"green\"> &nbsp;&nbsp  etf_data_dd4a01934|(<ipython-input-3-fa54dc64d297>::73) &nbsp;&nbsp;&nbsp;&nbspmatching against polygon took 0.02s ---- (done)</font>"
      ],
      "text/plain": [
       "<IPython.core.display.HTML object>"
      ]
     },
     "metadata": {},
     "output_type": "execute_result"
    },
    {
     "data": {
      "text/html": [
       "<font face=\"Courier New\" size=2 color=\"green\"> &nbsp;&nbsp etf_data_e58e3c49e|(<ipython-input-3-fa54dc64d297>::39) &nbsp;&nbsp;&nbsp;&nbspReading kibot eod data ---- (starting) </font>"
      ],
      "text/plain": [
       "<IPython.core.display.HTML object>"
      ]
     },
     "metadata": {},
     "output_type": "execute_result"
    },
    {
     "data": {
      "text/html": [
       "<font face=\"Courier New\" size=2 color=\"green\"> &nbsp;&nbsp  etf_data_e58e3c49e|(<ipython-input-3-fa54dc64d297>::39) &nbsp;&nbsp;&nbsp;&nbspReading kibot eod data took 0.02s ---- (done)</font>"
      ],
      "text/plain": [
       "<IPython.core.display.HTML object>"
      ]
     },
     "metadata": {},
     "output_type": "execute_result"
    },
    {
     "data": {
      "text/html": [
       "<font face=\"Courier New\" size=2 color=\"green\"> &nbsp;&nbsp etf_data_e58e3c49e|(<ipython-input-3-fa54dc64d297>::46) &nbsp;&nbsp;&nbsp;&nbspReading kibot 5min data ---- (starting) </font>"
      ],
      "text/plain": [
       "<IPython.core.display.HTML object>"
      ]
     },
     "metadata": {},
     "output_type": "execute_result"
    },
    {
     "data": {
      "text/html": [
       "<font face=\"Courier New\" size=2 color=\"green\"> &nbsp;&nbsp  etf_data_e58e3c49e|(<ipython-input-3-fa54dc64d297>::46) &nbsp;&nbsp;&nbsp;&nbspReading kibot 5min data took 0.56s ---- (done)</font>"
      ],
      "text/plain": [
       "<IPython.core.display.HTML object>"
      ]
     },
     "metadata": {},
     "output_type": "execute_result"
    },
    {
     "data": {
      "text/html": [
       "<font face=\"Courier New\" size=2 color=\"green\"> &nbsp;&nbsp etf_data_e58e3c49e|(<ipython-input-3-fa54dc64d297>::53) &nbsp;&nbsp;&nbsp;&nbspReading polygon data ---- (starting) </font>"
      ],
      "text/plain": [
       "<IPython.core.display.HTML object>"
      ]
     },
     "metadata": {},
     "output_type": "execute_result"
    },
    {
     "data": {
      "text/html": [
       "<font face=\"Courier New\" size=2 color=\"green\"> &nbsp;&nbsp  etf_data_e58e3c49e|(<ipython-input-3-fa54dc64d297>::53) &nbsp;&nbsp;&nbsp;&nbspReading polygon data took 0.08s ---- (done)</font>"
      ],
      "text/plain": [
       "<IPython.core.display.HTML object>"
      ]
     },
     "metadata": {},
     "output_type": "execute_result"
    },
    {
     "data": {
      "text/html": [
       "<font face=\"Courier New\" size=2 color=\"green\"> &nbsp;&nbsp etf_data_e58e3c49e|(<ipython-input-3-fa54dc64d297>::73) &nbsp;&nbsp;&nbsp;&nbspmatching against polygon ---- (starting) </font>"
      ],
      "text/plain": [
       "<IPython.core.display.HTML object>"
      ]
     },
     "metadata": {},
     "output_type": "execute_result"
    },
    {
     "data": {
      "text/html": [
       "<font face=\"Courier New\" size=2 color=\"green\"> &nbsp;&nbsp  etf_data_e58e3c49e|(<ipython-input-3-fa54dc64d297>::73) &nbsp;&nbsp;&nbsp;&nbspmatching against polygon took 0.02s ---- (done)</font>"
      ],
      "text/plain": [
       "<IPython.core.display.HTML object>"
      ]
     },
     "metadata": {},
     "output_type": "execute_result"
    },
    {
     "data": {
      "text/html": [
       "<font face=\"Courier New\" size=2 color=\"green\"> &nbsp;&nbsp etf_data_beab5e309|(<ipython-input-3-fa54dc64d297>::39) &nbsp;&nbsp;&nbsp;&nbspReading kibot eod data ---- (starting) </font>"
      ],
      "text/plain": [
       "<IPython.core.display.HTML object>"
      ]
     },
     "metadata": {},
     "output_type": "execute_result"
    },
    {
     "data": {
      "text/html": [
       "<font face=\"Courier New\" size=2 color=\"green\"> &nbsp;&nbsp  etf_data_beab5e309|(<ipython-input-3-fa54dc64d297>::39) &nbsp;&nbsp;&nbsp;&nbspReading kibot eod data took 0.02s ---- (done)</font>"
      ],
      "text/plain": [
       "<IPython.core.display.HTML object>"
      ]
     },
     "metadata": {},
     "output_type": "execute_result"
    },
    {
     "data": {
      "text/html": [
       "<font face=\"Courier New\" size=2 color=\"green\"> &nbsp;&nbsp etf_data_beab5e309|(<ipython-input-3-fa54dc64d297>::46) &nbsp;&nbsp;&nbsp;&nbspReading kibot 5min data ---- (starting) </font>"
      ],
      "text/plain": [
       "<IPython.core.display.HTML object>"
      ]
     },
     "metadata": {},
     "output_type": "execute_result"
    },
    {
     "data": {
      "text/html": [
       "<font face=\"Courier New\" size=2 color=\"green\"> &nbsp;&nbsp  etf_data_beab5e309|(<ipython-input-3-fa54dc64d297>::46) &nbsp;&nbsp;&nbsp;&nbspReading kibot 5min data took 0.38s ---- (done)</font>"
      ],
      "text/plain": [
       "<IPython.core.display.HTML object>"
      ]
     },
     "metadata": {},
     "output_type": "execute_result"
    },
    {
     "data": {
      "text/html": [
       "<font face=\"Courier New\" size=2 color=\"green\"> &nbsp;&nbsp etf_data_beab5e309|(<ipython-input-3-fa54dc64d297>::53) &nbsp;&nbsp;&nbsp;&nbspReading polygon data ---- (starting) </font>"
      ],
      "text/plain": [
       "<IPython.core.display.HTML object>"
      ]
     },
     "metadata": {},
     "output_type": "execute_result"
    },
    {
     "data": {
      "text/html": [
       "<font face=\"Courier New\" size=2 color=\"green\"> &nbsp;&nbsp  etf_data_beab5e309|(<ipython-input-3-fa54dc64d297>::53) &nbsp;&nbsp;&nbsp;&nbspReading polygon data took 0.07s ---- (done)</font>"
      ],
      "text/plain": [
       "<IPython.core.display.HTML object>"
      ]
     },
     "metadata": {},
     "output_type": "execute_result"
    },
    {
     "data": {
      "text/html": [
       "<font face=\"Courier New\" size=2 color=\"green\"> &nbsp;&nbsp etf_data_beab5e309|(<ipython-input-3-fa54dc64d297>::73) &nbsp;&nbsp;&nbsp;&nbspmatching against polygon ---- (starting) </font>"
      ],
      "text/plain": [
       "<IPython.core.display.HTML object>"
      ]
     },
     "metadata": {},
     "output_type": "execute_result"
    },
    {
     "data": {
      "text/html": [
       "<font face=\"Courier New\" size=2 color=\"green\"> &nbsp;&nbsp  etf_data_beab5e309|(<ipython-input-3-fa54dc64d297>::73) &nbsp;&nbsp;&nbsp;&nbspmatching against polygon took 0.02s ---- (done)</font>"
      ],
      "text/plain": [
       "<IPython.core.display.HTML object>"
      ]
     },
     "metadata": {},
     "output_type": "execute_result"
    },
    {
     "data": {
      "text/html": [
       "<font face=\"Courier New\" size=2 color=\"green\"> &nbsp;&nbsp etf_data_820bb7771|(<ipython-input-3-fa54dc64d297>::39) &nbsp;&nbsp;&nbsp;&nbspReading kibot eod data ---- (starting) </font>"
      ],
      "text/plain": [
       "<IPython.core.display.HTML object>"
      ]
     },
     "metadata": {},
     "output_type": "execute_result"
    },
    {
     "data": {
      "text/html": [
       "<font face=\"Courier New\" size=2 color=\"green\"> &nbsp;&nbsp  etf_data_820bb7771|(<ipython-input-3-fa54dc64d297>::39) &nbsp;&nbsp;&nbsp;&nbspReading kibot eod data took 0.02s ---- (done)</font>"
      ],
      "text/plain": [
       "<IPython.core.display.HTML object>"
      ]
     },
     "metadata": {},
     "output_type": "execute_result"
    },
    {
     "data": {
      "text/html": [
       "<font face=\"Courier New\" size=2 color=\"green\"> &nbsp;&nbsp etf_data_820bb7771|(<ipython-input-3-fa54dc64d297>::46) &nbsp;&nbsp;&nbsp;&nbspReading kibot 5min data ---- (starting) </font>"
      ],
      "text/plain": [
       "<IPython.core.display.HTML object>"
      ]
     },
     "metadata": {},
     "output_type": "execute_result"
    },
    {
     "data": {
      "text/html": [
       "<font face=\"Courier New\" size=2 color=\"green\"> &nbsp;&nbsp  etf_data_820bb7771|(<ipython-input-3-fa54dc64d297>::46) &nbsp;&nbsp;&nbsp;&nbspReading kibot 5min data took 0.79s ---- (done)</font>"
      ],
      "text/plain": [
       "<IPython.core.display.HTML object>"
      ]
     },
     "metadata": {},
     "output_type": "execute_result"
    },
    {
     "data": {
      "text/html": [
       "<font face=\"Courier New\" size=2 color=\"green\"> &nbsp;&nbsp etf_data_820bb7771|(<ipython-input-3-fa54dc64d297>::53) &nbsp;&nbsp;&nbsp;&nbspReading polygon data ---- (starting) </font>"
      ],
      "text/plain": [
       "<IPython.core.display.HTML object>"
      ]
     },
     "metadata": {},
     "output_type": "execute_result"
    },
    {
     "data": {
      "text/html": [
       "<font face=\"Courier New\" size=2 color=\"green\"> &nbsp;&nbsp  etf_data_820bb7771|(<ipython-input-3-fa54dc64d297>::53) &nbsp;&nbsp;&nbsp;&nbspReading polygon data took 0.00s ---- (done)</font>"
      ],
      "text/plain": [
       "<IPython.core.display.HTML object>"
      ]
     },
     "metadata": {},
     "output_type": "execute_result"
    },
    {
     "data": {
      "text/html": [
       "<font face=\"Courier New\" size=2 color=\"green\"> &nbsp;&nbsp etf_data_820bb7771|(<ipython-input-3-fa54dc64d297>::63) &nbsp;&nbsp;&nbsp;&nbspReading pi data ---- (starting) </font>"
      ],
      "text/plain": [
       "<IPython.core.display.HTML object>"
      ]
     },
     "metadata": {},
     "output_type": "execute_result"
    },
    {
     "data": {
      "text/html": [
       "<font face=\"Courier New\" size=2 color=\"green\"> &nbsp;&nbsp  etf_data_820bb7771|(<ipython-input-3-fa54dc64d297>::63) &nbsp;&nbsp;&nbsp;&nbspReading pi data took 4.33s ---- (done)</font>"
      ],
      "text/plain": [
       "<IPython.core.display.HTML object>"
      ]
     },
     "metadata": {},
     "output_type": "execute_result"
    },
    {
     "data": {
      "text/html": [
       "<font face=\"Courier New\" size=2 color=\"green\"> &nbsp;&nbsp etf_data_820bb7771|(<ipython-input-3-fa54dc64d297>::78) &nbsp;&nbsp;&nbsp;&nbspmatching against pitrading ---- (starting) </font>"
      ],
      "text/plain": [
       "<IPython.core.display.HTML object>"
      ]
     },
     "metadata": {},
     "output_type": "execute_result"
    },
    {
     "data": {
      "text/html": [
       "<font face=\"Courier New\" size=2 color=\"green\"> &nbsp;&nbsp  etf_data_820bb7771|(<ipython-input-3-fa54dc64d297>::78) &nbsp;&nbsp;&nbsp;&nbspmatching against pitrading took 1.75s ---- (done)</font>"
      ],
      "text/plain": [
       "<IPython.core.display.HTML object>"
      ]
     },
     "metadata": {},
     "output_type": "execute_result"
    },
    {
     "data": {
      "text/html": [
       "<font face=\"Courier New\" size=2 color=\"green\"> &nbsp;&nbsp etf_data_6323128d5|(<ipython-input-3-fa54dc64d297>::39) &nbsp;&nbsp;&nbsp;&nbspReading kibot eod data ---- (starting) </font>"
      ],
      "text/plain": [
       "<IPython.core.display.HTML object>"
      ]
     },
     "metadata": {},
     "output_type": "execute_result"
    },
    {
     "data": {
      "text/html": [
       "<font face=\"Courier New\" size=2 color=\"green\"> &nbsp;&nbsp  etf_data_6323128d5|(<ipython-input-3-fa54dc64d297>::39) &nbsp;&nbsp;&nbsp;&nbspReading kibot eod data took 0.01s ---- (done)</font>"
      ],
      "text/plain": [
       "<IPython.core.display.HTML object>"
      ]
     },
     "metadata": {},
     "output_type": "execute_result"
    },
    {
     "data": {
      "text/html": [
       "<font face=\"Courier New\" size=2 color=\"green\"> &nbsp;&nbsp etf_data_6323128d5|(<ipython-input-3-fa54dc64d297>::46) &nbsp;&nbsp;&nbsp;&nbspReading kibot 5min data ---- (starting) </font>"
      ],
      "text/plain": [
       "<IPython.core.display.HTML object>"
      ]
     },
     "metadata": {},
     "output_type": "execute_result"
    },
    {
     "data": {
      "text/html": [
       "<font face=\"Courier New\" size=2 color=\"green\"> &nbsp;&nbsp  etf_data_6323128d5|(<ipython-input-3-fa54dc64d297>::46) &nbsp;&nbsp;&nbsp;&nbspReading kibot 5min data took 0.30s ---- (done)</font>"
      ],
      "text/plain": [
       "<IPython.core.display.HTML object>"
      ]
     },
     "metadata": {},
     "output_type": "execute_result"
    },
    {
     "data": {
      "text/html": [
       "<font face=\"Courier New\" size=2 color=\"green\"> &nbsp;&nbsp etf_data_6323128d5|(<ipython-input-3-fa54dc64d297>::53) &nbsp;&nbsp;&nbsp;&nbspReading polygon data ---- (starting) </font>"
      ],
      "text/plain": [
       "<IPython.core.display.HTML object>"
      ]
     },
     "metadata": {},
     "output_type": "execute_result"
    },
    {
     "data": {
      "text/html": [
       "<font face=\"Courier New\" size=2 color=\"green\"> &nbsp;&nbsp  etf_data_6323128d5|(<ipython-input-3-fa54dc64d297>::53) &nbsp;&nbsp;&nbsp;&nbspReading polygon data took 0.07s ---- (done)</font>"
      ],
      "text/plain": [
       "<IPython.core.display.HTML object>"
      ]
     },
     "metadata": {},
     "output_type": "execute_result"
    },
    {
     "data": {
      "text/html": [
       "<font face=\"Courier New\" size=2 color=\"green\"> &nbsp;&nbsp etf_data_6323128d5|(<ipython-input-3-fa54dc64d297>::73) &nbsp;&nbsp;&nbsp;&nbspmatching against polygon ---- (starting) </font>"
      ],
      "text/plain": [
       "<IPython.core.display.HTML object>"
      ]
     },
     "metadata": {},
     "output_type": "execute_result"
    },
    {
     "data": {
      "text/html": [
       "<font face=\"Courier New\" size=2 color=\"green\"> &nbsp;&nbsp  etf_data_6323128d5|(<ipython-input-3-fa54dc64d297>::73) &nbsp;&nbsp;&nbsp;&nbspmatching against polygon took 0.01s ---- (done)</font>"
      ],
      "text/plain": [
       "<IPython.core.display.HTML object>"
      ]
     },
     "metadata": {},
     "output_type": "execute_result"
    },
    {
     "data": {
      "text/html": [
       "<font face=\"Courier New\" size=2 color=\"green\"> &nbsp;&nbsp etf_data_89a88aab7|(<ipython-input-3-fa54dc64d297>::39) &nbsp;&nbsp;&nbsp;&nbspReading kibot eod data ---- (starting) </font>"
      ],
      "text/plain": [
       "<IPython.core.display.HTML object>"
      ]
     },
     "metadata": {},
     "output_type": "execute_result"
    },
    {
     "data": {
      "text/html": [
       "<font face=\"Courier New\" size=2 color=\"green\"> &nbsp;&nbsp  etf_data_89a88aab7|(<ipython-input-3-fa54dc64d297>::39) &nbsp;&nbsp;&nbsp;&nbspReading kibot eod data took 0.01s ---- (done)</font>"
      ],
      "text/plain": [
       "<IPython.core.display.HTML object>"
      ]
     },
     "metadata": {},
     "output_type": "execute_result"
    },
    {
     "data": {
      "text/html": [
       "<font face=\"Courier New\" size=2 color=\"green\"> &nbsp;&nbsp etf_data_89a88aab7|(<ipython-input-3-fa54dc64d297>::46) &nbsp;&nbsp;&nbsp;&nbspReading kibot 5min data ---- (starting) </font>"
      ],
      "text/plain": [
       "<IPython.core.display.HTML object>"
      ]
     },
     "metadata": {},
     "output_type": "execute_result"
    },
    {
     "data": {
      "text/html": [
       "<font face=\"Courier New\" size=2 color=\"green\"> &nbsp;&nbsp  etf_data_89a88aab7|(<ipython-input-3-fa54dc64d297>::46) &nbsp;&nbsp;&nbsp;&nbspReading kibot 5min data took 0.39s ---- (done)</font>"
      ],
      "text/plain": [
       "<IPython.core.display.HTML object>"
      ]
     },
     "metadata": {},
     "output_type": "execute_result"
    },
    {
     "data": {
      "text/html": [
       "<font face=\"Courier New\" size=2 color=\"green\"> &nbsp;&nbsp etf_data_89a88aab7|(<ipython-input-3-fa54dc64d297>::53) &nbsp;&nbsp;&nbsp;&nbspReading polygon data ---- (starting) </font>"
      ],
      "text/plain": [
       "<IPython.core.display.HTML object>"
      ]
     },
     "metadata": {},
     "output_type": "execute_result"
    },
    {
     "data": {
      "text/html": [
       "<font face=\"Courier New\" size=2 color=\"green\"> &nbsp;&nbsp  etf_data_89a88aab7|(<ipython-input-3-fa54dc64d297>::53) &nbsp;&nbsp;&nbsp;&nbspReading polygon data took 0.07s ---- (done)</font>"
      ],
      "text/plain": [
       "<IPython.core.display.HTML object>"
      ]
     },
     "metadata": {},
     "output_type": "execute_result"
    },
    {
     "data": {
      "text/html": [
       "<font face=\"Courier New\" size=2 color=\"green\"> &nbsp;&nbsp etf_data_89a88aab7|(<ipython-input-3-fa54dc64d297>::73) &nbsp;&nbsp;&nbsp;&nbspmatching against polygon ---- (starting) </font>"
      ],
      "text/plain": [
       "<IPython.core.display.HTML object>"
      ]
     },
     "metadata": {},
     "output_type": "execute_result"
    },
    {
     "data": {
      "text/html": [
       "<font face=\"Courier New\" size=2 color=\"green\"> &nbsp;&nbsp  etf_data_89a88aab7|(<ipython-input-3-fa54dc64d297>::73) &nbsp;&nbsp;&nbsp;&nbspmatching against polygon took 0.02s ---- (done)</font>"
      ],
      "text/plain": [
       "<IPython.core.display.HTML object>"
      ]
     },
     "metadata": {},
     "output_type": "execute_result"
    },
    {
     "data": {
      "text/html": [
       "<font face=\"Courier New\" size=2 color=\"green\"> &nbsp;&nbsp etf_data_3fae29022|(<ipython-input-3-fa54dc64d297>::39) &nbsp;&nbsp;&nbsp;&nbspReading kibot eod data ---- (starting) </font>"
      ],
      "text/plain": [
       "<IPython.core.display.HTML object>"
      ]
     },
     "metadata": {},
     "output_type": "execute_result"
    },
    {
     "data": {
      "text/html": [
       "<font face=\"Courier New\" size=2 color=\"green\"> &nbsp;&nbsp  etf_data_3fae29022|(<ipython-input-3-fa54dc64d297>::39) &nbsp;&nbsp;&nbsp;&nbspReading kibot eod data took 0.01s ---- (done)</font>"
      ],
      "text/plain": [
       "<IPython.core.display.HTML object>"
      ]
     },
     "metadata": {},
     "output_type": "execute_result"
    },
    {
     "data": {
      "text/html": [
       "<font face=\"Courier New\" size=2 color=\"green\"> &nbsp;&nbsp etf_data_3fae29022|(<ipython-input-3-fa54dc64d297>::46) &nbsp;&nbsp;&nbsp;&nbspReading kibot 5min data ---- (starting) </font>"
      ],
      "text/plain": [
       "<IPython.core.display.HTML object>"
      ]
     },
     "metadata": {},
     "output_type": "execute_result"
    },
    {
     "data": {
      "text/html": [
       "<font face=\"Courier New\" size=2 color=\"green\"> &nbsp;&nbsp  etf_data_3fae29022|(<ipython-input-3-fa54dc64d297>::46) &nbsp;&nbsp;&nbsp;&nbspReading kibot 5min data took 0.39s ---- (done)</font>"
      ],
      "text/plain": [
       "<IPython.core.display.HTML object>"
      ]
     },
     "metadata": {},
     "output_type": "execute_result"
    },
    {
     "data": {
      "text/html": [
       "<font face=\"Courier New\" size=2 color=\"green\"> &nbsp;&nbsp etf_data_3fae29022|(<ipython-input-3-fa54dc64d297>::53) &nbsp;&nbsp;&nbsp;&nbspReading polygon data ---- (starting) </font>"
      ],
      "text/plain": [
       "<IPython.core.display.HTML object>"
      ]
     },
     "metadata": {},
     "output_type": "execute_result"
    },
    {
     "data": {
      "text/html": [
       "<font face=\"Courier New\" size=2 color=\"green\"> &nbsp;&nbsp  etf_data_3fae29022|(<ipython-input-3-fa54dc64d297>::53) &nbsp;&nbsp;&nbsp;&nbspReading polygon data took 0.07s ---- (done)</font>"
      ],
      "text/plain": [
       "<IPython.core.display.HTML object>"
      ]
     },
     "metadata": {},
     "output_type": "execute_result"
    },
    {
     "data": {
      "text/html": [
       "<font face=\"Courier New\" size=2 color=\"green\"> &nbsp;&nbsp etf_data_3fae29022|(<ipython-input-3-fa54dc64d297>::73) &nbsp;&nbsp;&nbsp;&nbspmatching against polygon ---- (starting) </font>"
      ],
      "text/plain": [
       "<IPython.core.display.HTML object>"
      ]
     },
     "metadata": {},
     "output_type": "execute_result"
    },
    {
     "data": {
      "text/html": [
       "<font face=\"Courier New\" size=2 color=\"green\"> &nbsp;&nbsp  etf_data_3fae29022|(<ipython-input-3-fa54dc64d297>::73) &nbsp;&nbsp;&nbsp;&nbspmatching against polygon took 0.02s ---- (done)</font>"
      ],
      "text/plain": [
       "<IPython.core.display.HTML object>"
      ]
     },
     "metadata": {},
     "output_type": "execute_result"
    },
    {
     "data": {
      "text/html": [
       "<font face=\"Courier New\" size=2 color=\"green\"> &nbsp;&nbsp etf_data_3b70e14eb|(<ipython-input-3-fa54dc64d297>::39) &nbsp;&nbsp;&nbsp;&nbspReading kibot eod data ---- (starting) </font>"
      ],
      "text/plain": [
       "<IPython.core.display.HTML object>"
      ]
     },
     "metadata": {},
     "output_type": "execute_result"
    },
    {
     "data": {
      "text/html": [
       "<font face=\"Courier New\" size=2 color=\"green\"> &nbsp;&nbsp  etf_data_3b70e14eb|(<ipython-input-3-fa54dc64d297>::39) &nbsp;&nbsp;&nbsp;&nbspReading kibot eod data took 0.02s ---- (done)</font>"
      ],
      "text/plain": [
       "<IPython.core.display.HTML object>"
      ]
     },
     "metadata": {},
     "output_type": "execute_result"
    },
    {
     "data": {
      "text/html": [
       "<font face=\"Courier New\" size=2 color=\"green\"> &nbsp;&nbsp etf_data_3b70e14eb|(<ipython-input-3-fa54dc64d297>::46) &nbsp;&nbsp;&nbsp;&nbspReading kibot 5min data ---- (starting) </font>"
      ],
      "text/plain": [
       "<IPython.core.display.HTML object>"
      ]
     },
     "metadata": {},
     "output_type": "execute_result"
    },
    {
     "data": {
      "text/html": [
       "<font face=\"Courier New\" size=2 color=\"green\"> &nbsp;&nbsp  etf_data_3b70e14eb|(<ipython-input-3-fa54dc64d297>::46) &nbsp;&nbsp;&nbsp;&nbspReading kibot 5min data took 0.32s ---- (done)</font>"
      ],
      "text/plain": [
       "<IPython.core.display.HTML object>"
      ]
     },
     "metadata": {},
     "output_type": "execute_result"
    },
    {
     "data": {
      "text/html": [
       "<font face=\"Courier New\" size=2 color=\"green\"> &nbsp;&nbsp etf_data_3b70e14eb|(<ipython-input-3-fa54dc64d297>::53) &nbsp;&nbsp;&nbsp;&nbspReading polygon data ---- (starting) </font>"
      ],
      "text/plain": [
       "<IPython.core.display.HTML object>"
      ]
     },
     "metadata": {},
     "output_type": "execute_result"
    },
    {
     "data": {
      "text/html": [
       "<font face=\"Courier New\" size=2 color=\"green\"> &nbsp;&nbsp  etf_data_3b70e14eb|(<ipython-input-3-fa54dc64d297>::53) &nbsp;&nbsp;&nbsp;&nbspReading polygon data took 0.07s ---- (done)</font>"
      ],
      "text/plain": [
       "<IPython.core.display.HTML object>"
      ]
     },
     "metadata": {},
     "output_type": "execute_result"
    },
    {
     "data": {
      "text/html": [
       "<font face=\"Courier New\" size=2 color=\"green\"> &nbsp;&nbsp etf_data_3b70e14eb|(<ipython-input-3-fa54dc64d297>::73) &nbsp;&nbsp;&nbsp;&nbspmatching against polygon ---- (starting) </font>"
      ],
      "text/plain": [
       "<IPython.core.display.HTML object>"
      ]
     },
     "metadata": {},
     "output_type": "execute_result"
    },
    {
     "data": {
      "text/html": [
       "<font face=\"Courier New\" size=2 color=\"green\"> &nbsp;&nbsp  etf_data_3b70e14eb|(<ipython-input-3-fa54dc64d297>::73) &nbsp;&nbsp;&nbsp;&nbspmatching against polygon took 0.02s ---- (done)</font>"
      ],
      "text/plain": [
       "<IPython.core.display.HTML object>"
      ]
     },
     "metadata": {},
     "output_type": "execute_result"
    },
    {
     "data": {
      "text/html": [
       "<font face=\"Courier New\" size=2 color=\"green\"> &nbsp;&nbsp etf_data_b6617b2d6|(<ipython-input-3-fa54dc64d297>::39) &nbsp;&nbsp;&nbsp;&nbspReading kibot eod data ---- (starting) </font>"
      ],
      "text/plain": [
       "<IPython.core.display.HTML object>"
      ]
     },
     "metadata": {},
     "output_type": "execute_result"
    },
    {
     "data": {
      "text/html": [
       "<font face=\"Courier New\" size=2 color=\"green\"> &nbsp;&nbsp  etf_data_b6617b2d6|(<ipython-input-3-fa54dc64d297>::39) &nbsp;&nbsp;&nbsp;&nbspReading kibot eod data took 0.01s ---- (done)</font>"
      ],
      "text/plain": [
       "<IPython.core.display.HTML object>"
      ]
     },
     "metadata": {},
     "output_type": "execute_result"
    },
    {
     "data": {
      "text/html": [
       "<font face=\"Courier New\" size=2 color=\"green\"> &nbsp;&nbsp etf_data_b6617b2d6|(<ipython-input-3-fa54dc64d297>::46) &nbsp;&nbsp;&nbsp;&nbspReading kibot 5min data ---- (starting) </font>"
      ],
      "text/plain": [
       "<IPython.core.display.HTML object>"
      ]
     },
     "metadata": {},
     "output_type": "execute_result"
    },
    {
     "data": {
      "text/html": [
       "<font face=\"Courier New\" size=2 color=\"green\"> &nbsp;&nbsp  etf_data_b6617b2d6|(<ipython-input-3-fa54dc64d297>::46) &nbsp;&nbsp;&nbsp;&nbspReading kibot 5min data took 0.54s ---- (done)</font>"
      ],
      "text/plain": [
       "<IPython.core.display.HTML object>"
      ]
     },
     "metadata": {},
     "output_type": "execute_result"
    },
    {
     "data": {
      "text/html": [
       "<font face=\"Courier New\" size=2 color=\"green\"> &nbsp;&nbsp etf_data_b6617b2d6|(<ipython-input-3-fa54dc64d297>::53) &nbsp;&nbsp;&nbsp;&nbspReading polygon data ---- (starting) </font>"
      ],
      "text/plain": [
       "<IPython.core.display.HTML object>"
      ]
     },
     "metadata": {},
     "output_type": "execute_result"
    },
    {
     "data": {
      "text/html": [
       "<font face=\"Courier New\" size=2 color=\"green\"> &nbsp;&nbsp  etf_data_b6617b2d6|(<ipython-input-3-fa54dc64d297>::53) &nbsp;&nbsp;&nbsp;&nbspReading polygon data took 0.00s ---- (done)</font>"
      ],
      "text/plain": [
       "<IPython.core.display.HTML object>"
      ]
     },
     "metadata": {},
     "output_type": "execute_result"
    },
    {
     "data": {
      "text/html": [
       "<font face=\"Courier New\" size=2 color=\"green\"> &nbsp;&nbsp etf_data_9cc0762f0|(<ipython-input-3-fa54dc64d297>::39) &nbsp;&nbsp;&nbsp;&nbspReading kibot eod data ---- (starting) </font>"
      ],
      "text/plain": [
       "<IPython.core.display.HTML object>"
      ]
     },
     "metadata": {},
     "output_type": "execute_result"
    },
    {
     "data": {
      "text/html": [
       "<font face=\"Courier New\" size=2 color=\"green\"> &nbsp;&nbsp  etf_data_9cc0762f0|(<ipython-input-3-fa54dc64d297>::39) &nbsp;&nbsp;&nbsp;&nbspReading kibot eod data took 0.02s ---- (done)</font>"
      ],
      "text/plain": [
       "<IPython.core.display.HTML object>"
      ]
     },
     "metadata": {},
     "output_type": "execute_result"
    },
    {
     "data": {
      "text/html": [
       "<font face=\"Courier New\" size=2 color=\"green\"> &nbsp;&nbsp etf_data_9cc0762f0|(<ipython-input-3-fa54dc64d297>::46) &nbsp;&nbsp;&nbsp;&nbspReading kibot 5min data ---- (starting) </font>"
      ],
      "text/plain": [
       "<IPython.core.display.HTML object>"
      ]
     },
     "metadata": {},
     "output_type": "execute_result"
    },
    {
     "data": {
      "text/html": [
       "<font face=\"Courier New\" size=2 color=\"green\"> &nbsp;&nbsp  etf_data_9cc0762f0|(<ipython-input-3-fa54dc64d297>::46) &nbsp;&nbsp;&nbsp;&nbspReading kibot 5min data took 0.54s ---- (done)</font>"
      ],
      "text/plain": [
       "<IPython.core.display.HTML object>"
      ]
     },
     "metadata": {},
     "output_type": "execute_result"
    },
    {
     "data": {
      "text/html": [
       "<font face=\"Courier New\" size=2 color=\"green\"> &nbsp;&nbsp etf_data_9cc0762f0|(<ipython-input-3-fa54dc64d297>::53) &nbsp;&nbsp;&nbsp;&nbspReading polygon data ---- (starting) </font>"
      ],
      "text/plain": [
       "<IPython.core.display.HTML object>"
      ]
     },
     "metadata": {},
     "output_type": "execute_result"
    },
    {
     "data": {
      "text/html": [
       "<font face=\"Courier New\" size=2 color=\"green\"> &nbsp;&nbsp  etf_data_9cc0762f0|(<ipython-input-3-fa54dc64d297>::53) &nbsp;&nbsp;&nbsp;&nbspReading polygon data took 0.07s ---- (done)</font>"
      ],
      "text/plain": [
       "<IPython.core.display.HTML object>"
      ]
     },
     "metadata": {},
     "output_type": "execute_result"
    },
    {
     "data": {
      "text/html": [
       "<font face=\"Courier New\" size=2 color=\"green\"> &nbsp;&nbsp etf_data_9cc0762f0|(<ipython-input-3-fa54dc64d297>::73) &nbsp;&nbsp;&nbsp;&nbspmatching against polygon ---- (starting) </font>"
      ],
      "text/plain": [
       "<IPython.core.display.HTML object>"
      ]
     },
     "metadata": {},
     "output_type": "execute_result"
    },
    {
     "data": {
      "text/html": [
       "<font face=\"Courier New\" size=2 color=\"green\"> &nbsp;&nbsp  etf_data_9cc0762f0|(<ipython-input-3-fa54dc64d297>::73) &nbsp;&nbsp;&nbsp;&nbspmatching against polygon took 0.02s ---- (done)</font>"
      ],
      "text/plain": [
       "<IPython.core.display.HTML object>"
      ]
     },
     "metadata": {},
     "output_type": "execute_result"
    },
    {
     "data": {
      "text/html": [
       "<font face=\"Courier New\" size=2 color=\"green\"> &nbsp;&nbsp etf_data_13cb16a1a|(<ipython-input-3-fa54dc64d297>::39) &nbsp;&nbsp;&nbsp;&nbspReading kibot eod data ---- (starting) </font>"
      ],
      "text/plain": [
       "<IPython.core.display.HTML object>"
      ]
     },
     "metadata": {},
     "output_type": "execute_result"
    },
    {
     "data": {
      "text/html": [
       "<font face=\"Courier New\" size=2 color=\"green\"> &nbsp;&nbsp  etf_data_13cb16a1a|(<ipython-input-3-fa54dc64d297>::39) &nbsp;&nbsp;&nbsp;&nbspReading kibot eod data took 0.02s ---- (done)</font>"
      ],
      "text/plain": [
       "<IPython.core.display.HTML object>"
      ]
     },
     "metadata": {},
     "output_type": "execute_result"
    },
    {
     "data": {
      "text/html": [
       "<font face=\"Courier New\" size=2 color=\"green\"> &nbsp;&nbsp etf_data_13cb16a1a|(<ipython-input-3-fa54dc64d297>::46) &nbsp;&nbsp;&nbsp;&nbspReading kibot 5min data ---- (starting) </font>"
      ],
      "text/plain": [
       "<IPython.core.display.HTML object>"
      ]
     },
     "metadata": {},
     "output_type": "execute_result"
    },
    {
     "data": {
      "text/html": [
       "<font face=\"Courier New\" size=2 color=\"green\"> &nbsp;&nbsp  etf_data_13cb16a1a|(<ipython-input-3-fa54dc64d297>::46) &nbsp;&nbsp;&nbsp;&nbspReading kibot 5min data took 0.71s ---- (done)</font>"
      ],
      "text/plain": [
       "<IPython.core.display.HTML object>"
      ]
     },
     "metadata": {},
     "output_type": "execute_result"
    },
    {
     "data": {
      "text/html": [
       "<font face=\"Courier New\" size=2 color=\"green\"> &nbsp;&nbsp etf_data_13cb16a1a|(<ipython-input-3-fa54dc64d297>::53) &nbsp;&nbsp;&nbsp;&nbspReading polygon data ---- (starting) </font>"
      ],
      "text/plain": [
       "<IPython.core.display.HTML object>"
      ]
     },
     "metadata": {},
     "output_type": "execute_result"
    },
    {
     "data": {
      "text/html": [
       "<font face=\"Courier New\" size=2 color=\"green\"> &nbsp;&nbsp  etf_data_13cb16a1a|(<ipython-input-3-fa54dc64d297>::53) &nbsp;&nbsp;&nbsp;&nbspReading polygon data took 0.10s ---- (done)</font>"
      ],
      "text/plain": [
       "<IPython.core.display.HTML object>"
      ]
     },
     "metadata": {},
     "output_type": "execute_result"
    },
    {
     "data": {
      "text/html": [
       "<font face=\"Courier New\" size=2 color=\"green\"> &nbsp;&nbsp etf_data_13cb16a1a|(<ipython-input-3-fa54dc64d297>::63) &nbsp;&nbsp;&nbsp;&nbspReading pi data ---- (starting) </font>"
      ],
      "text/plain": [
       "<IPython.core.display.HTML object>"
      ]
     },
     "metadata": {},
     "output_type": "execute_result"
    },
    {
     "data": {
      "text/html": [
       "<font face=\"Courier New\" size=2 color=\"green\"> &nbsp;&nbsp  etf_data_13cb16a1a|(<ipython-input-3-fa54dc64d297>::63) &nbsp;&nbsp;&nbsp;&nbspReading pi data took 4.13s ---- (done)</font>"
      ],
      "text/plain": [
       "<IPython.core.display.HTML object>"
      ]
     },
     "metadata": {},
     "output_type": "execute_result"
    },
    {
     "data": {
      "text/html": [
       "<font face=\"Courier New\" size=2 color=\"green\"> &nbsp;&nbsp etf_data_13cb16a1a|(<ipython-input-3-fa54dc64d297>::73) &nbsp;&nbsp;&nbsp;&nbspmatching against polygon ---- (starting) </font>"
      ],
      "text/plain": [
       "<IPython.core.display.HTML object>"
      ]
     },
     "metadata": {},
     "output_type": "execute_result"
    },
    {
     "data": {
      "text/html": [
       "<font face=\"Courier New\" size=2 color=\"green\"> &nbsp;&nbsp  etf_data_13cb16a1a|(<ipython-input-3-fa54dc64d297>::73) &nbsp;&nbsp;&nbsp;&nbspmatching against polygon took 0.02s ---- (done)</font>"
      ],
      "text/plain": [
       "<IPython.core.display.HTML object>"
      ]
     },
     "metadata": {},
     "output_type": "execute_result"
    },
    {
     "data": {
      "text/html": [
       "<font face=\"Courier New\" size=2 color=\"green\"> &nbsp;&nbsp etf_data_13cb16a1a|(<ipython-input-3-fa54dc64d297>::78) &nbsp;&nbsp;&nbsp;&nbspmatching against pitrading ---- (starting) </font>"
      ],
      "text/plain": [
       "<IPython.core.display.HTML object>"
      ]
     },
     "metadata": {},
     "output_type": "execute_result"
    },
    {
     "data": {
      "text/html": [
       "<font face=\"Courier New\" size=2 color=\"green\"> &nbsp;&nbsp  etf_data_13cb16a1a|(<ipython-input-3-fa54dc64d297>::78) &nbsp;&nbsp;&nbsp;&nbspmatching against pitrading took 1.57s ---- (done)</font>"
      ],
      "text/plain": [
       "<IPython.core.display.HTML object>"
      ]
     },
     "metadata": {},
     "output_type": "execute_result"
    },
    {
     "data": {
      "text/html": [
       "<font face=\"Courier New\" size=2 color=\"green\"> &nbsp;&nbsp etf_data_b4113ff77|(<ipython-input-3-fa54dc64d297>::39) &nbsp;&nbsp;&nbsp;&nbspReading kibot eod data ---- (starting) </font>"
      ],
      "text/plain": [
       "<IPython.core.display.HTML object>"
      ]
     },
     "metadata": {},
     "output_type": "execute_result"
    },
    {
     "data": {
      "text/html": [
       "<font face=\"Courier New\" size=2 color=\"green\"> &nbsp;&nbsp  etf_data_b4113ff77|(<ipython-input-3-fa54dc64d297>::39) &nbsp;&nbsp;&nbsp;&nbspReading kibot eod data took 0.01s ---- (done)</font>"
      ],
      "text/plain": [
       "<IPython.core.display.HTML object>"
      ]
     },
     "metadata": {},
     "output_type": "execute_result"
    },
    {
     "data": {
      "text/html": [
       "<font face=\"Courier New\" size=2 color=\"green\"> &nbsp;&nbsp etf_data_b4113ff77|(<ipython-input-3-fa54dc64d297>::46) &nbsp;&nbsp;&nbsp;&nbspReading kibot 5min data ---- (starting) </font>"
      ],
      "text/plain": [
       "<IPython.core.display.HTML object>"
      ]
     },
     "metadata": {},
     "output_type": "execute_result"
    },
    {
     "data": {
      "text/html": [
       "<font face=\"Courier New\" size=2 color=\"green\"> &nbsp;&nbsp  etf_data_b4113ff77|(<ipython-input-3-fa54dc64d297>::46) &nbsp;&nbsp;&nbsp;&nbspReading kibot 5min data took 0.39s ---- (done)</font>"
      ],
      "text/plain": [
       "<IPython.core.display.HTML object>"
      ]
     },
     "metadata": {},
     "output_type": "execute_result"
    },
    {
     "data": {
      "text/html": [
       "<font face=\"Courier New\" size=2 color=\"green\"> &nbsp;&nbsp etf_data_b4113ff77|(<ipython-input-3-fa54dc64d297>::53) &nbsp;&nbsp;&nbsp;&nbspReading polygon data ---- (starting) </font>"
      ],
      "text/plain": [
       "<IPython.core.display.HTML object>"
      ]
     },
     "metadata": {},
     "output_type": "execute_result"
    },
    {
     "data": {
      "text/html": [
       "<font face=\"Courier New\" size=2 color=\"green\"> &nbsp;&nbsp  etf_data_b4113ff77|(<ipython-input-3-fa54dc64d297>::53) &nbsp;&nbsp;&nbsp;&nbspReading polygon data took 0.07s ---- (done)</font>"
      ],
      "text/plain": [
       "<IPython.core.display.HTML object>"
      ]
     },
     "metadata": {},
     "output_type": "execute_result"
    },
    {
     "data": {
      "text/html": [
       "<font face=\"Courier New\" size=2 color=\"green\"> &nbsp;&nbsp etf_data_b4113ff77|(<ipython-input-3-fa54dc64d297>::73) &nbsp;&nbsp;&nbsp;&nbspmatching against polygon ---- (starting) </font>"
      ],
      "text/plain": [
       "<IPython.core.display.HTML object>"
      ]
     },
     "metadata": {},
     "output_type": "execute_result"
    },
    {
     "data": {
      "text/html": [
       "<font face=\"Courier New\" size=2 color=\"green\"> &nbsp;&nbsp  etf_data_b4113ff77|(<ipython-input-3-fa54dc64d297>::73) &nbsp;&nbsp;&nbsp;&nbspmatching against polygon took 0.02s ---- (done)</font>"
      ],
      "text/plain": [
       "<IPython.core.display.HTML object>"
      ]
     },
     "metadata": {},
     "output_type": "execute_result"
    },
    {
     "data": {
      "text/html": [
       "<font face=\"Courier New\" size=2 color=\"green\"> &nbsp;&nbsp etf_data_66dd8af15|(<ipython-input-3-fa54dc64d297>::39) &nbsp;&nbsp;&nbsp;&nbspReading kibot eod data ---- (starting) </font>"
      ],
      "text/plain": [
       "<IPython.core.display.HTML object>"
      ]
     },
     "metadata": {},
     "output_type": "execute_result"
    },
    {
     "data": {
      "text/html": [
       "<font face=\"Courier New\" size=2 color=\"green\"> &nbsp;&nbsp  etf_data_66dd8af15|(<ipython-input-3-fa54dc64d297>::39) &nbsp;&nbsp;&nbsp;&nbspReading kibot eod data took 0.02s ---- (done)</font>"
      ],
      "text/plain": [
       "<IPython.core.display.HTML object>"
      ]
     },
     "metadata": {},
     "output_type": "execute_result"
    },
    {
     "data": {
      "text/html": [
       "<font face=\"Courier New\" size=2 color=\"green\"> &nbsp;&nbsp etf_data_66dd8af15|(<ipython-input-3-fa54dc64d297>::46) &nbsp;&nbsp;&nbsp;&nbspReading kibot 5min data ---- (starting) </font>"
      ],
      "text/plain": [
       "<IPython.core.display.HTML object>"
      ]
     },
     "metadata": {},
     "output_type": "execute_result"
    },
    {
     "data": {
      "text/html": [
       "<font face=\"Courier New\" size=2 color=\"green\"> &nbsp;&nbsp  etf_data_66dd8af15|(<ipython-input-3-fa54dc64d297>::46) &nbsp;&nbsp;&nbsp;&nbspReading kibot 5min data took 0.42s ---- (done)</font>"
      ],
      "text/plain": [
       "<IPython.core.display.HTML object>"
      ]
     },
     "metadata": {},
     "output_type": "execute_result"
    },
    {
     "data": {
      "text/html": [
       "<font face=\"Courier New\" size=2 color=\"green\"> &nbsp;&nbsp etf_data_66dd8af15|(<ipython-input-3-fa54dc64d297>::53) &nbsp;&nbsp;&nbsp;&nbspReading polygon data ---- (starting) </font>"
      ],
      "text/plain": [
       "<IPython.core.display.HTML object>"
      ]
     },
     "metadata": {},
     "output_type": "execute_result"
    },
    {
     "data": {
      "text/html": [
       "<font face=\"Courier New\" size=2 color=\"green\"> &nbsp;&nbsp  etf_data_66dd8af15|(<ipython-input-3-fa54dc64d297>::53) &nbsp;&nbsp;&nbsp;&nbspReading polygon data took 0.07s ---- (done)</font>"
      ],
      "text/plain": [
       "<IPython.core.display.HTML object>"
      ]
     },
     "metadata": {},
     "output_type": "execute_result"
    },
    {
     "data": {
      "text/html": [
       "<font face=\"Courier New\" size=2 color=\"green\"> &nbsp;&nbsp etf_data_66dd8af15|(<ipython-input-3-fa54dc64d297>::73) &nbsp;&nbsp;&nbsp;&nbspmatching against polygon ---- (starting) </font>"
      ],
      "text/plain": [
       "<IPython.core.display.HTML object>"
      ]
     },
     "metadata": {},
     "output_type": "execute_result"
    },
    {
     "data": {
      "text/html": [
       "<font face=\"Courier New\" size=2 color=\"green\"> &nbsp;&nbsp  etf_data_66dd8af15|(<ipython-input-3-fa54dc64d297>::73) &nbsp;&nbsp;&nbsp;&nbspmatching against polygon took 0.02s ---- (done)</font>"
      ],
      "text/plain": [
       "<IPython.core.display.HTML object>"
      ]
     },
     "metadata": {},
     "output_type": "execute_result"
    },
    {
     "data": {
      "text/html": [
       "<font face=\"Courier New\" size=2 color=\"green\"> &nbsp;&nbsp etf_data_b677d60e5|(<ipython-input-3-fa54dc64d297>::39) &nbsp;&nbsp;&nbsp;&nbspReading kibot eod data ---- (starting) </font>"
      ],
      "text/plain": [
       "<IPython.core.display.HTML object>"
      ]
     },
     "metadata": {},
     "output_type": "execute_result"
    },
    {
     "data": {
      "text/html": [
       "<font face=\"Courier New\" size=2 color=\"green\"> &nbsp;&nbsp  etf_data_b677d60e5|(<ipython-input-3-fa54dc64d297>::39) &nbsp;&nbsp;&nbsp;&nbspReading kibot eod data took 0.01s ---- (done)</font>"
      ],
      "text/plain": [
       "<IPython.core.display.HTML object>"
      ]
     },
     "metadata": {},
     "output_type": "execute_result"
    },
    {
     "data": {
      "text/html": [
       "<font face=\"Courier New\" size=2 color=\"green\"> &nbsp;&nbsp etf_data_b677d60e5|(<ipython-input-3-fa54dc64d297>::46) &nbsp;&nbsp;&nbsp;&nbspReading kibot 5min data ---- (starting) </font>"
      ],
      "text/plain": [
       "<IPython.core.display.HTML object>"
      ]
     },
     "metadata": {},
     "output_type": "execute_result"
    },
    {
     "data": {
      "text/html": [
       "<font face=\"Courier New\" size=2 color=\"green\"> &nbsp;&nbsp  etf_data_b677d60e5|(<ipython-input-3-fa54dc64d297>::46) &nbsp;&nbsp;&nbsp;&nbspReading kibot 5min data took 0.40s ---- (done)</font>"
      ],
      "text/plain": [
       "<IPython.core.display.HTML object>"
      ]
     },
     "metadata": {},
     "output_type": "execute_result"
    },
    {
     "data": {
      "text/html": [
       "<font face=\"Courier New\" size=2 color=\"green\"> &nbsp;&nbsp etf_data_b677d60e5|(<ipython-input-3-fa54dc64d297>::53) &nbsp;&nbsp;&nbsp;&nbspReading polygon data ---- (starting) </font>"
      ],
      "text/plain": [
       "<IPython.core.display.HTML object>"
      ]
     },
     "metadata": {},
     "output_type": "execute_result"
    },
    {
     "data": {
      "text/html": [
       "<font face=\"Courier New\" size=2 color=\"green\"> &nbsp;&nbsp  etf_data_b677d60e5|(<ipython-input-3-fa54dc64d297>::53) &nbsp;&nbsp;&nbsp;&nbspReading polygon data took 0.07s ---- (done)</font>"
      ],
      "text/plain": [
       "<IPython.core.display.HTML object>"
      ]
     },
     "metadata": {},
     "output_type": "execute_result"
    },
    {
     "data": {
      "text/html": [
       "<font face=\"Courier New\" size=2 color=\"green\"> &nbsp;&nbsp etf_data_b677d60e5|(<ipython-input-3-fa54dc64d297>::73) &nbsp;&nbsp;&nbsp;&nbspmatching against polygon ---- (starting) </font>"
      ],
      "text/plain": [
       "<IPython.core.display.HTML object>"
      ]
     },
     "metadata": {},
     "output_type": "execute_result"
    },
    {
     "data": {
      "text/html": [
       "<font face=\"Courier New\" size=2 color=\"green\"> &nbsp;&nbsp  etf_data_b677d60e5|(<ipython-input-3-fa54dc64d297>::73) &nbsp;&nbsp;&nbsp;&nbspmatching against polygon took 0.02s ---- (done)</font>"
      ],
      "text/plain": [
       "<IPython.core.display.HTML object>"
      ]
     },
     "metadata": {},
     "output_type": "execute_result"
    },
    {
     "data": {
      "text/html": [
       "<font face=\"Courier New\" size=2 color=\"green\"> &nbsp;&nbsp etf_data_16d560082|(<ipython-input-3-fa54dc64d297>::39) &nbsp;&nbsp;&nbsp;&nbspReading kibot eod data ---- (starting) </font>"
      ],
      "text/plain": [
       "<IPython.core.display.HTML object>"
      ]
     },
     "metadata": {},
     "output_type": "execute_result"
    },
    {
     "data": {
      "text/html": [
       "<font face=\"Courier New\" size=2 color=\"green\"> &nbsp;&nbsp  etf_data_16d560082|(<ipython-input-3-fa54dc64d297>::39) &nbsp;&nbsp;&nbsp;&nbspReading kibot eod data took 0.02s ---- (done)</font>"
      ],
      "text/plain": [
       "<IPython.core.display.HTML object>"
      ]
     },
     "metadata": {},
     "output_type": "execute_result"
    },
    {
     "data": {
      "text/html": [
       "<font face=\"Courier New\" size=2 color=\"green\"> &nbsp;&nbsp etf_data_16d560082|(<ipython-input-3-fa54dc64d297>::46) &nbsp;&nbsp;&nbsp;&nbspReading kibot 5min data ---- (starting) </font>"
      ],
      "text/plain": [
       "<IPython.core.display.HTML object>"
      ]
     },
     "metadata": {},
     "output_type": "execute_result"
    },
    {
     "data": {
      "text/html": [
       "<font face=\"Courier New\" size=2 color=\"green\"> &nbsp;&nbsp  etf_data_16d560082|(<ipython-input-3-fa54dc64d297>::46) &nbsp;&nbsp;&nbsp;&nbspReading kibot 5min data took 0.44s ---- (done)</font>"
      ],
      "text/plain": [
       "<IPython.core.display.HTML object>"
      ]
     },
     "metadata": {},
     "output_type": "execute_result"
    },
    {
     "data": {
      "text/html": [
       "<font face=\"Courier New\" size=2 color=\"green\"> &nbsp;&nbsp etf_data_16d560082|(<ipython-input-3-fa54dc64d297>::53) &nbsp;&nbsp;&nbsp;&nbspReading polygon data ---- (starting) </font>"
      ],
      "text/plain": [
       "<IPython.core.display.HTML object>"
      ]
     },
     "metadata": {},
     "output_type": "execute_result"
    },
    {
     "data": {
      "text/html": [
       "<font face=\"Courier New\" size=2 color=\"green\"> &nbsp;&nbsp  etf_data_16d560082|(<ipython-input-3-fa54dc64d297>::53) &nbsp;&nbsp;&nbsp;&nbspReading polygon data took 0.07s ---- (done)</font>"
      ],
      "text/plain": [
       "<IPython.core.display.HTML object>"
      ]
     },
     "metadata": {},
     "output_type": "execute_result"
    },
    {
     "data": {
      "text/html": [
       "<font face=\"Courier New\" size=2 color=\"green\"> &nbsp;&nbsp etf_data_16d560082|(<ipython-input-3-fa54dc64d297>::73) &nbsp;&nbsp;&nbsp;&nbspmatching against polygon ---- (starting) </font>"
      ],
      "text/plain": [
       "<IPython.core.display.HTML object>"
      ]
     },
     "metadata": {},
     "output_type": "execute_result"
    },
    {
     "data": {
      "text/html": [
       "<font face=\"Courier New\" size=2 color=\"green\"> &nbsp;&nbsp  etf_data_16d560082|(<ipython-input-3-fa54dc64d297>::73) &nbsp;&nbsp;&nbsp;&nbspmatching against polygon took 0.02s ---- (done)</font>"
      ],
      "text/plain": [
       "<IPython.core.display.HTML object>"
      ]
     },
     "metadata": {},
     "output_type": "execute_result"
    },
    {
     "data": {
      "text/html": [
       "<font face=\"Courier New\" size=2 color=\"green\"> &nbsp;&nbsp etf_data_892212a6a|(<ipython-input-3-fa54dc64d297>::39) &nbsp;&nbsp;&nbsp;&nbspReading kibot eod data ---- (starting) </font>"
      ],
      "text/plain": [
       "<IPython.core.display.HTML object>"
      ]
     },
     "metadata": {},
     "output_type": "execute_result"
    },
    {
     "data": {
      "text/html": [
       "<font face=\"Courier New\" size=2 color=\"green\"> &nbsp;&nbsp  etf_data_892212a6a|(<ipython-input-3-fa54dc64d297>::39) &nbsp;&nbsp;&nbsp;&nbspReading kibot eod data took 0.02s ---- (done)</font>"
      ],
      "text/plain": [
       "<IPython.core.display.HTML object>"
      ]
     },
     "metadata": {},
     "output_type": "execute_result"
    },
    {
     "data": {
      "text/html": [
       "<font face=\"Courier New\" size=2 color=\"green\"> &nbsp;&nbsp etf_data_892212a6a|(<ipython-input-3-fa54dc64d297>::46) &nbsp;&nbsp;&nbsp;&nbspReading kibot 5min data ---- (starting) </font>"
      ],
      "text/plain": [
       "<IPython.core.display.HTML object>"
      ]
     },
     "metadata": {},
     "output_type": "execute_result"
    },
    {
     "data": {
      "text/html": [
       "<font face=\"Courier New\" size=2 color=\"green\"> &nbsp;&nbsp  etf_data_892212a6a|(<ipython-input-3-fa54dc64d297>::46) &nbsp;&nbsp;&nbsp;&nbspReading kibot 5min data took 0.67s ---- (done)</font>"
      ],
      "text/plain": [
       "<IPython.core.display.HTML object>"
      ]
     },
     "metadata": {},
     "output_type": "execute_result"
    },
    {
     "data": {
      "text/html": [
       "<font face=\"Courier New\" size=2 color=\"green\"> &nbsp;&nbsp etf_data_892212a6a|(<ipython-input-3-fa54dc64d297>::53) &nbsp;&nbsp;&nbsp;&nbspReading polygon data ---- (starting) </font>"
      ],
      "text/plain": [
       "<IPython.core.display.HTML object>"
      ]
     },
     "metadata": {},
     "output_type": "execute_result"
    },
    {
     "data": {
      "text/html": [
       "<font face=\"Courier New\" size=2 color=\"green\"> &nbsp;&nbsp  etf_data_892212a6a|(<ipython-input-3-fa54dc64d297>::53) &nbsp;&nbsp;&nbsp;&nbspReading polygon data took 0.07s ---- (done)</font>"
      ],
      "text/plain": [
       "<IPython.core.display.HTML object>"
      ]
     },
     "metadata": {},
     "output_type": "execute_result"
    },
    {
     "data": {
      "text/html": [
       "<font face=\"Courier New\" size=2 color=\"green\"> &nbsp;&nbsp etf_data_892212a6a|(<ipython-input-3-fa54dc64d297>::73) &nbsp;&nbsp;&nbsp;&nbspmatching against polygon ---- (starting) </font>"
      ],
      "text/plain": [
       "<IPython.core.display.HTML object>"
      ]
     },
     "metadata": {},
     "output_type": "execute_result"
    },
    {
     "data": {
      "text/html": [
       "<font face=\"Courier New\" size=2 color=\"green\"> &nbsp;&nbsp  etf_data_892212a6a|(<ipython-input-3-fa54dc64d297>::73) &nbsp;&nbsp;&nbsp;&nbspmatching against polygon took 0.02s ---- (done)</font>"
      ],
      "text/plain": [
       "<IPython.core.display.HTML object>"
      ]
     },
     "metadata": {},
     "output_type": "execute_result"
    },
    {
     "data": {
      "text/html": [
       "<font face=\"Courier New\" size=2 color=\"green\"> &nbsp;&nbsp etf_data_6fac93076|(<ipython-input-3-fa54dc64d297>::39) &nbsp;&nbsp;&nbsp;&nbspReading kibot eod data ---- (starting) </font>"
      ],
      "text/plain": [
       "<IPython.core.display.HTML object>"
      ]
     },
     "metadata": {},
     "output_type": "execute_result"
    },
    {
     "data": {
      "text/html": [
       "<font face=\"Courier New\" size=2 color=\"green\"> &nbsp;&nbsp  etf_data_6fac93076|(<ipython-input-3-fa54dc64d297>::39) &nbsp;&nbsp;&nbsp;&nbspReading kibot eod data took 0.02s ---- (done)</font>"
      ],
      "text/plain": [
       "<IPython.core.display.HTML object>"
      ]
     },
     "metadata": {},
     "output_type": "execute_result"
    },
    {
     "data": {
      "text/html": [
       "<font face=\"Courier New\" size=2 color=\"green\"> &nbsp;&nbsp etf_data_6fac93076|(<ipython-input-3-fa54dc64d297>::46) &nbsp;&nbsp;&nbsp;&nbspReading kibot 5min data ---- (starting) </font>"
      ],
      "text/plain": [
       "<IPython.core.display.HTML object>"
      ]
     },
     "metadata": {},
     "output_type": "execute_result"
    },
    {
     "data": {
      "text/html": [
       "<font face=\"Courier New\" size=2 color=\"green\"> &nbsp;&nbsp  etf_data_6fac93076|(<ipython-input-3-fa54dc64d297>::46) &nbsp;&nbsp;&nbsp;&nbspReading kibot 5min data took 0.63s ---- (done)</font>"
      ],
      "text/plain": [
       "<IPython.core.display.HTML object>"
      ]
     },
     "metadata": {},
     "output_type": "execute_result"
    },
    {
     "data": {
      "text/html": [
       "<font face=\"Courier New\" size=2 color=\"green\"> &nbsp;&nbsp etf_data_6fac93076|(<ipython-input-3-fa54dc64d297>::53) &nbsp;&nbsp;&nbsp;&nbspReading polygon data ---- (starting) </font>"
      ],
      "text/plain": [
       "<IPython.core.display.HTML object>"
      ]
     },
     "metadata": {},
     "output_type": "execute_result"
    },
    {
     "data": {
      "text/html": [
       "<font face=\"Courier New\" size=2 color=\"green\"> &nbsp;&nbsp  etf_data_6fac93076|(<ipython-input-3-fa54dc64d297>::53) &nbsp;&nbsp;&nbsp;&nbspReading polygon data took 0.07s ---- (done)</font>"
      ],
      "text/plain": [
       "<IPython.core.display.HTML object>"
      ]
     },
     "metadata": {},
     "output_type": "execute_result"
    },
    {
     "data": {
      "text/html": [
       "<font face=\"Courier New\" size=2 color=\"green\"> &nbsp;&nbsp etf_data_6fac93076|(<ipython-input-3-fa54dc64d297>::73) &nbsp;&nbsp;&nbsp;&nbspmatching against polygon ---- (starting) </font>"
      ],
      "text/plain": [
       "<IPython.core.display.HTML object>"
      ]
     },
     "metadata": {},
     "output_type": "execute_result"
    },
    {
     "data": {
      "text/html": [
       "<font face=\"Courier New\" size=2 color=\"green\"> &nbsp;&nbsp  etf_data_6fac93076|(<ipython-input-3-fa54dc64d297>::73) &nbsp;&nbsp;&nbsp;&nbspmatching against polygon took 0.02s ---- (done)</font>"
      ],
      "text/plain": [
       "<IPython.core.display.HTML object>"
      ]
     },
     "metadata": {},
     "output_type": "execute_result"
    },
    {
     "data": {
      "text/html": [
       "<font face=\"Courier New\" size=2 color=\"green\"> &nbsp;&nbsp etf_data_565367dcb|(<ipython-input-3-fa54dc64d297>::39) &nbsp;&nbsp;&nbsp;&nbspReading kibot eod data ---- (starting) </font>"
      ],
      "text/plain": [
       "<IPython.core.display.HTML object>"
      ]
     },
     "metadata": {},
     "output_type": "execute_result"
    },
    {
     "data": {
      "text/html": [
       "<font face=\"Courier New\" size=2 color=\"green\"> &nbsp;&nbsp  etf_data_565367dcb|(<ipython-input-3-fa54dc64d297>::39) &nbsp;&nbsp;&nbsp;&nbspReading kibot eod data took 0.02s ---- (done)</font>"
      ],
      "text/plain": [
       "<IPython.core.display.HTML object>"
      ]
     },
     "metadata": {},
     "output_type": "execute_result"
    },
    {
     "data": {
      "text/html": [
       "<font face=\"Courier New\" size=2 color=\"green\"> &nbsp;&nbsp etf_data_565367dcb|(<ipython-input-3-fa54dc64d297>::46) &nbsp;&nbsp;&nbsp;&nbspReading kibot 5min data ---- (starting) </font>"
      ],
      "text/plain": [
       "<IPython.core.display.HTML object>"
      ]
     },
     "metadata": {},
     "output_type": "execute_result"
    },
    {
     "data": {
      "text/html": [
       "<font face=\"Courier New\" size=2 color=\"green\"> &nbsp;&nbsp  etf_data_565367dcb|(<ipython-input-3-fa54dc64d297>::46) &nbsp;&nbsp;&nbsp;&nbspReading kibot 5min data took 1.22s ---- (done)</font>"
      ],
      "text/plain": [
       "<IPython.core.display.HTML object>"
      ]
     },
     "metadata": {},
     "output_type": "execute_result"
    },
    {
     "data": {
      "text/html": [
       "<font face=\"Courier New\" size=2 color=\"green\"> &nbsp;&nbsp etf_data_565367dcb|(<ipython-input-3-fa54dc64d297>::53) &nbsp;&nbsp;&nbsp;&nbspReading polygon data ---- (starting) </font>"
      ],
      "text/plain": [
       "<IPython.core.display.HTML object>"
      ]
     },
     "metadata": {},
     "output_type": "execute_result"
    },
    {
     "data": {
      "text/html": [
       "<font face=\"Courier New\" size=2 color=\"green\"> &nbsp;&nbsp  etf_data_565367dcb|(<ipython-input-3-fa54dc64d297>::53) &nbsp;&nbsp;&nbsp;&nbspReading polygon data took 0.00s ---- (done)</font>"
      ],
      "text/plain": [
       "<IPython.core.display.HTML object>"
      ]
     },
     "metadata": {},
     "output_type": "execute_result"
    },
    {
     "data": {
      "text/html": [
       "<font face=\"Courier New\" size=2 color=\"green\"> &nbsp;&nbsp etf_data_565367dcb|(<ipython-input-3-fa54dc64d297>::63) &nbsp;&nbsp;&nbsp;&nbspReading pi data ---- (starting) </font>"
      ],
      "text/plain": [
       "<IPython.core.display.HTML object>"
      ]
     },
     "metadata": {},
     "output_type": "execute_result"
    },
    {
     "data": {
      "text/html": [
       "<font face=\"Courier New\" size=2 color=\"green\"> &nbsp;&nbsp  etf_data_565367dcb|(<ipython-input-3-fa54dc64d297>::63) &nbsp;&nbsp;&nbsp;&nbspReading pi data took 5.17s ---- (done)</font>"
      ],
      "text/plain": [
       "<IPython.core.display.HTML object>"
      ]
     },
     "metadata": {},
     "output_type": "execute_result"
    },
    {
     "data": {
      "text/html": [
       "<font face=\"Courier New\" size=2 color=\"green\"> &nbsp;&nbsp etf_data_565367dcb|(<ipython-input-3-fa54dc64d297>::78) &nbsp;&nbsp;&nbsp;&nbspmatching against pitrading ---- (starting) </font>"
      ],
      "text/plain": [
       "<IPython.core.display.HTML object>"
      ]
     },
     "metadata": {},
     "output_type": "execute_result"
    },
    {
     "data": {
      "text/html": [
       "<font face=\"Courier New\" size=2 color=\"green\"> &nbsp;&nbsp  etf_data_565367dcb|(<ipython-input-3-fa54dc64d297>::78) &nbsp;&nbsp;&nbsp;&nbspmatching against pitrading took 2.47s ---- (done)</font>"
      ],
      "text/plain": [
       "<IPython.core.display.HTML object>"
      ]
     },
     "metadata": {},
     "output_type": "execute_result"
    },
    {
     "data": {
      "text/html": [
       "<font face=\"Courier New\" size=2 color=\"green\"> &nbsp;&nbsp etf_data_8ffdda03c|(<ipython-input-3-fa54dc64d297>::39) &nbsp;&nbsp;&nbsp;&nbspReading kibot eod data ---- (starting) </font>"
      ],
      "text/plain": [
       "<IPython.core.display.HTML object>"
      ]
     },
     "metadata": {},
     "output_type": "execute_result"
    },
    {
     "data": {
      "text/html": [
       "<font face=\"Courier New\" size=2 color=\"green\"> &nbsp;&nbsp  etf_data_8ffdda03c|(<ipython-input-3-fa54dc64d297>::39) &nbsp;&nbsp;&nbsp;&nbspReading kibot eod data took 0.02s ---- (done)</font>"
      ],
      "text/plain": [
       "<IPython.core.display.HTML object>"
      ]
     },
     "metadata": {},
     "output_type": "execute_result"
    },
    {
     "data": {
      "text/html": [
       "<font face=\"Courier New\" size=2 color=\"green\"> &nbsp;&nbsp etf_data_8ffdda03c|(<ipython-input-3-fa54dc64d297>::46) &nbsp;&nbsp;&nbsp;&nbspReading kibot 5min data ---- (starting) </font>"
      ],
      "text/plain": [
       "<IPython.core.display.HTML object>"
      ]
     },
     "metadata": {},
     "output_type": "execute_result"
    },
    {
     "data": {
      "text/html": [
       "<font face=\"Courier New\" size=2 color=\"green\"> &nbsp;&nbsp  etf_data_8ffdda03c|(<ipython-input-3-fa54dc64d297>::46) &nbsp;&nbsp;&nbsp;&nbspReading kibot 5min data took 0.51s ---- (done)</font>"
      ],
      "text/plain": [
       "<IPython.core.display.HTML object>"
      ]
     },
     "metadata": {},
     "output_type": "execute_result"
    },
    {
     "data": {
      "text/html": [
       "<font face=\"Courier New\" size=2 color=\"green\"> &nbsp;&nbsp etf_data_8ffdda03c|(<ipython-input-3-fa54dc64d297>::53) &nbsp;&nbsp;&nbsp;&nbspReading polygon data ---- (starting) </font>"
      ],
      "text/plain": [
       "<IPython.core.display.HTML object>"
      ]
     },
     "metadata": {},
     "output_type": "execute_result"
    },
    {
     "data": {
      "text/html": [
       "<font face=\"Courier New\" size=2 color=\"green\"> &nbsp;&nbsp  etf_data_8ffdda03c|(<ipython-input-3-fa54dc64d297>::53) &nbsp;&nbsp;&nbsp;&nbspReading polygon data took 0.10s ---- (done)</font>"
      ],
      "text/plain": [
       "<IPython.core.display.HTML object>"
      ]
     },
     "metadata": {},
     "output_type": "execute_result"
    },
    {
     "data": {
      "text/html": [
       "<font face=\"Courier New\" size=2 color=\"green\"> &nbsp;&nbsp etf_data_8ffdda03c|(<ipython-input-3-fa54dc64d297>::73) &nbsp;&nbsp;&nbsp;&nbspmatching against polygon ---- (starting) </font>"
      ],
      "text/plain": [
       "<IPython.core.display.HTML object>"
      ]
     },
     "metadata": {},
     "output_type": "execute_result"
    },
    {
     "data": {
      "text/html": [
       "<font face=\"Courier New\" size=2 color=\"green\"> &nbsp;&nbsp  etf_data_8ffdda03c|(<ipython-input-3-fa54dc64d297>::73) &nbsp;&nbsp;&nbsp;&nbspmatching against polygon took 0.02s ---- (done)</font>"
      ],
      "text/plain": [
       "<IPython.core.display.HTML object>"
      ]
     },
     "metadata": {},
     "output_type": "execute_result"
    },
    {
     "data": {
      "text/html": [
       "<font face=\"Courier New\" size=2 color=\"green\"> &nbsp;&nbsp etf_data_1167b42eb|(<ipython-input-3-fa54dc64d297>::39) &nbsp;&nbsp;&nbsp;&nbspReading kibot eod data ---- (starting) </font>"
      ],
      "text/plain": [
       "<IPython.core.display.HTML object>"
      ]
     },
     "metadata": {},
     "output_type": "execute_result"
    },
    {
     "data": {
      "text/html": [
       "<font face=\"Courier New\" size=2 color=\"green\"> &nbsp;&nbsp  etf_data_1167b42eb|(<ipython-input-3-fa54dc64d297>::39) &nbsp;&nbsp;&nbsp;&nbspReading kibot eod data took 0.02s ---- (done)</font>"
      ],
      "text/plain": [
       "<IPython.core.display.HTML object>"
      ]
     },
     "metadata": {},
     "output_type": "execute_result"
    },
    {
     "data": {
      "text/html": [
       "<font face=\"Courier New\" size=2 color=\"green\"> &nbsp;&nbsp etf_data_1167b42eb|(<ipython-input-3-fa54dc64d297>::46) &nbsp;&nbsp;&nbsp;&nbspReading kibot 5min data ---- (starting) </font>"
      ],
      "text/plain": [
       "<IPython.core.display.HTML object>"
      ]
     },
     "metadata": {},
     "output_type": "execute_result"
    },
    {
     "data": {
      "text/html": [
       "<font face=\"Courier New\" size=2 color=\"green\"> &nbsp;&nbsp  etf_data_1167b42eb|(<ipython-input-3-fa54dc64d297>::46) &nbsp;&nbsp;&nbsp;&nbspReading kibot 5min data took 0.53s ---- (done)</font>"
      ],
      "text/plain": [
       "<IPython.core.display.HTML object>"
      ]
     },
     "metadata": {},
     "output_type": "execute_result"
    },
    {
     "data": {
      "text/html": [
       "<font face=\"Courier New\" size=2 color=\"green\"> &nbsp;&nbsp etf_data_1167b42eb|(<ipython-input-3-fa54dc64d297>::53) &nbsp;&nbsp;&nbsp;&nbspReading polygon data ---- (starting) </font>"
      ],
      "text/plain": [
       "<IPython.core.display.HTML object>"
      ]
     },
     "metadata": {},
     "output_type": "execute_result"
    },
    {
     "data": {
      "text/html": [
       "<font face=\"Courier New\" size=2 color=\"green\"> &nbsp;&nbsp  etf_data_1167b42eb|(<ipython-input-3-fa54dc64d297>::53) &nbsp;&nbsp;&nbsp;&nbspReading polygon data took 0.07s ---- (done)</font>"
      ],
      "text/plain": [
       "<IPython.core.display.HTML object>"
      ]
     },
     "metadata": {},
     "output_type": "execute_result"
    },
    {
     "data": {
      "text/html": [
       "<font face=\"Courier New\" size=2 color=\"green\"> &nbsp;&nbsp etf_data_1167b42eb|(<ipython-input-3-fa54dc64d297>::63) &nbsp;&nbsp;&nbsp;&nbspReading pi data ---- (starting) </font>"
      ],
      "text/plain": [
       "<IPython.core.display.HTML object>"
      ]
     },
     "metadata": {},
     "output_type": "execute_result"
    },
    {
     "data": {
      "text/html": [
       "<font face=\"Courier New\" size=2 color=\"green\"> &nbsp;&nbsp  etf_data_1167b42eb|(<ipython-input-3-fa54dc64d297>::63) &nbsp;&nbsp;&nbsp;&nbspReading pi data took 2.87s ---- (done)</font>"
      ],
      "text/plain": [
       "<IPython.core.display.HTML object>"
      ]
     },
     "metadata": {},
     "output_type": "execute_result"
    },
    {
     "data": {
      "text/html": [
       "<font face=\"Courier New\" size=2 color=\"green\"> &nbsp;&nbsp etf_data_1167b42eb|(<ipython-input-3-fa54dc64d297>::73) &nbsp;&nbsp;&nbsp;&nbspmatching against polygon ---- (starting) </font>"
      ],
      "text/plain": [
       "<IPython.core.display.HTML object>"
      ]
     },
     "metadata": {},
     "output_type": "execute_result"
    },
    {
     "data": {
      "text/html": [
       "<font face=\"Courier New\" size=2 color=\"green\"> &nbsp;&nbsp  etf_data_1167b42eb|(<ipython-input-3-fa54dc64d297>::73) &nbsp;&nbsp;&nbsp;&nbspmatching against polygon took 0.02s ---- (done)</font>"
      ],
      "text/plain": [
       "<IPython.core.display.HTML object>"
      ]
     },
     "metadata": {},
     "output_type": "execute_result"
    },
    {
     "data": {
      "text/html": [
       "<font face=\"Courier New\" size=2 color=\"green\"> &nbsp;&nbsp etf_data_1167b42eb|(<ipython-input-3-fa54dc64d297>::78) &nbsp;&nbsp;&nbsp;&nbspmatching against pitrading ---- (starting) </font>"
      ],
      "text/plain": [
       "<IPython.core.display.HTML object>"
      ]
     },
     "metadata": {},
     "output_type": "execute_result"
    },
    {
     "data": {
      "text/html": [
       "<font face=\"Courier New\" size=2 color=\"green\"> &nbsp;&nbsp  etf_data_1167b42eb|(<ipython-input-3-fa54dc64d297>::78) &nbsp;&nbsp;&nbsp;&nbspmatching against pitrading took 1.02s ---- (done)</font>"
      ],
      "text/plain": [
       "<IPython.core.display.HTML object>"
      ]
     },
     "metadata": {},
     "output_type": "execute_result"
    },
    {
     "data": {
      "text/html": [
       "<font face=\"Courier New\" size=2 color=\"green\"> &nbsp;&nbsp etf_data_787df654e|(<ipython-input-3-fa54dc64d297>::39) &nbsp;&nbsp;&nbsp;&nbspReading kibot eod data ---- (starting) </font>"
      ],
      "text/plain": [
       "<IPython.core.display.HTML object>"
      ]
     },
     "metadata": {},
     "output_type": "execute_result"
    },
    {
     "data": {
      "text/html": [
       "<font face=\"Courier New\" size=2 color=\"green\"> &nbsp;&nbsp  etf_data_787df654e|(<ipython-input-3-fa54dc64d297>::39) &nbsp;&nbsp;&nbsp;&nbspReading kibot eod data took 0.02s ---- (done)</font>"
      ],
      "text/plain": [
       "<IPython.core.display.HTML object>"
      ]
     },
     "metadata": {},
     "output_type": "execute_result"
    },
    {
     "data": {
      "text/html": [
       "<font face=\"Courier New\" size=2 color=\"green\"> &nbsp;&nbsp etf_data_787df654e|(<ipython-input-3-fa54dc64d297>::46) &nbsp;&nbsp;&nbsp;&nbspReading kibot 5min data ---- (starting) </font>"
      ],
      "text/plain": [
       "<IPython.core.display.HTML object>"
      ]
     },
     "metadata": {},
     "output_type": "execute_result"
    },
    {
     "data": {
      "text/html": [
       "<font face=\"Courier New\" size=2 color=\"green\"> &nbsp;&nbsp  etf_data_787df654e|(<ipython-input-3-fa54dc64d297>::46) &nbsp;&nbsp;&nbsp;&nbspReading kibot 5min data took 0.42s ---- (done)</font>"
      ],
      "text/plain": [
       "<IPython.core.display.HTML object>"
      ]
     },
     "metadata": {},
     "output_type": "execute_result"
    },
    {
     "data": {
      "text/html": [
       "<font face=\"Courier New\" size=2 color=\"green\"> &nbsp;&nbsp etf_data_787df654e|(<ipython-input-3-fa54dc64d297>::53) &nbsp;&nbsp;&nbsp;&nbspReading polygon data ---- (starting) </font>"
      ],
      "text/plain": [
       "<IPython.core.display.HTML object>"
      ]
     },
     "metadata": {},
     "output_type": "execute_result"
    },
    {
     "data": {
      "text/html": [
       "<font face=\"Courier New\" size=2 color=\"green\"> &nbsp;&nbsp  etf_data_787df654e|(<ipython-input-3-fa54dc64d297>::53) &nbsp;&nbsp;&nbsp;&nbspReading polygon data took 0.07s ---- (done)</font>"
      ],
      "text/plain": [
       "<IPython.core.display.HTML object>"
      ]
     },
     "metadata": {},
     "output_type": "execute_result"
    },
    {
     "data": {
      "text/html": [
       "<font face=\"Courier New\" size=2 color=\"green\"> &nbsp;&nbsp etf_data_787df654e|(<ipython-input-3-fa54dc64d297>::73) &nbsp;&nbsp;&nbsp;&nbspmatching against polygon ---- (starting) </font>"
      ],
      "text/plain": [
       "<IPython.core.display.HTML object>"
      ]
     },
     "metadata": {},
     "output_type": "execute_result"
    },
    {
     "data": {
      "text/html": [
       "<font face=\"Courier New\" size=2 color=\"green\"> &nbsp;&nbsp  etf_data_787df654e|(<ipython-input-3-fa54dc64d297>::73) &nbsp;&nbsp;&nbsp;&nbspmatching against polygon took 0.02s ---- (done)</font>"
      ],
      "text/plain": [
       "<IPython.core.display.HTML object>"
      ]
     },
     "metadata": {},
     "output_type": "execute_result"
    },
    {
     "data": {
      "text/html": [
       "<font face=\"Courier New\" size=2 color=\"green\"> &nbsp;&nbsp etf_data_db113a153|(<ipython-input-3-fa54dc64d297>::39) &nbsp;&nbsp;&nbsp;&nbspReading kibot eod data ---- (starting) </font>"
      ],
      "text/plain": [
       "<IPython.core.display.HTML object>"
      ]
     },
     "metadata": {},
     "output_type": "execute_result"
    },
    {
     "data": {
      "text/html": [
       "<font face=\"Courier New\" size=2 color=\"green\"> &nbsp;&nbsp  etf_data_db113a153|(<ipython-input-3-fa54dc64d297>::39) &nbsp;&nbsp;&nbsp;&nbspReading kibot eod data took 0.02s ---- (done)</font>"
      ],
      "text/plain": [
       "<IPython.core.display.HTML object>"
      ]
     },
     "metadata": {},
     "output_type": "execute_result"
    },
    {
     "data": {
      "text/html": [
       "<font face=\"Courier New\" size=2 color=\"green\"> &nbsp;&nbsp etf_data_db113a153|(<ipython-input-3-fa54dc64d297>::46) &nbsp;&nbsp;&nbsp;&nbspReading kibot 5min data ---- (starting) </font>"
      ],
      "text/plain": [
       "<IPython.core.display.HTML object>"
      ]
     },
     "metadata": {},
     "output_type": "execute_result"
    },
    {
     "data": {
      "text/html": [
       "<font face=\"Courier New\" size=2 color=\"green\"> &nbsp;&nbsp  etf_data_db113a153|(<ipython-input-3-fa54dc64d297>::46) &nbsp;&nbsp;&nbsp;&nbspReading kibot 5min data took 0.47s ---- (done)</font>"
      ],
      "text/plain": [
       "<IPython.core.display.HTML object>"
      ]
     },
     "metadata": {},
     "output_type": "execute_result"
    },
    {
     "data": {
      "text/html": [
       "<font face=\"Courier New\" size=2 color=\"green\"> &nbsp;&nbsp etf_data_db113a153|(<ipython-input-3-fa54dc64d297>::53) &nbsp;&nbsp;&nbsp;&nbspReading polygon data ---- (starting) </font>"
      ],
      "text/plain": [
       "<IPython.core.display.HTML object>"
      ]
     },
     "metadata": {},
     "output_type": "execute_result"
    },
    {
     "data": {
      "text/html": [
       "<font face=\"Courier New\" size=2 color=\"green\"> &nbsp;&nbsp  etf_data_db113a153|(<ipython-input-3-fa54dc64d297>::53) &nbsp;&nbsp;&nbsp;&nbspReading polygon data took 0.07s ---- (done)</font>"
      ],
      "text/plain": [
       "<IPython.core.display.HTML object>"
      ]
     },
     "metadata": {},
     "output_type": "execute_result"
    },
    {
     "data": {
      "text/html": [
       "<font face=\"Courier New\" size=2 color=\"green\"> &nbsp;&nbsp etf_data_db113a153|(<ipython-input-3-fa54dc64d297>::73) &nbsp;&nbsp;&nbsp;&nbspmatching against polygon ---- (starting) </font>"
      ],
      "text/plain": [
       "<IPython.core.display.HTML object>"
      ]
     },
     "metadata": {},
     "output_type": "execute_result"
    },
    {
     "data": {
      "text/html": [
       "<font face=\"Courier New\" size=2 color=\"green\"> &nbsp;&nbsp  etf_data_db113a153|(<ipython-input-3-fa54dc64d297>::73) &nbsp;&nbsp;&nbsp;&nbspmatching against polygon took 0.02s ---- (done)</font>"
      ],
      "text/plain": [
       "<IPython.core.display.HTML object>"
      ]
     },
     "metadata": {},
     "output_type": "execute_result"
    },
    {
     "data": {
      "text/html": [
       "<font face=\"Courier New\" size=2 color=\"green\"> &nbsp;&nbsp etf_data_c97ecba7b|(<ipython-input-3-fa54dc64d297>::39) &nbsp;&nbsp;&nbsp;&nbspReading kibot eod data ---- (starting) </font>"
      ],
      "text/plain": [
       "<IPython.core.display.HTML object>"
      ]
     },
     "metadata": {},
     "output_type": "execute_result"
    },
    {
     "data": {
      "text/html": [
       "<font face=\"Courier New\" size=2 color=\"green\"> &nbsp;&nbsp  etf_data_c97ecba7b|(<ipython-input-3-fa54dc64d297>::39) &nbsp;&nbsp;&nbsp;&nbspReading kibot eod data took 0.02s ---- (done)</font>"
      ],
      "text/plain": [
       "<IPython.core.display.HTML object>"
      ]
     },
     "metadata": {},
     "output_type": "execute_result"
    },
    {
     "data": {
      "text/html": [
       "<font face=\"Courier New\" size=2 color=\"green\"> &nbsp;&nbsp etf_data_c97ecba7b|(<ipython-input-3-fa54dc64d297>::46) &nbsp;&nbsp;&nbsp;&nbspReading kibot 5min data ---- (starting) </font>"
      ],
      "text/plain": [
       "<IPython.core.display.HTML object>"
      ]
     },
     "metadata": {},
     "output_type": "execute_result"
    },
    {
     "data": {
      "text/html": [
       "<font face=\"Courier New\" size=2 color=\"green\"> &nbsp;&nbsp  etf_data_c97ecba7b|(<ipython-input-3-fa54dc64d297>::46) &nbsp;&nbsp;&nbsp;&nbspReading kibot 5min data took 0.44s ---- (done)</font>"
      ],
      "text/plain": [
       "<IPython.core.display.HTML object>"
      ]
     },
     "metadata": {},
     "output_type": "execute_result"
    },
    {
     "data": {
      "text/html": [
       "<font face=\"Courier New\" size=2 color=\"green\"> &nbsp;&nbsp etf_data_c97ecba7b|(<ipython-input-3-fa54dc64d297>::53) &nbsp;&nbsp;&nbsp;&nbspReading polygon data ---- (starting) </font>"
      ],
      "text/plain": [
       "<IPython.core.display.HTML object>"
      ]
     },
     "metadata": {},
     "output_type": "execute_result"
    },
    {
     "data": {
      "text/html": [
       "<font face=\"Courier New\" size=2 color=\"green\"> &nbsp;&nbsp  etf_data_c97ecba7b|(<ipython-input-3-fa54dc64d297>::53) &nbsp;&nbsp;&nbsp;&nbspReading polygon data took 0.07s ---- (done)</font>"
      ],
      "text/plain": [
       "<IPython.core.display.HTML object>"
      ]
     },
     "metadata": {},
     "output_type": "execute_result"
    },
    {
     "data": {
      "text/html": [
       "<font face=\"Courier New\" size=2 color=\"green\"> &nbsp;&nbsp etf_data_c97ecba7b|(<ipython-input-3-fa54dc64d297>::73) &nbsp;&nbsp;&nbsp;&nbspmatching against polygon ---- (starting) </font>"
      ],
      "text/plain": [
       "<IPython.core.display.HTML object>"
      ]
     },
     "metadata": {},
     "output_type": "execute_result"
    },
    {
     "data": {
      "text/html": [
       "<font face=\"Courier New\" size=2 color=\"green\"> &nbsp;&nbsp  etf_data_c97ecba7b|(<ipython-input-3-fa54dc64d297>::73) &nbsp;&nbsp;&nbsp;&nbspmatching against polygon took 0.02s ---- (done)</font>"
      ],
      "text/plain": [
       "<IPython.core.display.HTML object>"
      ]
     },
     "metadata": {},
     "output_type": "execute_result"
    },
    {
     "data": {
      "text/html": [
       "<font face=\"Courier New\" size=2 color=\"green\"> &nbsp;&nbsp etf_data_e46228b92|(<ipython-input-3-fa54dc64d297>::39) &nbsp;&nbsp;&nbsp;&nbspReading kibot eod data ---- (starting) </font>"
      ],
      "text/plain": [
       "<IPython.core.display.HTML object>"
      ]
     },
     "metadata": {},
     "output_type": "execute_result"
    },
    {
     "data": {
      "text/html": [
       "<font face=\"Courier New\" size=2 color=\"green\"> &nbsp;&nbsp  etf_data_e46228b92|(<ipython-input-3-fa54dc64d297>::39) &nbsp;&nbsp;&nbsp;&nbspReading kibot eod data took 0.01s ---- (done)</font>"
      ],
      "text/plain": [
       "<IPython.core.display.HTML object>"
      ]
     },
     "metadata": {},
     "output_type": "execute_result"
    },
    {
     "data": {
      "text/html": [
       "<font face=\"Courier New\" size=2 color=\"green\"> &nbsp;&nbsp etf_data_e46228b92|(<ipython-input-3-fa54dc64d297>::46) &nbsp;&nbsp;&nbsp;&nbspReading kibot 5min data ---- (starting) </font>"
      ],
      "text/plain": [
       "<IPython.core.display.HTML object>"
      ]
     },
     "metadata": {},
     "output_type": "execute_result"
    },
    {
     "data": {
      "text/html": [
       "<font face=\"Courier New\" size=2 color=\"green\"> &nbsp;&nbsp  etf_data_e46228b92|(<ipython-input-3-fa54dc64d297>::46) &nbsp;&nbsp;&nbsp;&nbspReading kibot 5min data took 0.34s ---- (done)</font>"
      ],
      "text/plain": [
       "<IPython.core.display.HTML object>"
      ]
     },
     "metadata": {},
     "output_type": "execute_result"
    },
    {
     "data": {
      "text/html": [
       "<font face=\"Courier New\" size=2 color=\"green\"> &nbsp;&nbsp etf_data_e46228b92|(<ipython-input-3-fa54dc64d297>::53) &nbsp;&nbsp;&nbsp;&nbspReading polygon data ---- (starting) </font>"
      ],
      "text/plain": [
       "<IPython.core.display.HTML object>"
      ]
     },
     "metadata": {},
     "output_type": "execute_result"
    },
    {
     "data": {
      "text/html": [
       "<font face=\"Courier New\" size=2 color=\"green\"> &nbsp;&nbsp  etf_data_e46228b92|(<ipython-input-3-fa54dc64d297>::53) &nbsp;&nbsp;&nbsp;&nbspReading polygon data took 0.07s ---- (done)</font>"
      ],
      "text/plain": [
       "<IPython.core.display.HTML object>"
      ]
     },
     "metadata": {},
     "output_type": "execute_result"
    },
    {
     "data": {
      "text/html": [
       "<font face=\"Courier New\" size=2 color=\"green\"> &nbsp;&nbsp etf_data_e46228b92|(<ipython-input-3-fa54dc64d297>::73) &nbsp;&nbsp;&nbsp;&nbspmatching against polygon ---- (starting) </font>"
      ],
      "text/plain": [
       "<IPython.core.display.HTML object>"
      ]
     },
     "metadata": {},
     "output_type": "execute_result"
    },
    {
     "data": {
      "text/html": [
       "<font face=\"Courier New\" size=2 color=\"green\"> &nbsp;&nbsp  etf_data_e46228b92|(<ipython-input-3-fa54dc64d297>::73) &nbsp;&nbsp;&nbsp;&nbspmatching against polygon took 0.01s ---- (done)</font>"
      ],
      "text/plain": [
       "<IPython.core.display.HTML object>"
      ]
     },
     "metadata": {},
     "output_type": "execute_result"
    },
    {
     "data": {
      "text/html": [
       "<font face=\"Courier New\" size=2 color=\"green\"> &nbsp;&nbsp etf_data_127467475|(<ipython-input-3-fa54dc64d297>::39) &nbsp;&nbsp;&nbsp;&nbspReading kibot eod data ---- (starting) </font>"
      ],
      "text/plain": [
       "<IPython.core.display.HTML object>"
      ]
     },
     "metadata": {},
     "output_type": "execute_result"
    },
    {
     "data": {
      "text/html": [
       "<font face=\"Courier New\" size=2 color=\"green\"> &nbsp;&nbsp  etf_data_127467475|(<ipython-input-3-fa54dc64d297>::39) &nbsp;&nbsp;&nbsp;&nbspReading kibot eod data took 0.01s ---- (done)</font>"
      ],
      "text/plain": [
       "<IPython.core.display.HTML object>"
      ]
     },
     "metadata": {},
     "output_type": "execute_result"
    },
    {
     "data": {
      "text/html": [
       "<font face=\"Courier New\" size=2 color=\"green\"> &nbsp;&nbsp etf_data_127467475|(<ipython-input-3-fa54dc64d297>::46) &nbsp;&nbsp;&nbsp;&nbspReading kibot 5min data ---- (starting) </font>"
      ],
      "text/plain": [
       "<IPython.core.display.HTML object>"
      ]
     },
     "metadata": {},
     "output_type": "execute_result"
    },
    {
     "data": {
      "text/html": [
       "<font face=\"Courier New\" size=2 color=\"green\"> &nbsp;&nbsp  etf_data_127467475|(<ipython-input-3-fa54dc64d297>::46) &nbsp;&nbsp;&nbsp;&nbspReading kibot 5min data took 0.51s ---- (done)</font>"
      ],
      "text/plain": [
       "<IPython.core.display.HTML object>"
      ]
     },
     "metadata": {},
     "output_type": "execute_result"
    },
    {
     "data": {
      "text/html": [
       "<font face=\"Courier New\" size=2 color=\"green\"> &nbsp;&nbsp etf_data_127467475|(<ipython-input-3-fa54dc64d297>::53) &nbsp;&nbsp;&nbsp;&nbspReading polygon data ---- (starting) </font>"
      ],
      "text/plain": [
       "<IPython.core.display.HTML object>"
      ]
     },
     "metadata": {},
     "output_type": "execute_result"
    },
    {
     "data": {
      "text/html": [
       "<font face=\"Courier New\" size=2 color=\"green\"> &nbsp;&nbsp  etf_data_127467475|(<ipython-input-3-fa54dc64d297>::53) &nbsp;&nbsp;&nbsp;&nbspReading polygon data took 0.07s ---- (done)</font>"
      ],
      "text/plain": [
       "<IPython.core.display.HTML object>"
      ]
     },
     "metadata": {},
     "output_type": "execute_result"
    },
    {
     "data": {
      "text/html": [
       "<font face=\"Courier New\" size=2 color=\"green\"> &nbsp;&nbsp etf_data_127467475|(<ipython-input-3-fa54dc64d297>::73) &nbsp;&nbsp;&nbsp;&nbspmatching against polygon ---- (starting) </font>"
      ],
      "text/plain": [
       "<IPython.core.display.HTML object>"
      ]
     },
     "metadata": {},
     "output_type": "execute_result"
    },
    {
     "data": {
      "text/html": [
       "<font face=\"Courier New\" size=2 color=\"green\"> &nbsp;&nbsp  etf_data_127467475|(<ipython-input-3-fa54dc64d297>::73) &nbsp;&nbsp;&nbsp;&nbspmatching against polygon took 0.02s ---- (done)</font>"
      ],
      "text/plain": [
       "<IPython.core.display.HTML object>"
      ]
     },
     "metadata": {},
     "output_type": "execute_result"
    },
    {
     "data": {
      "text/html": [
       "<font face=\"Courier New\" size=2 color=\"green\"> &nbsp;&nbsp etf_data_852555839|(<ipython-input-3-fa54dc64d297>::39) &nbsp;&nbsp;&nbsp;&nbspReading kibot eod data ---- (starting) </font>"
      ],
      "text/plain": [
       "<IPython.core.display.HTML object>"
      ]
     },
     "metadata": {},
     "output_type": "execute_result"
    },
    {
     "data": {
      "text/html": [
       "<font face=\"Courier New\" size=2 color=\"green\"> &nbsp;&nbsp  etf_data_852555839|(<ipython-input-3-fa54dc64d297>::39) &nbsp;&nbsp;&nbsp;&nbspReading kibot eod data took 0.02s ---- (done)</font>"
      ],
      "text/plain": [
       "<IPython.core.display.HTML object>"
      ]
     },
     "metadata": {},
     "output_type": "execute_result"
    },
    {
     "data": {
      "text/html": [
       "<font face=\"Courier New\" size=2 color=\"green\"> &nbsp;&nbsp etf_data_852555839|(<ipython-input-3-fa54dc64d297>::46) &nbsp;&nbsp;&nbsp;&nbspReading kibot 5min data ---- (starting) </font>"
      ],
      "text/plain": [
       "<IPython.core.display.HTML object>"
      ]
     },
     "metadata": {},
     "output_type": "execute_result"
    },
    {
     "data": {
      "text/html": [
       "<font face=\"Courier New\" size=2 color=\"green\"> &nbsp;&nbsp  etf_data_852555839|(<ipython-input-3-fa54dc64d297>::46) &nbsp;&nbsp;&nbsp;&nbspReading kibot 5min data took 0.74s ---- (done)</font>"
      ],
      "text/plain": [
       "<IPython.core.display.HTML object>"
      ]
     },
     "metadata": {},
     "output_type": "execute_result"
    },
    {
     "data": {
      "text/html": [
       "<font face=\"Courier New\" size=2 color=\"green\"> &nbsp;&nbsp etf_data_852555839|(<ipython-input-3-fa54dc64d297>::53) &nbsp;&nbsp;&nbsp;&nbspReading polygon data ---- (starting) </font>"
      ],
      "text/plain": [
       "<IPython.core.display.HTML object>"
      ]
     },
     "metadata": {},
     "output_type": "execute_result"
    },
    {
     "data": {
      "text/html": [
       "<font face=\"Courier New\" size=2 color=\"green\"> &nbsp;&nbsp  etf_data_852555839|(<ipython-input-3-fa54dc64d297>::53) &nbsp;&nbsp;&nbsp;&nbspReading polygon data took 0.07s ---- (done)</font>"
      ],
      "text/plain": [
       "<IPython.core.display.HTML object>"
      ]
     },
     "metadata": {},
     "output_type": "execute_result"
    },
    {
     "data": {
      "text/html": [
       "<font face=\"Courier New\" size=2 color=\"green\"> &nbsp;&nbsp etf_data_852555839|(<ipython-input-3-fa54dc64d297>::63) &nbsp;&nbsp;&nbsp;&nbspReading pi data ---- (starting) </font>"
      ],
      "text/plain": [
       "<IPython.core.display.HTML object>"
      ]
     },
     "metadata": {},
     "output_type": "execute_result"
    },
    {
     "data": {
      "text/html": [
       "<font face=\"Courier New\" size=2 color=\"green\"> &nbsp;&nbsp  etf_data_852555839|(<ipython-input-3-fa54dc64d297>::63) &nbsp;&nbsp;&nbsp;&nbspReading pi data took 3.20s ---- (done)</font>"
      ],
      "text/plain": [
       "<IPython.core.display.HTML object>"
      ]
     },
     "metadata": {},
     "output_type": "execute_result"
    },
    {
     "data": {
      "text/html": [
       "<font face=\"Courier New\" size=2 color=\"green\"> &nbsp;&nbsp etf_data_852555839|(<ipython-input-3-fa54dc64d297>::73) &nbsp;&nbsp;&nbsp;&nbspmatching against polygon ---- (starting) </font>"
      ],
      "text/plain": [
       "<IPython.core.display.HTML object>"
      ]
     },
     "metadata": {},
     "output_type": "execute_result"
    },
    {
     "data": {
      "text/html": [
       "<font face=\"Courier New\" size=2 color=\"green\"> &nbsp;&nbsp  etf_data_852555839|(<ipython-input-3-fa54dc64d297>::73) &nbsp;&nbsp;&nbsp;&nbspmatching against polygon took 0.02s ---- (done)</font>"
      ],
      "text/plain": [
       "<IPython.core.display.HTML object>"
      ]
     },
     "metadata": {},
     "output_type": "execute_result"
    },
    {
     "data": {
      "text/html": [
       "<font face=\"Courier New\" size=2 color=\"green\"> &nbsp;&nbsp etf_data_852555839|(<ipython-input-3-fa54dc64d297>::78) &nbsp;&nbsp;&nbsp;&nbspmatching against pitrading ---- (starting) </font>"
      ],
      "text/plain": [
       "<IPython.core.display.HTML object>"
      ]
     },
     "metadata": {},
     "output_type": "execute_result"
    },
    {
     "data": {
      "text/html": [
       "<font face=\"Courier New\" size=2 color=\"green\"> &nbsp;&nbsp  etf_data_852555839|(<ipython-input-3-fa54dc64d297>::78) &nbsp;&nbsp;&nbsp;&nbspmatching against pitrading took 1.39s ---- (done)</font>"
      ],
      "text/plain": [
       "<IPython.core.display.HTML object>"
      ]
     },
     "metadata": {},
     "output_type": "execute_result"
    },
    {
     "data": {
      "text/html": [
       "<font face=\"Courier New\" size=2 color=\"green\"> &nbsp;&nbsp etf_data_37348f457|(<ipython-input-3-fa54dc64d297>::39) &nbsp;&nbsp;&nbsp;&nbspReading kibot eod data ---- (starting) </font>"
      ],
      "text/plain": [
       "<IPython.core.display.HTML object>"
      ]
     },
     "metadata": {},
     "output_type": "execute_result"
    },
    {
     "data": {
      "text/html": [
       "<font face=\"Courier New\" size=2 color=\"green\"> &nbsp;&nbsp  etf_data_37348f457|(<ipython-input-3-fa54dc64d297>::39) &nbsp;&nbsp;&nbsp;&nbspReading kibot eod data took 0.02s ---- (done)</font>"
      ],
      "text/plain": [
       "<IPython.core.display.HTML object>"
      ]
     },
     "metadata": {},
     "output_type": "execute_result"
    },
    {
     "data": {
      "text/html": [
       "<font face=\"Courier New\" size=2 color=\"green\"> &nbsp;&nbsp etf_data_37348f457|(<ipython-input-3-fa54dc64d297>::46) &nbsp;&nbsp;&nbsp;&nbspReading kibot 5min data ---- (starting) </font>"
      ],
      "text/plain": [
       "<IPython.core.display.HTML object>"
      ]
     },
     "metadata": {},
     "output_type": "execute_result"
    },
    {
     "data": {
      "text/html": [
       "<font face=\"Courier New\" size=2 color=\"green\"> &nbsp;&nbsp  etf_data_37348f457|(<ipython-input-3-fa54dc64d297>::46) &nbsp;&nbsp;&nbsp;&nbspReading kibot 5min data took 0.43s ---- (done)</font>"
      ],
      "text/plain": [
       "<IPython.core.display.HTML object>"
      ]
     },
     "metadata": {},
     "output_type": "execute_result"
    },
    {
     "data": {
      "text/html": [
       "<font face=\"Courier New\" size=2 color=\"green\"> &nbsp;&nbsp etf_data_37348f457|(<ipython-input-3-fa54dc64d297>::53) &nbsp;&nbsp;&nbsp;&nbspReading polygon data ---- (starting) </font>"
      ],
      "text/plain": [
       "<IPython.core.display.HTML object>"
      ]
     },
     "metadata": {},
     "output_type": "execute_result"
    },
    {
     "data": {
      "text/html": [
       "<font face=\"Courier New\" size=2 color=\"green\"> &nbsp;&nbsp  etf_data_37348f457|(<ipython-input-3-fa54dc64d297>::53) &nbsp;&nbsp;&nbsp;&nbspReading polygon data took 0.07s ---- (done)</font>"
      ],
      "text/plain": [
       "<IPython.core.display.HTML object>"
      ]
     },
     "metadata": {},
     "output_type": "execute_result"
    },
    {
     "data": {
      "text/html": [
       "<font face=\"Courier New\" size=2 color=\"green\"> &nbsp;&nbsp etf_data_37348f457|(<ipython-input-3-fa54dc64d297>::73) &nbsp;&nbsp;&nbsp;&nbspmatching against polygon ---- (starting) </font>"
      ],
      "text/plain": [
       "<IPython.core.display.HTML object>"
      ]
     },
     "metadata": {},
     "output_type": "execute_result"
    },
    {
     "data": {
      "text/html": [
       "<font face=\"Courier New\" size=2 color=\"green\"> &nbsp;&nbsp  etf_data_37348f457|(<ipython-input-3-fa54dc64d297>::73) &nbsp;&nbsp;&nbsp;&nbspmatching against polygon took 0.02s ---- (done)</font>"
      ],
      "text/plain": [
       "<IPython.core.display.HTML object>"
      ]
     },
     "metadata": {},
     "output_type": "execute_result"
    },
    {
     "data": {
      "text/html": [
       "<font face=\"Courier New\" size=2 color=\"green\"> &nbsp;&nbsp etf_data_cc9cf2c6d|(<ipython-input-3-fa54dc64d297>::39) &nbsp;&nbsp;&nbsp;&nbspReading kibot eod data ---- (starting) </font>"
      ],
      "text/plain": [
       "<IPython.core.display.HTML object>"
      ]
     },
     "metadata": {},
     "output_type": "execute_result"
    },
    {
     "data": {
      "text/html": [
       "<font face=\"Courier New\" size=2 color=\"green\"> &nbsp;&nbsp  etf_data_cc9cf2c6d|(<ipython-input-3-fa54dc64d297>::39) &nbsp;&nbsp;&nbsp;&nbspReading kibot eod data took 0.02s ---- (done)</font>"
      ],
      "text/plain": [
       "<IPython.core.display.HTML object>"
      ]
     },
     "metadata": {},
     "output_type": "execute_result"
    },
    {
     "data": {
      "text/html": [
       "<font face=\"Courier New\" size=2 color=\"green\"> &nbsp;&nbsp etf_data_cc9cf2c6d|(<ipython-input-3-fa54dc64d297>::46) &nbsp;&nbsp;&nbsp;&nbspReading kibot 5min data ---- (starting) </font>"
      ],
      "text/plain": [
       "<IPython.core.display.HTML object>"
      ]
     },
     "metadata": {},
     "output_type": "execute_result"
    },
    {
     "data": {
      "text/html": [
       "<font face=\"Courier New\" size=2 color=\"green\"> &nbsp;&nbsp  etf_data_cc9cf2c6d|(<ipython-input-3-fa54dc64d297>::46) &nbsp;&nbsp;&nbsp;&nbspReading kibot 5min data took 0.55s ---- (done)</font>"
      ],
      "text/plain": [
       "<IPython.core.display.HTML object>"
      ]
     },
     "metadata": {},
     "output_type": "execute_result"
    },
    {
     "data": {
      "text/html": [
       "<font face=\"Courier New\" size=2 color=\"green\"> &nbsp;&nbsp etf_data_cc9cf2c6d|(<ipython-input-3-fa54dc64d297>::53) &nbsp;&nbsp;&nbsp;&nbspReading polygon data ---- (starting) </font>"
      ],
      "text/plain": [
       "<IPython.core.display.HTML object>"
      ]
     },
     "metadata": {},
     "output_type": "execute_result"
    },
    {
     "data": {
      "text/html": [
       "<font face=\"Courier New\" size=2 color=\"green\"> &nbsp;&nbsp  etf_data_cc9cf2c6d|(<ipython-input-3-fa54dc64d297>::53) &nbsp;&nbsp;&nbsp;&nbspReading polygon data took 0.07s ---- (done)</font>"
      ],
      "text/plain": [
       "<IPython.core.display.HTML object>"
      ]
     },
     "metadata": {},
     "output_type": "execute_result"
    },
    {
     "data": {
      "text/html": [
       "<font face=\"Courier New\" size=2 color=\"green\"> &nbsp;&nbsp etf_data_cc9cf2c6d|(<ipython-input-3-fa54dc64d297>::73) &nbsp;&nbsp;&nbsp;&nbspmatching against polygon ---- (starting) </font>"
      ],
      "text/plain": [
       "<IPython.core.display.HTML object>"
      ]
     },
     "metadata": {},
     "output_type": "execute_result"
    },
    {
     "data": {
      "text/html": [
       "<font face=\"Courier New\" size=2 color=\"green\"> &nbsp;&nbsp  etf_data_cc9cf2c6d|(<ipython-input-3-fa54dc64d297>::73) &nbsp;&nbsp;&nbsp;&nbspmatching against polygon took 0.02s ---- (done)</font>"
      ],
      "text/plain": [
       "<IPython.core.display.HTML object>"
      ]
     },
     "metadata": {},
     "output_type": "execute_result"
    },
    {
     "data": {
      "text/html": [
       "<font face=\"Courier New\" size=2 color=\"green\"> &nbsp;&nbsp etf_data_13abcd87e|(<ipython-input-3-fa54dc64d297>::39) &nbsp;&nbsp;&nbsp;&nbspReading kibot eod data ---- (starting) </font>"
      ],
      "text/plain": [
       "<IPython.core.display.HTML object>"
      ]
     },
     "metadata": {},
     "output_type": "execute_result"
    },
    {
     "data": {
      "text/html": [
       "<font face=\"Courier New\" size=2 color=\"green\"> &nbsp;&nbsp  etf_data_13abcd87e|(<ipython-input-3-fa54dc64d297>::39) &nbsp;&nbsp;&nbsp;&nbspReading kibot eod data took 0.01s ---- (done)</font>"
      ],
      "text/plain": [
       "<IPython.core.display.HTML object>"
      ]
     },
     "metadata": {},
     "output_type": "execute_result"
    },
    {
     "data": {
      "text/html": [
       "<font face=\"Courier New\" size=2 color=\"green\"> &nbsp;&nbsp etf_data_13abcd87e|(<ipython-input-3-fa54dc64d297>::46) &nbsp;&nbsp;&nbsp;&nbspReading kibot 5min data ---- (starting) </font>"
      ],
      "text/plain": [
       "<IPython.core.display.HTML object>"
      ]
     },
     "metadata": {},
     "output_type": "execute_result"
    },
    {
     "data": {
      "text/html": [
       "<font face=\"Courier New\" size=2 color=\"green\"> &nbsp;&nbsp  etf_data_13abcd87e|(<ipython-input-3-fa54dc64d297>::46) &nbsp;&nbsp;&nbsp;&nbspReading kibot 5min data took 0.35s ---- (done)</font>"
      ],
      "text/plain": [
       "<IPython.core.display.HTML object>"
      ]
     },
     "metadata": {},
     "output_type": "execute_result"
    },
    {
     "data": {
      "text/html": [
       "<font face=\"Courier New\" size=2 color=\"green\"> &nbsp;&nbsp etf_data_13abcd87e|(<ipython-input-3-fa54dc64d297>::53) &nbsp;&nbsp;&nbsp;&nbspReading polygon data ---- (starting) </font>"
      ],
      "text/plain": [
       "<IPython.core.display.HTML object>"
      ]
     },
     "metadata": {},
     "output_type": "execute_result"
    },
    {
     "data": {
      "text/html": [
       "<font face=\"Courier New\" size=2 color=\"green\"> &nbsp;&nbsp  etf_data_13abcd87e|(<ipython-input-3-fa54dc64d297>::53) &nbsp;&nbsp;&nbsp;&nbspReading polygon data took 0.07s ---- (done)</font>"
      ],
      "text/plain": [
       "<IPython.core.display.HTML object>"
      ]
     },
     "metadata": {},
     "output_type": "execute_result"
    },
    {
     "data": {
      "text/html": [
       "<font face=\"Courier New\" size=2 color=\"green\"> &nbsp;&nbsp etf_data_13abcd87e|(<ipython-input-3-fa54dc64d297>::73) &nbsp;&nbsp;&nbsp;&nbspmatching against polygon ---- (starting) </font>"
      ],
      "text/plain": [
       "<IPython.core.display.HTML object>"
      ]
     },
     "metadata": {},
     "output_type": "execute_result"
    },
    {
     "data": {
      "text/html": [
       "<font face=\"Courier New\" size=2 color=\"green\"> &nbsp;&nbsp  etf_data_13abcd87e|(<ipython-input-3-fa54dc64d297>::73) &nbsp;&nbsp;&nbsp;&nbspmatching against polygon took 0.02s ---- (done)</font>"
      ],
      "text/plain": [
       "<IPython.core.display.HTML object>"
      ]
     },
     "metadata": {},
     "output_type": "execute_result"
    },
    {
     "data": {
      "text/html": [
       "<font face=\"Courier New\" size=2 color=\"green\"> &nbsp;&nbsp etf_data_2544309f0|(<ipython-input-3-fa54dc64d297>::39) &nbsp;&nbsp;&nbsp;&nbspReading kibot eod data ---- (starting) </font>"
      ],
      "text/plain": [
       "<IPython.core.display.HTML object>"
      ]
     },
     "metadata": {},
     "output_type": "execute_result"
    },
    {
     "data": {
      "text/html": [
       "<font face=\"Courier New\" size=2 color=\"green\"> &nbsp;&nbsp  etf_data_2544309f0|(<ipython-input-3-fa54dc64d297>::39) &nbsp;&nbsp;&nbsp;&nbspReading kibot eod data took 0.02s ---- (done)</font>"
      ],
      "text/plain": [
       "<IPython.core.display.HTML object>"
      ]
     },
     "metadata": {},
     "output_type": "execute_result"
    },
    {
     "data": {
      "text/html": [
       "<font face=\"Courier New\" size=2 color=\"green\"> &nbsp;&nbsp etf_data_2544309f0|(<ipython-input-3-fa54dc64d297>::46) &nbsp;&nbsp;&nbsp;&nbspReading kibot 5min data ---- (starting) </font>"
      ],
      "text/plain": [
       "<IPython.core.display.HTML object>"
      ]
     },
     "metadata": {},
     "output_type": "execute_result"
    },
    {
     "data": {
      "text/html": [
       "<font face=\"Courier New\" size=2 color=\"green\"> &nbsp;&nbsp  etf_data_2544309f0|(<ipython-input-3-fa54dc64d297>::46) &nbsp;&nbsp;&nbsp;&nbspReading kibot 5min data took 0.38s ---- (done)</font>"
      ],
      "text/plain": [
       "<IPython.core.display.HTML object>"
      ]
     },
     "metadata": {},
     "output_type": "execute_result"
    },
    {
     "data": {
      "text/html": [
       "<font face=\"Courier New\" size=2 color=\"green\"> &nbsp;&nbsp etf_data_2544309f0|(<ipython-input-3-fa54dc64d297>::53) &nbsp;&nbsp;&nbsp;&nbspReading polygon data ---- (starting) </font>"
      ],
      "text/plain": [
       "<IPython.core.display.HTML object>"
      ]
     },
     "metadata": {},
     "output_type": "execute_result"
    },
    {
     "data": {
      "text/html": [
       "<font face=\"Courier New\" size=2 color=\"green\"> &nbsp;&nbsp  etf_data_2544309f0|(<ipython-input-3-fa54dc64d297>::53) &nbsp;&nbsp;&nbsp;&nbspReading polygon data took 0.07s ---- (done)</font>"
      ],
      "text/plain": [
       "<IPython.core.display.HTML object>"
      ]
     },
     "metadata": {},
     "output_type": "execute_result"
    },
    {
     "data": {
      "text/html": [
       "<font face=\"Courier New\" size=2 color=\"green\"> &nbsp;&nbsp etf_data_2544309f0|(<ipython-input-3-fa54dc64d297>::73) &nbsp;&nbsp;&nbsp;&nbspmatching against polygon ---- (starting) </font>"
      ],
      "text/plain": [
       "<IPython.core.display.HTML object>"
      ]
     },
     "metadata": {},
     "output_type": "execute_result"
    },
    {
     "data": {
      "text/html": [
       "<font face=\"Courier New\" size=2 color=\"green\"> &nbsp;&nbsp  etf_data_2544309f0|(<ipython-input-3-fa54dc64d297>::73) &nbsp;&nbsp;&nbsp;&nbspmatching against polygon took 0.02s ---- (done)</font>"
      ],
      "text/plain": [
       "<IPython.core.display.HTML object>"
      ]
     },
     "metadata": {},
     "output_type": "execute_result"
    },
    {
     "data": {
      "text/html": [
       "<font face=\"Courier New\" size=2 color=\"green\"> &nbsp;&nbsp etf_data_42f713a16|(<ipython-input-3-fa54dc64d297>::39) &nbsp;&nbsp;&nbsp;&nbspReading kibot eod data ---- (starting) </font>"
      ],
      "text/plain": [
       "<IPython.core.display.HTML object>"
      ]
     },
     "metadata": {},
     "output_type": "execute_result"
    },
    {
     "data": {
      "text/html": [
       "<font face=\"Courier New\" size=2 color=\"green\"> &nbsp;&nbsp  etf_data_42f713a16|(<ipython-input-3-fa54dc64d297>::39) &nbsp;&nbsp;&nbsp;&nbspReading kibot eod data took 0.02s ---- (done)</font>"
      ],
      "text/plain": [
       "<IPython.core.display.HTML object>"
      ]
     },
     "metadata": {},
     "output_type": "execute_result"
    },
    {
     "data": {
      "text/html": [
       "<font face=\"Courier New\" size=2 color=\"green\"> &nbsp;&nbsp etf_data_42f713a16|(<ipython-input-3-fa54dc64d297>::46) &nbsp;&nbsp;&nbsp;&nbspReading kibot 5min data ---- (starting) </font>"
      ],
      "text/plain": [
       "<IPython.core.display.HTML object>"
      ]
     },
     "metadata": {},
     "output_type": "execute_result"
    },
    {
     "data": {
      "text/html": [
       "<font face=\"Courier New\" size=2 color=\"green\"> &nbsp;&nbsp  etf_data_42f713a16|(<ipython-input-3-fa54dc64d297>::46) &nbsp;&nbsp;&nbsp;&nbspReading kibot 5min data took 0.58s ---- (done)</font>"
      ],
      "text/plain": [
       "<IPython.core.display.HTML object>"
      ]
     },
     "metadata": {},
     "output_type": "execute_result"
    },
    {
     "data": {
      "text/html": [
       "<font face=\"Courier New\" size=2 color=\"green\"> &nbsp;&nbsp etf_data_42f713a16|(<ipython-input-3-fa54dc64d297>::53) &nbsp;&nbsp;&nbsp;&nbspReading polygon data ---- (starting) </font>"
      ],
      "text/plain": [
       "<IPython.core.display.HTML object>"
      ]
     },
     "metadata": {},
     "output_type": "execute_result"
    },
    {
     "data": {
      "text/html": [
       "<font face=\"Courier New\" size=2 color=\"green\"> &nbsp;&nbsp  etf_data_42f713a16|(<ipython-input-3-fa54dc64d297>::53) &nbsp;&nbsp;&nbsp;&nbspReading polygon data took 0.10s ---- (done)</font>"
      ],
      "text/plain": [
       "<IPython.core.display.HTML object>"
      ]
     },
     "metadata": {},
     "output_type": "execute_result"
    },
    {
     "data": {
      "text/html": [
       "<font face=\"Courier New\" size=2 color=\"green\"> &nbsp;&nbsp etf_data_42f713a16|(<ipython-input-3-fa54dc64d297>::73) &nbsp;&nbsp;&nbsp;&nbspmatching against polygon ---- (starting) </font>"
      ],
      "text/plain": [
       "<IPython.core.display.HTML object>"
      ]
     },
     "metadata": {},
     "output_type": "execute_result"
    },
    {
     "data": {
      "text/html": [
       "<font face=\"Courier New\" size=2 color=\"green\"> &nbsp;&nbsp  etf_data_42f713a16|(<ipython-input-3-fa54dc64d297>::73) &nbsp;&nbsp;&nbsp;&nbspmatching against polygon took 0.02s ---- (done)</font>"
      ],
      "text/plain": [
       "<IPython.core.display.HTML object>"
      ]
     },
     "metadata": {},
     "output_type": "execute_result"
    },
    {
     "data": {
      "text/html": [
       "<font face=\"Courier New\" size=2 color=\"green\"> &nbsp;&nbsp etf_data_319c2a0ad|(<ipython-input-3-fa54dc64d297>::39) &nbsp;&nbsp;&nbsp;&nbspReading kibot eod data ---- (starting) </font>"
      ],
      "text/plain": [
       "<IPython.core.display.HTML object>"
      ]
     },
     "metadata": {},
     "output_type": "execute_result"
    },
    {
     "data": {
      "text/html": [
       "<font face=\"Courier New\" size=2 color=\"green\"> &nbsp;&nbsp  etf_data_319c2a0ad|(<ipython-input-3-fa54dc64d297>::39) &nbsp;&nbsp;&nbsp;&nbspReading kibot eod data took 0.02s ---- (done)</font>"
      ],
      "text/plain": [
       "<IPython.core.display.HTML object>"
      ]
     },
     "metadata": {},
     "output_type": "execute_result"
    },
    {
     "data": {
      "text/html": [
       "<font face=\"Courier New\" size=2 color=\"green\"> &nbsp;&nbsp etf_data_319c2a0ad|(<ipython-input-3-fa54dc64d297>::46) &nbsp;&nbsp;&nbsp;&nbspReading kibot 5min data ---- (starting) </font>"
      ],
      "text/plain": [
       "<IPython.core.display.HTML object>"
      ]
     },
     "metadata": {},
     "output_type": "execute_result"
    },
    {
     "data": {
      "text/html": [
       "<font face=\"Courier New\" size=2 color=\"green\"> &nbsp;&nbsp  etf_data_319c2a0ad|(<ipython-input-3-fa54dc64d297>::46) &nbsp;&nbsp;&nbsp;&nbspReading kibot 5min data took 0.67s ---- (done)</font>"
      ],
      "text/plain": [
       "<IPython.core.display.HTML object>"
      ]
     },
     "metadata": {},
     "output_type": "execute_result"
    },
    {
     "data": {
      "text/html": [
       "<font face=\"Courier New\" size=2 color=\"green\"> &nbsp;&nbsp etf_data_319c2a0ad|(<ipython-input-3-fa54dc64d297>::53) &nbsp;&nbsp;&nbsp;&nbspReading polygon data ---- (starting) </font>"
      ],
      "text/plain": [
       "<IPython.core.display.HTML object>"
      ]
     },
     "metadata": {},
     "output_type": "execute_result"
    },
    {
     "data": {
      "text/html": [
       "<font face=\"Courier New\" size=2 color=\"green\"> &nbsp;&nbsp  etf_data_319c2a0ad|(<ipython-input-3-fa54dc64d297>::53) &nbsp;&nbsp;&nbsp;&nbspReading polygon data took 0.07s ---- (done)</font>"
      ],
      "text/plain": [
       "<IPython.core.display.HTML object>"
      ]
     },
     "metadata": {},
     "output_type": "execute_result"
    },
    {
     "data": {
      "text/html": [
       "<font face=\"Courier New\" size=2 color=\"green\"> &nbsp;&nbsp etf_data_319c2a0ad|(<ipython-input-3-fa54dc64d297>::63) &nbsp;&nbsp;&nbsp;&nbspReading pi data ---- (starting) </font>"
      ],
      "text/plain": [
       "<IPython.core.display.HTML object>"
      ]
     },
     "metadata": {},
     "output_type": "execute_result"
    },
    {
     "data": {
      "text/html": [
       "<font face=\"Courier New\" size=2 color=\"green\"> &nbsp;&nbsp  etf_data_319c2a0ad|(<ipython-input-3-fa54dc64d297>::63) &nbsp;&nbsp;&nbsp;&nbspReading pi data took 3.28s ---- (done)</font>"
      ],
      "text/plain": [
       "<IPython.core.display.HTML object>"
      ]
     },
     "metadata": {},
     "output_type": "execute_result"
    },
    {
     "data": {
      "text/html": [
       "<font face=\"Courier New\" size=2 color=\"green\"> &nbsp;&nbsp etf_data_319c2a0ad|(<ipython-input-3-fa54dc64d297>::73) &nbsp;&nbsp;&nbsp;&nbspmatching against polygon ---- (starting) </font>"
      ],
      "text/plain": [
       "<IPython.core.display.HTML object>"
      ]
     },
     "metadata": {},
     "output_type": "execute_result"
    },
    {
     "data": {
      "text/html": [
       "<font face=\"Courier New\" size=2 color=\"green\"> &nbsp;&nbsp  etf_data_319c2a0ad|(<ipython-input-3-fa54dc64d297>::73) &nbsp;&nbsp;&nbsp;&nbspmatching against polygon took 0.02s ---- (done)</font>"
      ],
      "text/plain": [
       "<IPython.core.display.HTML object>"
      ]
     },
     "metadata": {},
     "output_type": "execute_result"
    },
    {
     "data": {
      "text/html": [
       "<font face=\"Courier New\" size=2 color=\"green\"> &nbsp;&nbsp etf_data_319c2a0ad|(<ipython-input-3-fa54dc64d297>::78) &nbsp;&nbsp;&nbsp;&nbspmatching against pitrading ---- (starting) </font>"
      ],
      "text/plain": [
       "<IPython.core.display.HTML object>"
      ]
     },
     "metadata": {},
     "output_type": "execute_result"
    },
    {
     "data": {
      "text/html": [
       "<font face=\"Courier New\" size=2 color=\"green\"> &nbsp;&nbsp  etf_data_319c2a0ad|(<ipython-input-3-fa54dc64d297>::78) &nbsp;&nbsp;&nbsp;&nbspmatching against pitrading took 1.36s ---- (done)</font>"
      ],
      "text/plain": [
       "<IPython.core.display.HTML object>"
      ]
     },
     "metadata": {},
     "output_type": "execute_result"
    },
    {
     "data": {
      "text/html": [
       "<font face=\"Courier New\" size=2 color=\"green\"> &nbsp;&nbsp etf_data_1383a3f3c|(<ipython-input-3-fa54dc64d297>::39) &nbsp;&nbsp;&nbsp;&nbspReading kibot eod data ---- (starting) </font>"
      ],
      "text/plain": [
       "<IPython.core.display.HTML object>"
      ]
     },
     "metadata": {},
     "output_type": "execute_result"
    },
    {
     "data": {
      "text/html": [
       "<font face=\"Courier New\" size=2 color=\"green\"> &nbsp;&nbsp  etf_data_1383a3f3c|(<ipython-input-3-fa54dc64d297>::39) &nbsp;&nbsp;&nbsp;&nbspReading kibot eod data took 0.02s ---- (done)</font>"
      ],
      "text/plain": [
       "<IPython.core.display.HTML object>"
      ]
     },
     "metadata": {},
     "output_type": "execute_result"
    },
    {
     "data": {
      "text/html": [
       "<font face=\"Courier New\" size=2 color=\"green\"> &nbsp;&nbsp etf_data_1383a3f3c|(<ipython-input-3-fa54dc64d297>::46) &nbsp;&nbsp;&nbsp;&nbspReading kibot 5min data ---- (starting) </font>"
      ],
      "text/plain": [
       "<IPython.core.display.HTML object>"
      ]
     },
     "metadata": {},
     "output_type": "execute_result"
    },
    {
     "data": {
      "text/html": [
       "<font face=\"Courier New\" size=2 color=\"green\"> &nbsp;&nbsp  etf_data_1383a3f3c|(<ipython-input-3-fa54dc64d297>::46) &nbsp;&nbsp;&nbsp;&nbspReading kibot 5min data took 0.74s ---- (done)</font>"
      ],
      "text/plain": [
       "<IPython.core.display.HTML object>"
      ]
     },
     "metadata": {},
     "output_type": "execute_result"
    },
    {
     "data": {
      "text/html": [
       "<font face=\"Courier New\" size=2 color=\"green\"> &nbsp;&nbsp etf_data_1383a3f3c|(<ipython-input-3-fa54dc64d297>::53) &nbsp;&nbsp;&nbsp;&nbspReading polygon data ---- (starting) </font>"
      ],
      "text/plain": [
       "<IPython.core.display.HTML object>"
      ]
     },
     "metadata": {},
     "output_type": "execute_result"
    },
    {
     "data": {
      "text/html": [
       "<font face=\"Courier New\" size=2 color=\"green\"> &nbsp;&nbsp  etf_data_1383a3f3c|(<ipython-input-3-fa54dc64d297>::53) &nbsp;&nbsp;&nbsp;&nbspReading polygon data took 0.00s ---- (done)</font>"
      ],
      "text/plain": [
       "<IPython.core.display.HTML object>"
      ]
     },
     "metadata": {},
     "output_type": "execute_result"
    },
    {
     "data": {
      "text/html": [
       "<font face=\"Courier New\" size=2 color=\"green\"> &nbsp;&nbsp etf_data_1383a3f3c|(<ipython-input-3-fa54dc64d297>::63) &nbsp;&nbsp;&nbsp;&nbspReading pi data ---- (starting) </font>"
      ],
      "text/plain": [
       "<IPython.core.display.HTML object>"
      ]
     },
     "metadata": {},
     "output_type": "execute_result"
    },
    {
     "data": {
      "text/html": [
       "<font face=\"Courier New\" size=2 color=\"green\"> &nbsp;&nbsp  etf_data_1383a3f3c|(<ipython-input-3-fa54dc64d297>::63) &nbsp;&nbsp;&nbsp;&nbspReading pi data took 4.45s ---- (done)</font>"
      ],
      "text/plain": [
       "<IPython.core.display.HTML object>"
      ]
     },
     "metadata": {},
     "output_type": "execute_result"
    },
    {
     "data": {
      "text/html": [
       "<font face=\"Courier New\" size=2 color=\"green\"> &nbsp;&nbsp etf_data_1383a3f3c|(<ipython-input-3-fa54dc64d297>::78) &nbsp;&nbsp;&nbsp;&nbspmatching against pitrading ---- (starting) </font>"
      ],
      "text/plain": [
       "<IPython.core.display.HTML object>"
      ]
     },
     "metadata": {},
     "output_type": "execute_result"
    },
    {
     "data": {
      "text/html": [
       "<font face=\"Courier New\" size=2 color=\"green\"> &nbsp;&nbsp  etf_data_1383a3f3c|(<ipython-input-3-fa54dc64d297>::78) &nbsp;&nbsp;&nbsp;&nbspmatching against pitrading took 1.80s ---- (done)</font>"
      ],
      "text/plain": [
       "<IPython.core.display.HTML object>"
      ]
     },
     "metadata": {},
     "output_type": "execute_result"
    },
    {
     "data": {
      "text/html": [
       "<font face=\"Courier New\" size=2 color=\"green\"> &nbsp;&nbsp etf_data_56b0de686|(<ipython-input-3-fa54dc64d297>::39) &nbsp;&nbsp;&nbsp;&nbspReading kibot eod data ---- (starting) </font>"
      ],
      "text/plain": [
       "<IPython.core.display.HTML object>"
      ]
     },
     "metadata": {},
     "output_type": "execute_result"
    },
    {
     "data": {
      "text/html": [
       "<font face=\"Courier New\" size=2 color=\"green\"> &nbsp;&nbsp  etf_data_56b0de686|(<ipython-input-3-fa54dc64d297>::39) &nbsp;&nbsp;&nbsp;&nbspReading kibot eod data took 0.01s ---- (done)</font>"
      ],
      "text/plain": [
       "<IPython.core.display.HTML object>"
      ]
     },
     "metadata": {},
     "output_type": "execute_result"
    },
    {
     "data": {
      "text/html": [
       "<font face=\"Courier New\" size=2 color=\"green\"> &nbsp;&nbsp etf_data_56b0de686|(<ipython-input-3-fa54dc64d297>::46) &nbsp;&nbsp;&nbsp;&nbspReading kibot 5min data ---- (starting) </font>"
      ],
      "text/plain": [
       "<IPython.core.display.HTML object>"
      ]
     },
     "metadata": {},
     "output_type": "execute_result"
    },
    {
     "data": {
      "text/html": [
       "<font face=\"Courier New\" size=2 color=\"green\"> &nbsp;&nbsp  etf_data_56b0de686|(<ipython-input-3-fa54dc64d297>::46) &nbsp;&nbsp;&nbsp;&nbspReading kibot 5min data took 0.30s ---- (done)</font>"
      ],
      "text/plain": [
       "<IPython.core.display.HTML object>"
      ]
     },
     "metadata": {},
     "output_type": "execute_result"
    },
    {
     "data": {
      "text/html": [
       "<font face=\"Courier New\" size=2 color=\"green\"> &nbsp;&nbsp etf_data_56b0de686|(<ipython-input-3-fa54dc64d297>::53) &nbsp;&nbsp;&nbsp;&nbspReading polygon data ---- (starting) </font>"
      ],
      "text/plain": [
       "<IPython.core.display.HTML object>"
      ]
     },
     "metadata": {},
     "output_type": "execute_result"
    },
    {
     "data": {
      "text/html": [
       "<font face=\"Courier New\" size=2 color=\"green\"> &nbsp;&nbsp  etf_data_56b0de686|(<ipython-input-3-fa54dc64d297>::53) &nbsp;&nbsp;&nbsp;&nbspReading polygon data took 0.07s ---- (done)</font>"
      ],
      "text/plain": [
       "<IPython.core.display.HTML object>"
      ]
     },
     "metadata": {},
     "output_type": "execute_result"
    },
    {
     "data": {
      "text/html": [
       "<font face=\"Courier New\" size=2 color=\"green\"> &nbsp;&nbsp etf_data_56b0de686|(<ipython-input-3-fa54dc64d297>::73) &nbsp;&nbsp;&nbsp;&nbspmatching against polygon ---- (starting) </font>"
      ],
      "text/plain": [
       "<IPython.core.display.HTML object>"
      ]
     },
     "metadata": {},
     "output_type": "execute_result"
    },
    {
     "data": {
      "text/html": [
       "<font face=\"Courier New\" size=2 color=\"green\"> &nbsp;&nbsp  etf_data_56b0de686|(<ipython-input-3-fa54dc64d297>::73) &nbsp;&nbsp;&nbsp;&nbspmatching against polygon took 0.01s ---- (done)</font>"
      ],
      "text/plain": [
       "<IPython.core.display.HTML object>"
      ]
     },
     "metadata": {},
     "output_type": "execute_result"
    },
    {
     "data": {
      "text/html": [
       "<font face=\"Courier New\" size=2 color=\"green\"> &nbsp;&nbsp etf_data_e7594fb3b|(<ipython-input-3-fa54dc64d297>::39) &nbsp;&nbsp;&nbsp;&nbspReading kibot eod data ---- (starting) </font>"
      ],
      "text/plain": [
       "<IPython.core.display.HTML object>"
      ]
     },
     "metadata": {},
     "output_type": "execute_result"
    },
    {
     "data": {
      "text/html": [
       "<font face=\"Courier New\" size=2 color=\"green\"> &nbsp;&nbsp  etf_data_e7594fb3b|(<ipython-input-3-fa54dc64d297>::39) &nbsp;&nbsp;&nbsp;&nbspReading kibot eod data took 0.01s ---- (done)</font>"
      ],
      "text/plain": [
       "<IPython.core.display.HTML object>"
      ]
     },
     "metadata": {},
     "output_type": "execute_result"
    },
    {
     "data": {
      "text/html": [
       "<font face=\"Courier New\" size=2 color=\"green\"> &nbsp;&nbsp etf_data_e7594fb3b|(<ipython-input-3-fa54dc64d297>::46) &nbsp;&nbsp;&nbsp;&nbspReading kibot 5min data ---- (starting) </font>"
      ],
      "text/plain": [
       "<IPython.core.display.HTML object>"
      ]
     },
     "metadata": {},
     "output_type": "execute_result"
    },
    {
     "data": {
      "text/html": [
       "<font face=\"Courier New\" size=2 color=\"green\"> &nbsp;&nbsp  etf_data_e7594fb3b|(<ipython-input-3-fa54dc64d297>::46) &nbsp;&nbsp;&nbsp;&nbspReading kibot 5min data took 0.54s ---- (done)</font>"
      ],
      "text/plain": [
       "<IPython.core.display.HTML object>"
      ]
     },
     "metadata": {},
     "output_type": "execute_result"
    },
    {
     "data": {
      "text/html": [
       "<font face=\"Courier New\" size=2 color=\"green\"> &nbsp;&nbsp etf_data_e7594fb3b|(<ipython-input-3-fa54dc64d297>::53) &nbsp;&nbsp;&nbsp;&nbspReading polygon data ---- (starting) </font>"
      ],
      "text/plain": [
       "<IPython.core.display.HTML object>"
      ]
     },
     "metadata": {},
     "output_type": "execute_result"
    },
    {
     "data": {
      "text/html": [
       "<font face=\"Courier New\" size=2 color=\"green\"> &nbsp;&nbsp  etf_data_e7594fb3b|(<ipython-input-3-fa54dc64d297>::53) &nbsp;&nbsp;&nbsp;&nbspReading polygon data took 0.07s ---- (done)</font>"
      ],
      "text/plain": [
       "<IPython.core.display.HTML object>"
      ]
     },
     "metadata": {},
     "output_type": "execute_result"
    },
    {
     "data": {
      "text/html": [
       "<font face=\"Courier New\" size=2 color=\"green\"> &nbsp;&nbsp etf_data_e7594fb3b|(<ipython-input-3-fa54dc64d297>::73) &nbsp;&nbsp;&nbsp;&nbspmatching against polygon ---- (starting) </font>"
      ],
      "text/plain": [
       "<IPython.core.display.HTML object>"
      ]
     },
     "metadata": {},
     "output_type": "execute_result"
    },
    {
     "data": {
      "text/html": [
       "<font face=\"Courier New\" size=2 color=\"green\"> &nbsp;&nbsp  etf_data_e7594fb3b|(<ipython-input-3-fa54dc64d297>::73) &nbsp;&nbsp;&nbsp;&nbspmatching against polygon took 0.02s ---- (done)</font>"
      ],
      "text/plain": [
       "<IPython.core.display.HTML object>"
      ]
     },
     "metadata": {},
     "output_type": "execute_result"
    },
    {
     "data": {
      "text/html": [
       "<font face=\"Courier New\" size=2 color=\"green\"> &nbsp;&nbsp etf_data_2069ee1bd|(<ipython-input-3-fa54dc64d297>::39) &nbsp;&nbsp;&nbsp;&nbspReading kibot eod data ---- (starting) </font>"
      ],
      "text/plain": [
       "<IPython.core.display.HTML object>"
      ]
     },
     "metadata": {},
     "output_type": "execute_result"
    },
    {
     "data": {
      "text/html": [
       "<font face=\"Courier New\" size=2 color=\"green\"> &nbsp;&nbsp  etf_data_2069ee1bd|(<ipython-input-3-fa54dc64d297>::39) &nbsp;&nbsp;&nbsp;&nbspReading kibot eod data took 0.03s ---- (done)</font>"
      ],
      "text/plain": [
       "<IPython.core.display.HTML object>"
      ]
     },
     "metadata": {},
     "output_type": "execute_result"
    },
    {
     "data": {
      "text/html": [
       "<font face=\"Courier New\" size=2 color=\"green\"> &nbsp;&nbsp etf_data_2069ee1bd|(<ipython-input-3-fa54dc64d297>::46) &nbsp;&nbsp;&nbsp;&nbspReading kibot 5min data ---- (starting) </font>"
      ],
      "text/plain": [
       "<IPython.core.display.HTML object>"
      ]
     },
     "metadata": {},
     "output_type": "execute_result"
    },
    {
     "data": {
      "text/html": [
       "<font face=\"Courier New\" size=2 color=\"green\"> &nbsp;&nbsp  etf_data_2069ee1bd|(<ipython-input-3-fa54dc64d297>::46) &nbsp;&nbsp;&nbsp;&nbspReading kibot 5min data took 1.43s ---- (done)</font>"
      ],
      "text/plain": [
       "<IPython.core.display.HTML object>"
      ]
     },
     "metadata": {},
     "output_type": "execute_result"
    },
    {
     "data": {
      "text/html": [
       "<font face=\"Courier New\" size=2 color=\"green\"> &nbsp;&nbsp etf_data_2069ee1bd|(<ipython-input-3-fa54dc64d297>::53) &nbsp;&nbsp;&nbsp;&nbspReading polygon data ---- (starting) </font>"
      ],
      "text/plain": [
       "<IPython.core.display.HTML object>"
      ]
     },
     "metadata": {},
     "output_type": "execute_result"
    },
    {
     "data": {
      "text/html": [
       "<font face=\"Courier New\" size=2 color=\"green\"> &nbsp;&nbsp  etf_data_2069ee1bd|(<ipython-input-3-fa54dc64d297>::53) &nbsp;&nbsp;&nbsp;&nbspReading polygon data took 0.10s ---- (done)</font>"
      ],
      "text/plain": [
       "<IPython.core.display.HTML object>"
      ]
     },
     "metadata": {},
     "output_type": "execute_result"
    },
    {
     "data": {
      "text/html": [
       "<font face=\"Courier New\" size=2 color=\"green\"> &nbsp;&nbsp etf_data_2069ee1bd|(<ipython-input-3-fa54dc64d297>::63) &nbsp;&nbsp;&nbsp;&nbspReading pi data ---- (starting) </font>"
      ],
      "text/plain": [
       "<IPython.core.display.HTML object>"
      ]
     },
     "metadata": {},
     "output_type": "execute_result"
    },
    {
     "data": {
      "text/html": [
       "<font face=\"Courier New\" size=2 color=\"green\"> &nbsp;&nbsp  etf_data_2069ee1bd|(<ipython-input-3-fa54dc64d297>::63) &nbsp;&nbsp;&nbsp;&nbspReading pi data took 5.25s ---- (done)</font>"
      ],
      "text/plain": [
       "<IPython.core.display.HTML object>"
      ]
     },
     "metadata": {},
     "output_type": "execute_result"
    },
    {
     "data": {
      "text/html": [
       "<font face=\"Courier New\" size=2 color=\"green\"> &nbsp;&nbsp etf_data_2069ee1bd|(<ipython-input-3-fa54dc64d297>::73) &nbsp;&nbsp;&nbsp;&nbspmatching against polygon ---- (starting) </font>"
      ],
      "text/plain": [
       "<IPython.core.display.HTML object>"
      ]
     },
     "metadata": {},
     "output_type": "execute_result"
    },
    {
     "data": {
      "text/html": [
       "<font face=\"Courier New\" size=2 color=\"green\"> &nbsp;&nbsp  etf_data_2069ee1bd|(<ipython-input-3-fa54dc64d297>::73) &nbsp;&nbsp;&nbsp;&nbspmatching against polygon took 0.02s ---- (done)</font>"
      ],
      "text/plain": [
       "<IPython.core.display.HTML object>"
      ]
     },
     "metadata": {},
     "output_type": "execute_result"
    },
    {
     "data": {
      "text/html": [
       "<font face=\"Courier New\" size=2 color=\"green\"> &nbsp;&nbsp etf_data_2069ee1bd|(<ipython-input-3-fa54dc64d297>::78) &nbsp;&nbsp;&nbsp;&nbspmatching against pitrading ---- (starting) </font>"
      ],
      "text/plain": [
       "<IPython.core.display.HTML object>"
      ]
     },
     "metadata": {},
     "output_type": "execute_result"
    },
    {
     "data": {
      "text/html": [
       "<font face=\"Courier New\" size=2 color=\"green\"> &nbsp;&nbsp  etf_data_2069ee1bd|(<ipython-input-3-fa54dc64d297>::78) &nbsp;&nbsp;&nbsp;&nbspmatching against pitrading took 2.64s ---- (done)</font>"
      ],
      "text/plain": [
       "<IPython.core.display.HTML object>"
      ]
     },
     "metadata": {},
     "output_type": "execute_result"
    },
    {
     "data": {
      "text/html": [
       "<font face=\"Courier New\" size=2 color=\"green\"> &nbsp;&nbsp etf_data_72ad65559|(<ipython-input-3-fa54dc64d297>::39) &nbsp;&nbsp;&nbsp;&nbspReading kibot eod data ---- (starting) </font>"
      ],
      "text/plain": [
       "<IPython.core.display.HTML object>"
      ]
     },
     "metadata": {},
     "output_type": "execute_result"
    },
    {
     "data": {
      "text/html": [
       "<font face=\"Courier New\" size=2 color=\"green\"> &nbsp;&nbsp  etf_data_72ad65559|(<ipython-input-3-fa54dc64d297>::39) &nbsp;&nbsp;&nbsp;&nbspReading kibot eod data took 0.01s ---- (done)</font>"
      ],
      "text/plain": [
       "<IPython.core.display.HTML object>"
      ]
     },
     "metadata": {},
     "output_type": "execute_result"
    },
    {
     "data": {
      "text/html": [
       "<font face=\"Courier New\" size=2 color=\"green\"> &nbsp;&nbsp etf_data_72ad65559|(<ipython-input-3-fa54dc64d297>::46) &nbsp;&nbsp;&nbsp;&nbspReading kibot 5min data ---- (starting) </font>"
      ],
      "text/plain": [
       "<IPython.core.display.HTML object>"
      ]
     },
     "metadata": {},
     "output_type": "execute_result"
    },
    {
     "data": {
      "text/html": [
       "<font face=\"Courier New\" size=2 color=\"green\"> &nbsp;&nbsp  etf_data_72ad65559|(<ipython-input-3-fa54dc64d297>::46) &nbsp;&nbsp;&nbsp;&nbspReading kibot 5min data took 0.55s ---- (done)</font>"
      ],
      "text/plain": [
       "<IPython.core.display.HTML object>"
      ]
     },
     "metadata": {},
     "output_type": "execute_result"
    },
    {
     "data": {
      "text/html": [
       "<font face=\"Courier New\" size=2 color=\"green\"> &nbsp;&nbsp etf_data_72ad65559|(<ipython-input-3-fa54dc64d297>::53) &nbsp;&nbsp;&nbsp;&nbspReading polygon data ---- (starting) </font>"
      ],
      "text/plain": [
       "<IPython.core.display.HTML object>"
      ]
     },
     "metadata": {},
     "output_type": "execute_result"
    },
    {
     "data": {
      "text/html": [
       "<font face=\"Courier New\" size=2 color=\"green\"> &nbsp;&nbsp  etf_data_72ad65559|(<ipython-input-3-fa54dc64d297>::53) &nbsp;&nbsp;&nbsp;&nbspReading polygon data took 0.10s ---- (done)</font>"
      ],
      "text/plain": [
       "<IPython.core.display.HTML object>"
      ]
     },
     "metadata": {},
     "output_type": "execute_result"
    },
    {
     "data": {
      "text/html": [
       "<font face=\"Courier New\" size=2 color=\"green\"> &nbsp;&nbsp etf_data_72ad65559|(<ipython-input-3-fa54dc64d297>::73) &nbsp;&nbsp;&nbsp;&nbspmatching against polygon ---- (starting) </font>"
      ],
      "text/plain": [
       "<IPython.core.display.HTML object>"
      ]
     },
     "metadata": {},
     "output_type": "execute_result"
    },
    {
     "data": {
      "text/html": [
       "<font face=\"Courier New\" size=2 color=\"green\"> &nbsp;&nbsp  etf_data_72ad65559|(<ipython-input-3-fa54dc64d297>::73) &nbsp;&nbsp;&nbsp;&nbspmatching against polygon took 0.02s ---- (done)</font>"
      ],
      "text/plain": [
       "<IPython.core.display.HTML object>"
      ]
     },
     "metadata": {},
     "output_type": "execute_result"
    },
    {
     "data": {
      "text/html": [
       "<font face=\"Courier New\" size=2 color=\"green\"> &nbsp;&nbsp etf_data_0dcc75df3|(<ipython-input-3-fa54dc64d297>::39) &nbsp;&nbsp;&nbsp;&nbspReading kibot eod data ---- (starting) </font>"
      ],
      "text/plain": [
       "<IPython.core.display.HTML object>"
      ]
     },
     "metadata": {},
     "output_type": "execute_result"
    },
    {
     "data": {
      "text/html": [
       "<font face=\"Courier New\" size=2 color=\"green\"> &nbsp;&nbsp  etf_data_0dcc75df3|(<ipython-input-3-fa54dc64d297>::39) &nbsp;&nbsp;&nbsp;&nbspReading kibot eod data took 0.02s ---- (done)</font>"
      ],
      "text/plain": [
       "<IPython.core.display.HTML object>"
      ]
     },
     "metadata": {},
     "output_type": "execute_result"
    },
    {
     "data": {
      "text/html": [
       "<font face=\"Courier New\" size=2 color=\"green\"> &nbsp;&nbsp etf_data_0dcc75df3|(<ipython-input-3-fa54dc64d297>::46) &nbsp;&nbsp;&nbsp;&nbspReading kibot 5min data ---- (starting) </font>"
      ],
      "text/plain": [
       "<IPython.core.display.HTML object>"
      ]
     },
     "metadata": {},
     "output_type": "execute_result"
    },
    {
     "data": {
      "text/html": [
       "<font face=\"Courier New\" size=2 color=\"green\"> &nbsp;&nbsp  etf_data_0dcc75df3|(<ipython-input-3-fa54dc64d297>::46) &nbsp;&nbsp;&nbsp;&nbspReading kibot 5min data took 0.71s ---- (done)</font>"
      ],
      "text/plain": [
       "<IPython.core.display.HTML object>"
      ]
     },
     "metadata": {},
     "output_type": "execute_result"
    },
    {
     "data": {
      "text/html": [
       "<font face=\"Courier New\" size=2 color=\"green\"> &nbsp;&nbsp etf_data_0dcc75df3|(<ipython-input-3-fa54dc64d297>::53) &nbsp;&nbsp;&nbsp;&nbspReading polygon data ---- (starting) </font>"
      ],
      "text/plain": [
       "<IPython.core.display.HTML object>"
      ]
     },
     "metadata": {},
     "output_type": "execute_result"
    },
    {
     "data": {
      "text/html": [
       "<font face=\"Courier New\" size=2 color=\"green\"> &nbsp;&nbsp  etf_data_0dcc75df3|(<ipython-input-3-fa54dc64d297>::53) &nbsp;&nbsp;&nbsp;&nbspReading polygon data took 0.10s ---- (done)</font>"
      ],
      "text/plain": [
       "<IPython.core.display.HTML object>"
      ]
     },
     "metadata": {},
     "output_type": "execute_result"
    },
    {
     "data": {
      "text/html": [
       "<font face=\"Courier New\" size=2 color=\"green\"> &nbsp;&nbsp etf_data_0dcc75df3|(<ipython-input-3-fa54dc64d297>::73) &nbsp;&nbsp;&nbsp;&nbspmatching against polygon ---- (starting) </font>"
      ],
      "text/plain": [
       "<IPython.core.display.HTML object>"
      ]
     },
     "metadata": {},
     "output_type": "execute_result"
    },
    {
     "data": {
      "text/html": [
       "<font face=\"Courier New\" size=2 color=\"green\"> &nbsp;&nbsp  etf_data_0dcc75df3|(<ipython-input-3-fa54dc64d297>::73) &nbsp;&nbsp;&nbsp;&nbspmatching against polygon took 0.02s ---- (done)</font>"
      ],
      "text/plain": [
       "<IPython.core.display.HTML object>"
      ]
     },
     "metadata": {},
     "output_type": "execute_result"
    },
    {
     "data": {
      "text/html": [
       "<font face=\"Courier New\" size=2 color=\"green\"> &nbsp;&nbsp etf_data_6a9c50e94|(<ipython-input-3-fa54dc64d297>::39) &nbsp;&nbsp;&nbsp;&nbspReading kibot eod data ---- (starting) </font>"
      ],
      "text/plain": [
       "<IPython.core.display.HTML object>"
      ]
     },
     "metadata": {},
     "output_type": "execute_result"
    },
    {
     "data": {
      "text/html": [
       "<font face=\"Courier New\" size=2 color=\"green\"> &nbsp;&nbsp  etf_data_6a9c50e94|(<ipython-input-3-fa54dc64d297>::39) &nbsp;&nbsp;&nbsp;&nbspReading kibot eod data took 0.01s ---- (done)</font>"
      ],
      "text/plain": [
       "<IPython.core.display.HTML object>"
      ]
     },
     "metadata": {},
     "output_type": "execute_result"
    },
    {
     "data": {
      "text/html": [
       "<font face=\"Courier New\" size=2 color=\"green\"> &nbsp;&nbsp etf_data_6a9c50e94|(<ipython-input-3-fa54dc64d297>::46) &nbsp;&nbsp;&nbsp;&nbspReading kibot 5min data ---- (starting) </font>"
      ],
      "text/plain": [
       "<IPython.core.display.HTML object>"
      ]
     },
     "metadata": {},
     "output_type": "execute_result"
    },
    {
     "data": {
      "text/html": [
       "<font face=\"Courier New\" size=2 color=\"green\"> &nbsp;&nbsp  etf_data_6a9c50e94|(<ipython-input-3-fa54dc64d297>::46) &nbsp;&nbsp;&nbsp;&nbspReading kibot 5min data took 0.39s ---- (done)</font>"
      ],
      "text/plain": [
       "<IPython.core.display.HTML object>"
      ]
     },
     "metadata": {},
     "output_type": "execute_result"
    },
    {
     "data": {
      "text/html": [
       "<font face=\"Courier New\" size=2 color=\"green\"> &nbsp;&nbsp etf_data_6a9c50e94|(<ipython-input-3-fa54dc64d297>::53) &nbsp;&nbsp;&nbsp;&nbspReading polygon data ---- (starting) </font>"
      ],
      "text/plain": [
       "<IPython.core.display.HTML object>"
      ]
     },
     "metadata": {},
     "output_type": "execute_result"
    },
    {
     "data": {
      "text/html": [
       "<font face=\"Courier New\" size=2 color=\"green\"> &nbsp;&nbsp  etf_data_6a9c50e94|(<ipython-input-3-fa54dc64d297>::53) &nbsp;&nbsp;&nbsp;&nbspReading polygon data took 0.00s ---- (done)</font>"
      ],
      "text/plain": [
       "<IPython.core.display.HTML object>"
      ]
     },
     "metadata": {},
     "output_type": "execute_result"
    },
    {
     "data": {
      "text/html": [
       "<font face=\"Courier New\" size=2 color=\"green\"> &nbsp;&nbsp etf_data_8bc556c46|(<ipython-input-3-fa54dc64d297>::39) &nbsp;&nbsp;&nbsp;&nbspReading kibot eod data ---- (starting) </font>"
      ],
      "text/plain": [
       "<IPython.core.display.HTML object>"
      ]
     },
     "metadata": {},
     "output_type": "execute_result"
    },
    {
     "data": {
      "text/html": [
       "<font face=\"Courier New\" size=2 color=\"green\"> &nbsp;&nbsp  etf_data_8bc556c46|(<ipython-input-3-fa54dc64d297>::39) &nbsp;&nbsp;&nbsp;&nbspReading kibot eod data took 0.01s ---- (done)</font>"
      ],
      "text/plain": [
       "<IPython.core.display.HTML object>"
      ]
     },
     "metadata": {},
     "output_type": "execute_result"
    },
    {
     "data": {
      "text/html": [
       "<font face=\"Courier New\" size=2 color=\"green\"> &nbsp;&nbsp etf_data_8bc556c46|(<ipython-input-3-fa54dc64d297>::46) &nbsp;&nbsp;&nbsp;&nbspReading kibot 5min data ---- (starting) </font>"
      ],
      "text/plain": [
       "<IPython.core.display.HTML object>"
      ]
     },
     "metadata": {},
     "output_type": "execute_result"
    },
    {
     "data": {
      "text/html": [
       "<font face=\"Courier New\" size=2 color=\"green\"> &nbsp;&nbsp  etf_data_8bc556c46|(<ipython-input-3-fa54dc64d297>::46) &nbsp;&nbsp;&nbsp;&nbspReading kibot 5min data took 0.37s ---- (done)</font>"
      ],
      "text/plain": [
       "<IPython.core.display.HTML object>"
      ]
     },
     "metadata": {},
     "output_type": "execute_result"
    },
    {
     "data": {
      "text/html": [
       "<font face=\"Courier New\" size=2 color=\"green\"> &nbsp;&nbsp etf_data_8bc556c46|(<ipython-input-3-fa54dc64d297>::53) &nbsp;&nbsp;&nbsp;&nbspReading polygon data ---- (starting) </font>"
      ],
      "text/plain": [
       "<IPython.core.display.HTML object>"
      ]
     },
     "metadata": {},
     "output_type": "execute_result"
    },
    {
     "data": {
      "text/html": [
       "<font face=\"Courier New\" size=2 color=\"green\"> &nbsp;&nbsp  etf_data_8bc556c46|(<ipython-input-3-fa54dc64d297>::53) &nbsp;&nbsp;&nbsp;&nbspReading polygon data took 0.07s ---- (done)</font>"
      ],
      "text/plain": [
       "<IPython.core.display.HTML object>"
      ]
     },
     "metadata": {},
     "output_type": "execute_result"
    },
    {
     "data": {
      "text/html": [
       "<font face=\"Courier New\" size=2 color=\"green\"> &nbsp;&nbsp etf_data_8bc556c46|(<ipython-input-3-fa54dc64d297>::73) &nbsp;&nbsp;&nbsp;&nbspmatching against polygon ---- (starting) </font>"
      ],
      "text/plain": [
       "<IPython.core.display.HTML object>"
      ]
     },
     "metadata": {},
     "output_type": "execute_result"
    },
    {
     "data": {
      "text/html": [
       "<font face=\"Courier New\" size=2 color=\"green\"> &nbsp;&nbsp  etf_data_8bc556c46|(<ipython-input-3-fa54dc64d297>::73) &nbsp;&nbsp;&nbsp;&nbspmatching against polygon took 0.01s ---- (done)</font>"
      ],
      "text/plain": [
       "<IPython.core.display.HTML object>"
      ]
     },
     "metadata": {},
     "output_type": "execute_result"
    },
    {
     "data": {
      "text/html": [
       "<font face=\"Courier New\" size=2 color=\"green\"> &nbsp;&nbsp etf_data_8699c6623|(<ipython-input-3-fa54dc64d297>::39) &nbsp;&nbsp;&nbsp;&nbspReading kibot eod data ---- (starting) </font>"
      ],
      "text/plain": [
       "<IPython.core.display.HTML object>"
      ]
     },
     "metadata": {},
     "output_type": "execute_result"
    },
    {
     "data": {
      "text/html": [
       "<font face=\"Courier New\" size=2 color=\"green\"> &nbsp;&nbsp  etf_data_8699c6623|(<ipython-input-3-fa54dc64d297>::39) &nbsp;&nbsp;&nbsp;&nbspReading kibot eod data took 0.01s ---- (done)</font>"
      ],
      "text/plain": [
       "<IPython.core.display.HTML object>"
      ]
     },
     "metadata": {},
     "output_type": "execute_result"
    },
    {
     "data": {
      "text/html": [
       "<font face=\"Courier New\" size=2 color=\"green\"> &nbsp;&nbsp etf_data_8699c6623|(<ipython-input-3-fa54dc64d297>::46) &nbsp;&nbsp;&nbsp;&nbspReading kibot 5min data ---- (starting) </font>"
      ],
      "text/plain": [
       "<IPython.core.display.HTML object>"
      ]
     },
     "metadata": {},
     "output_type": "execute_result"
    },
    {
     "data": {
      "text/html": [
       "<font face=\"Courier New\" size=2 color=\"green\"> &nbsp;&nbsp  etf_data_8699c6623|(<ipython-input-3-fa54dc64d297>::46) &nbsp;&nbsp;&nbsp;&nbspReading kibot 5min data took 0.55s ---- (done)</font>"
      ],
      "text/plain": [
       "<IPython.core.display.HTML object>"
      ]
     },
     "metadata": {},
     "output_type": "execute_result"
    },
    {
     "data": {
      "text/html": [
       "<font face=\"Courier New\" size=2 color=\"green\"> &nbsp;&nbsp etf_data_8699c6623|(<ipython-input-3-fa54dc64d297>::53) &nbsp;&nbsp;&nbsp;&nbspReading polygon data ---- (starting) </font>"
      ],
      "text/plain": [
       "<IPython.core.display.HTML object>"
      ]
     },
     "metadata": {},
     "output_type": "execute_result"
    },
    {
     "data": {
      "text/html": [
       "<font face=\"Courier New\" size=2 color=\"green\"> &nbsp;&nbsp  etf_data_8699c6623|(<ipython-input-3-fa54dc64d297>::53) &nbsp;&nbsp;&nbsp;&nbspReading polygon data took 0.10s ---- (done)</font>"
      ],
      "text/plain": [
       "<IPython.core.display.HTML object>"
      ]
     },
     "metadata": {},
     "output_type": "execute_result"
    },
    {
     "data": {
      "text/html": [
       "<font face=\"Courier New\" size=2 color=\"green\"> &nbsp;&nbsp etf_data_8699c6623|(<ipython-input-3-fa54dc64d297>::73) &nbsp;&nbsp;&nbsp;&nbspmatching against polygon ---- (starting) </font>"
      ],
      "text/plain": [
       "<IPython.core.display.HTML object>"
      ]
     },
     "metadata": {},
     "output_type": "execute_result"
    },
    {
     "data": {
      "text/html": [
       "<font face=\"Courier New\" size=2 color=\"green\"> &nbsp;&nbsp  etf_data_8699c6623|(<ipython-input-3-fa54dc64d297>::73) &nbsp;&nbsp;&nbsp;&nbspmatching against polygon took 0.02s ---- (done)</font>"
      ],
      "text/plain": [
       "<IPython.core.display.HTML object>"
      ]
     },
     "metadata": {},
     "output_type": "execute_result"
    },
    {
     "data": {
      "text/html": [
       "<font face=\"Courier New\" size=2 color=\"green\"> &nbsp;&nbsp etf_data_9855b5c4c|(<ipython-input-3-fa54dc64d297>::39) &nbsp;&nbsp;&nbsp;&nbspReading kibot eod data ---- (starting) </font>"
      ],
      "text/plain": [
       "<IPython.core.display.HTML object>"
      ]
     },
     "metadata": {},
     "output_type": "execute_result"
    },
    {
     "data": {
      "text/html": [
       "<font face=\"Courier New\" size=2 color=\"green\"> &nbsp;&nbsp  etf_data_9855b5c4c|(<ipython-input-3-fa54dc64d297>::39) &nbsp;&nbsp;&nbsp;&nbspReading kibot eod data took 0.01s ---- (done)</font>"
      ],
      "text/plain": [
       "<IPython.core.display.HTML object>"
      ]
     },
     "metadata": {},
     "output_type": "execute_result"
    },
    {
     "data": {
      "text/html": [
       "<font face=\"Courier New\" size=2 color=\"green\"> &nbsp;&nbsp etf_data_9855b5c4c|(<ipython-input-3-fa54dc64d297>::46) &nbsp;&nbsp;&nbsp;&nbspReading kibot 5min data ---- (starting) </font>"
      ],
      "text/plain": [
       "<IPython.core.display.HTML object>"
      ]
     },
     "metadata": {},
     "output_type": "execute_result"
    },
    {
     "data": {
      "text/html": [
       "<font face=\"Courier New\" size=2 color=\"green\"> &nbsp;&nbsp  etf_data_9855b5c4c|(<ipython-input-3-fa54dc64d297>::46) &nbsp;&nbsp;&nbsp;&nbspReading kibot 5min data took 0.37s ---- (done)</font>"
      ],
      "text/plain": [
       "<IPython.core.display.HTML object>"
      ]
     },
     "metadata": {},
     "output_type": "execute_result"
    },
    {
     "data": {
      "text/html": [
       "<font face=\"Courier New\" size=2 color=\"green\"> &nbsp;&nbsp etf_data_9855b5c4c|(<ipython-input-3-fa54dc64d297>::53) &nbsp;&nbsp;&nbsp;&nbspReading polygon data ---- (starting) </font>"
      ],
      "text/plain": [
       "<IPython.core.display.HTML object>"
      ]
     },
     "metadata": {},
     "output_type": "execute_result"
    },
    {
     "data": {
      "text/html": [
       "<font face=\"Courier New\" size=2 color=\"green\"> &nbsp;&nbsp  etf_data_9855b5c4c|(<ipython-input-3-fa54dc64d297>::53) &nbsp;&nbsp;&nbsp;&nbspReading polygon data took 0.07s ---- (done)</font>"
      ],
      "text/plain": [
       "<IPython.core.display.HTML object>"
      ]
     },
     "metadata": {},
     "output_type": "execute_result"
    },
    {
     "data": {
      "text/html": [
       "<font face=\"Courier New\" size=2 color=\"green\"> &nbsp;&nbsp etf_data_9855b5c4c|(<ipython-input-3-fa54dc64d297>::73) &nbsp;&nbsp;&nbsp;&nbspmatching against polygon ---- (starting) </font>"
      ],
      "text/plain": [
       "<IPython.core.display.HTML object>"
      ]
     },
     "metadata": {},
     "output_type": "execute_result"
    },
    {
     "data": {
      "text/html": [
       "<font face=\"Courier New\" size=2 color=\"green\"> &nbsp;&nbsp  etf_data_9855b5c4c|(<ipython-input-3-fa54dc64d297>::73) &nbsp;&nbsp;&nbsp;&nbspmatching against polygon took 0.01s ---- (done)</font>"
      ],
      "text/plain": [
       "<IPython.core.display.HTML object>"
      ]
     },
     "metadata": {},
     "output_type": "execute_result"
    },
    {
     "data": {
      "text/html": [
       "<font face=\"Courier New\" size=2 color=\"green\"> &nbsp;&nbsp etf_data_e43c09e82|(<ipython-input-3-fa54dc64d297>::39) &nbsp;&nbsp;&nbsp;&nbspReading kibot eod data ---- (starting) </font>"
      ],
      "text/plain": [
       "<IPython.core.display.HTML object>"
      ]
     },
     "metadata": {},
     "output_type": "execute_result"
    },
    {
     "data": {
      "text/html": [
       "<font face=\"Courier New\" size=2 color=\"green\"> &nbsp;&nbsp  etf_data_e43c09e82|(<ipython-input-3-fa54dc64d297>::39) &nbsp;&nbsp;&nbsp;&nbspReading kibot eod data took 0.02s ---- (done)</font>"
      ],
      "text/plain": [
       "<IPython.core.display.HTML object>"
      ]
     },
     "metadata": {},
     "output_type": "execute_result"
    },
    {
     "data": {
      "text/html": [
       "<font face=\"Courier New\" size=2 color=\"green\"> &nbsp;&nbsp etf_data_e43c09e82|(<ipython-input-3-fa54dc64d297>::46) &nbsp;&nbsp;&nbsp;&nbspReading kibot 5min data ---- (starting) </font>"
      ],
      "text/plain": [
       "<IPython.core.display.HTML object>"
      ]
     },
     "metadata": {},
     "output_type": "execute_result"
    },
    {
     "data": {
      "text/html": [
       "<font face=\"Courier New\" size=2 color=\"green\"> &nbsp;&nbsp  etf_data_e43c09e82|(<ipython-input-3-fa54dc64d297>::46) &nbsp;&nbsp;&nbsp;&nbspReading kibot 5min data took 0.59s ---- (done)</font>"
      ],
      "text/plain": [
       "<IPython.core.display.HTML object>"
      ]
     },
     "metadata": {},
     "output_type": "execute_result"
    },
    {
     "data": {
      "text/html": [
       "<font face=\"Courier New\" size=2 color=\"green\"> &nbsp;&nbsp etf_data_e43c09e82|(<ipython-input-3-fa54dc64d297>::53) &nbsp;&nbsp;&nbsp;&nbspReading polygon data ---- (starting) </font>"
      ],
      "text/plain": [
       "<IPython.core.display.HTML object>"
      ]
     },
     "metadata": {},
     "output_type": "execute_result"
    },
    {
     "data": {
      "text/html": [
       "<font face=\"Courier New\" size=2 color=\"green\"> &nbsp;&nbsp  etf_data_e43c09e82|(<ipython-input-3-fa54dc64d297>::53) &nbsp;&nbsp;&nbsp;&nbspReading polygon data took 0.10s ---- (done)</font>"
      ],
      "text/plain": [
       "<IPython.core.display.HTML object>"
      ]
     },
     "metadata": {},
     "output_type": "execute_result"
    },
    {
     "data": {
      "text/html": [
       "<font face=\"Courier New\" size=2 color=\"green\"> &nbsp;&nbsp etf_data_e43c09e82|(<ipython-input-3-fa54dc64d297>::73) &nbsp;&nbsp;&nbsp;&nbspmatching against polygon ---- (starting) </font>"
      ],
      "text/plain": [
       "<IPython.core.display.HTML object>"
      ]
     },
     "metadata": {},
     "output_type": "execute_result"
    },
    {
     "data": {
      "text/html": [
       "<font face=\"Courier New\" size=2 color=\"green\"> &nbsp;&nbsp  etf_data_e43c09e82|(<ipython-input-3-fa54dc64d297>::73) &nbsp;&nbsp;&nbsp;&nbspmatching against polygon took 0.02s ---- (done)</font>"
      ],
      "text/plain": [
       "<IPython.core.display.HTML object>"
      ]
     },
     "metadata": {},
     "output_type": "execute_result"
    },
    {
     "data": {
      "text/html": [
       "<font face=\"Courier New\" size=2 color=\"green\"> &nbsp;&nbsp etf_data_28aa72bc9|(<ipython-input-3-fa54dc64d297>::39) &nbsp;&nbsp;&nbsp;&nbspReading kibot eod data ---- (starting) </font>"
      ],
      "text/plain": [
       "<IPython.core.display.HTML object>"
      ]
     },
     "metadata": {},
     "output_type": "execute_result"
    },
    {
     "data": {
      "text/html": [
       "<font face=\"Courier New\" size=2 color=\"green\"> &nbsp;&nbsp  etf_data_28aa72bc9|(<ipython-input-3-fa54dc64d297>::39) &nbsp;&nbsp;&nbsp;&nbspReading kibot eod data took 0.02s ---- (done)</font>"
      ],
      "text/plain": [
       "<IPython.core.display.HTML object>"
      ]
     },
     "metadata": {},
     "output_type": "execute_result"
    },
    {
     "data": {
      "text/html": [
       "<font face=\"Courier New\" size=2 color=\"green\"> &nbsp;&nbsp etf_data_28aa72bc9|(<ipython-input-3-fa54dc64d297>::46) &nbsp;&nbsp;&nbsp;&nbspReading kibot 5min data ---- (starting) </font>"
      ],
      "text/plain": [
       "<IPython.core.display.HTML object>"
      ]
     },
     "metadata": {},
     "output_type": "execute_result"
    },
    {
     "data": {
      "text/html": [
       "<font face=\"Courier New\" size=2 color=\"green\"> &nbsp;&nbsp  etf_data_28aa72bc9|(<ipython-input-3-fa54dc64d297>::46) &nbsp;&nbsp;&nbsp;&nbspReading kibot 5min data took 0.75s ---- (done)</font>"
      ],
      "text/plain": [
       "<IPython.core.display.HTML object>"
      ]
     },
     "metadata": {},
     "output_type": "execute_result"
    },
    {
     "data": {
      "text/html": [
       "<font face=\"Courier New\" size=2 color=\"green\"> &nbsp;&nbsp etf_data_28aa72bc9|(<ipython-input-3-fa54dc64d297>::53) &nbsp;&nbsp;&nbsp;&nbspReading polygon data ---- (starting) </font>"
      ],
      "text/plain": [
       "<IPython.core.display.HTML object>"
      ]
     },
     "metadata": {},
     "output_type": "execute_result"
    },
    {
     "data": {
      "text/html": [
       "<font face=\"Courier New\" size=2 color=\"green\"> &nbsp;&nbsp  etf_data_28aa72bc9|(<ipython-input-3-fa54dc64d297>::53) &nbsp;&nbsp;&nbsp;&nbspReading polygon data took 0.10s ---- (done)</font>"
      ],
      "text/plain": [
       "<IPython.core.display.HTML object>"
      ]
     },
     "metadata": {},
     "output_type": "execute_result"
    },
    {
     "data": {
      "text/html": [
       "<font face=\"Courier New\" size=2 color=\"green\"> &nbsp;&nbsp etf_data_28aa72bc9|(<ipython-input-3-fa54dc64d297>::63) &nbsp;&nbsp;&nbsp;&nbspReading pi data ---- (starting) </font>"
      ],
      "text/plain": [
       "<IPython.core.display.HTML object>"
      ]
     },
     "metadata": {},
     "output_type": "execute_result"
    },
    {
     "data": {
      "text/html": [
       "<font face=\"Courier New\" size=2 color=\"green\"> &nbsp;&nbsp  etf_data_28aa72bc9|(<ipython-input-3-fa54dc64d297>::63) &nbsp;&nbsp;&nbsp;&nbspReading pi data took 3.66s ---- (done)</font>"
      ],
      "text/plain": [
       "<IPython.core.display.HTML object>"
      ]
     },
     "metadata": {},
     "output_type": "execute_result"
    },
    {
     "data": {
      "text/html": [
       "<font face=\"Courier New\" size=2 color=\"green\"> &nbsp;&nbsp etf_data_28aa72bc9|(<ipython-input-3-fa54dc64d297>::73) &nbsp;&nbsp;&nbsp;&nbspmatching against polygon ---- (starting) </font>"
      ],
      "text/plain": [
       "<IPython.core.display.HTML object>"
      ]
     },
     "metadata": {},
     "output_type": "execute_result"
    },
    {
     "data": {
      "text/html": [
       "<font face=\"Courier New\" size=2 color=\"green\"> &nbsp;&nbsp  etf_data_28aa72bc9|(<ipython-input-3-fa54dc64d297>::73) &nbsp;&nbsp;&nbsp;&nbspmatching against polygon took 0.02s ---- (done)</font>"
      ],
      "text/plain": [
       "<IPython.core.display.HTML object>"
      ]
     },
     "metadata": {},
     "output_type": "execute_result"
    },
    {
     "data": {
      "text/html": [
       "<font face=\"Courier New\" size=2 color=\"green\"> &nbsp;&nbsp etf_data_28aa72bc9|(<ipython-input-3-fa54dc64d297>::78) &nbsp;&nbsp;&nbsp;&nbspmatching against pitrading ---- (starting) </font>"
      ],
      "text/plain": [
       "<IPython.core.display.HTML object>"
      ]
     },
     "metadata": {},
     "output_type": "execute_result"
    },
    {
     "data": {
      "text/html": [
       "<font face=\"Courier New\" size=2 color=\"green\"> &nbsp;&nbsp  etf_data_28aa72bc9|(<ipython-input-3-fa54dc64d297>::78) &nbsp;&nbsp;&nbsp;&nbspmatching against pitrading took 1.60s ---- (done)</font>"
      ],
      "text/plain": [
       "<IPython.core.display.HTML object>"
      ]
     },
     "metadata": {},
     "output_type": "execute_result"
    },
    {
     "data": {
      "text/html": [
       "<font face=\"Courier New\" size=2 color=\"green\"> &nbsp;&nbsp etf_data_6bbc6fc57|(<ipython-input-3-fa54dc64d297>::39) &nbsp;&nbsp;&nbsp;&nbspReading kibot eod data ---- (starting) </font>"
      ],
      "text/plain": [
       "<IPython.core.display.HTML object>"
      ]
     },
     "metadata": {},
     "output_type": "execute_result"
    },
    {
     "data": {
      "text/html": [
       "<font face=\"Courier New\" size=2 color=\"green\"> &nbsp;&nbsp  etf_data_6bbc6fc57|(<ipython-input-3-fa54dc64d297>::39) &nbsp;&nbsp;&nbsp;&nbspReading kibot eod data took 0.01s ---- (done)</font>"
      ],
      "text/plain": [
       "<IPython.core.display.HTML object>"
      ]
     },
     "metadata": {},
     "output_type": "execute_result"
    },
    {
     "data": {
      "text/html": [
       "<font face=\"Courier New\" size=2 color=\"green\"> &nbsp;&nbsp etf_data_6bbc6fc57|(<ipython-input-3-fa54dc64d297>::46) &nbsp;&nbsp;&nbsp;&nbspReading kibot 5min data ---- (starting) </font>"
      ],
      "text/plain": [
       "<IPython.core.display.HTML object>"
      ]
     },
     "metadata": {},
     "output_type": "execute_result"
    },
    {
     "data": {
      "text/html": [
       "<font face=\"Courier New\" size=2 color=\"green\"> &nbsp;&nbsp  etf_data_6bbc6fc57|(<ipython-input-3-fa54dc64d297>::46) &nbsp;&nbsp;&nbsp;&nbspReading kibot 5min data took 0.40s ---- (done)</font>"
      ],
      "text/plain": [
       "<IPython.core.display.HTML object>"
      ]
     },
     "metadata": {},
     "output_type": "execute_result"
    },
    {
     "data": {
      "text/html": [
       "<font face=\"Courier New\" size=2 color=\"green\"> &nbsp;&nbsp etf_data_6bbc6fc57|(<ipython-input-3-fa54dc64d297>::53) &nbsp;&nbsp;&nbsp;&nbspReading polygon data ---- (starting) </font>"
      ],
      "text/plain": [
       "<IPython.core.display.HTML object>"
      ]
     },
     "metadata": {},
     "output_type": "execute_result"
    },
    {
     "data": {
      "text/html": [
       "<font face=\"Courier New\" size=2 color=\"green\"> &nbsp;&nbsp  etf_data_6bbc6fc57|(<ipython-input-3-fa54dc64d297>::53) &nbsp;&nbsp;&nbsp;&nbspReading polygon data took 0.07s ---- (done)</font>"
      ],
      "text/plain": [
       "<IPython.core.display.HTML object>"
      ]
     },
     "metadata": {},
     "output_type": "execute_result"
    },
    {
     "data": {
      "text/html": [
       "<font face=\"Courier New\" size=2 color=\"green\"> &nbsp;&nbsp etf_data_6bbc6fc57|(<ipython-input-3-fa54dc64d297>::73) &nbsp;&nbsp;&nbsp;&nbspmatching against polygon ---- (starting) </font>"
      ],
      "text/plain": [
       "<IPython.core.display.HTML object>"
      ]
     },
     "metadata": {},
     "output_type": "execute_result"
    },
    {
     "data": {
      "text/html": [
       "<font face=\"Courier New\" size=2 color=\"green\"> &nbsp;&nbsp  etf_data_6bbc6fc57|(<ipython-input-3-fa54dc64d297>::73) &nbsp;&nbsp;&nbsp;&nbspmatching against polygon took 0.01s ---- (done)</font>"
      ],
      "text/plain": [
       "<IPython.core.display.HTML object>"
      ]
     },
     "metadata": {},
     "output_type": "execute_result"
    },
    {
     "data": {
      "text/html": [
       "<font face=\"Courier New\" size=2 color=\"green\"> &nbsp;&nbsp etf_data_033eed857|(<ipython-input-3-fa54dc64d297>::39) &nbsp;&nbsp;&nbsp;&nbspReading kibot eod data ---- (starting) </font>"
      ],
      "text/plain": [
       "<IPython.core.display.HTML object>"
      ]
     },
     "metadata": {},
     "output_type": "execute_result"
    },
    {
     "data": {
      "text/html": [
       "<font face=\"Courier New\" size=2 color=\"green\"> &nbsp;&nbsp  etf_data_033eed857|(<ipython-input-3-fa54dc64d297>::39) &nbsp;&nbsp;&nbsp;&nbspReading kibot eod data took 0.01s ---- (done)</font>"
      ],
      "text/plain": [
       "<IPython.core.display.HTML object>"
      ]
     },
     "metadata": {},
     "output_type": "execute_result"
    },
    {
     "data": {
      "text/html": [
       "<font face=\"Courier New\" size=2 color=\"green\"> &nbsp;&nbsp etf_data_033eed857|(<ipython-input-3-fa54dc64d297>::46) &nbsp;&nbsp;&nbsp;&nbspReading kibot 5min data ---- (starting) </font>"
      ],
      "text/plain": [
       "<IPython.core.display.HTML object>"
      ]
     },
     "metadata": {},
     "output_type": "execute_result"
    },
    {
     "data": {
      "text/html": [
       "<font face=\"Courier New\" size=2 color=\"green\"> &nbsp;&nbsp  etf_data_033eed857|(<ipython-input-3-fa54dc64d297>::46) &nbsp;&nbsp;&nbsp;&nbspReading kibot 5min data took 0.63s ---- (done)</font>"
      ],
      "text/plain": [
       "<IPython.core.display.HTML object>"
      ]
     },
     "metadata": {},
     "output_type": "execute_result"
    },
    {
     "data": {
      "text/html": [
       "<font face=\"Courier New\" size=2 color=\"green\"> &nbsp;&nbsp etf_data_033eed857|(<ipython-input-3-fa54dc64d297>::53) &nbsp;&nbsp;&nbsp;&nbspReading polygon data ---- (starting) </font>"
      ],
      "text/plain": [
       "<IPython.core.display.HTML object>"
      ]
     },
     "metadata": {},
     "output_type": "execute_result"
    },
    {
     "data": {
      "text/html": [
       "<font face=\"Courier New\" size=2 color=\"green\"> &nbsp;&nbsp  etf_data_033eed857|(<ipython-input-3-fa54dc64d297>::53) &nbsp;&nbsp;&nbsp;&nbspReading polygon data took 0.07s ---- (done)</font>"
      ],
      "text/plain": [
       "<IPython.core.display.HTML object>"
      ]
     },
     "metadata": {},
     "output_type": "execute_result"
    },
    {
     "data": {
      "text/html": [
       "<font face=\"Courier New\" size=2 color=\"green\"> &nbsp;&nbsp etf_data_033eed857|(<ipython-input-3-fa54dc64d297>::63) &nbsp;&nbsp;&nbsp;&nbspReading pi data ---- (starting) </font>"
      ],
      "text/plain": [
       "<IPython.core.display.HTML object>"
      ]
     },
     "metadata": {},
     "output_type": "execute_result"
    },
    {
     "data": {
      "text/html": [
       "<font face=\"Courier New\" size=2 color=\"green\"> &nbsp;&nbsp  etf_data_033eed857|(<ipython-input-3-fa54dc64d297>::63) &nbsp;&nbsp;&nbsp;&nbspReading pi data took 2.68s ---- (done)</font>"
      ],
      "text/plain": [
       "<IPython.core.display.HTML object>"
      ]
     },
     "metadata": {},
     "output_type": "execute_result"
    },
    {
     "data": {
      "text/html": [
       "<font face=\"Courier New\" size=2 color=\"green\"> &nbsp;&nbsp etf_data_033eed857|(<ipython-input-3-fa54dc64d297>::73) &nbsp;&nbsp;&nbsp;&nbspmatching against polygon ---- (starting) </font>"
      ],
      "text/plain": [
       "<IPython.core.display.HTML object>"
      ]
     },
     "metadata": {},
     "output_type": "execute_result"
    },
    {
     "data": {
      "text/html": [
       "<font face=\"Courier New\" size=2 color=\"green\"> &nbsp;&nbsp  etf_data_033eed857|(<ipython-input-3-fa54dc64d297>::73) &nbsp;&nbsp;&nbsp;&nbspmatching against polygon took 0.02s ---- (done)</font>"
      ],
      "text/plain": [
       "<IPython.core.display.HTML object>"
      ]
     },
     "metadata": {},
     "output_type": "execute_result"
    },
    {
     "data": {
      "text/html": [
       "<font face=\"Courier New\" size=2 color=\"green\"> &nbsp;&nbsp etf_data_033eed857|(<ipython-input-3-fa54dc64d297>::78) &nbsp;&nbsp;&nbsp;&nbspmatching against pitrading ---- (starting) </font>"
      ],
      "text/plain": [
       "<IPython.core.display.HTML object>"
      ]
     },
     "metadata": {},
     "output_type": "execute_result"
    },
    {
     "data": {
      "text/html": [
       "<font face=\"Courier New\" size=2 color=\"green\"> &nbsp;&nbsp  etf_data_033eed857|(<ipython-input-3-fa54dc64d297>::78) &nbsp;&nbsp;&nbsp;&nbspmatching against pitrading took 1.05s ---- (done)</font>"
      ],
      "text/plain": [
       "<IPython.core.display.HTML object>"
      ]
     },
     "metadata": {},
     "output_type": "execute_result"
    },
    {
     "data": {
      "text/html": [
       "<font face=\"Courier New\" size=2 color=\"green\"> &nbsp;&nbsp etf_data_f3bf9c2aa|(<ipython-input-3-fa54dc64d297>::39) &nbsp;&nbsp;&nbsp;&nbspReading kibot eod data ---- (starting) </font>"
      ],
      "text/plain": [
       "<IPython.core.display.HTML object>"
      ]
     },
     "metadata": {},
     "output_type": "execute_result"
    },
    {
     "data": {
      "text/html": [
       "<font face=\"Courier New\" size=2 color=\"green\"> &nbsp;&nbsp  etf_data_f3bf9c2aa|(<ipython-input-3-fa54dc64d297>::39) &nbsp;&nbsp;&nbsp;&nbspReading kibot eod data took 0.01s ---- (done)</font>"
      ],
      "text/plain": [
       "<IPython.core.display.HTML object>"
      ]
     },
     "metadata": {},
     "output_type": "execute_result"
    },
    {
     "data": {
      "text/html": [
       "<font face=\"Courier New\" size=2 color=\"green\"> &nbsp;&nbsp etf_data_f3bf9c2aa|(<ipython-input-3-fa54dc64d297>::46) &nbsp;&nbsp;&nbsp;&nbspReading kibot 5min data ---- (starting) </font>"
      ],
      "text/plain": [
       "<IPython.core.display.HTML object>"
      ]
     },
     "metadata": {},
     "output_type": "execute_result"
    },
    {
     "data": {
      "text/html": [
       "<font face=\"Courier New\" size=2 color=\"green\"> &nbsp;&nbsp  etf_data_f3bf9c2aa|(<ipython-input-3-fa54dc64d297>::46) &nbsp;&nbsp;&nbsp;&nbspReading kibot 5min data took 0.57s ---- (done)</font>"
      ],
      "text/plain": [
       "<IPython.core.display.HTML object>"
      ]
     },
     "metadata": {},
     "output_type": "execute_result"
    },
    {
     "data": {
      "text/html": [
       "<font face=\"Courier New\" size=2 color=\"green\"> &nbsp;&nbsp etf_data_f3bf9c2aa|(<ipython-input-3-fa54dc64d297>::53) &nbsp;&nbsp;&nbsp;&nbspReading polygon data ---- (starting) </font>"
      ],
      "text/plain": [
       "<IPython.core.display.HTML object>"
      ]
     },
     "metadata": {},
     "output_type": "execute_result"
    },
    {
     "data": {
      "text/html": [
       "<font face=\"Courier New\" size=2 color=\"green\"> &nbsp;&nbsp  etf_data_f3bf9c2aa|(<ipython-input-3-fa54dc64d297>::53) &nbsp;&nbsp;&nbsp;&nbspReading polygon data took 0.10s ---- (done)</font>"
      ],
      "text/plain": [
       "<IPython.core.display.HTML object>"
      ]
     },
     "metadata": {},
     "output_type": "execute_result"
    },
    {
     "data": {
      "text/html": [
       "<font face=\"Courier New\" size=2 color=\"green\"> &nbsp;&nbsp etf_data_f3bf9c2aa|(<ipython-input-3-fa54dc64d297>::73) &nbsp;&nbsp;&nbsp;&nbspmatching against polygon ---- (starting) </font>"
      ],
      "text/plain": [
       "<IPython.core.display.HTML object>"
      ]
     },
     "metadata": {},
     "output_type": "execute_result"
    },
    {
     "data": {
      "text/html": [
       "<font face=\"Courier New\" size=2 color=\"green\"> &nbsp;&nbsp  etf_data_f3bf9c2aa|(<ipython-input-3-fa54dc64d297>::73) &nbsp;&nbsp;&nbsp;&nbspmatching against polygon took 0.02s ---- (done)</font>"
      ],
      "text/plain": [
       "<IPython.core.display.HTML object>"
      ]
     },
     "metadata": {},
     "output_type": "execute_result"
    },
    {
     "data": {
      "text/html": [
       "<font face=\"Courier New\" size=2 color=\"green\"> &nbsp;&nbsp etf_data_ee1f45baa|(<ipython-input-3-fa54dc64d297>::39) &nbsp;&nbsp;&nbsp;&nbspReading kibot eod data ---- (starting) </font>"
      ],
      "text/plain": [
       "<IPython.core.display.HTML object>"
      ]
     },
     "metadata": {},
     "output_type": "execute_result"
    },
    {
     "data": {
      "text/html": [
       "<font face=\"Courier New\" size=2 color=\"green\"> &nbsp;&nbsp  etf_data_ee1f45baa|(<ipython-input-3-fa54dc64d297>::39) &nbsp;&nbsp;&nbsp;&nbspReading kibot eod data took 0.01s ---- (done)</font>"
      ],
      "text/plain": [
       "<IPython.core.display.HTML object>"
      ]
     },
     "metadata": {},
     "output_type": "execute_result"
    },
    {
     "data": {
      "text/html": [
       "<font face=\"Courier New\" size=2 color=\"green\"> &nbsp;&nbsp etf_data_ee1f45baa|(<ipython-input-3-fa54dc64d297>::46) &nbsp;&nbsp;&nbsp;&nbspReading kibot 5min data ---- (starting) </font>"
      ],
      "text/plain": [
       "<IPython.core.display.HTML object>"
      ]
     },
     "metadata": {},
     "output_type": "execute_result"
    },
    {
     "data": {
      "text/html": [
       "<font face=\"Courier New\" size=2 color=\"green\"> &nbsp;&nbsp  etf_data_ee1f45baa|(<ipython-input-3-fa54dc64d297>::46) &nbsp;&nbsp;&nbsp;&nbspReading kibot 5min data took 0.40s ---- (done)</font>"
      ],
      "text/plain": [
       "<IPython.core.display.HTML object>"
      ]
     },
     "metadata": {},
     "output_type": "execute_result"
    },
    {
     "data": {
      "text/html": [
       "<font face=\"Courier New\" size=2 color=\"green\"> &nbsp;&nbsp etf_data_ee1f45baa|(<ipython-input-3-fa54dc64d297>::53) &nbsp;&nbsp;&nbsp;&nbspReading polygon data ---- (starting) </font>"
      ],
      "text/plain": [
       "<IPython.core.display.HTML object>"
      ]
     },
     "metadata": {},
     "output_type": "execute_result"
    },
    {
     "data": {
      "text/html": [
       "<font face=\"Courier New\" size=2 color=\"green\"> &nbsp;&nbsp  etf_data_ee1f45baa|(<ipython-input-3-fa54dc64d297>::53) &nbsp;&nbsp;&nbsp;&nbspReading polygon data took 0.07s ---- (done)</font>"
      ],
      "text/plain": [
       "<IPython.core.display.HTML object>"
      ]
     },
     "metadata": {},
     "output_type": "execute_result"
    },
    {
     "data": {
      "text/html": [
       "<font face=\"Courier New\" size=2 color=\"green\"> &nbsp;&nbsp etf_data_ee1f45baa|(<ipython-input-3-fa54dc64d297>::73) &nbsp;&nbsp;&nbsp;&nbspmatching against polygon ---- (starting) </font>"
      ],
      "text/plain": [
       "<IPython.core.display.HTML object>"
      ]
     },
     "metadata": {},
     "output_type": "execute_result"
    },
    {
     "data": {
      "text/html": [
       "<font face=\"Courier New\" size=2 color=\"green\"> &nbsp;&nbsp  etf_data_ee1f45baa|(<ipython-input-3-fa54dc64d297>::73) &nbsp;&nbsp;&nbsp;&nbspmatching against polygon took 0.01s ---- (done)</font>"
      ],
      "text/plain": [
       "<IPython.core.display.HTML object>"
      ]
     },
     "metadata": {},
     "output_type": "execute_result"
    },
    {
     "data": {
      "text/html": [
       "<font face=\"Courier New\" size=2 color=\"green\"> &nbsp;&nbsp etf_data_6596d0485|(<ipython-input-3-fa54dc64d297>::39) &nbsp;&nbsp;&nbsp;&nbspReading kibot eod data ---- (starting) </font>"
      ],
      "text/plain": [
       "<IPython.core.display.HTML object>"
      ]
     },
     "metadata": {},
     "output_type": "execute_result"
    },
    {
     "data": {
      "text/html": [
       "<font face=\"Courier New\" size=2 color=\"green\"> &nbsp;&nbsp  etf_data_6596d0485|(<ipython-input-3-fa54dc64d297>::39) &nbsp;&nbsp;&nbsp;&nbspReading kibot eod data took 0.01s ---- (done)</font>"
      ],
      "text/plain": [
       "<IPython.core.display.HTML object>"
      ]
     },
     "metadata": {},
     "output_type": "execute_result"
    },
    {
     "data": {
      "text/html": [
       "<font face=\"Courier New\" size=2 color=\"green\"> &nbsp;&nbsp etf_data_6596d0485|(<ipython-input-3-fa54dc64d297>::46) &nbsp;&nbsp;&nbsp;&nbspReading kibot 5min data ---- (starting) </font>"
      ],
      "text/plain": [
       "<IPython.core.display.HTML object>"
      ]
     },
     "metadata": {},
     "output_type": "execute_result"
    },
    {
     "data": {
      "text/html": [
       "<font face=\"Courier New\" size=2 color=\"green\"> &nbsp;&nbsp  etf_data_6596d0485|(<ipython-input-3-fa54dc64d297>::46) &nbsp;&nbsp;&nbsp;&nbspReading kibot 5min data took 0.58s ---- (done)</font>"
      ],
      "text/plain": [
       "<IPython.core.display.HTML object>"
      ]
     },
     "metadata": {},
     "output_type": "execute_result"
    },
    {
     "data": {
      "text/html": [
       "<font face=\"Courier New\" size=2 color=\"green\"> &nbsp;&nbsp etf_data_6596d0485|(<ipython-input-3-fa54dc64d297>::53) &nbsp;&nbsp;&nbsp;&nbspReading polygon data ---- (starting) </font>"
      ],
      "text/plain": [
       "<IPython.core.display.HTML object>"
      ]
     },
     "metadata": {},
     "output_type": "execute_result"
    },
    {
     "data": {
      "text/html": [
       "<font face=\"Courier New\" size=2 color=\"green\"> &nbsp;&nbsp  etf_data_6596d0485|(<ipython-input-3-fa54dc64d297>::53) &nbsp;&nbsp;&nbsp;&nbspReading polygon data took 0.07s ---- (done)</font>"
      ],
      "text/plain": [
       "<IPython.core.display.HTML object>"
      ]
     },
     "metadata": {},
     "output_type": "execute_result"
    },
    {
     "data": {
      "text/html": [
       "<font face=\"Courier New\" size=2 color=\"green\"> &nbsp;&nbsp etf_data_6596d0485|(<ipython-input-3-fa54dc64d297>::73) &nbsp;&nbsp;&nbsp;&nbspmatching against polygon ---- (starting) </font>"
      ],
      "text/plain": [
       "<IPython.core.display.HTML object>"
      ]
     },
     "metadata": {},
     "output_type": "execute_result"
    },
    {
     "data": {
      "text/html": [
       "<font face=\"Courier New\" size=2 color=\"green\"> &nbsp;&nbsp  etf_data_6596d0485|(<ipython-input-3-fa54dc64d297>::73) &nbsp;&nbsp;&nbsp;&nbspmatching against polygon took 0.01s ---- (done)</font>"
      ],
      "text/plain": [
       "<IPython.core.display.HTML object>"
      ]
     },
     "metadata": {},
     "output_type": "execute_result"
    },
    {
     "data": {
      "text/html": [
       "<font face=\"Courier New\" size=2 color=\"green\"> &nbsp;&nbsp etf_data_aff221c8c|(<ipython-input-3-fa54dc64d297>::39) &nbsp;&nbsp;&nbsp;&nbspReading kibot eod data ---- (starting) </font>"
      ],
      "text/plain": [
       "<IPython.core.display.HTML object>"
      ]
     },
     "metadata": {},
     "output_type": "execute_result"
    },
    {
     "data": {
      "text/html": [
       "<font face=\"Courier New\" size=2 color=\"green\"> &nbsp;&nbsp  etf_data_aff221c8c|(<ipython-input-3-fa54dc64d297>::39) &nbsp;&nbsp;&nbsp;&nbspReading kibot eod data took 0.02s ---- (done)</font>"
      ],
      "text/plain": [
       "<IPython.core.display.HTML object>"
      ]
     },
     "metadata": {},
     "output_type": "execute_result"
    },
    {
     "data": {
      "text/html": [
       "<font face=\"Courier New\" size=2 color=\"green\"> &nbsp;&nbsp etf_data_aff221c8c|(<ipython-input-3-fa54dc64d297>::46) &nbsp;&nbsp;&nbsp;&nbspReading kibot 5min data ---- (starting) </font>"
      ],
      "text/plain": [
       "<IPython.core.display.HTML object>"
      ]
     },
     "metadata": {},
     "output_type": "execute_result"
    },
    {
     "data": {
      "text/html": [
       "<font face=\"Courier New\" size=2 color=\"green\"> &nbsp;&nbsp  etf_data_aff221c8c|(<ipython-input-3-fa54dc64d297>::46) &nbsp;&nbsp;&nbsp;&nbspReading kibot 5min data took 0.57s ---- (done)</font>"
      ],
      "text/plain": [
       "<IPython.core.display.HTML object>"
      ]
     },
     "metadata": {},
     "output_type": "execute_result"
    },
    {
     "data": {
      "text/html": [
       "<font face=\"Courier New\" size=2 color=\"green\"> &nbsp;&nbsp etf_data_aff221c8c|(<ipython-input-3-fa54dc64d297>::53) &nbsp;&nbsp;&nbsp;&nbspReading polygon data ---- (starting) </font>"
      ],
      "text/plain": [
       "<IPython.core.display.HTML object>"
      ]
     },
     "metadata": {},
     "output_type": "execute_result"
    },
    {
     "data": {
      "text/html": [
       "<font face=\"Courier New\" size=2 color=\"green\"> &nbsp;&nbsp  etf_data_aff221c8c|(<ipython-input-3-fa54dc64d297>::53) &nbsp;&nbsp;&nbsp;&nbspReading polygon data took 0.10s ---- (done)</font>"
      ],
      "text/plain": [
       "<IPython.core.display.HTML object>"
      ]
     },
     "metadata": {},
     "output_type": "execute_result"
    },
    {
     "data": {
      "text/html": [
       "<font face=\"Courier New\" size=2 color=\"green\"> &nbsp;&nbsp etf_data_aff221c8c|(<ipython-input-3-fa54dc64d297>::73) &nbsp;&nbsp;&nbsp;&nbspmatching against polygon ---- (starting) </font>"
      ],
      "text/plain": [
       "<IPython.core.display.HTML object>"
      ]
     },
     "metadata": {},
     "output_type": "execute_result"
    },
    {
     "data": {
      "text/html": [
       "<font face=\"Courier New\" size=2 color=\"green\"> &nbsp;&nbsp  etf_data_aff221c8c|(<ipython-input-3-fa54dc64d297>::73) &nbsp;&nbsp;&nbsp;&nbspmatching against polygon took 0.02s ---- (done)</font>"
      ],
      "text/plain": [
       "<IPython.core.display.HTML object>"
      ]
     },
     "metadata": {},
     "output_type": "execute_result"
    },
    {
     "data": {
      "text/html": [
       "<font face=\"Courier New\" size=2 color=\"green\"> &nbsp;&nbsp etf_data_ea2015e8f|(<ipython-input-3-fa54dc64d297>::39) &nbsp;&nbsp;&nbsp;&nbspReading kibot eod data ---- (starting) </font>"
      ],
      "text/plain": [
       "<IPython.core.display.HTML object>"
      ]
     },
     "metadata": {},
     "output_type": "execute_result"
    },
    {
     "data": {
      "text/html": [
       "<font face=\"Courier New\" size=2 color=\"green\"> &nbsp;&nbsp  etf_data_ea2015e8f|(<ipython-input-3-fa54dc64d297>::39) &nbsp;&nbsp;&nbsp;&nbspReading kibot eod data took 0.01s ---- (done)</font>"
      ],
      "text/plain": [
       "<IPython.core.display.HTML object>"
      ]
     },
     "metadata": {},
     "output_type": "execute_result"
    },
    {
     "data": {
      "text/html": [
       "<font face=\"Courier New\" size=2 color=\"green\"> &nbsp;&nbsp etf_data_ea2015e8f|(<ipython-input-3-fa54dc64d297>::46) &nbsp;&nbsp;&nbsp;&nbspReading kibot 5min data ---- (starting) </font>"
      ],
      "text/plain": [
       "<IPython.core.display.HTML object>"
      ]
     },
     "metadata": {},
     "output_type": "execute_result"
    },
    {
     "data": {
      "text/html": [
       "<font face=\"Courier New\" size=2 color=\"green\"> &nbsp;&nbsp  etf_data_ea2015e8f|(<ipython-input-3-fa54dc64d297>::46) &nbsp;&nbsp;&nbsp;&nbspReading kibot 5min data took 0.67s ---- (done)</font>"
      ],
      "text/plain": [
       "<IPython.core.display.HTML object>"
      ]
     },
     "metadata": {},
     "output_type": "execute_result"
    },
    {
     "data": {
      "text/html": [
       "<font face=\"Courier New\" size=2 color=\"green\"> &nbsp;&nbsp etf_data_ea2015e8f|(<ipython-input-3-fa54dc64d297>::53) &nbsp;&nbsp;&nbsp;&nbspReading polygon data ---- (starting) </font>"
      ],
      "text/plain": [
       "<IPython.core.display.HTML object>"
      ]
     },
     "metadata": {},
     "output_type": "execute_result"
    },
    {
     "data": {
      "text/html": [
       "<font face=\"Courier New\" size=2 color=\"green\"> &nbsp;&nbsp  etf_data_ea2015e8f|(<ipython-input-3-fa54dc64d297>::53) &nbsp;&nbsp;&nbsp;&nbspReading polygon data took 0.07s ---- (done)</font>"
      ],
      "text/plain": [
       "<IPython.core.display.HTML object>"
      ]
     },
     "metadata": {},
     "output_type": "execute_result"
    },
    {
     "data": {
      "text/html": [
       "<font face=\"Courier New\" size=2 color=\"green\"> &nbsp;&nbsp etf_data_ea2015e8f|(<ipython-input-3-fa54dc64d297>::63) &nbsp;&nbsp;&nbsp;&nbspReading pi data ---- (starting) </font>"
      ],
      "text/plain": [
       "<IPython.core.display.HTML object>"
      ]
     },
     "metadata": {},
     "output_type": "execute_result"
    },
    {
     "data": {
      "text/html": [
       "<font face=\"Courier New\" size=2 color=\"green\"> &nbsp;&nbsp  etf_data_ea2015e8f|(<ipython-input-3-fa54dc64d297>::63) &nbsp;&nbsp;&nbsp;&nbspReading pi data took 2.62s ---- (done)</font>"
      ],
      "text/plain": [
       "<IPython.core.display.HTML object>"
      ]
     },
     "metadata": {},
     "output_type": "execute_result"
    },
    {
     "data": {
      "text/html": [
       "<font face=\"Courier New\" size=2 color=\"green\"> &nbsp;&nbsp etf_data_ea2015e8f|(<ipython-input-3-fa54dc64d297>::73) &nbsp;&nbsp;&nbsp;&nbspmatching against polygon ---- (starting) </font>"
      ],
      "text/plain": [
       "<IPython.core.display.HTML object>"
      ]
     },
     "metadata": {},
     "output_type": "execute_result"
    },
    {
     "data": {
      "text/html": [
       "<font face=\"Courier New\" size=2 color=\"green\"> &nbsp;&nbsp  etf_data_ea2015e8f|(<ipython-input-3-fa54dc64d297>::73) &nbsp;&nbsp;&nbsp;&nbspmatching against polygon took 0.02s ---- (done)</font>"
      ],
      "text/plain": [
       "<IPython.core.display.HTML object>"
      ]
     },
     "metadata": {},
     "output_type": "execute_result"
    },
    {
     "data": {
      "text/html": [
       "<font face=\"Courier New\" size=2 color=\"green\"> &nbsp;&nbsp etf_data_ea2015e8f|(<ipython-input-3-fa54dc64d297>::78) &nbsp;&nbsp;&nbsp;&nbspmatching against pitrading ---- (starting) </font>"
      ],
      "text/plain": [
       "<IPython.core.display.HTML object>"
      ]
     },
     "metadata": {},
     "output_type": "execute_result"
    },
    {
     "data": {
      "text/html": [
       "<font face=\"Courier New\" size=2 color=\"green\"> &nbsp;&nbsp  etf_data_ea2015e8f|(<ipython-input-3-fa54dc64d297>::78) &nbsp;&nbsp;&nbsp;&nbspmatching against pitrading took 1.09s ---- (done)</font>"
      ],
      "text/plain": [
       "<IPython.core.display.HTML object>"
      ]
     },
     "metadata": {},
     "output_type": "execute_result"
    },
    {
     "data": {
      "text/html": [
       "<font face=\"Courier New\" size=2 color=\"green\"> &nbsp;&nbsp etf_data_e32211146|(<ipython-input-3-fa54dc64d297>::39) &nbsp;&nbsp;&nbsp;&nbspReading kibot eod data ---- (starting) </font>"
      ],
      "text/plain": [
       "<IPython.core.display.HTML object>"
      ]
     },
     "metadata": {},
     "output_type": "execute_result"
    },
    {
     "data": {
      "text/html": [
       "<font face=\"Courier New\" size=2 color=\"green\"> &nbsp;&nbsp  etf_data_e32211146|(<ipython-input-3-fa54dc64d297>::39) &nbsp;&nbsp;&nbsp;&nbspReading kibot eod data took 0.01s ---- (done)</font>"
      ],
      "text/plain": [
       "<IPython.core.display.HTML object>"
      ]
     },
     "metadata": {},
     "output_type": "execute_result"
    },
    {
     "data": {
      "text/html": [
       "<font face=\"Courier New\" size=2 color=\"green\"> &nbsp;&nbsp etf_data_e32211146|(<ipython-input-3-fa54dc64d297>::46) &nbsp;&nbsp;&nbsp;&nbspReading kibot 5min data ---- (starting) </font>"
      ],
      "text/plain": [
       "<IPython.core.display.HTML object>"
      ]
     },
     "metadata": {},
     "output_type": "execute_result"
    },
    {
     "data": {
      "text/html": [
       "<font face=\"Courier New\" size=2 color=\"green\"> &nbsp;&nbsp  etf_data_e32211146|(<ipython-input-3-fa54dc64d297>::46) &nbsp;&nbsp;&nbsp;&nbspReading kibot 5min data took 0.55s ---- (done)</font>"
      ],
      "text/plain": [
       "<IPython.core.display.HTML object>"
      ]
     },
     "metadata": {},
     "output_type": "execute_result"
    },
    {
     "data": {
      "text/html": [
       "<font face=\"Courier New\" size=2 color=\"green\"> &nbsp;&nbsp etf_data_e32211146|(<ipython-input-3-fa54dc64d297>::53) &nbsp;&nbsp;&nbsp;&nbspReading polygon data ---- (starting) </font>"
      ],
      "text/plain": [
       "<IPython.core.display.HTML object>"
      ]
     },
     "metadata": {},
     "output_type": "execute_result"
    },
    {
     "data": {
      "text/html": [
       "<font face=\"Courier New\" size=2 color=\"green\"> &nbsp;&nbsp  etf_data_e32211146|(<ipython-input-3-fa54dc64d297>::53) &nbsp;&nbsp;&nbsp;&nbspReading polygon data took 0.07s ---- (done)</font>"
      ],
      "text/plain": [
       "<IPython.core.display.HTML object>"
      ]
     },
     "metadata": {},
     "output_type": "execute_result"
    },
    {
     "data": {
      "text/html": [
       "<font face=\"Courier New\" size=2 color=\"green\"> &nbsp;&nbsp etf_data_e32211146|(<ipython-input-3-fa54dc64d297>::73) &nbsp;&nbsp;&nbsp;&nbspmatching against polygon ---- (starting) </font>"
      ],
      "text/plain": [
       "<IPython.core.display.HTML object>"
      ]
     },
     "metadata": {},
     "output_type": "execute_result"
    },
    {
     "data": {
      "text/html": [
       "<font face=\"Courier New\" size=2 color=\"green\"> &nbsp;&nbsp  etf_data_e32211146|(<ipython-input-3-fa54dc64d297>::73) &nbsp;&nbsp;&nbsp;&nbspmatching against polygon took 0.02s ---- (done)</font>"
      ],
      "text/plain": [
       "<IPython.core.display.HTML object>"
      ]
     },
     "metadata": {},
     "output_type": "execute_result"
    },
    {
     "data": {
      "text/html": [
       "<font face=\"Courier New\" size=2 color=\"green\"> &nbsp;&nbsp etf_data_8f492e9b6|(<ipython-input-3-fa54dc64d297>::39) &nbsp;&nbsp;&nbsp;&nbspReading kibot eod data ---- (starting) </font>"
      ],
      "text/plain": [
       "<IPython.core.display.HTML object>"
      ]
     },
     "metadata": {},
     "output_type": "execute_result"
    },
    {
     "data": {
      "text/html": [
       "<font face=\"Courier New\" size=2 color=\"green\"> &nbsp;&nbsp  etf_data_8f492e9b6|(<ipython-input-3-fa54dc64d297>::39) &nbsp;&nbsp;&nbsp;&nbspReading kibot eod data took 0.01s ---- (done)</font>"
      ],
      "text/plain": [
       "<IPython.core.display.HTML object>"
      ]
     },
     "metadata": {},
     "output_type": "execute_result"
    },
    {
     "data": {
      "text/html": [
       "<font face=\"Courier New\" size=2 color=\"green\"> &nbsp;&nbsp etf_data_8f492e9b6|(<ipython-input-3-fa54dc64d297>::46) &nbsp;&nbsp;&nbsp;&nbspReading kibot 5min data ---- (starting) </font>"
      ],
      "text/plain": [
       "<IPython.core.display.HTML object>"
      ]
     },
     "metadata": {},
     "output_type": "execute_result"
    },
    {
     "data": {
      "text/html": [
       "<font face=\"Courier New\" size=2 color=\"green\"> &nbsp;&nbsp  etf_data_8f492e9b6|(<ipython-input-3-fa54dc64d297>::46) &nbsp;&nbsp;&nbsp;&nbspReading kibot 5min data took 0.36s ---- (done)</font>"
      ],
      "text/plain": [
       "<IPython.core.display.HTML object>"
      ]
     },
     "metadata": {},
     "output_type": "execute_result"
    },
    {
     "data": {
      "text/html": [
       "<font face=\"Courier New\" size=2 color=\"green\"> &nbsp;&nbsp etf_data_8f492e9b6|(<ipython-input-3-fa54dc64d297>::53) &nbsp;&nbsp;&nbsp;&nbspReading polygon data ---- (starting) </font>"
      ],
      "text/plain": [
       "<IPython.core.display.HTML object>"
      ]
     },
     "metadata": {},
     "output_type": "execute_result"
    },
    {
     "data": {
      "text/html": [
       "<font face=\"Courier New\" size=2 color=\"green\"> &nbsp;&nbsp  etf_data_8f492e9b6|(<ipython-input-3-fa54dc64d297>::53) &nbsp;&nbsp;&nbsp;&nbspReading polygon data took 0.07s ---- (done)</font>"
      ],
      "text/plain": [
       "<IPython.core.display.HTML object>"
      ]
     },
     "metadata": {},
     "output_type": "execute_result"
    },
    {
     "data": {
      "text/html": [
       "<font face=\"Courier New\" size=2 color=\"green\"> &nbsp;&nbsp etf_data_8f492e9b6|(<ipython-input-3-fa54dc64d297>::73) &nbsp;&nbsp;&nbsp;&nbspmatching against polygon ---- (starting) </font>"
      ],
      "text/plain": [
       "<IPython.core.display.HTML object>"
      ]
     },
     "metadata": {},
     "output_type": "execute_result"
    },
    {
     "data": {
      "text/html": [
       "<font face=\"Courier New\" size=2 color=\"green\"> &nbsp;&nbsp  etf_data_8f492e9b6|(<ipython-input-3-fa54dc64d297>::73) &nbsp;&nbsp;&nbsp;&nbspmatching against polygon took 0.02s ---- (done)</font>"
      ],
      "text/plain": [
       "<IPython.core.display.HTML object>"
      ]
     },
     "metadata": {},
     "output_type": "execute_result"
    },
    {
     "data": {
      "text/html": [
       "<font face=\"Courier New\" size=2 color=\"green\"> &nbsp;&nbsp etf_data_b6fa3826c|(<ipython-input-3-fa54dc64d297>::39) &nbsp;&nbsp;&nbsp;&nbspReading kibot eod data ---- (starting) </font>"
      ],
      "text/plain": [
       "<IPython.core.display.HTML object>"
      ]
     },
     "metadata": {},
     "output_type": "execute_result"
    },
    {
     "data": {
      "text/html": [
       "<font face=\"Courier New\" size=2 color=\"green\"> &nbsp;&nbsp  etf_data_b6fa3826c|(<ipython-input-3-fa54dc64d297>::39) &nbsp;&nbsp;&nbsp;&nbspReading kibot eod data took 0.02s ---- (done)</font>"
      ],
      "text/plain": [
       "<IPython.core.display.HTML object>"
      ]
     },
     "metadata": {},
     "output_type": "execute_result"
    },
    {
     "data": {
      "text/html": [
       "<font face=\"Courier New\" size=2 color=\"green\"> &nbsp;&nbsp etf_data_b6fa3826c|(<ipython-input-3-fa54dc64d297>::46) &nbsp;&nbsp;&nbsp;&nbspReading kibot 5min data ---- (starting) </font>"
      ],
      "text/plain": [
       "<IPython.core.display.HTML object>"
      ]
     },
     "metadata": {},
     "output_type": "execute_result"
    },
    {
     "data": {
      "text/html": [
       "<font face=\"Courier New\" size=2 color=\"green\"> &nbsp;&nbsp  etf_data_b6fa3826c|(<ipython-input-3-fa54dc64d297>::46) &nbsp;&nbsp;&nbsp;&nbspReading kibot 5min data took 0.63s ---- (done)</font>"
      ],
      "text/plain": [
       "<IPython.core.display.HTML object>"
      ]
     },
     "metadata": {},
     "output_type": "execute_result"
    },
    {
     "data": {
      "text/html": [
       "<font face=\"Courier New\" size=2 color=\"green\"> &nbsp;&nbsp etf_data_b6fa3826c|(<ipython-input-3-fa54dc64d297>::53) &nbsp;&nbsp;&nbsp;&nbspReading polygon data ---- (starting) </font>"
      ],
      "text/plain": [
       "<IPython.core.display.HTML object>"
      ]
     },
     "metadata": {},
     "output_type": "execute_result"
    },
    {
     "data": {
      "text/html": [
       "<font face=\"Courier New\" size=2 color=\"green\"> &nbsp;&nbsp  etf_data_b6fa3826c|(<ipython-input-3-fa54dc64d297>::53) &nbsp;&nbsp;&nbsp;&nbspReading polygon data took 0.07s ---- (done)</font>"
      ],
      "text/plain": [
       "<IPython.core.display.HTML object>"
      ]
     },
     "metadata": {},
     "output_type": "execute_result"
    },
    {
     "data": {
      "text/html": [
       "<font face=\"Courier New\" size=2 color=\"green\"> &nbsp;&nbsp etf_data_b6fa3826c|(<ipython-input-3-fa54dc64d297>::63) &nbsp;&nbsp;&nbsp;&nbspReading pi data ---- (starting) </font>"
      ],
      "text/plain": [
       "<IPython.core.display.HTML object>"
      ]
     },
     "metadata": {},
     "output_type": "execute_result"
    },
    {
     "data": {
      "text/html": [
       "<font face=\"Courier New\" size=2 color=\"green\"> &nbsp;&nbsp  etf_data_b6fa3826c|(<ipython-input-3-fa54dc64d297>::63) &nbsp;&nbsp;&nbsp;&nbspReading pi data took 2.84s ---- (done)</font>"
      ],
      "text/plain": [
       "<IPython.core.display.HTML object>"
      ]
     },
     "metadata": {},
     "output_type": "execute_result"
    },
    {
     "data": {
      "text/html": [
       "<font face=\"Courier New\" size=2 color=\"green\"> &nbsp;&nbsp etf_data_b6fa3826c|(<ipython-input-3-fa54dc64d297>::73) &nbsp;&nbsp;&nbsp;&nbspmatching against polygon ---- (starting) </font>"
      ],
      "text/plain": [
       "<IPython.core.display.HTML object>"
      ]
     },
     "metadata": {},
     "output_type": "execute_result"
    },
    {
     "data": {
      "text/html": [
       "<font face=\"Courier New\" size=2 color=\"green\"> &nbsp;&nbsp  etf_data_b6fa3826c|(<ipython-input-3-fa54dc64d297>::73) &nbsp;&nbsp;&nbsp;&nbspmatching against polygon took 0.02s ---- (done)</font>"
      ],
      "text/plain": [
       "<IPython.core.display.HTML object>"
      ]
     },
     "metadata": {},
     "output_type": "execute_result"
    },
    {
     "data": {
      "text/html": [
       "<font face=\"Courier New\" size=2 color=\"green\"> &nbsp;&nbsp etf_data_b6fa3826c|(<ipython-input-3-fa54dc64d297>::78) &nbsp;&nbsp;&nbsp;&nbspmatching against pitrading ---- (starting) </font>"
      ],
      "text/plain": [
       "<IPython.core.display.HTML object>"
      ]
     },
     "metadata": {},
     "output_type": "execute_result"
    },
    {
     "data": {
      "text/html": [
       "<font face=\"Courier New\" size=2 color=\"green\"> &nbsp;&nbsp  etf_data_b6fa3826c|(<ipython-input-3-fa54dc64d297>::78) &nbsp;&nbsp;&nbsp;&nbspmatching against pitrading took 1.04s ---- (done)</font>"
      ],
      "text/plain": [
       "<IPython.core.display.HTML object>"
      ]
     },
     "metadata": {},
     "output_type": "execute_result"
    },
    {
     "data": {
      "text/html": [
       "<font face=\"Courier New\" size=2 color=\"green\"> &nbsp;&nbsp etf_data_e4aec89f4|(<ipython-input-3-fa54dc64d297>::39) &nbsp;&nbsp;&nbsp;&nbspReading kibot eod data ---- (starting) </font>"
      ],
      "text/plain": [
       "<IPython.core.display.HTML object>"
      ]
     },
     "metadata": {},
     "output_type": "execute_result"
    },
    {
     "data": {
      "text/html": [
       "<font face=\"Courier New\" size=2 color=\"green\"> &nbsp;&nbsp  etf_data_e4aec89f4|(<ipython-input-3-fa54dc64d297>::39) &nbsp;&nbsp;&nbsp;&nbspReading kibot eod data took 0.02s ---- (done)</font>"
      ],
      "text/plain": [
       "<IPython.core.display.HTML object>"
      ]
     },
     "metadata": {},
     "output_type": "execute_result"
    },
    {
     "data": {
      "text/html": [
       "<font face=\"Courier New\" size=2 color=\"green\"> &nbsp;&nbsp etf_data_e4aec89f4|(<ipython-input-3-fa54dc64d297>::46) &nbsp;&nbsp;&nbsp;&nbspReading kibot 5min data ---- (starting) </font>"
      ],
      "text/plain": [
       "<IPython.core.display.HTML object>"
      ]
     },
     "metadata": {},
     "output_type": "execute_result"
    },
    {
     "data": {
      "text/html": [
       "<font face=\"Courier New\" size=2 color=\"green\"> &nbsp;&nbsp  etf_data_e4aec89f4|(<ipython-input-3-fa54dc64d297>::46) &nbsp;&nbsp;&nbsp;&nbspReading kibot 5min data took 0.54s ---- (done)</font>"
      ],
      "text/plain": [
       "<IPython.core.display.HTML object>"
      ]
     },
     "metadata": {},
     "output_type": "execute_result"
    },
    {
     "data": {
      "text/html": [
       "<font face=\"Courier New\" size=2 color=\"green\"> &nbsp;&nbsp etf_data_e4aec89f4|(<ipython-input-3-fa54dc64d297>::53) &nbsp;&nbsp;&nbsp;&nbspReading polygon data ---- (starting) </font>"
      ],
      "text/plain": [
       "<IPython.core.display.HTML object>"
      ]
     },
     "metadata": {},
     "output_type": "execute_result"
    },
    {
     "data": {
      "text/html": [
       "<font face=\"Courier New\" size=2 color=\"green\"> &nbsp;&nbsp  etf_data_e4aec89f4|(<ipython-input-3-fa54dc64d297>::53) &nbsp;&nbsp;&nbsp;&nbspReading polygon data took 0.07s ---- (done)</font>"
      ],
      "text/plain": [
       "<IPython.core.display.HTML object>"
      ]
     },
     "metadata": {},
     "output_type": "execute_result"
    },
    {
     "data": {
      "text/html": [
       "<font face=\"Courier New\" size=2 color=\"green\"> &nbsp;&nbsp etf_data_e4aec89f4|(<ipython-input-3-fa54dc64d297>::73) &nbsp;&nbsp;&nbsp;&nbspmatching against polygon ---- (starting) </font>"
      ],
      "text/plain": [
       "<IPython.core.display.HTML object>"
      ]
     },
     "metadata": {},
     "output_type": "execute_result"
    },
    {
     "data": {
      "text/html": [
       "<font face=\"Courier New\" size=2 color=\"green\"> &nbsp;&nbsp  etf_data_e4aec89f4|(<ipython-input-3-fa54dc64d297>::73) &nbsp;&nbsp;&nbsp;&nbspmatching against polygon took 0.01s ---- (done)</font>"
      ],
      "text/plain": [
       "<IPython.core.display.HTML object>"
      ]
     },
     "metadata": {},
     "output_type": "execute_result"
    },
    {
     "data": {
      "text/html": [
       "<font face=\"Courier New\" size=2 color=\"green\"> &nbsp;&nbsp etf_data_cb0528ae0|(<ipython-input-3-fa54dc64d297>::39) &nbsp;&nbsp;&nbsp;&nbspReading kibot eod data ---- (starting) </font>"
      ],
      "text/plain": [
       "<IPython.core.display.HTML object>"
      ]
     },
     "metadata": {},
     "output_type": "execute_result"
    },
    {
     "data": {
      "text/html": [
       "<font face=\"Courier New\" size=2 color=\"green\"> &nbsp;&nbsp  etf_data_cb0528ae0|(<ipython-input-3-fa54dc64d297>::39) &nbsp;&nbsp;&nbsp;&nbspReading kibot eod data took 0.01s ---- (done)</font>"
      ],
      "text/plain": [
       "<IPython.core.display.HTML object>"
      ]
     },
     "metadata": {},
     "output_type": "execute_result"
    },
    {
     "data": {
      "text/html": [
       "<font face=\"Courier New\" size=2 color=\"green\"> &nbsp;&nbsp etf_data_cb0528ae0|(<ipython-input-3-fa54dc64d297>::46) &nbsp;&nbsp;&nbsp;&nbspReading kibot 5min data ---- (starting) </font>"
      ],
      "text/plain": [
       "<IPython.core.display.HTML object>"
      ]
     },
     "metadata": {},
     "output_type": "execute_result"
    },
    {
     "data": {
      "text/html": [
       "<font face=\"Courier New\" size=2 color=\"green\"> &nbsp;&nbsp  etf_data_cb0528ae0|(<ipython-input-3-fa54dc64d297>::46) &nbsp;&nbsp;&nbsp;&nbspReading kibot 5min data took 0.32s ---- (done)</font>"
      ],
      "text/plain": [
       "<IPython.core.display.HTML object>"
      ]
     },
     "metadata": {},
     "output_type": "execute_result"
    },
    {
     "data": {
      "text/html": [
       "<font face=\"Courier New\" size=2 color=\"green\"> &nbsp;&nbsp etf_data_cb0528ae0|(<ipython-input-3-fa54dc64d297>::53) &nbsp;&nbsp;&nbsp;&nbspReading polygon data ---- (starting) </font>"
      ],
      "text/plain": [
       "<IPython.core.display.HTML object>"
      ]
     },
     "metadata": {},
     "output_type": "execute_result"
    },
    {
     "data": {
      "text/html": [
       "<font face=\"Courier New\" size=2 color=\"green\"> &nbsp;&nbsp  etf_data_cb0528ae0|(<ipython-input-3-fa54dc64d297>::53) &nbsp;&nbsp;&nbsp;&nbspReading polygon data took 0.07s ---- (done)</font>"
      ],
      "text/plain": [
       "<IPython.core.display.HTML object>"
      ]
     },
     "metadata": {},
     "output_type": "execute_result"
    },
    {
     "data": {
      "text/html": [
       "<font face=\"Courier New\" size=2 color=\"green\"> &nbsp;&nbsp etf_data_cb0528ae0|(<ipython-input-3-fa54dc64d297>::73) &nbsp;&nbsp;&nbsp;&nbspmatching against polygon ---- (starting) </font>"
      ],
      "text/plain": [
       "<IPython.core.display.HTML object>"
      ]
     },
     "metadata": {},
     "output_type": "execute_result"
    },
    {
     "data": {
      "text/html": [
       "<font face=\"Courier New\" size=2 color=\"green\"> &nbsp;&nbsp  etf_data_cb0528ae0|(<ipython-input-3-fa54dc64d297>::73) &nbsp;&nbsp;&nbsp;&nbspmatching against polygon took 0.01s ---- (done)</font>"
      ],
      "text/plain": [
       "<IPython.core.display.HTML object>"
      ]
     },
     "metadata": {},
     "output_type": "execute_result"
    },
    {
     "data": {
      "text/html": [
       "<font face=\"Courier New\" size=2 color=\"green\"> &nbsp;&nbsp etf_data_b9730ee5b|(<ipython-input-3-fa54dc64d297>::39) &nbsp;&nbsp;&nbsp;&nbspReading kibot eod data ---- (starting) </font>"
      ],
      "text/plain": [
       "<IPython.core.display.HTML object>"
      ]
     },
     "metadata": {},
     "output_type": "execute_result"
    },
    {
     "data": {
      "text/html": [
       "<font face=\"Courier New\" size=2 color=\"green\"> &nbsp;&nbsp  etf_data_b9730ee5b|(<ipython-input-3-fa54dc64d297>::39) &nbsp;&nbsp;&nbsp;&nbspReading kibot eod data took 0.02s ---- (done)</font>"
      ],
      "text/plain": [
       "<IPython.core.display.HTML object>"
      ]
     },
     "metadata": {},
     "output_type": "execute_result"
    },
    {
     "data": {
      "text/html": [
       "<font face=\"Courier New\" size=2 color=\"green\"> &nbsp;&nbsp etf_data_b9730ee5b|(<ipython-input-3-fa54dc64d297>::46) &nbsp;&nbsp;&nbsp;&nbspReading kibot 5min data ---- (starting) </font>"
      ],
      "text/plain": [
       "<IPython.core.display.HTML object>"
      ]
     },
     "metadata": {},
     "output_type": "execute_result"
    },
    {
     "data": {
      "text/html": [
       "<font face=\"Courier New\" size=2 color=\"green\"> &nbsp;&nbsp  etf_data_b9730ee5b|(<ipython-input-3-fa54dc64d297>::46) &nbsp;&nbsp;&nbsp;&nbspReading kibot 5min data took 0.70s ---- (done)</font>"
      ],
      "text/plain": [
       "<IPython.core.display.HTML object>"
      ]
     },
     "metadata": {},
     "output_type": "execute_result"
    },
    {
     "data": {
      "text/html": [
       "<font face=\"Courier New\" size=2 color=\"green\"> &nbsp;&nbsp etf_data_b9730ee5b|(<ipython-input-3-fa54dc64d297>::53) &nbsp;&nbsp;&nbsp;&nbspReading polygon data ---- (starting) </font>"
      ],
      "text/plain": [
       "<IPython.core.display.HTML object>"
      ]
     },
     "metadata": {},
     "output_type": "execute_result"
    },
    {
     "data": {
      "text/html": [
       "<font face=\"Courier New\" size=2 color=\"green\"> &nbsp;&nbsp  etf_data_b9730ee5b|(<ipython-input-3-fa54dc64d297>::53) &nbsp;&nbsp;&nbsp;&nbspReading polygon data took 0.07s ---- (done)</font>"
      ],
      "text/plain": [
       "<IPython.core.display.HTML object>"
      ]
     },
     "metadata": {},
     "output_type": "execute_result"
    },
    {
     "data": {
      "text/html": [
       "<font face=\"Courier New\" size=2 color=\"green\"> &nbsp;&nbsp etf_data_b9730ee5b|(<ipython-input-3-fa54dc64d297>::63) &nbsp;&nbsp;&nbsp;&nbspReading pi data ---- (starting) </font>"
      ],
      "text/plain": [
       "<IPython.core.display.HTML object>"
      ]
     },
     "metadata": {},
     "output_type": "execute_result"
    },
    {
     "data": {
      "text/html": [
       "<font face=\"Courier New\" size=2 color=\"green\"> &nbsp;&nbsp  etf_data_b9730ee5b|(<ipython-input-3-fa54dc64d297>::63) &nbsp;&nbsp;&nbsp;&nbspReading pi data took 3.12s ---- (done)</font>"
      ],
      "text/plain": [
       "<IPython.core.display.HTML object>"
      ]
     },
     "metadata": {},
     "output_type": "execute_result"
    },
    {
     "data": {
      "text/html": [
       "<font face=\"Courier New\" size=2 color=\"green\"> &nbsp;&nbsp etf_data_b9730ee5b|(<ipython-input-3-fa54dc64d297>::73) &nbsp;&nbsp;&nbsp;&nbspmatching against polygon ---- (starting) </font>"
      ],
      "text/plain": [
       "<IPython.core.display.HTML object>"
      ]
     },
     "metadata": {},
     "output_type": "execute_result"
    },
    {
     "data": {
      "text/html": [
       "<font face=\"Courier New\" size=2 color=\"green\"> &nbsp;&nbsp  etf_data_b9730ee5b|(<ipython-input-3-fa54dc64d297>::73) &nbsp;&nbsp;&nbsp;&nbspmatching against polygon took 0.02s ---- (done)</font>"
      ],
      "text/plain": [
       "<IPython.core.display.HTML object>"
      ]
     },
     "metadata": {},
     "output_type": "execute_result"
    },
    {
     "data": {
      "text/html": [
       "<font face=\"Courier New\" size=2 color=\"green\"> &nbsp;&nbsp etf_data_b9730ee5b|(<ipython-input-3-fa54dc64d297>::78) &nbsp;&nbsp;&nbsp;&nbspmatching against pitrading ---- (starting) </font>"
      ],
      "text/plain": [
       "<IPython.core.display.HTML object>"
      ]
     },
     "metadata": {},
     "output_type": "execute_result"
    },
    {
     "data": {
      "text/html": [
       "<font face=\"Courier New\" size=2 color=\"green\"> &nbsp;&nbsp  etf_data_b9730ee5b|(<ipython-input-3-fa54dc64d297>::78) &nbsp;&nbsp;&nbsp;&nbspmatching against pitrading took 1.29s ---- (done)</font>"
      ],
      "text/plain": [
       "<IPython.core.display.HTML object>"
      ]
     },
     "metadata": {},
     "output_type": "execute_result"
    },
    {
     "data": {
      "text/html": [
       "<font face=\"Courier New\" size=2 color=\"green\"> &nbsp;&nbsp etf_data_3f61895ac|(<ipython-input-3-fa54dc64d297>::39) &nbsp;&nbsp;&nbsp;&nbspReading kibot eod data ---- (starting) </font>"
      ],
      "text/plain": [
       "<IPython.core.display.HTML object>"
      ]
     },
     "metadata": {},
     "output_type": "execute_result"
    },
    {
     "data": {
      "text/html": [
       "<font face=\"Courier New\" size=2 color=\"green\"> &nbsp;&nbsp  etf_data_3f61895ac|(<ipython-input-3-fa54dc64d297>::39) &nbsp;&nbsp;&nbsp;&nbspReading kibot eod data took 0.02s ---- (done)</font>"
      ],
      "text/plain": [
       "<IPython.core.display.HTML object>"
      ]
     },
     "metadata": {},
     "output_type": "execute_result"
    },
    {
     "data": {
      "text/html": [
       "<font face=\"Courier New\" size=2 color=\"green\"> &nbsp;&nbsp etf_data_3f61895ac|(<ipython-input-3-fa54dc64d297>::46) &nbsp;&nbsp;&nbsp;&nbspReading kibot 5min data ---- (starting) </font>"
      ],
      "text/plain": [
       "<IPython.core.display.HTML object>"
      ]
     },
     "metadata": {},
     "output_type": "execute_result"
    },
    {
     "data": {
      "text/html": [
       "<font face=\"Courier New\" size=2 color=\"green\"> &nbsp;&nbsp  etf_data_3f61895ac|(<ipython-input-3-fa54dc64d297>::46) &nbsp;&nbsp;&nbsp;&nbspReading kibot 5min data took 0.43s ---- (done)</font>"
      ],
      "text/plain": [
       "<IPython.core.display.HTML object>"
      ]
     },
     "metadata": {},
     "output_type": "execute_result"
    },
    {
     "data": {
      "text/html": [
       "<font face=\"Courier New\" size=2 color=\"green\"> &nbsp;&nbsp etf_data_3f61895ac|(<ipython-input-3-fa54dc64d297>::53) &nbsp;&nbsp;&nbsp;&nbspReading polygon data ---- (starting) </font>"
      ],
      "text/plain": [
       "<IPython.core.display.HTML object>"
      ]
     },
     "metadata": {},
     "output_type": "execute_result"
    },
    {
     "data": {
      "text/html": [
       "<font face=\"Courier New\" size=2 color=\"green\"> &nbsp;&nbsp  etf_data_3f61895ac|(<ipython-input-3-fa54dc64d297>::53) &nbsp;&nbsp;&nbsp;&nbspReading polygon data took 0.07s ---- (done)</font>"
      ],
      "text/plain": [
       "<IPython.core.display.HTML object>"
      ]
     },
     "metadata": {},
     "output_type": "execute_result"
    },
    {
     "data": {
      "text/html": [
       "<font face=\"Courier New\" size=2 color=\"green\"> &nbsp;&nbsp etf_data_3f61895ac|(<ipython-input-3-fa54dc64d297>::73) &nbsp;&nbsp;&nbsp;&nbspmatching against polygon ---- (starting) </font>"
      ],
      "text/plain": [
       "<IPython.core.display.HTML object>"
      ]
     },
     "metadata": {},
     "output_type": "execute_result"
    },
    {
     "data": {
      "text/html": [
       "<font face=\"Courier New\" size=2 color=\"green\"> &nbsp;&nbsp  etf_data_3f61895ac|(<ipython-input-3-fa54dc64d297>::73) &nbsp;&nbsp;&nbsp;&nbspmatching against polygon took 0.02s ---- (done)</font>"
      ],
      "text/plain": [
       "<IPython.core.display.HTML object>"
      ]
     },
     "metadata": {},
     "output_type": "execute_result"
    },
    {
     "data": {
      "text/html": [
       "<font face=\"Courier New\" size=2 color=\"green\"> &nbsp;&nbsp etf_data_1bbef89b5|(<ipython-input-3-fa54dc64d297>::39) &nbsp;&nbsp;&nbsp;&nbspReading kibot eod data ---- (starting) </font>"
      ],
      "text/plain": [
       "<IPython.core.display.HTML object>"
      ]
     },
     "metadata": {},
     "output_type": "execute_result"
    },
    {
     "data": {
      "text/html": [
       "<font face=\"Courier New\" size=2 color=\"green\"> &nbsp;&nbsp  etf_data_1bbef89b5|(<ipython-input-3-fa54dc64d297>::39) &nbsp;&nbsp;&nbsp;&nbspReading kibot eod data took 0.01s ---- (done)</font>"
      ],
      "text/plain": [
       "<IPython.core.display.HTML object>"
      ]
     },
     "metadata": {},
     "output_type": "execute_result"
    },
    {
     "data": {
      "text/html": [
       "<font face=\"Courier New\" size=2 color=\"green\"> &nbsp;&nbsp etf_data_1bbef89b5|(<ipython-input-3-fa54dc64d297>::46) &nbsp;&nbsp;&nbsp;&nbspReading kibot 5min data ---- (starting) </font>"
      ],
      "text/plain": [
       "<IPython.core.display.HTML object>"
      ]
     },
     "metadata": {},
     "output_type": "execute_result"
    },
    {
     "data": {
      "text/html": [
       "<font face=\"Courier New\" size=2 color=\"green\"> &nbsp;&nbsp  etf_data_1bbef89b5|(<ipython-input-3-fa54dc64d297>::46) &nbsp;&nbsp;&nbsp;&nbspReading kibot 5min data took 0.57s ---- (done)</font>"
      ],
      "text/plain": [
       "<IPython.core.display.HTML object>"
      ]
     },
     "metadata": {},
     "output_type": "execute_result"
    },
    {
     "data": {
      "text/html": [
       "<font face=\"Courier New\" size=2 color=\"green\"> &nbsp;&nbsp etf_data_1bbef89b5|(<ipython-input-3-fa54dc64d297>::53) &nbsp;&nbsp;&nbsp;&nbspReading polygon data ---- (starting) </font>"
      ],
      "text/plain": [
       "<IPython.core.display.HTML object>"
      ]
     },
     "metadata": {},
     "output_type": "execute_result"
    },
    {
     "data": {
      "text/html": [
       "<font face=\"Courier New\" size=2 color=\"green\"> &nbsp;&nbsp  etf_data_1bbef89b5|(<ipython-input-3-fa54dc64d297>::53) &nbsp;&nbsp;&nbsp;&nbspReading polygon data took 0.00s ---- (done)</font>"
      ],
      "text/plain": [
       "<IPython.core.display.HTML object>"
      ]
     },
     "metadata": {},
     "output_type": "execute_result"
    },
    {
     "data": {
      "text/html": [
       "<font face=\"Courier New\" size=2 color=\"green\"> &nbsp;&nbsp etf_data_4ac329bc9|(<ipython-input-3-fa54dc64d297>::39) &nbsp;&nbsp;&nbsp;&nbspReading kibot eod data ---- (starting) </font>"
      ],
      "text/plain": [
       "<IPython.core.display.HTML object>"
      ]
     },
     "metadata": {},
     "output_type": "execute_result"
    },
    {
     "data": {
      "text/html": [
       "<font face=\"Courier New\" size=2 color=\"green\"> &nbsp;&nbsp  etf_data_4ac329bc9|(<ipython-input-3-fa54dc64d297>::39) &nbsp;&nbsp;&nbsp;&nbspReading kibot eod data took 0.02s ---- (done)</font>"
      ],
      "text/plain": [
       "<IPython.core.display.HTML object>"
      ]
     },
     "metadata": {},
     "output_type": "execute_result"
    },
    {
     "data": {
      "text/html": [
       "<font face=\"Courier New\" size=2 color=\"green\"> &nbsp;&nbsp etf_data_4ac329bc9|(<ipython-input-3-fa54dc64d297>::46) &nbsp;&nbsp;&nbsp;&nbspReading kibot 5min data ---- (starting) </font>"
      ],
      "text/plain": [
       "<IPython.core.display.HTML object>"
      ]
     },
     "metadata": {},
     "output_type": "execute_result"
    },
    {
     "data": {
      "text/html": [
       "<font face=\"Courier New\" size=2 color=\"green\"> &nbsp;&nbsp  etf_data_4ac329bc9|(<ipython-input-3-fa54dc64d297>::46) &nbsp;&nbsp;&nbsp;&nbspReading kibot 5min data took 0.48s ---- (done)</font>"
      ],
      "text/plain": [
       "<IPython.core.display.HTML object>"
      ]
     },
     "metadata": {},
     "output_type": "execute_result"
    },
    {
     "data": {
      "text/html": [
       "<font face=\"Courier New\" size=2 color=\"green\"> &nbsp;&nbsp etf_data_4ac329bc9|(<ipython-input-3-fa54dc64d297>::53) &nbsp;&nbsp;&nbsp;&nbspReading polygon data ---- (starting) </font>"
      ],
      "text/plain": [
       "<IPython.core.display.HTML object>"
      ]
     },
     "metadata": {},
     "output_type": "execute_result"
    },
    {
     "data": {
      "text/html": [
       "<font face=\"Courier New\" size=2 color=\"green\"> &nbsp;&nbsp  etf_data_4ac329bc9|(<ipython-input-3-fa54dc64d297>::53) &nbsp;&nbsp;&nbsp;&nbspReading polygon data took 0.07s ---- (done)</font>"
      ],
      "text/plain": [
       "<IPython.core.display.HTML object>"
      ]
     },
     "metadata": {},
     "output_type": "execute_result"
    },
    {
     "data": {
      "text/html": [
       "<font face=\"Courier New\" size=2 color=\"green\"> &nbsp;&nbsp etf_data_4ac329bc9|(<ipython-input-3-fa54dc64d297>::73) &nbsp;&nbsp;&nbsp;&nbspmatching against polygon ---- (starting) </font>"
      ],
      "text/plain": [
       "<IPython.core.display.HTML object>"
      ]
     },
     "metadata": {},
     "output_type": "execute_result"
    },
    {
     "data": {
      "text/html": [
       "<font face=\"Courier New\" size=2 color=\"green\"> &nbsp;&nbsp  etf_data_4ac329bc9|(<ipython-input-3-fa54dc64d297>::73) &nbsp;&nbsp;&nbsp;&nbspmatching against polygon took 0.02s ---- (done)</font>"
      ],
      "text/plain": [
       "<IPython.core.display.HTML object>"
      ]
     },
     "metadata": {},
     "output_type": "execute_result"
    },
    {
     "data": {
      "text/html": [
       "<font face=\"Courier New\" size=2 color=\"green\"> &nbsp;&nbsp etf_data_c50dc6d79|(<ipython-input-3-fa54dc64d297>::39) &nbsp;&nbsp;&nbsp;&nbspReading kibot eod data ---- (starting) </font>"
      ],
      "text/plain": [
       "<IPython.core.display.HTML object>"
      ]
     },
     "metadata": {},
     "output_type": "execute_result"
    },
    {
     "data": {
      "text/html": [
       "<font face=\"Courier New\" size=2 color=\"green\"> &nbsp;&nbsp  etf_data_c50dc6d79|(<ipython-input-3-fa54dc64d297>::39) &nbsp;&nbsp;&nbsp;&nbspReading kibot eod data took 0.02s ---- (done)</font>"
      ],
      "text/plain": [
       "<IPython.core.display.HTML object>"
      ]
     },
     "metadata": {},
     "output_type": "execute_result"
    },
    {
     "data": {
      "text/html": [
       "<font face=\"Courier New\" size=2 color=\"green\"> &nbsp;&nbsp etf_data_c50dc6d79|(<ipython-input-3-fa54dc64d297>::46) &nbsp;&nbsp;&nbsp;&nbspReading kibot 5min data ---- (starting) </font>"
      ],
      "text/plain": [
       "<IPython.core.display.HTML object>"
      ]
     },
     "metadata": {},
     "output_type": "execute_result"
    },
    {
     "data": {
      "text/html": [
       "<font face=\"Courier New\" size=2 color=\"green\"> &nbsp;&nbsp  etf_data_c50dc6d79|(<ipython-input-3-fa54dc64d297>::46) &nbsp;&nbsp;&nbsp;&nbspReading kibot 5min data took 0.43s ---- (done)</font>"
      ],
      "text/plain": [
       "<IPython.core.display.HTML object>"
      ]
     },
     "metadata": {},
     "output_type": "execute_result"
    },
    {
     "data": {
      "text/html": [
       "<font face=\"Courier New\" size=2 color=\"green\"> &nbsp;&nbsp etf_data_c50dc6d79|(<ipython-input-3-fa54dc64d297>::53) &nbsp;&nbsp;&nbsp;&nbspReading polygon data ---- (starting) </font>"
      ],
      "text/plain": [
       "<IPython.core.display.HTML object>"
      ]
     },
     "metadata": {},
     "output_type": "execute_result"
    },
    {
     "data": {
      "text/html": [
       "<font face=\"Courier New\" size=2 color=\"green\"> &nbsp;&nbsp  etf_data_c50dc6d79|(<ipython-input-3-fa54dc64d297>::53) &nbsp;&nbsp;&nbsp;&nbspReading polygon data took 0.07s ---- (done)</font>"
      ],
      "text/plain": [
       "<IPython.core.display.HTML object>"
      ]
     },
     "metadata": {},
     "output_type": "execute_result"
    },
    {
     "data": {
      "text/html": [
       "<font face=\"Courier New\" size=2 color=\"green\"> &nbsp;&nbsp etf_data_c50dc6d79|(<ipython-input-3-fa54dc64d297>::73) &nbsp;&nbsp;&nbsp;&nbspmatching against polygon ---- (starting) </font>"
      ],
      "text/plain": [
       "<IPython.core.display.HTML object>"
      ]
     },
     "metadata": {},
     "output_type": "execute_result"
    },
    {
     "data": {
      "text/html": [
       "<font face=\"Courier New\" size=2 color=\"green\"> &nbsp;&nbsp  etf_data_c50dc6d79|(<ipython-input-3-fa54dc64d297>::73) &nbsp;&nbsp;&nbsp;&nbspmatching against polygon took 0.02s ---- (done)</font>"
      ],
      "text/plain": [
       "<IPython.core.display.HTML object>"
      ]
     },
     "metadata": {},
     "output_type": "execute_result"
    },
    {
     "data": {
      "text/html": [
       "<font face=\"Courier New\" size=2 color=\"green\"> &nbsp;&nbsp etf_data_2b246e28e|(<ipython-input-3-fa54dc64d297>::39) &nbsp;&nbsp;&nbsp;&nbspReading kibot eod data ---- (starting) </font>"
      ],
      "text/plain": [
       "<IPython.core.display.HTML object>"
      ]
     },
     "metadata": {},
     "output_type": "execute_result"
    },
    {
     "data": {
      "text/html": [
       "<font face=\"Courier New\" size=2 color=\"green\"> &nbsp;&nbsp  etf_data_2b246e28e|(<ipython-input-3-fa54dc64d297>::39) &nbsp;&nbsp;&nbsp;&nbspReading kibot eod data took 0.02s ---- (done)</font>"
      ],
      "text/plain": [
       "<IPython.core.display.HTML object>"
      ]
     },
     "metadata": {},
     "output_type": "execute_result"
    },
    {
     "data": {
      "text/html": [
       "<font face=\"Courier New\" size=2 color=\"green\"> &nbsp;&nbsp etf_data_2b246e28e|(<ipython-input-3-fa54dc64d297>::46) &nbsp;&nbsp;&nbsp;&nbspReading kibot 5min data ---- (starting) </font>"
      ],
      "text/plain": [
       "<IPython.core.display.HTML object>"
      ]
     },
     "metadata": {},
     "output_type": "execute_result"
    },
    {
     "data": {
      "text/html": [
       "<font face=\"Courier New\" size=2 color=\"green\"> &nbsp;&nbsp  etf_data_2b246e28e|(<ipython-input-3-fa54dc64d297>::46) &nbsp;&nbsp;&nbsp;&nbspReading kibot 5min data took 0.45s ---- (done)</font>"
      ],
      "text/plain": [
       "<IPython.core.display.HTML object>"
      ]
     },
     "metadata": {},
     "output_type": "execute_result"
    },
    {
     "data": {
      "text/html": [
       "<font face=\"Courier New\" size=2 color=\"green\"> &nbsp;&nbsp etf_data_2b246e28e|(<ipython-input-3-fa54dc64d297>::53) &nbsp;&nbsp;&nbsp;&nbspReading polygon data ---- (starting) </font>"
      ],
      "text/plain": [
       "<IPython.core.display.HTML object>"
      ]
     },
     "metadata": {},
     "output_type": "execute_result"
    },
    {
     "data": {
      "text/html": [
       "<font face=\"Courier New\" size=2 color=\"green\"> &nbsp;&nbsp  etf_data_2b246e28e|(<ipython-input-3-fa54dc64d297>::53) &nbsp;&nbsp;&nbsp;&nbspReading polygon data took 0.07s ---- (done)</font>"
      ],
      "text/plain": [
       "<IPython.core.display.HTML object>"
      ]
     },
     "metadata": {},
     "output_type": "execute_result"
    },
    {
     "data": {
      "text/html": [
       "<font face=\"Courier New\" size=2 color=\"green\"> &nbsp;&nbsp etf_data_2b246e28e|(<ipython-input-3-fa54dc64d297>::73) &nbsp;&nbsp;&nbsp;&nbspmatching against polygon ---- (starting) </font>"
      ],
      "text/plain": [
       "<IPython.core.display.HTML object>"
      ]
     },
     "metadata": {},
     "output_type": "execute_result"
    },
    {
     "data": {
      "text/html": [
       "<font face=\"Courier New\" size=2 color=\"green\"> &nbsp;&nbsp  etf_data_2b246e28e|(<ipython-input-3-fa54dc64d297>::73) &nbsp;&nbsp;&nbsp;&nbspmatching against polygon took 0.02s ---- (done)</font>"
      ],
      "text/plain": [
       "<IPython.core.display.HTML object>"
      ]
     },
     "metadata": {},
     "output_type": "execute_result"
    },
    {
     "data": {
      "text/html": [
       "<font face=\"Courier New\" size=2 color=\"green\"> &nbsp;&nbsp etf_data_48278e066|(<ipython-input-3-fa54dc64d297>::39) &nbsp;&nbsp;&nbsp;&nbspReading kibot eod data ---- (starting) </font>"
      ],
      "text/plain": [
       "<IPython.core.display.HTML object>"
      ]
     },
     "metadata": {},
     "output_type": "execute_result"
    },
    {
     "data": {
      "text/html": [
       "<font face=\"Courier New\" size=2 color=\"green\"> &nbsp;&nbsp  etf_data_48278e066|(<ipython-input-3-fa54dc64d297>::39) &nbsp;&nbsp;&nbsp;&nbspReading kibot eod data took 0.01s ---- (done)</font>"
      ],
      "text/plain": [
       "<IPython.core.display.HTML object>"
      ]
     },
     "metadata": {},
     "output_type": "execute_result"
    },
    {
     "data": {
      "text/html": [
       "<font face=\"Courier New\" size=2 color=\"green\"> &nbsp;&nbsp etf_data_48278e066|(<ipython-input-3-fa54dc64d297>::46) &nbsp;&nbsp;&nbsp;&nbspReading kibot 5min data ---- (starting) </font>"
      ],
      "text/plain": [
       "<IPython.core.display.HTML object>"
      ]
     },
     "metadata": {},
     "output_type": "execute_result"
    },
    {
     "data": {
      "text/html": [
       "<font face=\"Courier New\" size=2 color=\"green\"> &nbsp;&nbsp  etf_data_48278e066|(<ipython-input-3-fa54dc64d297>::46) &nbsp;&nbsp;&nbsp;&nbspReading kibot 5min data took 0.31s ---- (done)</font>"
      ],
      "text/plain": [
       "<IPython.core.display.HTML object>"
      ]
     },
     "metadata": {},
     "output_type": "execute_result"
    },
    {
     "data": {
      "text/html": [
       "<font face=\"Courier New\" size=2 color=\"green\"> &nbsp;&nbsp etf_data_48278e066|(<ipython-input-3-fa54dc64d297>::53) &nbsp;&nbsp;&nbsp;&nbspReading polygon data ---- (starting) </font>"
      ],
      "text/plain": [
       "<IPython.core.display.HTML object>"
      ]
     },
     "metadata": {},
     "output_type": "execute_result"
    },
    {
     "data": {
      "text/html": [
       "<font face=\"Courier New\" size=2 color=\"green\"> &nbsp;&nbsp  etf_data_48278e066|(<ipython-input-3-fa54dc64d297>::53) &nbsp;&nbsp;&nbsp;&nbspReading polygon data took 0.07s ---- (done)</font>"
      ],
      "text/plain": [
       "<IPython.core.display.HTML object>"
      ]
     },
     "metadata": {},
     "output_type": "execute_result"
    },
    {
     "data": {
      "text/html": [
       "<font face=\"Courier New\" size=2 color=\"green\"> &nbsp;&nbsp etf_data_48278e066|(<ipython-input-3-fa54dc64d297>::73) &nbsp;&nbsp;&nbsp;&nbspmatching against polygon ---- (starting) </font>"
      ],
      "text/plain": [
       "<IPython.core.display.HTML object>"
      ]
     },
     "metadata": {},
     "output_type": "execute_result"
    },
    {
     "data": {
      "text/html": [
       "<font face=\"Courier New\" size=2 color=\"green\"> &nbsp;&nbsp  etf_data_48278e066|(<ipython-input-3-fa54dc64d297>::73) &nbsp;&nbsp;&nbsp;&nbspmatching against polygon took 0.01s ---- (done)</font>"
      ],
      "text/plain": [
       "<IPython.core.display.HTML object>"
      ]
     },
     "metadata": {},
     "output_type": "execute_result"
    },
    {
     "data": {
      "text/html": [
       "<font face=\"Courier New\" size=2 color=\"green\"> &nbsp;&nbsp etf_data_0428f945d|(<ipython-input-3-fa54dc64d297>::39) &nbsp;&nbsp;&nbsp;&nbspReading kibot eod data ---- (starting) </font>"
      ],
      "text/plain": [
       "<IPython.core.display.HTML object>"
      ]
     },
     "metadata": {},
     "output_type": "execute_result"
    },
    {
     "data": {
      "text/html": [
       "<font face=\"Courier New\" size=2 color=\"green\"> &nbsp;&nbsp  etf_data_0428f945d|(<ipython-input-3-fa54dc64d297>::39) &nbsp;&nbsp;&nbsp;&nbspReading kibot eod data took 0.01s ---- (done)</font>"
      ],
      "text/plain": [
       "<IPython.core.display.HTML object>"
      ]
     },
     "metadata": {},
     "output_type": "execute_result"
    },
    {
     "data": {
      "text/html": [
       "<font face=\"Courier New\" size=2 color=\"green\"> &nbsp;&nbsp etf_data_0428f945d|(<ipython-input-3-fa54dc64d297>::46) &nbsp;&nbsp;&nbsp;&nbspReading kibot 5min data ---- (starting) </font>"
      ],
      "text/plain": [
       "<IPython.core.display.HTML object>"
      ]
     },
     "metadata": {},
     "output_type": "execute_result"
    },
    {
     "data": {
      "text/html": [
       "<font face=\"Courier New\" size=2 color=\"green\"> &nbsp;&nbsp  etf_data_0428f945d|(<ipython-input-3-fa54dc64d297>::46) &nbsp;&nbsp;&nbsp;&nbspReading kibot 5min data took 0.32s ---- (done)</font>"
      ],
      "text/plain": [
       "<IPython.core.display.HTML object>"
      ]
     },
     "metadata": {},
     "output_type": "execute_result"
    },
    {
     "data": {
      "text/html": [
       "<font face=\"Courier New\" size=2 color=\"green\"> &nbsp;&nbsp etf_data_0428f945d|(<ipython-input-3-fa54dc64d297>::53) &nbsp;&nbsp;&nbsp;&nbspReading polygon data ---- (starting) </font>"
      ],
      "text/plain": [
       "<IPython.core.display.HTML object>"
      ]
     },
     "metadata": {},
     "output_type": "execute_result"
    },
    {
     "data": {
      "text/html": [
       "<font face=\"Courier New\" size=2 color=\"green\"> &nbsp;&nbsp  etf_data_0428f945d|(<ipython-input-3-fa54dc64d297>::53) &nbsp;&nbsp;&nbsp;&nbspReading polygon data took 0.07s ---- (done)</font>"
      ],
      "text/plain": [
       "<IPython.core.display.HTML object>"
      ]
     },
     "metadata": {},
     "output_type": "execute_result"
    },
    {
     "data": {
      "text/html": [
       "<font face=\"Courier New\" size=2 color=\"green\"> &nbsp;&nbsp etf_data_0428f945d|(<ipython-input-3-fa54dc64d297>::73) &nbsp;&nbsp;&nbsp;&nbspmatching against polygon ---- (starting) </font>"
      ],
      "text/plain": [
       "<IPython.core.display.HTML object>"
      ]
     },
     "metadata": {},
     "output_type": "execute_result"
    },
    {
     "data": {
      "text/html": [
       "<font face=\"Courier New\" size=2 color=\"green\"> &nbsp;&nbsp  etf_data_0428f945d|(<ipython-input-3-fa54dc64d297>::73) &nbsp;&nbsp;&nbsp;&nbspmatching against polygon took 0.01s ---- (done)</font>"
      ],
      "text/plain": [
       "<IPython.core.display.HTML object>"
      ]
     },
     "metadata": {},
     "output_type": "execute_result"
    },
    {
     "data": {
      "text/html": [
       "<font face=\"Courier New\" size=2 color=\"green\"> &nbsp;&nbsp etf_data_d431edd30|(<ipython-input-3-fa54dc64d297>::39) &nbsp;&nbsp;&nbsp;&nbspReading kibot eod data ---- (starting) </font>"
      ],
      "text/plain": [
       "<IPython.core.display.HTML object>"
      ]
     },
     "metadata": {},
     "output_type": "execute_result"
    },
    {
     "data": {
      "text/html": [
       "<font face=\"Courier New\" size=2 color=\"green\"> &nbsp;&nbsp  etf_data_d431edd30|(<ipython-input-3-fa54dc64d297>::39) &nbsp;&nbsp;&nbsp;&nbspReading kibot eod data took 0.02s ---- (done)</font>"
      ],
      "text/plain": [
       "<IPython.core.display.HTML object>"
      ]
     },
     "metadata": {},
     "output_type": "execute_result"
    },
    {
     "data": {
      "text/html": [
       "<font face=\"Courier New\" size=2 color=\"green\"> &nbsp;&nbsp etf_data_d431edd30|(<ipython-input-3-fa54dc64d297>::46) &nbsp;&nbsp;&nbsp;&nbspReading kibot 5min data ---- (starting) </font>"
      ],
      "text/plain": [
       "<IPython.core.display.HTML object>"
      ]
     },
     "metadata": {},
     "output_type": "execute_result"
    },
    {
     "data": {
      "text/html": [
       "<font face=\"Courier New\" size=2 color=\"green\"> &nbsp;&nbsp  etf_data_d431edd30|(<ipython-input-3-fa54dc64d297>::46) &nbsp;&nbsp;&nbsp;&nbspReading kibot 5min data took 0.42s ---- (done)</font>"
      ],
      "text/plain": [
       "<IPython.core.display.HTML object>"
      ]
     },
     "metadata": {},
     "output_type": "execute_result"
    },
    {
     "data": {
      "text/html": [
       "<font face=\"Courier New\" size=2 color=\"green\"> &nbsp;&nbsp etf_data_d431edd30|(<ipython-input-3-fa54dc64d297>::53) &nbsp;&nbsp;&nbsp;&nbspReading polygon data ---- (starting) </font>"
      ],
      "text/plain": [
       "<IPython.core.display.HTML object>"
      ]
     },
     "metadata": {},
     "output_type": "execute_result"
    },
    {
     "data": {
      "text/html": [
       "<font face=\"Courier New\" size=2 color=\"green\"> &nbsp;&nbsp  etf_data_d431edd30|(<ipython-input-3-fa54dc64d297>::53) &nbsp;&nbsp;&nbsp;&nbspReading polygon data took 0.07s ---- (done)</font>"
      ],
      "text/plain": [
       "<IPython.core.display.HTML object>"
      ]
     },
     "metadata": {},
     "output_type": "execute_result"
    },
    {
     "data": {
      "text/html": [
       "<font face=\"Courier New\" size=2 color=\"green\"> &nbsp;&nbsp etf_data_d431edd30|(<ipython-input-3-fa54dc64d297>::73) &nbsp;&nbsp;&nbsp;&nbspmatching against polygon ---- (starting) </font>"
      ],
      "text/plain": [
       "<IPython.core.display.HTML object>"
      ]
     },
     "metadata": {},
     "output_type": "execute_result"
    },
    {
     "data": {
      "text/html": [
       "<font face=\"Courier New\" size=2 color=\"green\"> &nbsp;&nbsp  etf_data_d431edd30|(<ipython-input-3-fa54dc64d297>::73) &nbsp;&nbsp;&nbsp;&nbspmatching against polygon took 0.02s ---- (done)</font>"
      ],
      "text/plain": [
       "<IPython.core.display.HTML object>"
      ]
     },
     "metadata": {},
     "output_type": "execute_result"
    },
    {
     "data": {
      "text/html": [
       "<font face=\"Courier New\" size=2 color=\"green\"> &nbsp;&nbsp etf_data_23967ed4c|(<ipython-input-3-fa54dc64d297>::39) &nbsp;&nbsp;&nbsp;&nbspReading kibot eod data ---- (starting) </font>"
      ],
      "text/plain": [
       "<IPython.core.display.HTML object>"
      ]
     },
     "metadata": {},
     "output_type": "execute_result"
    },
    {
     "data": {
      "text/html": [
       "<font face=\"Courier New\" size=2 color=\"green\"> &nbsp;&nbsp  etf_data_23967ed4c|(<ipython-input-3-fa54dc64d297>::39) &nbsp;&nbsp;&nbsp;&nbspReading kibot eod data took 0.02s ---- (done)</font>"
      ],
      "text/plain": [
       "<IPython.core.display.HTML object>"
      ]
     },
     "metadata": {},
     "output_type": "execute_result"
    },
    {
     "data": {
      "text/html": [
       "<font face=\"Courier New\" size=2 color=\"green\"> &nbsp;&nbsp etf_data_23967ed4c|(<ipython-input-3-fa54dc64d297>::46) &nbsp;&nbsp;&nbsp;&nbspReading kibot 5min data ---- (starting) </font>"
      ],
      "text/plain": [
       "<IPython.core.display.HTML object>"
      ]
     },
     "metadata": {},
     "output_type": "execute_result"
    },
    {
     "data": {
      "text/html": [
       "<font face=\"Courier New\" size=2 color=\"green\"> &nbsp;&nbsp  etf_data_23967ed4c|(<ipython-input-3-fa54dc64d297>::46) &nbsp;&nbsp;&nbsp;&nbspReading kibot 5min data took 0.44s ---- (done)</font>"
      ],
      "text/plain": [
       "<IPython.core.display.HTML object>"
      ]
     },
     "metadata": {},
     "output_type": "execute_result"
    },
    {
     "data": {
      "text/html": [
       "<font face=\"Courier New\" size=2 color=\"green\"> &nbsp;&nbsp etf_data_23967ed4c|(<ipython-input-3-fa54dc64d297>::53) &nbsp;&nbsp;&nbsp;&nbspReading polygon data ---- (starting) </font>"
      ],
      "text/plain": [
       "<IPython.core.display.HTML object>"
      ]
     },
     "metadata": {},
     "output_type": "execute_result"
    },
    {
     "data": {
      "text/html": [
       "<font face=\"Courier New\" size=2 color=\"green\"> &nbsp;&nbsp  etf_data_23967ed4c|(<ipython-input-3-fa54dc64d297>::53) &nbsp;&nbsp;&nbsp;&nbspReading polygon data took 0.07s ---- (done)</font>"
      ],
      "text/plain": [
       "<IPython.core.display.HTML object>"
      ]
     },
     "metadata": {},
     "output_type": "execute_result"
    },
    {
     "data": {
      "text/html": [
       "<font face=\"Courier New\" size=2 color=\"green\"> &nbsp;&nbsp etf_data_23967ed4c|(<ipython-input-3-fa54dc64d297>::73) &nbsp;&nbsp;&nbsp;&nbspmatching against polygon ---- (starting) </font>"
      ],
      "text/plain": [
       "<IPython.core.display.HTML object>"
      ]
     },
     "metadata": {},
     "output_type": "execute_result"
    },
    {
     "data": {
      "text/html": [
       "<font face=\"Courier New\" size=2 color=\"green\"> &nbsp;&nbsp  etf_data_23967ed4c|(<ipython-input-3-fa54dc64d297>::73) &nbsp;&nbsp;&nbsp;&nbspmatching against polygon took 0.02s ---- (done)</font>"
      ],
      "text/plain": [
       "<IPython.core.display.HTML object>"
      ]
     },
     "metadata": {},
     "output_type": "execute_result"
    },
    {
     "data": {
      "text/html": [
       "<font face=\"Courier New\" size=2 color=\"green\"> &nbsp;&nbsp etf_data_5a7082bee|(<ipython-input-3-fa54dc64d297>::39) &nbsp;&nbsp;&nbsp;&nbspReading kibot eod data ---- (starting) </font>"
      ],
      "text/plain": [
       "<IPython.core.display.HTML object>"
      ]
     },
     "metadata": {},
     "output_type": "execute_result"
    },
    {
     "data": {
      "text/html": [
       "<font face=\"Courier New\" size=2 color=\"green\"> &nbsp;&nbsp  etf_data_5a7082bee|(<ipython-input-3-fa54dc64d297>::39) &nbsp;&nbsp;&nbsp;&nbspReading kibot eod data took 0.02s ---- (done)</font>"
      ],
      "text/plain": [
       "<IPython.core.display.HTML object>"
      ]
     },
     "metadata": {},
     "output_type": "execute_result"
    },
    {
     "data": {
      "text/html": [
       "<font face=\"Courier New\" size=2 color=\"green\"> &nbsp;&nbsp etf_data_5a7082bee|(<ipython-input-3-fa54dc64d297>::46) &nbsp;&nbsp;&nbsp;&nbspReading kibot 5min data ---- (starting) </font>"
      ],
      "text/plain": [
       "<IPython.core.display.HTML object>"
      ]
     },
     "metadata": {},
     "output_type": "execute_result"
    },
    {
     "data": {
      "text/html": [
       "<font face=\"Courier New\" size=2 color=\"green\"> &nbsp;&nbsp  etf_data_5a7082bee|(<ipython-input-3-fa54dc64d297>::46) &nbsp;&nbsp;&nbsp;&nbspReading kibot 5min data took 0.50s ---- (done)</font>"
      ],
      "text/plain": [
       "<IPython.core.display.HTML object>"
      ]
     },
     "metadata": {},
     "output_type": "execute_result"
    },
    {
     "data": {
      "text/html": [
       "<font face=\"Courier New\" size=2 color=\"green\"> &nbsp;&nbsp etf_data_5a7082bee|(<ipython-input-3-fa54dc64d297>::53) &nbsp;&nbsp;&nbsp;&nbspReading polygon data ---- (starting) </font>"
      ],
      "text/plain": [
       "<IPython.core.display.HTML object>"
      ]
     },
     "metadata": {},
     "output_type": "execute_result"
    },
    {
     "data": {
      "text/html": [
       "<font face=\"Courier New\" size=2 color=\"green\"> &nbsp;&nbsp  etf_data_5a7082bee|(<ipython-input-3-fa54dc64d297>::53) &nbsp;&nbsp;&nbsp;&nbspReading polygon data took 0.07s ---- (done)</font>"
      ],
      "text/plain": [
       "<IPython.core.display.HTML object>"
      ]
     },
     "metadata": {},
     "output_type": "execute_result"
    },
    {
     "data": {
      "text/html": [
       "<font face=\"Courier New\" size=2 color=\"green\"> &nbsp;&nbsp etf_data_5a7082bee|(<ipython-input-3-fa54dc64d297>::73) &nbsp;&nbsp;&nbsp;&nbspmatching against polygon ---- (starting) </font>"
      ],
      "text/plain": [
       "<IPython.core.display.HTML object>"
      ]
     },
     "metadata": {},
     "output_type": "execute_result"
    },
    {
     "data": {
      "text/html": [
       "<font face=\"Courier New\" size=2 color=\"green\"> &nbsp;&nbsp  etf_data_5a7082bee|(<ipython-input-3-fa54dc64d297>::73) &nbsp;&nbsp;&nbsp;&nbspmatching against polygon took 0.02s ---- (done)</font>"
      ],
      "text/plain": [
       "<IPython.core.display.HTML object>"
      ]
     },
     "metadata": {},
     "output_type": "execute_result"
    },
    {
     "data": {
      "text/html": [
       "<font face=\"Courier New\" size=2 color=\"green\"> &nbsp;&nbsp etf_data_7faef64e3|(<ipython-input-3-fa54dc64d297>::39) &nbsp;&nbsp;&nbsp;&nbspReading kibot eod data ---- (starting) </font>"
      ],
      "text/plain": [
       "<IPython.core.display.HTML object>"
      ]
     },
     "metadata": {},
     "output_type": "execute_result"
    },
    {
     "data": {
      "text/html": [
       "<font face=\"Courier New\" size=2 color=\"green\"> &nbsp;&nbsp  etf_data_7faef64e3|(<ipython-input-3-fa54dc64d297>::39) &nbsp;&nbsp;&nbsp;&nbspReading kibot eod data took 0.02s ---- (done)</font>"
      ],
      "text/plain": [
       "<IPython.core.display.HTML object>"
      ]
     },
     "metadata": {},
     "output_type": "execute_result"
    },
    {
     "data": {
      "text/html": [
       "<font face=\"Courier New\" size=2 color=\"green\"> &nbsp;&nbsp etf_data_7faef64e3|(<ipython-input-3-fa54dc64d297>::46) &nbsp;&nbsp;&nbsp;&nbspReading kibot 5min data ---- (starting) </font>"
      ],
      "text/plain": [
       "<IPython.core.display.HTML object>"
      ]
     },
     "metadata": {},
     "output_type": "execute_result"
    },
    {
     "data": {
      "text/html": [
       "<font face=\"Courier New\" size=2 color=\"green\"> &nbsp;&nbsp  etf_data_7faef64e3|(<ipython-input-3-fa54dc64d297>::46) &nbsp;&nbsp;&nbsp;&nbspReading kibot 5min data took 0.45s ---- (done)</font>"
      ],
      "text/plain": [
       "<IPython.core.display.HTML object>"
      ]
     },
     "metadata": {},
     "output_type": "execute_result"
    },
    {
     "data": {
      "text/html": [
       "<font face=\"Courier New\" size=2 color=\"green\"> &nbsp;&nbsp etf_data_7faef64e3|(<ipython-input-3-fa54dc64d297>::53) &nbsp;&nbsp;&nbsp;&nbspReading polygon data ---- (starting) </font>"
      ],
      "text/plain": [
       "<IPython.core.display.HTML object>"
      ]
     },
     "metadata": {},
     "output_type": "execute_result"
    },
    {
     "data": {
      "text/html": [
       "<font face=\"Courier New\" size=2 color=\"green\"> &nbsp;&nbsp  etf_data_7faef64e3|(<ipython-input-3-fa54dc64d297>::53) &nbsp;&nbsp;&nbsp;&nbspReading polygon data took 0.07s ---- (done)</font>"
      ],
      "text/plain": [
       "<IPython.core.display.HTML object>"
      ]
     },
     "metadata": {},
     "output_type": "execute_result"
    },
    {
     "data": {
      "text/html": [
       "<font face=\"Courier New\" size=2 color=\"green\"> &nbsp;&nbsp etf_data_7faef64e3|(<ipython-input-3-fa54dc64d297>::73) &nbsp;&nbsp;&nbsp;&nbspmatching against polygon ---- (starting) </font>"
      ],
      "text/plain": [
       "<IPython.core.display.HTML object>"
      ]
     },
     "metadata": {},
     "output_type": "execute_result"
    },
    {
     "data": {
      "text/html": [
       "<font face=\"Courier New\" size=2 color=\"green\"> &nbsp;&nbsp  etf_data_7faef64e3|(<ipython-input-3-fa54dc64d297>::73) &nbsp;&nbsp;&nbsp;&nbspmatching against polygon took 0.02s ---- (done)</font>"
      ],
      "text/plain": [
       "<IPython.core.display.HTML object>"
      ]
     },
     "metadata": {},
     "output_type": "execute_result"
    },
    {
     "data": {
      "text/html": [
       "<font face=\"Courier New\" size=2 color=\"green\"> &nbsp;&nbsp etf_data_307794642|(<ipython-input-3-fa54dc64d297>::39) &nbsp;&nbsp;&nbsp;&nbspReading kibot eod data ---- (starting) </font>"
      ],
      "text/plain": [
       "<IPython.core.display.HTML object>"
      ]
     },
     "metadata": {},
     "output_type": "execute_result"
    },
    {
     "data": {
      "text/html": [
       "<font face=\"Courier New\" size=2 color=\"green\"> &nbsp;&nbsp  etf_data_307794642|(<ipython-input-3-fa54dc64d297>::39) &nbsp;&nbsp;&nbsp;&nbspReading kibot eod data took 0.02s ---- (done)</font>"
      ],
      "text/plain": [
       "<IPython.core.display.HTML object>"
      ]
     },
     "metadata": {},
     "output_type": "execute_result"
    },
    {
     "data": {
      "text/html": [
       "<font face=\"Courier New\" size=2 color=\"green\"> &nbsp;&nbsp etf_data_307794642|(<ipython-input-3-fa54dc64d297>::46) &nbsp;&nbsp;&nbsp;&nbspReading kibot 5min data ---- (starting) </font>"
      ],
      "text/plain": [
       "<IPython.core.display.HTML object>"
      ]
     },
     "metadata": {},
     "output_type": "execute_result"
    },
    {
     "data": {
      "text/html": [
       "<font face=\"Courier New\" size=2 color=\"green\"> &nbsp;&nbsp  etf_data_307794642|(<ipython-input-3-fa54dc64d297>::46) &nbsp;&nbsp;&nbsp;&nbspReading kibot 5min data took 0.42s ---- (done)</font>"
      ],
      "text/plain": [
       "<IPython.core.display.HTML object>"
      ]
     },
     "metadata": {},
     "output_type": "execute_result"
    },
    {
     "data": {
      "text/html": [
       "<font face=\"Courier New\" size=2 color=\"green\"> &nbsp;&nbsp etf_data_307794642|(<ipython-input-3-fa54dc64d297>::53) &nbsp;&nbsp;&nbsp;&nbspReading polygon data ---- (starting) </font>"
      ],
      "text/plain": [
       "<IPython.core.display.HTML object>"
      ]
     },
     "metadata": {},
     "output_type": "execute_result"
    },
    {
     "data": {
      "text/html": [
       "<font face=\"Courier New\" size=2 color=\"green\"> &nbsp;&nbsp  etf_data_307794642|(<ipython-input-3-fa54dc64d297>::53) &nbsp;&nbsp;&nbsp;&nbspReading polygon data took 0.07s ---- (done)</font>"
      ],
      "text/plain": [
       "<IPython.core.display.HTML object>"
      ]
     },
     "metadata": {},
     "output_type": "execute_result"
    },
    {
     "data": {
      "text/html": [
       "<font face=\"Courier New\" size=2 color=\"green\"> &nbsp;&nbsp etf_data_307794642|(<ipython-input-3-fa54dc64d297>::73) &nbsp;&nbsp;&nbsp;&nbspmatching against polygon ---- (starting) </font>"
      ],
      "text/plain": [
       "<IPython.core.display.HTML object>"
      ]
     },
     "metadata": {},
     "output_type": "execute_result"
    },
    {
     "data": {
      "text/html": [
       "<font face=\"Courier New\" size=2 color=\"green\"> &nbsp;&nbsp  etf_data_307794642|(<ipython-input-3-fa54dc64d297>::73) &nbsp;&nbsp;&nbsp;&nbspmatching against polygon took 0.02s ---- (done)</font>"
      ],
      "text/plain": [
       "<IPython.core.display.HTML object>"
      ]
     },
     "metadata": {},
     "output_type": "execute_result"
    },
    {
     "data": {
      "text/html": [
       "<font face=\"Courier New\" size=2 color=\"green\"> &nbsp;&nbsp etf_data_7781c1fc3|(<ipython-input-3-fa54dc64d297>::39) &nbsp;&nbsp;&nbsp;&nbspReading kibot eod data ---- (starting) </font>"
      ],
      "text/plain": [
       "<IPython.core.display.HTML object>"
      ]
     },
     "metadata": {},
     "output_type": "execute_result"
    },
    {
     "data": {
      "text/html": [
       "<font face=\"Courier New\" size=2 color=\"green\"> &nbsp;&nbsp  etf_data_7781c1fc3|(<ipython-input-3-fa54dc64d297>::39) &nbsp;&nbsp;&nbsp;&nbspReading kibot eod data took 0.01s ---- (done)</font>"
      ],
      "text/plain": [
       "<IPython.core.display.HTML object>"
      ]
     },
     "metadata": {},
     "output_type": "execute_result"
    },
    {
     "data": {
      "text/html": [
       "<font face=\"Courier New\" size=2 color=\"green\"> &nbsp;&nbsp etf_data_7781c1fc3|(<ipython-input-3-fa54dc64d297>::46) &nbsp;&nbsp;&nbsp;&nbspReading kibot 5min data ---- (starting) </font>"
      ],
      "text/plain": [
       "<IPython.core.display.HTML object>"
      ]
     },
     "metadata": {},
     "output_type": "execute_result"
    },
    {
     "data": {
      "text/html": [
       "<font face=\"Courier New\" size=2 color=\"green\"> &nbsp;&nbsp  etf_data_7781c1fc3|(<ipython-input-3-fa54dc64d297>::46) &nbsp;&nbsp;&nbsp;&nbspReading kibot 5min data took 0.39s ---- (done)</font>"
      ],
      "text/plain": [
       "<IPython.core.display.HTML object>"
      ]
     },
     "metadata": {},
     "output_type": "execute_result"
    },
    {
     "data": {
      "text/html": [
       "<font face=\"Courier New\" size=2 color=\"green\"> &nbsp;&nbsp etf_data_7781c1fc3|(<ipython-input-3-fa54dc64d297>::53) &nbsp;&nbsp;&nbsp;&nbspReading polygon data ---- (starting) </font>"
      ],
      "text/plain": [
       "<IPython.core.display.HTML object>"
      ]
     },
     "metadata": {},
     "output_type": "execute_result"
    },
    {
     "data": {
      "text/html": [
       "<font face=\"Courier New\" size=2 color=\"green\"> &nbsp;&nbsp  etf_data_7781c1fc3|(<ipython-input-3-fa54dc64d297>::53) &nbsp;&nbsp;&nbsp;&nbspReading polygon data took 0.07s ---- (done)</font>"
      ],
      "text/plain": [
       "<IPython.core.display.HTML object>"
      ]
     },
     "metadata": {},
     "output_type": "execute_result"
    },
    {
     "data": {
      "text/html": [
       "<font face=\"Courier New\" size=2 color=\"green\"> &nbsp;&nbsp etf_data_7781c1fc3|(<ipython-input-3-fa54dc64d297>::73) &nbsp;&nbsp;&nbsp;&nbspmatching against polygon ---- (starting) </font>"
      ],
      "text/plain": [
       "<IPython.core.display.HTML object>"
      ]
     },
     "metadata": {},
     "output_type": "execute_result"
    },
    {
     "data": {
      "text/html": [
       "<font face=\"Courier New\" size=2 color=\"green\"> &nbsp;&nbsp  etf_data_7781c1fc3|(<ipython-input-3-fa54dc64d297>::73) &nbsp;&nbsp;&nbsp;&nbspmatching against polygon took 0.01s ---- (done)</font>"
      ],
      "text/plain": [
       "<IPython.core.display.HTML object>"
      ]
     },
     "metadata": {},
     "output_type": "execute_result"
    },
    {
     "data": {
      "text/html": [
       "<font face=\"Courier New\" size=2 color=\"green\"> &nbsp;&nbsp etf_data_497905f13|(<ipython-input-3-fa54dc64d297>::39) &nbsp;&nbsp;&nbsp;&nbspReading kibot eod data ---- (starting) </font>"
      ],
      "text/plain": [
       "<IPython.core.display.HTML object>"
      ]
     },
     "metadata": {},
     "output_type": "execute_result"
    },
    {
     "data": {
      "text/html": [
       "<font face=\"Courier New\" size=2 color=\"green\"> &nbsp;&nbsp  etf_data_497905f13|(<ipython-input-3-fa54dc64d297>::39) &nbsp;&nbsp;&nbsp;&nbspReading kibot eod data took 0.02s ---- (done)</font>"
      ],
      "text/plain": [
       "<IPython.core.display.HTML object>"
      ]
     },
     "metadata": {},
     "output_type": "execute_result"
    },
    {
     "data": {
      "text/html": [
       "<font face=\"Courier New\" size=2 color=\"green\"> &nbsp;&nbsp etf_data_497905f13|(<ipython-input-3-fa54dc64d297>::46) &nbsp;&nbsp;&nbsp;&nbspReading kibot 5min data ---- (starting) </font>"
      ],
      "text/plain": [
       "<IPython.core.display.HTML object>"
      ]
     },
     "metadata": {},
     "output_type": "execute_result"
    },
    {
     "data": {
      "text/html": [
       "<font face=\"Courier New\" size=2 color=\"green\"> &nbsp;&nbsp  etf_data_497905f13|(<ipython-input-3-fa54dc64d297>::46) &nbsp;&nbsp;&nbsp;&nbspReading kibot 5min data took 0.50s ---- (done)</font>"
      ],
      "text/plain": [
       "<IPython.core.display.HTML object>"
      ]
     },
     "metadata": {},
     "output_type": "execute_result"
    },
    {
     "data": {
      "text/html": [
       "<font face=\"Courier New\" size=2 color=\"green\"> &nbsp;&nbsp etf_data_497905f13|(<ipython-input-3-fa54dc64d297>::53) &nbsp;&nbsp;&nbsp;&nbspReading polygon data ---- (starting) </font>"
      ],
      "text/plain": [
       "<IPython.core.display.HTML object>"
      ]
     },
     "metadata": {},
     "output_type": "execute_result"
    },
    {
     "data": {
      "text/html": [
       "<font face=\"Courier New\" size=2 color=\"green\"> &nbsp;&nbsp  etf_data_497905f13|(<ipython-input-3-fa54dc64d297>::53) &nbsp;&nbsp;&nbsp;&nbspReading polygon data took 0.07s ---- (done)</font>"
      ],
      "text/plain": [
       "<IPython.core.display.HTML object>"
      ]
     },
     "metadata": {},
     "output_type": "execute_result"
    },
    {
     "data": {
      "text/html": [
       "<font face=\"Courier New\" size=2 color=\"green\"> &nbsp;&nbsp etf_data_497905f13|(<ipython-input-3-fa54dc64d297>::73) &nbsp;&nbsp;&nbsp;&nbspmatching against polygon ---- (starting) </font>"
      ],
      "text/plain": [
       "<IPython.core.display.HTML object>"
      ]
     },
     "metadata": {},
     "output_type": "execute_result"
    },
    {
     "data": {
      "text/html": [
       "<font face=\"Courier New\" size=2 color=\"green\"> &nbsp;&nbsp  etf_data_497905f13|(<ipython-input-3-fa54dc64d297>::73) &nbsp;&nbsp;&nbsp;&nbspmatching against polygon took 0.02s ---- (done)</font>"
      ],
      "text/plain": [
       "<IPython.core.display.HTML object>"
      ]
     },
     "metadata": {},
     "output_type": "execute_result"
    },
    {
     "data": {
      "text/html": [
       "<font face=\"Courier New\" size=2 color=\"green\"> &nbsp;&nbsp etf_data_f5416090e|(<ipython-input-3-fa54dc64d297>::39) &nbsp;&nbsp;&nbsp;&nbspReading kibot eod data ---- (starting) </font>"
      ],
      "text/plain": [
       "<IPython.core.display.HTML object>"
      ]
     },
     "metadata": {},
     "output_type": "execute_result"
    },
    {
     "data": {
      "text/html": [
       "<font face=\"Courier New\" size=2 color=\"green\"> &nbsp;&nbsp  etf_data_f5416090e|(<ipython-input-3-fa54dc64d297>::39) &nbsp;&nbsp;&nbsp;&nbspReading kibot eod data took 0.02s ---- (done)</font>"
      ],
      "text/plain": [
       "<IPython.core.display.HTML object>"
      ]
     },
     "metadata": {},
     "output_type": "execute_result"
    },
    {
     "data": {
      "text/html": [
       "<font face=\"Courier New\" size=2 color=\"green\"> &nbsp;&nbsp etf_data_f5416090e|(<ipython-input-3-fa54dc64d297>::46) &nbsp;&nbsp;&nbsp;&nbspReading kibot 5min data ---- (starting) </font>"
      ],
      "text/plain": [
       "<IPython.core.display.HTML object>"
      ]
     },
     "metadata": {},
     "output_type": "execute_result"
    },
    {
     "data": {
      "text/html": [
       "<font face=\"Courier New\" size=2 color=\"green\"> &nbsp;&nbsp  etf_data_f5416090e|(<ipython-input-3-fa54dc64d297>::46) &nbsp;&nbsp;&nbsp;&nbspReading kibot 5min data took 0.48s ---- (done)</font>"
      ],
      "text/plain": [
       "<IPython.core.display.HTML object>"
      ]
     },
     "metadata": {},
     "output_type": "execute_result"
    },
    {
     "data": {
      "text/html": [
       "<font face=\"Courier New\" size=2 color=\"green\"> &nbsp;&nbsp etf_data_f5416090e|(<ipython-input-3-fa54dc64d297>::53) &nbsp;&nbsp;&nbsp;&nbspReading polygon data ---- (starting) </font>"
      ],
      "text/plain": [
       "<IPython.core.display.HTML object>"
      ]
     },
     "metadata": {},
     "output_type": "execute_result"
    },
    {
     "data": {
      "text/html": [
       "<font face=\"Courier New\" size=2 color=\"green\"> &nbsp;&nbsp  etf_data_f5416090e|(<ipython-input-3-fa54dc64d297>::53) &nbsp;&nbsp;&nbsp;&nbspReading polygon data took 0.07s ---- (done)</font>"
      ],
      "text/plain": [
       "<IPython.core.display.HTML object>"
      ]
     },
     "metadata": {},
     "output_type": "execute_result"
    },
    {
     "data": {
      "text/html": [
       "<font face=\"Courier New\" size=2 color=\"green\"> &nbsp;&nbsp etf_data_f5416090e|(<ipython-input-3-fa54dc64d297>::73) &nbsp;&nbsp;&nbsp;&nbspmatching against polygon ---- (starting) </font>"
      ],
      "text/plain": [
       "<IPython.core.display.HTML object>"
      ]
     },
     "metadata": {},
     "output_type": "execute_result"
    },
    {
     "data": {
      "text/html": [
       "<font face=\"Courier New\" size=2 color=\"green\"> &nbsp;&nbsp  etf_data_f5416090e|(<ipython-input-3-fa54dc64d297>::73) &nbsp;&nbsp;&nbsp;&nbspmatching against polygon took 0.02s ---- (done)</font>"
      ],
      "text/plain": [
       "<IPython.core.display.HTML object>"
      ]
     },
     "metadata": {},
     "output_type": "execute_result"
    },
    {
     "data": {
      "text/html": [
       "<font face=\"Courier New\" size=2 color=\"green\"> &nbsp;&nbsp etf_data_6566556c7|(<ipython-input-3-fa54dc64d297>::39) &nbsp;&nbsp;&nbsp;&nbspReading kibot eod data ---- (starting) </font>"
      ],
      "text/plain": [
       "<IPython.core.display.HTML object>"
      ]
     },
     "metadata": {},
     "output_type": "execute_result"
    },
    {
     "data": {
      "text/html": [
       "<font face=\"Courier New\" size=2 color=\"green\"> &nbsp;&nbsp  etf_data_6566556c7|(<ipython-input-3-fa54dc64d297>::39) &nbsp;&nbsp;&nbsp;&nbspReading kibot eod data took 0.01s ---- (done)</font>"
      ],
      "text/plain": [
       "<IPython.core.display.HTML object>"
      ]
     },
     "metadata": {},
     "output_type": "execute_result"
    },
    {
     "data": {
      "text/html": [
       "<font face=\"Courier New\" size=2 color=\"green\"> &nbsp;&nbsp etf_data_6566556c7|(<ipython-input-3-fa54dc64d297>::46) &nbsp;&nbsp;&nbsp;&nbspReading kibot 5min data ---- (starting) </font>"
      ],
      "text/plain": [
       "<IPython.core.display.HTML object>"
      ]
     },
     "metadata": {},
     "output_type": "execute_result"
    },
    {
     "data": {
      "text/html": [
       "<font face=\"Courier New\" size=2 color=\"green\"> &nbsp;&nbsp  etf_data_6566556c7|(<ipython-input-3-fa54dc64d297>::46) &nbsp;&nbsp;&nbsp;&nbspReading kibot 5min data took 0.38s ---- (done)</font>"
      ],
      "text/plain": [
       "<IPython.core.display.HTML object>"
      ]
     },
     "metadata": {},
     "output_type": "execute_result"
    },
    {
     "data": {
      "text/html": [
       "<font face=\"Courier New\" size=2 color=\"green\"> &nbsp;&nbsp etf_data_6566556c7|(<ipython-input-3-fa54dc64d297>::53) &nbsp;&nbsp;&nbsp;&nbspReading polygon data ---- (starting) </font>"
      ],
      "text/plain": [
       "<IPython.core.display.HTML object>"
      ]
     },
     "metadata": {},
     "output_type": "execute_result"
    },
    {
     "data": {
      "text/html": [
       "<font face=\"Courier New\" size=2 color=\"green\"> &nbsp;&nbsp  etf_data_6566556c7|(<ipython-input-3-fa54dc64d297>::53) &nbsp;&nbsp;&nbsp;&nbspReading polygon data took 0.07s ---- (done)</font>"
      ],
      "text/plain": [
       "<IPython.core.display.HTML object>"
      ]
     },
     "metadata": {},
     "output_type": "execute_result"
    },
    {
     "data": {
      "text/html": [
       "<font face=\"Courier New\" size=2 color=\"green\"> &nbsp;&nbsp etf_data_6566556c7|(<ipython-input-3-fa54dc64d297>::73) &nbsp;&nbsp;&nbsp;&nbspmatching against polygon ---- (starting) </font>"
      ],
      "text/plain": [
       "<IPython.core.display.HTML object>"
      ]
     },
     "metadata": {},
     "output_type": "execute_result"
    },
    {
     "data": {
      "text/html": [
       "<font face=\"Courier New\" size=2 color=\"green\"> &nbsp;&nbsp  etf_data_6566556c7|(<ipython-input-3-fa54dc64d297>::73) &nbsp;&nbsp;&nbsp;&nbspmatching against polygon took 0.01s ---- (done)</font>"
      ],
      "text/plain": [
       "<IPython.core.display.HTML object>"
      ]
     },
     "metadata": {},
     "output_type": "execute_result"
    },
    {
     "data": {
      "text/html": [
       "<font face=\"Courier New\" size=2 color=\"green\"> &nbsp;&nbsp etf_data_51b3c58fd|(<ipython-input-3-fa54dc64d297>::39) &nbsp;&nbsp;&nbsp;&nbspReading kibot eod data ---- (starting) </font>"
      ],
      "text/plain": [
       "<IPython.core.display.HTML object>"
      ]
     },
     "metadata": {},
     "output_type": "execute_result"
    },
    {
     "data": {
      "text/html": [
       "<font face=\"Courier New\" size=2 color=\"green\"> &nbsp;&nbsp  etf_data_51b3c58fd|(<ipython-input-3-fa54dc64d297>::39) &nbsp;&nbsp;&nbsp;&nbspReading kibot eod data took 0.02s ---- (done)</font>"
      ],
      "text/plain": [
       "<IPython.core.display.HTML object>"
      ]
     },
     "metadata": {},
     "output_type": "execute_result"
    },
    {
     "data": {
      "text/html": [
       "<font face=\"Courier New\" size=2 color=\"green\"> &nbsp;&nbsp etf_data_51b3c58fd|(<ipython-input-3-fa54dc64d297>::46) &nbsp;&nbsp;&nbsp;&nbspReading kibot 5min data ---- (starting) </font>"
      ],
      "text/plain": [
       "<IPython.core.display.HTML object>"
      ]
     },
     "metadata": {},
     "output_type": "execute_result"
    },
    {
     "data": {
      "text/html": [
       "<font face=\"Courier New\" size=2 color=\"green\"> &nbsp;&nbsp  etf_data_51b3c58fd|(<ipython-input-3-fa54dc64d297>::46) &nbsp;&nbsp;&nbsp;&nbspReading kibot 5min data took 0.45s ---- (done)</font>"
      ],
      "text/plain": [
       "<IPython.core.display.HTML object>"
      ]
     },
     "metadata": {},
     "output_type": "execute_result"
    },
    {
     "data": {
      "text/html": [
       "<font face=\"Courier New\" size=2 color=\"green\"> &nbsp;&nbsp etf_data_51b3c58fd|(<ipython-input-3-fa54dc64d297>::53) &nbsp;&nbsp;&nbsp;&nbspReading polygon data ---- (starting) </font>"
      ],
      "text/plain": [
       "<IPython.core.display.HTML object>"
      ]
     },
     "metadata": {},
     "output_type": "execute_result"
    },
    {
     "data": {
      "text/html": [
       "<font face=\"Courier New\" size=2 color=\"green\"> &nbsp;&nbsp  etf_data_51b3c58fd|(<ipython-input-3-fa54dc64d297>::53) &nbsp;&nbsp;&nbsp;&nbspReading polygon data took 0.07s ---- (done)</font>"
      ],
      "text/plain": [
       "<IPython.core.display.HTML object>"
      ]
     },
     "metadata": {},
     "output_type": "execute_result"
    },
    {
     "data": {
      "text/html": [
       "<font face=\"Courier New\" size=2 color=\"green\"> &nbsp;&nbsp etf_data_51b3c58fd|(<ipython-input-3-fa54dc64d297>::73) &nbsp;&nbsp;&nbsp;&nbspmatching against polygon ---- (starting) </font>"
      ],
      "text/plain": [
       "<IPython.core.display.HTML object>"
      ]
     },
     "metadata": {},
     "output_type": "execute_result"
    },
    {
     "data": {
      "text/html": [
       "<font face=\"Courier New\" size=2 color=\"green\"> &nbsp;&nbsp  etf_data_51b3c58fd|(<ipython-input-3-fa54dc64d297>::73) &nbsp;&nbsp;&nbsp;&nbspmatching against polygon took 0.02s ---- (done)</font>"
      ],
      "text/plain": [
       "<IPython.core.display.HTML object>"
      ]
     },
     "metadata": {},
     "output_type": "execute_result"
    },
    {
     "data": {
      "text/html": [
       "<font face=\"Courier New\" size=2 color=\"green\"> &nbsp;&nbsp etf_data_ecec85698|(<ipython-input-3-fa54dc64d297>::39) &nbsp;&nbsp;&nbsp;&nbspReading kibot eod data ---- (starting) </font>"
      ],
      "text/plain": [
       "<IPython.core.display.HTML object>"
      ]
     },
     "metadata": {},
     "output_type": "execute_result"
    },
    {
     "data": {
      "text/html": [
       "<font face=\"Courier New\" size=2 color=\"green\"> &nbsp;&nbsp  etf_data_ecec85698|(<ipython-input-3-fa54dc64d297>::39) &nbsp;&nbsp;&nbsp;&nbspReading kibot eod data took 0.01s ---- (done)</font>"
      ],
      "text/plain": [
       "<IPython.core.display.HTML object>"
      ]
     },
     "metadata": {},
     "output_type": "execute_result"
    },
    {
     "data": {
      "text/html": [
       "<font face=\"Courier New\" size=2 color=\"green\"> &nbsp;&nbsp etf_data_ecec85698|(<ipython-input-3-fa54dc64d297>::46) &nbsp;&nbsp;&nbsp;&nbspReading kibot 5min data ---- (starting) </font>"
      ],
      "text/plain": [
       "<IPython.core.display.HTML object>"
      ]
     },
     "metadata": {},
     "output_type": "execute_result"
    },
    {
     "data": {
      "text/html": [
       "<font face=\"Courier New\" size=2 color=\"green\"> &nbsp;&nbsp  etf_data_ecec85698|(<ipython-input-3-fa54dc64d297>::46) &nbsp;&nbsp;&nbsp;&nbspReading kibot 5min data took 0.35s ---- (done)</font>"
      ],
      "text/plain": [
       "<IPython.core.display.HTML object>"
      ]
     },
     "metadata": {},
     "output_type": "execute_result"
    },
    {
     "data": {
      "text/html": [
       "<font face=\"Courier New\" size=2 color=\"green\"> &nbsp;&nbsp etf_data_ecec85698|(<ipython-input-3-fa54dc64d297>::53) &nbsp;&nbsp;&nbsp;&nbspReading polygon data ---- (starting) </font>"
      ],
      "text/plain": [
       "<IPython.core.display.HTML object>"
      ]
     },
     "metadata": {},
     "output_type": "execute_result"
    },
    {
     "data": {
      "text/html": [
       "<font face=\"Courier New\" size=2 color=\"green\"> &nbsp;&nbsp  etf_data_ecec85698|(<ipython-input-3-fa54dc64d297>::53) &nbsp;&nbsp;&nbsp;&nbspReading polygon data took 0.07s ---- (done)</font>"
      ],
      "text/plain": [
       "<IPython.core.display.HTML object>"
      ]
     },
     "metadata": {},
     "output_type": "execute_result"
    },
    {
     "data": {
      "text/html": [
       "<font face=\"Courier New\" size=2 color=\"green\"> &nbsp;&nbsp etf_data_ecec85698|(<ipython-input-3-fa54dc64d297>::73) &nbsp;&nbsp;&nbsp;&nbspmatching against polygon ---- (starting) </font>"
      ],
      "text/plain": [
       "<IPython.core.display.HTML object>"
      ]
     },
     "metadata": {},
     "output_type": "execute_result"
    },
    {
     "data": {
      "text/html": [
       "<font face=\"Courier New\" size=2 color=\"green\"> &nbsp;&nbsp  etf_data_ecec85698|(<ipython-input-3-fa54dc64d297>::73) &nbsp;&nbsp;&nbsp;&nbspmatching against polygon took 0.01s ---- (done)</font>"
      ],
      "text/plain": [
       "<IPython.core.display.HTML object>"
      ]
     },
     "metadata": {},
     "output_type": "execute_result"
    },
    {
     "data": {
      "text/html": [
       "<font face=\"Courier New\" size=2 color=\"green\"> &nbsp;&nbsp etf_data_b4c9beffa|(<ipython-input-3-fa54dc64d297>::39) &nbsp;&nbsp;&nbsp;&nbspReading kibot eod data ---- (starting) </font>"
      ],
      "text/plain": [
       "<IPython.core.display.HTML object>"
      ]
     },
     "metadata": {},
     "output_type": "execute_result"
    },
    {
     "data": {
      "text/html": [
       "<font face=\"Courier New\" size=2 color=\"green\"> &nbsp;&nbsp  etf_data_b4c9beffa|(<ipython-input-3-fa54dc64d297>::39) &nbsp;&nbsp;&nbsp;&nbspReading kibot eod data took 0.02s ---- (done)</font>"
      ],
      "text/plain": [
       "<IPython.core.display.HTML object>"
      ]
     },
     "metadata": {},
     "output_type": "execute_result"
    },
    {
     "data": {
      "text/html": [
       "<font face=\"Courier New\" size=2 color=\"green\"> &nbsp;&nbsp etf_data_b4c9beffa|(<ipython-input-3-fa54dc64d297>::46) &nbsp;&nbsp;&nbsp;&nbspReading kibot 5min data ---- (starting) </font>"
      ],
      "text/plain": [
       "<IPython.core.display.HTML object>"
      ]
     },
     "metadata": {},
     "output_type": "execute_result"
    },
    {
     "data": {
      "text/html": [
       "<font face=\"Courier New\" size=2 color=\"green\"> &nbsp;&nbsp  etf_data_b4c9beffa|(<ipython-input-3-fa54dc64d297>::46) &nbsp;&nbsp;&nbsp;&nbspReading kibot 5min data took 0.64s ---- (done)</font>"
      ],
      "text/plain": [
       "<IPython.core.display.HTML object>"
      ]
     },
     "metadata": {},
     "output_type": "execute_result"
    },
    {
     "data": {
      "text/html": [
       "<font face=\"Courier New\" size=2 color=\"green\"> &nbsp;&nbsp etf_data_b4c9beffa|(<ipython-input-3-fa54dc64d297>::53) &nbsp;&nbsp;&nbsp;&nbspReading polygon data ---- (starting) </font>"
      ],
      "text/plain": [
       "<IPython.core.display.HTML object>"
      ]
     },
     "metadata": {},
     "output_type": "execute_result"
    },
    {
     "data": {
      "text/html": [
       "<font face=\"Courier New\" size=2 color=\"green\"> &nbsp;&nbsp  etf_data_b4c9beffa|(<ipython-input-3-fa54dc64d297>::53) &nbsp;&nbsp;&nbsp;&nbspReading polygon data took 0.10s ---- (done)</font>"
      ],
      "text/plain": [
       "<IPython.core.display.HTML object>"
      ]
     },
     "metadata": {},
     "output_type": "execute_result"
    },
    {
     "data": {
      "text/html": [
       "<font face=\"Courier New\" size=2 color=\"green\"> &nbsp;&nbsp etf_data_b4c9beffa|(<ipython-input-3-fa54dc64d297>::73) &nbsp;&nbsp;&nbsp;&nbspmatching against polygon ---- (starting) </font>"
      ],
      "text/plain": [
       "<IPython.core.display.HTML object>"
      ]
     },
     "metadata": {},
     "output_type": "execute_result"
    },
    {
     "data": {
      "text/html": [
       "<font face=\"Courier New\" size=2 color=\"green\"> &nbsp;&nbsp  etf_data_b4c9beffa|(<ipython-input-3-fa54dc64d297>::73) &nbsp;&nbsp;&nbsp;&nbspmatching against polygon took 0.02s ---- (done)</font>"
      ],
      "text/plain": [
       "<IPython.core.display.HTML object>"
      ]
     },
     "metadata": {},
     "output_type": "execute_result"
    },
    {
     "data": {
      "text/html": [
       "<font face=\"Courier New\" size=2 color=\"green\"> &nbsp;&nbsp etf_data_1d02df120|(<ipython-input-3-fa54dc64d297>::39) &nbsp;&nbsp;&nbsp;&nbspReading kibot eod data ---- (starting) </font>"
      ],
      "text/plain": [
       "<IPython.core.display.HTML object>"
      ]
     },
     "metadata": {},
     "output_type": "execute_result"
    },
    {
     "data": {
      "text/html": [
       "<font face=\"Courier New\" size=2 color=\"green\"> &nbsp;&nbsp  etf_data_1d02df120|(<ipython-input-3-fa54dc64d297>::39) &nbsp;&nbsp;&nbsp;&nbspReading kibot eod data took 0.02s ---- (done)</font>"
      ],
      "text/plain": [
       "<IPython.core.display.HTML object>"
      ]
     },
     "metadata": {},
     "output_type": "execute_result"
    },
    {
     "data": {
      "text/html": [
       "<font face=\"Courier New\" size=2 color=\"green\"> &nbsp;&nbsp etf_data_1d02df120|(<ipython-input-3-fa54dc64d297>::46) &nbsp;&nbsp;&nbsp;&nbspReading kibot 5min data ---- (starting) </font>"
      ],
      "text/plain": [
       "<IPython.core.display.HTML object>"
      ]
     },
     "metadata": {},
     "output_type": "execute_result"
    },
    {
     "data": {
      "text/html": [
       "<font face=\"Courier New\" size=2 color=\"green\"> &nbsp;&nbsp  etf_data_1d02df120|(<ipython-input-3-fa54dc64d297>::46) &nbsp;&nbsp;&nbsp;&nbspReading kibot 5min data took 0.49s ---- (done)</font>"
      ],
      "text/plain": [
       "<IPython.core.display.HTML object>"
      ]
     },
     "metadata": {},
     "output_type": "execute_result"
    },
    {
     "data": {
      "text/html": [
       "<font face=\"Courier New\" size=2 color=\"green\"> &nbsp;&nbsp etf_data_1d02df120|(<ipython-input-3-fa54dc64d297>::53) &nbsp;&nbsp;&nbsp;&nbspReading polygon data ---- (starting) </font>"
      ],
      "text/plain": [
       "<IPython.core.display.HTML object>"
      ]
     },
     "metadata": {},
     "output_type": "execute_result"
    },
    {
     "data": {
      "text/html": [
       "<font face=\"Courier New\" size=2 color=\"green\"> &nbsp;&nbsp  etf_data_1d02df120|(<ipython-input-3-fa54dc64d297>::53) &nbsp;&nbsp;&nbsp;&nbspReading polygon data took 0.07s ---- (done)</font>"
      ],
      "text/plain": [
       "<IPython.core.display.HTML object>"
      ]
     },
     "metadata": {},
     "output_type": "execute_result"
    },
    {
     "data": {
      "text/html": [
       "<font face=\"Courier New\" size=2 color=\"green\"> &nbsp;&nbsp etf_data_1d02df120|(<ipython-input-3-fa54dc64d297>::73) &nbsp;&nbsp;&nbsp;&nbspmatching against polygon ---- (starting) </font>"
      ],
      "text/plain": [
       "<IPython.core.display.HTML object>"
      ]
     },
     "metadata": {},
     "output_type": "execute_result"
    },
    {
     "data": {
      "text/html": [
       "<font face=\"Courier New\" size=2 color=\"green\"> &nbsp;&nbsp  etf_data_1d02df120|(<ipython-input-3-fa54dc64d297>::73) &nbsp;&nbsp;&nbsp;&nbspmatching against polygon took 0.02s ---- (done)</font>"
      ],
      "text/plain": [
       "<IPython.core.display.HTML object>"
      ]
     },
     "metadata": {},
     "output_type": "execute_result"
    },
    {
     "data": {
      "text/html": [
       "<font face=\"Courier New\" size=2 color=\"green\"> &nbsp;&nbsp etf_data_c49412307|(<ipython-input-3-fa54dc64d297>::39) &nbsp;&nbsp;&nbsp;&nbspReading kibot eod data ---- (starting) </font>"
      ],
      "text/plain": [
       "<IPython.core.display.HTML object>"
      ]
     },
     "metadata": {},
     "output_type": "execute_result"
    },
    {
     "data": {
      "text/html": [
       "<font face=\"Courier New\" size=2 color=\"green\"> &nbsp;&nbsp  etf_data_c49412307|(<ipython-input-3-fa54dc64d297>::39) &nbsp;&nbsp;&nbsp;&nbspReading kibot eod data took 0.02s ---- (done)</font>"
      ],
      "text/plain": [
       "<IPython.core.display.HTML object>"
      ]
     },
     "metadata": {},
     "output_type": "execute_result"
    },
    {
     "data": {
      "text/html": [
       "<font face=\"Courier New\" size=2 color=\"green\"> &nbsp;&nbsp etf_data_c49412307|(<ipython-input-3-fa54dc64d297>::46) &nbsp;&nbsp;&nbsp;&nbspReading kibot 5min data ---- (starting) </font>"
      ],
      "text/plain": [
       "<IPython.core.display.HTML object>"
      ]
     },
     "metadata": {},
     "output_type": "execute_result"
    },
    {
     "data": {
      "text/html": [
       "<font face=\"Courier New\" size=2 color=\"green\"> &nbsp;&nbsp  etf_data_c49412307|(<ipython-input-3-fa54dc64d297>::46) &nbsp;&nbsp;&nbsp;&nbspReading kibot 5min data took 0.49s ---- (done)</font>"
      ],
      "text/plain": [
       "<IPython.core.display.HTML object>"
      ]
     },
     "metadata": {},
     "output_type": "execute_result"
    },
    {
     "data": {
      "text/html": [
       "<font face=\"Courier New\" size=2 color=\"green\"> &nbsp;&nbsp etf_data_c49412307|(<ipython-input-3-fa54dc64d297>::53) &nbsp;&nbsp;&nbsp;&nbspReading polygon data ---- (starting) </font>"
      ],
      "text/plain": [
       "<IPython.core.display.HTML object>"
      ]
     },
     "metadata": {},
     "output_type": "execute_result"
    },
    {
     "data": {
      "text/html": [
       "<font face=\"Courier New\" size=2 color=\"green\"> &nbsp;&nbsp  etf_data_c49412307|(<ipython-input-3-fa54dc64d297>::53) &nbsp;&nbsp;&nbsp;&nbspReading polygon data took 0.07s ---- (done)</font>"
      ],
      "text/plain": [
       "<IPython.core.display.HTML object>"
      ]
     },
     "metadata": {},
     "output_type": "execute_result"
    },
    {
     "data": {
      "text/html": [
       "<font face=\"Courier New\" size=2 color=\"green\"> &nbsp;&nbsp etf_data_c49412307|(<ipython-input-3-fa54dc64d297>::73) &nbsp;&nbsp;&nbsp;&nbspmatching against polygon ---- (starting) </font>"
      ],
      "text/plain": [
       "<IPython.core.display.HTML object>"
      ]
     },
     "metadata": {},
     "output_type": "execute_result"
    },
    {
     "data": {
      "text/html": [
       "<font face=\"Courier New\" size=2 color=\"green\"> &nbsp;&nbsp  etf_data_c49412307|(<ipython-input-3-fa54dc64d297>::73) &nbsp;&nbsp;&nbsp;&nbspmatching against polygon took 0.02s ---- (done)</font>"
      ],
      "text/plain": [
       "<IPython.core.display.HTML object>"
      ]
     },
     "metadata": {},
     "output_type": "execute_result"
    },
    {
     "data": {
      "text/html": [
       "<font face=\"Courier New\" size=2 color=\"green\"> &nbsp;&nbsp etf_data_b5ae2a5d4|(<ipython-input-3-fa54dc64d297>::39) &nbsp;&nbsp;&nbsp;&nbspReading kibot eod data ---- (starting) </font>"
      ],
      "text/plain": [
       "<IPython.core.display.HTML object>"
      ]
     },
     "metadata": {},
     "output_type": "execute_result"
    },
    {
     "data": {
      "text/html": [
       "<font face=\"Courier New\" size=2 color=\"green\"> &nbsp;&nbsp  etf_data_b5ae2a5d4|(<ipython-input-3-fa54dc64d297>::39) &nbsp;&nbsp;&nbsp;&nbspReading kibot eod data took 0.02s ---- (done)</font>"
      ],
      "text/plain": [
       "<IPython.core.display.HTML object>"
      ]
     },
     "metadata": {},
     "output_type": "execute_result"
    },
    {
     "data": {
      "text/html": [
       "<font face=\"Courier New\" size=2 color=\"green\"> &nbsp;&nbsp etf_data_b5ae2a5d4|(<ipython-input-3-fa54dc64d297>::46) &nbsp;&nbsp;&nbsp;&nbspReading kibot 5min data ---- (starting) </font>"
      ],
      "text/plain": [
       "<IPython.core.display.HTML object>"
      ]
     },
     "metadata": {},
     "output_type": "execute_result"
    },
    {
     "data": {
      "text/html": [
       "<font face=\"Courier New\" size=2 color=\"green\"> &nbsp;&nbsp  etf_data_b5ae2a5d4|(<ipython-input-3-fa54dc64d297>::46) &nbsp;&nbsp;&nbsp;&nbspReading kibot 5min data took 0.45s ---- (done)</font>"
      ],
      "text/plain": [
       "<IPython.core.display.HTML object>"
      ]
     },
     "metadata": {},
     "output_type": "execute_result"
    },
    {
     "data": {
      "text/html": [
       "<font face=\"Courier New\" size=2 color=\"green\"> &nbsp;&nbsp etf_data_b5ae2a5d4|(<ipython-input-3-fa54dc64d297>::53) &nbsp;&nbsp;&nbsp;&nbspReading polygon data ---- (starting) </font>"
      ],
      "text/plain": [
       "<IPython.core.display.HTML object>"
      ]
     },
     "metadata": {},
     "output_type": "execute_result"
    },
    {
     "data": {
      "text/html": [
       "<font face=\"Courier New\" size=2 color=\"green\"> &nbsp;&nbsp  etf_data_b5ae2a5d4|(<ipython-input-3-fa54dc64d297>::53) &nbsp;&nbsp;&nbsp;&nbspReading polygon data took 0.07s ---- (done)</font>"
      ],
      "text/plain": [
       "<IPython.core.display.HTML object>"
      ]
     },
     "metadata": {},
     "output_type": "execute_result"
    },
    {
     "data": {
      "text/html": [
       "<font face=\"Courier New\" size=2 color=\"green\"> &nbsp;&nbsp etf_data_b5ae2a5d4|(<ipython-input-3-fa54dc64d297>::73) &nbsp;&nbsp;&nbsp;&nbspmatching against polygon ---- (starting) </font>"
      ],
      "text/plain": [
       "<IPython.core.display.HTML object>"
      ]
     },
     "metadata": {},
     "output_type": "execute_result"
    },
    {
     "data": {
      "text/html": [
       "<font face=\"Courier New\" size=2 color=\"green\"> &nbsp;&nbsp  etf_data_b5ae2a5d4|(<ipython-input-3-fa54dc64d297>::73) &nbsp;&nbsp;&nbsp;&nbspmatching against polygon took 0.02s ---- (done)</font>"
      ],
      "text/plain": [
       "<IPython.core.display.HTML object>"
      ]
     },
     "metadata": {},
     "output_type": "execute_result"
    },
    {
     "data": {
      "text/html": [
       "<font face=\"Courier New\" size=2 color=\"green\"> &nbsp;&nbsp etf_data_560de7b34|(<ipython-input-3-fa54dc64d297>::39) &nbsp;&nbsp;&nbsp;&nbspReading kibot eod data ---- (starting) </font>"
      ],
      "text/plain": [
       "<IPython.core.display.HTML object>"
      ]
     },
     "metadata": {},
     "output_type": "execute_result"
    },
    {
     "data": {
      "text/html": [
       "<font face=\"Courier New\" size=2 color=\"green\"> &nbsp;&nbsp  etf_data_560de7b34|(<ipython-input-3-fa54dc64d297>::39) &nbsp;&nbsp;&nbsp;&nbspReading kibot eod data took 0.02s ---- (done)</font>"
      ],
      "text/plain": [
       "<IPython.core.display.HTML object>"
      ]
     },
     "metadata": {},
     "output_type": "execute_result"
    },
    {
     "data": {
      "text/html": [
       "<font face=\"Courier New\" size=2 color=\"green\"> &nbsp;&nbsp etf_data_560de7b34|(<ipython-input-3-fa54dc64d297>::46) &nbsp;&nbsp;&nbsp;&nbspReading kibot 5min data ---- (starting) </font>"
      ],
      "text/plain": [
       "<IPython.core.display.HTML object>"
      ]
     },
     "metadata": {},
     "output_type": "execute_result"
    },
    {
     "data": {
      "text/html": [
       "<font face=\"Courier New\" size=2 color=\"green\"> &nbsp;&nbsp  etf_data_560de7b34|(<ipython-input-3-fa54dc64d297>::46) &nbsp;&nbsp;&nbsp;&nbspReading kibot 5min data took 0.53s ---- (done)</font>"
      ],
      "text/plain": [
       "<IPython.core.display.HTML object>"
      ]
     },
     "metadata": {},
     "output_type": "execute_result"
    },
    {
     "data": {
      "text/html": [
       "<font face=\"Courier New\" size=2 color=\"green\"> &nbsp;&nbsp etf_data_560de7b34|(<ipython-input-3-fa54dc64d297>::53) &nbsp;&nbsp;&nbsp;&nbspReading polygon data ---- (starting) </font>"
      ],
      "text/plain": [
       "<IPython.core.display.HTML object>"
      ]
     },
     "metadata": {},
     "output_type": "execute_result"
    },
    {
     "data": {
      "text/html": [
       "<font face=\"Courier New\" size=2 color=\"green\"> &nbsp;&nbsp  etf_data_560de7b34|(<ipython-input-3-fa54dc64d297>::53) &nbsp;&nbsp;&nbsp;&nbspReading polygon data took 0.07s ---- (done)</font>"
      ],
      "text/plain": [
       "<IPython.core.display.HTML object>"
      ]
     },
     "metadata": {},
     "output_type": "execute_result"
    },
    {
     "data": {
      "text/html": [
       "<font face=\"Courier New\" size=2 color=\"green\"> &nbsp;&nbsp etf_data_560de7b34|(<ipython-input-3-fa54dc64d297>::73) &nbsp;&nbsp;&nbsp;&nbspmatching against polygon ---- (starting) </font>"
      ],
      "text/plain": [
       "<IPython.core.display.HTML object>"
      ]
     },
     "metadata": {},
     "output_type": "execute_result"
    },
    {
     "data": {
      "text/html": [
       "<font face=\"Courier New\" size=2 color=\"green\"> &nbsp;&nbsp  etf_data_560de7b34|(<ipython-input-3-fa54dc64d297>::73) &nbsp;&nbsp;&nbsp;&nbspmatching against polygon took 0.02s ---- (done)</font>"
      ],
      "text/plain": [
       "<IPython.core.display.HTML object>"
      ]
     },
     "metadata": {},
     "output_type": "execute_result"
    },
    {
     "data": {
      "text/html": [
       "<font face=\"Courier New\" size=2 color=\"green\"> &nbsp;&nbsp etf_data_e5a2ce183|(<ipython-input-3-fa54dc64d297>::39) &nbsp;&nbsp;&nbsp;&nbspReading kibot eod data ---- (starting) </font>"
      ],
      "text/plain": [
       "<IPython.core.display.HTML object>"
      ]
     },
     "metadata": {},
     "output_type": "execute_result"
    },
    {
     "data": {
      "text/html": [
       "<font face=\"Courier New\" size=2 color=\"green\"> &nbsp;&nbsp  etf_data_e5a2ce183|(<ipython-input-3-fa54dc64d297>::39) &nbsp;&nbsp;&nbsp;&nbspReading kibot eod data took 0.01s ---- (done)</font>"
      ],
      "text/plain": [
       "<IPython.core.display.HTML object>"
      ]
     },
     "metadata": {},
     "output_type": "execute_result"
    },
    {
     "data": {
      "text/html": [
       "<font face=\"Courier New\" size=2 color=\"green\"> &nbsp;&nbsp etf_data_e5a2ce183|(<ipython-input-3-fa54dc64d297>::46) &nbsp;&nbsp;&nbsp;&nbspReading kibot 5min data ---- (starting) </font>"
      ],
      "text/plain": [
       "<IPython.core.display.HTML object>"
      ]
     },
     "metadata": {},
     "output_type": "execute_result"
    },
    {
     "data": {
      "text/html": [
       "<font face=\"Courier New\" size=2 color=\"green\"> &nbsp;&nbsp  etf_data_e5a2ce183|(<ipython-input-3-fa54dc64d297>::46) &nbsp;&nbsp;&nbsp;&nbspReading kibot 5min data took 0.71s ---- (done)</font>"
      ],
      "text/plain": [
       "<IPython.core.display.HTML object>"
      ]
     },
     "metadata": {},
     "output_type": "execute_result"
    },
    {
     "data": {
      "text/html": [
       "<font face=\"Courier New\" size=2 color=\"green\"> &nbsp;&nbsp etf_data_e5a2ce183|(<ipython-input-3-fa54dc64d297>::53) &nbsp;&nbsp;&nbsp;&nbspReading polygon data ---- (starting) </font>"
      ],
      "text/plain": [
       "<IPython.core.display.HTML object>"
      ]
     },
     "metadata": {},
     "output_type": "execute_result"
    },
    {
     "data": {
      "text/html": [
       "<font face=\"Courier New\" size=2 color=\"green\"> &nbsp;&nbsp  etf_data_e5a2ce183|(<ipython-input-3-fa54dc64d297>::53) &nbsp;&nbsp;&nbsp;&nbspReading polygon data took 0.07s ---- (done)</font>"
      ],
      "text/plain": [
       "<IPython.core.display.HTML object>"
      ]
     },
     "metadata": {},
     "output_type": "execute_result"
    },
    {
     "data": {
      "text/html": [
       "<font face=\"Courier New\" size=2 color=\"green\"> &nbsp;&nbsp etf_data_e5a2ce183|(<ipython-input-3-fa54dc64d297>::63) &nbsp;&nbsp;&nbsp;&nbspReading pi data ---- (starting) </font>"
      ],
      "text/plain": [
       "<IPython.core.display.HTML object>"
      ]
     },
     "metadata": {},
     "output_type": "execute_result"
    },
    {
     "data": {
      "text/html": [
       "<font face=\"Courier New\" size=2 color=\"green\"> &nbsp;&nbsp  etf_data_e5a2ce183|(<ipython-input-3-fa54dc64d297>::63) &nbsp;&nbsp;&nbsp;&nbspReading pi data took 2.58s ---- (done)</font>"
      ],
      "text/plain": [
       "<IPython.core.display.HTML object>"
      ]
     },
     "metadata": {},
     "output_type": "execute_result"
    },
    {
     "data": {
      "text/html": [
       "<font face=\"Courier New\" size=2 color=\"green\"> &nbsp;&nbsp etf_data_e5a2ce183|(<ipython-input-3-fa54dc64d297>::73) &nbsp;&nbsp;&nbsp;&nbspmatching against polygon ---- (starting) </font>"
      ],
      "text/plain": [
       "<IPython.core.display.HTML object>"
      ]
     },
     "metadata": {},
     "output_type": "execute_result"
    },
    {
     "data": {
      "text/html": [
       "<font face=\"Courier New\" size=2 color=\"green\"> &nbsp;&nbsp  etf_data_e5a2ce183|(<ipython-input-3-fa54dc64d297>::73) &nbsp;&nbsp;&nbsp;&nbspmatching against polygon took 0.02s ---- (done)</font>"
      ],
      "text/plain": [
       "<IPython.core.display.HTML object>"
      ]
     },
     "metadata": {},
     "output_type": "execute_result"
    },
    {
     "data": {
      "text/html": [
       "<font face=\"Courier New\" size=2 color=\"green\"> &nbsp;&nbsp etf_data_e5a2ce183|(<ipython-input-3-fa54dc64d297>::78) &nbsp;&nbsp;&nbsp;&nbspmatching against pitrading ---- (starting) </font>"
      ],
      "text/plain": [
       "<IPython.core.display.HTML object>"
      ]
     },
     "metadata": {},
     "output_type": "execute_result"
    },
    {
     "data": {
      "text/html": [
       "<font face=\"Courier New\" size=2 color=\"green\"> &nbsp;&nbsp  etf_data_e5a2ce183|(<ipython-input-3-fa54dc64d297>::78) &nbsp;&nbsp;&nbsp;&nbspmatching against pitrading took 1.14s ---- (done)</font>"
      ],
      "text/plain": [
       "<IPython.core.display.HTML object>"
      ]
     },
     "metadata": {},
     "output_type": "execute_result"
    },
    {
     "data": {
      "text/html": [
       "<font face=\"Courier New\" size=2 color=\"green\"> &nbsp;&nbsp etf_data_e7697247f|(<ipython-input-3-fa54dc64d297>::39) &nbsp;&nbsp;&nbsp;&nbspReading kibot eod data ---- (starting) </font>"
      ],
      "text/plain": [
       "<IPython.core.display.HTML object>"
      ]
     },
     "metadata": {},
     "output_type": "execute_result"
    },
    {
     "data": {
      "text/html": [
       "<font face=\"Courier New\" size=2 color=\"green\"> &nbsp;&nbsp  etf_data_e7697247f|(<ipython-input-3-fa54dc64d297>::39) &nbsp;&nbsp;&nbsp;&nbspReading kibot eod data took 0.02s ---- (done)</font>"
      ],
      "text/plain": [
       "<IPython.core.display.HTML object>"
      ]
     },
     "metadata": {},
     "output_type": "execute_result"
    },
    {
     "data": {
      "text/html": [
       "<font face=\"Courier New\" size=2 color=\"green\"> &nbsp;&nbsp etf_data_e7697247f|(<ipython-input-3-fa54dc64d297>::46) &nbsp;&nbsp;&nbsp;&nbspReading kibot 5min data ---- (starting) </font>"
      ],
      "text/plain": [
       "<IPython.core.display.HTML object>"
      ]
     },
     "metadata": {},
     "output_type": "execute_result"
    },
    {
     "data": {
      "text/html": [
       "<font face=\"Courier New\" size=2 color=\"green\"> &nbsp;&nbsp  etf_data_e7697247f|(<ipython-input-3-fa54dc64d297>::46) &nbsp;&nbsp;&nbsp;&nbspReading kibot 5min data took 0.42s ---- (done)</font>"
      ],
      "text/plain": [
       "<IPython.core.display.HTML object>"
      ]
     },
     "metadata": {},
     "output_type": "execute_result"
    },
    {
     "data": {
      "text/html": [
       "<font face=\"Courier New\" size=2 color=\"green\"> &nbsp;&nbsp etf_data_e7697247f|(<ipython-input-3-fa54dc64d297>::53) &nbsp;&nbsp;&nbsp;&nbspReading polygon data ---- (starting) </font>"
      ],
      "text/plain": [
       "<IPython.core.display.HTML object>"
      ]
     },
     "metadata": {},
     "output_type": "execute_result"
    },
    {
     "data": {
      "text/html": [
       "<font face=\"Courier New\" size=2 color=\"green\"> &nbsp;&nbsp  etf_data_e7697247f|(<ipython-input-3-fa54dc64d297>::53) &nbsp;&nbsp;&nbsp;&nbspReading polygon data took 0.07s ---- (done)</font>"
      ],
      "text/plain": [
       "<IPython.core.display.HTML object>"
      ]
     },
     "metadata": {},
     "output_type": "execute_result"
    },
    {
     "data": {
      "text/html": [
       "<font face=\"Courier New\" size=2 color=\"green\"> &nbsp;&nbsp etf_data_e7697247f|(<ipython-input-3-fa54dc64d297>::73) &nbsp;&nbsp;&nbsp;&nbspmatching against polygon ---- (starting) </font>"
      ],
      "text/plain": [
       "<IPython.core.display.HTML object>"
      ]
     },
     "metadata": {},
     "output_type": "execute_result"
    },
    {
     "data": {
      "text/html": [
       "<font face=\"Courier New\" size=2 color=\"green\"> &nbsp;&nbsp  etf_data_e7697247f|(<ipython-input-3-fa54dc64d297>::73) &nbsp;&nbsp;&nbsp;&nbspmatching against polygon took 0.02s ---- (done)</font>"
      ],
      "text/plain": [
       "<IPython.core.display.HTML object>"
      ]
     },
     "metadata": {},
     "output_type": "execute_result"
    },
    {
     "data": {
      "text/html": [
       "<font face=\"Courier New\" size=2 color=\"green\"> &nbsp;&nbsp etf_data_76011ca63|(<ipython-input-3-fa54dc64d297>::39) &nbsp;&nbsp;&nbsp;&nbspReading kibot eod data ---- (starting) </font>"
      ],
      "text/plain": [
       "<IPython.core.display.HTML object>"
      ]
     },
     "metadata": {},
     "output_type": "execute_result"
    },
    {
     "data": {
      "text/html": [
       "<font face=\"Courier New\" size=2 color=\"green\"> &nbsp;&nbsp  etf_data_76011ca63|(<ipython-input-3-fa54dc64d297>::39) &nbsp;&nbsp;&nbsp;&nbspReading kibot eod data took 0.01s ---- (done)</font>"
      ],
      "text/plain": [
       "<IPython.core.display.HTML object>"
      ]
     },
     "metadata": {},
     "output_type": "execute_result"
    },
    {
     "data": {
      "text/html": [
       "<font face=\"Courier New\" size=2 color=\"green\"> &nbsp;&nbsp etf_data_76011ca63|(<ipython-input-3-fa54dc64d297>::46) &nbsp;&nbsp;&nbsp;&nbspReading kibot 5min data ---- (starting) </font>"
      ],
      "text/plain": [
       "<IPython.core.display.HTML object>"
      ]
     },
     "metadata": {},
     "output_type": "execute_result"
    },
    {
     "data": {
      "text/html": [
       "<font face=\"Courier New\" size=2 color=\"green\"> &nbsp;&nbsp  etf_data_76011ca63|(<ipython-input-3-fa54dc64d297>::46) &nbsp;&nbsp;&nbsp;&nbspReading kibot 5min data took 0.27s ---- (done)</font>"
      ],
      "text/plain": [
       "<IPython.core.display.HTML object>"
      ]
     },
     "metadata": {},
     "output_type": "execute_result"
    },
    {
     "data": {
      "text/html": [
       "<font face=\"Courier New\" size=2 color=\"green\"> &nbsp;&nbsp etf_data_76011ca63|(<ipython-input-3-fa54dc64d297>::53) &nbsp;&nbsp;&nbsp;&nbspReading polygon data ---- (starting) </font>"
      ],
      "text/plain": [
       "<IPython.core.display.HTML object>"
      ]
     },
     "metadata": {},
     "output_type": "execute_result"
    },
    {
     "data": {
      "text/html": [
       "<font face=\"Courier New\" size=2 color=\"green\"> &nbsp;&nbsp  etf_data_76011ca63|(<ipython-input-3-fa54dc64d297>::53) &nbsp;&nbsp;&nbsp;&nbspReading polygon data took 0.07s ---- (done)</font>"
      ],
      "text/plain": [
       "<IPython.core.display.HTML object>"
      ]
     },
     "metadata": {},
     "output_type": "execute_result"
    },
    {
     "data": {
      "text/html": [
       "<font face=\"Courier New\" size=2 color=\"green\"> &nbsp;&nbsp etf_data_76011ca63|(<ipython-input-3-fa54dc64d297>::73) &nbsp;&nbsp;&nbsp;&nbspmatching against polygon ---- (starting) </font>"
      ],
      "text/plain": [
       "<IPython.core.display.HTML object>"
      ]
     },
     "metadata": {},
     "output_type": "execute_result"
    },
    {
     "data": {
      "text/html": [
       "<font face=\"Courier New\" size=2 color=\"green\"> &nbsp;&nbsp  etf_data_76011ca63|(<ipython-input-3-fa54dc64d297>::73) &nbsp;&nbsp;&nbsp;&nbspmatching against polygon took 0.02s ---- (done)</font>"
      ],
      "text/plain": [
       "<IPython.core.display.HTML object>"
      ]
     },
     "metadata": {},
     "output_type": "execute_result"
    },
    {
     "data": {
      "text/html": [
       "<font face=\"Courier New\" size=2 color=\"green\"> &nbsp;&nbsp etf_data_68d9bc7d2|(<ipython-input-3-fa54dc64d297>::39) &nbsp;&nbsp;&nbsp;&nbspReading kibot eod data ---- (starting) </font>"
      ],
      "text/plain": [
       "<IPython.core.display.HTML object>"
      ]
     },
     "metadata": {},
     "output_type": "execute_result"
    },
    {
     "data": {
      "text/html": [
       "<font face=\"Courier New\" size=2 color=\"green\"> &nbsp;&nbsp  etf_data_68d9bc7d2|(<ipython-input-3-fa54dc64d297>::39) &nbsp;&nbsp;&nbsp;&nbspReading kibot eod data took 0.02s ---- (done)</font>"
      ],
      "text/plain": [
       "<IPython.core.display.HTML object>"
      ]
     },
     "metadata": {},
     "output_type": "execute_result"
    },
    {
     "data": {
      "text/html": [
       "<font face=\"Courier New\" size=2 color=\"green\"> &nbsp;&nbsp etf_data_68d9bc7d2|(<ipython-input-3-fa54dc64d297>::46) &nbsp;&nbsp;&nbsp;&nbspReading kibot 5min data ---- (starting) </font>"
      ],
      "text/plain": [
       "<IPython.core.display.HTML object>"
      ]
     },
     "metadata": {},
     "output_type": "execute_result"
    },
    {
     "data": {
      "text/html": [
       "<font face=\"Courier New\" size=2 color=\"green\"> &nbsp;&nbsp  etf_data_68d9bc7d2|(<ipython-input-3-fa54dc64d297>::46) &nbsp;&nbsp;&nbsp;&nbspReading kibot 5min data took 0.47s ---- (done)</font>"
      ],
      "text/plain": [
       "<IPython.core.display.HTML object>"
      ]
     },
     "metadata": {},
     "output_type": "execute_result"
    },
    {
     "data": {
      "text/html": [
       "<font face=\"Courier New\" size=2 color=\"green\"> &nbsp;&nbsp etf_data_68d9bc7d2|(<ipython-input-3-fa54dc64d297>::53) &nbsp;&nbsp;&nbsp;&nbspReading polygon data ---- (starting) </font>"
      ],
      "text/plain": [
       "<IPython.core.display.HTML object>"
      ]
     },
     "metadata": {},
     "output_type": "execute_result"
    },
    {
     "data": {
      "text/html": [
       "<font face=\"Courier New\" size=2 color=\"green\"> &nbsp;&nbsp  etf_data_68d9bc7d2|(<ipython-input-3-fa54dc64d297>::53) &nbsp;&nbsp;&nbsp;&nbspReading polygon data took 0.07s ---- (done)</font>"
      ],
      "text/plain": [
       "<IPython.core.display.HTML object>"
      ]
     },
     "metadata": {},
     "output_type": "execute_result"
    },
    {
     "data": {
      "text/html": [
       "<font face=\"Courier New\" size=2 color=\"green\"> &nbsp;&nbsp etf_data_68d9bc7d2|(<ipython-input-3-fa54dc64d297>::73) &nbsp;&nbsp;&nbsp;&nbspmatching against polygon ---- (starting) </font>"
      ],
      "text/plain": [
       "<IPython.core.display.HTML object>"
      ]
     },
     "metadata": {},
     "output_type": "execute_result"
    },
    {
     "data": {
      "text/html": [
       "<font face=\"Courier New\" size=2 color=\"green\"> &nbsp;&nbsp  etf_data_68d9bc7d2|(<ipython-input-3-fa54dc64d297>::73) &nbsp;&nbsp;&nbsp;&nbspmatching against polygon took 0.02s ---- (done)</font>"
      ],
      "text/plain": [
       "<IPython.core.display.HTML object>"
      ]
     },
     "metadata": {},
     "output_type": "execute_result"
    },
    {
     "data": {
      "text/html": [
       "<font face=\"Courier New\" size=2 color=\"green\"> &nbsp;&nbsp etf_data_b3bd923cc|(<ipython-input-3-fa54dc64d297>::39) &nbsp;&nbsp;&nbsp;&nbspReading kibot eod data ---- (starting) </font>"
      ],
      "text/plain": [
       "<IPython.core.display.HTML object>"
      ]
     },
     "metadata": {},
     "output_type": "execute_result"
    },
    {
     "data": {
      "text/html": [
       "<font face=\"Courier New\" size=2 color=\"green\"> &nbsp;&nbsp  etf_data_b3bd923cc|(<ipython-input-3-fa54dc64d297>::39) &nbsp;&nbsp;&nbsp;&nbspReading kibot eod data took 0.02s ---- (done)</font>"
      ],
      "text/plain": [
       "<IPython.core.display.HTML object>"
      ]
     },
     "metadata": {},
     "output_type": "execute_result"
    },
    {
     "data": {
      "text/html": [
       "<font face=\"Courier New\" size=2 color=\"green\"> &nbsp;&nbsp etf_data_b3bd923cc|(<ipython-input-3-fa54dc64d297>::46) &nbsp;&nbsp;&nbsp;&nbspReading kibot 5min data ---- (starting) </font>"
      ],
      "text/plain": [
       "<IPython.core.display.HTML object>"
      ]
     },
     "metadata": {},
     "output_type": "execute_result"
    },
    {
     "data": {
      "text/html": [
       "<font face=\"Courier New\" size=2 color=\"green\"> &nbsp;&nbsp  etf_data_b3bd923cc|(<ipython-input-3-fa54dc64d297>::46) &nbsp;&nbsp;&nbsp;&nbspReading kibot 5min data took 0.48s ---- (done)</font>"
      ],
      "text/plain": [
       "<IPython.core.display.HTML object>"
      ]
     },
     "metadata": {},
     "output_type": "execute_result"
    },
    {
     "data": {
      "text/html": [
       "<font face=\"Courier New\" size=2 color=\"green\"> &nbsp;&nbsp etf_data_b3bd923cc|(<ipython-input-3-fa54dc64d297>::53) &nbsp;&nbsp;&nbsp;&nbspReading polygon data ---- (starting) </font>"
      ],
      "text/plain": [
       "<IPython.core.display.HTML object>"
      ]
     },
     "metadata": {},
     "output_type": "execute_result"
    },
    {
     "data": {
      "text/html": [
       "<font face=\"Courier New\" size=2 color=\"green\"> &nbsp;&nbsp  etf_data_b3bd923cc|(<ipython-input-3-fa54dc64d297>::53) &nbsp;&nbsp;&nbsp;&nbspReading polygon data took 0.07s ---- (done)</font>"
      ],
      "text/plain": [
       "<IPython.core.display.HTML object>"
      ]
     },
     "metadata": {},
     "output_type": "execute_result"
    },
    {
     "data": {
      "text/html": [
       "<font face=\"Courier New\" size=2 color=\"green\"> &nbsp;&nbsp etf_data_b3bd923cc|(<ipython-input-3-fa54dc64d297>::73) &nbsp;&nbsp;&nbsp;&nbspmatching against polygon ---- (starting) </font>"
      ],
      "text/plain": [
       "<IPython.core.display.HTML object>"
      ]
     },
     "metadata": {},
     "output_type": "execute_result"
    },
    {
     "data": {
      "text/html": [
       "<font face=\"Courier New\" size=2 color=\"green\"> &nbsp;&nbsp  etf_data_b3bd923cc|(<ipython-input-3-fa54dc64d297>::73) &nbsp;&nbsp;&nbsp;&nbspmatching against polygon took 0.02s ---- (done)</font>"
      ],
      "text/plain": [
       "<IPython.core.display.HTML object>"
      ]
     },
     "metadata": {},
     "output_type": "execute_result"
    },
    {
     "data": {
      "text/html": [
       "<font face=\"Courier New\" size=2 color=\"green\"> &nbsp;&nbsp etf_data_d5fb56b48|(<ipython-input-3-fa54dc64d297>::39) &nbsp;&nbsp;&nbsp;&nbspReading kibot eod data ---- (starting) </font>"
      ],
      "text/plain": [
       "<IPython.core.display.HTML object>"
      ]
     },
     "metadata": {},
     "output_type": "execute_result"
    },
    {
     "data": {
      "text/html": [
       "<font face=\"Courier New\" size=2 color=\"green\"> &nbsp;&nbsp  etf_data_d5fb56b48|(<ipython-input-3-fa54dc64d297>::39) &nbsp;&nbsp;&nbsp;&nbspReading kibot eod data took 0.02s ---- (done)</font>"
      ],
      "text/plain": [
       "<IPython.core.display.HTML object>"
      ]
     },
     "metadata": {},
     "output_type": "execute_result"
    },
    {
     "data": {
      "text/html": [
       "<font face=\"Courier New\" size=2 color=\"green\"> &nbsp;&nbsp etf_data_d5fb56b48|(<ipython-input-3-fa54dc64d297>::46) &nbsp;&nbsp;&nbsp;&nbspReading kibot 5min data ---- (starting) </font>"
      ],
      "text/plain": [
       "<IPython.core.display.HTML object>"
      ]
     },
     "metadata": {},
     "output_type": "execute_result"
    },
    {
     "data": {
      "text/html": [
       "<font face=\"Courier New\" size=2 color=\"green\"> &nbsp;&nbsp  etf_data_d5fb56b48|(<ipython-input-3-fa54dc64d297>::46) &nbsp;&nbsp;&nbsp;&nbspReading kibot 5min data took 0.63s ---- (done)</font>"
      ],
      "text/plain": [
       "<IPython.core.display.HTML object>"
      ]
     },
     "metadata": {},
     "output_type": "execute_result"
    },
    {
     "data": {
      "text/html": [
       "<font face=\"Courier New\" size=2 color=\"green\"> &nbsp;&nbsp etf_data_d5fb56b48|(<ipython-input-3-fa54dc64d297>::53) &nbsp;&nbsp;&nbsp;&nbspReading polygon data ---- (starting) </font>"
      ],
      "text/plain": [
       "<IPython.core.display.HTML object>"
      ]
     },
     "metadata": {},
     "output_type": "execute_result"
    },
    {
     "data": {
      "text/html": [
       "<font face=\"Courier New\" size=2 color=\"green\"> &nbsp;&nbsp  etf_data_d5fb56b48|(<ipython-input-3-fa54dc64d297>::53) &nbsp;&nbsp;&nbsp;&nbspReading polygon data took 0.07s ---- (done)</font>"
      ],
      "text/plain": [
       "<IPython.core.display.HTML object>"
      ]
     },
     "metadata": {},
     "output_type": "execute_result"
    },
    {
     "data": {
      "text/html": [
       "<font face=\"Courier New\" size=2 color=\"green\"> &nbsp;&nbsp etf_data_d5fb56b48|(<ipython-input-3-fa54dc64d297>::73) &nbsp;&nbsp;&nbsp;&nbspmatching against polygon ---- (starting) </font>"
      ],
      "text/plain": [
       "<IPython.core.display.HTML object>"
      ]
     },
     "metadata": {},
     "output_type": "execute_result"
    },
    {
     "data": {
      "text/html": [
       "<font face=\"Courier New\" size=2 color=\"green\"> &nbsp;&nbsp  etf_data_d5fb56b48|(<ipython-input-3-fa54dc64d297>::73) &nbsp;&nbsp;&nbsp;&nbspmatching against polygon took 0.02s ---- (done)</font>"
      ],
      "text/plain": [
       "<IPython.core.display.HTML object>"
      ]
     },
     "metadata": {},
     "output_type": "execute_result"
    },
    {
     "data": {
      "text/html": [
       "<font face=\"Courier New\" size=2 color=\"green\"> &nbsp;&nbsp etf_data_5a04d787a|(<ipython-input-3-fa54dc64d297>::39) &nbsp;&nbsp;&nbsp;&nbspReading kibot eod data ---- (starting) </font>"
      ],
      "text/plain": [
       "<IPython.core.display.HTML object>"
      ]
     },
     "metadata": {},
     "output_type": "execute_result"
    },
    {
     "data": {
      "text/html": [
       "<font face=\"Courier New\" size=2 color=\"green\"> &nbsp;&nbsp  etf_data_5a04d787a|(<ipython-input-3-fa54dc64d297>::39) &nbsp;&nbsp;&nbsp;&nbspReading kibot eod data took 0.02s ---- (done)</font>"
      ],
      "text/plain": [
       "<IPython.core.display.HTML object>"
      ]
     },
     "metadata": {},
     "output_type": "execute_result"
    },
    {
     "data": {
      "text/html": [
       "<font face=\"Courier New\" size=2 color=\"green\"> &nbsp;&nbsp etf_data_5a04d787a|(<ipython-input-3-fa54dc64d297>::46) &nbsp;&nbsp;&nbsp;&nbspReading kibot 5min data ---- (starting) </font>"
      ],
      "text/plain": [
       "<IPython.core.display.HTML object>"
      ]
     },
     "metadata": {},
     "output_type": "execute_result"
    },
    {
     "data": {
      "text/html": [
       "<font face=\"Courier New\" size=2 color=\"green\"> &nbsp;&nbsp  etf_data_5a04d787a|(<ipython-input-3-fa54dc64d297>::46) &nbsp;&nbsp;&nbsp;&nbspReading kibot 5min data took 0.73s ---- (done)</font>"
      ],
      "text/plain": [
       "<IPython.core.display.HTML object>"
      ]
     },
     "metadata": {},
     "output_type": "execute_result"
    },
    {
     "data": {
      "text/html": [
       "<font face=\"Courier New\" size=2 color=\"green\"> &nbsp;&nbsp etf_data_5a04d787a|(<ipython-input-3-fa54dc64d297>::53) &nbsp;&nbsp;&nbsp;&nbspReading polygon data ---- (starting) </font>"
      ],
      "text/plain": [
       "<IPython.core.display.HTML object>"
      ]
     },
     "metadata": {},
     "output_type": "execute_result"
    },
    {
     "data": {
      "text/html": [
       "<font face=\"Courier New\" size=2 color=\"green\"> &nbsp;&nbsp  etf_data_5a04d787a|(<ipython-input-3-fa54dc64d297>::53) &nbsp;&nbsp;&nbsp;&nbspReading polygon data took 0.07s ---- (done)</font>"
      ],
      "text/plain": [
       "<IPython.core.display.HTML object>"
      ]
     },
     "metadata": {},
     "output_type": "execute_result"
    },
    {
     "data": {
      "text/html": [
       "<font face=\"Courier New\" size=2 color=\"green\"> &nbsp;&nbsp etf_data_5a04d787a|(<ipython-input-3-fa54dc64d297>::63) &nbsp;&nbsp;&nbsp;&nbspReading pi data ---- (starting) </font>"
      ],
      "text/plain": [
       "<IPython.core.display.HTML object>"
      ]
     },
     "metadata": {},
     "output_type": "execute_result"
    },
    {
     "data": {
      "text/html": [
       "<font face=\"Courier New\" size=2 color=\"green\"> &nbsp;&nbsp  etf_data_5a04d787a|(<ipython-input-3-fa54dc64d297>::63) &nbsp;&nbsp;&nbsp;&nbspReading pi data took 4.01s ---- (done)</font>"
      ],
      "text/plain": [
       "<IPython.core.display.HTML object>"
      ]
     },
     "metadata": {},
     "output_type": "execute_result"
    },
    {
     "data": {
      "text/html": [
       "<font face=\"Courier New\" size=2 color=\"green\"> &nbsp;&nbsp etf_data_5a04d787a|(<ipython-input-3-fa54dc64d297>::73) &nbsp;&nbsp;&nbsp;&nbspmatching against polygon ---- (starting) </font>"
      ],
      "text/plain": [
       "<IPython.core.display.HTML object>"
      ]
     },
     "metadata": {},
     "output_type": "execute_result"
    },
    {
     "data": {
      "text/html": [
       "<font face=\"Courier New\" size=2 color=\"green\"> &nbsp;&nbsp  etf_data_5a04d787a|(<ipython-input-3-fa54dc64d297>::73) &nbsp;&nbsp;&nbsp;&nbspmatching against polygon took 0.02s ---- (done)</font>"
      ],
      "text/plain": [
       "<IPython.core.display.HTML object>"
      ]
     },
     "metadata": {},
     "output_type": "execute_result"
    },
    {
     "data": {
      "text/html": [
       "<font face=\"Courier New\" size=2 color=\"green\"> &nbsp;&nbsp etf_data_5a04d787a|(<ipython-input-3-fa54dc64d297>::78) &nbsp;&nbsp;&nbsp;&nbspmatching against pitrading ---- (starting) </font>"
      ],
      "text/plain": [
       "<IPython.core.display.HTML object>"
      ]
     },
     "metadata": {},
     "output_type": "execute_result"
    },
    {
     "data": {
      "text/html": [
       "<font face=\"Courier New\" size=2 color=\"green\"> &nbsp;&nbsp  etf_data_5a04d787a|(<ipython-input-3-fa54dc64d297>::78) &nbsp;&nbsp;&nbsp;&nbspmatching against pitrading took 1.55s ---- (done)</font>"
      ],
      "text/plain": [
       "<IPython.core.display.HTML object>"
      ]
     },
     "metadata": {},
     "output_type": "execute_result"
    },
    {
     "data": {
      "text/html": [
       "<font face=\"Courier New\" size=2 color=\"green\"> &nbsp;&nbsp etf_data_b44f30b18|(<ipython-input-3-fa54dc64d297>::39) &nbsp;&nbsp;&nbsp;&nbspReading kibot eod data ---- (starting) </font>"
      ],
      "text/plain": [
       "<IPython.core.display.HTML object>"
      ]
     },
     "metadata": {},
     "output_type": "execute_result"
    },
    {
     "data": {
      "text/html": [
       "<font face=\"Courier New\" size=2 color=\"green\"> &nbsp;&nbsp  etf_data_b44f30b18|(<ipython-input-3-fa54dc64d297>::39) &nbsp;&nbsp;&nbsp;&nbspReading kibot eod data took 0.02s ---- (done)</font>"
      ],
      "text/plain": [
       "<IPython.core.display.HTML object>"
      ]
     },
     "metadata": {},
     "output_type": "execute_result"
    },
    {
     "data": {
      "text/html": [
       "<font face=\"Courier New\" size=2 color=\"green\"> &nbsp;&nbsp etf_data_b44f30b18|(<ipython-input-3-fa54dc64d297>::46) &nbsp;&nbsp;&nbsp;&nbspReading kibot 5min data ---- (starting) </font>"
      ],
      "text/plain": [
       "<IPython.core.display.HTML object>"
      ]
     },
     "metadata": {},
     "output_type": "execute_result"
    },
    {
     "data": {
      "text/html": [
       "<font face=\"Courier New\" size=2 color=\"green\"> &nbsp;&nbsp  etf_data_b44f30b18|(<ipython-input-3-fa54dc64d297>::46) &nbsp;&nbsp;&nbsp;&nbspReading kibot 5min data took 0.83s ---- (done)</font>"
      ],
      "text/plain": [
       "<IPython.core.display.HTML object>"
      ]
     },
     "metadata": {},
     "output_type": "execute_result"
    },
    {
     "data": {
      "text/html": [
       "<font face=\"Courier New\" size=2 color=\"green\"> &nbsp;&nbsp etf_data_b44f30b18|(<ipython-input-3-fa54dc64d297>::53) &nbsp;&nbsp;&nbsp;&nbspReading polygon data ---- (starting) </font>"
      ],
      "text/plain": [
       "<IPython.core.display.HTML object>"
      ]
     },
     "metadata": {},
     "output_type": "execute_result"
    },
    {
     "data": {
      "text/html": [
       "<font face=\"Courier New\" size=2 color=\"green\"> &nbsp;&nbsp  etf_data_b44f30b18|(<ipython-input-3-fa54dc64d297>::53) &nbsp;&nbsp;&nbsp;&nbspReading polygon data took 0.07s ---- (done)</font>"
      ],
      "text/plain": [
       "<IPython.core.display.HTML object>"
      ]
     },
     "metadata": {},
     "output_type": "execute_result"
    },
    {
     "data": {
      "text/html": [
       "<font face=\"Courier New\" size=2 color=\"green\"> &nbsp;&nbsp etf_data_b44f30b18|(<ipython-input-3-fa54dc64d297>::63) &nbsp;&nbsp;&nbsp;&nbspReading pi data ---- (starting) </font>"
      ],
      "text/plain": [
       "<IPython.core.display.HTML object>"
      ]
     },
     "metadata": {},
     "output_type": "execute_result"
    },
    {
     "data": {
      "text/html": [
       "<font face=\"Courier New\" size=2 color=\"green\"> &nbsp;&nbsp  etf_data_b44f30b18|(<ipython-input-3-fa54dc64d297>::63) &nbsp;&nbsp;&nbsp;&nbspReading pi data took 4.06s ---- (done)</font>"
      ],
      "text/plain": [
       "<IPython.core.display.HTML object>"
      ]
     },
     "metadata": {},
     "output_type": "execute_result"
    },
    {
     "data": {
      "text/html": [
       "<font face=\"Courier New\" size=2 color=\"green\"> &nbsp;&nbsp etf_data_b44f30b18|(<ipython-input-3-fa54dc64d297>::73) &nbsp;&nbsp;&nbsp;&nbspmatching against polygon ---- (starting) </font>"
      ],
      "text/plain": [
       "<IPython.core.display.HTML object>"
      ]
     },
     "metadata": {},
     "output_type": "execute_result"
    },
    {
     "data": {
      "text/html": [
       "<font face=\"Courier New\" size=2 color=\"green\"> &nbsp;&nbsp  etf_data_b44f30b18|(<ipython-input-3-fa54dc64d297>::73) &nbsp;&nbsp;&nbsp;&nbspmatching against polygon took 0.02s ---- (done)</font>"
      ],
      "text/plain": [
       "<IPython.core.display.HTML object>"
      ]
     },
     "metadata": {},
     "output_type": "execute_result"
    },
    {
     "data": {
      "text/html": [
       "<font face=\"Courier New\" size=2 color=\"green\"> &nbsp;&nbsp etf_data_b44f30b18|(<ipython-input-3-fa54dc64d297>::78) &nbsp;&nbsp;&nbsp;&nbspmatching against pitrading ---- (starting) </font>"
      ],
      "text/plain": [
       "<IPython.core.display.HTML object>"
      ]
     },
     "metadata": {},
     "output_type": "execute_result"
    },
    {
     "data": {
      "text/html": [
       "<font face=\"Courier New\" size=2 color=\"green\"> &nbsp;&nbsp  etf_data_b44f30b18|(<ipython-input-3-fa54dc64d297>::78) &nbsp;&nbsp;&nbsp;&nbspmatching against pitrading took 1.64s ---- (done)</font>"
      ],
      "text/plain": [
       "<IPython.core.display.HTML object>"
      ]
     },
     "metadata": {},
     "output_type": "execute_result"
    },
    {
     "data": {
      "text/html": [
       "<font face=\"Courier New\" size=2 color=\"green\"> &nbsp;&nbsp etf_data_cb121696e|(<ipython-input-3-fa54dc64d297>::39) &nbsp;&nbsp;&nbsp;&nbspReading kibot eod data ---- (starting) </font>"
      ],
      "text/plain": [
       "<IPython.core.display.HTML object>"
      ]
     },
     "metadata": {},
     "output_type": "execute_result"
    },
    {
     "data": {
      "text/html": [
       "<font face=\"Courier New\" size=2 color=\"green\"> &nbsp;&nbsp  etf_data_cb121696e|(<ipython-input-3-fa54dc64d297>::39) &nbsp;&nbsp;&nbsp;&nbspReading kibot eod data took 0.02s ---- (done)</font>"
      ],
      "text/plain": [
       "<IPython.core.display.HTML object>"
      ]
     },
     "metadata": {},
     "output_type": "execute_result"
    },
    {
     "data": {
      "text/html": [
       "<font face=\"Courier New\" size=2 color=\"green\"> &nbsp;&nbsp etf_data_cb121696e|(<ipython-input-3-fa54dc64d297>::46) &nbsp;&nbsp;&nbsp;&nbspReading kibot 5min data ---- (starting) </font>"
      ],
      "text/plain": [
       "<IPython.core.display.HTML object>"
      ]
     },
     "metadata": {},
     "output_type": "execute_result"
    },
    {
     "data": {
      "text/html": [
       "<font face=\"Courier New\" size=2 color=\"green\"> &nbsp;&nbsp  etf_data_cb121696e|(<ipython-input-3-fa54dc64d297>::46) &nbsp;&nbsp;&nbsp;&nbspReading kibot 5min data took 0.61s ---- (done)</font>"
      ],
      "text/plain": [
       "<IPython.core.display.HTML object>"
      ]
     },
     "metadata": {},
     "output_type": "execute_result"
    },
    {
     "data": {
      "text/html": [
       "<font face=\"Courier New\" size=2 color=\"green\"> &nbsp;&nbsp etf_data_cb121696e|(<ipython-input-3-fa54dc64d297>::53) &nbsp;&nbsp;&nbsp;&nbspReading polygon data ---- (starting) </font>"
      ],
      "text/plain": [
       "<IPython.core.display.HTML object>"
      ]
     },
     "metadata": {},
     "output_type": "execute_result"
    },
    {
     "data": {
      "text/html": [
       "<font face=\"Courier New\" size=2 color=\"green\"> &nbsp;&nbsp  etf_data_cb121696e|(<ipython-input-3-fa54dc64d297>::53) &nbsp;&nbsp;&nbsp;&nbspReading polygon data took 0.07s ---- (done)</font>"
      ],
      "text/plain": [
       "<IPython.core.display.HTML object>"
      ]
     },
     "metadata": {},
     "output_type": "execute_result"
    },
    {
     "data": {
      "text/html": [
       "<font face=\"Courier New\" size=2 color=\"green\"> &nbsp;&nbsp etf_data_cb121696e|(<ipython-input-3-fa54dc64d297>::73) &nbsp;&nbsp;&nbsp;&nbspmatching against polygon ---- (starting) </font>"
      ],
      "text/plain": [
       "<IPython.core.display.HTML object>"
      ]
     },
     "metadata": {},
     "output_type": "execute_result"
    },
    {
     "data": {
      "text/html": [
       "<font face=\"Courier New\" size=2 color=\"green\"> &nbsp;&nbsp  etf_data_cb121696e|(<ipython-input-3-fa54dc64d297>::73) &nbsp;&nbsp;&nbsp;&nbspmatching against polygon took 0.02s ---- (done)</font>"
      ],
      "text/plain": [
       "<IPython.core.display.HTML object>"
      ]
     },
     "metadata": {},
     "output_type": "execute_result"
    },
    {
     "data": {
      "text/html": [
       "<font face=\"Courier New\" size=2 color=\"green\"> &nbsp;&nbsp etf_data_3285b2e7c|(<ipython-input-3-fa54dc64d297>::39) &nbsp;&nbsp;&nbsp;&nbspReading kibot eod data ---- (starting) </font>"
      ],
      "text/plain": [
       "<IPython.core.display.HTML object>"
      ]
     },
     "metadata": {},
     "output_type": "execute_result"
    },
    {
     "data": {
      "text/html": [
       "<font face=\"Courier New\" size=2 color=\"green\"> &nbsp;&nbsp  etf_data_3285b2e7c|(<ipython-input-3-fa54dc64d297>::39) &nbsp;&nbsp;&nbsp;&nbspReading kibot eod data took 0.02s ---- (done)</font>"
      ],
      "text/plain": [
       "<IPython.core.display.HTML object>"
      ]
     },
     "metadata": {},
     "output_type": "execute_result"
    },
    {
     "data": {
      "text/html": [
       "<font face=\"Courier New\" size=2 color=\"green\"> &nbsp;&nbsp etf_data_3285b2e7c|(<ipython-input-3-fa54dc64d297>::46) &nbsp;&nbsp;&nbsp;&nbspReading kibot 5min data ---- (starting) </font>"
      ],
      "text/plain": [
       "<IPython.core.display.HTML object>"
      ]
     },
     "metadata": {},
     "output_type": "execute_result"
    },
    {
     "data": {
      "text/html": [
       "<font face=\"Courier New\" size=2 color=\"green\"> &nbsp;&nbsp  etf_data_3285b2e7c|(<ipython-input-3-fa54dc64d297>::46) &nbsp;&nbsp;&nbsp;&nbspReading kibot 5min data took 0.71s ---- (done)</font>"
      ],
      "text/plain": [
       "<IPython.core.display.HTML object>"
      ]
     },
     "metadata": {},
     "output_type": "execute_result"
    },
    {
     "data": {
      "text/html": [
       "<font face=\"Courier New\" size=2 color=\"green\"> &nbsp;&nbsp etf_data_3285b2e7c|(<ipython-input-3-fa54dc64d297>::53) &nbsp;&nbsp;&nbsp;&nbspReading polygon data ---- (starting) </font>"
      ],
      "text/plain": [
       "<IPython.core.display.HTML object>"
      ]
     },
     "metadata": {},
     "output_type": "execute_result"
    },
    {
     "data": {
      "text/html": [
       "<font face=\"Courier New\" size=2 color=\"green\"> &nbsp;&nbsp  etf_data_3285b2e7c|(<ipython-input-3-fa54dc64d297>::53) &nbsp;&nbsp;&nbsp;&nbspReading polygon data took 0.07s ---- (done)</font>"
      ],
      "text/plain": [
       "<IPython.core.display.HTML object>"
      ]
     },
     "metadata": {},
     "output_type": "execute_result"
    },
    {
     "data": {
      "text/html": [
       "<font face=\"Courier New\" size=2 color=\"green\"> &nbsp;&nbsp etf_data_3285b2e7c|(<ipython-input-3-fa54dc64d297>::73) &nbsp;&nbsp;&nbsp;&nbspmatching against polygon ---- (starting) </font>"
      ],
      "text/plain": [
       "<IPython.core.display.HTML object>"
      ]
     },
     "metadata": {},
     "output_type": "execute_result"
    },
    {
     "data": {
      "text/html": [
       "<font face=\"Courier New\" size=2 color=\"green\"> &nbsp;&nbsp  etf_data_3285b2e7c|(<ipython-input-3-fa54dc64d297>::73) &nbsp;&nbsp;&nbsp;&nbspmatching against polygon took 0.02s ---- (done)</font>"
      ],
      "text/plain": [
       "<IPython.core.display.HTML object>"
      ]
     },
     "metadata": {},
     "output_type": "execute_result"
    },
    {
     "data": {
      "text/html": [
       "<font face=\"Courier New\" size=2 color=\"green\"> &nbsp;&nbsp etf_data_426a5a4cd|(<ipython-input-3-fa54dc64d297>::39) &nbsp;&nbsp;&nbsp;&nbspReading kibot eod data ---- (starting) </font>"
      ],
      "text/plain": [
       "<IPython.core.display.HTML object>"
      ]
     },
     "metadata": {},
     "output_type": "execute_result"
    },
    {
     "data": {
      "text/html": [
       "<font face=\"Courier New\" size=2 color=\"green\"> &nbsp;&nbsp  etf_data_426a5a4cd|(<ipython-input-3-fa54dc64d297>::39) &nbsp;&nbsp;&nbsp;&nbspReading kibot eod data took 0.02s ---- (done)</font>"
      ],
      "text/plain": [
       "<IPython.core.display.HTML object>"
      ]
     },
     "metadata": {},
     "output_type": "execute_result"
    },
    {
     "data": {
      "text/html": [
       "<font face=\"Courier New\" size=2 color=\"green\"> &nbsp;&nbsp etf_data_426a5a4cd|(<ipython-input-3-fa54dc64d297>::46) &nbsp;&nbsp;&nbsp;&nbspReading kibot 5min data ---- (starting) </font>"
      ],
      "text/plain": [
       "<IPython.core.display.HTML object>"
      ]
     },
     "metadata": {},
     "output_type": "execute_result"
    },
    {
     "data": {
      "text/html": [
       "<font face=\"Courier New\" size=2 color=\"green\"> &nbsp;&nbsp  etf_data_426a5a4cd|(<ipython-input-3-fa54dc64d297>::46) &nbsp;&nbsp;&nbsp;&nbspReading kibot 5min data took 0.66s ---- (done)</font>"
      ],
      "text/plain": [
       "<IPython.core.display.HTML object>"
      ]
     },
     "metadata": {},
     "output_type": "execute_result"
    },
    {
     "data": {
      "text/html": [
       "<font face=\"Courier New\" size=2 color=\"green\"> &nbsp;&nbsp etf_data_426a5a4cd|(<ipython-input-3-fa54dc64d297>::53) &nbsp;&nbsp;&nbsp;&nbspReading polygon data ---- (starting) </font>"
      ],
      "text/plain": [
       "<IPython.core.display.HTML object>"
      ]
     },
     "metadata": {},
     "output_type": "execute_result"
    },
    {
     "data": {
      "text/html": [
       "<font face=\"Courier New\" size=2 color=\"green\"> &nbsp;&nbsp  etf_data_426a5a4cd|(<ipython-input-3-fa54dc64d297>::53) &nbsp;&nbsp;&nbsp;&nbspReading polygon data took 0.07s ---- (done)</font>"
      ],
      "text/plain": [
       "<IPython.core.display.HTML object>"
      ]
     },
     "metadata": {},
     "output_type": "execute_result"
    },
    {
     "data": {
      "text/html": [
       "<font face=\"Courier New\" size=2 color=\"green\"> &nbsp;&nbsp etf_data_426a5a4cd|(<ipython-input-3-fa54dc64d297>::73) &nbsp;&nbsp;&nbsp;&nbspmatching against polygon ---- (starting) </font>"
      ],
      "text/plain": [
       "<IPython.core.display.HTML object>"
      ]
     },
     "metadata": {},
     "output_type": "execute_result"
    },
    {
     "data": {
      "text/html": [
       "<font face=\"Courier New\" size=2 color=\"green\"> &nbsp;&nbsp  etf_data_426a5a4cd|(<ipython-input-3-fa54dc64d297>::73) &nbsp;&nbsp;&nbsp;&nbspmatching against polygon took 0.02s ---- (done)</font>"
      ],
      "text/plain": [
       "<IPython.core.display.HTML object>"
      ]
     },
     "metadata": {},
     "output_type": "execute_result"
    },
    {
     "data": {
      "text/html": [
       "<font face=\"Courier New\" size=2 color=\"green\"> &nbsp;&nbsp etf_data_9ba1fe037|(<ipython-input-3-fa54dc64d297>::39) &nbsp;&nbsp;&nbsp;&nbspReading kibot eod data ---- (starting) </font>"
      ],
      "text/plain": [
       "<IPython.core.display.HTML object>"
      ]
     },
     "metadata": {},
     "output_type": "execute_result"
    },
    {
     "data": {
      "text/html": [
       "<font face=\"Courier New\" size=2 color=\"green\"> &nbsp;&nbsp  etf_data_9ba1fe037|(<ipython-input-3-fa54dc64d297>::39) &nbsp;&nbsp;&nbsp;&nbspReading kibot eod data took 0.02s ---- (done)</font>"
      ],
      "text/plain": [
       "<IPython.core.display.HTML object>"
      ]
     },
     "metadata": {},
     "output_type": "execute_result"
    },
    {
     "data": {
      "text/html": [
       "<font face=\"Courier New\" size=2 color=\"green\"> &nbsp;&nbsp etf_data_9ba1fe037|(<ipython-input-3-fa54dc64d297>::46) &nbsp;&nbsp;&nbsp;&nbspReading kibot 5min data ---- (starting) </font>"
      ],
      "text/plain": [
       "<IPython.core.display.HTML object>"
      ]
     },
     "metadata": {},
     "output_type": "execute_result"
    },
    {
     "data": {
      "text/html": [
       "<font face=\"Courier New\" size=2 color=\"green\"> &nbsp;&nbsp  etf_data_9ba1fe037|(<ipython-input-3-fa54dc64d297>::46) &nbsp;&nbsp;&nbsp;&nbspReading kibot 5min data took 0.66s ---- (done)</font>"
      ],
      "text/plain": [
       "<IPython.core.display.HTML object>"
      ]
     },
     "metadata": {},
     "output_type": "execute_result"
    },
    {
     "data": {
      "text/html": [
       "<font face=\"Courier New\" size=2 color=\"green\"> &nbsp;&nbsp etf_data_9ba1fe037|(<ipython-input-3-fa54dc64d297>::53) &nbsp;&nbsp;&nbsp;&nbspReading polygon data ---- (starting) </font>"
      ],
      "text/plain": [
       "<IPython.core.display.HTML object>"
      ]
     },
     "metadata": {},
     "output_type": "execute_result"
    },
    {
     "data": {
      "text/html": [
       "<font face=\"Courier New\" size=2 color=\"green\"> &nbsp;&nbsp  etf_data_9ba1fe037|(<ipython-input-3-fa54dc64d297>::53) &nbsp;&nbsp;&nbsp;&nbspReading polygon data took 0.07s ---- (done)</font>"
      ],
      "text/plain": [
       "<IPython.core.display.HTML object>"
      ]
     },
     "metadata": {},
     "output_type": "execute_result"
    },
    {
     "data": {
      "text/html": [
       "<font face=\"Courier New\" size=2 color=\"green\"> &nbsp;&nbsp etf_data_9ba1fe037|(<ipython-input-3-fa54dc64d297>::63) &nbsp;&nbsp;&nbsp;&nbspReading pi data ---- (starting) </font>"
      ],
      "text/plain": [
       "<IPython.core.display.HTML object>"
      ]
     },
     "metadata": {},
     "output_type": "execute_result"
    },
    {
     "data": {
      "text/html": [
       "<font face=\"Courier New\" size=2 color=\"green\"> &nbsp;&nbsp  etf_data_9ba1fe037|(<ipython-input-3-fa54dc64d297>::63) &nbsp;&nbsp;&nbsp;&nbspReading pi data took 3.76s ---- (done)</font>"
      ],
      "text/plain": [
       "<IPython.core.display.HTML object>"
      ]
     },
     "metadata": {},
     "output_type": "execute_result"
    },
    {
     "data": {
      "text/html": [
       "<font face=\"Courier New\" size=2 color=\"green\"> &nbsp;&nbsp etf_data_9ba1fe037|(<ipython-input-3-fa54dc64d297>::73) &nbsp;&nbsp;&nbsp;&nbspmatching against polygon ---- (starting) </font>"
      ],
      "text/plain": [
       "<IPython.core.display.HTML object>"
      ]
     },
     "metadata": {},
     "output_type": "execute_result"
    },
    {
     "data": {
      "text/html": [
       "<font face=\"Courier New\" size=2 color=\"green\"> &nbsp;&nbsp  etf_data_9ba1fe037|(<ipython-input-3-fa54dc64d297>::73) &nbsp;&nbsp;&nbsp;&nbspmatching against polygon took 0.03s ---- (done)</font>"
      ],
      "text/plain": [
       "<IPython.core.display.HTML object>"
      ]
     },
     "metadata": {},
     "output_type": "execute_result"
    },
    {
     "data": {
      "text/html": [
       "<font face=\"Courier New\" size=2 color=\"green\"> &nbsp;&nbsp etf_data_9ba1fe037|(<ipython-input-3-fa54dc64d297>::78) &nbsp;&nbsp;&nbsp;&nbspmatching against pitrading ---- (starting) </font>"
      ],
      "text/plain": [
       "<IPython.core.display.HTML object>"
      ]
     },
     "metadata": {},
     "output_type": "execute_result"
    },
    {
     "data": {
      "text/html": [
       "<font face=\"Courier New\" size=2 color=\"green\"> &nbsp;&nbsp  etf_data_9ba1fe037|(<ipython-input-3-fa54dc64d297>::78) &nbsp;&nbsp;&nbsp;&nbspmatching against pitrading took 1.45s ---- (done)</font>"
      ],
      "text/plain": [
       "<IPython.core.display.HTML object>"
      ]
     },
     "metadata": {},
     "output_type": "execute_result"
    },
    {
     "data": {
      "text/html": [
       "<font face=\"Courier New\" size=2 color=\"green\"> &nbsp;&nbsp etf_data_e3466ab3e|(<ipython-input-3-fa54dc64d297>::39) &nbsp;&nbsp;&nbsp;&nbspReading kibot eod data ---- (starting) </font>"
      ],
      "text/plain": [
       "<IPython.core.display.HTML object>"
      ]
     },
     "metadata": {},
     "output_type": "execute_result"
    },
    {
     "data": {
      "text/html": [
       "<font face=\"Courier New\" size=2 color=\"green\"> &nbsp;&nbsp  etf_data_e3466ab3e|(<ipython-input-3-fa54dc64d297>::39) &nbsp;&nbsp;&nbsp;&nbspReading kibot eod data took 0.02s ---- (done)</font>"
      ],
      "text/plain": [
       "<IPython.core.display.HTML object>"
      ]
     },
     "metadata": {},
     "output_type": "execute_result"
    },
    {
     "data": {
      "text/html": [
       "<font face=\"Courier New\" size=2 color=\"green\"> &nbsp;&nbsp etf_data_e3466ab3e|(<ipython-input-3-fa54dc64d297>::46) &nbsp;&nbsp;&nbsp;&nbspReading kibot 5min data ---- (starting) </font>"
      ],
      "text/plain": [
       "<IPython.core.display.HTML object>"
      ]
     },
     "metadata": {},
     "output_type": "execute_result"
    },
    {
     "data": {
      "text/html": [
       "<font face=\"Courier New\" size=2 color=\"green\"> &nbsp;&nbsp  etf_data_e3466ab3e|(<ipython-input-3-fa54dc64d297>::46) &nbsp;&nbsp;&nbsp;&nbspReading kibot 5min data took 0.60s ---- (done)</font>"
      ],
      "text/plain": [
       "<IPython.core.display.HTML object>"
      ]
     },
     "metadata": {},
     "output_type": "execute_result"
    },
    {
     "data": {
      "text/html": [
       "<font face=\"Courier New\" size=2 color=\"green\"> &nbsp;&nbsp etf_data_e3466ab3e|(<ipython-input-3-fa54dc64d297>::53) &nbsp;&nbsp;&nbsp;&nbspReading polygon data ---- (starting) </font>"
      ],
      "text/plain": [
       "<IPython.core.display.HTML object>"
      ]
     },
     "metadata": {},
     "output_type": "execute_result"
    },
    {
     "data": {
      "text/html": [
       "<font face=\"Courier New\" size=2 color=\"green\"> &nbsp;&nbsp  etf_data_e3466ab3e|(<ipython-input-3-fa54dc64d297>::53) &nbsp;&nbsp;&nbsp;&nbspReading polygon data took 0.07s ---- (done)</font>"
      ],
      "text/plain": [
       "<IPython.core.display.HTML object>"
      ]
     },
     "metadata": {},
     "output_type": "execute_result"
    },
    {
     "data": {
      "text/html": [
       "<font face=\"Courier New\" size=2 color=\"green\"> &nbsp;&nbsp etf_data_e3466ab3e|(<ipython-input-3-fa54dc64d297>::63) &nbsp;&nbsp;&nbsp;&nbspReading pi data ---- (starting) </font>"
      ],
      "text/plain": [
       "<IPython.core.display.HTML object>"
      ]
     },
     "metadata": {},
     "output_type": "execute_result"
    },
    {
     "data": {
      "text/html": [
       "<font face=\"Courier New\" size=2 color=\"green\"> &nbsp;&nbsp  etf_data_e3466ab3e|(<ipython-input-3-fa54dc64d297>::63) &nbsp;&nbsp;&nbsp;&nbspReading pi data took 3.55s ---- (done)</font>"
      ],
      "text/plain": [
       "<IPython.core.display.HTML object>"
      ]
     },
     "metadata": {},
     "output_type": "execute_result"
    },
    {
     "data": {
      "text/html": [
       "<font face=\"Courier New\" size=2 color=\"green\"> &nbsp;&nbsp etf_data_e3466ab3e|(<ipython-input-3-fa54dc64d297>::73) &nbsp;&nbsp;&nbsp;&nbspmatching against polygon ---- (starting) </font>"
      ],
      "text/plain": [
       "<IPython.core.display.HTML object>"
      ]
     },
     "metadata": {},
     "output_type": "execute_result"
    },
    {
     "data": {
      "text/html": [
       "<font face=\"Courier New\" size=2 color=\"green\"> &nbsp;&nbsp  etf_data_e3466ab3e|(<ipython-input-3-fa54dc64d297>::73) &nbsp;&nbsp;&nbsp;&nbspmatching against polygon took 0.02s ---- (done)</font>"
      ],
      "text/plain": [
       "<IPython.core.display.HTML object>"
      ]
     },
     "metadata": {},
     "output_type": "execute_result"
    },
    {
     "data": {
      "text/html": [
       "<font face=\"Courier New\" size=2 color=\"green\"> &nbsp;&nbsp etf_data_e3466ab3e|(<ipython-input-3-fa54dc64d297>::78) &nbsp;&nbsp;&nbsp;&nbspmatching against pitrading ---- (starting) </font>"
      ],
      "text/plain": [
       "<IPython.core.display.HTML object>"
      ]
     },
     "metadata": {},
     "output_type": "execute_result"
    },
    {
     "data": {
      "text/html": [
       "<font face=\"Courier New\" size=2 color=\"green\"> &nbsp;&nbsp  etf_data_e3466ab3e|(<ipython-input-3-fa54dc64d297>::78) &nbsp;&nbsp;&nbsp;&nbspmatching against pitrading took 1.31s ---- (done)</font>"
      ],
      "text/plain": [
       "<IPython.core.display.HTML object>"
      ]
     },
     "metadata": {},
     "output_type": "execute_result"
    },
    {
     "data": {
      "text/html": [
       "<font face=\"Courier New\" size=2 color=\"green\"> &nbsp;&nbsp etf_data_770dfc040|(<ipython-input-3-fa54dc64d297>::39) &nbsp;&nbsp;&nbsp;&nbspReading kibot eod data ---- (starting) </font>"
      ],
      "text/plain": [
       "<IPython.core.display.HTML object>"
      ]
     },
     "metadata": {},
     "output_type": "execute_result"
    },
    {
     "data": {
      "text/html": [
       "<font face=\"Courier New\" size=2 color=\"green\"> &nbsp;&nbsp  etf_data_770dfc040|(<ipython-input-3-fa54dc64d297>::39) &nbsp;&nbsp;&nbsp;&nbspReading kibot eod data took 0.02s ---- (done)</font>"
      ],
      "text/plain": [
       "<IPython.core.display.HTML object>"
      ]
     },
     "metadata": {},
     "output_type": "execute_result"
    },
    {
     "data": {
      "text/html": [
       "<font face=\"Courier New\" size=2 color=\"green\"> &nbsp;&nbsp etf_data_770dfc040|(<ipython-input-3-fa54dc64d297>::46) &nbsp;&nbsp;&nbsp;&nbspReading kibot 5min data ---- (starting) </font>"
      ],
      "text/plain": [
       "<IPython.core.display.HTML object>"
      ]
     },
     "metadata": {},
     "output_type": "execute_result"
    },
    {
     "data": {
      "text/html": [
       "<font face=\"Courier New\" size=2 color=\"green\"> &nbsp;&nbsp  etf_data_770dfc040|(<ipython-input-3-fa54dc64d297>::46) &nbsp;&nbsp;&nbsp;&nbspReading kibot 5min data took 0.61s ---- (done)</font>"
      ],
      "text/plain": [
       "<IPython.core.display.HTML object>"
      ]
     },
     "metadata": {},
     "output_type": "execute_result"
    },
    {
     "data": {
      "text/html": [
       "<font face=\"Courier New\" size=2 color=\"green\"> &nbsp;&nbsp etf_data_770dfc040|(<ipython-input-3-fa54dc64d297>::53) &nbsp;&nbsp;&nbsp;&nbspReading polygon data ---- (starting) </font>"
      ],
      "text/plain": [
       "<IPython.core.display.HTML object>"
      ]
     },
     "metadata": {},
     "output_type": "execute_result"
    },
    {
     "data": {
      "text/html": [
       "<font face=\"Courier New\" size=2 color=\"green\"> &nbsp;&nbsp  etf_data_770dfc040|(<ipython-input-3-fa54dc64d297>::53) &nbsp;&nbsp;&nbsp;&nbspReading polygon data took 0.07s ---- (done)</font>"
      ],
      "text/plain": [
       "<IPython.core.display.HTML object>"
      ]
     },
     "metadata": {},
     "output_type": "execute_result"
    },
    {
     "data": {
      "text/html": [
       "<font face=\"Courier New\" size=2 color=\"green\"> &nbsp;&nbsp etf_data_770dfc040|(<ipython-input-3-fa54dc64d297>::73) &nbsp;&nbsp;&nbsp;&nbspmatching against polygon ---- (starting) </font>"
      ],
      "text/plain": [
       "<IPython.core.display.HTML object>"
      ]
     },
     "metadata": {},
     "output_type": "execute_result"
    },
    {
     "data": {
      "text/html": [
       "<font face=\"Courier New\" size=2 color=\"green\"> &nbsp;&nbsp  etf_data_770dfc040|(<ipython-input-3-fa54dc64d297>::73) &nbsp;&nbsp;&nbsp;&nbspmatching against polygon took 0.02s ---- (done)</font>"
      ],
      "text/plain": [
       "<IPython.core.display.HTML object>"
      ]
     },
     "metadata": {},
     "output_type": "execute_result"
    },
    {
     "data": {
      "text/html": [
       "<font face=\"Courier New\" size=2 color=\"green\"> &nbsp;&nbsp etf_data_534b998d3|(<ipython-input-3-fa54dc64d297>::39) &nbsp;&nbsp;&nbsp;&nbspReading kibot eod data ---- (starting) </font>"
      ],
      "text/plain": [
       "<IPython.core.display.HTML object>"
      ]
     },
     "metadata": {},
     "output_type": "execute_result"
    },
    {
     "data": {
      "text/html": [
       "<font face=\"Courier New\" size=2 color=\"green\"> &nbsp;&nbsp  etf_data_534b998d3|(<ipython-input-3-fa54dc64d297>::39) &nbsp;&nbsp;&nbsp;&nbspReading kibot eod data took 0.02s ---- (done)</font>"
      ],
      "text/plain": [
       "<IPython.core.display.HTML object>"
      ]
     },
     "metadata": {},
     "output_type": "execute_result"
    },
    {
     "data": {
      "text/html": [
       "<font face=\"Courier New\" size=2 color=\"green\"> &nbsp;&nbsp etf_data_534b998d3|(<ipython-input-3-fa54dc64d297>::46) &nbsp;&nbsp;&nbsp;&nbspReading kibot 5min data ---- (starting) </font>"
      ],
      "text/plain": [
       "<IPython.core.display.HTML object>"
      ]
     },
     "metadata": {},
     "output_type": "execute_result"
    },
    {
     "data": {
      "text/html": [
       "<font face=\"Courier New\" size=2 color=\"green\"> &nbsp;&nbsp  etf_data_534b998d3|(<ipython-input-3-fa54dc64d297>::46) &nbsp;&nbsp;&nbsp;&nbspReading kibot 5min data took 0.47s ---- (done)</font>"
      ],
      "text/plain": [
       "<IPython.core.display.HTML object>"
      ]
     },
     "metadata": {},
     "output_type": "execute_result"
    },
    {
     "data": {
      "text/html": [
       "<font face=\"Courier New\" size=2 color=\"green\"> &nbsp;&nbsp etf_data_534b998d3|(<ipython-input-3-fa54dc64d297>::53) &nbsp;&nbsp;&nbsp;&nbspReading polygon data ---- (starting) </font>"
      ],
      "text/plain": [
       "<IPython.core.display.HTML object>"
      ]
     },
     "metadata": {},
     "output_type": "execute_result"
    },
    {
     "data": {
      "text/html": [
       "<font face=\"Courier New\" size=2 color=\"green\"> &nbsp;&nbsp  etf_data_534b998d3|(<ipython-input-3-fa54dc64d297>::53) &nbsp;&nbsp;&nbsp;&nbspReading polygon data took 0.07s ---- (done)</font>"
      ],
      "text/plain": [
       "<IPython.core.display.HTML object>"
      ]
     },
     "metadata": {},
     "output_type": "execute_result"
    },
    {
     "data": {
      "text/html": [
       "<font face=\"Courier New\" size=2 color=\"green\"> &nbsp;&nbsp etf_data_534b998d3|(<ipython-input-3-fa54dc64d297>::73) &nbsp;&nbsp;&nbsp;&nbspmatching against polygon ---- (starting) </font>"
      ],
      "text/plain": [
       "<IPython.core.display.HTML object>"
      ]
     },
     "metadata": {},
     "output_type": "execute_result"
    },
    {
     "data": {
      "text/html": [
       "<font face=\"Courier New\" size=2 color=\"green\"> &nbsp;&nbsp  etf_data_534b998d3|(<ipython-input-3-fa54dc64d297>::73) &nbsp;&nbsp;&nbsp;&nbspmatching against polygon took 0.02s ---- (done)</font>"
      ],
      "text/plain": [
       "<IPython.core.display.HTML object>"
      ]
     },
     "metadata": {},
     "output_type": "execute_result"
    },
    {
     "data": {
      "text/html": [
       "<font face=\"Courier New\" size=2 color=\"green\"> &nbsp;&nbsp etf_data_d77f73a32|(<ipython-input-3-fa54dc64d297>::39) &nbsp;&nbsp;&nbsp;&nbspReading kibot eod data ---- (starting) </font>"
      ],
      "text/plain": [
       "<IPython.core.display.HTML object>"
      ]
     },
     "metadata": {},
     "output_type": "execute_result"
    },
    {
     "data": {
      "text/html": [
       "<font face=\"Courier New\" size=2 color=\"green\"> &nbsp;&nbsp  etf_data_d77f73a32|(<ipython-input-3-fa54dc64d297>::39) &nbsp;&nbsp;&nbsp;&nbspReading kibot eod data took 0.02s ---- (done)</font>"
      ],
      "text/plain": [
       "<IPython.core.display.HTML object>"
      ]
     },
     "metadata": {},
     "output_type": "execute_result"
    },
    {
     "data": {
      "text/html": [
       "<font face=\"Courier New\" size=2 color=\"green\"> &nbsp;&nbsp etf_data_d77f73a32|(<ipython-input-3-fa54dc64d297>::46) &nbsp;&nbsp;&nbsp;&nbspReading kibot 5min data ---- (starting) </font>"
      ],
      "text/plain": [
       "<IPython.core.display.HTML object>"
      ]
     },
     "metadata": {},
     "output_type": "execute_result"
    },
    {
     "data": {
      "text/html": [
       "<font face=\"Courier New\" size=2 color=\"green\"> &nbsp;&nbsp  etf_data_d77f73a32|(<ipython-input-3-fa54dc64d297>::46) &nbsp;&nbsp;&nbsp;&nbspReading kibot 5min data took 0.48s ---- (done)</font>"
      ],
      "text/plain": [
       "<IPython.core.display.HTML object>"
      ]
     },
     "metadata": {},
     "output_type": "execute_result"
    },
    {
     "data": {
      "text/html": [
       "<font face=\"Courier New\" size=2 color=\"green\"> &nbsp;&nbsp etf_data_d77f73a32|(<ipython-input-3-fa54dc64d297>::53) &nbsp;&nbsp;&nbsp;&nbspReading polygon data ---- (starting) </font>"
      ],
      "text/plain": [
       "<IPython.core.display.HTML object>"
      ]
     },
     "metadata": {},
     "output_type": "execute_result"
    },
    {
     "data": {
      "text/html": [
       "<font face=\"Courier New\" size=2 color=\"green\"> &nbsp;&nbsp  etf_data_d77f73a32|(<ipython-input-3-fa54dc64d297>::53) &nbsp;&nbsp;&nbsp;&nbspReading polygon data took 0.07s ---- (done)</font>"
      ],
      "text/plain": [
       "<IPython.core.display.HTML object>"
      ]
     },
     "metadata": {},
     "output_type": "execute_result"
    },
    {
     "data": {
      "text/html": [
       "<font face=\"Courier New\" size=2 color=\"green\"> &nbsp;&nbsp etf_data_d77f73a32|(<ipython-input-3-fa54dc64d297>::73) &nbsp;&nbsp;&nbsp;&nbspmatching against polygon ---- (starting) </font>"
      ],
      "text/plain": [
       "<IPython.core.display.HTML object>"
      ]
     },
     "metadata": {},
     "output_type": "execute_result"
    },
    {
     "data": {
      "text/html": [
       "<font face=\"Courier New\" size=2 color=\"green\"> &nbsp;&nbsp  etf_data_d77f73a32|(<ipython-input-3-fa54dc64d297>::73) &nbsp;&nbsp;&nbsp;&nbspmatching against polygon took 0.02s ---- (done)</font>"
      ],
      "text/plain": [
       "<IPython.core.display.HTML object>"
      ]
     },
     "metadata": {},
     "output_type": "execute_result"
    },
    {
     "data": {
      "text/html": [
       "<font face=\"Courier New\" size=2 color=\"green\"> &nbsp;&nbsp etf_data_dda750334|(<ipython-input-3-fa54dc64d297>::39) &nbsp;&nbsp;&nbsp;&nbspReading kibot eod data ---- (starting) </font>"
      ],
      "text/plain": [
       "<IPython.core.display.HTML object>"
      ]
     },
     "metadata": {},
     "output_type": "execute_result"
    },
    {
     "data": {
      "text/html": [
       "<font face=\"Courier New\" size=2 color=\"green\"> &nbsp;&nbsp  etf_data_dda750334|(<ipython-input-3-fa54dc64d297>::39) &nbsp;&nbsp;&nbsp;&nbspReading kibot eod data took 0.02s ---- (done)</font>"
      ],
      "text/plain": [
       "<IPython.core.display.HTML object>"
      ]
     },
     "metadata": {},
     "output_type": "execute_result"
    },
    {
     "data": {
      "text/html": [
       "<font face=\"Courier New\" size=2 color=\"green\"> &nbsp;&nbsp etf_data_dda750334|(<ipython-input-3-fa54dc64d297>::46) &nbsp;&nbsp;&nbsp;&nbspReading kibot 5min data ---- (starting) </font>"
      ],
      "text/plain": [
       "<IPython.core.display.HTML object>"
      ]
     },
     "metadata": {},
     "output_type": "execute_result"
    },
    {
     "data": {
      "text/html": [
       "<font face=\"Courier New\" size=2 color=\"green\"> &nbsp;&nbsp  etf_data_dda750334|(<ipython-input-3-fa54dc64d297>::46) &nbsp;&nbsp;&nbsp;&nbspReading kibot 5min data took 0.46s ---- (done)</font>"
      ],
      "text/plain": [
       "<IPython.core.display.HTML object>"
      ]
     },
     "metadata": {},
     "output_type": "execute_result"
    },
    {
     "data": {
      "text/html": [
       "<font face=\"Courier New\" size=2 color=\"green\"> &nbsp;&nbsp etf_data_dda750334|(<ipython-input-3-fa54dc64d297>::53) &nbsp;&nbsp;&nbsp;&nbspReading polygon data ---- (starting) </font>"
      ],
      "text/plain": [
       "<IPython.core.display.HTML object>"
      ]
     },
     "metadata": {},
     "output_type": "execute_result"
    },
    {
     "data": {
      "text/html": [
       "<font face=\"Courier New\" size=2 color=\"green\"> &nbsp;&nbsp  etf_data_dda750334|(<ipython-input-3-fa54dc64d297>::53) &nbsp;&nbsp;&nbsp;&nbspReading polygon data took 0.07s ---- (done)</font>"
      ],
      "text/plain": [
       "<IPython.core.display.HTML object>"
      ]
     },
     "metadata": {},
     "output_type": "execute_result"
    },
    {
     "data": {
      "text/html": [
       "<font face=\"Courier New\" size=2 color=\"green\"> &nbsp;&nbsp etf_data_dda750334|(<ipython-input-3-fa54dc64d297>::73) &nbsp;&nbsp;&nbsp;&nbspmatching against polygon ---- (starting) </font>"
      ],
      "text/plain": [
       "<IPython.core.display.HTML object>"
      ]
     },
     "metadata": {},
     "output_type": "execute_result"
    },
    {
     "data": {
      "text/html": [
       "<font face=\"Courier New\" size=2 color=\"green\"> &nbsp;&nbsp  etf_data_dda750334|(<ipython-input-3-fa54dc64d297>::73) &nbsp;&nbsp;&nbsp;&nbspmatching against polygon took 0.02s ---- (done)</font>"
      ],
      "text/plain": [
       "<IPython.core.display.HTML object>"
      ]
     },
     "metadata": {},
     "output_type": "execute_result"
    },
    {
     "data": {
      "text/html": [
       "<font face=\"Courier New\" size=2 color=\"green\"> &nbsp;&nbsp etf_data_e667ddd4b|(<ipython-input-3-fa54dc64d297>::39) &nbsp;&nbsp;&nbsp;&nbspReading kibot eod data ---- (starting) </font>"
      ],
      "text/plain": [
       "<IPython.core.display.HTML object>"
      ]
     },
     "metadata": {},
     "output_type": "execute_result"
    },
    {
     "data": {
      "text/html": [
       "<font face=\"Courier New\" size=2 color=\"green\"> &nbsp;&nbsp  etf_data_e667ddd4b|(<ipython-input-3-fa54dc64d297>::39) &nbsp;&nbsp;&nbsp;&nbspReading kibot eod data took 0.01s ---- (done)</font>"
      ],
      "text/plain": [
       "<IPython.core.display.HTML object>"
      ]
     },
     "metadata": {},
     "output_type": "execute_result"
    },
    {
     "data": {
      "text/html": [
       "<font face=\"Courier New\" size=2 color=\"green\"> &nbsp;&nbsp etf_data_e667ddd4b|(<ipython-input-3-fa54dc64d297>::46) &nbsp;&nbsp;&nbsp;&nbspReading kibot 5min data ---- (starting) </font>"
      ],
      "text/plain": [
       "<IPython.core.display.HTML object>"
      ]
     },
     "metadata": {},
     "output_type": "execute_result"
    },
    {
     "data": {
      "text/html": [
       "<font face=\"Courier New\" size=2 color=\"green\"> &nbsp;&nbsp  etf_data_e667ddd4b|(<ipython-input-3-fa54dc64d297>::46) &nbsp;&nbsp;&nbsp;&nbspReading kibot 5min data took 0.25s ---- (done)</font>"
      ],
      "text/plain": [
       "<IPython.core.display.HTML object>"
      ]
     },
     "metadata": {},
     "output_type": "execute_result"
    },
    {
     "data": {
      "text/html": [
       "<font face=\"Courier New\" size=2 color=\"green\"> &nbsp;&nbsp etf_data_e667ddd4b|(<ipython-input-3-fa54dc64d297>::53) &nbsp;&nbsp;&nbsp;&nbspReading polygon data ---- (starting) </font>"
      ],
      "text/plain": [
       "<IPython.core.display.HTML object>"
      ]
     },
     "metadata": {},
     "output_type": "execute_result"
    },
    {
     "data": {
      "text/html": [
       "<font face=\"Courier New\" size=2 color=\"green\"> &nbsp;&nbsp  etf_data_e667ddd4b|(<ipython-input-3-fa54dc64d297>::53) &nbsp;&nbsp;&nbsp;&nbspReading polygon data took 0.07s ---- (done)</font>"
      ],
      "text/plain": [
       "<IPython.core.display.HTML object>"
      ]
     },
     "metadata": {},
     "output_type": "execute_result"
    },
    {
     "data": {
      "text/html": [
       "<font face=\"Courier New\" size=2 color=\"green\"> &nbsp;&nbsp etf_data_e667ddd4b|(<ipython-input-3-fa54dc64d297>::73) &nbsp;&nbsp;&nbsp;&nbspmatching against polygon ---- (starting) </font>"
      ],
      "text/plain": [
       "<IPython.core.display.HTML object>"
      ]
     },
     "metadata": {},
     "output_type": "execute_result"
    },
    {
     "data": {
      "text/html": [
       "<font face=\"Courier New\" size=2 color=\"green\"> &nbsp;&nbsp  etf_data_e667ddd4b|(<ipython-input-3-fa54dc64d297>::73) &nbsp;&nbsp;&nbsp;&nbspmatching against polygon took 0.01s ---- (done)</font>"
      ],
      "text/plain": [
       "<IPython.core.display.HTML object>"
      ]
     },
     "metadata": {},
     "output_type": "execute_result"
    },
    {
     "data": {
      "text/html": [
       "<font face=\"Courier New\" size=2 color=\"green\"> &nbsp;&nbsp etf_data_b4fea10ab|(<ipython-input-3-fa54dc64d297>::39) &nbsp;&nbsp;&nbsp;&nbspReading kibot eod data ---- (starting) </font>"
      ],
      "text/plain": [
       "<IPython.core.display.HTML object>"
      ]
     },
     "metadata": {},
     "output_type": "execute_result"
    },
    {
     "data": {
      "text/html": [
       "<font face=\"Courier New\" size=2 color=\"green\"> &nbsp;&nbsp  etf_data_b4fea10ab|(<ipython-input-3-fa54dc64d297>::39) &nbsp;&nbsp;&nbsp;&nbspReading kibot eod data took 0.01s ---- (done)</font>"
      ],
      "text/plain": [
       "<IPython.core.display.HTML object>"
      ]
     },
     "metadata": {},
     "output_type": "execute_result"
    },
    {
     "data": {
      "text/html": [
       "<font face=\"Courier New\" size=2 color=\"green\"> &nbsp;&nbsp etf_data_b4fea10ab|(<ipython-input-3-fa54dc64d297>::46) &nbsp;&nbsp;&nbsp;&nbspReading kibot 5min data ---- (starting) </font>"
      ],
      "text/plain": [
       "<IPython.core.display.HTML object>"
      ]
     },
     "metadata": {},
     "output_type": "execute_result"
    },
    {
     "data": {
      "text/html": [
       "<font face=\"Courier New\" size=2 color=\"green\"> &nbsp;&nbsp  etf_data_b4fea10ab|(<ipython-input-3-fa54dc64d297>::46) &nbsp;&nbsp;&nbsp;&nbspReading kibot 5min data took 0.32s ---- (done)</font>"
      ],
      "text/plain": [
       "<IPython.core.display.HTML object>"
      ]
     },
     "metadata": {},
     "output_type": "execute_result"
    },
    {
     "data": {
      "text/html": [
       "<font face=\"Courier New\" size=2 color=\"green\"> &nbsp;&nbsp etf_data_b4fea10ab|(<ipython-input-3-fa54dc64d297>::53) &nbsp;&nbsp;&nbsp;&nbspReading polygon data ---- (starting) </font>"
      ],
      "text/plain": [
       "<IPython.core.display.HTML object>"
      ]
     },
     "metadata": {},
     "output_type": "execute_result"
    },
    {
     "data": {
      "text/html": [
       "<font face=\"Courier New\" size=2 color=\"green\"> &nbsp;&nbsp  etf_data_b4fea10ab|(<ipython-input-3-fa54dc64d297>::53) &nbsp;&nbsp;&nbsp;&nbspReading polygon data took 0.07s ---- (done)</font>"
      ],
      "text/plain": [
       "<IPython.core.display.HTML object>"
      ]
     },
     "metadata": {},
     "output_type": "execute_result"
    },
    {
     "data": {
      "text/html": [
       "<font face=\"Courier New\" size=2 color=\"green\"> &nbsp;&nbsp etf_data_b4fea10ab|(<ipython-input-3-fa54dc64d297>::73) &nbsp;&nbsp;&nbsp;&nbspmatching against polygon ---- (starting) </font>"
      ],
      "text/plain": [
       "<IPython.core.display.HTML object>"
      ]
     },
     "metadata": {},
     "output_type": "execute_result"
    },
    {
     "data": {
      "text/html": [
       "<font face=\"Courier New\" size=2 color=\"green\"> &nbsp;&nbsp  etf_data_b4fea10ab|(<ipython-input-3-fa54dc64d297>::73) &nbsp;&nbsp;&nbsp;&nbspmatching against polygon took 0.01s ---- (done)</font>"
      ],
      "text/plain": [
       "<IPython.core.display.HTML object>"
      ]
     },
     "metadata": {},
     "output_type": "execute_result"
    },
    {
     "name": "stdout",
     "output_type": "stream",
     "text": [
      "\n"
     ]
    }
   ],
   "source": [
    "# load the kibot and pitrading data and compare against polygon\n",
    "########################################################################\n",
    "\n",
    "import json\n",
    "from madmax.base import operatorize as mxo; reload(mxo)\n",
    "\n",
    "# ETF metadata lists\n",
    "bond_etfs = pd.read_excel( HOMEDIR+'/data/all-etfs.xlsx', sheet_name='bond-etfs' )\n",
    "equity_etfs = pd.read_excel( HOMEDIR+'/data/all-etfs.xlsx', sheet_name='equity' )\n",
    "vol_etfs = pd.read_excel( HOMEDIR+'/data/all-etfs.xlsx', sheet_name='vol' )\n",
    "\n",
    "pidata_dir = os.path.join( HOMEDIR, 'data/pi/' )\n",
    "pidata_files = OrderedDict( [( f.replace('.csv',''), os.path.join( pidata_dir, f ) ) for f in  os.listdir( pidata_dir ) if re.fullmatch( '.*csv', f ) ] )\n",
    "\n",
    "kibot_eod_dir = os.path.join( HOMEDIR, 'data/kibot/etf_top200_eod_adj' )\n",
    "kibot_5min_dir = os.path.join( HOMEDIR, 'data/kibot/etf_top200_5min' )\n",
    "kibot_eod_files = OrderedDict( [( f.replace('\\xa0','').replace('.csv',''), os.path.join( kibot_eod_dir, f ) ) for f in  os.listdir( kibot_eod_dir ) if re.fullmatch( '.*csv', f ) ] )\n",
    "kibot_5min_files = OrderedDict( [( f.replace('\\xa0','').replace('.csv',''), os.path.join( kibot_5min_dir, f ) ) for f in  os.listdir( kibot_5min_dir ) if re.fullmatch( '.*csv', f ) ] )\n",
    "\n",
    "assert len( set(kibot_5min_files.keys()).difference( kibot_eod_files.keys() ) ) == len( set(kibot_eod_files.keys()).difference( kibot_5min_files.keys() ) ) == 0, 'ticker mismatch'\n",
    "\n",
    "    \n",
    "@mxo.operatorize( consumes_features=False, produces_meta=True, produces_features=False, memoize='d', uses_self=True )\n",
    "def etf_data( data, ticker, output='kibot_eod', self=None ):\n",
    "    '''\n",
    "    process one ticker from polygon, kibot and pitrading \n",
    "    data must be the polygon data operator !!\n",
    "    '''\n",
    "    assert output in ['kibot_5min', 'kibot_eod', 'polygon', 'pi'], 'bad output type'\n",
    "    # get metadata for the ticker\n",
    "    if ticker.startswith('INCOMPLETE'):\n",
    "        return None, { 'ticker':ticker }\n",
    "    ticker_meta = {'ETP Name':'Not Found',  'Asset Class':'Not Found'}\n",
    "    for etf_list in [bond_etfs, equity_etfs, vol_etfs]:\n",
    "        if ticker in etf_list.Symbol.values:\n",
    "            ticker_meta = etf_list[etf_list.Symbol==ticker].iloc[0].to_dict()\n",
    "            break\n",
    "    ticker_meta = dict( ticker=ticker, name=ticker_meta['ETP Name'], asset_class=ticker_meta['Asset Class'] )\n",
    "    with self.timer('Reading kibot eod data'):\n",
    "        kdf_eod = pd.read_csv( \n",
    "            kibot_eod_files[ticker], header=None, \n",
    "            names=['date', 'open', 'high', 'low', 'close', 'volume'] \n",
    "        ).assign( vendor='kibot_eod', **ticker_meta )    \n",
    "        kdf_eod['time'] = pd.to_datetime( kdf_eod.date, format='%m/%d/%Y' ) + pd.Timedelta( 16,'H')\n",
    "        kdf_eod['dollar_volume'] = kdf_eod['volume'] * kdf_eod['open']\n",
    "    with self.timer( 'Reading kibot 5min data'):\n",
    "        kdf_5min = pd.read_csv( \n",
    "            kibot_5min_files[ticker], header=None ,\n",
    "            names=['date', 'timedelta', 'open', 'high', 'low', 'close', 'volume'] \n",
    "        ).assign( vendor='kibot_5min', **ticker_meta )\n",
    "        kdf_5min['dollar_volume'] = kdf_5min['volume'] * kdf_5min['open']\n",
    "        kdf_5min['time'] = pd.to_datetime( kdf_5min.date, format='%m/%d/%Y' ) + pd.to_timedelta( kdf_5min.timedelta + ':00' )    \n",
    "    with self.timer( 'Reading polygon data'):\n",
    "        # polygon data\n",
    "        if ticker in data.index.levels[1]:\n",
    "            pdf = data.loc[ (slice(None), ticker), :]        \n",
    "            pdf['dollar_volume'] = pdf['volume'] * pdf['open']\n",
    "            pdf['vendor'] = 'polygon_eod'\n",
    "        else:\n",
    "            pdf = None\n",
    "    # pitrading data\n",
    "    if ticker in pidata_files:        \n",
    "        with self.timer( 'Reading pi data'):\n",
    "            pidf = pd.read_csv( pidata_files[ticker] ).assign( vendor='pi_1min', **ticker_meta )\n",
    "            pidf.columns = [c.lower() for c in pidf.columns]\n",
    "            pidf = pidf.rename( columns={'time':'timedelta'} )\n",
    "            pidf['time'] = (pd.to_datetime( pidf.date, format='%m/%d/%Y' ) \n",
    "                    + pd.to_timedelta( pidf.timedelta.map(lambda x: '{:02}:{:02}:00'.format( x//100, x%100 ) ) ) )\n",
    "            pidf['dollar_volume'] = pidf['volume'] * pidf['open']\n",
    "    else:\n",
    "        pidf = None    \n",
    "    if pdf is not None:\n",
    "        with self.timer('matching against polygon'):\n",
    "            jdf = kdf_eod.set_index( 'time' ).merge_ts( pdf.reset_index( level=1 ), suffixes=('_kibot', '_polygon'), how='inner')\n",
    "            ticker_meta['kibot_eod_vs_polygon'] = { col : jdf[f'{col}_kibot'].corr( jdf[f'{col}_polygon'])  \n",
    "                                                    for col in ['open','high', 'low', 'close', 'volume'] }\n",
    "    if pidf is not None:\n",
    "        with self.timer( 'matching against pitrading'):\n",
    "            jdf = kdf_5min.set_index('time').merge_ts( pidf.set_index('time'), how='left', suffixes=('_kibot', '_pi') )\n",
    "            ticker_meta['kibot_5min_vs_pi'] = { col : jdf[f'{col}_kibot'].corr( jdf[f'{col}_pi'])  for col in ['open','high', 'low', 'close', 'volume'] }\n",
    "    if output == 'kibot_5min':\n",
    "        return kdf_5min, ticker_meta\n",
    "    elif output == 'kibot_eod':\n",
    "        return kdf_eod, ticker_meta\n",
    "    elif output == 'polygon':    \n",
    "        return pdf, ticker_meta    \n",
    "    elif output == 'pi':\n",
    "        return pidf, ticker_meta\n",
    "    \n",
    "etf_ops = [etf_data( ticker=ticker, output='kibot_eod' ).set( verbose=True, data=chain[-1] ) for ticker in pbar( sorted( kibot_eod_files ) )]\n",
    "outs = ( [op( ) for op in pbar(etf_ops) ] )\n"
   ]
  },
  {
   "cell_type": "code",
   "execution_count": null,
   "metadata": {},
   "outputs": [],
   "source": [
    "etf_ops"
   ]
  }
 ],
 "metadata": {
  "kernelspec": {
   "display_name": "Python 3",
   "language": "python",
   "name": "python3"
  },
  "language_info": {
   "codemirror_mode": {
    "name": "ipython",
    "version": 3
   },
   "file_extension": ".py",
   "mimetype": "text/x-python",
   "name": "python",
   "nbconvert_exporter": "python",
   "pygments_lexer": "ipython3",
   "version": "3.8.3"
  }
 },
 "nbformat": 4,
 "nbformat_minor": 2
}
